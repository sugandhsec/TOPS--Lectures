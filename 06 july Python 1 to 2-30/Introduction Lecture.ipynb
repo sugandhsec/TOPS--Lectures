{
 "cells": [
  {
   "cell_type": "code",
   "execution_count": 1,
   "id": "8d579ffe",
   "metadata": {},
   "outputs": [
    {
     "name": "stdout",
     "output_type": "stream",
     "text": [
      "egertb\n"
     ]
    }
   ],
   "source": [
    "# developer screen\n",
    "print(\"egertb\")\n",
    "# User screen--Output Screen"
   ]
  },
  {
   "cell_type": "code",
   "execution_count": 5,
   "id": "60ee48e3",
   "metadata": {},
   "outputs": [
    {
     "name": "stdout",
     "output_type": "stream",
     "text": [
      "hbvjh hbvjh jhbjr\n",
      "rfkjvjnfjk njgnjrf\n"
     ]
    }
   ],
   "source": [
    "print(\"hbvjh hbvjh jhbjr\")\n",
    "print(\"rfkjvjnfjk njgnjrf\") #print Function"
   ]
  },
  {
   "cell_type": "code",
   "execution_count": 15,
   "id": "e984315d",
   "metadata": {},
   "outputs": [
    {
     "name": "stdout",
     "output_type": "stream",
     "text": [
      "Message\n"
     ]
    }
   ],
   "source": [
    "\"\"\"\n",
    "jhytjyt\n",
    "jytjytj\n",
    "ytj\n",
    "ytj\n",
    "ytjyt\n",
    "j\n",
    "ytj\n",
    "y\n",
    "\"\"\"\n",
    "# yjyj\n",
    "print(\"Message\")# this is print function\n",
    "# hjyjjyjy\n"
   ]
  },
  {
   "cell_type": "code",
   "execution_count": null,
   "id": "d24e0558",
   "metadata": {},
   "outputs": [],
   "source": [
    "comment\n",
    "#--hash\n",
    "\n",
    "twot ypes of comments\n",
    "1- single line comment     #\n",
    "2--multiline Comment  \"\"\"  \"\"\"  '''  '''"
   ]
  },
  {
   "cell_type": "code",
   "execution_count": 33,
   "id": "737d0dcd",
   "metadata": {},
   "outputs": [
    {
     "name": "stdout",
     "output_type": "stream",
     "text": [
      "GOOD fgrtg MORNING ALL\n",
      "hfjvh jerhbvb j\n",
      "fgvjfdv jkfnbkdjb\n",
      "fdghfdjk bfjkhbk\n"
     ]
    }
   ],
   "source": [
    "print(\"GOOD fgrtg MORNING ALL\")\n",
    "print('hfjvh jerhbvb j')\n",
    "print(\"\"\"fgvjfdv jkfnbkdjb\"\"\")\n",
    "print('''fdghfdjk bfjkhbk''')"
   ]
  },
  {
   "cell_type": "code",
   "execution_count": 22,
   "id": "82a25065",
   "metadata": {},
   "outputs": [
    {
     "name": "stdout",
     "output_type": "stream",
     "text": [
      "Hello I nnn am Good\n"
     ]
    }
   ],
   "source": [
    "# Escape Sequence --- \\(backslash)\n",
    "print(\"Hello I nnn am Good\")"
   ]
  },
  {
   "cell_type": "code",
   "execution_count": 27,
   "id": "f3ed16ad",
   "metadata": {},
   "outputs": [
    {
     "name": "stdout",
     "output_type": "stream",
     "text": [
      "fhvkjdh vbkd \n",
      " rbt hrt\n",
      "b jkhrtb\n"
     ]
    }
   ],
   "source": [
    "# \\n --new line character\n",
    "print(\"fhvkjdh vbkd \\n rbt hrt\\nb jkhrtb\")"
   ]
  },
  {
   "cell_type": "code",
   "execution_count": 29,
   "id": "3839eb1e",
   "metadata": {},
   "outputs": [
    {
     "name": "stdout",
     "output_type": "stream",
     "text": [
      "hello i am go\tod wh\tat abo\tut you!!!\n"
     ]
    }
   ],
   "source": [
    "# \\t ---Tab space --multiple spaces\n",
    "print(\"hello i am go\\tod wh\\tat abo\\tut you!!!\")"
   ]
  },
  {
   "cell_type": "code",
   "execution_count": 40,
   "id": "3218fb83",
   "metadata": {},
   "outputs": [
    {
     "name": "stdout",
     "output_type": "stream",
     "text": [
      "Hello I am Good \n",
      "Hell'o i\"m g'ood\n",
      "Hello I\"am G'ood \n"
     ]
    }
   ],
   "source": [
    "#\\\"---double quote\n",
    "# '---single quote\n",
    "#   Hello i\"m good\n",
    "print(\"Hello I am Good \")\n",
    "print(\"Hell'o i\\\"m g'ood\")\n",
    "print('Hello I\"am G\\'ood ')"
   ]
  },
  {
   "cell_type": "code",
   "execution_count": 44,
   "id": "89937882",
   "metadata": {},
   "outputs": [
    {
     "name": "stdout",
     "output_type": "stream",
     "text": [
      "Hello\b\b\n"
     ]
    }
   ],
   "source": [
    "# \\b--backspace\n",
    "print(\"Hello\\b\\b\")"
   ]
  },
  {
   "cell_type": "code",
   "execution_count": null,
   "id": "249c1823",
   "metadata": {},
   "outputs": [],
   "source": [
    "i am learning python\n",
    "it is very easy programming language\n",
    "This is in english"
   ]
  },
  {
   "cell_type": "code",
   "execution_count": 46,
   "id": "719cfbcc",
   "metadata": {},
   "outputs": [
    {
     "name": "stdout",
     "output_type": "stream",
     "text": [
      "i am learning python\n",
      "it is very easy programming language\n",
      "This is in english\n"
     ]
    }
   ],
   "source": [
    "print(\"i am learning python\")\n",
    "print(\"it is very easy programming language\")\n",
    "print(\"This is in english\")"
   ]
  },
  {
   "cell_type": "code",
   "execution_count": 48,
   "id": "11c4a76b",
   "metadata": {},
   "outputs": [
    {
     "name": "stdout",
     "output_type": "stream",
     "text": [
      "i am learning python\n",
      "it is very easy programming language\n",
      "This is in english\n",
      "\n"
     ]
    }
   ],
   "source": [
    "print(\"\"\"i am learning python\\nit is very easy programming language\\nThis is in english\n",
    "\"\"\")"
   ]
  },
  {
   "cell_type": "code",
   "execution_count": 53,
   "id": "cb1e8267",
   "metadata": {},
   "outputs": [
    {
     "name": "stdout",
     "output_type": "stream",
     "text": [
      "thr r tjk mjkbtb mrrthrtrt\n",
      "tbrtb erbnr njbf jub\n",
      "ngjkv jerbjkhgrt\n"
     ]
    }
   ],
   "source": [
    "print(\"thr r tjk mjkbtb mrrthrtrt\")\n",
    "print('''tbrtb erbnr njbf jub\n",
    "ngjkv jerbjkhgrt''')"
   ]
  },
  {
   "cell_type": "code",
   "execution_count": null,
   "id": "05aaff78",
   "metadata": {},
   "outputs": [],
   "source": [
    "# "
   ]
  }
 ],
 "metadata": {
  "kernelspec": {
   "display_name": "Python 3 (ipykernel)",
   "language": "python",
   "name": "python3"
  },
  "language_info": {
   "codemirror_mode": {
    "name": "ipython",
    "version": 3
   },
   "file_extension": ".py",
   "mimetype": "text/x-python",
   "name": "python",
   "nbconvert_exporter": "python",
   "pygments_lexer": "ipython3",
   "version": "3.9.12"
  }
 },
 "nbformat": 4,
 "nbformat_minor": 5
}
