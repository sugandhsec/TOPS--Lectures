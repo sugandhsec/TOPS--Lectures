{
 "cells": [
  {
   "cell_type": "code",
   "execution_count": 1,
   "id": "8d579ffe",
   "metadata": {},
   "outputs": [
    {
     "name": "stdout",
     "output_type": "stream",
     "text": [
      "egertb\n"
     ]
    }
   ],
   "source": [
    "# developer screen\n",
    "print(\"egertb\")\n",
    "# User screen--Output Screen"
   ]
  },
  {
   "cell_type": "code",
   "execution_count": 5,
   "id": "60ee48e3",
   "metadata": {},
   "outputs": [
    {
     "name": "stdout",
     "output_type": "stream",
     "text": [
      "hbvjh hbvjh jhbjr\n",
      "rfkjvjnfjk njgnjrf\n"
     ]
    }
   ],
   "source": [
    "print(\"hbvjh hbvjh jhbjr\")\n",
    "print(\"rfkjvjnfjk njgnjrf\") #print Function"
   ]
  },
  {
   "cell_type": "code",
   "execution_count": 15,
   "id": "e984315d",
   "metadata": {},
   "outputs": [
    {
     "name": "stdout",
     "output_type": "stream",
     "text": [
      "Message\n"
     ]
    }
   ],
   "source": [
    "\"\"\"\n",
    "jhytjyt\n",
    "jytjytj\n",
    "ytj\n",
    "ytj\n",
    "ytjyt\n",
    "j\n",
    "ytj\n",
    "y\n",
    "\"\"\"\n",
    "# yjyj\n",
    "print(\"Message\")# this is print function\n",
    "# hjyjjyjy\n"
   ]
  },
  {
   "cell_type": "code",
   "execution_count": null,
   "id": "d24e0558",
   "metadata": {},
   "outputs": [],
   "source": [
    "comment\n",
    "#--hash\n",
    "\n",
    "twot ypes of comments\n",
    "1- single line comment     #\n",
    "2--multiline Comment  \"\"\"  \"\"\"  '''  '''"
   ]
  },
  {
   "cell_type": "code",
   "execution_count": 33,
   "id": "737d0dcd",
   "metadata": {},
   "outputs": [
    {
     "name": "stdout",
     "output_type": "stream",
     "text": [
      "GOOD fgrtg MORNING ALL\n",
      "hfjvh jerhbvb j\n",
      "fgvjfdv jkfnbkdjb\n",
      "fdghfdjk bfjkhbk\n"
     ]
    }
   ],
   "source": [
    "print(\"GOOD fgrtg MORNING ALL\")\n",
    "print('hfjvh jerhbvb j')\n",
    "print(\"\"\"fgvjfdv jkfnbkdjb\"\"\")\n",
    "print('''fdghfdjk bfjkhbk''')"
   ]
  },
  {
   "cell_type": "code",
   "execution_count": 22,
   "id": "82a25065",
   "metadata": {},
   "outputs": [
    {
     "name": "stdout",
     "output_type": "stream",
     "text": [
      "Hello I nnn am Good\n"
     ]
    }
   ],
   "source": [
    "# Escape Sequence --- \\(backslash)\n",
    "print(\"Hello I nnn am Good\")"
   ]
  },
  {
   "cell_type": "code",
   "execution_count": 27,
   "id": "f3ed16ad",
   "metadata": {},
   "outputs": [
    {
     "name": "stdout",
     "output_type": "stream",
     "text": [
      "fhvkjdh vbkd \n",
      " rbt hrt\n",
      "b jkhrtb\n"
     ]
    }
   ],
   "source": [
    "# \\n --new line character\n",
    "print(\"fhvkjdh vbkd \\n rbt hrt\\nb jkhrtb\")"
   ]
  },
  {
   "cell_type": "code",
   "execution_count": 29,
   "id": "3839eb1e",
   "metadata": {},
   "outputs": [
    {
     "name": "stdout",
     "output_type": "stream",
     "text": [
      "hello i am go\tod wh\tat abo\tut you!!!\n"
     ]
    }
   ],
   "source": [
    "# \\t ---Tab space --multiple spaces\n",
    "print(\"hello i am go\\tod wh\\tat abo\\tut you!!!\")"
   ]
  },
  {
   "cell_type": "code",
   "execution_count": 40,
   "id": "3218fb83",
   "metadata": {},
   "outputs": [
    {
     "name": "stdout",
     "output_type": "stream",
     "text": [
      "Hello I am Good \n",
      "Hell'o i\"m g'ood\n",
      "Hello I\"am G'ood \n"
     ]
    }
   ],
   "source": [
    "#\\\"---double quote\n",
    "# '---single quote\n",
    "#   Hello i\"m good\n",
    "print(\"Hello I am Good \")\n",
    "print(\"Hell'o i\\\"m g'ood\")\n",
    "print('Hello I\"am G\\'ood ')"
   ]
  },
  {
   "cell_type": "code",
   "execution_count": 44,
   "id": "89937882",
   "metadata": {},
   "outputs": [
    {
     "name": "stdout",
     "output_type": "stream",
     "text": [
      "Hello\b\b\n"
     ]
    }
   ],
   "source": [
    "# \\b--backspace\n",
    "print(\"Hello\\b\\b\")"
   ]
  },
  {
   "cell_type": "code",
   "execution_count": null,
   "id": "249c1823",
   "metadata": {},
   "outputs": [],
   "source": [
    "i am learning python\n",
    "it is very easy programming language\n",
    "This is in english"
   ]
  },
  {
   "cell_type": "code",
   "execution_count": 46,
   "id": "719cfbcc",
   "metadata": {},
   "outputs": [
    {
     "name": "stdout",
     "output_type": "stream",
     "text": [
      "i am learning python\n",
      "it is very easy programming language\n",
      "This is in english\n"
     ]
    }
   ],
   "source": [
    "print(\"i am learning python\")\n",
    "print(\"it is very easy programming language\")\n",
    "print(\"This is in english\")"
   ]
  },
  {
   "cell_type": "code",
   "execution_count": 48,
   "id": "11c4a76b",
   "metadata": {},
   "outputs": [
    {
     "name": "stdout",
     "output_type": "stream",
     "text": [
      "i am learning python\n",
      "it is very easy programming language\n",
      "This is in english\n",
      "\n"
     ]
    }
   ],
   "source": [
    "print(\"\"\"i am learning python\\nit is very easy programming language\\nThis is in english\n",
    "\"\"\")"
   ]
  },
  {
   "cell_type": "code",
   "execution_count": 53,
   "id": "cb1e8267",
   "metadata": {},
   "outputs": [
    {
     "name": "stdout",
     "output_type": "stream",
     "text": [
      "thr r tjk mjkbtb mrrthrtrt\n",
      "tbrtb erbnr njbf jub\n",
      "ngjkv jerbjkhgrt\n"
     ]
    }
   ],
   "source": [
    "print(\"thr r tjk mjkbtb mrrthrtrt\")\n",
    "print('''tbrtb erbnr njbf jub\n",
    "ngjkv jerbjkhgrt''')"
   ]
  },
  {
   "cell_type": "code",
   "execution_count": 22,
   "id": "05aaff78",
   "metadata": {},
   "outputs": [
    {
     "data": {
      "text/plain": [
       "str"
      ]
     },
     "execution_count": 22,
     "metadata": {},
     "output_type": "execute_result"
    }
   ],
   "source": [
    "# Variables\n",
    "# variablename=value\n",
    "# age=48  rthrthrt 78thrth &ghbghb _fhgth Ajrhg rfgfrg Fgfr_654erf\n",
    "# full_name\n",
    "# variablename --yes\n",
    "# 2 rules\n",
    "\n",
    "# 1st character shwould be a-z(lowercase letter) A-Z(uppercase letter) _(underscore)\n",
    "# other character should be a-z(lowercase letter) A-Z(uppercase letter) _(underscore) 0-9(digits)\n",
    "\n",
    "# suggestion\n",
    "# 1--Try to create a logical name\n",
    "# 2---never use keyword as a name\n",
    "# nevers use space as its is not allowed use underscore instead\n",
    "# continue89\n",
    "# hello\n",
    "weight=\"jkfdhvbkjfdbk jkbkrj\"\n",
    "type(weight)\n",
    "fjuvhjrufhv=\"True\"\n",
    "type(fjuvhjrufhv)"
   ]
  },
  {
   "cell_type": "code",
   "execution_count": null,
   "id": "790530b5",
   "metadata": {},
   "outputs": [],
   "source": [
    "# Values\n",
    "datatype\n",
    "45 65 89 78 45 -8 9- 56 -89 integer---int\n",
    "45.23 -89.25 56.32 -89.32  float \n",
    "string '' \" \" \"\"\" \"\"\" ''' jrthiort''' str\n",
    "True False Boolean\n",
    "# complex 8+5i"
   ]
  },
  {
   "cell_type": "code",
   "execution_count": 6,
   "id": "ad46281b",
   "metadata": {},
   "outputs": [
    {
     "data": {
      "text/plain": [
       "True"
      ]
     },
     "execution_count": 6,
     "metadata": {},
     "output_type": "execute_result"
    }
   ],
   "source": [
    "# erfgertg\n",
    "True"
   ]
  },
  {
   "cell_type": "code",
   "execution_count": 17,
   "id": "b83a3d94",
   "metadata": {},
   "outputs": [
    {
     "ename": "NameError",
     "evalue": "name 'jkfhhg' is not defined",
     "output_type": "error",
     "traceback": [
      "\u001b[1;31m---------------------------------------------------------------------------\u001b[0m",
      "\u001b[1;31mNameError\u001b[0m                                 Traceback (most recent call last)",
      "Input \u001b[1;32mIn [17]\u001b[0m, in \u001b[0;36m<cell line: 4>\u001b[1;34m()\u001b[0m\n\u001b[0;32m      2\u001b[0m aty\u001b[38;5;241m=\u001b[39m\u001b[38;5;124m\"\u001b[39m\u001b[38;5;124mwowowo\u001b[39m\u001b[38;5;124m\"\u001b[39m\n\u001b[0;32m      3\u001b[0m jsvfhkj\u001b[38;5;241m=\u001b[39m\u001b[38;5;241m45.36\u001b[39m\n\u001b[1;32m----> 4\u001b[0m \u001b[38;5;28mprint\u001b[39m(\u001b[38;5;124mf\u001b[39m\u001b[38;5;124m\"\u001b[39m\u001b[38;5;124mApki \u001b[39m\u001b[38;5;132;01m{\u001b[39;00mage\u001b[38;5;132;01m}\u001b[39;00m\u001b[38;5;124m Umar hai \u001b[39m\u001b[38;5;132;01m{\u001b[39;00mage \u001b[38;5;132;01m}\u001b[39;00m\u001b[38;5;124m \u001b[39m\u001b[38;5;132;01m{\u001b[39;00mage\u001b[38;5;132;01m}\u001b[39;00m\u001b[38;5;124m \u001b[39m\u001b[38;5;132;01m{\u001b[39;00mage\u001b[38;5;132;01m}\u001b[39;00m\u001b[38;5;124m \u001b[39m\u001b[38;5;132;01m{\u001b[39;00maty\u001b[38;5;132;01m}\u001b[39;00m\u001b[38;5;124m \u001b[39m\u001b[38;5;132;01m{\u001b[39;00mjsvfhkj\u001b[38;5;132;01m}\u001b[39;00m\u001b[38;5;124m \u001b[39m\u001b[38;5;132;01m{\u001b[39;00mjkfhhg\u001b[38;5;132;01m}\u001b[39;00m\u001b[38;5;124m\"\u001b[39m)\n",
      "\u001b[1;31mNameError\u001b[0m: name 'jkfhhg' is not defined"
     ]
    }
   ],
   "source": [
    "age=85.36 #variable definition\n",
    "aty=\"wowowo\"\n",
    "jsvfhkj=45.36\n",
    "print(f\"Apki {age} Umar hai {age } {age} {age} {aty} {jsvfhkj} {jkfhhg}\")   #formatted string"
   ]
  },
  {
   "cell_type": "code",
   "execution_count": 19,
   "id": "c01ee7fc",
   "metadata": {},
   "outputs": [
    {
     "ename": "SyntaxError",
     "evalue": "invalid syntax (3775075747.py, line 4)",
     "output_type": "error",
     "traceback": [
      "\u001b[1;36m  Input \u001b[1;32mIn [19]\u001b[1;36m\u001b[0m\n\u001b[1;33m    print(\"fd\"erfvr)\u001b[0m\n\u001b[1;37m              ^\u001b[0m\n\u001b[1;31mSyntaxError\u001b[0m\u001b[1;31m:\u001b[0m invalid syntax\n"
     ]
    }
   ],
   "source": [
    "print(\"rthbrt\")\n",
    "print(\"dggveergerg\")\n",
    "print(\"erdger\")\n",
    "print(\"fd\"erfvr)"
   ]
  },
  {
   "cell_type": "code",
   "execution_count": null,
   "id": "fd61e184",
   "metadata": {},
   "outputs": [],
   "source": []
  }
 ],
 "metadata": {
  "kernelspec": {
   "display_name": "Python 3 (ipykernel)",
   "language": "python",
   "name": "python3"
  },
  "language_info": {
   "codemirror_mode": {
    "name": "ipython",
    "version": 3
   },
   "file_extension": ".py",
   "mimetype": "text/x-python",
   "name": "python",
   "nbconvert_exporter": "python",
   "pygments_lexer": "ipython3",
   "version": "3.9.12"
  }
 },
 "nbformat": 4,
 "nbformat_minor": 5
}
