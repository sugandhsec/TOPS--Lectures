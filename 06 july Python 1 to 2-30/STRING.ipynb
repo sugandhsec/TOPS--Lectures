{
 "cells": [
  {
   "cell_type": "code",
   "execution_count": null,
   "id": "a269967f",
   "metadata": {},
   "outputs": [],
   "source": [
    "string is defined in '' \"\"  ''' ''' \"\"\"  \"\"\"\n",
    "\n",
    "string is an immutable datatype\n",
    "immutable means changes not allowed\n",
    "\n",
    "string is just a collection of characters alphabets,digits,special characters space\n",
    "\n",
    "'hsdkhf^*&^*5734987 4g654redhju$%^&56'"
   ]
  },
  {
   "cell_type": "code",
   "execution_count": 1,
   "id": "2fdba493",
   "metadata": {},
   "outputs": [
    {
     "name": "stdout",
     "output_type": "stream",
     "text": [
      "<class 'str'>\n"
     ]
    }
   ],
   "source": [
    "str1='hello World'\n",
    "print(type(str1))"
   ]
  },
  {
   "cell_type": "code",
   "execution_count": null,
   "id": "6916ad95",
   "metadata": {},
   "outputs": [],
   "source": [
    "# every element inside string is accessed through index number \n",
    "# index number starts from 0\n",
    "'hello wolrd'"
   ]
  },
  {
   "cell_type": "code",
   "execution_count": 8,
   "id": "6579af9b",
   "metadata": {},
   "outputs": [
    {
     "name": "stdout",
     "output_type": "stream",
     "text": [
      "Hello Wolrd\n",
      "e\n",
      "r\n",
      "Hello wowo\n"
     ]
    }
   ],
   "source": [
    "str1=\"Hello Wolrd\"\n",
    "print(str1)\n",
    "print(str1[1])\n",
    "print(str1[9])\n",
    "# str1[4]=\"k\" ---immutable property\n",
    "str1=\"Hello wowo\"\n",
    "print(str1)"
   ]
  },
  {
   "cell_type": "code",
   "execution_count": 17,
   "id": "69a0bec9",
   "metadata": {},
   "outputs": [
    {
     "name": "stdout",
     "output_type": "stream",
     "text": [
      "good learner\n",
      "t\n",
      "nohtyp\n",
      "python\n"
     ]
    }
   ],
   "source": [
    "# String Accessing\n",
    "str1=\"i am a good learner and i learn python\"\n",
    "print(str1[7:19])\n",
    "print(str1[-4])\n",
    "print(str1[-1:-7:-1])\n",
    "print(str1[-6:])"
   ]
  },
  {
   "cell_type": "code",
   "execution_count": 19,
   "id": "75a3249d",
   "metadata": {},
   "outputs": [],
   "source": [
    "# string functions\n",
    "# len() ----give length of string\n",
    "# min() ----give minimum from string\n",
    "# max()---gives maximum from string\n",
    "# str()----converts any type to string"
   ]
  },
  {
   "cell_type": "code",
   "execution_count": 21,
   "id": "db436ab3",
   "metadata": {},
   "outputs": [
    {
     "name": "stdout",
     "output_type": "stream",
     "text": [
      "Enter String: erhgiurth erkuhbjk ehrb ee\n",
      "26\n"
     ]
    }
   ],
   "source": [
    "# len(string)---\n",
    "str1=input(\"Enter String: \")\n",
    "a=len(str1)\n",
    "print(a)"
   ]
  },
  {
   "cell_type": "code",
   "execution_count": 24,
   "id": "e2e987f2",
   "metadata": {},
   "outputs": [
    {
     "name": "stdout",
     "output_type": "stream",
     "text": [
      "#\n"
     ]
    }
   ],
   "source": [
    "# min()---from ascii value\n",
    "str1=\"hejjbrk(*^&#830jk)\"\n",
    "a=min(str1)\n",
    "print(a)"
   ]
  },
  {
   "cell_type": "code",
   "execution_count": 25,
   "id": "fede9a17",
   "metadata": {},
   "outputs": [
    {
     "name": "stdout",
     "output_type": "stream",
     "text": [
      "r\n"
     ]
    }
   ],
   "source": [
    "# max()---from ascii value\n",
    "str1=\"hejjbrk(*^&#830jk)\"\n",
    "a=max(str1)\n",
    "print(a)"
   ]
  },
  {
   "cell_type": "code",
   "execution_count": 29,
   "id": "48f6e26e",
   "metadata": {},
   "outputs": [
    {
     "data": {
      "text/plain": [
       "'1452'"
      ]
     },
     "execution_count": 29,
     "metadata": {},
     "output_type": "execute_result"
    }
   ],
   "source": [
    "x=1452\n",
    "str1=str(x)\n",
    "str1"
   ]
  },
  {
   "cell_type": "code",
   "execution_count": 32,
   "id": "e92dd2e1",
   "metadata": {},
   "outputs": [
    {
     "name": "stdout",
     "output_type": "stream",
     "text": [
      "Kfnjkgnjkhnfjkn jiojhfdn (*&393095)\n",
      "kfnjkgnJKHNFJKN jiojhfdn (*&393095)\n"
     ]
    }
   ],
   "source": [
    "# capitalize()---Capital First letter of string and remaining will be small letter\n",
    "str1=\"kfnjkgnJKHNFJKN jiojhfdn (*&393095)\"\n",
    "print(str1.capitalize()) #first letter capital and remaning small\n",
    "print(str1)"
   ]
  },
  {
   "cell_type": "code",
   "execution_count": 39,
   "id": "147b109d",
   "metadata": {},
   "outputs": [
    {
     "name": "stdout",
     "output_type": "stream",
     "text": [
      "Hf Gbjhrf Iheddvbfjh Nkhgbh Jhfvbj\n"
     ]
    }
   ],
   "source": [
    "# title()-----Capital First letter of every word of string and remaining will be small letter\n",
    "str1=\"hf gbjhrf ihEDDvbfjh nKHGBh jhfvbj\"\n",
    "print(str1.title())"
   ]
  },
  {
   "cell_type": "code",
   "execution_count": 36,
   "id": "0a92a29b",
   "metadata": {},
   "outputs": [
    {
     "name": "stdout",
     "output_type": "stream",
     "text": [
      "Enter Your Fullname: SAChin teNDulkaR\n",
      "Sachin Tendulkar\n"
     ]
    }
   ],
   "source": [
    "fullname=input(\"Enter Your Fullname: \")\n",
    "print(fullname.title())"
   ]
  },
  {
   "cell_type": "code",
   "execution_count": 42,
   "id": "e533b913",
   "metadata": {},
   "outputs": [
    {
     "data": {
      "text/plain": [
       "'hkef hgbfhjb ss hgdkufgbk'"
      ]
     },
     "execution_count": 42,
     "metadata": {},
     "output_type": "execute_result"
    }
   ],
   "source": [
    "str1=\"HKEF hgbfhjb ß HGDKUFGBK\"\n",
    "str1.casefold() #converts whole string in lowercase"
   ]
  },
  {
   "cell_type": "code",
   "execution_count": 43,
   "id": "7594423d",
   "metadata": {},
   "outputs": [
    {
     "data": {
      "text/plain": [
       "'hkef hgbfhjb ß hgdkufgbk'"
      ]
     },
     "execution_count": 43,
     "metadata": {},
     "output_type": "execute_result"
    }
   ],
   "source": [
    "str1=\"HKEF hgbfhjb ß HGDKUFGBK\"\n",
    "str1.lower() #converts whole string in lowercase"
   ]
  },
  {
   "cell_type": "code",
   "execution_count": 44,
   "id": "2fbbb55e",
   "metadata": {},
   "outputs": [
    {
     "data": {
      "text/plain": [
       "'HFKH JHFJKVH JKFHKHRIYTXBCMNC'"
      ]
     },
     "execution_count": 44,
     "metadata": {},
     "output_type": "execute_result"
    }
   ],
   "source": [
    "str1=\"HFKh jhfjkvh jkfhkhriytxbcmnc\"\n",
    "str1.upper() #converts whole string in uppercase"
   ]
  },
  {
   "cell_type": "code",
   "execution_count": 45,
   "id": "bb1dbbd8",
   "metadata": {},
   "outputs": [
    {
     "name": "stdout",
     "output_type": "stream",
     "text": [
      "Enter Name: hgfiruhg JKHFk\n",
      "HGFIRUHG JKHFK\n"
     ]
    }
   ],
   "source": [
    "name=input(\"Enter Name: \")\n",
    "print(name.upper())"
   ]
  },
  {
   "cell_type": "code",
   "execution_count": 52,
   "id": "fd16c9c3",
   "metadata": {},
   "outputs": [
    {
     "data": {
      "text/plain": [
       "'-------------------------------------hello--------------------------------------'"
      ]
     },
     "execution_count": 52,
     "metadata": {},
     "output_type": "execute_result"
    }
   ],
   "source": [
    "# center(width,[fillchar])\n",
    "str1=\"hello\"\n",
    "str1.center(80)\n",
    "str1.center(80,\"-\")"
   ]
  },
  {
   "cell_type": "code",
   "execution_count": 55,
   "id": "893377ca",
   "metadata": {},
   "outputs": [
    {
     "data": {
      "text/plain": [
       "'hello---------------------------------------------------------------------------'"
      ]
     },
     "execution_count": 55,
     "metadata": {},
     "output_type": "execute_result"
    }
   ],
   "source": [
    "# ljust(width[,fillchar]) left justified\n",
    "str1=\"hello\"\n",
    "str1.ljust(80)\n",
    "str1.ljust(80,\"-\")"
   ]
  },
  {
   "cell_type": "code",
   "execution_count": 57,
   "id": "87746c42",
   "metadata": {},
   "outputs": [
    {
     "data": {
      "text/plain": [
       "'***************************************************************************hello'"
      ]
     },
     "execution_count": 57,
     "metadata": {},
     "output_type": "execute_result"
    }
   ],
   "source": [
    "# rjust(widt,[fillchar]) ---right justified\n",
    "str1=\"hello\"\n",
    "str1.rjust(80)\n",
    "str1.rjust(80,\"*\")"
   ]
  },
  {
   "cell_type": "code",
   "execution_count": 1,
   "id": "70d6a404",
   "metadata": {},
   "outputs": [
    {
     "name": "stdout",
     "output_type": "stream",
     "text": [
      "* \n",
      "* * \n",
      "* * * \n",
      "* * * * \n",
      "* * * * * \n",
      "* * * * * * \n",
      "* * * * * * * \n"
     ]
    }
   ],
   "source": [
    "for i in range(1,8):\n",
    "    print(i*\"* \")"
   ]
  },
  {
   "cell_type": "code",
   "execution_count": 6,
   "id": "5be2a34f",
   "metadata": {},
   "outputs": [
    {
     "data": {
      "text/plain": [
       "0"
      ]
     },
     "execution_count": 6,
     "metadata": {},
     "output_type": "execute_result"
    }
   ],
   "source": [
    "# count(substring[,\"start,stop])--gives oocurence of substring in string\n",
    "str1=\"hello i am learning python Hello How are python\"\n",
    "str1.count(\"python\")\n",
    "str1.count(\"python\",25)   \n",
    "str1.count(\"o\",13,24)"
   ]
  },
  {
   "cell_type": "code",
   "execution_count": 14,
   "id": "db2e935d",
   "metadata": {},
   "outputs": [
    {
     "ename": "ValueError",
     "evalue": "substring not found",
     "output_type": "error",
     "traceback": [
      "\u001b[1;31m---------------------------------------------------------------------------\u001b[0m",
      "\u001b[1;31mValueError\u001b[0m                                Traceback (most recent call last)",
      "Input \u001b[1;32mIn [14]\u001b[0m, in \u001b[0;36m<cell line: 5>\u001b[1;34m()\u001b[0m\n\u001b[0;32m      3\u001b[0m str1\u001b[38;5;241m.\u001b[39mindex(\u001b[38;5;124m\"\u001b[39m\u001b[38;5;124mpython\u001b[39m\u001b[38;5;124m\"\u001b[39m)\n\u001b[0;32m      4\u001b[0m str1\u001b[38;5;241m.\u001b[39mindex(\u001b[38;5;124m\"\u001b[39m\u001b[38;5;124mpython\u001b[39m\u001b[38;5;124m\"\u001b[39m,\u001b[38;5;241m25\u001b[39m)\n\u001b[1;32m----> 5\u001b[0m \u001b[43mstr1\u001b[49m\u001b[38;5;241;43m.\u001b[39;49m\u001b[43mindex\u001b[49m\u001b[43m(\u001b[49m\u001b[38;5;124;43m\"\u001b[39;49m\u001b[38;5;124;43mpython\u001b[39;49m\u001b[38;5;124;43m\"\u001b[39;49m\u001b[43m,\u001b[49m\u001b[38;5;241;43m25\u001b[39;49m\u001b[43m,\u001b[49m\u001b[38;5;241;43m32\u001b[39;49m\u001b[43m)\u001b[49m\n",
      "\u001b[1;31mValueError\u001b[0m: substring not found"
     ]
    }
   ],
   "source": [
    "# index(substring,start,stop)--give index of substring \n",
    "str1=\"hello i am learning python Hello How are python\"\n",
    "str1.index(\"python\")\n",
    "str1.index(\"python\",25)\n",
    "str1.index(\"python\",25,32) #ValueError: substring not found"
   ]
  },
  {
   "cell_type": "code",
   "execution_count": 15,
   "id": "a32428ba",
   "metadata": {},
   "outputs": [
    {
     "data": {
      "text/plain": [
       "-1"
      ]
     },
     "execution_count": 15,
     "metadata": {},
     "output_type": "execute_result"
    }
   ],
   "source": [
    "# find(subatring,start,stop) ---give index of susbtsring\n",
    "str1=\"hello i am learning python Hello How are python\"\n",
    "str1.find(\"python\")\n",
    "str1.find(\"python\",25)\n",
    "str1.find(\"python\",25,32)"
   ]
  },
  {
   "cell_type": "code",
   "execution_count": 21,
   "id": "44cb38e4",
   "metadata": {},
   "outputs": [
    {
     "data": {
      "text/plain": [
       "False"
      ]
     },
     "execution_count": 21,
     "metadata": {},
     "output_type": "execute_result"
    }
   ],
   "source": [
    "# endswith(substring,start,stop)\n",
    "str1=\"hello i am learning python Hello How are python\"\n",
    "str1.endswith(\"de python\")\n",
    "str1.endswith(\"re python\",25,32)"
   ]
  },
  {
   "cell_type": "code",
   "execution_count": 24,
   "id": "662de13d",
   "metadata": {},
   "outputs": [
    {
     "name": "stdout",
     "output_type": "stream",
     "text": [
      "hello**i**am**great\n"
     ]
    }
   ],
   "source": [
    "list1=[\"hello\",\"i\",\"am\",\"great\"]\n",
    "str1=\"**\".join(list1)\n",
    "print(str1)"
   ]
  },
  {
   "cell_type": "raw",
   "id": "88f95d67",
   "metadata": {},
   "source": []
  },
  {
   "cell_type": "code",
   "execution_count": 28,
   "id": "fc5c084f",
   "metadata": {},
   "outputs": [
    {
     "data": {
      "text/plain": [
       "('hello i am ', 'learning', ' python Hello How are python')"
      ]
     },
     "execution_count": 28,
     "metadata": {},
     "output_type": "execute_result"
    }
   ],
   "source": [
    "str1=\"hello i am learning python Hello How are python\"\n",
    "str1.partition(\"learning\")"
   ]
  },
  {
   "cell_type": "code",
   "execution_count": 30,
   "id": "7ee843bc",
   "metadata": {},
   "outputs": [
    {
     "data": {
      "text/plain": [
       "'hello i fame learning python Hello How are python'"
      ]
     },
     "execution_count": 30,
     "metadata": {},
     "output_type": "execute_result"
    }
   ],
   "source": [
    "str1=\"hello i am learning python Hello How are python\"\n",
    "str1.replace(\"am\",\"fame\")"
   ]
  },
  {
   "cell_type": "code",
   "execution_count": null,
   "id": "a490aeb3",
   "metadata": {},
   "outputs": [],
   "source": [
    "hello\n",
    "world\n",
    "\n",
    "ehllo owrld"
   ]
  },
  {
   "cell_type": "code",
   "execution_count": 35,
   "id": "ca464221",
   "metadata": {},
   "outputs": [
    {
     "name": "stdout",
     "output_type": "stream",
     "text": [
      "Enter Stringpineapple\n",
      "ipneapple\n",
      "Enter Stringbanana\n",
      "abnana\n",
      "ipneapple abnana\n"
     ]
    }
   ],
   "source": [
    "str1=input(\"Enter String\")\n",
    "str2=str1[1]+str1[0]+str1[2:]\n",
    "print(str2)\n",
    "str3=input(\"Enter String\")\n",
    "str4=str3[1]+str3[0]+str3[2:]\n",
    "print(str4)\n",
    "print(str2+\" \"+str4)"
   ]
  },
  {
   "cell_type": "code",
   "execution_count": null,
   "id": "f30cdad5",
   "metadata": {},
   "outputs": [],
   "source": []
  }
 ],
 "metadata": {
  "kernelspec": {
   "display_name": "Python 3 (ipykernel)",
   "language": "python",
   "name": "python3"
  },
  "language_info": {
   "codemirror_mode": {
    "name": "ipython",
    "version": 3
   },
   "file_extension": ".py",
   "mimetype": "text/x-python",
   "name": "python",
   "nbconvert_exporter": "python",
   "pygments_lexer": "ipython3",
   "version": "3.9.12"
  }
 },
 "nbformat": 4,
 "nbformat_minor": 5
}
