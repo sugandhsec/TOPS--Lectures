{
 "cells": [
  {
   "cell_type": "code",
   "execution_count": null,
   "id": "c6ab3ddf",
   "metadata": {},
   "outputs": [],
   "source": [
    "# for loop ---iterables---collection------range,string,list,tuple,set,dictionary\n",
    "# while loop---condition"
   ]
  },
  {
   "cell_type": "code",
   "execution_count": null,
   "id": "2e0f75c8",
   "metadata": {},
   "outputs": [],
   "source": [
    "for itearting_variable in iteraable:\n",
    "    body"
   ]
  },
  {
   "cell_type": "code",
   "execution_count": null,
   "id": "4d4538dd",
   "metadata": {},
   "outputs": [],
   "source": []
  },
  {
   "cell_type": "code",
   "execution_count": 7,
   "id": "0570da5e",
   "metadata": {},
   "outputs": [
    {
     "name": "stdout",
     "output_type": "stream",
     "text": [
      "good Morning\n",
      "h\n",
      "good Morning\n",
      "e\n",
      "good Morning\n",
      "l\n",
      "good Morning\n",
      "g\n",
      "good Morning\n",
      "r\n"
     ]
    }
   ],
   "source": [
    "for i in \"helgr\":\n",
    "    print(\"good Morning\")\n",
    "    print(i)"
   ]
  },
  {
   "cell_type": "code",
   "execution_count": null,
   "id": "0c691200",
   "metadata": {},
   "outputs": [],
   "source": [
    "#range(start,stop,step)\n",
    "range(1,5) ---1 2 3 4\n",
    "range(6)---0 1 2 3 4 5"
   ]
  },
  {
   "cell_type": "code",
   "execution_count": 6,
   "id": "349e7342",
   "metadata": {},
   "outputs": [
    {
     "name": "stdout",
     "output_type": "stream",
     "text": [
      "1\n",
      "2\n",
      "3\n",
      "4\n",
      "5\n",
      "6\n",
      "7\n",
      "8\n",
      "9\n",
      "10\n",
      "11\n",
      "12\n"
     ]
    }
   ],
   "source": [
    "for i in range(1,13):\n",
    "    print(i)"
   ]
  },
  {
   "cell_type": "code",
   "execution_count": 13,
   "id": "e97247d7",
   "metadata": {},
   "outputs": [
    {
     "name": "stdout",
     "output_type": "stream",
     "text": [
      "Enter Number: 56\n",
      "56 X 1 = 56\n",
      "56 X 2 = 112\n",
      "56 X 3 = 168\n",
      "56 X 4 = 224\n",
      "56 X 5 = 280\n",
      "56 X 6 = 336\n",
      "56 X 7 = 392\n",
      "56 X 8 = 448\n",
      "56 X 9 = 504\n",
      "56 X 10 = 560\n"
     ]
    }
   ],
   "source": [
    "num=int(input(\"Enter Number: \"))\n",
    "for i in range(1,11):\n",
    "    print(f\"{num} X { i} = {num* i}\")"
   ]
  },
  {
   "cell_type": "code",
   "execution_count": 24,
   "id": "50092709",
   "metadata": {},
   "outputs": [
    {
     "name": "stdout",
     "output_type": "stream",
     "text": [
      "1\n",
      "6\n",
      "11\n",
      "16\n",
      "21\n",
      "26\n",
      "31\n",
      "36\n",
      "41\n",
      "46\n",
      "51\n",
      "56\n"
     ]
    }
   ],
   "source": [
    "for i in range(1,61,5):\n",
    "    print(i)"
   ]
  },
  {
   "cell_type": "code",
   "execution_count": null,
   "id": "f4aeac96",
   "metadata": {},
   "outputs": [],
   "source": [
    "range(start,stop,step)\n",
    "\n",
    "range(1,10,3)  1 4  7"
   ]
  },
  {
   "cell_type": "code",
   "execution_count": 16,
   "id": "661a0af9",
   "metadata": {},
   "outputs": [
    {
     "name": "stdout",
     "output_type": "stream",
     "text": [
      "1\n",
      "7\n",
      "13\n",
      "19\n",
      "25\n",
      "31\n",
      "37\n",
      "43\n",
      "49\n"
     ]
    }
   ],
   "source": [
    "for i in range(1,50,6):\n",
    "    print(i)"
   ]
  },
  {
   "cell_type": "code",
   "execution_count": 22,
   "id": "6673d875",
   "metadata": {},
   "outputs": [
    {
     "name": "stdout",
     "output_type": "stream",
     "text": [
      "6\n",
      "5\n",
      "4\n",
      "3\n",
      "2\n",
      "1\n",
      "0\n",
      "-1\n",
      "-2\n"
     ]
    }
   ],
   "source": [
    "for i in range(6,-3,-1):\n",
    "    print(i)\n",
    "    \n",
    "#     step is positive direction left to right\n",
    "#     step is negative direction right to left"
   ]
  },
  {
   "cell_type": "code",
   "execution_count": null,
   "id": "c17145c1",
   "metadata": {},
   "outputs": [],
   "source": [
    "5=5*4*3*2*1=120\n",
    "3=3*2*1=6"
   ]
  },
  {
   "cell_type": "code",
   "execution_count": null,
   "id": "0b82951d",
   "metadata": {},
   "outputs": [],
   "source": [
    "-8 -7 -6 -5 -3 -2 -1 0 1 2 3 4 5 6 7 8 9"
   ]
  },
  {
   "cell_type": "code",
   "execution_count": null,
   "id": "6f03b026",
   "metadata": {},
   "outputs": [],
   "source": [
    "# while loop\n",
    "while condition:\n",
    "    body"
   ]
  },
  {
   "cell_type": "code",
   "execution_count": 2,
   "id": "daec6422",
   "metadata": {},
   "outputs": [
    {
     "name": "stdout",
     "output_type": "stream",
     "text": [
      "hello\n",
      "hello\n",
      "hello\n",
      "hello\n",
      "hello\n",
      "hello\n",
      "hello\n",
      "hello\n",
      "hello\n"
     ]
    }
   ],
   "source": [
    "a=11\n",
    "while a<20:\n",
    "    print(\"hello\")\n",
    "    a+=1"
   ]
  },
  {
   "cell_type": "code",
   "execution_count": null,
   "id": "10e49147",
   "metadata": {},
   "outputs": [],
   "source": [
    "0 1 1 2 3\n",
    "0 1 1 2 3 5 8 13"
   ]
  }
 ],
 "metadata": {
  "kernelspec": {
   "display_name": "Python 3 (ipykernel)",
   "language": "python",
   "name": "python3"
  },
  "language_info": {
   "codemirror_mode": {
    "name": "ipython",
    "version": 3
   },
   "file_extension": ".py",
   "mimetype": "text/x-python",
   "name": "python",
   "nbconvert_exporter": "python",
   "pygments_lexer": "ipython3",
   "version": "3.9.12"
  }
 },
 "nbformat": 4,
 "nbformat_minor": 5
}
