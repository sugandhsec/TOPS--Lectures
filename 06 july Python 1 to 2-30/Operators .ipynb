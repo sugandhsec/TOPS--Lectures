{
 "cells": [
  {
   "cell_type": "code",
   "execution_count": null,
   "id": "d39ab1d1",
   "metadata": {},
   "outputs": [],
   "source": [
    "Types of Operators In python\n",
    "# 1--Arithmetic Operator  + - * / %(modulus) //(floor division) **(power operator)\n",
    "# 2---relational Operator > < >= <= == !=\n",
    "# 3---Logical Operator logical And(and) Logical OR(or) Logical not(not)\n",
    "# 4--Assignement Operator = += -= *= /= **= \n",
    "# Bitwise Operator bitwise and(&) bitwise OR(|) bitwise left shif(<<) bitwise right shift(>>)\n",
    "#  bitwise exclusive or XOR(^)\n",
    "# 5---Membaership Operator in ....not in\n",
    "# 6--Identity operator is... is not"
   ]
  },
  {
   "cell_type": "code",
   "execution_count": 1,
   "id": "e324288e",
   "metadata": {},
   "outputs": [
    {
     "name": "stdout",
     "output_type": "stream",
     "text": [
      "30\n"
     ]
    }
   ],
   "source": [
    "# 1---Arithmetic Operator\n",
    "a=10\n",
    "b=20\n",
    "print(a+b)\n"
   ]
  },
  {
   "cell_type": "code",
   "execution_count": 3,
   "id": "478185a5",
   "metadata": {},
   "outputs": [
    {
     "name": "stdout",
     "output_type": "stream",
     "text": [
      "Enter Number1: 45\n",
      "Enter Number2: 12.25\n",
      "32.75\n"
     ]
    }
   ],
   "source": [
    "a=int(input(\"Enter Number1: \"))\n",
    "b=float(input(\"Enter Number2: \"))\n",
    "print(a-b)"
   ]
  },
  {
   "cell_type": "code",
   "execution_count": 10,
   "id": "d2b6d6eb",
   "metadata": {},
   "outputs": [
    {
     "name": "stdout",
     "output_type": "stream",
     "text": [
      "Enter Number: 48\n",
      "Enter Number2: \n",
      "48\n"
     ]
    }
   ],
   "source": [
    "a=int(input(\"Enter Number: \"))\n",
    "b=bool(input(\"Enter Number2: \"))\n",
    "print(a+b)"
   ]
  },
  {
   "cell_type": "code",
   "execution_count": 8,
   "id": "19917fbc",
   "metadata": {},
   "outputs": [
    {
     "name": "stdout",
     "output_type": "stream",
     "text": [
      "False\n"
     ]
    }
   ],
   "source": [
    "str1=\"\"\n",
    "b1=bool(str1)\n",
    "print(b1)"
   ]
  },
  {
   "cell_type": "code",
   "execution_count": 13,
   "id": "39260e39",
   "metadata": {},
   "outputs": [
    {
     "name": "stdout",
     "output_type": "stream",
     "text": [
      "36\n",
      "576\n",
      "4.0\n"
     ]
    }
   ],
   "source": [
    "a=48\n",
    "b=12\n",
    "print(a-b)\n",
    "print(a*b)\n",
    "print(a/b)"
   ]
  },
  {
   "cell_type": "code",
   "execution_count": 17,
   "id": "4ed4ff18",
   "metadata": {},
   "outputs": [
    {
     "name": "stdout",
     "output_type": "stream",
     "text": [
      "2.888888888888889\n",
      "8\n",
      "5.0\n",
      "0\n"
     ]
    }
   ],
   "source": [
    "# %---modulus --remainder as a answer\n",
    "print(26/9)\n",
    "print(26%9)b\n",
    "\n",
    "print(25/5)\n",
    "print(25%5)"
   ]
  },
  {
   "cell_type": "code",
   "execution_count": 23,
   "id": "640f60bf",
   "metadata": {},
   "outputs": [
    {
     "name": "stdout",
     "output_type": "stream",
     "text": [
      "9\n",
      "1\n",
      "5\n"
     ]
    }
   ],
   "source": [
    "print(48//5)\n",
    "print(48//47)\n",
    "print(45//9)\n"
   ]
  },
  {
   "cell_type": "code",
   "execution_count": null,
   "id": "b137df9b",
   "metadata": {},
   "outputs": [],
   "source": [
    "# floor division\n",
    "3.6 3 4\n",
    "45.23 45 46\n",
    "1001.23 1001 1002"
   ]
  },
  {
   "cell_type": "code",
   "execution_count": 26,
   "id": "e4b623bf",
   "metadata": {},
   "outputs": [
    {
     "name": "stdout",
     "output_type": "stream",
     "text": [
      "16\n",
      "36\n",
      "110592\n"
     ]
    }
   ],
   "source": [
    "# power operator **\n",
    "print(2**4)\n",
    "print(6**2)\n",
    "print(48**3)"
   ]
  },
  {
   "cell_type": "code",
   "execution_count": 38,
   "id": "ad104856",
   "metadata": {},
   "outputs": [
    {
     "name": "stdout",
     "output_type": "stream",
     "text": [
      "Enter Number: \n"
     ]
    },
    {
     "ename": "ValueError",
     "evalue": "invalid literal for int() with base 10: ''",
     "output_type": "error",
     "traceback": [
      "\u001b[1;31m---------------------------------------------------------------------------\u001b[0m",
      "\u001b[1;31mValueError\u001b[0m                                Traceback (most recent call last)",
      "Input \u001b[1;32mIn [38]\u001b[0m, in \u001b[0;36m<cell line: 1>\u001b[1;34m()\u001b[0m\n\u001b[1;32m----> 1\u001b[0m a\u001b[38;5;241m=\u001b[39m\u001b[38;5;28;43mint\u001b[39;49m\u001b[43m(\u001b[49m\u001b[38;5;28;43minput\u001b[39;49m\u001b[43m(\u001b[49m\u001b[38;5;124;43m\"\u001b[39;49m\u001b[38;5;124;43mEnter Number: \u001b[39;49m\u001b[38;5;124;43m\"\u001b[39;49m\u001b[43m)\u001b[49m\u001b[43m)\u001b[49m\n\u001b[0;32m      2\u001b[0m b\u001b[38;5;241m=\u001b[39m\u001b[38;5;28mint\u001b[39m(\u001b[38;5;28minput\u001b[39m(\u001b[38;5;124m\"\u001b[39m\u001b[38;5;124mEnter Number: \u001b[39m\u001b[38;5;124m\"\u001b[39m))\n\u001b[0;32m      3\u001b[0m \u001b[38;5;28mprint\u001b[39m(a\u001b[38;5;241m/\u001b[39mb)\n",
      "\u001b[1;31mValueError\u001b[0m: invalid literal for int() with base 10: ''"
     ]
    }
   ],
   "source": [
    "a=int(input(\"Enter Number: \"))\n",
    "b=int(input(\"Enter Number: \"))\n",
    "print(a/b)"
   ]
  }
 ],
 "metadata": {
  "kernelspec": {
   "display_name": "Python 3 (ipykernel)",
   "language": "python",
   "name": "python3"
  },
  "language_info": {
   "codemirror_mode": {
    "name": "ipython",
    "version": 3
   },
   "file_extension": ".py",
   "mimetype": "text/x-python",
   "name": "python",
   "nbconvert_exporter": "python",
   "pygments_lexer": "ipython3",
   "version": "3.9.12"
  }
 },
 "nbformat": 4,
 "nbformat_minor": 5
}
