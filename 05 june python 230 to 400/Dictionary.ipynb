{
 "cells": [
  {
   "cell_type": "code",
   "execution_count": null,
   "id": "cc83953f",
   "metadata": {},
   "outputs": [],
   "source": [
    "# dictionary is a collection of element having key and value pair\n",
    "# dictionary is unordered datatype\n",
    "# dictionary is defined in {}\n",
    "# value can be of any datatype\n",
    "# key can be of only immutable datatype"
   ]
  },
  {
   "cell_type": "code",
   "execution_count": 4,
   "id": "49aedc79",
   "metadata": {},
   "outputs": [
    {
     "name": "stdout",
     "output_type": "stream",
     "text": [
      "{1: 45, 45.32: 458.25, False: True, 'hello': 'Wolrd', 'list': [45, 23, 65], (45, 36): (78, 45), 'set': {1, 4}, 'dict': {45: 'Hello'}}\n"
     ]
    }
   ],
   "source": [
    "dict1={1:45,45.32:458.25,False:True,\"hello\":\"Wolrd\",\"list\":[45,23,65],(45,36):(78,45),\"set\":{4,1},\"dict\":{45:\"Hello\"}}\n",
    "print(dict1)"
   ]
  },
  {
   "cell_type": "code",
   "execution_count": 5,
   "id": "e52914f3",
   "metadata": {},
   "outputs": [
    {
     "name": "stdout",
     "output_type": "stream",
     "text": [
      "58\n"
     ]
    }
   ],
   "source": [
    "dict1={1:45,2:48,3:65,48:58}\n",
    "print(dict1[48])"
   ]
  },
  {
   "cell_type": "code",
   "execution_count": 3,
   "id": "9297e0fa",
   "metadata": {},
   "outputs": [
    {
     "data": {
      "text/plain": [
       "101"
      ]
     },
     "execution_count": 3,
     "metadata": {},
     "output_type": "execute_result"
    }
   ],
   "source": [
    "dict1={\"age\":45,\"name\":\"Sugandh\",\"rollno\":101}\n",
    "dict1[\"rollno\"]"
   ]
  },
  {
   "cell_type": "code",
   "execution_count": 4,
   "id": "5aab67e9",
   "metadata": {},
   "outputs": [
    {
     "data": {
      "text/plain": [
       "dict_keys(['age', 'name', 'rollno'])"
      ]
     },
     "execution_count": 4,
     "metadata": {},
     "output_type": "execute_result"
    }
   ],
   "source": [
    "dict1={\"age\":45,\"name\":\"Sugandh\",\"rollno\":101}\n",
    "dict1.keys()"
   ]
  },
  {
   "cell_type": "code",
   "execution_count": 5,
   "id": "33bb58b8",
   "metadata": {},
   "outputs": [
    {
     "data": {
      "text/plain": [
       "dict_values([45, 'Sugandh', 101])"
      ]
     },
     "execution_count": 5,
     "metadata": {},
     "output_type": "execute_result"
    }
   ],
   "source": [
    "dict1={\"age\":45,\"name\":\"Sugandh\",\"rollno\":101}\n",
    "dict1.values()"
   ]
  },
  {
   "cell_type": "code",
   "execution_count": 6,
   "id": "1e1a1df1",
   "metadata": {},
   "outputs": [
    {
     "data": {
      "text/plain": [
       "dict_items([('age', 45), ('name', 'Sugandh'), ('rollno', 101)])"
      ]
     },
     "execution_count": 6,
     "metadata": {},
     "output_type": "execute_result"
    }
   ],
   "source": [
    "dict1={\"age\":45,\"name\":\"Sugandh\",\"rollno\":101}\n",
    "dict1.items() #list of tuples and every tuple is key value pair"
   ]
  },
  {
   "cell_type": "code",
   "execution_count": 18,
   "id": "c0d45d43",
   "metadata": {},
   "outputs": [
    {
     "name": "stdout",
     "output_type": "stream",
     "text": [
      "{'age': 45, 'name': 'Sugandh', 'rollno': 101}\n",
      "Not found\n"
     ]
    }
   ],
   "source": [
    "dict1={\"age\":45,\"name\":\"Sugandh\",\"rollno\":101}\n",
    "a=dict1.get(\"ergerg\",\"Not found\")\n",
    "print(dict1)\n",
    "print(a)"
   ]
  },
  {
   "cell_type": "code",
   "execution_count": 38,
   "id": "695b3efb",
   "metadata": {},
   "outputs": [
    {
     "name": "stdout",
     "output_type": "stream",
     "text": [
      "{'age': 45, 'name': 'Sugandh', 'rollno': 101, 'rank': 'eger'}\n",
      "eger\n"
     ]
    }
   ],
   "source": [
    "dict1={\"age\":45,\"name\":\"Sugandh\",\"rollno\":101}\n",
    "a=dict1.setdefault(\"rank\",\"eger\")\n",
    "print(dict1)\n",
    "print(a)"
   ]
  },
  {
   "cell_type": "code",
   "execution_count": 33,
   "id": "87e00803",
   "metadata": {},
   "outputs": [
    {
     "ename": "IndexError",
     "evalue": "pop index out of range",
     "output_type": "error",
     "traceback": [
      "\u001b[1;31m---------------------------------------------------------------------------\u001b[0m",
      "\u001b[1;31mIndexError\u001b[0m                                Traceback (most recent call last)",
      "Input \u001b[1;32mIn [33]\u001b[0m, in \u001b[0;36m<cell line: 2>\u001b[1;34m()\u001b[0m\n\u001b[0;32m      1\u001b[0m list1\u001b[38;5;241m=\u001b[39m[\u001b[38;5;241m45\u001b[39m,\u001b[38;5;241m65\u001b[39m,\u001b[38;5;241m89\u001b[39m,\u001b[38;5;241m78\u001b[39m]\n\u001b[1;32m----> 2\u001b[0m \u001b[43mlist1\u001b[49m\u001b[38;5;241;43m.\u001b[39;49m\u001b[43mpop\u001b[49m\u001b[43m(\u001b[49m\u001b[38;5;241;43m12\u001b[39;49m\u001b[43m)\u001b[49m\n\u001b[0;32m      3\u001b[0m \u001b[38;5;28mprint\u001b[39m(list1)\n",
      "\u001b[1;31mIndexError\u001b[0m: pop index out of range"
     ]
    }
   ],
   "source": [
    "list1=[45,65,89,78]\n",
    "list1.pop(12)\n",
    "print(list1)"
   ]
  },
  {
   "cell_type": "code",
   "execution_count": 34,
   "id": "90fe99f6",
   "metadata": {},
   "outputs": [
    {
     "ename": "KeyError",
     "evalue": "'wefef'",
     "output_type": "error",
     "traceback": [
      "\u001b[1;31m---------------------------------------------------------------------------\u001b[0m",
      "\u001b[1;31mKeyError\u001b[0m                                  Traceback (most recent call last)",
      "Input \u001b[1;32mIn [34]\u001b[0m, in \u001b[0;36m<cell line: 2>\u001b[1;34m()\u001b[0m\n\u001b[0;32m      1\u001b[0m dict1\u001b[38;5;241m=\u001b[39m{\u001b[38;5;124m\"\u001b[39m\u001b[38;5;124mage\u001b[39m\u001b[38;5;124m\"\u001b[39m:\u001b[38;5;241m45\u001b[39m,\u001b[38;5;124m\"\u001b[39m\u001b[38;5;124mname\u001b[39m\u001b[38;5;124m\"\u001b[39m:\u001b[38;5;124m\"\u001b[39m\u001b[38;5;124mSugandh\u001b[39m\u001b[38;5;124m\"\u001b[39m,\u001b[38;5;124m\"\u001b[39m\u001b[38;5;124mrollno\u001b[39m\u001b[38;5;124m\"\u001b[39m:\u001b[38;5;241m101\u001b[39m}\n\u001b[1;32m----> 2\u001b[0m \u001b[43mdict1\u001b[49m\u001b[38;5;241;43m.\u001b[39;49m\u001b[43mpop\u001b[49m\u001b[43m(\u001b[49m\u001b[38;5;124;43m\"\u001b[39;49m\u001b[38;5;124;43mwefef\u001b[39;49m\u001b[38;5;124;43m\"\u001b[39;49m\u001b[43m)\u001b[49m\n\u001b[0;32m      3\u001b[0m \u001b[38;5;28mprint\u001b[39m(dict1)\n",
      "\u001b[1;31mKeyError\u001b[0m: 'wefef'"
     ]
    }
   ],
   "source": [
    "dict1={\"age\":45,\"name\":\"Sugandh\",\"rollno\":101}\n",
    "dict1.pop(\"name\")\n",
    "print(dict1)"
   ]
  },
  {
   "cell_type": "code",
   "execution_count": 35,
   "id": "1b41d0cd",
   "metadata": {},
   "outputs": [
    {
     "name": "stdout",
     "output_type": "stream",
     "text": [
      "{'age': 45, 'name': 'Sugandh'}\n"
     ]
    }
   ],
   "source": [
    "dict1={\"age\":45,\"name\":\"Sugandh\",\"rollno\":101}\n",
    "dict1.popitem()\n",
    "print(dict1)"
   ]
  },
  {
   "cell_type": "code",
   "execution_count": 39,
   "id": "f4fbd7d7",
   "metadata": {},
   "outputs": [
    {
     "name": "stdout",
     "output_type": "stream",
     "text": [
      "{'age': 45, 'name': 'Sugandh', 'rollno': 145, 'Surname': 'Gupta'}\n"
     ]
    }
   ],
   "source": [
    "dict1={\"age\":45,\"name\":\"Sugandh\",\"rollno\":101}\n",
    "dict1.update({\"rollno\":145,\"Surname\":\"Gupta\"})\n",
    "print(dict1)"
   ]
  },
  {
   "cell_type": "code",
   "execution_count": 41,
   "id": "b6482217",
   "metadata": {},
   "outputs": [
    {
     "name": "stdout",
     "output_type": "stream",
     "text": [
      "{1: [45, 25, 63], 2: [45, 25, 63], 3: [45, 25, 63], 4: [45, 25, 63]}\n"
     ]
    }
   ],
   "source": [
    "# fromkeys()--to create a dictionary\n",
    "a=range(1,5)\n",
    "b=[45,25,63]\n",
    "dict1=dict.fromkeys(a,b)\n",
    "print(dict1)"
   ]
  },
  {
   "cell_type": "code",
   "execution_count": null,
   "id": "fe73c37f",
   "metadata": {},
   "outputs": [],
   "source": [
    "student={101:{\"Name\":\"Sugandh Gupta\",\"age\":45,\"marks\":[45,25,441,54,78,596]},\n",
    "         102:{\"Name\":\"Rahul Sahrma\",\"age\":25,\"marks\":[45,78,96,58,47,5]}}"
   ]
  },
  {
   "cell_type": "code",
   "execution_count": null,
   "id": "eec800b6",
   "metadata": {},
   "outputs": [],
   "source": []
  }
 ],
 "metadata": {
  "kernelspec": {
   "display_name": "Python 3 (ipykernel)",
   "language": "python",
   "name": "python3"
  },
  "language_info": {
   "codemirror_mode": {
    "name": "ipython",
    "version": 3
   },
   "file_extension": ".py",
   "mimetype": "text/x-python",
   "name": "python",
   "nbconvert_exporter": "python",
   "pygments_lexer": "ipython3",
   "version": "3.9.12"
  }
 },
 "nbformat": 4,
 "nbformat_minor": 5
}
