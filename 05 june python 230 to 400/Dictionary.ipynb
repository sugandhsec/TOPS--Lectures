{
 "cells": [
  {
   "cell_type": "code",
   "execution_count": null,
   "id": "cc83953f",
   "metadata": {},
   "outputs": [],
   "source": [
    "# dictionary is a collection of element having key and value pair\n",
    "# dictionary is unordered datatype\n",
    "# dictionary is defined in {}\n",
    "# value can be of any datatype\n",
    "# key can be of only immutable datatype"
   ]
  },
  {
   "cell_type": "code",
   "execution_count": 4,
   "id": "49aedc79",
   "metadata": {},
   "outputs": [
    {
     "name": "stdout",
     "output_type": "stream",
     "text": [
      "{1: 45, 45.32: 458.25, False: True, 'hello': 'Wolrd', 'list': [45, 23, 65], (45, 36): (78, 45), 'set': {1, 4}, 'dict': {45: 'Hello'}}\n"
     ]
    }
   ],
   "source": [
    "dict1={1:45,45.32:458.25,False:True,\"hello\":\"Wolrd\",\"list\":[45,23,65],(45,36):(78,45),\"set\":{4,1},\"dict\":{45:\"Hello\"}}\n",
    "print(dict1)"
   ]
  },
  {
   "cell_type": "code",
   "execution_count": 5,
   "id": "e52914f3",
   "metadata": {},
   "outputs": [
    {
     "name": "stdout",
     "output_type": "stream",
     "text": [
      "58\n"
     ]
    }
   ],
   "source": [
    "dict1={1:45,2:48,3:65,48:58}\n",
    "print(dict1[48])"
   ]
  }
 ],
 "metadata": {
  "kernelspec": {
   "display_name": "Python 3 (ipykernel)",
   "language": "python",
   "name": "python3"
  },
  "language_info": {
   "codemirror_mode": {
    "name": "ipython",
    "version": 3
   },
   "file_extension": ".py",
   "mimetype": "text/x-python",
   "name": "python",
   "nbconvert_exporter": "python",
   "pygments_lexer": "ipython3",
   "version": "3.9.12"
  }
 },
 "nbformat": 4,
 "nbformat_minor": 5
}
