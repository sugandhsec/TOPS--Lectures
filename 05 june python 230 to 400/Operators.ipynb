{
 "cells": [
  {
   "cell_type": "code",
   "execution_count": null,
   "id": "e885ccda",
   "metadata": {},
   "outputs": [],
   "source": [
    "# operators\n",
    "8+5   expression \n",
    "8,5  operands\n",
    "+ operator\n",
    "a=5\n",
    "b=8\n",
    "a+b"
   ]
  },
  {
   "cell_type": "code",
   "execution_count": null,
   "id": "47cbe5d6",
   "metadata": {},
   "outputs": [],
   "source": [
    "# types of operators in python\n",
    "# arithmetic operator + - * / **(power) %(modulus) //(floor division)\n",
    "# relational operator  > < >= <= == !=\n",
    "# logical operator AND(and) OR(or) NOT(not)\n",
    "# assignement operator = += -= *= /= ** =\n",
    "# bitwise Operator bitwise and(&) bitwise or(|) bitwise left shift(<<)\n",
    "#                     bitwise right shift(>>)  bitwise exclusive or XOR (^)\n",
    "# membership operator    in       not in\n",
    "# identity operators  is    is not\n",
    "# ternary operator ?:"
   ]
  },
  {
   "cell_type": "code",
   "execution_count": 6,
   "id": "0201a3b5",
   "metadata": {},
   "outputs": [
    {
     "ename": "SyntaxError",
     "evalue": "unexpected character after line continuation character (134018843.py, line 7)",
     "output_type": "error",
     "traceback": [
      "\u001b[1;36m  Input \u001b[1;32mIn [6]\u001b[1;36m\u001b[0m\n\u001b[1;33m    print(x\\y)\u001b[0m\n\u001b[1;37m            ^\u001b[0m\n\u001b[1;31mSyntaxError\u001b[0m\u001b[1;31m:\u001b[0m unexpected character after line continuation character\n"
     ]
    }
   ],
   "source": [
    "# Arithmetic Operator\n",
    "x=45\n",
    "y=10\n",
    "print(x+y)\n",
    "print(x-y)\n",
    "print(x*y)\n",
    "print(x\\y)"
   ]
  },
  {
   "cell_type": "code",
   "execution_count": 13,
   "id": "7dd3ee26",
   "metadata": {},
   "outputs": [
    {
     "name": "stdout",
     "output_type": "stream",
     "text": [
      "7.5\n",
      "3\n",
      "64\n",
      "64\n",
      "1\n",
      "4.3076923076923075\n"
     ]
    }
   ],
   "source": [
    "# % modulus\n",
    "print(45/6)\n",
    "print(45%6)\n",
    "\n",
    "# ** power operator\n",
    "print(2**6)\n",
    "print(4**3)\n",
    "# // floor division\n",
    "print(6//4)\n",
    "a=56\n",
    "b=13\n",
    "c=a/b\n",
    "print(c)"
   ]
  },
  {
   "cell_type": "code",
   "execution_count": 30,
   "id": "554cec95",
   "metadata": {},
   "outputs": [
    {
     "name": "stdout",
     "output_type": "stream",
     "text": [
      "489.327\n",
      "489.3266\n",
      "489.327\n"
     ]
    }
   ],
   "source": [
    "a=489.3265778\n",
    "print('%.3f'%a)\n",
    "print(\"{0:.4f}\".format(a))\n",
    "print(round(a,3))"
   ]
  },
  {
   "cell_type": "code",
   "execution_count": 38,
   "id": "b1089fee",
   "metadata": {},
   "outputs": [
    {
     "data": {
      "text/plain": [
       "0"
      ]
     },
     "execution_count": 38,
     "metadata": {},
     "output_type": "execute_result"
    }
   ],
   "source": [
    "# relational Operator\n",
    "# True False\n",
    "int(89<52)"
   ]
  },
  {
   "cell_type": "code",
   "execution_count": 39,
   "id": "31aec739",
   "metadata": {},
   "outputs": [
    {
     "name": "stdout",
     "output_type": "stream",
     "text": [
      "True\n",
      "False\n",
      "False\n",
      "False\n",
      "True\n",
      "False\n"
     ]
    }
   ],
   "source": [
    "print(89>32) #true\n",
    "print(45<21) #false\n",
    "print(35==21) #false\n",
    "print(45>=121) #false\n",
    "print(48<=254) #true\n",
    "print(45!=45) #false"
   ]
  },
  {
   "cell_type": "code",
   "execution_count": 45,
   "id": "4314db03",
   "metadata": {},
   "outputs": [
    {
     "name": "stdout",
     "output_type": "stream",
     "text": [
      "False\n"
     ]
    }
   ],
   "source": [
    "# print(45<48 and 87>=45 and 35<=48)\n",
    "print(45>=48 or 25>87 or 45>89)"
   ]
  },
  {
   "cell_type": "code",
   "execution_count": 49,
   "id": "b73dd8e4",
   "metadata": {},
   "outputs": [
    {
     "name": "stdout",
     "output_type": "stream",
     "text": [
      "False\n"
     ]
    }
   ],
   "source": [
    "print(not(87>32))"
   ]
  }
 ],
 "metadata": {
  "kernelspec": {
   "display_name": "Python 3 (ipykernel)",
   "language": "python",
   "name": "python3"
  },
  "language_info": {
   "codemirror_mode": {
    "name": "ipython",
    "version": 3
   },
   "file_extension": ".py",
   "mimetype": "text/x-python",
   "name": "python",
   "nbconvert_exporter": "python",
   "pygments_lexer": "ipython3",
   "version": "3.9.12"
  }
 },
 "nbformat": 4,
 "nbformat_minor": 5
}
