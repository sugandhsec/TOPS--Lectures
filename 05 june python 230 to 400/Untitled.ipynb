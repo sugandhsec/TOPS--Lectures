{
 "cells": [
  {
   "cell_type": "code",
   "execution_count": 14,
   "id": "a31d2674",
   "metadata": {},
   "outputs": [
    {
     "name": "stdout",
     "output_type": "stream",
     "text": [
      "hello World\n"
     ]
    }
   ],
   "source": [
    "print(\"hello World\")\n",
    "# Sugandh"
   ]
  },
  {
   "cell_type": "code",
   "execution_count": null,
   "id": "be358125",
   "metadata": {},
   "outputs": [],
   "source": [
    "Iterables\n",
    "\n",
    "range\n",
    "string\n",
    "list\n",
    "tuple\n",
    "set\n",
    "dictionary"
   ]
  },
  {
   "cell_type": "code",
   "execution_count": null,
   "id": "66e00008",
   "metadata": {},
   "outputs": [],
   "source": [
    "# loop \n",
    "# For loop iterables---collection\n",
    "# While Loop ---condition"
   ]
  },
  {
   "cell_type": "code",
   "execution_count": null,
   "id": "d6cdb526",
   "metadata": {},
   "outputs": [],
   "source": [
    "# range([start],stop[,step])\n",
    "by default start point is 0\n",
    "by deafult step point is 1\n",
    "range(1,6,2)"
   ]
  },
  {
   "cell_type": "code",
   "execution_count": 4,
   "id": "c5207694",
   "metadata": {},
   "outputs": [
    {
     "name": "stdout",
     "output_type": "stream",
     "text": [
      "range(1, 10)\n"
     ]
    }
   ],
   "source": [
    "print(range(1,10))"
   ]
  },
  {
   "cell_type": "code",
   "execution_count": 7,
   "id": "14ba88c8",
   "metadata": {},
   "outputs": [
    {
     "name": "stdout",
     "output_type": "stream",
     "text": [
      "H\n",
      "e\n",
      "l\n",
      "l\n",
      "o\n"
     ]
    }
   ],
   "source": [
    "for i in \"Hello\":\n",
    "    print(i)"
   ]
  },
  {
   "cell_type": "code",
   "execution_count": 12,
   "id": "05ce6760",
   "metadata": {},
   "outputs": [
    {
     "name": "stdout",
     "output_type": "stream",
     "text": [
      "Hello 200\n",
      "Hello 201\n",
      "Hello 202\n",
      "Hello 203\n",
      "Hello 204\n",
      "Hello 205\n",
      "Hello 206\n",
      "Hello 207\n",
      "Hello 208\n",
      "Hello 209\n",
      "Hello 210\n",
      "Hello 211\n",
      "Hello 212\n",
      "Hello 213\n",
      "Hello 214\n",
      "Hello 215\n",
      "Hello 216\n",
      "Hello 217\n",
      "Hello 218\n",
      "Hello 219\n",
      "Hello 220\n"
     ]
    }
   ],
   "source": [
    "for i in range(200,221):\n",
    "    print(\"Hello\",i)"
   ]
  },
  {
   "cell_type": "code",
   "execution_count": 17,
   "id": "c37b44d7",
   "metadata": {},
   "outputs": [],
   "source": [
    "# for i in range(-9,3):\n",
    "#     print(i)\n",
    "range(1,5,1)"
   ]
  },
  {
   "cell_type": "code",
   "execution_count": null,
   "id": "ecd937dd",
   "metadata": {},
   "outputs": [],
   "source": [
    "-8 -7 -6 -5 -4 -3 -2 -1 0 1 2 3 4 5 6 7 8 9 \n",
    "step positive direction left to right\n",
    "step negative direction right to left"
   ]
  },
  {
   "cell_type": "code",
   "execution_count": 35,
   "id": "021e5c11",
   "metadata": {},
   "outputs": [
    {
     "name": "stdout",
     "output_type": "stream",
     "text": [
      "6\n",
      "5\n",
      "4\n",
      "3\n",
      "2\n",
      "1\n",
      "0\n",
      "-1\n",
      "-2\n",
      "-3\n",
      "-4\n",
      "-5\n"
     ]
    }
   ],
   "source": [
    "for i in range(6,-6,-1):\n",
    "    print(i)"
   ]
  },
  {
   "cell_type": "code",
   "execution_count": null,
   "id": "ef14e79f",
   "metadata": {},
   "outputs": [],
   "source": [
    "# while loop\n",
    "while condition:\n",
    "    code"
   ]
  },
  {
   "cell_type": "code",
   "execution_count": 38,
   "id": "76ab0fa5",
   "metadata": {},
   "outputs": [
    {
     "name": "stdout",
     "output_type": "stream",
     "text": [
      "WOW 10\n",
      "WOW 9\n",
      "WOW 8\n",
      "WOW 7\n",
      "WOW 6\n"
     ]
    }
   ],
   "source": [
    "a=10\n",
    "while a>5:\n",
    "    print(\"WOW\",a)\n",
    "    a-=1"
   ]
  },
  {
   "cell_type": "code",
   "execution_count": 39,
   "id": "397fac45",
   "metadata": {},
   "outputs": [
    {
     "name": "stdout",
     "output_type": "stream",
     "text": [
      "hello World\n",
      "hello World\n",
      "hello World\n",
      "hello World\n",
      "hello World\n",
      "hello World\n",
      "hello World\n",
      "hello World\n",
      "hello World\n",
      "hello World\n"
     ]
    }
   ],
   "source": [
    "for j in range(1,5):\n",
    "    for i in range(1,11):\n",
    "        print(\"hello World\")\n",
    "        \n",
    "0 1 1 2 3 5 8 13"
   ]
  }
 ],
 "metadata": {
  "kernelspec": {
   "display_name": "Python 3 (ipykernel)",
   "language": "python",
   "name": "python3"
  },
  "language_info": {
   "codemirror_mode": {
    "name": "ipython",
    "version": 3
   },
   "file_extension": ".py",
   "mimetype": "text/x-python",
   "name": "python",
   "nbconvert_exporter": "python",
   "pygments_lexer": "ipython3",
   "version": "3.9.12"
  }
 },
 "nbformat": 4,
 "nbformat_minor": 5
}
