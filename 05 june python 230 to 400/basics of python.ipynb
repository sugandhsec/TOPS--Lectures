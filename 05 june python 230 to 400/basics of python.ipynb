{
 "cells": [
  {
   "cell_type": "code",
   "execution_count": 1,
   "id": "fd43b0ec",
   "metadata": {},
   "outputs": [
    {
     "ename": "NameError",
     "evalue": "name 'sfdhbfdfdbfdb' is not defined",
     "output_type": "error",
     "traceback": [
      "\u001b[1;31m---------------------------------------------------------------------------\u001b[0m",
      "\u001b[1;31mNameError\u001b[0m                                 Traceback (most recent call last)",
      "Input \u001b[1;32mIn [1]\u001b[0m, in \u001b[0;36m<cell line: 1>\u001b[1;34m()\u001b[0m\n\u001b[1;32m----> 1\u001b[0m \u001b[43msfdhbfdfdbfdb\u001b[49m\n",
      "\u001b[1;31mNameError\u001b[0m: name 'sfdhbfdfdbfdb' is not defined"
     ]
    }
   ],
   "source": [
    "sfdhbfdfdbfdb"
   ]
  },
  {
   "cell_type": "code",
   "execution_count": null,
   "id": "e039834b",
   "metadata": {},
   "outputs": [],
   "source": []
  },
  {
   "cell_type": "code",
   "execution_count": null,
   "id": "c97bfca5",
   "metadata": {},
   "outputs": [],
   "source": [
    "\n",
    "# develope screen\n",
    "# user screen\n",
    "# Esc edit---no editing mode\n",
    "# string --- \"  \"  '   '  \"\"\"   \"\"\"   '''      '''\n",
    "# ctrl + enter"
   ]
  },
  {
   "cell_type": "code",
   "execution_count": 3,
   "id": "1e1f4ea0",
   "metadata": {},
   "outputs": [
    {
     "name": "stdout",
     "output_type": "stream",
     "text": [
      "Good Morning all\n",
      "fjkh fv fd fdbv bn fdbgv rjhvsdjhv fdjbnrjkgbg\n"
     ]
    }
   ],
   "source": [
    "print(\"Good Morning all\")\n",
    "print(\"fjkh fv fd fdbv bn fdbgv rjhvsdjhv fdjbnrjkgbg\")\n",
    "# print function\n",
    "print()\n",
    "dir()\n",
    "id()\n",
    "input()\n",
    "gergerg"
   ]
  },
  {
   "cell_type": "code",
   "execution_count": 4,
   "id": "5a95c175",
   "metadata": {},
   "outputs": [
    {
     "name": "stdout",
     "output_type": "stream",
     "text": [
      "ehrjkugherjkhbekr\n",
      "ergegegergerg\n",
      "erfgertbevherb ergherbjhg\n",
      "gvjehrfgvberh hfbvjehv j\n"
     ]
    }
   ],
   "source": [
    "print(\"ehrjkugherjkhbekr\")\n",
    "print('ergegegergerg')\n",
    "print('''erfgertbevherb ergherbjhg''')\n",
    "print(\"\"\"gvjehrfgvberh hfbvjehv j\"\"\")"
   ]
  },
  {
   "cell_type": "code",
   "execution_count": 5,
   "id": "2eee8b25",
   "metadata": {},
   "outputs": [
    {
     "ename": "NameError",
     "evalue": "name 'erhguthrjhh' is not defined",
     "output_type": "error",
     "traceback": [
      "\u001b[1;31m---------------------------------------------------------------------------\u001b[0m",
      "\u001b[1;31mNameError\u001b[0m                                 Traceback (most recent call last)",
      "Input \u001b[1;32mIn [5]\u001b[0m, in \u001b[0;36m<cell line: 1>\u001b[1;34m()\u001b[0m\n\u001b[1;32m----> 1\u001b[0m \u001b[38;5;28mprint\u001b[39m(\u001b[43merhguthrjhh\u001b[49m)\n",
      "\u001b[1;31mNameError\u001b[0m: name 'erhguthrjhh' is not defined"
     ]
    }
   ],
   "source": [
    "print(erhguthrjhh)"
   ]
  },
  {
   "cell_type": "code",
   "execution_count": 6,
   "id": "47c19559",
   "metadata": {},
   "outputs": [
    {
     "ename": "NameError",
     "evalue": "name 'prin' is not defined",
     "output_type": "error",
     "traceback": [
      "\u001b[1;31m---------------------------------------------------------------------------\u001b[0m",
      "\u001b[1;31mNameError\u001b[0m                                 Traceback (most recent call last)",
      "Input \u001b[1;32mIn [6]\u001b[0m, in \u001b[0;36m<cell line: 1>\u001b[1;34m()\u001b[0m\n\u001b[1;32m----> 1\u001b[0m \u001b[43mprin\u001b[49m(\u001b[38;5;124m\"\u001b[39m\u001b[38;5;124mfggegergerg\u001b[39m\u001b[38;5;124m\"\u001b[39m)\n",
      "\u001b[1;31mNameError\u001b[0m: name 'prin' is not defined"
     ]
    }
   ],
   "source": [
    "prin(\"fggegergerg\")"
   ]
  },
  {
   "cell_type": "code",
   "execution_count": 7,
   "id": "0d8ca65f",
   "metadata": {},
   "outputs": [
    {
     "ename": "SyntaxError",
     "evalue": "EOL while scanning string literal (700296630.py, line 1)",
     "output_type": "error",
     "traceback": [
      "\u001b[1;36m  Input \u001b[1;32mIn [7]\u001b[1;36m\u001b[0m\n\u001b[1;33m    print(\"ergertgrger)\u001b[0m\n\u001b[1;37m                       ^\u001b[0m\n\u001b[1;31mSyntaxError\u001b[0m\u001b[1;31m:\u001b[0m EOL while scanning string literal\n"
     ]
    }
   ],
   "source": [
    "print(\"ergertgrger)\n",
    "#       EOL --end of line"
   ]
  },
  {
   "cell_type": "code",
   "execution_count": 10,
   "id": "b31f4986",
   "metadata": {},
   "outputs": [
    {
     "ename": "SyntaxError",
     "evalue": "unexpected EOF while parsing (2269996916.py, line 1)",
     "output_type": "error",
     "traceback": [
      "\u001b[1;36m  Input \u001b[1;32mIn [10]\u001b[1;36m\u001b[0m\n\u001b[1;33m    print(\"rfgergergergeger\"\u001b[0m\n\u001b[1;37m                            ^\u001b[0m\n\u001b[1;31mSyntaxError\u001b[0m\u001b[1;31m:\u001b[0m unexpected EOF while parsing\n"
     ]
    }
   ],
   "source": [
    "print(\"rfgergergergeger\"\n",
    "#       eof--end of file`"
   ]
  },
  {
   "cell_type": "code",
   "execution_count": null,
   "id": "d8a070be",
   "metadata": {},
   "outputs": [],
   "source": [
    "print(string)"
   ]
  },
  {
   "cell_type": "code",
   "execution_count": 11,
   "id": "49558ece",
   "metadata": {},
   "outputs": [
    {
     "name": "stdout",
     "output_type": "stream",
     "text": [
      "vbdjehvb grv bn hgv bn hgv b hgv hgverjhgvb hgvjv vgv  hgvc b hgc b h cwebfjvfjsdjkhrbvj bfjvejhverbjhgverbjhv ejhvbejhvb fjhvbe jvhre\n"
     ]
    }
   ],
   "source": [
    "print(\"vbdjehvb grv bn hgv bn hgv b hgv hgverjhgvb hgvjv vgv  hgvc b hgc b h cwebfjvfjsdjkhrbvj bfjvejhverbjhgverbjhv ejhvbejhvb fjhvbe jvhre\")"
   ]
  },
  {
   "cell_type": "code",
   "execution_count": null,
   "id": "3708f300",
   "metadata": {},
   "outputs": [],
   "source": [
    ",---comma\n",
    "'---single quote \" \"\"\"\n",
    ": ---colon\n",
    "    ;--semi colon\n",
    "    ( ---round bracktes\n",
    "    { --curly bracktes\n",
    "     [---square bracktes\n",
    "      -   hyphen\n",
    "      _ underscore\n",
    "      ` --backtick\n",
    "      ~ tilde\n",
    "      \\  backslash\n",
    "      / forward slash"
   ]
  },
  {
   "cell_type": "code",
   "execution_count": null,
   "id": "59b54dcd",
   "metadata": {},
   "outputs": [],
   "source": [
    "# Escape Sequence---- \\\n",
    "\n",
    "\\n --newline character\n",
    "\\t ---tab space\n",
    "\\'\n",
    "\\\" ---double quote\n",
    "\\b--- backspace"
   ]
  },
  {
   "cell_type": "code",
   "execution_count": 16,
   "id": "fff8f14b",
   "metadata": {},
   "outputs": [
    {
     "name": "stdout",
     "output_type": "stream",
     "text": [
      "Welcomennn\n",
      "nn to P\tytho\n",
      " Wor\tld\n"
     ]
    }
   ],
   "source": [
    "\"jdfk bvhbvvbv\" wfwerfwfwefwefw\""
   ]
  },
  {
   "cell_type": "code",
   "execution_count": 24,
   "id": "5755725f",
   "metadata": {},
   "outputs": [
    {
     "name": "stdout",
     "output_type": "stream",
     "text": [
      "Hello i\"am le'arning Python\n",
      "egeg erger fdverg\"erger 'eger\n",
      "efger eger\b\b\b\bg\n"
     ]
    }
   ],
   "source": [
    "# Hello i\"am learning Python\n",
    "print(\"Hello i\\\"am le'arning Python\")\n",
    "print('egeg erger fdverg\"erger \\'eger')\n",
    "print(\"efger eger\\b\\b\\b\\bg\")"
   ]
  }
 ],
 "metadata": {
  "kernelspec": {
   "display_name": "Python 3 (ipykernel)",
   "language": "python",
   "name": "python3"
  },
  "language_info": {
   "codemirror_mode": {
    "name": "ipython",
    "version": 3
   },
   "file_extension": ".py",
   "mimetype": "text/x-python",
   "name": "python",
   "nbconvert_exporter": "python",
   "pygments_lexer": "ipython3",
   "version": "3.9.12"
  }
 },
 "nbformat": 4,
 "nbformat_minor": 5
}
