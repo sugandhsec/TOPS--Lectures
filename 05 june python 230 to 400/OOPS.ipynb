{
 "cells": [
  {
   "cell_type": "code",
   "execution_count": 1,
   "id": "54092233",
   "metadata": {},
   "outputs": [
    {
     "name": "stdout",
     "output_type": "stream",
     "text": [
      "Defaulting to user installation because normal site-packages is not writeable\n",
      "Requirement already satisfied: requests in c:\\programdata\\anaconda3\\lib\\site-packages (2.27.1)\n",
      "Requirement already satisfied: urllib3<1.27,>=1.21.1 in c:\\programdata\\anaconda3\\lib\\site-packages (from requests) (1.26.9)\n",
      "Requirement already satisfied: certifi>=2017.4.17 in c:\\programdata\\anaconda3\\lib\\site-packages (from requests) (2021.10.8)\n",
      "Requirement already satisfied: idna<4,>=2.5 in c:\\programdata\\anaconda3\\lib\\site-packages (from requests) (3.3)\n",
      "Requirement already satisfied: charset-normalizer~=2.0.0 in c:\\programdata\\anaconda3\\lib\\site-packages (from requests) (2.0.4)\n",
      "Note: you may need to restart the kernel to use updated packages.\n"
     ]
    }
   ],
   "source": [
    "pip install requests\n"
   ]
  },
  {
   "cell_type": "code",
   "execution_count": null,
   "id": "465aa511",
   "metadata": {},
   "outputs": [],
   "source": [
    "# OOPS\n",
    "# Object Orineted Programming"
   ]
  },
  {
   "cell_type": "code",
   "execution_count": null,
   "id": "985fa478",
   "metadata": {},
   "outputs": [],
   "source": [
    "class\n",
    "object\n",
    "constructor ----- function \n",
    "destructor\n",
    "encapsulation\n",
    "inheritance\n",
    "polymorphism\n"
   ]
  },
  {
   "cell_type": "code",
   "execution_count": null,
   "id": "4a20996e",
   "metadata": {},
   "outputs": [],
   "source": [
    "class\n",
    "\n",
    "variables---data mebers---attribute of class\n",
    "function---methods--behvaiour of class----member function\n",
    "len()\n",
    "\n",
    "stringname.methods"
   ]
  },
  {
   "cell_type": "code",
   "execution_count": null,
   "id": "36c09378",
   "metadata": {},
   "outputs": [],
   "source": [
    "class classname:\n",
    "    data members\n",
    "    methods"
   ]
  },
  {
   "cell_type": "code",
   "execution_count": null,
   "id": "1fba3c63",
   "metadata": {},
   "outputs": [],
   "source": [
    "object"
   ]
  },
  {
   "cell_type": "code",
   "execution_count": 9,
   "id": "f4cd47f6",
   "metadata": {},
   "outputs": [
    {
     "name": "stdout",
     "output_type": "stream",
     "text": [
      "<class 'str'>\n"
     ]
    },
    {
     "ename": "TypeError",
     "evalue": "unsupported operand type(s) for @: 'str' and 'int'",
     "output_type": "error",
     "traceback": [
      "\u001b[1;31m---------------------------------------------------------------------------\u001b[0m",
      "\u001b[1;31mTypeError\u001b[0m                                 Traceback (most recent call last)",
      "Input \u001b[1;32mIn [9]\u001b[0m, in \u001b[0;36m<cell line: 4>\u001b[1;34m()\u001b[0m\n\u001b[0;32m      2\u001b[0m b\u001b[38;5;241m=\u001b[39m\u001b[38;5;241m98\u001b[39m\n\u001b[0;32m      3\u001b[0m \u001b[38;5;28mprint\u001b[39m(\u001b[38;5;28mtype\u001b[39m(a))\n\u001b[1;32m----> 4\u001b[0m \u001b[43ma\u001b[49m\u001b[38;5;129;43m@b\u001b[39;49m\n",
      "\u001b[1;31mTypeError\u001b[0m: unsupported operand type(s) for @: 'str' and 'int'"
     ]
    }
   ],
   "source": [
    "a=\"rthrth\"\n",
    "b=98\n",
    "print(type(a))\n",
    "a@b"
   ]
  },
  {
   "cell_type": "code",
   "execution_count": null,
   "id": "0d7534ed",
   "metadata": {},
   "outputs": [],
   "source": [
    "len(list1)\n",
    "list1=[45,36,58]\n",
    "list1.append()"
   ]
  },
  {
   "cell_type": "code",
   "execution_count": 14,
   "id": "05c02cd5",
   "metadata": {},
   "outputs": [
    {
     "name": "stdout",
     "output_type": "stream",
     "text": [
      "Enter NAme: Sugandh Gupta\n",
      "Enter Age: 48\n",
      "2612773395616\n",
      "2612773395616\n",
      "Enter NAme: efjhgvk\n",
      "Enter Age: 15\n",
      "2612775920880\n",
      "2612775920880\n"
     ]
    }
   ],
   "source": [
    "class student:\n",
    "    def __init__(self): #constructor\n",
    "        self.name=None\n",
    "        self.age=None\n",
    "        \n",
    "    def getdata(self):\n",
    "        self.name=input(\"Enter NAme: \")\n",
    "        self.age=int(input(\"Enter Age: \"))\n",
    "        print(id(self))\n",
    "    def showdata(self):\n",
    "        print(f\"name={self.name},age={self.age}\")\n",
    "        \n",
    "s1=student()\n",
    "s2=student()\n",
    "s3=student()\n",
    "s1.getdata()\n",
    "print(id(s1))\n",
    "s2.getdata()\n",
    "print(id(s2))\n",
    "# s2.showdata()\n",
    "# s1.showdata()"
   ]
  },
  {
   "cell_type": "code",
   "execution_count": 12,
   "id": "425a8f97",
   "metadata": {},
   "outputs": [
    {
     "ename": "AttributeError",
     "evalue": "'str' object has no attribute 'append'",
     "output_type": "error",
     "traceback": [
      "\u001b[1;31m---------------------------------------------------------------------------\u001b[0m",
      "\u001b[1;31mAttributeError\u001b[0m                            Traceback (most recent call last)",
      "Input \u001b[1;32mIn [12]\u001b[0m, in \u001b[0;36m<cell line: 2>\u001b[1;34m()\u001b[0m\n\u001b[0;32m      1\u001b[0m str1\u001b[38;5;241m=\u001b[39m\u001b[38;5;124m\"\u001b[39m\u001b[38;5;124mrfgvnjv\u001b[39m\u001b[38;5;124m\"\u001b[39m\n\u001b[1;32m----> 2\u001b[0m \u001b[43mstr1\u001b[49m\u001b[38;5;241;43m.\u001b[39;49m\u001b[43mappend\u001b[49m()\n",
      "\u001b[1;31mAttributeError\u001b[0m: 'str' object has no attribute 'append'"
     ]
    }
   ],
   "source": [
    "str1=\"rfgvnjv\"\n",
    "str1.append()"
   ]
  }
 ],
 "metadata": {
  "kernelspec": {
   "display_name": "Python 3 (ipykernel)",
   "language": "python",
   "name": "python3"
  },
  "language_info": {
   "codemirror_mode": {
    "name": "ipython",
    "version": 3
   },
   "file_extension": ".py",
   "mimetype": "text/x-python",
   "name": "python",
   "nbconvert_exporter": "python",
   "pygments_lexer": "ipython3",
   "version": "3.9.12"
  }
 },
 "nbformat": 4,
 "nbformat_minor": 5
}
