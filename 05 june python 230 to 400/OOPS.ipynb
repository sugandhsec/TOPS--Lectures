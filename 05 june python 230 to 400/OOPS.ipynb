{
 "cells": [
  {
   "cell_type": "code",
   "execution_count": 1,
   "id": "54092233",
   "metadata": {},
   "outputs": [
    {
     "name": "stdout",
     "output_type": "stream",
     "text": [
      "Defaulting to user installation because normal site-packages is not writeable\n",
      "Requirement already satisfied: requests in c:\\programdata\\anaconda3\\lib\\site-packages (2.27.1)\n",
      "Requirement already satisfied: urllib3<1.27,>=1.21.1 in c:\\programdata\\anaconda3\\lib\\site-packages (from requests) (1.26.9)\n",
      "Requirement already satisfied: certifi>=2017.4.17 in c:\\programdata\\anaconda3\\lib\\site-packages (from requests) (2021.10.8)\n",
      "Requirement already satisfied: idna<4,>=2.5 in c:\\programdata\\anaconda3\\lib\\site-packages (from requests) (3.3)\n",
      "Requirement already satisfied: charset-normalizer~=2.0.0 in c:\\programdata\\anaconda3\\lib\\site-packages (from requests) (2.0.4)\n",
      "Note: you may need to restart the kernel to use updated packages.\n"
     ]
    }
   ],
   "source": [
    "pip install requests\n"
   ]
  },
  {
   "cell_type": "code",
   "execution_count": null,
   "id": "465aa511",
   "metadata": {},
   "outputs": [],
   "source": [
    "# OOPS\n",
    "# Object Orineted Programming"
   ]
  },
  {
   "cell_type": "code",
   "execution_count": null,
   "id": "985fa478",
   "metadata": {},
   "outputs": [],
   "source": [
    "class\n",
    "object\n",
    "constructor ----- function \n",
    "destructor\n",
    "inheritance\n",
    "encapsulation\n",
    "polymorphism\n"
   ]
  },
  {
   "cell_type": "code",
   "execution_count": null,
   "id": "4a20996e",
   "metadata": {},
   "outputs": [],
   "source": [
    "class\n",
    "\n",
    "variables---data mebers---attribute of class\n",
    "function---methods--behvaiour of class----member function\n",
    "len()\n",
    "\n",
    "stringname.methods"
   ]
  },
  {
   "cell_type": "code",
   "execution_count": null,
   "id": "36c09378",
   "metadata": {},
   "outputs": [],
   "source": [
    "class classname:\n",
    "    data members\n",
    "    methods"
   ]
  },
  {
   "cell_type": "code",
   "execution_count": null,
   "id": "1fba3c63",
   "metadata": {},
   "outputs": [],
   "source": [
    "object"
   ]
  },
  {
   "cell_type": "code",
   "execution_count": 9,
   "id": "f4cd47f6",
   "metadata": {},
   "outputs": [
    {
     "name": "stdout",
     "output_type": "stream",
     "text": [
      "<class 'str'>\n"
     ]
    },
    {
     "ename": "TypeError",
     "evalue": "unsupported operand type(s) for @: 'str' and 'int'",
     "output_type": "error",
     "traceback": [
      "\u001b[1;31m---------------------------------------------------------------------------\u001b[0m",
      "\u001b[1;31mTypeError\u001b[0m                                 Traceback (most recent call last)",
      "Input \u001b[1;32mIn [9]\u001b[0m, in \u001b[0;36m<cell line: 4>\u001b[1;34m()\u001b[0m\n\u001b[0;32m      2\u001b[0m b\u001b[38;5;241m=\u001b[39m\u001b[38;5;241m98\u001b[39m\n\u001b[0;32m      3\u001b[0m \u001b[38;5;28mprint\u001b[39m(\u001b[38;5;28mtype\u001b[39m(a))\n\u001b[1;32m----> 4\u001b[0m \u001b[43ma\u001b[49m\u001b[38;5;129;43m@b\u001b[39;49m\n",
      "\u001b[1;31mTypeError\u001b[0m: unsupported operand type(s) for @: 'str' and 'int'"
     ]
    }
   ],
   "source": [
    "a=\"rthrth\"\n",
    "b=98\n",
    "print(type(a))\n",
    "a@b"
   ]
  },
  {
   "cell_type": "code",
   "execution_count": null,
   "id": "0d7534ed",
   "metadata": {},
   "outputs": [],
   "source": [
    "len(list1)\n",
    "list1=[45,36,58]\n",
    "list1.append()"
   ]
  },
  {
   "cell_type": "code",
   "execution_count": 14,
   "id": "05c02cd5",
   "metadata": {},
   "outputs": [
    {
     "name": "stdout",
     "output_type": "stream",
     "text": [
      "Enter NAme: Sugandh Gupta\n",
      "Enter Age: 48\n",
      "2612773395616\n",
      "2612773395616\n",
      "Enter NAme: efjhgvk\n",
      "Enter Age: 15\n",
      "2612775920880\n",
      "2612775920880\n"
     ]
    }
   ],
   "source": [
    "class student:\n",
    "    def __init__(self): #constructor\n",
    "        self.name=None\n",
    "        self.age=None\n",
    "        \n",
    "    def getdata(self):\n",
    "        self.name=input(\"Enter NAme: \")\n",
    "        self.age=int(input(\"Enter Age: \"))\n",
    "        print(id(self))\n",
    "    def showdata(self):\n",
    "        print(f\"name={self.name},age={self.age}\")\n",
    "        \n",
    "s1=student()\n",
    "s2=student()\n",
    "s3=student()\n",
    "s1.getdata()\n",
    "print(id(s1))\n",
    "s2.getdata()\n",
    "print(id(s2))\n",
    "# s2.showdata()\n",
    "# s1.showdata()"
   ]
  },
  {
   "cell_type": "code",
   "execution_count": 12,
   "id": "425a8f97",
   "metadata": {},
   "outputs": [
    {
     "ename": "AttributeError",
     "evalue": "'str' object has no attribute 'append'",
     "output_type": "error",
     "traceback": [
      "\u001b[1;31m---------------------------------------------------------------------------\u001b[0m",
      "\u001b[1;31mAttributeError\u001b[0m                            Traceback (most recent call last)",
      "Input \u001b[1;32mIn [12]\u001b[0m, in \u001b[0;36m<cell line: 2>\u001b[1;34m()\u001b[0m\n\u001b[0;32m      1\u001b[0m str1\u001b[38;5;241m=\u001b[39m\u001b[38;5;124m\"\u001b[39m\u001b[38;5;124mrfgvnjv\u001b[39m\u001b[38;5;124m\"\u001b[39m\n\u001b[1;32m----> 2\u001b[0m \u001b[43mstr1\u001b[49m\u001b[38;5;241;43m.\u001b[39;49m\u001b[43mappend\u001b[49m()\n",
      "\u001b[1;31mAttributeError\u001b[0m: 'str' object has no attribute 'append'"
     ]
    }
   ],
   "source": [
    "str1=\"rfgvnjv\"\n",
    "str1.append()"
   ]
  },
  {
   "cell_type": "code",
   "execution_count": null,
   "id": "f5487bb2",
   "metadata": {},
   "outputs": [],
   "source": [
    "def functionname(parameters):\n",
    "    body\n",
    "    return \n",
    "    \n",
    "a=functionname()"
   ]
  },
  {
   "cell_type": "code",
   "execution_count": null,
   "id": "26b9e9c7",
   "metadata": {},
   "outputs": [],
   "source": [
    "constructor----\n",
    "it is a special method\n",
    "\n",
    "constructor name is __init__(self)\n",
    "constrcutor will be called automatically when object is defined\n",
    "constructor never return anything\n",
    "\n",
    "constructor is used for initialization\n",
    "when we have to do any task compulsorily then we use constructor"
   ]
  },
  {
   "cell_type": "code",
   "execution_count": null,
   "id": "7ab60527",
   "metadata": {},
   "outputs": [],
   "source": [
    "destructor __del__"
   ]
  },
  {
   "cell_type": "code",
   "execution_count": null,
   "id": "530d2dfa",
   "metadata": {},
   "outputs": [],
   "source": [
    "# inheritance---virasat \n",
    "\n",
    "super class---base class---parent class\n",
    "\n",
    "sub class----derived class---child class\n",
    "\n",
    "\n",
    "# types of inheritance\n",
    "\n",
    "1---Single Inheritance\n",
    "2---multilevel Inheritance\n",
    "3---Multiple Inheritance'\n",
    "4---Hierarchical Inherirtance\n",
    "5---Hybrid Inheritance"
   ]
  },
  {
   "cell_type": "code",
   "execution_count": 33,
   "id": "550c1b76",
   "metadata": {},
   "outputs": [],
   "source": [
    "class A:\n",
    "    def __init__(self):\n",
    "        self.x=None\n",
    "        self.y=None\n",
    "        \n",
    "    def geta(self):\n",
    "        self.x=int(input(\"Enter number: \"))\n",
    "        self.y=int(input(\"Enter number: \"))\n",
    "        \n",
    "    def showa(self):\n",
    "        print(f\"Value of x is {self.x} and Value of Y is {self.y}\")\n",
    "        \n",
    "class B(A):\n",
    "    def __init__(self):\n",
    "        self.m=None\n",
    "        self.n=None\n",
    "        super().__init__() #calling parent class constructor\n",
    "        \n",
    "    def getb(self):\n",
    "        self.m=int(input(\"Enter number: \"))\n",
    "        self.n=int(input(\"Enter number: \"))\n",
    "        \n",
    "    def showb(self):\n",
    "        print(f\"Value of m is {self.m} and Value of N is {self.n}\")"
   ]
  },
  {
   "cell_type": "code",
   "execution_count": 34,
   "id": "f3a352db",
   "metadata": {},
   "outputs": [
    {
     "name": "stdout",
     "output_type": "stream",
     "text": [
      "Value of m is None and Value of N is None\n",
      "Value of x is None and Value of Y is None\n"
     ]
    }
   ],
   "source": [
    "a1=A()\n",
    "b1=B()\n",
    "b1.showb()\n",
    "b1.showa()"
   ]
  },
  {
   "cell_type": "code",
   "execution_count": 1,
   "id": "c86fab63",
   "metadata": {},
   "outputs": [],
   "source": [
    "class A:\n",
    "    def __init__(self):\n",
    "        self.x=None\n",
    "        self.y=None\n",
    "        \n",
    "    def geta(self):\n",
    "        self.x=int(input(\"Enter number: \"))\n",
    "        self.y=int(input(\"Enter number: \"))\n",
    "        \n",
    "    def showa(self):\n",
    "        print(f\"Value of x is {self.x} and Value of Y is {self.y}\")\n",
    "        \n",
    "class B(A):\n",
    "    def __init__(self):\n",
    "        self.m=None\n",
    "        self.n=None\n",
    "        super().__init__() #calling parent class constructor\n",
    "        \n",
    "    def getb(self):\n",
    "        self.m=int(input(\"Enter number: \"))\n",
    "        self.n=int(input(\"Enter number: \"))\n",
    "        \n",
    "    def showb(self):\n",
    "        print(f\"Value of m is {self.m} and Value of N is {self.n}\")\n",
    "class C(B):\n",
    "    def __init__(self):\n",
    "        self.a=None\n",
    "        self.b=None\n",
    "        super().__init__() #calling parent class constructor\n",
    "        \n",
    "    def getc(self):\n",
    "        self.a=int(input(\"Enter number: \"))\n",
    "        self.b=int(input(\"Enter number: \"))\n",
    "        \n",
    "    def showc(self):\n",
    "        print(f\"Value of m is {self.a} and Value of N is {self.b}\")"
   ]
  },
  {
   "cell_type": "code",
   "execution_count": 2,
   "id": "bc3eebac",
   "metadata": {},
   "outputs": [
    {
     "name": "stdout",
     "output_type": "stream",
     "text": [
      "Enter number: 45\n",
      "Enter number: 25\n",
      "Enter number: 101\n",
      "Enter number: 102\n",
      "Enter number: 569\n",
      "Enter number: 256\n",
      "Value of x is 45 and Value of Y is 25\n",
      "Value of m is 101 and Value of N is 102\n",
      "Value of m is 569 and Value of N is 256\n"
     ]
    }
   ],
   "source": [
    "a1=A()\n",
    "b1=B()\n",
    "c1=C()\n",
    "c1.geta()\n",
    "c1.getb()\n",
    "c1.getc()\n",
    "c1.showa()\n",
    "c1.showb()\n",
    "c1.showc()"
   ]
  },
  {
   "cell_type": "code",
   "execution_count": 1,
   "id": "c8928bdc",
   "metadata": {},
   "outputs": [],
   "source": [
    "class A:\n",
    "    def __init__(self):\n",
    "        self.x=None\n",
    "        self.y=None\n",
    "        \n",
    "    def geta(self):\n",
    "        self.x=int(input(\"Enter number: \"))\n",
    "        self.y=int(input(\"Enter number: \"))\n",
    "        \n",
    "    def showa(self):\n",
    "        print(f\"Value of x is {self.x} and Value of Y is {self.y}\")\n",
    "        \n",
    "class B(A):\n",
    "    def __init__(self):\n",
    "        self.m=None\n",
    "        self.n=None\n",
    "        #calling parent class constructor\n",
    "        \n",
    "    def getb(self):\n",
    "        self.m=int(input(\"Enter number: \"))\n",
    "        self.n=int(input(\"Enter number: \"))\n",
    "        \n",
    "    def showb(self):\n",
    "        print(f\"Value of m is {self.m} and Value of N is {self.n}\")\n",
    "class C(A):\n",
    "    def __init__(self):\n",
    "        self.a=None\n",
    "        self.b=None\n",
    "        super().__init__()#calling parent class constructor\n",
    "        \n",
    "    def getc(self):\n",
    "        self.a=int(input(\"Enter number: \"))\n",
    "        self.b=int(input(\"Enter number: \"))\n",
    "        \n",
    "    def showc(self):\n",
    "        print(f\"Value of a is {self.a} and Value of b is {self.b}\")"
   ]
  },
  {
   "cell_type": "code",
   "execution_count": null,
   "id": "9ef0e621",
   "metadata": {},
   "outputs": [],
   "source": []
  },
  {
   "cell_type": "code",
   "execution_count": 2,
   "id": "22d4aee6",
   "metadata": {},
   "outputs": [
    {
     "name": "stdout",
     "output_type": "stream",
     "text": [
      "Enter number: 45\n",
      "Enter number: 12\n",
      "Enter number: 102\n",
      "Enter number: 105\n",
      "Enter number: 487\n",
      "Enter number: 489\n",
      "Value of x is 45 and Value of Y is 12\n",
      "Value of m is 102 and Value of N is 105\n",
      "Value of a is 487 and Value of b is 489\n"
     ]
    }
   ],
   "source": [
    "c1=C()\n",
    "c1.geta()\n",
    "c1.getb()\n",
    "c1.getc()\n",
    "c1.showa()\n",
    "c1.showb()\n",
    "c1.showc()"
   ]
  },
  {
   "cell_type": "code",
   "execution_count": 10,
   "id": "9c716a93",
   "metadata": {},
   "outputs": [],
   "source": [
    "# Encapsulation\n",
    "class A:\n",
    "    def __init__(self):\n",
    "        self._x=None\n",
    "        self.y=None\n",
    "        \n",
    "    def geta(self):\n",
    "#         self.x=int(input(\"Enter number: \"))\n",
    "        self.y=int(input(\"Enter number: \"))\n",
    "        \n",
    "    def showa(self):\n",
    "        print(f\"Value of x is {self._x} and Value of Y is {self.y}\")\n",
    "        \n",
    "class B(A):\n",
    "    def __init__(self):\n",
    "        self.m=None\n",
    "        self.n=None\n",
    "        super().__init__() #calling parent class constructor\n",
    "        \n",
    "    def getb(self):\n",
    "        self.m=int(input(\"Enter number: \"))\n",
    "        self.n=int(input(\"Enter number: \"))\n",
    "        self._x=int(input(\"Enter Number\"))\n",
    "        \n",
    "    def showb(self):\n",
    "        print(f\"Value of m is {self.m} and Value of N is {self.n}\")"
   ]
  },
  {
   "cell_type": "code",
   "execution_count": 11,
   "id": "39da215c",
   "metadata": {},
   "outputs": [
    {
     "name": "stdout",
     "output_type": "stream",
     "text": [
      "Enter number: 45\n",
      "Enter number: 14\n",
      "Enter number: 45\n",
      "Enter Number78\n",
      "Value of x is 78 and Value of Y is 45\n",
      "Value of m is 14 and Value of N is 45\n",
      "78\n"
     ]
    }
   ],
   "source": [
    "b1=B()\n",
    "b1.geta()\n",
    "b1.getb()\n",
    "b1.showa()\n",
    "b1.showb()\n",
    "print(b1._x)"
   ]
  },
  {
   "cell_type": "code",
   "execution_count": 22,
   "id": "5ba697ee",
   "metadata": {},
   "outputs": [
    {
     "name": "stdout",
     "output_type": "stream",
     "text": [
      "Enter Number1: 14\n",
      "Enter number2: 45\n",
      "58\n",
      "103\n"
     ]
    }
   ],
   "source": [
    "class calculation:\n",
    "    def __init__(self):\n",
    "        self.__num1=None\n",
    "        self.__num2=None\n",
    "    \n",
    "    def getvalue(self):\n",
    "        self.__num1=int(input(\"Enter Number1: \"))\n",
    "        self.__num2=int(input(\"Enter number2: \"))\n",
    "        \n",
    "    def addition(self):\n",
    "        print(self.__num1+self.__num2)\n",
    "        \n",
    "    def setter_of_num1(self,other):\n",
    "        if type(other)==int:\n",
    "            self.__num1=other\n",
    "        else:\n",
    "            print(\"Only integersd allowed\")\n",
    "            \n",
    "    def getter_of_num1(self):\n",
    "        print(self.__num1)\n",
    "        \n",
    "c1=calculation()\n",
    "c1.getvalue()\n",
    "# c1._calculation__num1=\"hello\"\n",
    "c1.setter_of_num1(58)\n",
    "# print(c1.__num1)\n",
    "c1.getter_of_num1()\n",
    "c1.addition()\n",
    "        "
   ]
  },
  {
   "cell_type": "code",
   "execution_count": 15,
   "id": "d24d1d16",
   "metadata": {},
   "outputs": [
    {
     "ename": "TypeError",
     "evalue": "can only concatenate str (not \"int\") to str",
     "output_type": "error",
     "traceback": [
      "\u001b[1;31m---------------------------------------------------------------------------\u001b[0m",
      "\u001b[1;31mTypeError\u001b[0m                                 Traceback (most recent call last)",
      "Input \u001b[1;32mIn [15]\u001b[0m, in \u001b[0;36m<cell line: 1>\u001b[1;34m()\u001b[0m\n\u001b[1;32m----> 1\u001b[0m \u001b[38;5;28mprint\u001b[39m(\u001b[38;5;124;43m\"\u001b[39;49m\u001b[38;5;124;43mhello\u001b[39;49m\u001b[38;5;124;43m\"\u001b[39;49m\u001b[38;5;241;43m+\u001b[39;49m\u001b[38;5;241;43m28\u001b[39;49m)\n",
      "\u001b[1;31mTypeError\u001b[0m: can only concatenate str (not \"int\") to str"
     ]
    }
   ],
   "source": [
    "print(\"hello\"+28)"
   ]
  }
 ],
 "metadata": {
  "kernelspec": {
   "display_name": "Python 3 (ipykernel)",
   "language": "python",
   "name": "python3"
  },
  "language_info": {
   "codemirror_mode": {
    "name": "ipython",
    "version": 3
   },
   "file_extension": ".py",
   "mimetype": "text/x-python",
   "name": "python",
   "nbconvert_exporter": "python",
   "pygments_lexer": "ipython3",
   "version": "3.9.12"
  }
 },
 "nbformat": 4,
 "nbformat_minor": 5
}
