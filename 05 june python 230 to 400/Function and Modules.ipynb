{
 "cells": [
  {
   "cell_type": "code",
   "execution_count": null,
   "id": "2da40e23",
   "metadata": {},
   "outputs": [],
   "source": [
    "# Function"
   ]
  },
  {
   "cell_type": "code",
   "execution_count": null,
   "id": "d995520f",
   "metadata": {},
   "outputs": [],
   "source": [
    "def functionname([parameters]):\n",
    "    body of the function\n",
    "    return value\n",
    "    rfer\n",
    "    erger\n"
   ]
  },
  {
   "cell_type": "code",
   "execution_count": 25,
   "id": "d3b12d8c",
   "metadata": {},
   "outputs": [],
   "source": [
    "def greet(n):\n",
    "    print(n)\n",
    "    print(\"HGello World\")\n",
    "    return \"wonderful\""
   ]
  },
  {
   "cell_type": "code",
   "execution_count": 26,
   "id": "93f473ff",
   "metadata": {},
   "outputs": [
    {
     "name": "stdout",
     "output_type": "stream",
     "text": [
      "10\n",
      "HGello World\n",
      "wow\n",
      "HGello World\n",
      "wonderful\n"
     ]
    }
   ],
   "source": [
    "# parameters\n",
    "a=10\n",
    "greet(a)\n",
    "print(greet(\"wow\"))"
   ]
  },
  {
   "cell_type": "code",
   "execution_count": 35,
   "id": "c062a877",
   "metadata": {},
   "outputs": [],
   "source": [
    "def addition(a,b): #parameters\n",
    "    return a*b"
   ]
  },
  {
   "cell_type": "code",
   "execution_count": 36,
   "id": "aeb552a8",
   "metadata": {},
   "outputs": [
    {
     "name": "stdout",
     "output_type": "stream",
     "text": [
      "2925\n",
      "2525\n"
     ]
    },
    {
     "ename": "TypeError",
     "evalue": "can't multiply sequence by non-int of type 'str'",
     "output_type": "error",
     "traceback": [
      "\u001b[1;31m---------------------------------------------------------------------------\u001b[0m",
      "\u001b[1;31mTypeError\u001b[0m                                 Traceback (most recent call last)",
      "Input \u001b[1;32mIn [36]\u001b[0m, in \u001b[0;36m<cell line: 7>\u001b[1;34m()\u001b[0m\n\u001b[0;32m      4\u001b[0m \u001b[38;5;28mprint\u001b[39m(ans)\n\u001b[0;32m      5\u001b[0m \u001b[38;5;66;03m# add=addition(45,25,101)\u001b[39;00m\n\u001b[0;32m      6\u001b[0m \u001b[38;5;66;03m# print(add)\u001b[39;00m\n\u001b[1;32m----> 7\u001b[0m ans\u001b[38;5;241m=\u001b[39m\u001b[43maddition\u001b[49m\u001b[43m(\u001b[49m\u001b[38;5;124;43m\"\u001b[39;49m\u001b[38;5;124;43mhello\u001b[39;49m\u001b[38;5;124;43m\"\u001b[39;49m\u001b[43m,\u001b[49m\u001b[38;5;124;43m\"\u001b[39;49m\u001b[38;5;124;43mworld\u001b[39;49m\u001b[38;5;124;43m\"\u001b[39;49m\u001b[43m)\u001b[49m\n\u001b[0;32m      8\u001b[0m \u001b[38;5;28mprint\u001b[39m(ans)\n",
      "Input \u001b[1;32mIn [35]\u001b[0m, in \u001b[0;36maddition\u001b[1;34m(a, b)\u001b[0m\n\u001b[0;32m      1\u001b[0m \u001b[38;5;28;01mdef\u001b[39;00m \u001b[38;5;21maddition\u001b[39m(a,b):\n\u001b[1;32m----> 2\u001b[0m     \u001b[38;5;28;01mreturn\u001b[39;00m \u001b[43ma\u001b[49m\u001b[38;5;241;43m*\u001b[39;49m\u001b[43mb\u001b[49m\n",
      "\u001b[1;31mTypeError\u001b[0m: can't multiply sequence by non-int of type 'str'"
     ]
    }
   ],
   "source": [
    "ans=addition(45,65)\n",
    "print(ans)\n",
    "ans=addition(101,25) #arguments\n",
    "print(ans)\n",
    "# add=addition(45,25,101)\n",
    "# print(add)\n",
    "ans=addition(\"hello\",\"world\")\n",
    "print(ans)"
   ]
  },
  {
   "cell_type": "code",
   "execution_count": 46,
   "id": "aff84c69",
   "metadata": {},
   "outputs": [],
   "source": [
    "# Types of parameters \n",
    "# 1---positional parameters\n",
    "def showvalue(a,b,c):\n",
    "    print(a,b,c)\n",
    "    \n",
    "    \n"
   ]
  },
  {
   "cell_type": "code",
   "execution_count": 49,
   "id": "9399457a",
   "metadata": {},
   "outputs": [
    {
     "name": "stdout",
     "output_type": "stream",
     "text": [
      "45 25 25\n"
     ]
    }
   ],
   "source": [
    "showvalue(45,25,25)"
   ]
  },
  {
   "cell_type": "code",
   "execution_count": null,
   "id": "e519d81e",
   "metadata": {},
   "outputs": [],
   "source": [
    "# keyword argument\n",
    "def showvalue(a,b,c):\n",
    "    print(a,b,c)"
   ]
  },
  {
   "cell_type": "code",
   "execution_count": 53,
   "id": "c4bc3930",
   "metadata": {},
   "outputs": [
    {
     "ename": "TypeError",
     "evalue": "showvalue() got multiple values for argument 'a'",
     "output_type": "error",
     "traceback": [
      "\u001b[1;31m---------------------------------------------------------------------------\u001b[0m",
      "\u001b[1;31mTypeError\u001b[0m                                 Traceback (most recent call last)",
      "Input \u001b[1;32mIn [53]\u001b[0m, in \u001b[0;36m<cell line: 1>\u001b[1;34m()\u001b[0m\n\u001b[1;32m----> 1\u001b[0m \u001b[43mshowvalue\u001b[49m\u001b[43m(\u001b[49m\u001b[38;5;241;43m458\u001b[39;49m\u001b[43m,\u001b[49m\u001b[43ma\u001b[49m\u001b[38;5;241;43m=\u001b[39;49m\u001b[38;5;241;43m45\u001b[39;49m\u001b[43m,\u001b[49m\u001b[43mb\u001b[49m\u001b[38;5;241;43m=\u001b[39;49m\u001b[38;5;241;43m25\u001b[39;49m\u001b[43m)\u001b[49m\n",
      "\u001b[1;31mTypeError\u001b[0m: showvalue() got multiple values for argument 'a'"
     ]
    }
   ],
   "source": [
    "showvalue(4585,a=45,b=2)"
   ]
  },
  {
   "cell_type": "code",
   "execution_count": 65,
   "id": "d1d5dc84",
   "metadata": {},
   "outputs": [],
   "source": [
    "# 3-deafult argument\n",
    "def showdata(a=0,b=2):\n",
    "    print(a*b)\n",
    "    "
   ]
  },
  {
   "cell_type": "code",
   "execution_count": 66,
   "id": "befc01f4",
   "metadata": {},
   "outputs": [
    {
     "name": "stdout",
     "output_type": "stream",
     "text": [
      "90\n"
     ]
    }
   ],
   "source": [
    "showdata(45)"
   ]
  },
  {
   "cell_type": "code",
   "execution_count": 75,
   "id": "546d79d9",
   "metadata": {},
   "outputs": [
    {
     "name": "stdout",
     "output_type": "stream",
     "text": [
      "(45, 25, 12, 54, 78, 596, 585, 69)\n"
     ]
    }
   ],
   "source": [
    "# a--arbitrary positional argument  * --tuple\n",
    "def addition(a,d,*b):\n",
    "    print(a+b)\n",
    "addition(87,12,54,78,596,585,69)    "
   ]
  },
  {
   "cell_type": "code",
   "execution_count": 77,
   "id": "b48db5b1",
   "metadata": {},
   "outputs": [
    {
     "name": "stdout",
     "output_type": "stream",
     "text": [
      "60 90\n"
     ]
    }
   ],
   "source": [
    "# arbitrary keyword argument ** --dictionary\n",
    "def addition(a,**b):\n",
    "    print(a,b)\n",
    "addition(b=40,a=60,c=70,d=90,e=50)"
   ]
  },
  {
   "cell_type": "code",
   "execution_count": null,
   "id": "dbf01e67",
   "metadata": {},
   "outputs": [],
   "source": [
    "5-5*4*3*2*1=120\n",
    "\n",
    "factorial(5)\n",
    "factorila(8)---"
   ]
  },
  {
   "cell_type": "code",
   "execution_count": null,
   "id": "fc34272e",
   "metadata": {},
   "outputs": [],
   "source": [
    "[{'item': 'item1', 'amount': 400},\n",
    " {'item': 'item2', 'amount':300}, \n",
    " {'item': 'item2', 'amount': 750},\n",
    " {'item': 'item1', 'amount': 400},\n",
    " {'item': 'item3', 'amount':300},\n",
    " {'item': 'item3', 'amount': 400},\n",
    " {'item': 'item2', 'amount':300}]\n",
    "\n",
    "\n",
    "{\"item1\":800,\"item2\":1350,\"item3\":700}"
   ]
  },
  {
   "cell_type": "code",
   "execution_count": 91,
   "id": "2c0f4606",
   "metadata": {},
   "outputs": [
    {
     "name": "stdout",
     "output_type": "stream",
     "text": [
      "{'item1': 800, 'item2': 1050}\n"
     ]
    }
   ],
   "source": [
    "list1=[{'item': 'item1', 'amount': 400},\n",
    " {'item': 'item2', 'amount':300}, \n",
    " {'item': 'item2', 'amount': 750},\n",
    " {'item': 'item1', 'amount': 400},]\n",
    "dict1={}\n",
    "for i in list1:\n",
    "    if i[\"item\"]not in dict1.keys():\n",
    "        dict1.update({i[\"item\"]:i[\"amount\"]})\n",
    "    else:\n",
    "        dict1[i[\"item\"]]=dict1[i[\"item\"]]+i[\"amount\"]\n",
    "print(dict1)"
   ]
  },
  {
   "cell_type": "code",
   "execution_count": null,
   "id": "74dace35",
   "metadata": {},
   "outputs": [],
   "source": [
    "# Modules"
   ]
  },
  {
   "cell_type": "code",
   "execution_count": null,
   "id": "f2b3e427",
   "metadata": {},
   "outputs": [],
   "source": [
    "# pip install modulename"
   ]
  },
  {
   "cell_type": "code",
   "execution_count": 1,
   "id": "e94e3e44",
   "metadata": {},
   "outputs": [],
   "source": [
    "# pip install seaborn\n",
    "import seaborn"
   ]
  },
  {
   "cell_type": "code",
   "execution_count": 2,
   "id": "da1fb980",
   "metadata": {},
   "outputs": [],
   "source": [
    "import scrapy"
   ]
  },
  {
   "cell_type": "code",
   "execution_count": 29,
   "id": "da9dac76",
   "metadata": {},
   "outputs": [
    {
     "data": {
      "text/plain": [
       "518"
      ]
     },
     "execution_count": 29,
     "metadata": {},
     "output_type": "execute_result"
    }
   ],
   "source": [
    "# random\n",
    "import random as r\n",
    "# random.randint(455,987)\n",
    "r.randint(488,521)"
   ]
  },
  {
   "cell_type": "code",
   "execution_count": 39,
   "id": "78ac9126",
   "metadata": {},
   "outputs": [
    {
     "data": {
      "text/plain": [
       "844"
      ]
     },
     "execution_count": 39,
     "metadata": {},
     "output_type": "execute_result"
    }
   ],
   "source": [
    "from random import randint as rit,randrange as rra  #alias\n",
    "rit(455,987)"
   ]
  },
  {
   "cell_type": "code",
   "execution_count": 273,
   "id": "5ca699dc",
   "metadata": {},
   "outputs": [
    {
     "name": "stdout",
     "output_type": "stream",
     "text": [
      "8109\n",
      "4280\n",
      "0.9020527407439232\n",
      "45\n",
      "[25, 47, 45, 'Hello', 25, 45, 'Hello', True, 45]\n"
     ]
    }
   ],
   "source": [
    "import random \n",
    "print(random.randint(455,8587))\n",
    "print(random.randrange(455,8574,9))\n",
    "print(random.random())\n",
    "itr=[45,25,47,\"Hello\",\"wow\",True]\n",
    "print(random.choice(itr))\n",
    "print(random.choices(itr,k=9))"
   ]
  },
  {
   "cell_type": "code",
   "execution_count": 368,
   "id": "458c3a9a",
   "metadata": {},
   "outputs": [
    {
     "name": "stdout",
     "output_type": "stream",
     "text": [
      "p5zooz4z\n"
     ]
    }
   ],
   "source": [
    "import random\n",
    "l1=['o','p','z','k','4','8','5']\n",
    "ans=random.choices(l1,k=8)\n",
    "otp=\"\".join(ans)\n",
    "print(otp)"
   ]
  },
  {
   "cell_type": "code",
   "execution_count": 373,
   "id": "9e3253a9",
   "metadata": {},
   "outputs": [
    {
     "data": {
      "text/plain": [
       "11.0"
      ]
     },
     "execution_count": 373,
     "metadata": {},
     "output_type": "execute_result"
    }
   ],
   "source": [
    "import math\n",
    "math.factorial(5)\n",
    "math.floor(45.32)\n",
    "math.ceil(45.32)\n",
    "math.sqrt(121)\n",
    "# math."
   ]
  },
  {
   "cell_type": "code",
   "execution_count": 381,
   "id": "23a70304",
   "metadata": {},
   "outputs": [
    {
     "data": {
      "text/plain": [
       "['.gitignore',\n",
       " '.ipynb_checkpoints',\n",
       " 'basics of python.ipynb',\n",
       " 'Conditional Statements.ipynb',\n",
       " 'desktop.ini',\n",
       " 'Dictionary.ipynb',\n",
       " 'Function and Modules.ipynb',\n",
       " 'lecture videos',\n",
       " 'Lists.ipynb',\n",
       " 'Loops.ipynb',\n",
       " 'Operators.ipynb',\n",
       " 'String.ipynb',\n",
       " 'Tuple and set.ipynb']"
      ]
     },
     "execution_count": 381,
     "metadata": {},
     "output_type": "execute_result"
    }
   ],
   "source": [
    "import os\n",
    "os.getcwd()\n",
    "os.listdir()"
   ]
  },
  {
   "cell_type": "code",
   "execution_count": 390,
   "id": "a91a7e73",
   "metadata": {},
   "outputs": [
    {
     "data": {
      "text/plain": [
       "datetime.timedelta(days=1)"
      ]
     },
     "execution_count": 390,
     "metadata": {},
     "output_type": "execute_result"
    }
   ],
   "source": [
    "from datetime import date\n",
    "date.resolution"
   ]
  }
 ],
 "metadata": {
  "kernelspec": {
   "display_name": "Python 3 (ipykernel)",
   "language": "python",
   "name": "python3"
  },
  "language_info": {
   "codemirror_mode": {
    "name": "ipython",
    "version": 3
   },
   "file_extension": ".py",
   "mimetype": "text/x-python",
   "name": "python",
   "nbconvert_exporter": "python",
   "pygments_lexer": "ipython3",
   "version": "3.9.12"
  }
 },
 "nbformat": 4,
 "nbformat_minor": 5
}
