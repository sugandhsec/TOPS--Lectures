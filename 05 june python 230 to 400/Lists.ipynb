{
 "cells": [
  {
   "cell_type": "code",
   "execution_count": null,
   "id": "46185cc3",
   "metadata": {},
   "outputs": [],
   "source": [
    "# lists is a collection of similar or different datatype\n",
    "# list is an mutbale datatype\n",
    "# list is ordered and allow duplicates \n",
    "# list is defined in square barckets []\n"
   ]
  },
  {
   "cell_type": "code",
   "execution_count": 9,
   "id": "4d0d1326",
   "metadata": {},
   "outputs": [
    {
     "name": "stdout",
     "output_type": "stream",
     "text": [
      "[45, 23.36, True, 'Hello', [48, 58], (25, 45), {96, 78}, {1: 'hello', 2: 'world'}]\n",
      "<class 'list'>\n"
     ]
    }
   ],
   "source": [
    "list1=[45,23.36,True,\"Hello\",[48,58],(25,45),{78,96},{1:\"hello\",2:\"world\"}]\n",
    "print(list1)\n",
    "print(type(list1))"
   ]
  },
  {
   "cell_type": "code",
   "execution_count": 22,
   "id": "c021194e",
   "metadata": {},
   "outputs": [
    {
     "name": "stdout",
     "output_type": "stream",
     "text": [
      "[45, 85, 96, 54, 12, 547]\n"
     ]
    }
   ],
   "source": [
    "list1=[45,85,96,54,12,547]\n",
    "# print(list1[2:5])\n",
    "print(list1)"
   ]
  },
  {
   "cell_type": "code",
   "execution_count": 26,
   "id": "d8d1bce3",
   "metadata": {},
   "outputs": [
    {
     "name": "stdout",
     "output_type": "stream",
     "text": [
      "[45, 85, 1, 4, 7, 10, 13, 16, 19, 22, 25, 28, 31, 34, 37, 40, 43, 46, 49, 52, 55]\n"
     ]
    }
   ],
   "source": [
    "# list1[2]=[45.98,77,5]\n",
    "list1[2:]=range(1,56,3)\n",
    "print(list1)"
   ]
  },
  {
   "cell_type": "code",
   "execution_count": null,
   "id": "103e36df",
   "metadata": {},
   "outputs": [],
   "source": [
    "# list functions\n",
    "len() ,min(),max(),list()"
   ]
  },
  {
   "cell_type": "code",
   "execution_count": 28,
   "id": "4922366f",
   "metadata": {},
   "outputs": [
    {
     "name": "stdout",
     "output_type": "stream",
     "text": [
      "[48, 58, 74, 58, 96, 5847, 45, 66, 5, 86]\n",
      "10\n"
     ]
    }
   ],
   "source": [
    "# len()--string lenght\n",
    "list1=[48,58,74,58,96,5847,45,66,5,86]\n",
    "print(list1)\n",
    "a=len(list1)\n",
    "print(a)"
   ]
  },
  {
   "cell_type": "code",
   "execution_count": 34,
   "id": "2177db19",
   "metadata": {},
   "outputs": [
    {
     "name": "stdout",
     "output_type": "stream",
     "text": [
      "7\n",
      "helawr\n"
     ]
    },
    {
     "ename": "TypeError",
     "evalue": "'<' not supported between instances of 'str' and 'int'",
     "output_type": "error",
     "traceback": [
      "\u001b[1;31m---------------------------------------------------------------------------\u001b[0m",
      "\u001b[1;31mTypeError\u001b[0m                                 Traceback (most recent call last)",
      "Input \u001b[1;32mIn [34]\u001b[0m, in \u001b[0;36m<cell line: 8>\u001b[1;34m()\u001b[0m\n\u001b[0;32m      6\u001b[0m \u001b[38;5;28mprint\u001b[39m(\u001b[38;5;28mmin\u001b[39m(list2))\n\u001b[0;32m      7\u001b[0m list3\u001b[38;5;241m=\u001b[39m[\u001b[38;5;241m45\u001b[39m,\u001b[38;5;241m65\u001b[39m,\u001b[38;5;241m89\u001b[39m,\u001b[38;5;241m658\u001b[39m,\u001b[38;5;124m\"\u001b[39m\u001b[38;5;124mhello\u001b[39m\u001b[38;5;124m\"\u001b[39m,\u001b[38;5;124m\"\u001b[39m\u001b[38;5;124mworld\u001b[39m\u001b[38;5;124m\"\u001b[39m,\u001b[38;5;124m\"\u001b[39m\u001b[38;5;124mdemo\u001b[39m\u001b[38;5;124m\"\u001b[39m,\u001b[38;5;124m\"\u001b[39m\u001b[38;5;124mz\u001b[39m\u001b[38;5;124m\"\u001b[39m,\u001b[38;5;124m\"\u001b[39m\u001b[38;5;124ma\u001b[39m\u001b[38;5;124m\"\u001b[39m,\u001b[38;5;124m\"\u001b[39m\u001b[38;5;124mA\u001b[39m\u001b[38;5;124m\"\u001b[39m,\u001b[38;5;124m\"\u001b[39m\u001b[38;5;124mApple\u001b[39m\u001b[38;5;124m\"\u001b[39m,\u001b[38;5;124m\"\u001b[39m\u001b[38;5;124mWOW\u001b[39m\u001b[38;5;124m\"\u001b[39m,\u001b[38;5;124m\"\u001b[39m\u001b[38;5;124m)\u001b[39m\u001b[38;5;124m\"\u001b[39m,\u001b[38;5;124m\"\u001b[39m\u001b[38;5;124m+\u001b[39m\u001b[38;5;124m\"\u001b[39m,\u001b[38;5;241m43\u001b[39m]\n\u001b[1;32m----> 8\u001b[0m \u001b[38;5;28mprint\u001b[39m(\u001b[38;5;28;43mmin\u001b[39;49m\u001b[43m(\u001b[49m\u001b[43mlist3\u001b[49m\u001b[43m)\u001b[49m)\n",
      "\u001b[1;31mTypeError\u001b[0m: '<' not supported between instances of 'str' and 'int'"
     ]
    }
   ],
   "source": [
    "# min()--minimum value from list\n",
    "list1=[48,58,74,58,96,584,7]\n",
    "print(min(list1))\n",
    "# list2=[\"hello\",\"world\",\"demo\",\"z\",\"a\",\"A\",\"Apple\",\"WOW\",\")\"]\n",
    "list2=[\"hello\",\"help\",\"helawr\"]\n",
    "print(min(list2))\n",
    "list3=[45,65,89,658,\"hello\",\"world\",\"demo\",\"z\",\"a\",\"A\",\"Apple\",\"WOW\",\")\",\"+\",43]\n",
    "print(min(list3))"
   ]
  },
  {
   "cell_type": "code",
   "execution_count": 37,
   "id": "aeae171f",
   "metadata": {},
   "outputs": [
    {
     "name": "stdout",
     "output_type": "stream",
     "text": [
      "584\n",
      "z\n"
     ]
    },
    {
     "ename": "TypeError",
     "evalue": "'>' not supported between instances of 'str' and 'int'",
     "output_type": "error",
     "traceback": [
      "\u001b[1;31m---------------------------------------------------------------------------\u001b[0m",
      "\u001b[1;31mTypeError\u001b[0m                                 Traceback (most recent call last)",
      "Input \u001b[1;32mIn [37]\u001b[0m, in \u001b[0;36m<cell line: 8>\u001b[1;34m()\u001b[0m\n\u001b[0;32m      6\u001b[0m \u001b[38;5;28mprint\u001b[39m(\u001b[38;5;28mmax\u001b[39m(list2))\n\u001b[0;32m      7\u001b[0m list3\u001b[38;5;241m=\u001b[39m[\u001b[38;5;241m45\u001b[39m,\u001b[38;5;241m65\u001b[39m,\u001b[38;5;241m89\u001b[39m,\u001b[38;5;241m658\u001b[39m,\u001b[38;5;124m\"\u001b[39m\u001b[38;5;124mhello\u001b[39m\u001b[38;5;124m\"\u001b[39m,\u001b[38;5;124m\"\u001b[39m\u001b[38;5;124mworld\u001b[39m\u001b[38;5;124m\"\u001b[39m,\u001b[38;5;124m\"\u001b[39m\u001b[38;5;124mdemo\u001b[39m\u001b[38;5;124m\"\u001b[39m,\u001b[38;5;124m\"\u001b[39m\u001b[38;5;124mz\u001b[39m\u001b[38;5;124m\"\u001b[39m,\u001b[38;5;124m\"\u001b[39m\u001b[38;5;124ma\u001b[39m\u001b[38;5;124m\"\u001b[39m,\u001b[38;5;124m\"\u001b[39m\u001b[38;5;124mA\u001b[39m\u001b[38;5;124m\"\u001b[39m,\u001b[38;5;124m\"\u001b[39m\u001b[38;5;124mApple\u001b[39m\u001b[38;5;124m\"\u001b[39m,\u001b[38;5;124m\"\u001b[39m\u001b[38;5;124mWOW\u001b[39m\u001b[38;5;124m\"\u001b[39m,\u001b[38;5;124m\"\u001b[39m\u001b[38;5;124m)\u001b[39m\u001b[38;5;124m\"\u001b[39m,\u001b[38;5;124m\"\u001b[39m\u001b[38;5;124m+\u001b[39m\u001b[38;5;124m\"\u001b[39m,\u001b[38;5;241m43\u001b[39m]\n\u001b[1;32m----> 8\u001b[0m \u001b[38;5;28mprint\u001b[39m(\u001b[38;5;28;43mmax\u001b[39;49m\u001b[43m(\u001b[49m\u001b[43mlist3\u001b[49m\u001b[43m)\u001b[49m)\n",
      "\u001b[1;31mTypeError\u001b[0m: '>' not supported between instances of 'str' and 'int'"
     ]
    }
   ],
   "source": [
    "# max()--maximum value from list\n",
    "list1=[48,58,74,58,96,584,7]\n",
    "print(max(list1))\n",
    "list2=[\"hello\",\"world\",\"demo\",\"z\",\"a\",\"A\",\"Apple\",\"WOW\",\")\"]\n",
    "# list2=[\"hello\",\"help\",\"helawr\"]\n",
    "print(max(list2))\n",
    "list3=[45,65,89,658,\"hello\",\"world\",\"demo\",\"z\",\"a\",\"A\",\"Apple\",\"WOW\",\")\",\"+\",43]\n",
    "print(max(list3))"
   ]
  },
  {
   "cell_type": "code",
   "execution_count": 43,
   "id": "7691ec82",
   "metadata": {},
   "outputs": [
    {
     "name": "stdout",
     "output_type": "stream",
     "text": [
      "['j', 'e', 'r', 'k', ' ', 'j', 'e', 'v', 'b', 'e', 'r', 'k', 'j', ' ', 'j', 'k']\n",
      "[1, 7, 13, 19, 25, 31, 37, 43, 49]\n",
      "[48, 98, 54, 7]\n",
      "[48, 84, 7, 89, 45, 78]\n",
      "[2, 'wow']\n"
     ]
    }
   ],
   "source": [
    "# list(iterable)---convert any iterable into list\n",
    "l1=list(\"jerk jevberkj jk\")\n",
    "print(l1)\n",
    "l1=list(range(1,50,6))\n",
    "print(l1)\n",
    "l1=list((48,98,54,7))\n",
    "print(l1)\n",
    "l1=list({48,89,78,45,84,7})\n",
    "print(l1)\n",
    "l1=list({2:\"HEllo\",\"wow\":89}) #key will be converted into list\n",
    "print(l1)"
   ]
  },
  {
   "cell_type": "code",
   "execution_count": null,
   "id": "db879671",
   "metadata": {},
   "outputs": [],
   "source": [
    "# list methods\n",
    "\n",
    "# list values add\n",
    "append()\n",
    "extend()\n",
    "insert()\n",
    "\n",
    "# list values remove\n",
    "pop()\n",
    "remove()\n",
    "\n",
    "# list other operation\n",
    "index()\n",
    "count()\n",
    "sort()\n",
    "reverse()\n",
    "copy()\n",
    "clear()\n"
   ]
  },
  {
   "cell_type": "code",
   "execution_count": 45,
   "id": "2d3e69c2",
   "metadata": {},
   "outputs": [],
   "source": [
    "# dir(list)"
   ]
  },
  {
   "cell_type": "code",
   "execution_count": 47,
   "id": "f532b63b",
   "metadata": {},
   "outputs": [
    {
     "name": "stdout",
     "output_type": "stream",
     "text": [
      "[78, 96, 58, 45, 25, 58]\n",
      "[78, 96, 58, 45, 25, 58, 'hello']\n"
     ]
    }
   ],
   "source": [
    "# Values ADD\n",
    "# append(element)--add element at last of list\n",
    "list1=[78,96,58,45,25]\n",
    "list1.append(58)\n",
    "print(list1)\n",
    "list1.append(\"hello\")\n",
    "print(list1)"
   ]
  },
  {
   "cell_type": "code",
   "execution_count": 50,
   "id": "b7a5c384",
   "metadata": {},
   "outputs": [
    {
     "name": "stdout",
     "output_type": "stream",
     "text": [
      "[78, 96, 58, 45, 25]\n",
      "[78, 96, 58, 45, 25, 'H', 'e', 'l', 'l', 'o']\n",
      "[78, 96, 58, 45, 25, 'H', 'e', 'l', 'l', 'o', 78, 82, 86, 90, 94, 98]\n"
     ]
    }
   ],
   "source": [
    "# extend(iterable)--add values at last of list as an individual element\n",
    "list1=[78,96,58,45,25]\n",
    "print(list1)\n",
    "list1.extend(\"Hello\")\n",
    "print(list1)\n",
    "list1.extend(range(78,99,4))\n",
    "print(list1)"
   ]
  },
  {
   "cell_type": "code",
   "execution_count": 54,
   "id": "592c87ba",
   "metadata": {},
   "outputs": [
    {
     "name": "stdout",
     "output_type": "stream",
     "text": [
      "[78, 96, 54, 212, 6, 58, 9, 6585, 85, 65]\n",
      "[78, 96, 54, 212, 'Great Warrior', 6, 58, 9, 6585, 85, 65]\n"
     ]
    }
   ],
   "source": [
    "# insert(index,element)--add element at given index\n",
    "list1=[78,96,54,212,6,58,9,6585,85,65]\n",
    "print(list1)\n",
    "list1.insert(4,\"Great Warrior\")\n",
    "print(list1)"
   ]
  },
  {
   "cell_type": "code",
   "execution_count": 56,
   "id": "5e81a73b",
   "metadata": {},
   "outputs": [
    {
     "name": "stdout",
     "output_type": "stream",
     "text": [
      "[78, 96, 58, 41, 25, 47, 85, 96, 58]\n",
      "[78, 96, 58, 41, 25, 47, 96, 58]\n"
     ]
    },
    {
     "ename": "IndexError",
     "evalue": "pop index out of range",
     "output_type": "error",
     "traceback": [
      "\u001b[1;31m---------------------------------------------------------------------------\u001b[0m",
      "\u001b[1;31mIndexError\u001b[0m                                Traceback (most recent call last)",
      "Input \u001b[1;32mIn [56]\u001b[0m, in \u001b[0;36m<cell line: 6>\u001b[1;34m()\u001b[0m\n\u001b[0;32m      4\u001b[0m list1\u001b[38;5;241m.\u001b[39mpop(\u001b[38;5;241m6\u001b[39m)\n\u001b[0;32m      5\u001b[0m \u001b[38;5;28mprint\u001b[39m(list1)\n\u001b[1;32m----> 6\u001b[0m \u001b[43mlist1\u001b[49m\u001b[38;5;241;43m.\u001b[39;49m\u001b[43mpop\u001b[49m\u001b[43m(\u001b[49m\u001b[38;5;241;43m60\u001b[39;49m\u001b[43m)\u001b[49m\n\u001b[0;32m      7\u001b[0m \u001b[38;5;28mprint\u001b[39m(list1)\n",
      "\u001b[1;31mIndexError\u001b[0m: pop index out of range"
     ]
    }
   ],
   "source": [
    "# pop([index])--remove element at particular index\n",
    "list1=[78,96,58,41,25,47,85,96,58]\n",
    "print(list1)\n",
    "list1.pop(6)\n",
    "print(list1) \n",
    "# list1.pop(60) #IndexError: pop index out of range\n",
    "print(list1)"
   ]
  },
  {
   "cell_type": "code",
   "execution_count": 57,
   "id": "6a5c415a",
   "metadata": {},
   "outputs": [
    {
     "name": "stdout",
     "output_type": "stream",
     "text": [
      "[78, 85, 98, 54, 74, 12, 5]\n",
      "[78, 85, 98, 54, 74, 12]\n"
     ]
    }
   ],
   "source": [
    "list1=[78,85,98,54,74,12,5]\n",
    "print(list1)\n",
    "list1.pop()\n",
    "print(list1)"
   ]
  },
  {
   "cell_type": "code",
   "execution_count": 60,
   "id": "41d159af",
   "metadata": {},
   "outputs": [
    {
     "name": "stdout",
     "output_type": "stream",
     "text": [
      "[78, 96, 58, 78, 45, 87, 84, 596, 45, 87, 89, 65, 45]\n",
      "[78, 96, 58, 78, 87, 84, 596, 45, 87, 89, 65, 45]\n"
     ]
    },
    {
     "ename": "ValueError",
     "evalue": "list.remove(x): x not in list",
     "output_type": "error",
     "traceback": [
      "\u001b[1;31m---------------------------------------------------------------------------\u001b[0m",
      "\u001b[1;31mValueError\u001b[0m                                Traceback (most recent call last)",
      "Input \u001b[1;32mIn [60]\u001b[0m, in \u001b[0;36m<cell line: 6>\u001b[1;34m()\u001b[0m\n\u001b[0;32m      4\u001b[0m list1\u001b[38;5;241m.\u001b[39mremove(\u001b[38;5;241m45\u001b[39m)\n\u001b[0;32m      5\u001b[0m \u001b[38;5;28mprint\u001b[39m(list1)\n\u001b[1;32m----> 6\u001b[0m \u001b[43mlist1\u001b[49m\u001b[38;5;241;43m.\u001b[39;49m\u001b[43mremove\u001b[49m\u001b[43m(\u001b[49m\u001b[38;5;241;43m4875\u001b[39;49m\u001b[43m)\u001b[49m\n\u001b[0;32m      7\u001b[0m \u001b[38;5;28mprint\u001b[39m(list1)\n",
      "\u001b[1;31mValueError\u001b[0m: list.remove(x): x not in list"
     ]
    }
   ],
   "source": [
    "# remove(element)---remove element from list at its first occurence\n",
    "list1=[78,96,58,78,45,87,84,596,45,87,89,65,45]\n",
    "print(list1)\n",
    "list1.remove(45)\n",
    "print(list1)\n",
    "# list1.remove(4875) ValueError: list.remove(x): x not in list\n",
    "# print(list1)"
   ]
  },
  {
   "cell_type": "code",
   "execution_count": 2,
   "id": "66266e9e",
   "metadata": {},
   "outputs": [
    {
     "name": "stdout",
     "output_type": "stream",
     "text": [
      "3\n"
     ]
    },
    {
     "ename": "ValueError",
     "evalue": "789654 is not in list",
     "output_type": "error",
     "traceback": [
      "\u001b[1;31m---------------------------------------------------------------------------\u001b[0m",
      "\u001b[1;31mValueError\u001b[0m                                Traceback (most recent call last)",
      "Input \u001b[1;32mIn [2]\u001b[0m, in \u001b[0;36m<cell line: 4>\u001b[1;34m()\u001b[0m\n\u001b[0;32m      2\u001b[0m list1\u001b[38;5;241m=\u001b[39m[\u001b[38;5;241m78\u001b[39m,\u001b[38;5;241m95\u001b[39m,\u001b[38;5;241m63\u001b[39m,\u001b[38;5;241m21\u001b[39m,\u001b[38;5;241m45\u001b[39m,\u001b[38;5;241m86\u001b[39m,\u001b[38;5;241m21\u001b[39m,\u001b[38;5;241m45\u001b[39m,\u001b[38;5;241m896\u001b[39m,\u001b[38;5;241m5\u001b[39m,\u001b[38;5;241m12\u001b[39m,\u001b[38;5;241m21\u001b[39m,\u001b[38;5;241m45\u001b[39m,\u001b[38;5;241m78\u001b[39m]\n\u001b[0;32m      3\u001b[0m \u001b[38;5;28mprint\u001b[39m(list1\u001b[38;5;241m.\u001b[39mindex(\u001b[38;5;241m21\u001b[39m))\n\u001b[1;32m----> 4\u001b[0m \u001b[38;5;28mprint\u001b[39m(\u001b[43mlist1\u001b[49m\u001b[38;5;241;43m.\u001b[39;49m\u001b[43mindex\u001b[49m\u001b[43m(\u001b[49m\u001b[38;5;241;43m789654\u001b[39;49m\u001b[43m)\u001b[49m)\n",
      "\u001b[1;31mValueError\u001b[0m: 789654 is not in list"
     ]
    }
   ],
   "source": [
    "# index(element)----give indexc of particular element at its first occurence\n",
    "list1=[78,95,63,21,45,86,21,45,896,5,12,21,45,78]\n",
    "print(list1.index(21)) \n",
    "# print(list1.index(789654))ValueError: 789654 is not in list"
   ]
  },
  {
   "cell_type": "code",
   "execution_count": 4,
   "id": "631fa2ad",
   "metadata": {},
   "outputs": [
    {
     "name": "stdout",
     "output_type": "stream",
     "text": [
      "3\n",
      "0\n"
     ]
    }
   ],
   "source": [
    "# count(element)---number of occurences of element in a list\n",
    "list1=[78,95,63,21,45,86,21,45,896,5,12,21,45,78]\n",
    "print(list1.count(21)) \n",
    "print(list1.count(654654))"
   ]
  },
  {
   "cell_type": "code",
   "execution_count": 5,
   "id": "b1857e0f",
   "metadata": {},
   "outputs": [
    {
     "name": "stdout",
     "output_type": "stream",
     "text": [
      "[78, 95, 63, 21, 45, 86, 21, 45, 896, 5, 12, 21, 45, 78]\n",
      "[]\n"
     ]
    }
   ],
   "source": [
    "# clear()---clear whole list\n",
    "list1=[78,95,63,21,45,86,21,45,896,5,12,21,45,78]\n",
    "print(list1)\n",
    "list1.clear()\n",
    "print(list1)"
   ]
  },
  {
   "cell_type": "code",
   "execution_count": 9,
   "id": "b5cf9f97",
   "metadata": {},
   "outputs": [
    {
     "name": "stdout",
     "output_type": "stream",
     "text": [
      "[896, 95, 86, 78, 78, 63, 45, 45, 45, 21, 21, 21, 12, 5]\n",
      "['yuyrt', 'uop', 'hello', 'gfer', 'Apple']\n"
     ]
    },
    {
     "ename": "TypeError",
     "evalue": "'<' not supported between instances of 'int' and 'str'",
     "output_type": "error",
     "traceback": [
      "\u001b[1;31m---------------------------------------------------------------------------\u001b[0m",
      "\u001b[1;31mTypeError\u001b[0m                                 Traceback (most recent call last)",
      "Input \u001b[1;32mIn [9]\u001b[0m, in \u001b[0;36m<cell line: 10>\u001b[1;34m()\u001b[0m\n\u001b[0;32m      8\u001b[0m \u001b[38;5;28mprint\u001b[39m(list1)\n\u001b[0;32m      9\u001b[0m list1\u001b[38;5;241m=\u001b[39m[\u001b[38;5;124m\"\u001b[39m\u001b[38;5;124mgfer\u001b[39m\u001b[38;5;124m\"\u001b[39m,\u001b[38;5;241m85\u001b[39m,\u001b[38;5;124m\"\u001b[39m\u001b[38;5;124muop\u001b[39m\u001b[38;5;124m\"\u001b[39m,\u001b[38;5;124m\"\u001b[39m\u001b[38;5;124mhello\u001b[39m\u001b[38;5;124m\"\u001b[39m,\u001b[38;5;124m\"\u001b[39m\u001b[38;5;124mApple\u001b[39m\u001b[38;5;124m\"\u001b[39m]\n\u001b[1;32m---> 10\u001b[0m \u001b[43mlist1\u001b[49m\u001b[38;5;241;43m.\u001b[39;49m\u001b[43msort\u001b[49m\u001b[43m(\u001b[49m\u001b[43mreverse\u001b[49m\u001b[38;5;241;43m=\u001b[39;49m\u001b[38;5;28;43;01mTrue\u001b[39;49;00m\u001b[43m)\u001b[49m\n\u001b[0;32m     11\u001b[0m \u001b[38;5;28mprint\u001b[39m(list1)\n",
      "\u001b[1;31mTypeError\u001b[0m: '<' not supported between instances of 'int' and 'str'"
     ]
    }
   ],
   "source": [
    "# sort()---sort the list in ascending order by deafult if we have to sort in descending order\n",
    "# make reverse=True\n",
    "list1=[78,95,63,21,45,86,21,45,896,5,12,21,45,78]\n",
    "list1.sort(reverse=True)\n",
    "print(list1)\n",
    "list1=[\"gfer\",\"yuyrt\",\"uop\",\"hello\",\"Apple\"]\n",
    "list1.sort(reverse=True)\n",
    "print(list1)\n",
    "list1=[\"gfer\",85,\"uop\",\"hello\",\"Apple\"]\n",
    "list1.sort(reverse=True)\n",
    "print(list1)"
   ]
  },
  {
   "cell_type": "code",
   "execution_count": 11,
   "id": "caa3d37a",
   "metadata": {},
   "outputs": [
    {
     "name": "stdout",
     "output_type": "stream",
     "text": [
      "[45, 21, 12, 5, 896, 45, 21, 86, 45, 21, 63, 95, 78]\n"
     ]
    }
   ],
   "source": [
    "# reverse()---reverse whole list\n",
    "list1=[78,95,63,21,45,86,21,45,896,5,12,21,45]\n",
    "list1.reverse()\n",
    "print(list1)"
   ]
  },
  {
   "cell_type": "code",
   "execution_count": 14,
   "id": "51bb49c5",
   "metadata": {},
   "outputs": [
    {
     "name": "stdout",
     "output_type": "stream",
     "text": [
      "[1, 2, 3, 4]\n",
      "[1, 2, 3, 4]\n",
      "[1, 2, 'hello', 4]\n",
      "[1, 2, 'hello', 4]\n"
     ]
    }
   ],
   "source": [
    "# copy()---copy one list into another \n",
    "list1=[1,2,3,4]\n",
    "list2=list1\n",
    "print(list1)\n",
    "print(list2)\n",
    "list1[2]=\"hello\"\n",
    "print(list1)\n",
    "print(list2)"
   ]
  },
  {
   "cell_type": "code",
   "execution_count": 15,
   "id": "bd7c58e5",
   "metadata": {},
   "outputs": [
    {
     "name": "stdout",
     "output_type": "stream",
     "text": [
      "[1, 2, 3, 4]\n",
      "[1, 2, 3, 4]\n",
      "[1, 2, 'hello', 4]\n",
      "[1, 2, 3, 4]\n"
     ]
    }
   ],
   "source": [
    "list1=[1,2,3,4]\n",
    "list2=list1.copy()\n",
    "print(list1)\n",
    "print(list2)\n",
    "list1[2]=\"hello\"\n",
    "print(list1)\n",
    "print(list2)"
   ]
  },
  {
   "cell_type": "code",
   "execution_count": 35,
   "id": "38e534ad",
   "metadata": {},
   "outputs": [
    {
     "data": {
      "text/plain": [
       "179"
      ]
     },
     "execution_count": 35,
     "metadata": {},
     "output_type": "execute_result"
    }
   ],
   "source": [
    "import random\n",
    "random.randint(100,200)"
   ]
  },
  {
   "cell_type": "code",
   "execution_count": null,
   "id": "4b8c7f4b",
   "metadata": {},
   "outputs": [],
   "source": []
  }
 ],
 "metadata": {
  "kernelspec": {
   "display_name": "Python 3 (ipykernel)",
   "language": "python",
   "name": "python3"
  },
  "language_info": {
   "codemirror_mode": {
    "name": "ipython",
    "version": 3
   },
   "file_extension": ".py",
   "mimetype": "text/x-python",
   "name": "python",
   "nbconvert_exporter": "python",
   "pygments_lexer": "ipython3",
   "version": "3.9.12"
  }
 },
 "nbformat": 4,
 "nbformat_minor": 5
}
