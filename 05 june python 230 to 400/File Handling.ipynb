{
 "cells": [
  {
   "cell_type": "code",
   "execution_count": null,
   "id": "f003b333",
   "metadata": {},
   "outputs": [],
   "source": [
    "# File Open\n",
    "# File task  read write append \n",
    "# file close"
   ]
  },
  {
   "cell_type": "code",
   "execution_count": null,
   "id": "2576db75",
   "metadata": {},
   "outputs": [],
   "source": [
    "# file open\n",
    "# variable=open(\"Filename\",\"mode\")\n",
    "# file pointer vraible\n",
    "file=open(\"demo.txt\",\"w\")\n",
    "# mode\n",
    "\n",
    "read---r---if ifle exist then it open for reading and if file not exist then it will give error\n",
    "write---w---if file exist then it open for writing and all old content is deleted and \n",
    "if file not prsent then it create a new file but not give error\n",
    "append---a---if file exist then it open for append(update) and all old content is not deleted and \n",
    "if file not prsent then it create a new file but not give error\n",
    "create---x----if file exist then it gives error and if file not exist then it creates a file"
   ]
  },
  {
   "cell_type": "code",
   "execution_count": null,
   "id": "2ceb0643",
   "metadata": {},
   "outputs": [],
   "source": [
    "# file close\n",
    "# varibale.close()\n",
    "file.close()"
   ]
  },
  {
   "cell_type": "code",
   "execution_count": 4,
   "id": "15e79b7e",
   "metadata": {},
   "outputs": [],
   "source": [
    "file=open(\"demo.txt\",\"a\")\n",
    "\n",
    "file.close()"
   ]
  },
  {
   "cell_type": "code",
   "execution_count": 7,
   "id": "06c7972d",
   "metadata": {},
   "outputs": [],
   "source": [
    "# file write\n",
    "file=open(\"demo.txt\",\"w\")\n",
    "a=\"wow\"\n",
    "file.write(f\"This is new content {a}\")\n",
    "file.close()"
   ]
  },
  {
   "cell_type": "code",
   "execution_count": 8,
   "id": "ee6501a0",
   "metadata": {},
   "outputs": [],
   "source": [
    "# file append\n",
    "file=open(\"demo.txt\",\"a\")\n",
    "a=\"wow\"\n",
    "file.write(f\"hjkf fdjhvbj jhfdb\")\n",
    "file.close()"
   ]
  },
  {
   "cell_type": "code",
   "execution_count": 21,
   "id": "e1328708",
   "metadata": {},
   "outputs": [
    {
     "name": "stdout",
     "output_type": "stream",
     "text": [
      "This is new content wowhjkf fdjhvbj jhfdb\n",
      "\n",
      "ertgertg\n",
      "\n",
      " fgrthrfdegrtj\n",
      "\n"
     ]
    }
   ],
   "source": [
    "# file readimng\n",
    "file=open(\"demo.txt\",\"r\")\n",
    "# print(file.read())\n",
    "# print(file.read(23))\n",
    "# print(file.readline())\n",
    "print(file.readline())\n",
    "print(file.readline())\n",
    "\n",
    "file.close()"
   ]
  },
  {
   "cell_type": "code",
   "execution_count": 23,
   "id": "f758e75a",
   "metadata": {},
   "outputs": [],
   "source": [
    "# file create\n",
    "file=open(\"demo1.txt\",\"x\")"
   ]
  },
  {
   "cell_type": "code",
   "execution_count": 36,
   "id": "8302d041",
   "metadata": {},
   "outputs": [
    {
     "ename": "UnsupportedOperation",
     "evalue": "can't do nonzero end-relative seeks",
     "output_type": "error",
     "traceback": [
      "\u001b[1;31m---------------------------------------------------------------------------\u001b[0m",
      "\u001b[1;31mUnsupportedOperation\u001b[0m                      Traceback (most recent call last)",
      "Input \u001b[1;32mIn [36]\u001b[0m, in \u001b[0;36m<cell line: 4>\u001b[1;34m()\u001b[0m\n\u001b[0;32m      2\u001b[0m file\u001b[38;5;241m=\u001b[39m\u001b[38;5;28mopen\u001b[39m(\u001b[38;5;124m\"\u001b[39m\u001b[38;5;124mdemo.txt\u001b[39m\u001b[38;5;124m\"\u001b[39m,\u001b[38;5;124m\"\u001b[39m\u001b[38;5;124ma\u001b[39m\u001b[38;5;124m\"\u001b[39m)\n\u001b[0;32m      3\u001b[0m a\u001b[38;5;241m=\u001b[39m\u001b[38;5;124m\"\u001b[39m\u001b[38;5;124mwow\u001b[39m\u001b[38;5;124m\"\u001b[39m\n\u001b[1;32m----> 4\u001b[0m \u001b[43mfile\u001b[49m\u001b[38;5;241;43m.\u001b[39;49m\u001b[43mseek\u001b[49m\u001b[43m(\u001b[49m\u001b[38;5;241;43m20\u001b[39;49m\u001b[43m,\u001b[49m\u001b[43mos\u001b[49m\u001b[38;5;241;43m.\u001b[39;49m\u001b[43mSEEK_END\u001b[49m\u001b[43m)\u001b[49m\n\u001b[0;32m      5\u001b[0m \u001b[38;5;66;03m# file.write(\"Middle\")\u001b[39;00m\n\u001b[0;32m      6\u001b[0m \u001b[38;5;28mprint\u001b[39m(file\u001b[38;5;241m.\u001b[39mtell())\n",
      "\u001b[1;31mUnsupportedOperation\u001b[0m: can't do nonzero end-relative seeks"
     ]
    }
   ],
   "source": [
    "import os\n",
    "file=open(\"demo.txt\",\"a\")\n",
    "a=\"wow\"\n",
    "file.seek(20,os.SEEK_END)\n",
    "# file.write(\"Middle\")\n",
    "print(file.tell())\n",
    "# print(file.read())\n",
    "file.write(\"**********************\")\n",
    "file.close()"
   ]
  },
  {
   "cell_type": "code",
   "execution_count": 38,
   "id": "82d25115",
   "metadata": {},
   "outputs": [
    {
     "ename": "NameError",
     "evalue": "name 'NotRequired' is not defined",
     "output_type": "error",
     "traceback": [
      "\u001b[1;31m---------------------------------------------------------------------------\u001b[0m",
      "\u001b[1;31mNameError\u001b[0m                                 Traceback (most recent call last)",
      "Input \u001b[1;32mIn [38]\u001b[0m, in \u001b[0;36m<cell line: 1>\u001b[1;34m()\u001b[0m\n\u001b[1;32m----> 1\u001b[0m dict1\u001b[38;5;241m=\u001b[39m{\u001b[38;5;124m\"\u001b[39m\u001b[38;5;124mname\u001b[39m\u001b[38;5;124m\"\u001b[39m:\u001b[38;5;124m\"\u001b[39m\u001b[38;5;124mSugandh\u001b[39m\u001b[38;5;124m\"\u001b[39m,\u001b[38;5;124m\"\u001b[39m\u001b[38;5;124mage\u001b[39m\u001b[38;5;124m\"\u001b[39m: \u001b[43mNotRequired\u001b[49m[\u001b[38;5;28mint\u001b[39m]}\n\u001b[0;32m      2\u001b[0m \u001b[38;5;28mprint\u001b[39m(dict1)\n",
      "\u001b[1;31mNameError\u001b[0m: name 'NotRequired' is not defined"
     ]
    }
   ],
   "source": [
    "dict1={\"name\":\"Sugandh\",\"age\": NotRequired[int]}\n",
    "print(dict1)"
   ]
  }
 ],
 "metadata": {
  "kernelspec": {
   "display_name": "Python 3 (ipykernel)",
   "language": "python",
   "name": "python3"
  },
  "language_info": {
   "codemirror_mode": {
    "name": "ipython",
    "version": 3
   },
   "file_extension": ".py",
   "mimetype": "text/x-python",
   "name": "python",
   "nbconvert_exporter": "python",
   "pygments_lexer": "ipython3",
   "version": "3.9.12"
  }
 },
 "nbformat": 4,
 "nbformat_minor": 5
}
