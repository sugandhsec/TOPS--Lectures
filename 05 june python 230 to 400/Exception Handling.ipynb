{
 "cells": [
  {
   "cell_type": "code",
   "execution_count": null,
   "id": "f141065d",
   "metadata": {},
   "outputs": [],
   "source": [
    "# exception handling"
   ]
  },
  {
   "cell_type": "code",
   "execution_count": 14,
   "id": "907a1f3a",
   "metadata": {},
   "outputs": [
    {
     "name": "stdout",
     "output_type": "stream",
     "text": [
      "Enter Numvber1: 45\n",
      "Enter Numvber2: 0\n"
     ]
    },
    {
     "ename": "ZeroDivisionError",
     "evalue": "division by zero",
     "output_type": "error",
     "traceback": [
      "\u001b[1;31m---------------------------------------------------------------------------\u001b[0m",
      "\u001b[1;31mZeroDivisionError\u001b[0m                         Traceback (most recent call last)",
      "Input \u001b[1;32mIn [14]\u001b[0m, in \u001b[0;36m<cell line: 3>\u001b[1;34m()\u001b[0m\n\u001b[0;32m      1\u001b[0m a\u001b[38;5;241m=\u001b[39m\u001b[38;5;28mint\u001b[39m(\u001b[38;5;28minput\u001b[39m(\u001b[38;5;124m\"\u001b[39m\u001b[38;5;124mEnter Numvber1: \u001b[39m\u001b[38;5;124m\"\u001b[39m))\n\u001b[0;32m      2\u001b[0m b\u001b[38;5;241m=\u001b[39m\u001b[38;5;28mint\u001b[39m(\u001b[38;5;28minput\u001b[39m(\u001b[38;5;124m\"\u001b[39m\u001b[38;5;124mEnter Numvber2: \u001b[39m\u001b[38;5;124m\"\u001b[39m))\n\u001b[1;32m----> 3\u001b[0m \u001b[38;5;28mprint\u001b[39m(\u001b[43ma\u001b[49m\u001b[38;5;241;43m/\u001b[39;49m\u001b[43mb\u001b[49m)\n",
      "\u001b[1;31mZeroDivisionError\u001b[0m: division by zero"
     ]
    }
   ],
   "source": [
    "a=int(input(\"Enter Numvber1: \"))\n",
    "b=int(input(\"Enter Numvber2: \"))\n",
    "print(a/b)"
   ]
  },
  {
   "cell_type": "code",
   "execution_count": null,
   "id": "e2551963",
   "metadata": {},
   "outputs": [],
   "source": [
    "try\n",
    "except\n",
    "finally\n",
    "else\n",
    "\n",
    "\n",
    "raise"
   ]
  },
  {
   "cell_type": "code",
   "execution_count": 8,
   "id": "0868be9f",
   "metadata": {},
   "outputs": [
    {
     "name": "stdout",
     "output_type": "stream",
     "text": [
      "Enter Numvber1: 48\n",
      "Enter Numvber2: 23.65\n",
      "Unknown Error\n"
     ]
    }
   ],
   "source": [
    "try:\n",
    "    a=int(input(\"Enter Numvber1: \"))\n",
    "    b=int(input(\"Enter Numvber2: \"))\n",
    "    print(a/b)\n",
    "except:\n",
    "    print(\"Unknown Error\")"
   ]
  },
  {
   "cell_type": "code",
   "execution_count": 20,
   "id": "0541f8d3",
   "metadata": {},
   "outputs": [
    {
     "name": "stdout",
     "output_type": "stream",
     "text": [
      "Enter Numvber1: 45.32\n",
      "Integers allowed invalid literal for int() with base 10: '45.32'\n"
     ]
    }
   ],
   "source": [
    "try:\n",
    "    a=int(input(\"Enter Numvber1: \"))\n",
    "    b=int(input(\"Enter Numvber2: \"))\n",
    "    print(a/b)\n",
    "except ValueError as v:\n",
    "    print(\"Integers allowed\",v)\n",
    "except ZeroDivisionError as z:\n",
    "    print(\"Not allowed to divide by zero\",z)\n",
    "except:\n",
    "    print(\"Unknoewn Erro\")"
   ]
  },
  {
   "cell_type": "code",
   "execution_count": 4,
   "id": "18f760f9",
   "metadata": {},
   "outputs": [
    {
     "name": "stdout",
     "output_type": "stream",
     "text": [
      "Enter Numvber1: 45\n",
      "Enter Numvber2: 12\n",
      "3.75\n",
      "I will execute always\n"
     ]
    }
   ],
   "source": [
    "try:\n",
    "    a=int(input(\"Enter Numvber1: \"))\n",
    "    b=int(input(\"Enter Numvber2: \"))\n",
    "    print(a/b)\n",
    "except ValueError as v:\n",
    "    print(\"Integers allowed\",v)\n",
    "except ZeroDivisionError as z:\n",
    "    print(\"Not allowed to divide by zero\",z)\n",
    "except:\n",
    "    print(\"Unknoewn Erro\")\n",
    "finally:\n",
    "    del a\n",
    "    del b\n",
    "    print(\"I will execute always\")"
   ]
  },
  {
   "cell_type": "code",
   "execution_count": 5,
   "id": "38a441ff",
   "metadata": {},
   "outputs": [
    {
     "ename": "NameError",
     "evalue": "name 'a' is not defined",
     "output_type": "error",
     "traceback": [
      "\u001b[1;31m---------------------------------------------------------------------------\u001b[0m",
      "\u001b[1;31mNameError\u001b[0m                                 Traceback (most recent call last)",
      "Input \u001b[1;32mIn [5]\u001b[0m, in \u001b[0;36m<cell line: 1>\u001b[1;34m()\u001b[0m\n\u001b[1;32m----> 1\u001b[0m \u001b[38;5;28mprint\u001b[39m(\u001b[43ma\u001b[49m)\n",
      "\u001b[1;31mNameError\u001b[0m: name 'a' is not defined"
     ]
    }
   ],
   "source": [
    "print(a)"
   ]
  },
  {
   "cell_type": "code",
   "execution_count": 7,
   "id": "5f9d6030",
   "metadata": {},
   "outputs": [
    {
     "name": "stdout",
     "output_type": "stream",
     "text": [
      "hello world\n",
      "i am else block\n"
     ]
    }
   ],
   "source": [
    "# else\n",
    "try:\n",
    "    print(\"hello world\")\n",
    "except:\n",
    "    print(\"error in try block\")\n",
    "else:\n",
    "    print(\"i am else block\")"
   ]
  },
  {
   "cell_type": "code",
   "execution_count": 9,
   "id": "922fc3c8",
   "metadata": {},
   "outputs": [
    {
     "name": "stdout",
     "output_type": "stream",
     "text": [
      "hello I am good\n"
     ]
    },
    {
     "ename": "RuntimeError",
     "evalue": "No active exception to reraise",
     "output_type": "error",
     "traceback": [
      "\u001b[1;31m---------------------------------------------------------------------------\u001b[0m",
      "\u001b[1;31mRuntimeError\u001b[0m                              Traceback (most recent call last)",
      "Input \u001b[1;32mIn [9]\u001b[0m, in \u001b[0;36m<cell line: 2>\u001b[1;34m()\u001b[0m\n\u001b[0;32m      1\u001b[0m \u001b[38;5;28mprint\u001b[39m(\u001b[38;5;124m\"\u001b[39m\u001b[38;5;124mhello I am good\u001b[39m\u001b[38;5;124m\"\u001b[39m)\n\u001b[1;32m----> 2\u001b[0m \u001b[38;5;28;01mraise\u001b[39;00m\n\u001b[0;32m      3\u001b[0m \u001b[38;5;28mprint\u001b[39m(\u001b[38;5;124m\"\u001b[39m\u001b[38;5;124mhello i am python\u001b[39m\u001b[38;5;124m\"\u001b[39m)\n",
      "\u001b[1;31mRuntimeError\u001b[0m: No active exception to reraise"
     ]
    }
   ],
   "source": [
    "print(\"hello I am good\")\n",
    "raise\n",
    "print(\"hello i am python\")"
   ]
  },
  {
   "cell_type": "code",
   "execution_count": 14,
   "id": "ff4885fa",
   "metadata": {},
   "outputs": [
    {
     "name": "stdout",
     "output_type": "stream",
     "text": [
      "Enter Number1: 1\n",
      "Enter number2: 23\n",
      "24\n"
     ]
    }
   ],
   "source": [
    "a=int(input(\"Enter Number1: \"))\n",
    "b=int(input(\"Enter number2: \"))\n",
    "# if a>10:\n",
    "#     print(\"not allowed\")\n",
    "# else:\n",
    "#     print(a+b)\n",
    "try:\n",
    "    if a>10:\n",
    "        raise\n",
    "    else:\n",
    "        print(a+b)\n",
    "except:\n",
    "    print(\"Not a biiger value than 10 allowed\")"
   ]
  },
  {
   "cell_type": "code",
   "execution_count": 15,
   "id": "560fa8d6",
   "metadata": {},
   "outputs": [
    {
     "ename": "IndexError",
     "evalue": "list index out of range",
     "output_type": "error",
     "traceback": [
      "\u001b[1;31m---------------------------------------------------------------------------\u001b[0m",
      "\u001b[1;31mIndexError\u001b[0m                                Traceback (most recent call last)",
      "Input \u001b[1;32mIn [15]\u001b[0m, in \u001b[0;36m<cell line: 2>\u001b[1;34m()\u001b[0m\n\u001b[0;32m      1\u001b[0m list1\u001b[38;5;241m=\u001b[39m[\u001b[38;5;241m1\u001b[39m,\u001b[38;5;241m2\u001b[39m]\n\u001b[1;32m----> 2\u001b[0m \u001b[38;5;28mprint\u001b[39m(\u001b[43mlist1\u001b[49m\u001b[43m[\u001b[49m\u001b[38;5;241;43m5\u001b[39;49m\u001b[43m]\u001b[49m)\n",
      "\u001b[1;31mIndexError\u001b[0m: list index out of range"
     ]
    }
   ],
   "source": [
    "list1=[1,2]\n",
    "print(list1[5])"
   ]
  },
  {
   "cell_type": "code",
   "execution_count": 16,
   "id": "7efd08be",
   "metadata": {},
   "outputs": [
    {
     "ename": "ModuleNotFoundError",
     "evalue": "No module named 'jhgfjkrdrb'",
     "output_type": "error",
     "traceback": [
      "\u001b[1;31m---------------------------------------------------------------------------\u001b[0m",
      "\u001b[1;31mModuleNotFoundError\u001b[0m                       Traceback (most recent call last)",
      "Input \u001b[1;32mIn [16]\u001b[0m, in \u001b[0;36m<cell line: 1>\u001b[1;34m()\u001b[0m\n\u001b[1;32m----> 1\u001b[0m \u001b[38;5;28;01mimport\u001b[39;00m \u001b[38;5;21;01mjhgfjkrdrb\u001b[39;00m\n",
      "\u001b[1;31mModuleNotFoundError\u001b[0m: No module named 'jhgfjkrdrb'"
     ]
    }
   ],
   "source": [
    "import jhgfjkrdrb"
   ]
  },
  {
   "cell_type": "code",
   "execution_count": 17,
   "id": "9d077fd0",
   "metadata": {},
   "outputs": [
    {
     "ename": "KeyError",
     "evalue": "3",
     "output_type": "error",
     "traceback": [
      "\u001b[1;31m---------------------------------------------------------------------------\u001b[0m",
      "\u001b[1;31mKeyError\u001b[0m                                  Traceback (most recent call last)",
      "Input \u001b[1;32mIn [17]\u001b[0m, in \u001b[0;36m<cell line: 2>\u001b[1;34m()\u001b[0m\n\u001b[0;32m      1\u001b[0m dict1\u001b[38;5;241m=\u001b[39m{\u001b[38;5;241m1\u001b[39m:\u001b[38;5;124m\"\u001b[39m\u001b[38;5;124mhello\u001b[39m\u001b[38;5;124m\"\u001b[39m,\u001b[38;5;241m2\u001b[39m:\u001b[38;5;124m\"\u001b[39m\u001b[38;5;124mWow\u001b[39m\u001b[38;5;124m\"\u001b[39m}\n\u001b[1;32m----> 2\u001b[0m \u001b[38;5;28mprint\u001b[39m(\u001b[43mdict1\u001b[49m\u001b[43m[\u001b[49m\u001b[38;5;241;43m3\u001b[39;49m\u001b[43m]\u001b[49m)\n",
      "\u001b[1;31mKeyError\u001b[0m: 3"
     ]
    }
   ],
   "source": [
    "dict1={1:\"hello\",2:\"Wow\"}\n",
    "print(dict1[3])"
   ]
  },
  {
   "cell_type": "code",
   "execution_count": 21,
   "id": "eec2b69a",
   "metadata": {},
   "outputs": [
    {
     "ename": "ImportError",
     "evalue": "cannot import name 'jhfdjkghrfkjg' from 'random' (C:\\ProgramData\\Anaconda3\\lib\\random.py)",
     "output_type": "error",
     "traceback": [
      "\u001b[1;31m---------------------------------------------------------------------------\u001b[0m",
      "\u001b[1;31mImportError\u001b[0m                               Traceback (most recent call last)",
      "Input \u001b[1;32mIn [21]\u001b[0m, in \u001b[0;36m<cell line: 1>\u001b[1;34m()\u001b[0m\n\u001b[1;32m----> 1\u001b[0m \u001b[38;5;28;01mfrom\u001b[39;00m \u001b[38;5;21;01mrandom\u001b[39;00m \u001b[38;5;28;01mimport\u001b[39;00m jhfdjkghrfkjg\n",
      "\u001b[1;31mImportError\u001b[0m: cannot import name 'jhfdjkghrfkjg' from 'random' (C:\\ProgramData\\Anaconda3\\lib\\random.py)"
     ]
    }
   ],
   "source": [
    "from random import jhfdjkghrfkjg\n",
    "# from jkdhgkjrgb import dklgfkl"
   ]
  },
  {
   "cell_type": "code",
   "execution_count": 27,
   "id": "3d6c39c0",
   "metadata": {},
   "outputs": [
    {
     "name": "stdout",
     "output_type": "stream",
     "text": [
      "1\n",
      "2\n",
      "3\n"
     ]
    }
   ],
   "source": [
    "list1=[1,2,3]\n",
    "iterable=iter(list1)\n",
    "next(iterable)\n",
    "for i in list1:\n",
    "    print(i)\n",
    "# next(iterable)\n",
    "# next(iterable)\n",
    "# next(iterable)"
   ]
  },
  {
   "cell_type": "code",
   "execution_count": 28,
   "id": "2f6ace93",
   "metadata": {},
   "outputs": [
    {
     "ename": "TypeError",
     "evalue": "can only concatenate str (not \"int\") to str",
     "output_type": "error",
     "traceback": [
      "\u001b[1;31m---------------------------------------------------------------------------\u001b[0m",
      "\u001b[1;31mTypeError\u001b[0m                                 Traceback (most recent call last)",
      "Input \u001b[1;32mIn [28]\u001b[0m, in \u001b[0;36m<cell line: 1>\u001b[1;34m()\u001b[0m\n\u001b[1;32m----> 1\u001b[0m \u001b[38;5;28mprint\u001b[39m(\u001b[38;5;124;43m\"\u001b[39;49m\u001b[38;5;124;43mhello\u001b[39;49m\u001b[38;5;124;43m\"\u001b[39;49m\u001b[38;5;241;43m+\u001b[39;49m\u001b[38;5;241;43m9\u001b[39;49m)\n",
      "\u001b[1;31mTypeError\u001b[0m: can only concatenate str (not \"int\") to str"
     ]
    }
   ],
   "source": [
    "print(\"hello\"+9)"
   ]
  },
  {
   "cell_type": "code",
   "execution_count": 29,
   "id": "2ee46ac8",
   "metadata": {},
   "outputs": [
    {
     "name": "stdout",
     "output_type": "stream",
     "text": [
      "Enter45.23\n"
     ]
    },
    {
     "ename": "ValueError",
     "evalue": "invalid literal for int() with base 10: '45.23'",
     "output_type": "error",
     "traceback": [
      "\u001b[1;31m---------------------------------------------------------------------------\u001b[0m",
      "\u001b[1;31mValueError\u001b[0m                                Traceback (most recent call last)",
      "Input \u001b[1;32mIn [29]\u001b[0m, in \u001b[0;36m<cell line: 1>\u001b[1;34m()\u001b[0m\n\u001b[1;32m----> 1\u001b[0m a\u001b[38;5;241m=\u001b[39m\u001b[38;5;28;43mint\u001b[39;49m\u001b[43m(\u001b[49m\u001b[38;5;28;43minput\u001b[39;49m\u001b[43m(\u001b[49m\u001b[38;5;124;43m\"\u001b[39;49m\u001b[38;5;124;43mEnter\u001b[39;49m\u001b[38;5;124;43m\"\u001b[39;49m\u001b[43m)\u001b[49m\u001b[43m)\u001b[49m\n",
      "\u001b[1;31mValueError\u001b[0m: invalid literal for int() with base 10: '45.23'"
     ]
    }
   ],
   "source": [
    "a=int(input(\"Enter\"))"
   ]
  },
  {
   "cell_type": "code",
   "execution_count": 30,
   "id": "19ac3789",
   "metadata": {},
   "outputs": [
    {
     "ename": "NameError",
     "evalue": "name 'op' is not defined",
     "output_type": "error",
     "traceback": [
      "\u001b[1;31m---------------------------------------------------------------------------\u001b[0m",
      "\u001b[1;31mNameError\u001b[0m                                 Traceback (most recent call last)",
      "Input \u001b[1;32mIn [30]\u001b[0m, in \u001b[0;36m<cell line: 1>\u001b[1;34m()\u001b[0m\n\u001b[1;32m----> 1\u001b[0m \u001b[38;5;28mprint\u001b[39m(\u001b[43mop\u001b[49m)\n",
      "\u001b[1;31mNameError\u001b[0m: name 'op' is not defined"
     ]
    }
   ],
   "source": [
    "print(op)"
   ]
  },
  {
   "cell_type": "code",
   "execution_count": 38,
   "id": "394475f7",
   "metadata": {},
   "outputs": [],
   "source": [
    "def fun1(a):\n",
    "    print(a)"
   ]
  },
  {
   "cell_type": "code",
   "execution_count": 39,
   "id": "19e6fb15",
   "metadata": {},
   "outputs": [
    {
     "name": "stdout",
     "output_type": "stream",
     "text": [
      "hello\n"
     ]
    }
   ],
   "source": [
    "fun1(\"hello\")"
   ]
  },
  {
   "cell_type": "code",
   "execution_count": null,
   "id": "e1b4fdf6",
   "metadata": {},
   "outputs": [],
   "source": [
    "def make_pretty(func):\n",
    "    # define the inner function \n",
    "    def inner():\n",
    "        # add some additional behavior to decorated function\n",
    "        print(\"I got decorated\")\n",
    "\n",
    "        # call original function\n",
    "        func()\n",
    "    # return the inner function\n",
    "    return inner\n",
    "\n",
    "# define ordinary function\n",
    "def ordinary():\n",
    "    print(\"I am ordinary\")\n",
    "    \n",
    "# decorate the ordinary function\n",
    "decorated_func = make_pretty(ordinary)\n",
    "\n",
    "# call the decorated function\n",
    "decorated_func()"
   ]
  },
  {
   "cell_type": "code",
   "execution_count": 1,
   "id": "4cc32611",
   "metadata": {},
   "outputs": [
    {
     "name": "stdout",
     "output_type": "stream",
     "text": [
      "I got decorated\n",
      "I am ordinary\n",
      "None\n"
     ]
    }
   ],
   "source": [
    "def make_pretty(func):\n",
    "    # define the inner function \n",
    "    def inner():\n",
    "        # add some additional behavior to decorated function\n",
    "        print(\"I got decorated\")\n",
    "\n",
    "        # call original function\n",
    "        func()\n",
    "    # return the inner function\n",
    "    return inner\n",
    "\n",
    "# define ordinary function\n",
    "@make_pretty\n",
    "def ordinary():\n",
    "    print(\"I am ordinary\")\n",
    "    \n",
    "# decorate the ordinary function\n",
    "decorated_func = ordinary()\n",
    "\n",
    "# call the decorated function\n",
    "print(decorated_func)"
   ]
  },
  {
   "cell_type": "code",
   "execution_count": 4,
   "id": "23d4aeaa",
   "metadata": {},
   "outputs": [
    {
     "name": "stdout",
     "output_type": "stream",
     "text": [
      "Hey kaise ho app????\n",
      "hello How are you\n"
     ]
    }
   ],
   "source": [
    "def check_even(func):\n",
    "    def inner():\n",
    "        print(\"Hey kaise ho app????\")\n",
    "        func()\n",
    "    return inner\n",
    "\n",
    "\n",
    "@check_even\n",
    "def addition():\n",
    "    print(\"hello How are you\")\n",
    "    \n",
    "ans=addition()"
   ]
  },
  {
   "cell_type": "code",
   "execution_count": null,
   "id": "9a0e6b9e",
   "metadata": {},
   "outputs": [],
   "source": [
    "str1=\"fjhgjk\"\n"
   ]
  }
 ],
 "metadata": {
  "kernelspec": {
   "display_name": "Python 3 (ipykernel)",
   "language": "python",
   "name": "python3"
  },
  "language_info": {
   "codemirror_mode": {
    "name": "ipython",
    "version": 3
   },
   "file_extension": ".py",
   "mimetype": "text/x-python",
   "name": "python",
   "nbconvert_exporter": "python",
   "pygments_lexer": "ipython3",
   "version": "3.9.12"
  }
 },
 "nbformat": 4,
 "nbformat_minor": 5
}
