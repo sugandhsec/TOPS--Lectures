{
 "cells": [
  {
   "cell_type": "code",
   "execution_count": null,
   "id": "67ea632b",
   "metadata": {},
   "outputs": [],
   "source": [
    "# String is an immutable datatype\n",
    "# immutable means ---- not chnageable changes not allowed\n",
    "# string is defined in '' \"\"  ''' ''' \"\"\" \"\"\"\n",
    "# string is ordered datatype ---\n",
    "# every elemnt has its index number ---starts from 0"
   ]
  },
  {
   "cell_type": "code",
   "execution_count": 2,
   "id": "06d20f58",
   "metadata": {},
   "outputs": [
    {
     "ename": "SyntaxError",
     "evalue": "EOL while scanning string literal (1394278660.py, line 4)",
     "output_type": "error",
     "traceback": [
      "\u001b[1;36m  Input \u001b[1;32mIn [2]\u001b[1;36m\u001b[0m\n\u001b[1;33m    b='rththrththgrtehg rthbrt\u001b[0m\n\u001b[1;37m                              ^\u001b[0m\n\u001b[1;31mSyntaxError\u001b[0m\u001b[1;31m:\u001b[0m EOL while scanning string literal\n"
     ]
    }
   ],
   "source": [
    "a=\"hello World\"\n",
    "# string is defined in ''  \"\"  ---single line string\n",
    "a=\"ertgertggertgrtggter  rthrthrthrthrthrthrt\"\n",
    "b='rththrththgrtehg rthbrt\n",
    "rgergergergbgrt'\n",
    "print(b)\n",
    "# string is defined in ''' ''' \"\"\" \"\"\""
   ]
  },
  {
   "cell_type": "code",
   "execution_count": 3,
   "id": "effe4b30",
   "metadata": {},
   "outputs": [
    {
     "name": "stdout",
     "output_type": "stream",
     "text": [
      "erbgkerbgergertg vtjhytk\n",
      "gtrjyukutrt erthytktnryth\n",
      "erhyyrtjythn edgrtjytj\n",
      "yrthrththrth  thrthhr\n",
      "ertgerrge ertgerger ertgbergerg\n",
      "ergergerge ertgerge\n"
     ]
    }
   ],
   "source": [
    "a=\"\"\"erbgkerbgergertg vtjhytk\n",
    "gtrjyukutrt erthytktnryth\n",
    "erhyyrtjythn edgrtjytj\"\"\"\n",
    "b='''yrthrththrth  thrthhr\n",
    "ertgerrge ertgerger ertgbergerg\n",
    "ergergerge ertgerge'''\n",
    "print(a)\n",
    "print(b)"
   ]
  },
  {
   "cell_type": "code",
   "execution_count": 4,
   "id": "e4bea0c3",
   "metadata": {},
   "outputs": [
    {
     "data": {
      "text/plain": [
       "str"
      ]
     },
     "execution_count": 4,
     "metadata": {},
     "output_type": "execute_result"
    }
   ],
   "source": [
    "a=\"\"\n",
    "type(a)"
   ]
  },
  {
   "cell_type": "code",
   "execution_count": 12,
   "id": "ca8aa793",
   "metadata": {},
   "outputs": [
    {
     "name": "stdout",
     "output_type": "stream",
     "text": [
      "g\n",
      "n\n",
      "ern jk\n",
      "berkhvbek\n",
      "kebvhkreb\n",
      "jkhvberh\n"
     ]
    }
   ],
   "source": [
    "# String Slicing\n",
    "a=\"rgern jkverb fdn berkhvbek jhvberk jkhvberh\"\n",
    "print(a[1])\n",
    "print(a[4])\n",
    "print(a[2:8])\n",
    "print(a[17:26])\n",
    "print(a[25:16:-1])\n",
    "print(a[-8:])"
   ]
  },
  {
   "cell_type": "code",
   "execution_count": 16,
   "id": "3f5fdc58",
   "metadata": {},
   "outputs": [
    {
     "name": "stdout",
     "output_type": "stream",
     "text": [
      "hello\n",
      "ergegerg\n"
     ]
    }
   ],
   "source": [
    "str1=\"hello\"\n",
    "print(str1)\n",
    "str1=\"ergegerg\"\n",
    "print(str1)"
   ]
  },
  {
   "cell_type": "code",
   "execution_count": 20,
   "id": "19599bae",
   "metadata": {},
   "outputs": [
    {
     "name": "stdout",
     "output_type": "stream",
     "text": [
      "5\n"
     ]
    }
   ],
   "source": [
    "# string functions\n",
    "# len()\n",
    "str1=\"hello\"\n",
    "# a=\n",
    "print(len(str1))"
   ]
  },
  {
   "cell_type": "code",
   "execution_count": 22,
   "id": "71e1dbb3",
   "metadata": {},
   "outputs": [],
   "source": [
    "# string methods\n",
    "# dir(str)\n",
    "# stringname.methodname(parameters)"
   ]
  },
  {
   "cell_type": "code",
   "execution_count": 25,
   "id": "d19d9de8",
   "metadata": {},
   "outputs": [
    {
     "name": "stdout",
     "output_type": "stream",
     "text": [
      "Hfgh jkuhgguvhkgrfvjkjkvb jerbjkgverb vjkgrhb\n",
      "hfgh jkuhgguvhkgrfVJKJKVB JERBJKGVERB vjkgrhb\n"
     ]
    }
   ],
   "source": [
    "# capitalize()----Uppercase the first letter of string \n",
    "# and lowercase remaning letters\n",
    "str1=\"hfgh jkuhgguvhkgrfVJKJKVB JERBJKGVERB vjkgrhb\"\n",
    "print(str1.capitalize())\n",
    "print(str1)"
   ]
  },
  {
   "cell_type": "code",
   "execution_count": 26,
   "id": "b955bc8b",
   "metadata": {},
   "outputs": [
    {
     "data": {
      "text/plain": [
       "'Jfdhgvjk Jkbnjbgvk Jefbnjk Kfjknfdjkbjkfd Jkhfdvbjkhfd'"
      ]
     },
     "execution_count": 26,
     "metadata": {},
     "output_type": "execute_result"
    }
   ],
   "source": [
    "# title()---Uppercase the first letter of every word of string \n",
    "# and lowercase remaning letters\n",
    "str1=\"jfdhgvjk JKBNJBGVK jefbnjk KFJKnfdjkbjkfd jkhfdvbjkhfd\"\n",
    "str1.title()"
   ]
  },
  {
   "cell_type": "code",
   "execution_count": 28,
   "id": "f095c1fa",
   "metadata": {},
   "outputs": [
    {
     "name": "stdout",
     "output_type": "stream",
     "text": [
      "Enter Your Fullname: GupTA SuGandh\n",
      "Gupta Sugandh\n"
     ]
    }
   ],
   "source": [
    "fullname=input(\"Enter Your Fullname: \")\n",
    "print(fullname.title())"
   ]
  },
  {
   "cell_type": "code",
   "execution_count": 32,
   "id": "b073ed92",
   "metadata": {},
   "outputs": [
    {
     "name": "stdout",
     "output_type": "stream",
     "text": [
      "khgfdh jhgrvbfjeh vjhgvfsjh ss hfvgjehv hgbfdjhbjhgvjh\n"
     ]
    }
   ],
   "source": [
    "# casefold()--lowercase whole string\n",
    "str1=\"KHGFDH jhgrvbfjeh VJHGVFSJH ß hfvgjehv HGBFDJHbjhGVJH\"\n",
    "print(str1.casefold())"
   ]
  },
  {
   "cell_type": "code",
   "execution_count": 33,
   "id": "d4acda7b",
   "metadata": {},
   "outputs": [
    {
     "name": "stdout",
     "output_type": "stream",
     "text": [
      "khgfdh jhgrvbfjeh vjhgvfsjh ß hfvgjehv hgbfdjhbjhgvjh\n"
     ]
    }
   ],
   "source": [
    "# lower()---lowercase whole string\n",
    "str1=\"KHGFDH jhgrvbfjeh VJHGVFSJH ß hfvgjehv HGBFDJHbjhGVJH\"\n",
    "print(str1.lower())"
   ]
  },
  {
   "cell_type": "code",
   "execution_count": 41,
   "id": "1f5e7bb6",
   "metadata": {},
   "outputs": [
    {
     "data": {
      "text/plain": [
       "'======================hello======================='"
      ]
     },
     "execution_count": 41,
     "metadata": {},
     "output_type": "execute_result"
    }
   ],
   "source": [
    "# center(width[,character])\n",
    "str1=\"hello\"\n",
    "str1.center(50)\n",
    "str1.center(50,\"=\")"
   ]
  },
  {
   "cell_type": "code",
   "execution_count": 43,
   "id": "bde34f37",
   "metadata": {},
   "outputs": [
    {
     "data": {
      "text/plain": [
       "'hello============================================='"
      ]
     },
     "execution_count": 43,
     "metadata": {},
     "output_type": "execute_result"
    }
   ],
   "source": [
    "# ljust(width[,character])\n",
    "str1=\"hello\"\n",
    "str1.ljust(50)\n",
    "str1.ljust(50,\"=\")"
   ]
  },
  {
   "cell_type": "code",
   "execution_count": 45,
   "id": "5839c384",
   "metadata": {},
   "outputs": [
    {
     "data": {
      "text/plain": [
       "'=============================================hello'"
      ]
     },
     "execution_count": 45,
     "metadata": {},
     "output_type": "execute_result"
    }
   ],
   "source": [
    "# rjust(width[,character])\n",
    "str1=\"hello\"\n",
    "str1.rjust(50)\n",
    "str1.rjust(50,\"=\")"
   ]
  },
  {
   "cell_type": "code",
   "execution_count": 51,
   "id": "ef5df527",
   "metadata": {},
   "outputs": [
    {
     "data": {
      "text/plain": [
       "'hello'"
      ]
     },
     "execution_count": 51,
     "metadata": {},
     "output_type": "execute_result"
    }
   ],
   "source": [
    "# strip()--remove spaces from left and right both side of string\n",
    "str1=\"          hello            \"\n",
    "str1.strip()"
   ]
  },
  {
   "cell_type": "code",
   "execution_count": 50,
   "id": "73ca39bf",
   "metadata": {},
   "outputs": [
    {
     "data": {
      "text/plain": [
       "'hello            '"
      ]
     },
     "execution_count": 50,
     "metadata": {},
     "output_type": "execute_result"
    }
   ],
   "source": [
    "# lstrip()--remove spaces from left side of string\n",
    "str1=\"          hello            \"\n",
    "str1.lstrip()"
   ]
  },
  {
   "cell_type": "code",
   "execution_count": 49,
   "id": "23ac95cc",
   "metadata": {},
   "outputs": [
    {
     "data": {
      "text/plain": [
       "'          hello'"
      ]
     },
     "execution_count": 49,
     "metadata": {},
     "output_type": "execute_result"
    }
   ],
   "source": [
    "# rstrip()--remove spaces from right side of string\n",
    "str1=\"          hello            \"\n",
    "str1.rstrip()"
   ]
  }
 ],
 "metadata": {
  "kernelspec": {
   "display_name": "Python 3 (ipykernel)",
   "language": "python",
   "name": "python3"
  },
  "language_info": {
   "codemirror_mode": {
    "name": "ipython",
    "version": 3
   },
   "file_extension": ".py",
   "mimetype": "text/x-python",
   "name": "python",
   "nbconvert_exporter": "python",
   "pygments_lexer": "ipython3",
   "version": "3.9.12"
  }
 },
 "nbformat": 4,
 "nbformat_minor": 5
}
