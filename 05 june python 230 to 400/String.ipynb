{
 "cells": [
  {
   "cell_type": "code",
   "execution_count": null,
   "id": "67ea632b",
   "metadata": {},
   "outputs": [],
   "source": [
    "# String is an immutable datatype\n",
    "# immutable means ---- not chnageable changes not allowed\n",
    "# string is defined in '' \"\"  ''' ''' \"\"\" \"\"\"\n",
    "# string is ordered datatype ---\n",
    "# every elemnt has its index number ---starts from 0"
   ]
  },
  {
   "cell_type": "code",
   "execution_count": 2,
   "id": "06d20f58",
   "metadata": {},
   "outputs": [
    {
     "ename": "SyntaxError",
     "evalue": "EOL while scanning string literal (1394278660.py, line 4)",
     "output_type": "error",
     "traceback": [
      "\u001b[1;36m  Input \u001b[1;32mIn [2]\u001b[1;36m\u001b[0m\n\u001b[1;33m    b='rththrththgrtehg rthbrt\u001b[0m\n\u001b[1;37m                              ^\u001b[0m\n\u001b[1;31mSyntaxError\u001b[0m\u001b[1;31m:\u001b[0m EOL while scanning string literal\n"
     ]
    }
   ],
   "source": [
    "a=\"hello World\"\n",
    "# string is defined in ''  \"\"  ---single line string\n",
    "a=\"ertgertggertgrtggter  rthrthrthrthrthrthrt\"\n",
    "b='rththrththgrtehg rthbrt\n",
    "rgergergergbgrt'\n",
    "print(b)\n",
    "# string is defined in ''' ''' \"\"\" \"\"\""
   ]
  },
  {
   "cell_type": "code",
   "execution_count": 3,
   "id": "effe4b30",
   "metadata": {},
   "outputs": [
    {
     "name": "stdout",
     "output_type": "stream",
     "text": [
      "erbgkerbgergertg vtjhytk\n",
      "gtrjyukutrt erthytktnryth\n",
      "erhyyrtjythn edgrtjytj\n",
      "yrthrththrth  thrthhr\n",
      "ertgerrge ertgerger ertgbergerg\n",
      "ergergerge ertgerge\n"
     ]
    }
   ],
   "source": [
    "a=\"\"\"erbgkerbgergertg vtjhytk\n",
    "gtrjyukutrt erthytktnryth\n",
    "erhyyrtjythn edgrtjytj\"\"\"\n",
    "b='''yrthrththrth  thrthhr\n",
    "ertgerrge ertgerger ertgbergerg\n",
    "ergergerge ertgerge'''\n",
    "print(a)\n",
    "print(b)"
   ]
  },
  {
   "cell_type": "code",
   "execution_count": 4,
   "id": "e4bea0c3",
   "metadata": {},
   "outputs": [
    {
     "data": {
      "text/plain": [
       "str"
      ]
     },
     "execution_count": 4,
     "metadata": {},
     "output_type": "execute_result"
    }
   ],
   "source": [
    "a=\"\"\n",
    "type(a)"
   ]
  },
  {
   "cell_type": "code",
   "execution_count": 12,
   "id": "ca8aa793",
   "metadata": {},
   "outputs": [
    {
     "name": "stdout",
     "output_type": "stream",
     "text": [
      "g\n",
      "n\n",
      "ern jk\n",
      "berkhvbek\n",
      "kebvhkreb\n",
      "jkhvberh\n"
     ]
    }
   ],
   "source": [
    "# String Slicing\n",
    "a=\"rgern jkverb fdn berkhvbek jhvberk jkhvberh\"\n",
    "print(a[1])\n",
    "print(a[4])\n",
    "print(a[2:8])\n",
    "print(a[17:26])\n",
    "print(a[25:16:-1])\n",
    "print(a[-8:])"
   ]
  },
  {
   "cell_type": "code",
   "execution_count": 16,
   "id": "3f5fdc58",
   "metadata": {},
   "outputs": [
    {
     "name": "stdout",
     "output_type": "stream",
     "text": [
      "hello\n",
      "ergegerg\n"
     ]
    }
   ],
   "source": [
    "str1=\"hello\"\n",
    "print(str1)\n",
    "str1=\"ergegerg\"\n",
    "print(str1)"
   ]
  },
  {
   "cell_type": "code",
   "execution_count": 20,
   "id": "19599bae",
   "metadata": {},
   "outputs": [
    {
     "name": "stdout",
     "output_type": "stream",
     "text": [
      "5\n"
     ]
    }
   ],
   "source": [
    "# string functions\n",
    "# len()\n",
    "str1=\"hello\"\n",
    "# a=\n",
    "print(len(str1))"
   ]
  },
  {
   "cell_type": "code",
   "execution_count": 22,
   "id": "71e1dbb3",
   "metadata": {},
   "outputs": [],
   "source": [
    "# string methods\n",
    "# dir(str)\n",
    "# stringname.methodname(parameters)"
   ]
  },
  {
   "cell_type": "code",
   "execution_count": 25,
   "id": "d19d9de8",
   "metadata": {},
   "outputs": [
    {
     "name": "stdout",
     "output_type": "stream",
     "text": [
      "Hfgh jkuhgguvhkgrfvjkjkvb jerbjkgverb vjkgrhb\n",
      "hfgh jkuhgguvhkgrfVJKJKVB JERBJKGVERB vjkgrhb\n"
     ]
    }
   ],
   "source": [
    "# capitalize()----Uppercase the first letter of string \n",
    "# and lowercase remaning letters\n",
    "str1=\"hfgh jkuhgguvhkgrfVJKJKVB JERBJKGVERB vjkgrhb\"\n",
    "print(str1.capitalize())\n",
    "print(str1)"
   ]
  },
  {
   "cell_type": "code",
   "execution_count": 26,
   "id": "b955bc8b",
   "metadata": {},
   "outputs": [
    {
     "data": {
      "text/plain": [
       "'Jfdhgvjk Jkbnjbgvk Jefbnjk Kfjknfdjkbjkfd Jkhfdvbjkhfd'"
      ]
     },
     "execution_count": 26,
     "metadata": {},
     "output_type": "execute_result"
    }
   ],
   "source": [
    "# title()---Uppercase the first letter of every word of string \n",
    "# and lowercase remaning letters\n",
    "str1=\"jfdhgvjk JKBNJBGVK jefbnjk KFJKnfdjkbjkfd jkhfdvbjkhfd\"\n",
    "str1.title()"
   ]
  },
  {
   "cell_type": "code",
   "execution_count": 28,
   "id": "f095c1fa",
   "metadata": {},
   "outputs": [
    {
     "name": "stdout",
     "output_type": "stream",
     "text": [
      "Enter Your Fullname: GupTA SuGandh\n",
      "Gupta Sugandh\n"
     ]
    }
   ],
   "source": [
    "fullname=input(\"Enter Your Fullname: \")\n",
    "print(fullname.title())"
   ]
  },
  {
   "cell_type": "code",
   "execution_count": 32,
   "id": "b073ed92",
   "metadata": {},
   "outputs": [
    {
     "name": "stdout",
     "output_type": "stream",
     "text": [
      "khgfdh jhgrvbfjeh vjhgvfsjh ss hfvgjehv hgbfdjhbjhgvjh\n"
     ]
    }
   ],
   "source": [
    "# casefold()--lowercase whole string\n",
    "str1=\"KHGFDH jhgrvbfjeh VJHGVFSJH ß hfvgjehv HGBFDJHbjhGVJH\"\n",
    "print(str1.casefold())"
   ]
  },
  {
   "cell_type": "code",
   "execution_count": 33,
   "id": "d4acda7b",
   "metadata": {},
   "outputs": [
    {
     "name": "stdout",
     "output_type": "stream",
     "text": [
      "khgfdh jhgrvbfjeh vjhgvfsjh ß hfvgjehv hgbfdjhbjhgvjh\n"
     ]
    }
   ],
   "source": [
    "# lower()---lowercase whole string\n",
    "str1=\"KHGFDH jhgrvbfjeh VJHGVFSJH ß hfvgjehv HGBFDJHbjhGVJH\"\n",
    "print(str1.lower())"
   ]
  },
  {
   "cell_type": "code",
   "execution_count": 41,
   "id": "1f5e7bb6",
   "metadata": {},
   "outputs": [
    {
     "data": {
      "text/plain": [
       "'======================hello======================='"
      ]
     },
     "execution_count": 41,
     "metadata": {},
     "output_type": "execute_result"
    }
   ],
   "source": [
    "# center(width[,character])\n",
    "str1=\"hello\"\n",
    "str1.center(50)\n",
    "str1.center(50,\"=\")"
   ]
  },
  {
   "cell_type": "code",
   "execution_count": 43,
   "id": "bde34f37",
   "metadata": {},
   "outputs": [
    {
     "data": {
      "text/plain": [
       "'hello============================================='"
      ]
     },
     "execution_count": 43,
     "metadata": {},
     "output_type": "execute_result"
    }
   ],
   "source": [
    "# ljust(width[,character])\n",
    "str1=\"hello\"\n",
    "str1.ljust(50)\n",
    "str1.ljust(50,\"=\")"
   ]
  },
  {
   "cell_type": "code",
   "execution_count": 45,
   "id": "5839c384",
   "metadata": {},
   "outputs": [
    {
     "data": {
      "text/plain": [
       "'=============================================hello'"
      ]
     },
     "execution_count": 45,
     "metadata": {},
     "output_type": "execute_result"
    }
   ],
   "source": [
    "# rjust(width[,character])\n",
    "str1=\"hello\"\n",
    "str1.rjust(50)\n",
    "str1.rjust(50,\"=\")"
   ]
  },
  {
   "cell_type": "code",
   "execution_count": 51,
   "id": "ef5df527",
   "metadata": {},
   "outputs": [
    {
     "data": {
      "text/plain": [
       "'hello'"
      ]
     },
     "execution_count": 51,
     "metadata": {},
     "output_type": "execute_result"
    }
   ],
   "source": [
    "# strip()--remove spaces from left and right both side of string\n",
    "str1=\"          hello            \"\n",
    "str1.strip()"
   ]
  },
  {
   "cell_type": "code",
   "execution_count": 50,
   "id": "73ca39bf",
   "metadata": {},
   "outputs": [
    {
     "data": {
      "text/plain": [
       "'hello            '"
      ]
     },
     "execution_count": 50,
     "metadata": {},
     "output_type": "execute_result"
    }
   ],
   "source": [
    "# lstrip()--remove spaces from left side of string\n",
    "str1=\"          hello            \"\n",
    "str1.lstrip()"
   ]
  },
  {
   "cell_type": "code",
   "execution_count": 49,
   "id": "23ac95cc",
   "metadata": {},
   "outputs": [
    {
     "data": {
      "text/plain": [
       "'          hello'"
      ]
     },
     "execution_count": 49,
     "metadata": {},
     "output_type": "execute_result"
    }
   ],
   "source": [
    "# rstrip()--remove spaces from right side of string\n",
    "str1=\"          hello            \"\n",
    "str1.rstrip()"
   ]
  },
  {
   "cell_type": "code",
   "execution_count": 11,
   "id": "15ba4bcd",
   "metadata": {},
   "outputs": [
    {
     "data": {
      "text/plain": [
       "0"
      ]
     },
     "execution_count": 11,
     "metadata": {},
     "output_type": "execute_result"
    }
   ],
   "source": [
    "# count(substring,[startindex],[stopindex])--counts the substring in string\n",
    "str1=\"Rferfrfw fegver yhyt th64 ergbhye HIUHGDi ehrgufher Hello Hello JKfdje\"\n",
    "str1.count(\"e\")\n",
    "str1.count(\"eg\")\n",
    "str1.count(\"yhyt th64 ergbhy\")\n",
    "str1.count(\"e\",15)\n",
    "str1.count(\"e\",15,35)\n",
    "str1.count(\"jkdhgeriovjn jkhbtkhvklrebjhrtkbj\")"
   ]
  },
  {
   "cell_type": "code",
   "execution_count": 26,
   "id": "e0de4e79",
   "metadata": {},
   "outputs": [
    {
     "ename": "ValueError",
     "evalue": "substring not found",
     "output_type": "error",
     "traceback": [
      "\u001b[1;31m---------------------------------------------------------------------------\u001b[0m",
      "\u001b[1;31mValueError\u001b[0m                                Traceback (most recent call last)",
      "Input \u001b[1;32mIn [26]\u001b[0m, in \u001b[0;36m<cell line: 9>\u001b[1;34m()\u001b[0m\n\u001b[0;32m      5\u001b[0m str1\u001b[38;5;241m.\u001b[39mindex(\u001b[38;5;124m\"\u001b[39m\u001b[38;5;124me\u001b[39m\u001b[38;5;124m\"\u001b[39m,\u001b[38;5;241m20\u001b[39m)\n\u001b[0;32m      7\u001b[0m str1\u001b[38;5;241m.\u001b[39mindex(\u001b[38;5;124m\"\u001b[39m\u001b[38;5;124me\u001b[39m\u001b[38;5;124m\"\u001b[39m,\u001b[38;5;241m30\u001b[39m,\u001b[38;5;241m40\u001b[39m)\n\u001b[1;32m----> 9\u001b[0m \u001b[43mstr1\u001b[49m\u001b[38;5;241;43m.\u001b[39;49m\u001b[43mindex\u001b[49m\u001b[43m(\u001b[49m\u001b[38;5;124;43m\"\u001b[39;49m\u001b[38;5;124;43mgrtgrththgth\u001b[39;49m\u001b[38;5;124;43m\"\u001b[39;49m\u001b[43m)\u001b[49m\n",
      "\u001b[1;31mValueError\u001b[0m: substring not found"
     ]
    }
   ],
   "source": [
    "# index(substring,[startindex],[stopindex])---give index of substring in string\n",
    "str1=\"Rferfrfw fegver yhyt th64 ergbhye HIUHGDi ehrgufher Hello Hello JKfdje\"\n",
    "str1.index(\"e\")\n",
    "str1.index(\"erg\")\n",
    "str1.index(\"e\",20)\n",
    "\n",
    "str1.index(\"e\",30,40)\n",
    "\n",
    "str1.index(\"grtgrththgth\")# --- if sunstring not found gives valueeror "
   ]
  },
  {
   "cell_type": "code",
   "execution_count": 27,
   "id": "0bbeecb6",
   "metadata": {},
   "outputs": [
    {
     "data": {
      "text/plain": [
       "-1"
      ]
     },
     "execution_count": 27,
     "metadata": {},
     "output_type": "execute_result"
    }
   ],
   "source": [
    "str1=\"Rferfrfw fegver yhyt th64 ergbhye HIUHGDi ehrgufher Hello Hello JKfdje\"\n",
    "str1.find(\"e\")\n",
    "str1.find(\"erg\")\n",
    "str1.find(\"e\",30)\n",
    "str1.find(\"e\",30,40)\n",
    "str1.find(\"grtgrththgth\") #when sunstring not found \n",
    "# it gives -1 but not gives error"
   ]
  },
  {
   "cell_type": "code",
   "execution_count": 30,
   "id": "56831acd",
   "metadata": {},
   "outputs": [
    {
     "data": {
      "text/plain": [
       "('Ger erterferhg htkteriumj', '', '')"
      ]
     },
     "execution_count": 30,
     "metadata": {},
     "output_type": "execute_result"
    }
   ],
   "source": [
    "# partition(substring)---return tuple having 3 string 1--left of substring\n",
    "# 2---substing itself\n",
    "# 3---right of substring\n",
    "str1=\"Ger erterferhg htkteriumj\"\n",
    "str1.partition(\"ter\")\n",
    "str1.partition(\"ergertherheth\")"
   ]
  },
  {
   "cell_type": "code",
   "execution_count": 36,
   "id": "5c63b11a",
   "metadata": {},
   "outputs": [
    {
     "data": {
      "text/plain": [
       "False"
      ]
     },
     "execution_count": 36,
     "metadata": {},
     "output_type": "execute_result"
    }
   ],
   "source": [
    "# endswith(susbtring[startindex][stopindex])\n",
    "str1=\"ERgreg eth ytg\"\n",
    "str1.endswith(\"h ytg\")\n",
    "str1.endswith(\"ytg\",5,12)"
   ]
  },
  {
   "cell_type": "code",
   "execution_count": 39,
   "id": "df0c2e91",
   "metadata": {},
   "outputs": [
    {
     "name": "stdout",
     "output_type": "stream",
     "text": [
      "ERgt\terer\terbe\trb\n",
      "ERgt                erer                erbe                rb\n"
     ]
    }
   ],
   "source": [
    "str1=\"ERgt\\terer\\terbe\\trb\"\n",
    "print(str1)\n",
    "print(str1.expandtabs(20))\n"
   ]
  },
  {
   "cell_type": "code",
   "execution_count": 40,
   "id": "ea1f0faa",
   "metadata": {},
   "outputs": [
    {
     "data": {
      "text/plain": [
       "'ERGER ERHGERGER'"
      ]
     },
     "execution_count": 40,
     "metadata": {},
     "output_type": "execute_result"
    }
   ],
   "source": [
    "str1=\"ERger erhgerger\"\n",
    "str1.upper()"
   ]
  },
  {
   "cell_type": "code",
   "execution_count": 41,
   "id": "fe48aed9",
   "metadata": {},
   "outputs": [
    {
     "data": {
      "text/plain": [
       "'ERGER ERjkfsGERG'"
      ]
     },
     "execution_count": 41,
     "metadata": {},
     "output_type": "execute_result"
    }
   ],
   "source": [
    "str1=\"erger erJKFSgerg\"\n",
    "str1.swapcase()"
   ]
  },
  {
   "cell_type": "code",
   "execution_count": 45,
   "id": "edd81cb2",
   "metadata": {},
   "outputs": [
    {
     "data": {
      "text/plain": [
       "False"
      ]
     },
     "execution_count": 45,
     "metadata": {},
     "output_type": "execute_result"
    }
   ],
   "source": [
    "str1=\"ERger etbertgert\"\n",
    "str1.startswith(\"ERger\",9)"
   ]
  },
  {
   "cell_type": "code",
   "execution_count": 50,
   "id": "09cd2d51",
   "metadata": {},
   "outputs": [
    {
     "data": {
      "text/plain": [
       "['Rh', ' khevewc jkhfv hbekiehbkf']"
      ]
     },
     "execution_count": 50,
     "metadata": {},
     "output_type": "execute_result"
    }
   ],
   "source": [
    "# spilt(\"substring\")---gives list ofstring from given separator\n",
    "str1=\"Rhwvj khevewc jkhfv hbekiehbkf\"\n",
    "str1.split(\"wvj\")"
   ]
  },
  {
   "cell_type": "code",
   "execution_count": 52,
   "id": "73a782cb",
   "metadata": {},
   "outputs": [
    {
     "data": {
      "text/plain": [
       "['hfjkbgrfklgfdnvbrj bnrtblk',\n",
       " 'wergjnertkhjc nefbjkhgbjer',\n",
       " 'erbnejkberjkbnerjkbn jertbgjkb',\n",
       " 'erberhjkvjngv']"
      ]
     },
     "execution_count": 52,
     "metadata": {},
     "output_type": "execute_result"
    }
   ],
   "source": [
    "str1=\"wrdfwervervbr \\n wehgfjkhf \\n jhfkhfwekfk\"\n",
    "str1='''hfjkbgrfklgfdnvbrj bnrtblk\n",
    "wergjnertkhjc nefbjkhgbjer\n",
    "erbnejkberjkbnerjkbn jertbgjkb\n",
    "erberhjkvjngv'''\n",
    "str1.splitlines()"
   ]
  },
  {
   "cell_type": "code",
   "execution_count": 56,
   "id": "f151621b",
   "metadata": {},
   "outputs": [
    {
     "data": {
      "text/plain": [
       "'00000000000000000000000000000000000000000000000000000000000000ergbfh ehvberjhver'"
      ]
     },
     "execution_count": 56,
     "metadata": {},
     "output_type": "execute_result"
    }
   ],
   "source": [
    "str1=\"ergbfh ehvberjhver\"\n",
    "str1.zfill(80)"
   ]
  },
  {
   "cell_type": "code",
   "execution_count": 65,
   "id": "040934e3",
   "metadata": {},
   "outputs": [
    {
     "name": "stdout",
     "output_type": "stream",
     "text": [
      "Heoot Sam!\n"
     ]
    }
   ],
   "source": [
    "txt = \"Hello Sam!\"\n",
    "mytable = str.maketrans(\"rtyluiop\", \"opeoirty\")\n",
    "print(txt.translate(mytable))"
   ]
  },
  {
   "cell_type": "code",
   "execution_count": 66,
   "id": "764b3d74",
   "metadata": {},
   "outputs": [
    {
     "data": {
      "text/plain": [
       "'Hello Sam!'"
      ]
     },
     "execution_count": 66,
     "metadata": {},
     "output_type": "execute_result"
    }
   ],
   "source": [
    "txt = \"Hello Sam!\"\n",
    "txt.replace(\"ergr\",\"P\")"
   ]
  },
  {
   "cell_type": "code",
   "execution_count": 69,
   "id": "8f5a84af",
   "metadata": {},
   "outputs": [
    {
     "data": {
      "text/plain": [
       "True"
      ]
     },
     "execution_count": 69,
     "metadata": {},
     "output_type": "execute_result"
    }
   ],
   "source": [
    "str1=\"erre78897brg\"\n",
    "str1.isalnum()"
   ]
  },
  {
   "cell_type": "code",
   "execution_count": 72,
   "id": "db554e43",
   "metadata": {},
   "outputs": [
    {
     "data": {
      "text/plain": [
       "False"
      ]
     },
     "execution_count": 72,
     "metadata": {},
     "output_type": "execute_result"
    }
   ],
   "source": [
    "str1=\"errervgfer\"\n",
    "str1.isalpha()"
   ]
  },
  {
   "cell_type": "code",
   "execution_count": 77,
   "id": "549ed49d",
   "metadata": {},
   "outputs": [
    {
     "data": {
      "text/plain": [
       "True"
      ]
     },
     "execution_count": 77,
     "metadata": {},
     "output_type": "execute_result"
    }
   ],
   "source": [
    "str1=\"Rf ß 3rgf3r\"\n",
    "str1.isascii() #che3ck every csharacter in stri ng has its ascii value"
   ]
  },
  {
   "cell_type": "code",
   "execution_count": 81,
   "id": "c016006b",
   "metadata": {},
   "outputs": [
    {
     "name": "stdout",
     "output_type": "stream",
     "text": [
      "False\n",
      "False\n",
      "False\n"
     ]
    }
   ],
   "source": [
    "str1=\"6854.685874\"\n",
    "print(str1.isnumeric())\n",
    "print(str1.isdigit())\n",
    "print(str1.isdecimal())"
   ]
  },
  {
   "cell_type": "code",
   "execution_count": 86,
   "id": "ba9bd96a",
   "metadata": {},
   "outputs": [
    {
     "data": {
      "text/plain": [
       "False"
      ]
     },
     "execution_count": 86,
     "metadata": {},
     "output_type": "execute_result"
    }
   ],
   "source": [
    "str1=\"_8eerer-gerg\"\n",
    "str1.isidentifier()"
   ]
  },
  {
   "cell_type": "code",
   "execution_count": 89,
   "id": "e5798f03",
   "metadata": {},
   "outputs": [
    {
     "data": {
      "text/plain": [
       "True"
      ]
     },
     "execution_count": 89,
     "metadata": {},
     "output_type": "execute_result"
    }
   ],
   "source": [
    "str1=\"g rgertg\"\n",
    "str1.islower()"
   ]
  },
  {
   "cell_type": "code",
   "execution_count": 91,
   "id": "52cd5729",
   "metadata": {},
   "outputs": [
    {
     "data": {
      "text/plain": [
       "True"
      ]
     },
     "execution_count": 91,
     "metadata": {},
     "output_type": "execute_result"
    }
   ],
   "source": [
    "str1=\"R HIFKLIOWSF\"\n",
    "str1.isupper()"
   ]
  },
  {
   "cell_type": "code",
   "execution_count": 94,
   "id": "a3aa758e",
   "metadata": {},
   "outputs": [
    {
     "name": "stdout",
     "output_type": "stream",
     "text": [
      "jetgc \\n nerjbr\n"
     ]
    },
    {
     "data": {
      "text/plain": [
       "True"
      ]
     },
     "execution_count": 94,
     "metadata": {},
     "output_type": "execute_result"
    }
   ],
   "source": [
    "str1=r\"jetgc \\n nerjbr\"\n",
    "print(str1)\n",
    "str1.isprintable()"
   ]
  },
  {
   "cell_type": "code",
   "execution_count": 98,
   "id": "4e1e7332",
   "metadata": {},
   "outputs": [
    {
     "data": {
      "text/plain": [
       "True"
      ]
     },
     "execution_count": 98,
     "metadata": {},
     "output_type": "execute_result"
    }
   ],
   "source": [
    "str1=\" \"\n",
    "str1.isspace()"
   ]
  },
  {
   "cell_type": "code",
   "execution_count": 103,
   "id": "928b07f7",
   "metadata": {},
   "outputs": [
    {
     "data": {
      "text/plain": [
       "'erer tur eegve'"
      ]
     },
     "execution_count": 103,
     "metadata": {},
     "output_type": "execute_result"
    }
   ],
   "source": [
    "str1=\"erer tur eegve\"\n",
    "str1.removeprefix(\"tur\")\n",
    "str1.removesuffix(\"tur\")"
   ]
  },
  {
   "cell_type": "code",
   "execution_count": 104,
   "id": "69cb3f8f",
   "metadata": {},
   "outputs": [
    {
     "data": {
      "text/plain": [
       "'wrfer erd'"
      ]
     },
     "execution_count": 104,
     "metadata": {},
     "output_type": "execute_result"
    }
   ],
   "source": [
    "str1=\"wrfer rvgerd\"\n",
    "str1.replace(\"rvg\",\"\")"
   ]
  },
  {
   "cell_type": "code",
   "execution_count": null,
   "id": "0949fe49",
   "metadata": {},
   "outputs": [],
   "source": [
    "str1=\"ERger ever ever\"\n",
    "str1."
   ]
  }
 ],
 "metadata": {
  "kernelspec": {
   "display_name": "Python 3 (ipykernel)",
   "language": "python",
   "name": "python3"
  },
  "language_info": {
   "codemirror_mode": {
    "name": "ipython",
    "version": 3
   },
   "file_extension": ".py",
   "mimetype": "text/x-python",
   "name": "python",
   "nbconvert_exporter": "python",
   "pygments_lexer": "ipython3",
   "version": "3.9.12"
  }
 },
 "nbformat": 4,
 "nbformat_minor": 5
}
