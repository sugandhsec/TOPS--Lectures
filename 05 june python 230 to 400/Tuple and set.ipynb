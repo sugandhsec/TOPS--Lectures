{
 "cells": [
  {
   "cell_type": "code",
   "execution_count": null,
   "id": "21dbe2c0",
   "metadata": {},
   "outputs": [],
   "source": [
    "# Tuple is an immutable datatype\n",
    "# changes not allowed\n",
    "# tuple is a collection of similar or different datatype\n",
    "# tuple is ordered and allow duplicates \n",
    "# tuple is defined in round brackets()"
   ]
  },
  {
   "cell_type": "code",
   "execution_count": 1,
   "id": "b69fe272",
   "metadata": {},
   "outputs": [
    {
     "name": "stdout",
     "output_type": "stream",
     "text": [
      "(478, 12.36, 'hello', [48, 6578], (45, 32), {36, 45}, {1: 'Hello', 2: 'World'})\n"
     ]
    }
   ],
   "source": [
    "tup1=(478,12.36,\"hello\",[48,6578],(45,32),{45,36},{1:\"Hello\",2:\"World\"})\n",
    "print(tup1)"
   ]
  },
  {
   "cell_type": "code",
   "execution_count": 2,
   "id": "a89ddee0",
   "metadata": {},
   "outputs": [
    {
     "ename": "TypeError",
     "evalue": "'tuple' object does not support item assignment",
     "output_type": "error",
     "traceback": [
      "\u001b[1;31m---------------------------------------------------------------------------\u001b[0m",
      "\u001b[1;31mTypeError\u001b[0m                                 Traceback (most recent call last)",
      "Input \u001b[1;32mIn [2]\u001b[0m, in \u001b[0;36m<cell line: 1>\u001b[1;34m()\u001b[0m\n\u001b[1;32m----> 1\u001b[0m tup1[\u001b[38;5;241m2\u001b[39m]\u001b[38;5;241m=\u001b[39m\u001b[38;5;124m\"\u001b[39m\u001b[38;5;124mdemo\u001b[39m\u001b[38;5;124m\"\u001b[39m\n\u001b[0;32m      2\u001b[0m \u001b[38;5;28mprint\u001b[39m(tup1)\n",
      "\u001b[1;31mTypeError\u001b[0m: 'tuple' object does not support item assignment"
     ]
    }
   ],
   "source": [
    "tup1[2]=\"demo\"\n",
    "print(tup1)"
   ]
  },
  {
   "cell_type": "code",
   "execution_count": 4,
   "id": "a8ade145",
   "metadata": {},
   "outputs": [
    {
     "name": "stdout",
     "output_type": "stream",
     "text": [
      "(1, 2, [45, 'hello'])\n"
     ]
    }
   ],
   "source": [
    "tup1=(1,2,[45,36])\n",
    "tup1[2][1]=\"hello\"\n",
    "print(tup1)\n"
   ]
  },
  {
   "cell_type": "code",
   "execution_count": 7,
   "id": "5f603091",
   "metadata": {},
   "outputs": [
    {
     "name": "stdout",
     "output_type": "stream",
     "text": [
      "(65, 41, 23, 65)\n",
      "(89, 65, 89, 65, 45)\n"
     ]
    }
   ],
   "source": [
    "tup1=(45,65,89,65,41,23,65,47,45,65,89,65,89)\n",
    "print(tup1[3:7])\n",
    "print(tup1[-1:-6:-1])"
   ]
  },
  {
   "cell_type": "code",
   "execution_count": null,
   "id": "615ae764",
   "metadata": {},
   "outputs": [],
   "source": [
    "# function in tuple\n",
    "len()\n",
    "min()\n",
    "max()\n",
    "tuple()"
   ]
  },
  {
   "cell_type": "code",
   "execution_count": 8,
   "id": "a5a8ef67",
   "metadata": {},
   "outputs": [
    {
     "name": "stdout",
     "output_type": "stream",
     "text": [
      "8\n"
     ]
    }
   ],
   "source": [
    "# len()----gives lenght of tuple\n",
    "tup1=(45,32,56,578,96,58,6965,85)\n",
    "a=len(tup1)\n",
    "print(a)"
   ]
  },
  {
   "cell_type": "code",
   "execution_count": 9,
   "id": "2e444858",
   "metadata": {},
   "outputs": [
    {
     "name": "stdout",
     "output_type": "stream",
     "text": [
      "32\n"
     ]
    }
   ],
   "source": [
    "# min()---gives minimum value of a tuple\n",
    "tup1=(45,32,56,578,96,58,6965,85)\n",
    "a=min(tup1)\n",
    "print(a)"
   ]
  },
  {
   "cell_type": "code",
   "execution_count": 10,
   "id": "1acd5a50",
   "metadata": {},
   "outputs": [
    {
     "name": "stdout",
     "output_type": "stream",
     "text": [
      "Dict\n"
     ]
    }
   ],
   "source": [
    "tup1=(\"Hello\",\"Dict\",\"appkle\",\"world\")\n",
    "a=min(tup1)\n",
    "print(a)"
   ]
  },
  {
   "cell_type": "code",
   "execution_count": 11,
   "id": "3bec7fcf",
   "metadata": {},
   "outputs": [
    {
     "ename": "TypeError",
     "evalue": "'<' not supported between instances of 'str' and 'int'",
     "output_type": "error",
     "traceback": [
      "\u001b[1;31m---------------------------------------------------------------------------\u001b[0m",
      "\u001b[1;31mTypeError\u001b[0m                                 Traceback (most recent call last)",
      "Input \u001b[1;32mIn [11]\u001b[0m, in \u001b[0;36m<cell line: 2>\u001b[1;34m()\u001b[0m\n\u001b[0;32m      1\u001b[0m tup1\u001b[38;5;241m=\u001b[39m(\u001b[38;5;241m45\u001b[39m,\u001b[38;5;241m32\u001b[39m,\u001b[38;5;124m\"\u001b[39m\u001b[38;5;124mhello\u001b[39m\u001b[38;5;124m\"\u001b[39m,\u001b[38;5;124m\"\u001b[39m\u001b[38;5;124mdemo\u001b[39m\u001b[38;5;124m\"\u001b[39m)\n\u001b[1;32m----> 2\u001b[0m a\u001b[38;5;241m=\u001b[39m\u001b[38;5;28;43mmin\u001b[39;49m\u001b[43m(\u001b[49m\u001b[43mtup1\u001b[49m\u001b[43m)\u001b[49m\n\u001b[0;32m      3\u001b[0m \u001b[38;5;28mprint\u001b[39m(a)\n",
      "\u001b[1;31mTypeError\u001b[0m: '<' not supported between instances of 'str' and 'int'"
     ]
    }
   ],
   "source": [
    "tup1=(45,32,\"hello\",\"demo\")\n",
    "a=min(tup1)\n",
    "print(a)"
   ]
  },
  {
   "cell_type": "code",
   "execution_count": 12,
   "id": "cd978dc3",
   "metadata": {},
   "outputs": [
    {
     "name": "stdout",
     "output_type": "stream",
     "text": [
      "6965\n"
     ]
    }
   ],
   "source": [
    "# max()---gives maximum value of a tuple\n",
    "tup1=(45,32,56,578,96,58,6965,85)\n",
    "a=max(tup1)\n",
    "print(a)"
   ]
  },
  {
   "cell_type": "code",
   "execution_count": 13,
   "id": "2a988d91",
   "metadata": {},
   "outputs": [
    {
     "name": "stdout",
     "output_type": "stream",
     "text": [
      "world\n"
     ]
    }
   ],
   "source": [
    "tup1=(\"Hello\",\"Dict\",\"appkle\",\"world\")\n",
    "a=max(tup1)\n",
    "print(a)"
   ]
  },
  {
   "cell_type": "code",
   "execution_count": 14,
   "id": "bf63cdf7",
   "metadata": {},
   "outputs": [
    {
     "ename": "TypeError",
     "evalue": "'>' not supported between instances of 'str' and 'int'",
     "output_type": "error",
     "traceback": [
      "\u001b[1;31m---------------------------------------------------------------------------\u001b[0m",
      "\u001b[1;31mTypeError\u001b[0m                                 Traceback (most recent call last)",
      "Input \u001b[1;32mIn [14]\u001b[0m, in \u001b[0;36m<cell line: 2>\u001b[1;34m()\u001b[0m\n\u001b[0;32m      1\u001b[0m tup1\u001b[38;5;241m=\u001b[39m(\u001b[38;5;241m45\u001b[39m,\u001b[38;5;241m32\u001b[39m,\u001b[38;5;124m\"\u001b[39m\u001b[38;5;124mhello\u001b[39m\u001b[38;5;124m\"\u001b[39m,\u001b[38;5;124m\"\u001b[39m\u001b[38;5;124mdemo\u001b[39m\u001b[38;5;124m\"\u001b[39m)\n\u001b[1;32m----> 2\u001b[0m a\u001b[38;5;241m=\u001b[39m\u001b[38;5;28;43mmax\u001b[39;49m\u001b[43m(\u001b[49m\u001b[43mtup1\u001b[49m\u001b[43m)\u001b[49m\n\u001b[0;32m      3\u001b[0m \u001b[38;5;28mprint\u001b[39m(a)\n",
      "\u001b[1;31mTypeError\u001b[0m: '>' not supported between instances of 'str' and 'int'"
     ]
    }
   ],
   "source": [
    "tup1=(45,32,\"hello\",\"demo\")\n",
    "a=max(tup1)\n",
    "print(a)"
   ]
  },
  {
   "cell_type": "code",
   "execution_count": 22,
   "id": "243437ec",
   "metadata": {},
   "outputs": [
    {
     "name": "stdout",
     "output_type": "stream",
     "text": [
      "(1, 'wow')\n"
     ]
    }
   ],
   "source": [
    "# tuple(iterable)\n",
    "tup1=tuple(range(100,125,4))\n",
    "tup1=tuple(\"hrjkiuf jhr\")\n",
    "tup1=tuple([45,25,36,58])\n",
    "tup1=tuple({45,58,96,58,74,5})\n",
    "tup1=tuple({1:\"Hello\",\"wow\":\"great\"})\n",
    "print(tup1)\n"
   ]
  },
  {
   "cell_type": "code",
   "execution_count": null,
   "id": "14120257",
   "metadata": {},
   "outputs": [],
   "source": [
    "# methods in tuple\n",
    "index()\n",
    "count()"
   ]
  },
  {
   "cell_type": "code",
   "execution_count": 27,
   "id": "145cef65",
   "metadata": {},
   "outputs": [
    {
     "data": {
      "text/plain": [
       "0"
      ]
     },
     "execution_count": 27,
     "metadata": {},
     "output_type": "execute_result"
    }
   ],
   "source": [
    "# index(element)---gives index of first occurence of element\n",
    "tup1=(45,87,96,58,41,23,45,65,25,63)\n",
    "tup1.index(45)\n",
    "# tup1.index(45874)"
   ]
  },
  {
   "cell_type": "code",
   "execution_count": 25,
   "id": "a42af301",
   "metadata": {},
   "outputs": [
    {
     "data": {
      "text/plain": [
       "0"
      ]
     },
     "execution_count": 25,
     "metadata": {},
     "output_type": "execute_result"
    }
   ],
   "source": [
    "# count(element)---gives index of first occurence of element\n",
    "tup1=(45,87,96,58,41,23,45,65,25,63)\n",
    "tup1.count(78547)"
   ]
  },
  {
   "cell_type": "code",
   "execution_count": 28,
   "id": "357bb2c9",
   "metadata": {},
   "outputs": [
    {
     "name": "stdout",
     "output_type": "stream",
     "text": [
      "(1, 2, 3)\n",
      "(1, 2, 3)\n"
     ]
    }
   ],
   "source": [
    "# copy()---why it is not in tuple\n",
    "# beacuse tuple is immutable changes not allowed after definition \n",
    "tup1=(1,2,3)\n",
    "tup2=tup1\n",
    "print(tup1)\n",
    "print(tup2)"
   ]
  },
  {
   "cell_type": "code",
   "execution_count": 32,
   "id": "3d370046",
   "metadata": {},
   "outputs": [
    {
     "name": "stdout",
     "output_type": "stream",
     "text": [
      "<class 'tuple'>\n"
     ]
    }
   ],
   "source": [
    "# tuple with a single element\n",
    "tup1=(\"thyrthr\",)\n",
    "print(type(tup1))"
   ]
  },
  {
   "cell_type": "markdown",
   "id": "9dfe6cc7",
   "metadata": {},
   "source": [
    "SET"
   ]
  },
  {
   "cell_type": "code",
   "execution_count": null,
   "id": "f200ad6e",
   "metadata": {},
   "outputs": [],
   "source": [
    "# set is a collection of element of similar or different datatype \n",
    "# set is unordered datatype its doesn't have index value\n",
    "# set not allows duplicates\n",
    "# set is defined in {}"
   ]
  },
  {
   "cell_type": "code",
   "execution_count": 34,
   "id": "c7a9ee15",
   "metadata": {},
   "outputs": [
    {
     "name": "stdout",
     "output_type": "stream",
     "text": [
      "{65, 21, 87, 23, 89, 45, 25}\n"
     ]
    }
   ],
   "source": [
    "set1={45,23,65,45,65,21,25,45,65,87,45,89}\n",
    "print(set1)"
   ]
  },
  {
   "cell_type": "code",
   "execution_count": 36,
   "id": "29463f3b",
   "metadata": {},
   "outputs": [],
   "source": [
    "# list(dir(set))\n"
   ]
  },
  {
   "cell_type": "code",
   "execution_count": 39,
   "id": "aa63090f",
   "metadata": {},
   "outputs": [
    {
     "name": "stdout",
     "output_type": "stream",
     "text": [
      "{25, 'Fwerfwe', 45, 63}\n"
     ]
    }
   ],
   "source": [
    "set1={45,25,63,25}\n",
    "set1.add(\"Fwerfwe\")\n",
    "print(set1)"
   ]
  },
  {
   "cell_type": "code",
   "execution_count": 40,
   "id": "6d15ffc9",
   "metadata": {},
   "outputs": [
    {
     "name": "stdout",
     "output_type": "stream",
     "text": [
      "set()\n"
     ]
    }
   ],
   "source": [
    "set1={45,65,87,45,8}\n",
    "set1.clear()\n",
    "print(set1)"
   ]
  },
  {
   "cell_type": "code",
   "execution_count": 43,
   "id": "4e8c18e0",
   "metadata": {},
   "outputs": [
    {
     "name": "stdout",
     "output_type": "stream",
     "text": [
      "{87, 8, 25, 45}\n"
     ]
    }
   ],
   "source": [
    "set1={45,25,65,87,45,8}\n",
    "set1.pop()\n",
    "print(set1)"
   ]
  },
  {
   "cell_type": "code",
   "execution_count": 45,
   "id": "151cbdb5",
   "metadata": {},
   "outputs": [
    {
     "name": "stdout",
     "output_type": "stream",
     "text": [
      "{65, 98, 36, 458, 45, 54, 87, 56}\n",
      "{65, 98, 36, 458, 54, 87, 56}\n"
     ]
    }
   ],
   "source": [
    "set1={45,65,87,458,45,87,45,98,54,56,36}\n",
    "print(set1)\n",
    "set1.remove(45)\n",
    "print(set1)"
   ]
  },
  {
   "cell_type": "code",
   "execution_count": 48,
   "id": "0b477f91",
   "metadata": {},
   "outputs": [
    {
     "name": "stdout",
     "output_type": "stream",
     "text": [
      "{96, 48, 8, 41, 75, 45, 25}\n",
      "{'world', 'hello'}\n",
      "{96, 8, 41, 75, 45, 48, 'world', 'hello', 25}\n"
     ]
    }
   ],
   "source": [
    "set1={45,25,41,25,48,75,96,8}\n",
    "set2={\"hello\",\"world\"}\n",
    "set3=set1.union(set2)\n",
    "print(set1)\n",
    "print(set2)\n",
    "print(set3)"
   ]
  },
  {
   "cell_type": "code",
   "execution_count": 50,
   "id": "af5ace5f",
   "metadata": {},
   "outputs": [
    {
     "name": "stdout",
     "output_type": "stream",
     "text": [
      "{45}\n"
     ]
    }
   ],
   "source": [
    "set1={45,25,45,65,25}\n",
    "set2={45,36,58,978}\n",
    "print(set1.intersection(set2))  #common"
   ]
  },
  {
   "cell_type": "code",
   "execution_count": 53,
   "id": "97af0406",
   "metadata": {},
   "outputs": [
    {
     "name": "stdout",
     "output_type": "stream",
     "text": [
      "{65, 45, 25}\n",
      "{45}\n"
     ]
    }
   ],
   "source": [
    "set1={45,25,45,65,25}\n",
    "set2={45,36,58,978}\n",
    "# set1.intersection_update(set2)\n",
    "set2.intersection_update(set1)\n",
    "\n",
    "print(set1)\n",
    "print(set2)"
   ]
  },
  {
   "cell_type": "code",
   "execution_count": 56,
   "id": "95d05521",
   "metadata": {},
   "outputs": [
    {
     "name": "stdout",
     "output_type": "stream",
     "text": [
      "{98, 36, 45}\n"
     ]
    }
   ],
   "source": [
    "# difference\n",
    "a={45,12,36,98}\n",
    "b={78,21,12,69}\n",
    "print(a.difference_update(b))"
   ]
  },
  {
   "cell_type": "code",
   "execution_count": 60,
   "id": "45e90f6e",
   "metadata": {},
   "outputs": [
    {
     "name": "stdout",
     "output_type": "stream",
     "text": [
      "{25, 45, 869}\n"
     ]
    }
   ],
   "source": [
    "a={45,25,45,869,45}\n",
    "# a.discard(25)\n",
    "a.discard(45874)\n",
    "print(a)"
   ]
  },
  {
   "cell_type": "code",
   "execution_count": 59,
   "id": "6b702848",
   "metadata": {},
   "outputs": [
    {
     "ename": "KeyError",
     "evalue": "45874",
     "output_type": "error",
     "traceback": [
      "\u001b[1;31m---------------------------------------------------------------------------\u001b[0m",
      "\u001b[1;31mKeyError\u001b[0m                                  Traceback (most recent call last)",
      "Input \u001b[1;32mIn [59]\u001b[0m, in \u001b[0;36m<cell line: 3>\u001b[1;34m()\u001b[0m\n\u001b[0;32m      1\u001b[0m a\u001b[38;5;241m=\u001b[39m{\u001b[38;5;241m45\u001b[39m,\u001b[38;5;241m25\u001b[39m,\u001b[38;5;241m45\u001b[39m,\u001b[38;5;241m869\u001b[39m,\u001b[38;5;241m45\u001b[39m}\n\u001b[0;32m      2\u001b[0m \u001b[38;5;66;03m# a.remove(25)\u001b[39;00m\n\u001b[1;32m----> 3\u001b[0m \u001b[43ma\u001b[49m\u001b[38;5;241;43m.\u001b[39;49m\u001b[43mremove\u001b[49m\u001b[43m(\u001b[49m\u001b[38;5;241;43m45874\u001b[39;49m\u001b[43m)\u001b[49m\n\u001b[0;32m      4\u001b[0m \u001b[38;5;28mprint\u001b[39m(a)\n",
      "\u001b[1;31mKeyError\u001b[0m: 45874"
     ]
    }
   ],
   "source": [
    "a={45,25,45,869,45}\n",
    "# a.remove(25)\n",
    "a.remove(45874)\n",
    "print(a)"
   ]
  },
  {
   "cell_type": "code",
   "execution_count": 62,
   "id": "9c7712a1",
   "metadata": {},
   "outputs": [
    {
     "data": {
      "text/plain": [
       "False"
      ]
     },
     "execution_count": 62,
     "metadata": {},
     "output_type": "execute_result"
    }
   ],
   "source": [
    "a={1,2,3,4,5}\n",
    "b={6,7,8,9}\n",
    "a.isdisjoint(b) #when no common then true if atleast one element is common then return False"
   ]
  },
  {
   "cell_type": "code",
   "execution_count": 64,
   "id": "1be47092",
   "metadata": {},
   "outputs": [
    {
     "name": "stdout",
     "output_type": "stream",
     "text": [
      "{4, 36, 5, 6, 7, 8, 9, 45, 25, 58}\n"
     ]
    }
   ],
   "source": [
    "a={45,25,36,58}\n",
    "a.update(range(4,10))\n",
    "print(a)"
   ]
  },
  {
   "cell_type": "code",
   "execution_count": 66,
   "id": "8b594d60",
   "metadata": {},
   "outputs": [
    {
     "data": {
      "text/plain": [
       "{45, 54, 63, 65, 78, 87, 101}"
      ]
     },
     "execution_count": 66,
     "metadata": {},
     "output_type": "execute_result"
    }
   ],
   "source": [
    "a={45,25,63,54,78,458}\n",
    "b={87,101,25,65,458}\n",
    "a.symmetric_difference_update(b)# union-intersction"
   ]
  },
  {
   "cell_type": "code",
   "execution_count": null,
   "id": "fc615a8c",
   "metadata": {},
   "outputs": [],
   "source": [
    "a={45,21,25}\n",
    "{},{45},{21},{25},{45,21},{21,25},{45,25},{45,21,25}"
   ]
  },
  {
   "cell_type": "code",
   "execution_count": 68,
   "id": "cd9a753a",
   "metadata": {},
   "outputs": [
    {
     "data": {
      "text/plain": [
       "False"
      ]
     },
     "execution_count": 68,
     "metadata": {},
     "output_type": "execute_result"
    }
   ],
   "source": [
    "a={1,2,3,4,5}\n",
    "b={1,2}\n",
    "b.issubset(a)"
   ]
  },
  {
   "cell_type": "code",
   "execution_count": 69,
   "id": "5df6ca0d",
   "metadata": {},
   "outputs": [
    {
     "data": {
      "text/plain": [
       "True"
      ]
     },
     "execution_count": 69,
     "metadata": {},
     "output_type": "execute_result"
    }
   ],
   "source": [
    "a={1,2,3,4,5}\n",
    "b={1,2}\n",
    "a.\n",
    "a.issuperset(b)"
   ]
  }
 ],
 "metadata": {
  "kernelspec": {
   "display_name": "Python 3 (ipykernel)",
   "language": "python",
   "name": "python3"
  },
  "language_info": {
   "codemirror_mode": {
    "name": "ipython",
    "version": 3
   },
   "file_extension": ".py",
   "mimetype": "text/x-python",
   "name": "python",
   "nbconvert_exporter": "python",
   "pygments_lexer": "ipython3",
   "version": "3.9.12"
  }
 },
 "nbformat": 4,
 "nbformat_minor": 5
}
