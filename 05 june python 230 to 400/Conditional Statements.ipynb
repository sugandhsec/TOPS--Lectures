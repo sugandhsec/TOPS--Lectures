{
 "cells": [
  {
   "cell_type": "code",
   "execution_count": 1,
   "id": "f7f0a482",
   "metadata": {},
   "outputs": [
    {
     "name": "stdout",
     "output_type": "stream",
     "text": [
      "37\n"
     ]
    }
   ],
   "source": [
    "a=58+96-52&45|89-89//4>>2-45**3%4\n",
    "58+96-52&45|89-89//4>>2-91125%4\n",
    "58+96-52&45|89-22>>2-91125%4\n",
    "58+96-52&45|89-22>>2-1\n",
    "154-52&45|89-22>>2-1\n",
    "102&45|89-22>>2-1\n",
    "102&45|67>>2-1\n",
    "102&45|67>>1\n",
    "102&45|33\n",
    "36|33\n",
    "37\n",
    "print(a)"
   ]
  },
  {
   "cell_type": "code",
   "execution_count": 3,
   "id": "135e7456",
   "metadata": {},
   "outputs": [
    {
     "data": {
      "text/plain": [
       "False"
      ]
     },
     "execution_count": 3,
     "metadata": {},
     "output_type": "execute_result"
    }
   ],
   "source": [
    "45.32==45.32\n",
    "40.0+5.63==45.32"
   ]
  }
 ],
 "metadata": {
  "kernelspec": {
   "display_name": "Python 3 (ipykernel)",
   "language": "python",
   "name": "python3"
  },
  "language_info": {
   "codemirror_mode": {
    "name": "ipython",
    "version": 3
   },
   "file_extension": ".py",
   "mimetype": "text/x-python",
   "name": "python",
   "nbconvert_exporter": "python",
   "pygments_lexer": "ipython3",
   "version": "3.9.12"
  }
 },
 "nbformat": 4,
 "nbformat_minor": 5
}
