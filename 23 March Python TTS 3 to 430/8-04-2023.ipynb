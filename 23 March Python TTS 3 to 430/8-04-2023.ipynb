{
 "cells": [
  {
   "cell_type": "code",
   "execution_count": 5,
   "id": "5922fc4e",
   "metadata": {},
   "outputs": [
    {
     "name": "stdout",
     "output_type": "stream",
     "text": [
      "hello\n",
      "i am learning python\n",
      "i am learning\n"
     ]
    }
   ],
   "source": [
    "#  String \n",
    "str1=\"hello i am learning python\"\n",
    "print(str1[:5])\n",
    "print(str1[6:])\n",
    "print(str1[6:19])"
   ]
  },
  {
   "cell_type": "code",
   "execution_count": 6,
   "id": "0f0d7841",
   "metadata": {},
   "outputs": [
    {
     "data": {
      "text/plain": [
       "['__add__',\n",
       " '__class__',\n",
       " '__contains__',\n",
       " '__delattr__',\n",
       " '__dir__',\n",
       " '__doc__',\n",
       " '__eq__',\n",
       " '__format__',\n",
       " '__ge__',\n",
       " '__getattribute__',\n",
       " '__getitem__',\n",
       " '__getnewargs__',\n",
       " '__gt__',\n",
       " '__hash__',\n",
       " '__init__',\n",
       " '__init_subclass__',\n",
       " '__iter__',\n",
       " '__le__',\n",
       " '__len__',\n",
       " '__lt__',\n",
       " '__mod__',\n",
       " '__mul__',\n",
       " '__ne__',\n",
       " '__new__',\n",
       " '__reduce__',\n",
       " '__reduce_ex__',\n",
       " '__repr__',\n",
       " '__rmod__',\n",
       " '__rmul__',\n",
       " '__setattr__',\n",
       " '__sizeof__',\n",
       " '__str__',\n",
       " '__subclasshook__',\n",
       " 'capitalize',\n",
       " 'casefold',\n",
       " 'center',\n",
       " 'count',\n",
       " 'encode',\n",
       " 'endswith',\n",
       " 'expandtabs',\n",
       " 'find',\n",
       " 'format',\n",
       " 'format_map',\n",
       " 'index',\n",
       " 'isalnum',\n",
       " 'isalpha',\n",
       " 'isascii',\n",
       " 'isdecimal',\n",
       " 'isdigit',\n",
       " 'isidentifier',\n",
       " 'islower',\n",
       " 'isnumeric',\n",
       " 'isprintable',\n",
       " 'isspace',\n",
       " 'istitle',\n",
       " 'isupper',\n",
       " 'join',\n",
       " 'ljust',\n",
       " 'lower',\n",
       " 'lstrip',\n",
       " 'maketrans',\n",
       " 'partition',\n",
       " 'removeprefix',\n",
       " 'removesuffix',\n",
       " 'replace',\n",
       " 'rfind',\n",
       " 'rindex',\n",
       " 'rjust',\n",
       " 'rpartition',\n",
       " 'rsplit',\n",
       " 'rstrip',\n",
       " 'split',\n",
       " 'splitlines',\n",
       " 'startswith',\n",
       " 'strip',\n",
       " 'swapcase',\n",
       " 'title',\n",
       " 'translate',\n",
       " 'upper',\n",
       " 'zfill']"
      ]
     },
     "execution_count": 6,
     "metadata": {},
     "output_type": "execute_result"
    }
   ],
   "source": [
    "# string methods\n",
    "str1=\"hello\"\n",
    "dir(str1)"
   ]
  },
  {
   "cell_type": "markdown",
   "id": "6549461a",
   "metadata": {},
   "source": [
    "syntax to use methods in string\n",
    "stringname.methodname([parameterrs])\n",
    "\n",
    "ANy methods of string will not change the original string\n",
    "all changes will be done in the copy of the string"
   ]
  },
  {
   "cell_type": "code",
   "execution_count": 11,
   "id": "51f4eb2d",
   "metadata": {},
   "outputs": [
    {
     "name": "stdout",
     "output_type": "stream",
     "text": [
      "Hello i am learning hjkdhjdh python\n"
     ]
    }
   ],
   "source": [
    "# capitalize() ---capital first letter and smalls other letters\n",
    "str1=\"hello i am learning HJKDHJDH python\"\n",
    "str2=str1.capitalize()\n",
    "print(str1.capitalize())"
   ]
  },
  {
   "cell_type": "code",
   "execution_count": 12,
   "id": "8239b6b9",
   "metadata": {},
   "outputs": [
    {
     "name": "stdout",
     "output_type": "stream",
     "text": [
      "Hello I Am Learning Hjkdhjdh Python\n"
     ]
    }
   ],
   "source": [
    "# title()--first letter of every word in capital and\n",
    "# others letter of word in small\n",
    "str1=\"hello i am learning HJKDHJDH python\"\n",
    "print(str1.title())"
   ]
  },
  {
   "cell_type": "code",
   "execution_count": 14,
   "id": "1542c55a",
   "metadata": {},
   "outputs": [
    {
     "name": "stdout",
     "output_type": "stream",
     "text": [
      "Enter Fullname: gupta sugandh\n",
      "Gupta Sugandh\n"
     ]
    }
   ],
   "source": [
    "str1=input(\"Enter Fullname: \")\n",
    "print(str1.title())"
   ]
  },
  {
   "cell_type": "code",
   "execution_count": 19,
   "id": "ef6f7b97",
   "metadata": {},
   "outputs": [
    {
     "name": "stdout",
     "output_type": "stream",
     "text": [
      "erhnguj hbjkfebdk jbgvjkb nbhj -ä -äkedb cjhvrbfjhb ß  ggefnjsf\n"
     ]
    }
   ],
   "source": [
    "# lower()---changes whole string into lower case\n",
    "str1=\"erhnguj HBJKFEBDK jbgvjkb NBHJ -Ä -ÄKEDB cjhvrbfjhb ß  ggeFNJSF\"\n",
    "print(str1.lower())\n"
   ]
  },
  {
   "cell_type": "code",
   "execution_count": 20,
   "id": "a6a51c08",
   "metadata": {},
   "outputs": [
    {
     "name": "stdout",
     "output_type": "stream",
     "text": [
      "erhnguj hbjkfebdk jbgvjkb nbhjke -ä -ädb cjhvrbfjhb ss  ggefnjsf\n"
     ]
    }
   ],
   "source": [
    "# casefold()--changes whole string into lower case and its is powerful than lower\n",
    "str1=\"erhnguj HBJKFEBDK jbgvjkb NBHJKE -Ä -ÄDB cjhvrbfjhb ß  ggeFNJSF\"\n",
    "print(str1.casefold())"
   ]
  },
  {
   "cell_type": "code",
   "execution_count": 26,
   "id": "85b8297f",
   "metadata": {},
   "outputs": [
    {
     "name": "stdout",
     "output_type": "stream",
     "text": [
      "                      dhgfk                       \n",
      "**********************dhgfk***********************\n"
     ]
    }
   ],
   "source": [
    "# center(lenght,[character])--it will put the string in center of the\n",
    "# length mentioned and fill the balnk space with space and if we want to fill\n",
    "# other characters then we pass second parameter\n",
    "str1=\"dhgfk\"\n",
    "print(str1.center(50))\n",
    "print(str1.center(50,\"*\"))"
   ]
  },
  {
   "cell_type": "code",
   "execution_count": 39,
   "id": "7c37b6a1",
   "metadata": {},
   "outputs": [
    {
     "name": "stdout",
     "output_type": "stream",
     "text": [
      "ENter Number: 6\n",
      "     *      \n",
      "    * *     \n",
      "   * * *    \n",
      "  * * * *   \n",
      " * * * * *  \n",
      "* * * * * * \n"
     ]
    }
   ],
   "source": [
    "n=int(input(\"ENter Number: \"))\n",
    "for i in range(1,n+1):\n",
    "    str1=\"* \"*i\n",
    "    print(str1.center(n*2))"
   ]
  },
  {
   "cell_type": "code",
   "execution_count": 41,
   "id": "20debd5b",
   "metadata": {},
   "outputs": [
    {
     "name": "stdout",
     "output_type": "stream",
     "text": [
      "WER nerjgehrgj************************************\n"
     ]
    }
   ],
   "source": [
    "# ljust(length,[character]) --it will put the string in left of the\n",
    "# length mentioned and fill the balnk space with space and if we want to fill\n",
    "# other characters then we pass second parameter\n",
    "str1=\"WER nerjgehrgj\"\n",
    "print(str1.ljust(50,\"*\"))"
   ]
  },
  {
   "cell_type": "code",
   "execution_count": 42,
   "id": "0c20c75b",
   "metadata": {},
   "outputs": [
    {
     "name": "stdout",
     "output_type": "stream",
     "text": [
      "************************************WER nerjgehrgj\n"
     ]
    }
   ],
   "source": [
    "# rjust(length,[character]) --it will put the string in right of the\n",
    "# length mentioned and fill the balnk space with space and if we want to fill\n",
    "# other characters then we pass second parameter\n",
    "str1=\"WER nerjgehrgj\"\n",
    "print(str1.rjust(50,\"*\"))"
   ]
  },
  {
   "cell_type": "code",
   "execution_count": 43,
   "id": "ebaab722",
   "metadata": {},
   "outputs": [
    {
     "name": "stdout",
     "output_type": "stream",
     "text": [
      "ENter Number: 10\n",
      "                  * \n",
      "                * * \n",
      "              * * * \n",
      "            * * * * \n",
      "          * * * * * \n",
      "        * * * * * * \n",
      "      * * * * * * * \n",
      "    * * * * * * * * \n",
      "  * * * * * * * * * \n",
      "* * * * * * * * * * \n"
     ]
    }
   ],
   "source": [
    "n=int(input(\"ENter Number: \"))\n",
    "for i in range(1,n+1):\n",
    "    str1=\"* \"*i\n",
    "    print(str1.rjust(n*2))"
   ]
  },
  {
   "cell_type": "code",
   "execution_count": 71,
   "id": "16774f81",
   "metadata": {},
   "outputs": [
    {
     "name": "stdout",
     "output_type": "stream",
     "text": [
      "er                       gerl                     k mnjkg                  b bkjtbk\n"
     ]
    }
   ],
   "source": [
    "# expandtabs(lenght)--set the space inside the tabs\n",
    "str1=\"er\\tgerl\\tk mnjkg\\tb bkjtbk\".expandtabs(25)\n",
    "print(str1)"
   ]
  },
  {
   "cell_type": "code",
   "execution_count": 56,
   "id": "b44352ad",
   "metadata": {},
   "outputs": [
    {
     "name": "stdout",
     "output_type": "stream",
     "text": [
      "True\n",
      "True\n"
     ]
    }
   ],
   "source": [
    "# endswith(\"substring\",[start,stop])--it checks whether the string \n",
    "# endswith the given substring or not\n",
    "str1=\"hello i am very very stron person what you believe\"\n",
    "print(str1.endswith(\"you believe\"))\n",
    "print(str1.endswith(\"stron\",15,26))"
   ]
  },
  {
   "cell_type": "code",
   "execution_count": 65,
   "id": "c303cb58",
   "metadata": {},
   "outputs": [
    {
     "data": {
      "text/plain": [
       "0"
      ]
     },
     "execution_count": 65,
     "metadata": {},
     "output_type": "execute_result"
    }
   ],
   "source": [
    "# count(\"substring\",[start,stop])--gives the occurence of the substring inside \n",
    "# string and we can laso mention start and stop\n",
    "str1=\"hello i am very well in very food in learning and learn new language well\"\n",
    "str1.count(\"well\")\n",
    "str1.count(\"well\",25)\n",
    "str1.count(\"well\",25,32)\n"
   ]
  },
  {
   "cell_type": "code",
   "execution_count": 5,
   "id": "7339adbf",
   "metadata": {},
   "outputs": [
    {
     "name": "stdout",
     "output_type": "stream",
     "text": [
      "8\n",
      "-1\n"
     ]
    }
   ],
   "source": [
    "# find(suvbstring)--return the index position of substring\n",
    "str1=\"Hello i am good\"\n",
    "print(str1.find(\"am\"))\n",
    "print(str1.find(\"very\")) #when substring not in string then it gives -1"
   ]
  },
  {
   "cell_type": "code",
   "execution_count": 6,
   "id": "e8e92ccc",
   "metadata": {},
   "outputs": [
    {
     "name": "stdout",
     "output_type": "stream",
     "text": [
      "8\n"
     ]
    },
    {
     "ename": "ValueError",
     "evalue": "substring not found",
     "output_type": "error",
     "traceback": [
      "\u001b[1;31m---------------------------------------------------------------------------\u001b[0m",
      "\u001b[1;31mValueError\u001b[0m                                Traceback (most recent call last)",
      "Input \u001b[1;32mIn [6]\u001b[0m, in \u001b[0;36m<cell line: 4>\u001b[1;34m()\u001b[0m\n\u001b[0;32m      2\u001b[0m str1\u001b[38;5;241m=\u001b[39m\u001b[38;5;124m\"\u001b[39m\u001b[38;5;124mHello i am good\u001b[39m\u001b[38;5;124m\"\u001b[39m\n\u001b[0;32m      3\u001b[0m \u001b[38;5;28mprint\u001b[39m(str1\u001b[38;5;241m.\u001b[39mindex(\u001b[38;5;124m\"\u001b[39m\u001b[38;5;124mam\u001b[39m\u001b[38;5;124m\"\u001b[39m))\n\u001b[1;32m----> 4\u001b[0m \u001b[38;5;28mprint\u001b[39m(\u001b[43mstr1\u001b[49m\u001b[38;5;241;43m.\u001b[39;49m\u001b[43mindex\u001b[49m\u001b[43m(\u001b[49m\u001b[38;5;124;43m\"\u001b[39;49m\u001b[38;5;124;43mvery\u001b[39;49m\u001b[38;5;124;43m\"\u001b[39;49m\u001b[43m)\u001b[49m)\n",
      "\u001b[1;31mValueError\u001b[0m: substring not found"
     ]
    }
   ],
   "source": [
    "# find(substring)--return the index position of substring\n",
    "str1=\"Hello i am good\"\n",
    "print(str1.index(\"am\"))\n",
    "print(str1.index(\"very\"))  #return valueerror when substring not in staring"
   ]
  },
  {
   "cell_type": "code",
   "execution_count": 10,
   "id": "463b8a3b",
   "metadata": {},
   "outputs": [
    {
     "name": "stdout",
     "output_type": "stream",
     "text": [
      "                     Python programming                      \n",
      "Python programming                      \n",
      "                     Python programming\n",
      "Python programming\n"
     ]
    }
   ],
   "source": [
    "str1=\"                     Python programming                      \"\n",
    "print(str1)\n",
    "print(str1.lstrip()) #removes left whitespaces\n",
    "print(str1.rstrip()) #removes right whitespaces\n",
    "print(str1.strip()) #removes left and right both whitespaces"
   ]
  },
  {
   "cell_type": "code",
   "execution_count": 14,
   "id": "3c05e5b8",
   "metadata": {},
   "outputs": [
    {
     "data": {
      "text/plain": [
       "('hello i am learning ', 'python', '')"
      ]
     },
     "execution_count": 14,
     "metadata": {},
     "output_type": "execute_result"
    }
   ],
   "source": [
    "# partition(substring)\n",
    "# string 3 parts 1st left of the substring\n",
    "# 2nd part substring itself\n",
    "# 3rd part right of the sub string\n",
    "str1=\"hello i am learning python\"\n",
    "str1.partition(\"python\")"
   ]
  },
  {
   "cell_type": "code",
   "execution_count": 18,
   "id": "52b4a775",
   "metadata": {},
   "outputs": [
    {
     "name": "stdout",
     "output_type": "stream",
     "text": [
      "hello world ok done wow\n"
     ]
    }
   ],
   "source": [
    "str1=\"hello this is good\"\n",
    "list1=[\"hello\",\"world\",\"ok\",\"done\",\"wow\"]\n",
    "print(\" \".join(list1))"
   ]
  },
  {
   "cell_type": "code",
   "execution_count": 19,
   "id": "298ae7bf",
   "metadata": {},
   "outputs": [
    {
     "name": "stdout",
     "output_type": "stream",
     "text": [
      "hello this is bad\n"
     ]
    }
   ],
   "source": [
    "str1=\"hello this is good\"\n",
    "print(str1.replace(\"good\",\"bad\"))\n"
   ]
  },
  {
   "cell_type": "code",
   "execution_count": 21,
   "id": "83ed9bf9",
   "metadata": {},
   "outputs": [
    {
     "name": "stdout",
     "output_type": "stream",
     "text": [
      "True\n"
     ]
    }
   ],
   "source": [
    "str1=\"hellothisisgoJKHGBKJF985769485od\"\n",
    "print(str1.isalnum())"
   ]
  },
  {
   "cell_type": "code",
   "execution_count": 23,
   "id": "7ac83008",
   "metadata": {},
   "outputs": [
    {
     "name": "stdout",
     "output_type": "stream",
     "text": [
      "True\n"
     ]
    }
   ],
   "source": [
    "str1=\"BEDNFBHbjhvbejhgvbjhfbjhe\"\n",
    "print(str1.isalpha())"
   ]
  },
  {
   "cell_type": "code",
   "execution_count": 27,
   "id": "aac781a2",
   "metadata": {},
   "outputs": [
    {
     "name": "stdout",
     "output_type": "stream",
     "text": [
      "False\n"
     ]
    }
   ],
   "source": [
    "str1=\"rklg\\nhbgek £ rb76259873\"\n",
    "print(str1.isascii())"
   ]
  },
  {
   "cell_type": "code",
   "execution_count": 33,
   "id": "f7267f7b",
   "metadata": {},
   "outputs": [
    {
     "data": {
      "text/plain": [
       "True"
      ]
     },
     "execution_count": 33,
     "metadata": {},
     "output_type": "execute_result"
    }
   ],
   "source": [
    "str1=\"f569fbfbv\"\n",
    "str1.isidentifier()"
   ]
  },
  {
   "cell_type": "code",
   "execution_count": 34,
   "id": "c318477f",
   "metadata": {},
   "outputs": [
    {
     "data": {
      "text/plain": [
       "True"
      ]
     },
     "execution_count": 34,
     "metadata": {},
     "output_type": "execute_result"
    }
   ],
   "source": [
    "str1=\"rgerg rev\"\n",
    "str1.islower()"
   ]
  },
  {
   "cell_type": "code",
   "execution_count": 37,
   "id": "56d3881b",
   "metadata": {},
   "outputs": [
    {
     "name": "stdout",
     "output_type": "stream",
     "text": [
      "erger\tevr\n",
      "False\n"
     ]
    }
   ],
   "source": [
    "str1=\"erger\\tevr\"\n",
    "print(str1)\n",
    "print(str1.isprintable())"
   ]
  },
  {
   "cell_type": "code",
   "execution_count": 45,
   "id": "272f0ac1",
   "metadata": {},
   "outputs": [
    {
     "name": "stdout",
     "output_type": "stream",
     "text": [
      "False\n"
     ]
    },
    {
     "data": {
      "text/plain": [
       "'True Is TruFe'"
      ]
     },
     "execution_count": 45,
     "metadata": {},
     "output_type": "execute_result"
    }
   ],
   "source": [
    "str1=\"True Is TruFe\"\n",
    "# print(str1.isspace())str1=\"\")\n",
    "print(str1.istitle())\n",
    "str1"
   ]
  },
  {
   "cell_type": "code",
   "execution_count": 48,
   "id": "706c6c6b",
   "metadata": {},
   "outputs": [
    {
     "name": "stdout",
     "output_type": "stream",
     "text": [
      "Enter String: ertfgrt\n"
     ]
    }
   ],
   "source": [
    "str1=input(\"Enter String: \")\n",
    "if len(str1)%4==0:\n",
    "    print(str1[-1::-1])"
   ]
  },
  {
   "cell_type": "code",
   "execution_count": null,
   "id": "8449c10d",
   "metadata": {},
   "outputs": [],
   "source": [
    "stringerbrgrb rtb\n",
    "str[0:15:1]\n",
    "str[-1: :-1]"
   ]
  },
  {
   "cell_type": "code",
   "execution_count": 61,
   "id": "92f94014",
   "metadata": {},
   "outputs": [
    {
     "name": "stdout",
     "output_type": "stream",
     "text": [
      "Enter Number: 9\n",
      "0\n",
      "1\n",
      "1\n",
      "2\n",
      "3\n",
      "5\n",
      "8\n",
      "13\n",
      "21\n"
     ]
    }
   ],
   "source": [
    "n=int(input(\"Enter Number: \"))\n",
    "n1=0\n",
    "n2=1\n",
    "if n==1:\n",
    "    print(n1)\n",
    "else:\n",
    "    print(n1)\n",
    "    print(n2)\n",
    "    for i in range(n-2):\n",
    "        temp=n1+n2\n",
    "        print(temp)\n",
    "        n1=n2\n",
    "        n2=temp\n",
    "    "
   ]
  },
  {
   "cell_type": "code",
   "execution_count": 6,
   "id": "fe768e01",
   "metadata": {},
   "outputs": [
    {
     "name": "stdout",
     "output_type": "stream",
     "text": [
      "['this is ', ' string']\n"
     ]
    }
   ],
   "source": [
    "# split()\n",
    "str1=\"this is my string\"\n",
    "list1=str1.split(\"my\")\n",
    "print(list1)"
   ]
  },
  {
   "cell_type": "code",
   "execution_count": 19,
   "id": "316e2c5d",
   "metadata": {},
   "outputs": [
    {
     "name": "stdout",
     "output_type": "stream",
     "text": [
      "['thiS', 'iS', 'mY', 'strinG']\n",
      "thiS iS mY strinG\n"
     ]
    }
   ],
   "source": [
    "str1=\"this is my string\"\n",
    "list2=[]\n",
    "list1=str1.split(\" \")\n",
    "for i in list1:\n",
    "    l2=list(i)\n",
    "    l2[-1]=l2[-1].upper()\n",
    "    str1=\"\".join(l2)\n",
    "    list2.append(str1)\n",
    "print(list2)\n",
    "str1=\" \".join(list2)\n",
    "print(str1)"
   ]
  },
  {
   "cell_type": "code",
   "execution_count": 23,
   "id": "a50c80a5",
   "metadata": {},
   "outputs": [
    {
     "name": "stdout",
     "output_type": "stream",
     "text": [
      "Enter Character: t\n",
      "consonant\n"
     ]
    }
   ],
   "source": [
    "a=input(\"Enter Character: \")\n",
    "if a in \"aeiouAEIOU\":\n",
    "    print(\"vowel\")\n",
    "else:\n",
    "    print(\"consonant\")"
   ]
  },
  {
   "cell_type": "code",
   "execution_count": null,
   "id": "9d4fc712",
   "metadata": {},
   "outputs": [],
   "source": []
  },
  {
   "cell_type": "code",
   "execution_count": 26,
   "id": "7f460831",
   "metadata": {},
   "outputs": [
    {
     "data": {
      "text/plain": [
       "False"
      ]
     },
     "execution_count": 26,
     "metadata": {},
     "output_type": "execute_result"
    }
   ],
   "source": [
    "\"k\" in [\"p\",\"p\",\"r\"]"
   ]
  },
  {
   "cell_type": "code",
   "execution_count": 28,
   "id": "e77f7625",
   "metadata": {},
   "outputs": [
    {
     "data": {
      "text/plain": [
       "'hello world'"
      ]
     },
     "execution_count": 28,
     "metadata": {},
     "output_type": "execute_result"
    }
   ],
   "source": [
    "str1=\"hello\"\n",
    "str2=\"world\"\n",
    "str1+\" \"+str2"
   ]
  },
  {
   "cell_type": "code",
   "execution_count": 36,
   "id": "61f71a4b",
   "metadata": {},
   "outputs": [
    {
     "name": "stdout",
     "output_type": "stream",
     "text": [
      "helloefdmgketr\n",
      "ehlloefdmgkert\n"
     ]
    }
   ],
   "source": [
    "str1=\"helloefdmgkert\"\n",
    "str2=str1[:-2]+str1[-1]+str1[-2]\n",
    "str3=str1[1]+str2[0]+str1[2:]\n",
    "print(str2)\n",
    "print(str3)"
   ]
  },
  {
   "cell_type": "code",
   "execution_count": 38,
   "id": "ee38ef38",
   "metadata": {},
   "outputs": [
    {
     "name": "stdout",
     "output_type": "stream",
     "text": [
      "ehllo owrld\n"
     ]
    }
   ],
   "source": [
    "str1=\"hello\"\n",
    "str2=\"world\"\n",
    "str1=str1[1]+str1[0]+str1[2:]\n",
    "str2=str2[1]+str2[0]+str2[2:]\n",
    "print(str1+\" \"+str2)"
   ]
  }
 ],
 "metadata": {
  "kernelspec": {
   "display_name": "Python 3 (ipykernel)",
   "language": "python",
   "name": "python3"
  },
  "language_info": {
   "codemirror_mode": {
    "name": "ipython",
    "version": 3
   },
   "file_extension": ".py",
   "mimetype": "text/x-python",
   "name": "python",
   "nbconvert_exporter": "python",
   "pygments_lexer": "ipython3",
   "version": "3.9.12"
  }
 },
 "nbformat": 4,
 "nbformat_minor": 5
}
