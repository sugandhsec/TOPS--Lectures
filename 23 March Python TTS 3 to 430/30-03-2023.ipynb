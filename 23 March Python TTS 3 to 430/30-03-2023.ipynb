{
 "cells": [
  {
   "cell_type": "code",
   "execution_count": null,
   "id": "5e3601e0",
   "metadata": {},
   "outputs": [],
   "source": [
    "Bitwise left shift operator <<\n",
    "bitwise right operator >>\n",
    "bitwise XOR ^"
   ]
  },
  {
   "cell_type": "code",
   "execution_count": 2,
   "id": "fbf27a7a",
   "metadata": {},
   "outputs": [
    {
     "name": "stdout",
     "output_type": "stream",
     "text": [
      "52\n",
      "16\n"
     ]
    }
   ],
   "source": [
    "print(85^97)\n",
    "print(105^121)"
   ]
  },
  {
   "cell_type": "code",
   "execution_count": 5,
   "id": "e89db335",
   "metadata": {},
   "outputs": [
    {
     "data": {
      "text/plain": [
       "920"
      ]
     },
     "execution_count": 5,
     "metadata": {},
     "output_type": "execute_result"
    }
   ],
   "source": [
    "# bitwise right shift operator  >>\n",
    "89>>3\n",
    "# bitwise left shift operator <<\n",
    "115<<3"
   ]
  },
  {
   "cell_type": "code",
   "execution_count": null,
   "id": "c1b975c6",
   "metadata": {},
   "outputs": [],
   "source": [
    "# conditional statments\n",
    "simple if\n",
    "if else\n",
    "if elif elif elif.......else ladder if else\n",
    "nested if else\n"
   ]
  },
  {
   "cell_type": "code",
   "execution_count": null,
   "id": "0381d22b",
   "metadata": {},
   "outputs": [],
   "source": [
    "# simple if\n",
    "if condition:\n",
    "    thrthrththrthrth\n",
    "    rthhrthrthrthrth\n",
    "    rthrthrthrthrthrt\n",
    "    rthrthrthrthrt\n",
    "    rhhrthrthrthrt\n",
    "    hrthrthrhhrth\n",
    "    "
   ]
  },
  {
   "cell_type": "code",
   "execution_count": 7,
   "id": "d489c908",
   "metadata": {},
   "outputs": [
    {
     "name": "stdout",
     "output_type": "stream",
     "text": [
      "Enter Age: 12\n"
     ]
    }
   ],
   "source": [
    "age=int(input(\"Enter Age: \"))\n",
    "if age>18:\n",
    "    print(\"Adult\")"
   ]
  },
  {
   "cell_type": "code",
   "execution_count": null,
   "id": "b10462c5",
   "metadata": {},
   "outputs": [],
   "source": [
    "# if else:\n",
    "if condition:\n",
    "    body\n",
    "else:\n",
    "    body"
   ]
  },
  {
   "cell_type": "code",
   "execution_count": 9,
   "id": "65738d94",
   "metadata": {},
   "outputs": [
    {
     "name": "stdout",
     "output_type": "stream",
     "text": [
      "Enter Age: 12\n",
      "Young\n"
     ]
    }
   ],
   "source": [
    "age=int(input(\"Enter Age: \"))\n",
    "if age>18:\n",
    "    print(\"Adult\")\n",
    "else:\n",
    "    print(\"Young\")"
   ]
  },
  {
   "cell_type": "code",
   "execution_count": null,
   "id": "60a5b267",
   "metadata": {},
   "outputs": [],
   "source": [
    "# ladder if else\n",
    "if condition1:\n",
    "    body\n",
    "elif condition2:\n",
    "    body\n",
    "elif condition3:\n",
    "    body\n"
   ]
  },
  {
   "cell_type": "code",
   "execution_count": 12,
   "id": "1a2080a3",
   "metadata": {},
   "outputs": [
    {
     "name": "stdout",
     "output_type": "stream",
     "text": [
      "Enter A Number: -89\n",
      "negative\n"
     ]
    }
   ],
   "source": [
    "num=int(input(\"Enter A Number: \"))\n",
    "if num>0:\n",
    "    print(\"Positive\")\n",
    "elif num<0:\n",
    "    print(\"negative\")\n",
    "else:\n",
    "    print(\"Zero\")"
   ]
  },
  {
   "cell_type": "code",
   "execution_count": 15,
   "id": "35f2a3e6",
   "metadata": {},
   "outputs": [
    {
     "name": "stdout",
     "output_type": "stream",
     "text": [
      "ENter A Number: 45\n",
      "ENter A Number: 69\n",
      "ENter A Number: 98\n",
      "98 is greater\n"
     ]
    }
   ],
   "source": [
    "a=int(input(\"ENter A Number: \"))\n",
    "b=int(input(\"ENter A Number: \"))\n",
    "c=int(input(\"ENter A Number: \"))\n",
    "if a>b:\n",
    "    if a>c:\n",
    "        print(f\"{a} is greater\")\n",
    "    else:\n",
    "        print(f\"{c} is greater\")\n",
    "else:\n",
    "    if b>c:\n",
    "        print(f\"{b} is greater\")\n",
    "    else:\n",
    "        print(f\"{c} is greater\")\n",
    "        \n",
    "        \n",
    "        \n"
   ]
  }
 ],
 "metadata": {
  "kernelspec": {
   "display_name": "Python 3 (ipykernel)",
   "language": "python",
   "name": "python3"
  },
  "language_info": {
   "codemirror_mode": {
    "name": "ipython",
    "version": 3
   },
   "file_extension": ".py",
   "mimetype": "text/x-python",
   "name": "python",
   "nbconvert_exporter": "python",
   "pygments_lexer": "ipython3",
   "version": "3.9.12"
  }
 },
 "nbformat": 4,
 "nbformat_minor": 5
}
