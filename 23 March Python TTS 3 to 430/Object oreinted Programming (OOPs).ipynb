{
 "cells": [
  {
   "cell_type": "code",
   "execution_count": null,
   "id": "79f73383",
   "metadata": {},
   "outputs": [],
   "source": [
    "# Class\n",
    "# Object\n",
    "\n",
    "class is a blueprint\n",
    "\n",
    "variables---attributes---data members\n",
    "functions---behaviour---methods----member function\n"
   ]
  },
  {
   "cell_type": "code",
   "execution_count": 16,
   "id": "3a6c7870",
   "metadata": {},
   "outputs": [],
   "source": [
    "class student:\n",
    "    def __init__(self):\n",
    "        self.name=\"\"\n",
    "        self.age=0\n",
    "        self.mobile=\"\"\n",
    "        \n",
    "    def getvalue(self):\n",
    "        self.name=input(\"Enter name: \")\n",
    "        self.age=int(input(\"Enter Age: \"))\n",
    "        self.mobile=input(\"enter mobile: \")\n",
    "    \n",
    "    def showdata(self):\n",
    "        \n",
    "        print(f\"name is {self.name} age is {self.age} and mobile is {self.mobile}\")"
   ]
  },
  {
   "cell_type": "code",
   "execution_count": 17,
   "id": "dd2950c4",
   "metadata": {},
   "outputs": [
    {
     "name": "stdout",
     "output_type": "stream",
     "text": [
      "Enter name: hwfjh\n",
      "Enter Age: 45\n",
      "enter mobile: 4454654\n",
      "name is hwfjh age is 45 and mobile is 4454654\n"
     ]
    }
   ],
   "source": [
    "# \\objectname=classname()\n",
    "# attributes---name,age,mobile\n",
    "# methods---getvalue(),showvalue()\n",
    "s1=student()\n",
    "s1.getvalue()\n",
    "s1.showdata()\n",
    "s2=student()"
   ]
  },
  {
   "cell_type": "markdown",
   "id": "94245844",
   "metadata": {},
   "source": [
    "# constructor\n",
    "there are differences between normal functiona nd constructor\n",
    "\n",
    "1---functionname is userchoice but constructor name is __init__\n",
    "2---function will be called by user with one object and many number of \n",
    "time we can call but in case of constructor it will be called automatically\n",
    "when object is defined\n",
    "3----normal function will return anything but constructor will never \n",
    "return anything\n"
   ]
  },
  {
   "cell_type": "code",
   "execution_count": 9,
   "id": "2335a2ea",
   "metadata": {},
   "outputs": [
    {
     "name": "stdout",
     "output_type": "stream",
     "text": [
      "I am A Constructor\n",
      "I am Desturtcor\n",
      "I am A Normal Function\n",
      "59\n",
      "I am A Normal Function\n",
      "I am A Normal Function\n",
      "I am A Constructor\n",
      "I am Desturtcor\n"
     ]
    }
   ],
   "source": [
    "class demo:\n",
    "    def fun1(self):\n",
    "        print(\"I am A Normal Function\")\n",
    "        return 59\n",
    "        \n",
    "    def __init__(self):\n",
    "        print(\"I am A Constructor\")\n",
    "        \n",
    "    def __del__(self):\n",
    "        print(\"I am Desturtcor\")\n",
    "        \n",
    "d1=demo()\n",
    "print(d1.fun1())\n",
    "d1.fun1()\n",
    "d1.fun1()\n",
    "d2=demo()"
   ]
  },
  {
   "cell_type": "code",
   "execution_count": 7,
   "id": "6b3d3fd4",
   "metadata": {},
   "outputs": [
    {
     "name": "stdout",
     "output_type": "stream",
     "text": [
      "<class 'int'>\n"
     ]
    }
   ],
   "source": [
    "# a=print(\"wow\")\n",
    "# print(a)\n",
    "a=type(125)\n",
    "print(a)"
   ]
  },
  {
   "cell_type": "code",
   "execution_count": 11,
   "id": "051ba226",
   "metadata": {},
   "outputs": [
    {
     "name": "stdout",
     "output_type": "stream",
     "text": [
      "wow\n"
     ]
    },
    {
     "ename": "NameError",
     "evalue": "name 'a' is not defined",
     "output_type": "error",
     "traceback": [
      "\u001b[1;31m---------------------------------------------------------------------------\u001b[0m",
      "\u001b[1;31mNameError\u001b[0m                                 Traceback (most recent call last)",
      "Input \u001b[1;32mIn [11]\u001b[0m, in \u001b[0;36m<cell line: 4>\u001b[1;34m()\u001b[0m\n\u001b[0;32m      2\u001b[0m \u001b[38;5;28mprint\u001b[39m(a)\n\u001b[0;32m      3\u001b[0m \u001b[38;5;28;01mdel\u001b[39;00m a\n\u001b[1;32m----> 4\u001b[0m \u001b[38;5;28mprint\u001b[39m(\u001b[43ma\u001b[49m)\n",
      "\u001b[1;31mNameError\u001b[0m: name 'a' is not defined"
     ]
    }
   ],
   "source": [
    "a=\"wow\"\n",
    "print(a)\n",
    "del a\n",
    "print(a)"
   ]
  },
  {
   "cell_type": "code",
   "execution_count": 12,
   "id": "b245e013",
   "metadata": {},
   "outputs": [
    {
     "ename": "TypeError",
     "evalue": "can only concatenate str (not \"int\") to str",
     "output_type": "error",
     "traceback": [
      "\u001b[1;31m---------------------------------------------------------------------------\u001b[0m",
      "\u001b[1;31mTypeError\u001b[0m                                 Traceback (most recent call last)",
      "Input \u001b[1;32mIn [12]\u001b[0m, in \u001b[0;36m<cell line: 2>\u001b[1;34m()\u001b[0m\n\u001b[0;32m      1\u001b[0m a\u001b[38;5;241m=\u001b[39m\u001b[38;5;124m\"\u001b[39m\u001b[38;5;124mhello\u001b[39m\u001b[38;5;124m\"\u001b[39m\n\u001b[1;32m----> 2\u001b[0m \u001b[38;5;28mprint\u001b[39m(\u001b[43ma\u001b[49m\u001b[38;5;241;43m+\u001b[39;49m\u001b[38;5;241;43m10\u001b[39;49m)\n",
      "\u001b[1;31mTypeError\u001b[0m: can only concatenate str (not \"int\") to str"
     ]
    }
   ],
   "source": [
    "a=\"hello\"\n",
    "print(a+10)"
   ]
  },
  {
   "cell_type": "code",
   "execution_count": null,
   "id": "53d46a2c",
   "metadata": {},
   "outputs": [],
   "source": []
  },
  {
   "cell_type": "code",
   "execution_count": 21,
   "id": "9d728e1f",
   "metadata": {},
   "outputs": [
    {
     "name": "stdout",
     "output_type": "stream",
     "text": [
      "Enter number: \n",
      "False\n"
     ]
    }
   ],
   "source": [
    "a=bool(input(\"Enter number: \"))\n",
    "print(a)"
   ]
  },
  {
   "cell_type": "code",
   "execution_count": 19,
   "id": "f2122e53",
   "metadata": {},
   "outputs": [
    {
     "name": "stdout",
     "output_type": "stream",
     "text": [
      "False\n"
     ]
    }
   ],
   "source": [
    "a=\"\"\n",
    "b=bool(a)\n",
    "print(b)"
   ]
  },
  {
   "cell_type": "code",
   "execution_count": 25,
   "id": "ec4ccd01",
   "metadata": {},
   "outputs": [
    {
     "name": "stdout",
     "output_type": "stream",
     "text": [
      "Enter Number: \n",
      "\n"
     ]
    }
   ],
   "source": [
    "a=input(\"Enter Number: \")\n",
    "print(a)"
   ]
  },
  {
   "cell_type": "code",
   "execution_count": null,
   "id": "3c3109ae",
   "metadata": {},
   "outputs": [],
   "source": [
    "# inheritance\n",
    "1)Single Inheritance--\n",
    "2)Multilevel Inheritance\n",
    "3)Multiple Inheritance\n",
    "4)heirarchical Inheritance\n",
    "5)Hybrid Inhertiance"
   ]
  },
  {
   "cell_type": "code",
   "execution_count": 25,
   "id": "2dd37f76",
   "metadata": {},
   "outputs": [],
   "source": [
    "class first:\n",
    "    def __init__(self):\n",
    "        self.a=\"hello\"\n",
    "    \n",
    "    def demo(self):\n",
    "        print(f\"Value of as is {self.a}\")"
   ]
  },
  {
   "cell_type": "code",
   "execution_count": 28,
   "id": "6db3d425",
   "metadata": {},
   "outputs": [],
   "source": [
    "class second:\n",
    "    def __init__(self):\n",
    "        super().__init__()\n",
    "        self.b=\"great\"\n",
    "        \n",
    "    def data(self):\n",
    "        print(f\"Value of b is{self.b}\")"
   ]
  },
  {
   "cell_type": "code",
   "execution_count": 31,
   "id": "93c8e9ef",
   "metadata": {},
   "outputs": [],
   "source": [
    "class third(first,second):\n",
    "    def __init__(self):\n",
    "        super().__init__()\n",
    "        self.c=874\n",
    "        \n",
    "    def val(self):\n",
    "        print(f\"Value of c is {self.c}\")"
   ]
  },
  {
   "cell_type": "code",
   "execution_count": 32,
   "id": "e4a25409",
   "metadata": {},
   "outputs": [
    {
     "name": "stdout",
     "output_type": "stream",
     "text": [
      "Value of as is hello\n",
      "Value of b isgreat\n",
      "Value of c is 874\n"
     ]
    }
   ],
   "source": [
    "t1=third()\n",
    "t1.demo()\n",
    "t1.data()\n",
    "t1.val()"
   ]
  },
  {
   "cell_type": "code",
   "execution_count": null,
   "id": "4d972d1f",
   "metadata": {},
   "outputs": [],
   "source": [
    "class person:\n",
    "    def _init_(self):\n",
    "        self.name=\"\"\n",
    "        self.age=0\n",
    "        self.email=\"\"\n",
    "        self.mobile=0\n",
    "        \n",
    "    def getperson(self):\n",
    "        self.name=input(\"Enter Name : \")\n",
    "        self.age=int(input(\"Enter age : \"))\n",
    "        self.email=input(\"Enter Email : \")\n",
    "        self.mobile=int(input(\"Enter mobile : \"))\n",
    "        \n",
    "    def showperson(self):\n",
    "        print(f\"Name is {self.name}\")\n",
    "        print(f\"Age is {self.age}\")\n",
    "        print(f\"Email is {self.email}\")\n",
    "        print(f\"Mobile is {self.mobile}\")\n",
    "class student(person):\n",
    "    def _init_(self):\n",
    "        super()._init_()\n",
    "        self.rollno=0\n",
    "        self.subject=\"\"\n",
    "        self.percentage=0.0\n",
    "        self.course=\"\"\n",
    "            \n",
    "    def getstudent(self):\n",
    "        self.getperson()\n",
    "        self.rollno=int(input(\"Enter Student RollNo : \"))\n",
    "        self.subject=input(\"Enter Student Subject : \")\n",
    "        self.percentage=float(input(\"Enter Student Percentage : \"))\n",
    "        self.course=input(\"Enter Student Course : \")\n",
    "        \n",
    "    def showstudent(self):\n",
    "        self.showperson()\n",
    "        print(f\"Student Roll Number : {self.rollno}\")\n",
    "        print(f\"Student subject : {self.subject}\")\n",
    "        print(f\"Studnet Percentage : {self.percentage}\")\n",
    "        print(f\"Student Course : {self.course}\")\n",
    "class faculty(person):\n",
    "    def _init_(self):\n",
    "        super()._init_()\n",
    "        self.fid=0\n",
    "        self.salary=0\n",
    "        self.subject=\"\"\n",
    "        self.course=0\n",
    "        \n",
    "    def getfaculty(self):\n",
    "        self.fid=int(input(\"Enter Faculty ID : \"))\n",
    "        self.salary=int(input(\"Enter Faculty Salary : \"))\n",
    "        self.subject=input(\"Enter Faculty Subject : \")\n",
    "        self.course=input(\"Enter Faculty Course : \")\n",
    "        \n",
    "    def showfaculty(self):\n",
    "        print(f\"Faculty ID : {self.fid}\")\n",
    "        print(f\"Faculty salary : {self.salary}\")\n",
    "        print(f\"Faculty Subject : {self.subject}\")\n",
    "        print(f\"Faculty Course : {self.course}\")\n",
    "s1=student()\n",
    "s1.getstudent()\n",
    "s1.showstudent()\n",
    "f1=faculty()\n",
    "f1.getfaculty()\n",
    "f1.showfaculty()"
   ]
  },
  {
   "cell_type": "code",
   "execution_count": null,
   "id": "e1150687",
   "metadata": {},
   "outputs": [],
   "source": [
    "# polymorphism\n",
    "# Function overriding"
   ]
  },
  {
   "cell_type": "code",
   "execution_count": 3,
   "id": "9991e75f",
   "metadata": {},
   "outputs": [
    {
     "name": "stdout",
     "output_type": "stream",
     "text": [
      "I am Function of class c1\n",
      "this is function of class c2\n"
     ]
    }
   ],
   "source": [
    "class c1:\n",
    "    def myfun(self):\n",
    "        print(\"I am Function of class c1\")\n",
    "        \n",
    "        \n",
    "        \n",
    "class c2(c1):\n",
    "    def myfun(self):\n",
    "        print(\"this is function of class c2\")\n",
    "        \n",
    "\n",
    "obj1=c1()\n",
    "obj1.myfun()\n",
    "obj2=c2()\n",
    "obj2.myfun()"
   ]
  },
  {
   "cell_type": "code",
   "execution_count": 6,
   "id": "41643603",
   "metadata": {},
   "outputs": [
    {
     "ename": "TypeError",
     "evalue": "fun1() missing 1 required positional argument: 'b'",
     "output_type": "error",
     "traceback": [
      "\u001b[1;31m---------------------------------------------------------------------------\u001b[0m",
      "\u001b[1;31mTypeError\u001b[0m                                 Traceback (most recent call last)",
      "Input \u001b[1;32mIn [6]\u001b[0m, in \u001b[0;36m<cell line: 12>\u001b[1;34m()\u001b[0m\n\u001b[0;32m      9\u001b[0m         \u001b[38;5;28mprint\u001b[39m(\u001b[38;5;124m\"\u001b[39m\u001b[38;5;124mTwo Paraameters\u001b[39m\u001b[38;5;124m\"\u001b[39m)\n\u001b[0;32m     11\u001b[0m d1\u001b[38;5;241m=\u001b[39mdemo()\n\u001b[1;32m---> 12\u001b[0m \u001b[43md1\u001b[49m\u001b[38;5;241;43m.\u001b[39;49m\u001b[43mfun1\u001b[49m\u001b[43m(\u001b[49m\u001b[38;5;241;43m45\u001b[39;49m\u001b[43m)\u001b[49m\n",
      "\u001b[1;31mTypeError\u001b[0m: fun1() missing 1 required positional argument: 'b'"
     ]
    }
   ],
   "source": [
    "class demo:\n",
    "    def fun1(self):\n",
    "        print(\":no aparameters\")\n",
    "        \n",
    "    def fun1(self,a):\n",
    "        print(\"One parameter\")\n",
    "        \n",
    "    def fun1(self,a,b):\n",
    "        print(\"Two Paraameters\")\n",
    "        \n",
    "d1=demo()\n",
    "d1.fun1(45)"
   ]
  },
  {
   "cell_type": "code",
   "execution_count": 9,
   "id": "a598b51a",
   "metadata": {},
   "outputs": [
    {
     "name": "stdout",
     "output_type": "stream",
     "text": [
      "150\n"
     ]
    },
    {
     "ename": "TypeError",
     "evalue": "unsupported operand type(s) for +: 'demo' and 'demo2'",
     "output_type": "error",
     "traceback": [
      "\u001b[1;31m---------------------------------------------------------------------------\u001b[0m",
      "\u001b[1;31mTypeError\u001b[0m                                 Traceback (most recent call last)",
      "Input \u001b[1;32mIn [9]\u001b[0m, in \u001b[0;36m<cell line: 20>\u001b[1;34m()\u001b[0m\n\u001b[0;32m     18\u001b[0m d2\u001b[38;5;241m=\u001b[39mdemo2()\n\u001b[0;32m     19\u001b[0m \u001b[38;5;28mprint\u001b[39m(d1\u001b[38;5;241m.\u001b[39ma\u001b[38;5;241m+\u001b[39md2\u001b[38;5;241m.\u001b[39mx)\n\u001b[1;32m---> 20\u001b[0m \u001b[38;5;28mprint\u001b[39m(\u001b[43md1\u001b[49m\u001b[38;5;241;43m+\u001b[39;49m\u001b[43md2\u001b[49m)\n",
      "\u001b[1;31mTypeError\u001b[0m: unsupported operand type(s) for +: 'demo' and 'demo2'"
     ]
    }
   ],
   "source": [
    "# operator overloading\n",
    "\n",
    "class demo:\n",
    "    def __init__(self):\n",
    "        self.a=48\n",
    "    \n",
    "    def fun1(self):\n",
    "        print(\":no aparameters\")\n",
    "        \n",
    "class demo2:\n",
    "    def __init__(self):\n",
    "        self.x=102\n",
    "        \n",
    "    def dep1(self):\n",
    "        print(\"Dep Function\")\n",
    "        \n",
    "d1=demo()\n",
    "d2=demo2()\n",
    "print(d1.a+d2.x)\n",
    "print(d1+d2)"
   ]
  },
  {
   "cell_type": "code",
   "execution_count": 10,
   "id": "d5954ca5",
   "metadata": {},
   "outputs": [
    {
     "name": "stdout",
     "output_type": "stream",
     "text": [
      "150\n",
      "150\n",
      "None\n"
     ]
    }
   ],
   "source": [
    "# operator overloading\n",
    "\n",
    "class demo:\n",
    "    def __init__(self):\n",
    "        self.a=48\n",
    "    \n",
    "    def fun1(self):\n",
    "        print(\":no aparameters\")\n",
    "        \n",
    "    def __add__(self,other):\n",
    "        self.a=self.a+other.x\n",
    "        print(self.a)\n",
    "        \n",
    "        \n",
    "class demo2:\n",
    "    def __init__(self):\n",
    "        self.x=102\n",
    "        \n",
    "    def dep1(self):\n",
    "        print(\"Dep Function\")\n",
    "        \n",
    "    \n",
    "d1=demo()\n",
    "d2=demo2()\n",
    "print(d1.a+d2.x)\n",
    "print(d1+d2)"
   ]
  },
  {
   "cell_type": "code",
   "execution_count": 13,
   "id": "9e868319",
   "metadata": {},
   "outputs": [
    {
     "data": {
      "text/plain": [
       "(221,\n",
       " b'2.0.0 closing connection m3-20020aa78a03000000b0063b675f01a5sm927380pfa.11 - gsmtp')"
      ]
     },
     "execution_count": 13,
     "metadata": {},
     "output_type": "execute_result"
    }
   ],
   "source": [
    "import smtplib\n",
    "import random\n",
    "a=random.randint(1000,9999)\n",
    "# creates SMTP session\n",
    "s = smtplib.SMTP('smtp.gmail.com', 587)\n",
    "\n",
    "# start TLS for security\n",
    "s.starttls()\n",
    "\n",
    "# Authentication\n",
    "s.login(\"topsdata1122@gmail.com\", \"flyfazqsyfcsacpb\")\n",
    "\n",
    "# message to be sent\n",
    "message = f\"Your OTP IS{a}\"\n",
    "\n",
    "# sending the mail\n",
    "s.sendmail(\"topsdata1122@gmail.com\", \"sugandhgupta.tops@gmail.com\", message)\n",
    "\n",
    "# terminating the session\n",
    "s.quit()\n"
   ]
  },
  {
   "cell_type": "code",
   "execution_count": 14,
   "id": "b5ac8ddf",
   "metadata": {},
   "outputs": [
    {
     "name": "stdout",
     "output_type": "stream",
     "text": [
      "Defaulting to user installation because normal site-packages is not writeable\n",
      "Requirement already satisfied: xlrd in c:\\programdata\\anaconda3\\lib\\site-packages (2.0.1)\n",
      "Note: you may need to restart the kernel to use updated packages.\n"
     ]
    }
   ],
   "source": [
    "pip install xlrd   "
   ]
  },
  {
   "cell_type": "code",
   "execution_count": null,
   "id": "9c6d1899",
   "metadata": {},
   "outputs": [],
   "source": [
    "import xlrd     \n",
    "loc = (\"C:\\Users\\Sugandh\\Desktop\\Sugandh Lectures\\Lectures\\23 March Python TTS 3 to 430/data.xls\") \n",
    "wb = xlrd.open_workbook(loc) \n",
    "sheet = wb.sheet_by_index(0)     \n",
    "      \n",
    "# For row 0 and column 0     \n",
    "sheet.cell_value(0, 0)  "
   ]
  },
  {
   "cell_type": "code",
   "execution_count": 10,
   "id": "75773b86",
   "metadata": {},
   "outputs": [],
   "source": [
    "import pandas as pd\n",
    "import smtplib\n",
    "import random\n",
    "df = pd.read_csv('data.csv')\n",
    "\n",
    "for i,j,k in zip(df[\"email\"],df[\"age\"],df[\"name\"]):\n",
    "    \n",
    "    a=random.randint(1000,9999)\n",
    "    # creates SMTP session\n",
    "    s = smtplib.SMTP('smtp.gmail.com', 587)\n",
    "    \n",
    "    # start TLS for security\n",
    "    s.starttls()\n",
    "\n",
    "    # Authentication\n",
    "    s.login(\"topsdata1122@gmail.com\", \"flyfazqsyfcsacpb\")\n",
    "\n",
    "    # message to be sent\n",
    "    message = f\"Apki umar is {j} and name is{k}\"\n",
    "\n",
    "    # sending the mail\n",
    "    s.sendmail(\"topsdata1122@gmail.com\", i, message)\n",
    "\n",
    "    # terminating the session\n",
    "    s.quit()"
   ]
  }
 ],
 "metadata": {
  "kernelspec": {
   "display_name": "Python 3 (ipykernel)",
   "language": "python",
   "name": "python3"
  },
  "language_info": {
   "codemirror_mode": {
    "name": "ipython",
    "version": 3
   },
   "file_extension": ".py",
   "mimetype": "text/x-python",
   "name": "python",
   "nbconvert_exporter": "python",
   "pygments_lexer": "ipython3",
   "version": "3.9.12"
  }
 },
 "nbformat": 4,
 "nbformat_minor": 5
}
