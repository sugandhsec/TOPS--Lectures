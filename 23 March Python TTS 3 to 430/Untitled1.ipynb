{
 "cells": [
  {
   "cell_type": "code",
   "execution_count": null,
   "id": "d372fdcc",
   "metadata": {},
   "outputs": [],
   "source": [
    "N=4\n",
    "append 8\n",
    "insert 2 58\n",
    "pop\n",
    "print"
   ]
  },
  {
   "cell_type": "code",
   "execution_count": 8,
   "id": "17f06c2b",
   "metadata": {},
   "outputs": [
    {
     "name": "stdout",
     "output_type": "stream",
     "text": [
      "Enter N: 5\n",
      "pop\n"
     ]
    },
    {
     "ename": "IndexError",
     "evalue": "pop from empty list",
     "output_type": "error",
     "traceback": [
      "\u001b[1;31m---------------------------------------------------------------------------\u001b[0m",
      "\u001b[1;31mIndexError\u001b[0m                                Traceback (most recent call last)",
      "Input \u001b[1;32mIn [8]\u001b[0m, in \u001b[0;36m<cell line: 3>\u001b[1;34m()\u001b[0m\n\u001b[0;32m     15\u001b[0m     list1\u001b[38;5;241m.\u001b[39msort()\n\u001b[0;32m     16\u001b[0m \u001b[38;5;28;01melif\u001b[39;00m words[\u001b[38;5;241m0\u001b[39m]\u001b[38;5;241m==\u001b[39m\u001b[38;5;124m\"\u001b[39m\u001b[38;5;124mpop\u001b[39m\u001b[38;5;124m\"\u001b[39m:\n\u001b[1;32m---> 17\u001b[0m     \u001b[43mlist1\u001b[49m\u001b[38;5;241;43m.\u001b[39;49m\u001b[43mpop\u001b[49m\u001b[43m(\u001b[49m\u001b[43m)\u001b[49m\n\u001b[0;32m     18\u001b[0m \u001b[38;5;28;01melif\u001b[39;00m words[\u001b[38;5;241m0\u001b[39m]\u001b[38;5;241m==\u001b[39m\u001b[38;5;124m\"\u001b[39m\u001b[38;5;124mreverse\u001b[39m\u001b[38;5;124m\"\u001b[39m:\n\u001b[0;32m     19\u001b[0m     list1\u001b[38;5;241m.\u001b[39mreverse()\n",
      "\u001b[1;31mIndexError\u001b[0m: pop from empty list"
     ]
    }
   ],
   "source": [
    "N=int(input(\"Enter N: \"))\n",
    "list1=[]\n",
    "for i in range(N):\n",
    "    task=input()\n",
    "    words=task.split(\" \")\n",
    "    if words[0]==\"append\":\n",
    "        list1.append(int(words[1]))\n",
    "    elif words[0]==\"print\":\n",
    "        print(list1)\n",
    "    elif words[0]==\"remove\":\n",
    "        list1.remove(int(words[1]))\n",
    "    elif words[0]==\"insert\":\n",
    "        list1.insert(int(words[1]),int(words[2]))\n",
    "    elif words[0]==\"sort\":\n",
    "        list1.sort()\n",
    "    elif words[0]==\"pop\":\n",
    "        list1.pop()\n",
    "    elif words[0]==\"reverse\":\n",
    "        list1.reverse()"
   ]
  },
  {
   "cell_type": "code",
   "execution_count": 12,
   "id": "84d74b2e",
   "metadata": {},
   "outputs": [
    {
     "name": "stdout",
     "output_type": "stream",
     "text": [
      "7 27\n",
      "------------.|.------------\n",
      "-----------.|..|.----------\n",
      "---------.|..|..|.---------\n",
      "--------.|..|..|..|.-------\n",
      "------.|..|..|..|..|.------\n",
      "-----.|..|..|..|..|..|.----\n",
      "---.|..|..|..|..|..|..|.---\n"
     ]
    }
   ],
   "source": [
    "n=input()\n",
    "nums=n.split(\" \")\n",
    "for i in range(1,int(nums[0])+1):\n",
    "    if i==(i//2):\n",
    "        print(\"welcome\".center(nums[1],\"-\"))\n",
    "    elif i>(i//2):\n",
    "        str1=\".|.\"*(i)\n",
    "        print(str1.center(int(nums[1]),\"-\"))"
   ]
  },
  {
   "cell_type": "code",
   "execution_count": 34,
   "id": "35595683",
   "metadata": {},
   "outputs": [
    {
     "name": "stdout",
     "output_type": "stream",
     "text": [
      "Enter Number: 15\n",
      "---------------------.|.---------------------\n",
      "------------------.|..|..|.------------------\n",
      "---------------.|..|..|..|..|.---------------\n",
      "------------.|..|..|..|..|..|..|.------------\n",
      "---------.|..|..|..|..|..|..|..|..|.---------\n",
      "------.|..|..|..|..|..|..|..|..|..|..|.------\n",
      "---.|..|..|..|..|..|..|..|..|..|..|..|..|.---\n",
      "-------------------WELCOME-------------------\n",
      "------------.|..|..|..|..|..|..|.------------\n",
      "--------------.|..|..|..|..|..|.-------------\n",
      "---------------.|..|..|..|..|.---------------\n",
      "-----------------.|..|..|..|.----------------\n",
      "------------------.|..|..|.------------------\n",
      "--------------------.|..|.-------------------\n",
      "---------------------.|.---------------------\n"
     ]
    }
   ],
   "source": [
    "num=int(input(\"Enter Number: \"))\n",
    "for i in range(1,num+1):\n",
    "    if i<=(num//2):\n",
    "        str1=\".|.\"*((i*2)-1)\n",
    "        print(str1.center(num*3,\"-\"))\n",
    "    elif i==((num//2)+1):\n",
    "        str1=\"WELCOME\"\n",
    "        print(str1.center(num*3,\"-\"))\n",
    "    elif i>=((num//2)+2):\n",
    "        str1=\".|.\"*(num-(i-1))\n",
    "        print(str1.center(num*3,\"-\"))\n",
    "    \n",
    "#     9 9//2 4"
   ]
  }
 ],
 "metadata": {
  "kernelspec": {
   "display_name": "Python 3 (ipykernel)",
   "language": "python",
   "name": "python3"
  },
  "language_info": {
   "codemirror_mode": {
    "name": "ipython",
    "version": 3
   },
   "file_extension": ".py",
   "mimetype": "text/x-python",
   "name": "python",
   "nbconvert_exporter": "python",
   "pygments_lexer": "ipython3",
   "version": "3.9.12"
  }
 },
 "nbformat": 4,
 "nbformat_minor": 5
}
