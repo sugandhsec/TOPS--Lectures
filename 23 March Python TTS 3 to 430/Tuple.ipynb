{
 "cells": [
  {
   "cell_type": "code",
   "execution_count": null,
   "id": "84d89d6e",
   "metadata": {},
   "outputs": [],
   "source": [
    "# Tuple is also a collection of element of similar or different datatype\n",
    "# tuple is also a ordered collection\n",
    "# tuple is immutable changes not allowed\n",
    "# tuple is defined in round braces\n",
    "# tuple is not changeable in both format means not asingle element or neither a collection"
   ]
  },
  {
   "cell_type": "code",
   "execution_count": 5,
   "id": "4fa4862b",
   "metadata": {},
   "outputs": [],
   "source": [
    "# list=[]\n",
    "tup1=(45,58.23,True,\"String\",[45,36],(45,89),{41,20},{1:89})"
   ]
  },
  {
   "cell_type": "code",
   "execution_count": 9,
   "id": "3bb365f8",
   "metadata": {},
   "outputs": [
    {
     "name": "stdout",
     "output_type": "stream",
     "text": [
      "(45, 58.23, True, 'String', [45, 36], (45, 89), {41, 20}, {1: 89})\n",
      "String\n",
      "45\n",
      "(45, 58.23, True, 'String', ['Great', 36], (45, 89), {41, 20}, {1: 89})\n"
     ]
    }
   ],
   "source": [
    "print(tup1)\n",
    "print(tup1[3])\n",
    "print(tup1[4][0])\n",
    "tup1[4][0]=\"Great\"\n",
    "print(tup1)"
   ]
  },
  {
   "cell_type": "code",
   "execution_count": 23,
   "id": "1cb31458",
   "metadata": {},
   "outputs": [
    {
     "data": {
      "text/plain": [
       "425.13"
      ]
     },
     "execution_count": 23,
     "metadata": {},
     "output_type": "execute_result"
    }
   ],
   "source": [
    "# tup1=(45,58.23,True,\"String\",[45,36],(45,89),{41,20},{1:89})\n",
    "tup1=(45,98.56,56,32,14,78.25,5,96.32)\n",
    "# tup1=(\"wow\",\"great\",\"time\",\"Python\")\n",
    "# tup1=(45,98,65,\"wow\",\"hello\")\n",
    "# tup1=([45,36],(78,96),25)\n",
    "len(tup1)\n",
    "min(tup1)\n",
    "max(tup1)\n",
    "sum(tup1)"
   ]
  },
  {
   "cell_type": "code",
   "execution_count": 22,
   "id": "f2c8fb7b",
   "metadata": {},
   "outputs": [
    {
     "data": {
      "text/plain": [
       "(45, 89, 'hello')"
      ]
     },
     "execution_count": 22,
     "metadata": {},
     "output_type": "execute_result"
    }
   ],
   "source": [
    "tuple(range(45,98,6))\n",
    "tuple(\"Hello All\")\n",
    "tuple([45,89,\"hello\"])"
   ]
  },
  {
   "cell_type": "code",
   "execution_count": 32,
   "id": "46b27551",
   "metadata": {},
   "outputs": [
    {
     "name": "stdout",
     "output_type": "stream",
     "text": [
      "4\n"
     ]
    },
    {
     "ename": "IndexError",
     "evalue": "tuple index out of range",
     "output_type": "error",
     "traceback": [
      "\u001b[1;31m---------------------------------------------------------------------------\u001b[0m",
      "\u001b[1;31mIndexError\u001b[0m                                Traceback (most recent call last)",
      "Input \u001b[1;32mIn [32]\u001b[0m, in \u001b[0;36m<cell line: 4>\u001b[1;34m()\u001b[0m\n\u001b[0;32m      2\u001b[0m \u001b[38;5;28mprint\u001b[39m(tup1\u001b[38;5;241m.\u001b[39mindex(\u001b[38;5;241m54\u001b[39m))\n\u001b[0;32m      3\u001b[0m \u001b[38;5;66;03m# print(tup1.index(589))\u001b[39;00m\n\u001b[1;32m----> 4\u001b[0m \u001b[38;5;28mprint\u001b[39m(\u001b[43mtup1\u001b[49m\u001b[43m[\u001b[49m\u001b[38;5;241;43m569\u001b[39;49m\u001b[43m]\u001b[49m)\n",
      "\u001b[1;31mIndexError\u001b[0m: tuple index out of range"
     ]
    }
   ],
   "source": [
    "tup1=(45,89,65,32,54,78,\"HEllo\",54,\"great\")\n",
    "print(tup1.index(54))\n",
    "# print(tup1.index(589))\n",
    "print(tup1[569])"
   ]
  },
  {
   "cell_type": "code",
   "execution_count": 30,
   "id": "0412dd8b",
   "metadata": {},
   "outputs": [
    {
     "name": "stdout",
     "output_type": "stream",
     "text": [
      "2\n",
      "0\n"
     ]
    }
   ],
   "source": [
    "tup1=(45,89,65,32,54,78,\"HEllo\",54,\"great\")\n",
    "print(tup1.count(54))\n",
    "print(tup1.count(8965))"
   ]
  }
 ],
 "metadata": {
  "kernelspec": {
   "display_name": "Python 3 (ipykernel)",
   "language": "python",
   "name": "python3"
  },
  "language_info": {
   "codemirror_mode": {
    "name": "ipython",
    "version": 3
   },
   "file_extension": ".py",
   "mimetype": "text/x-python",
   "name": "python",
   "nbconvert_exporter": "python",
   "pygments_lexer": "ipython3",
   "version": "3.9.12"
  }
 },
 "nbformat": 4,
 "nbformat_minor": 5
}
