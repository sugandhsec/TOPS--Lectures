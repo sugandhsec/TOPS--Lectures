{
 "cells": [
  {
   "cell_type": "code",
   "execution_count": 2,
   "id": "c9f489de",
   "metadata": {},
   "outputs": [
    {
     "name": "stdout",
     "output_type": "stream",
     "text": [
      "20.75\n",
      "20\n"
     ]
    }
   ],
   "source": [
    "# floor division\n",
    "\n",
    "print(83/4)\n",
    "print(83//4)"
   ]
  },
  {
   "cell_type": "code",
   "execution_count": 3,
   "id": "386c9622",
   "metadata": {},
   "outputs": [
    {
     "name": "stdout",
     "output_type": "stream",
     "text": [
      "27\n"
     ]
    }
   ],
   "source": [
    "# power operator **\n",
    "print(3**3)"
   ]
  },
  {
   "cell_type": "code",
   "execution_count": 5,
   "id": "aa113793",
   "metadata": {},
   "outputs": [
    {
     "name": "stdout",
     "output_type": "stream",
     "text": [
      "True\n",
      "False\n"
     ]
    }
   ],
   "source": [
    "# relational operator > < >= <= == !=\n",
    "print(89>25)\n",
    "print(33<12)\n"
   ]
  },
  {
   "cell_type": "code",
   "execution_count": 6,
   "id": "3c424110",
   "metadata": {},
   "outputs": [
    {
     "name": "stdout",
     "output_type": "stream",
     "text": [
      "True\n"
     ]
    }
   ],
   "source": [
    "print(\"hello\">\"demo\")"
   ]
  },
  {
   "cell_type": "code",
   "execution_count": 7,
   "id": "e8b1e6d1",
   "metadata": {},
   "outputs": [
    {
     "name": "stdout",
     "output_type": "stream",
     "text": [
      "Enter your Name: Sugandh Gupta\n",
      "Enter Your Age: 48\n",
      "Enter Your Mobile No. : 9773169303\n",
      "Enter Your Email: suganhdsec112@gmail.com\n",
      "Your Name is Sugandh Gupta\n",
      " Your age is 48\n",
      "Your mobile is 9773169303\n",
      " Your email is suganhdsec112@gmail.com\n"
     ]
    }
   ],
   "source": [
    "name=input(\"Enter your Name: \")\n",
    "age=int(input(\"Enter Your Age: \"))\n",
    "mobile=int(input(\"Enter Your Mobile No. : \"))\n",
    "email=input(\"Enter Your Email: \")\n",
    "print(f\"Your Name is {name}\\nYour age is {age}\\nYour mobile is {mobile}\\nYour email is {email}\")"
   ]
  },
  {
   "cell_type": "code",
   "execution_count": 8,
   "id": "fc4d234e",
   "metadata": {},
   "outputs": [
    {
     "name": "stdout",
     "output_type": "stream",
     "text": [
      "Enter First NAme: Rahul\n",
      "Enter Last name: Sharma\n",
      "Enter Father NAme: Sikhar\n",
      "Your full name is Rahul Sharma Sikhar\n"
     ]
    }
   ],
   "source": [
    "firstname=input(\"Enter First NAme: \")\n",
    "lastname=input(\"Enter Last name: \")\n",
    "fathername=input(\"Enter Father NAme: \")\n",
    "fullname=firstname+\" \"+lastname+\" \"+fathername #string concatenation\n",
    "# your fullname is {fullname}\n",
    "# your full name is firstname lastname fathername\n",
    "print(f\"Your full name is {fullname}\")"
   ]
  },
  {
   "cell_type": "code",
   "execution_count": null,
   "id": "7834225e",
   "metadata": {},
   "outputs": [],
   "source": []
  },
  {
   "cell_type": "code",
   "execution_count": 11,
   "id": "70a262a1",
   "metadata": {},
   "outputs": [
    {
     "name": "stdout",
     "output_type": "stream",
     "text": [
      "Hello ia m good\n",
      "How are you\n",
      "good morning \n"
     ]
    }
   ],
   "source": [
    "str1='''Hello ia m good\n",
    "How are you\n",
    "good morning '''\n",
    "print(str1)"
   ]
  },
  {
   "cell_type": "code",
   "execution_count": null,
   "id": "3eaa886c",
   "metadata": {},
   "outputs": [],
   "source": [
    "# Logical operator\n",
    "AND and --all true then true anyone flase then false\n",
    "OR  or --anyone true then true if all flase then false\n",
    "NOT not --reverse your answer"
   ]
  },
  {
   "cell_type": "code",
   "execution_count": 17,
   "id": "abacfda5",
   "metadata": {},
   "outputs": [
    {
     "name": "stdout",
     "output_type": "stream",
     "text": [
      "True\n",
      "True\n",
      "False\n"
     ]
    }
   ],
   "source": [
    "print(89>36 and 44>23 and 21<87)\n",
    "print(89>36 or 44<23 or 21>87)\n",
    "print(not(84>25))"
   ]
  },
  {
   "cell_type": "code",
   "execution_count": 19,
   "id": "352e31f9",
   "metadata": {},
   "outputs": [
    {
     "name": "stdout",
     "output_type": "stream",
     "text": [
      "88\n",
      "94\n"
     ]
    }
   ],
   "source": [
    "# biotwise operator\n",
    "print(88&94)\n",
    "print(88|94)"
   ]
  },
  {
   "cell_type": "code",
   "execution_count": 20,
   "id": "04a738f2",
   "metadata": {},
   "outputs": [
    {
     "name": "stdout",
     "output_type": "stream",
     "text": [
      "97\n",
      "116\n"
     ]
    }
   ],
   "source": [
    "print(125&97)\n",
    "print(48|84)"
   ]
  }
 ],
 "metadata": {
  "kernelspec": {
   "display_name": "Python 3 (ipykernel)",
   "language": "python",
   "name": "python3"
  },
  "language_info": {
   "codemirror_mode": {
    "name": "ipython",
    "version": 3
   },
   "file_extension": ".py",
   "mimetype": "text/x-python",
   "name": "python",
   "nbconvert_exporter": "python",
   "pygments_lexer": "ipython3",
   "version": "3.9.12"
  }
 },
 "nbformat": 4,
 "nbformat_minor": 5
}
