{
 "cells": [
  {
   "cell_type": "code",
   "execution_count": null,
   "id": "a7532432",
   "metadata": {
    "id": "a7532432"
   },
   "outputs": [],
   "source": [
    "# Set is also acollection pof element of similar or different datatype\n",
    "# set is defined in culryt braces\n",
    "# set is muatble but only by using theri methods\n",
    "# set is unordered datatype means they have no indexes\n",
    "# element in set is arranged in random manner\n",
    "# sets does not allow duplicates values because they don't have indexes\n"
   ]
  },
  {
   "cell_type": "code",
   "execution_count": null,
   "id": "6af6fe65",
   "metadata": {
    "id": "6af6fe65",
    "outputId": "fa6c08a2-c0ba-4c06-c72d-be2a1de49875"
   },
   "outputs": [
    {
     "name": "stdout",
     "output_type": "stream",
     "text": [
      "{False, (48, 96), 69.36, 'String', 45}\n"
     ]
    }
   ],
   "source": [
    "set1={45,69.36,False,\"String\",(48,96)}\n",
    "# set only contains datatype which is immutable\n",
    "print(set1)"
   ]
  },
  {
   "cell_type": "code",
   "execution_count": null,
   "id": "f3855e36",
   "metadata": {
    "id": "f3855e36",
    "outputId": "69bd141e-ce35-4ed1-f2b0-8512dc7fc683"
   },
   "outputs": [
    {
     "name": "stdout",
     "output_type": "stream",
     "text": [
      "{1, 2, 3}\n"
     ]
    }
   ],
   "source": [
    "set1={1,2,3,1,2,3,1,2,3}\n",
    "print(set1)"
   ]
  },
  {
   "cell_type": "code",
   "execution_count": null,
   "id": "6f592b36",
   "metadata": {
    "id": "6f592b36",
    "outputId": "6776cc21-2a5e-4955-fea6-129c37377a52"
   },
   "outputs": [
    {
     "name": "stdout",
     "output_type": "stream",
     "text": [
      "<class 'set'>\n"
     ]
    }
   ],
   "source": [
    "list1=set()\n",
    "print(type(list1))"
   ]
  },
  {
   "cell_type": "code",
   "execution_count": null,
   "id": "56fd5c83",
   "metadata": {
    "id": "56fd5c83",
    "outputId": "020964ee-d779-4f99-b0de-e424f3a9a6f4"
   },
   "outputs": [
    {
     "name": "stdout",
     "output_type": "stream",
     "text": [
      "<class 'tuple'>\n"
     ]
    }
   ],
   "source": [
    "list1=(True,)\n",
    "print(type(list1))"
   ]
  },
  {
   "cell_type": "code",
   "execution_count": null,
   "id": "f204f99b",
   "metadata": {
    "id": "f204f99b"
   },
   "outputs": [],
   "source": [
    "# set methods\n",
    "# list(dir(set))"
   ]
  },
  {
   "cell_type": "markdown",
   "id": "449425ea",
   "metadata": {
    "id": "449425ea"
   },
   "source": [
    "'add',\n",
    " 'clear',\n",
    " 'copy',\n",
    " 'difference',\n",
    " 'difference_update',\n",
    " 'discard',\n",
    " 'intersection',\n",
    " 'intersection_update',\n",
    " 'isdisjoint',\n",
    " 'issubset',\n",
    " 'issuperset',\n",
    " 'pop',\n",
    " 'remove',\n",
    " 'symmetric_difference',\n",
    " 'symmetric_difference_update',\n",
    " 'union',\n",
    " 'update'\n"
   ]
  },
  {
   "cell_type": "code",
   "execution_count": null,
   "id": "814b386f",
   "metadata": {
    "id": "814b386f",
    "outputId": "c4f71d80-ea25-4b54-8175-f27c2b3bd277"
   },
   "outputs": [
    {
     "name": "stdout",
     "output_type": "stream",
     "text": [
      "{96, 89, 69, 87, 23, 41, 45} {96, 84, 52, 14, 89, 45, 78} {96, 69, 41, 45, 14, 78, 23, 84, 52, 87, 89}\n"
     ]
    }
   ],
   "source": [
    "set1={45,96,87,41,23,69,45,89}\n",
    "set2={78,96,84,52,14,45,89}\n",
    "# union()--combines elements of two sets\n",
    "set3=set1.union(set2)\n",
    "print(set1,set2,set3)"
   ]
  },
  {
   "cell_type": "code",
   "execution_count": null,
   "id": "ee819496",
   "metadata": {
    "id": "ee819496",
    "outputId": "750c72c1-b6d5-4771-e6f5-ef5330d3367c"
   },
   "outputs": [
    {
     "name": "stdout",
     "output_type": "stream",
     "text": [
      "{96, 89, 69, 87, 23, 41, 45} {96, 89, 45}\n"
     ]
    }
   ],
   "source": [
    "set1={45,96,87,41,23,69,45,89}\n",
    "set2={78,96,84,52,14,45,89}\n",
    "# intersection()--gives common of two sets\n",
    "# set3=set1.intersection(set2)\n",
    "set2.intersection_update(set1)\n",
    "print(set1,set2)"
   ]
  },
  {
   "cell_type": "code",
   "execution_count": null,
   "id": "732a0590",
   "metadata": {
    "id": "732a0590",
    "outputId": "6a7e0d4f-a229-429e-e754-3722a45bc9e6"
   },
   "outputs": [
    {
     "name": "stdout",
     "output_type": "stream",
     "text": [
      "{'hello', 36, 21, 89, 74, 45}\n",
      "{'hello', 36, 21, 89, 74, 45, 'great'}\n"
     ]
    }
   ],
   "source": [
    "set1={45,89,74,21,36}\n",
    "set1.add(\"hello\")\n",
    "# add()--add new element in the set at random position\n",
    "print(set1)\n",
    "set1.add(\"great\")\n",
    "print(set1)\n"
   ]
  },
  {
   "cell_type": "code",
   "execution_count": null,
   "id": "7f5ed8f4",
   "metadata": {
    "id": "7f5ed8f4",
    "outputId": "82fd55b5-6f6d-4e90-912d-3bef07d551df"
   },
   "outputs": [
    {
     "name": "stdout",
     "output_type": "stream",
     "text": [
      "{101, 21, 89, 74, 45}\n"
     ]
    }
   ],
   "source": [
    "# pop()--removes random element from the s"
   ]
  },
  {
   "cell_type": "code",
   "execution_count": null,
   "id": "62106348",
   "metadata": {
    "id": "62106348",
    "outputId": "8873d5f6-ddb9-4a54-c87f-3dd2f2574641"
   },
   "outputs": [
    {
     "ename": "KeyError",
     "evalue": "8965",
     "output_type": "error",
     "traceback": [
      "\u001b[1;31m---------------------------------------------------------------------------\u001b[0m",
      "\u001b[1;31mKeyError\u001b[0m                                  Traceback (most recent call last)",
      "Input \u001b[1;32mIn [18]\u001b[0m, in \u001b[0;36m<cell line: 3>\u001b[1;34m()\u001b[0m\n\u001b[0;32m      1\u001b[0m \u001b[38;5;66;03m# remove(value)---removes particular value from set\u001b[39;00m\n\u001b[0;32m      2\u001b[0m set1\u001b[38;5;241m=\u001b[39m{\u001b[38;5;241m45\u001b[39m,\u001b[38;5;241m89\u001b[39m,\u001b[38;5;241m74\u001b[39m,\u001b[38;5;241m21\u001b[39m,\u001b[38;5;241m36\u001b[39m,\u001b[38;5;241m101\u001b[39m}\n\u001b[1;32m----> 3\u001b[0m \u001b[43mset1\u001b[49m\u001b[38;5;241;43m.\u001b[39;49m\u001b[43mremove\u001b[49m\u001b[43m(\u001b[49m\u001b[38;5;241;43m8965\u001b[39;49m\u001b[43m)\u001b[49m\n\u001b[0;32m      4\u001b[0m \u001b[38;5;28mprint\u001b[39m(set1)\n",
      "\u001b[1;31mKeyError\u001b[0m: 8965"
     ]
    }
   ],
   "source": [
    "# remove(value)---removes particular value from set\n",
    "set1={45,89,74,21,36,101}\n",
    "set1.remove(8965)\n",
    "print(set1)"
   ]
  },
  {
   "cell_type": "code",
   "execution_count": null,
   "id": "80c5bf24",
   "metadata": {
    "id": "80c5bf24",
    "outputId": "2ad8a8a3-2149-4a88-88a4-0703fa9eda01"
   },
   "outputs": [
    {
     "name": "stdout",
     "output_type": "stream",
     "text": [
      "{36, 101, 21, 89, 74, 45}\n"
     ]
    }
   ],
   "source": [
    "# discard()---removes element from set\n",
    "set1={45,89,74,21,36,101}\n",
    "set1.discard(8965)\n",
    "print(set1)"
   ]
  },
  {
   "cell_type": "code",
   "execution_count": null,
   "id": "2e2369d9",
   "metadata": {
    "id": "2e2369d9",
    "outputId": "bfdc679a-abcc-4a32-c93a-5b7d8e75fd5c"
   },
   "outputs": [
    {
     "name": "stdout",
     "output_type": "stream",
     "text": [
      "{48, 89, 32, 96}\n"
     ]
    }
   ],
   "source": [
    "set1={48,96,32}\n",
    "set1.update((89,))\n",
    "print(set1)"
   ]
  },
  {
   "cell_type": "code",
   "execution_count": null,
   "id": "191b5a54",
   "metadata": {
    "id": "191b5a54",
    "outputId": "40ccb358-f367-4e61-fda9-44824e8d946f"
   },
   "outputs": [
    {
     "name": "stdout",
     "output_type": "stream",
     "text": [
      "{96, 45}\n",
      "{21, 56, 89}\n"
     ]
    }
   ],
   "source": [
    "set1={48,96,35,45,65}\n",
    "set2={89,56,21,96,45}\n",
    "set3=set1.intersection(set2)\n",
    "\n",
    "set4=set2.copy()\n",
    "print(set3)\n",
    "for i in set3:\n",
    "    set4.remove(i)\n",
    "    \n",
    "print(set4)"
   ]
  },
  {
   "cell_type": "code",
   "execution_count": null,
   "id": "d49587a4",
   "metadata": {
    "id": "d49587a4",
    "outputId": "bcad7418-7cf1-4248-ec0f-0a932aa57324"
   },
   "outputs": [
    {
     "name": "stdout",
     "output_type": "stream",
     "text": [
      "{56, 89, 21}\n"
     ]
    }
   ],
   "source": [
    "set1={48,96,35,45,65}\n",
    "set2={89,56,21,96,45}\n",
    "set3=set()\n",
    "for i in set2:\n",
    "    if i not in set1:\n",
    "        set3.add(i)\n",
    "print(set3)"
   ]
  },
  {
   "cell_type": "code",
   "execution_count": null,
   "id": "77eef312",
   "metadata": {
    "id": "77eef312",
    "outputId": "ac4d5f50-9aa1-4d8f-b4e2-43888ec0c20c"
   },
   "outputs": [
    {
     "name": "stdout",
     "output_type": "stream",
     "text": [
      "{65, 48, 35}\n"
     ]
    }
   ],
   "source": [
    "set1={48,96,35,45,65}\n",
    "set2={89,56,21,96,45}\n",
    "# set3=set1.difference(set2)\n",
    "set1.difference_update(set2)\n",
    "print(set1)"
   ]
  },
  {
   "cell_type": "code",
   "execution_count": null,
   "id": "ac08a45b",
   "metadata": {
    "id": "ac08a45b",
    "outputId": "4155480c-766b-421a-98b3-c95565169c87"
   },
   "outputs": [
    {
     "name": "stdout",
     "output_type": "stream",
     "text": [
      "{65, 48, 35, 21, 56, 89}\n"
     ]
    }
   ],
   "source": [
    "set1={48,96,35,45,65}\n",
    "set2={89,56,21,96,45}\n",
    "set3=set1.symmetric_difference(set2)\n",
    "print(set3)"
   ]
  },
  {
   "cell_type": "code",
   "execution_count": 2,
   "id": "40326385",
   "metadata": {},
   "outputs": [
    {
     "data": {
      "text/plain": [
       "False"
      ]
     },
     "execution_count": 2,
     "metadata": {},
     "output_type": "execute_result"
    }
   ],
   "source": [
    "set1={4,5}\n",
    "set2={7,8,4,5,6}\n",
    "set1.issubset(set2)"
   ]
  },
  {
   "cell_type": "code",
   "execution_count": 5,
   "id": "abc1cff2",
   "metadata": {},
   "outputs": [
    {
     "data": {
      "text/plain": [
       "False"
      ]
     },
     "execution_count": 5,
     "metadata": {},
     "output_type": "execute_result"
    }
   ],
   "source": [
    "set1={4,5,9}\n",
    "set2={7,8,4,5,6}\n",
    "set2.issuperset(set1)"
   ]
  },
  {
   "cell_type": "code",
   "execution_count": 7,
   "id": "44162461",
   "metadata": {},
   "outputs": [
    {
     "data": {
      "text/plain": [
       "False"
      ]
     },
     "execution_count": 7,
     "metadata": {},
     "output_type": "execute_result"
    }
   ],
   "source": [
    "set1={1,2,3}\n",
    "set2={4,5,6,1}\n",
    "set1.isdisjoint(set2)"
   ]
  },
  {
   "cell_type": "code",
   "execution_count": 11,
   "id": "e4ac9982",
   "metadata": {},
   "outputs": [
    {
     "name": "stdout",
     "output_type": "stream",
     "text": [
      "Enter Something\n"
     ]
    },
    {
     "data": {
      "text/plain": [
       "''"
      ]
     },
     "execution_count": 11,
     "metadata": {},
     "output_type": "execute_result"
    }
   ],
   "source": [
    "input(\"Enter Something\")"
   ]
  },
  {
   "cell_type": "code",
   "execution_count": 1,
   "id": "ad23cfbb",
   "metadata": {},
   "outputs": [
    {
     "name": "stdout",
     "output_type": "stream",
     "text": [
      "Enter Something: yrthr\n",
      "Enter Something: ytjyt\n",
      "Enter Something: ytmytm\n",
      "Enter Something: ytjyt\n",
      "Enter Something: iuliu\n",
      "Enter Something: efwef\n",
      "Enter Something: werfvwerg\n",
      "Enter Something: hgt\n",
      "Enter Something: hrt\n",
      "Enter Something: hrt\n",
      "Enter Something: erh\n",
      "Enter Something: \n",
      "['yrthr', 'ytjyt', 'ytmytm', 'ytjyt', 'iuliu', 'efwef', 'werfvwerg', 'hgt', 'hrt', 'hrt', 'erh', '']\n"
     ]
    }
   ],
   "source": [
    "a=\"    \"\n",
    "list1=[]\n",
    "while a!=\"\":\n",
    "    a=input(\"Enter Something: \")\n",
    "    list1.append(a)\n",
    "    \n",
    "print(list1)"
   ]
  }
 ],
 "metadata": {
  "colab": {
   "provenance": []
  },
  "kernelspec": {
   "display_name": "Python 3 (ipykernel)",
   "language": "python",
   "name": "python3"
  },
  "language_info": {
   "codemirror_mode": {
    "name": "ipython",
    "version": 3
   },
   "file_extension": ".py",
   "mimetype": "text/x-python",
   "name": "python",
   "nbconvert_exporter": "python",
   "pygments_lexer": "ipython3",
   "version": "3.9.12"
  }
 },
 "nbformat": 4,
 "nbformat_minor": 5
}
