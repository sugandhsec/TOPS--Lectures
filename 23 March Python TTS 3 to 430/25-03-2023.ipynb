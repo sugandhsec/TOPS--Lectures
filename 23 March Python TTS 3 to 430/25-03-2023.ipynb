{
 "cells": [
  {
   "cell_type": "code",
   "execution_count": null,
   "id": "0b2af7df",
   "metadata": {},
   "outputs": [],
   "source": [
    "# how to create variables in python\n",
    "# variablename=value \n",
    "# datatype variablename=value   C \n",
    "\n",
    "datatypes are there in python\n",
    "loosely type language\n",
    "variable not need datatypes at the time of declaration\n",
    "\n",
    "variablename our choice but we have to follow some rules\n",
    "\n",
    "age=18\n"
   ]
  },
  {
   "cell_type": "code",
   "execution_count": null,
   "id": "ff58047d",
   "metadata": {},
   "outputs": [],
   "source": [
    "# Variablenaming rules--identifier rule\n",
    "# 1---first character a-z A-Z _\n",
    "# 2---other characters a-z A-Z _ 0-9\n",
    "\n",
    "# suggestions\n",
    "# 1---use a logical name\n",
    "# 2---don't use space between variablename use _"
   ]
  },
  {
   "cell_type": "code",
   "execution_count": null,
   "id": "efd04c6e",
   "metadata": {},
   "outputs": [],
   "source": [
    "age=80\n",
    "datatypes in python\n",
    "\n",
    "int ---- 8 9 54 587 545- 89 -859 -565\n",
    "float--- 878 -989 45.32 -98.32 0.231\n",
    "String -'' \" \" ''' ''' \"\"\" \"\"\"\n",
    "boolean ---True Or False first letter should be capital\n",
    "\n"
   ]
  },
  {
   "cell_type": "code",
   "execution_count": 5,
   "id": "4c0dc6e9",
   "metadata": {},
   "outputs": [
    {
     "name": "stdout",
     "output_type": "stream",
     "text": [
      "<class 'bool'>\n"
     ]
    }
   ],
   "source": [
    "age=True\n",
    "# type(variablename)--gives datatype of variables\n",
    "print(type(age))"
   ]
  },
  {
   "cell_type": "code",
   "execution_count": 9,
   "id": "67e4bf09",
   "metadata": {},
   "outputs": [
    {
     "name": "stdout",
     "output_type": "stream",
     "text": [
      "hello 81\n",
      "hello i am 81 rgerg hello wfgwergf81\n"
     ]
    }
   ],
   "source": [
    "# how to use variables inside print()\n",
    "d1=\"hello\"\n",
    "d2=81\n",
    "print(d1,d2)\n",
    "# d1 i am d2\n",
    "# hello i am 81\n",
    "# formatted string\n",
    "print(f\"{d1} i am {d2} rgerg {d1} wfgwergf{d2}\")"
   ]
  },
  {
   "cell_type": "code",
   "execution_count": 12,
   "id": "80d7fcc1",
   "metadata": {},
   "outputs": [
    {
     "name": "stdout",
     "output_type": "stream",
     "text": [
      "Enter Your Name: Sachin tendulkar\n",
      "Your name is Sachin tendulkar\n"
     ]
    }
   ],
   "source": [
    "# how to take user input in python\n",
    "# input([\"Message\"])\n",
    "name=input(\"Enter Your Name: \")\n",
    "print(f\"Your name is {name}\")"
   ]
  },
  {
   "cell_type": "code",
   "execution_count": 22,
   "id": "54bb12af",
   "metadata": {},
   "outputs": [
    {
     "name": "stdout",
     "output_type": "stream",
     "text": [
      "Enter Something: ytjhyh\n"
     ]
    },
    {
     "ename": "ValueError",
     "evalue": "invalid literal for int() with base 10: 'ytjhyh'",
     "output_type": "error",
     "traceback": [
      "\u001b[1;31m---------------------------------------------------------------------------\u001b[0m",
      "\u001b[1;31mValueError\u001b[0m                                Traceback (most recent call last)",
      "Input \u001b[1;32mIn [22]\u001b[0m, in \u001b[0;36m<cell line: 1>\u001b[1;34m()\u001b[0m\n\u001b[1;32m----> 1\u001b[0m var1\u001b[38;5;241m=\u001b[39m\u001b[38;5;28;43mint\u001b[39;49m\u001b[43m(\u001b[49m\u001b[38;5;28;43minput\u001b[39;49m\u001b[43m(\u001b[49m\u001b[38;5;124;43m\"\u001b[39;49m\u001b[38;5;124;43mEnter Something: \u001b[39;49m\u001b[38;5;124;43m\"\u001b[39;49m\u001b[43m)\u001b[49m\u001b[43m)\u001b[49m\n\u001b[0;32m      2\u001b[0m \u001b[38;5;28mprint\u001b[39m(\u001b[38;5;28mtype\u001b[39m(var1))\n",
      "\u001b[1;31mValueError\u001b[0m: invalid literal for int() with base 10: 'ytjhyh'"
     ]
    }
   ],
   "source": [
    "var1=int(input(\"Enter Something: \"))\n",
    "print(type(var1))"
   ]
  },
  {
   "cell_type": "code",
   "execution_count": 17,
   "id": "428d49af",
   "metadata": {},
   "outputs": [
    {
     "data": {
      "text/plain": [
       "'18'"
      ]
     },
     "execution_count": 17,
     "metadata": {},
     "output_type": "execute_result"
    }
   ],
   "source": [
    "# Type Conversion\n",
    "a=18\n",
    "str(a) int\n",
    "float bool"
   ]
  },
  {
   "cell_type": "code",
   "execution_count": 45,
   "id": "1919a431",
   "metadata": {},
   "outputs": [
    {
     "name": "stdout",
     "output_type": "stream",
     "text": [
      "1551282563888\n",
      "1551282564784\n"
     ]
    }
   ],
   "source": [
    "# id() --gives variable location or id\n",
    "a=17\n",
    "b=45\n",
    "print(id(a))\n",
    "print(id(b))"
   ]
  },
  {
   "cell_type": "code",
   "execution_count": null,
   "id": "297c31d7",
   "metadata": {},
   "outputs": [],
   "source": [
    "# operators\n",
    "# arithmetic operator + - * / //(floor division) %(modulus) **(power)\n",
    "# relational operator > < >= < = == !=\n",
    "# logical operator and or not\n",
    "# assignement operator = += -= /= *= **= //=\n",
    "# bitwise operator & | >> <<\n",
    "# identity operator    is ....is not\n",
    "# membership operator    in....... not in\n"
   ]
  },
  {
   "cell_type": "code",
   "execution_count": 2,
   "id": "2e85e98f",
   "metadata": {},
   "outputs": [
    {
     "name": "stdout",
     "output_type": "stream",
     "text": [
      "5\n"
     ]
    }
   ],
   "source": [
    "print(48//9)"
   ]
  },
  {
   "cell_type": "code",
   "execution_count": 50,
   "id": "2f005031",
   "metadata": {},
   "outputs": [
    {
     "name": "stdout",
     "output_type": "stream",
     "text": [
      "30\n",
      "-19\n",
      "580\n",
      "3.869565217391304\n",
      "3\n"
     ]
    }
   ],
   "source": [
    "# arithmetic Operators\n",
    "print(10+20)\n",
    "print(50-69)\n",
    "print(10*58)\n",
    "print(89/23)\n",
    "print(48%5)"
   ]
  }
 ],
 "metadata": {
  "kernelspec": {
   "display_name": "Python 3 (ipykernel)",
   "language": "python",
   "name": "python3"
  },
  "language_info": {
   "codemirror_mode": {
    "name": "ipython",
    "version": 3
   },
   "file_extension": ".py",
   "mimetype": "text/x-python",
   "name": "python",
   "nbconvert_exporter": "python",
   "pygments_lexer": "ipython3",
   "version": "3.9.12"
  }
 },
 "nbformat": 4,
 "nbformat_minor": 5
}
