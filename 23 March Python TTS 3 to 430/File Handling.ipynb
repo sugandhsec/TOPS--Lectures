{
 "cells": [
  {
   "cell_type": "code",
   "execution_count": 4,
   "id": "7a8dd6a5",
   "metadata": {},
   "outputs": [
    {
     "name": "stdout",
     "output_type": "stream",
     "text": [
      "1 4\n",
      "2 8\n",
      "3 9\n"
     ]
    }
   ],
   "source": [
    "list1=[1,2,3]\n",
    "list2=[4,8,9]\n",
    "for i,j in zip(list1,list2):\n",
    "    print(i,j)"
   ]
  },
  {
   "cell_type": "code",
   "execution_count": null,
   "id": "940d82eb",
   "metadata": {},
   "outputs": [],
   "source": [
    "# file handling\n",
    "# file open\n",
    "# file task or work\n",
    "# file close"
   ]
  },
  {
   "cell_type": "code",
   "execution_count": null,
   "id": "030cb1fb",
   "metadata": {},
   "outputs": [],
   "source": [
    "# file=open(\"Filename\",\"mode\")\n",
    "# modes in files in python\n",
    "\n",
    "# read---r---if file you want to open for reading purpose exists then it open for reading purpose \n",
    "# otherwise if not exist then it gives error\n",
    "\n",
    "# write---w---if file exist then it open for writing purpose and all old content will be deleted\n",
    "# and if file not present then it creates a new file for writing purpose\n",
    "\n",
    "# append---a---if file exist then it open for writing purpose and all old content will not be deleted\n",
    "# and if file not present then it creates a new file for writing purpose\n",
    "\n"
   ]
  },
  {
   "cell_type": "code",
   "execution_count": null,
   "id": "16480f1d",
   "metadata": {},
   "outputs": [],
   "source": [
    "# file close\n",
    "\n",
    "# file.close(`)"
   ]
  },
  {
   "cell_type": "code",
   "execution_count": 5,
   "id": "f0937353",
   "metadata": {},
   "outputs": [],
   "source": [
    "file=open(\"demo.txt\",\"w\")\n",
    "file.write(\"Hello this will be entered in file\")\n",
    "file.close()"
   ]
  },
  {
   "cell_type": "code",
   "execution_count": 6,
   "id": "8efc6fc3",
   "metadata": {},
   "outputs": [],
   "source": [
    "file=open(\"demo.txt\",\"w\")\n",
    "file.write(\"weghrv jehgverjhgv\")\n",
    "file.close()"
   ]
  },
  {
   "cell_type": "code",
   "execution_count": 7,
   "id": "81549d46",
   "metadata": {},
   "outputs": [],
   "source": [
    "file=open(\"demo.txt\",\"a\")\n",
    "file.write(\"new content\")\n",
    "file.close()"
   ]
  },
  {
   "cell_type": "code",
   "execution_count": 12,
   "id": "47f8e9b8",
   "metadata": {},
   "outputs": [
    {
     "name": "stdout",
     "output_type": "stream",
     "text": [
      "weghrv jehgverjhgvnew content\n"
     ]
    }
   ],
   "source": [
    "file=open(\"demo.txt\",\"r\")\n",
    "# print(file.read())\n",
    "# print(file.read(10))\n",
    "print(file.read(450))\n",
    "file.close()"
   ]
  },
  {
   "cell_type": "code",
   "execution_count": 14,
   "id": "205a821b",
   "metadata": {},
   "outputs": [
    {
     "name": "stdout",
     "output_type": "stream",
     "text": [
      "weghrv jehgverjhgvnew content\n",
      "\n",
      "wrgertherghrt\n",
      "\n"
     ]
    }
   ],
   "source": [
    "file=open(\"demo.txt\",\"r\")\n",
    "print(file.readline())\n",
    "print(file.readline())\n",
    "file.close()"
   ]
  },
  {
   "cell_type": "code",
   "execution_count": null,
   "id": "c92553c1",
   "metadata": {},
   "outputs": [],
   "source": [
    "r+\n",
    "w+\n",
    "a+\n",
    "x"
   ]
  },
  {
   "cell_type": "code",
   "execution_count": null,
   "id": "8311d966",
   "metadata": {},
   "outputs": [],
   "source": [
    "this is my file\\nthis will be great language"
   ]
  },
  {
   "cell_type": "code",
   "execution_count": 32,
   "id": "14cb1715",
   "metadata": {},
   "outputs": [
    {
     "name": "stdout",
     "output_type": "stream",
     "text": [
      "\n"
     ]
    }
   ],
   "source": [
    "file=open(\"demo2.txt\",\"a+\")\n",
    "file.write(\"this is my file\\nthis will be great language\")\n",
    "print(file.readline())\n",
    "file.close()"
   ]
  },
  {
   "cell_type": "code",
   "execution_count": 33,
   "id": "00a9849d",
   "metadata": {},
   "outputs": [
    {
     "name": "stdout",
     "output_type": "stream",
     "text": [
      "this is my file\n",
      "\n"
     ]
    }
   ],
   "source": [
    "file=open(\"demo3.txt\",\"w\")\n",
    "file.write(\"this is my file\\nthis will be great language\")\n",
    "file=open(\"demo3.txt\",\"r\")\n",
    "print(file.readline())"
   ]
  },
  {
   "cell_type": "code",
   "execution_count": 15,
   "id": "e1efc6fe",
   "metadata": {},
   "outputs": [
    {
     "name": "stdout",
     "output_type": "stream",
     "text": [
      "hello\n",
      "wolrd\n"
     ]
    }
   ],
   "source": [
    "print(\"hello\\nwolrd\")"
   ]
  }
 ],
 "metadata": {
  "kernelspec": {
   "display_name": "Python 3 (ipykernel)",
   "language": "python",
   "name": "python3"
  },
  "language_info": {
   "codemirror_mode": {
    "name": "ipython",
    "version": 3
   },
   "file_extension": ".py",
   "mimetype": "text/x-python",
   "name": "python",
   "nbconvert_exporter": "python",
   "pygments_lexer": "ipython3",
   "version": "3.9.12"
  }
 },
 "nbformat": 4,
 "nbformat_minor": 5
}
