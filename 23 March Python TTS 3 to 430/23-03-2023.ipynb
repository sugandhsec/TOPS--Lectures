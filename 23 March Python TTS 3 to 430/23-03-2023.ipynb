{
 "cells": [
  {
   "cell_type": "code",
   "execution_count": 23,
   "id": "0d31958f",
   "metadata": {},
   "outputs": [
    {
     "name": "stdout",
     "output_type": "stream",
     "text": [
      "User screen\n"
     ]
    }
   ],
   "source": [
    "# developer screen\n",
    "print(\"User screen\")"
   ]
  },
  {
   "cell_type": "code",
   "execution_count": null,
   "id": "fec0d7cd",
   "metadata": {},
   "outputs": [],
   "source": [
    "# Escape Sequence\n",
    "# \\n ----newline\n",
    "# \\t ----tab space\n",
    "# \\b ----backspace\n",
    "# \\' --single quote\n",
    "# \\\" ---double quote"
   ]
  },
  {
   "cell_type": "code",
   "execution_count": 29,
   "id": "c2053737",
   "metadata": {},
   "outputs": [
    {
     "name": "stdout",
     "output_type": "stream",
     "text": [
      "jshfe wehr\thfwerbf \n",
      " w\brhfbwerfbwer\b\b rw\n"
     ]
    }
   ],
   "source": [
    "# Escape Sequence\n",
    "# string ''    \" \"    '''  '''     \"\"\"   \"\"\"\n",
    "print(\"jshfe wehr\\thfwerbf \\n w\\brhfbwerfbwer\\b\\b rw\")  #string"
   ]
  },
  {
   "cell_type": "code",
   "execution_count": 39,
   "id": "671600fe",
   "metadata": {},
   "outputs": [
    {
     "name": "stdout",
     "output_type": "stream",
     "text": [
      "Hello 'Wolrd\n",
      "HEllo \" Workld\n",
      "Hello ' \" Wolrd\n",
      "Hello wolrd\n"
     ]
    }
   ],
   "source": [
    "print('Hello \\'Wolrd')\n",
    "print(\"HEllo \\\" Workld\")\n",
    "print(\"\"\"Hello ' \" Wolrd\"\"\")\n",
    "print('''Hello wolrd''')"
   ]
  },
  {
   "cell_type": "code",
   "execution_count": 1,
   "id": "f2272765",
   "metadata": {},
   "outputs": [
    {
     "name": "stdout",
     "output_type": "stream",
     "text": [
      "value of a is 45\n"
     ]
    }
   ],
   "source": [
    "a=45\n",
    "# value of a is 45\n",
    "print(f\"value of a is {a}\") #formatted string\n",
    "-"
   ]
  },
  {
   "cell_type": "code",
   "execution_count": 8,
   "id": "5452b749",
   "metadata": {},
   "outputs": [
    {
     "name": "stdout",
     "output_type": "stream",
     "text": [
      "Enter Number 48\n",
      "48\n"
     ]
    }
   ],
   "source": [
    "a=input(\"Enter Number \")\n",
    "print(a)"
   ]
  }
 ],
 "metadata": {
  "kernelspec": {
   "display_name": "Python 3 (ipykernel)",
   "language": "python",
   "name": "python3"
  },
  "language_info": {
   "codemirror_mode": {
    "name": "ipython",
    "version": 3
   },
   "file_extension": ".py",
   "mimetype": "text/x-python",
   "name": "python",
   "nbconvert_exporter": "python",
   "pygments_lexer": "ipython3",
   "version": "3.9.12"
  }
 },
 "nbformat": 4,
 "nbformat_minor": 5
}
