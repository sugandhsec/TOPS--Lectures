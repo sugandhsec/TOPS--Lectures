{
 "cells": [
  {
   "cell_type": "code",
   "execution_count": 1,
   "id": "a7a75db3",
   "metadata": {},
   "outputs": [
    {
     "ename": "IndentationError",
     "evalue": "unexpected indent (3041989055.py, line 3)",
     "output_type": "error",
     "traceback": [
      "\u001b[1;36m  Input \u001b[1;32mIn [1]\u001b[1;36m\u001b[0m\n\u001b[1;33m    range()\u001b[0m\n\u001b[1;37m    ^\u001b[0m\n\u001b[1;31mIndentationError\u001b[0m\u001b[1;31m:\u001b[0m unexpected indent\n"
     ]
    }
   ],
   "source": [
    "# Loops in python\n",
    "# for loop collections\n",
    "    range()\n",
    "    string\n",
    "    list\n",
    "    tuple \n",
    "    set\n",
    "    dictionary\n",
    "# while loop\n",
    "    condition"
   ]
  },
  {
   "cell_type": "code",
   "execution_count": null,
   "id": "d481eb1a",
   "metadata": {},
   "outputs": [],
   "source": [
    "# for loop\n",
    "for variable in collection:\n",
    "    body"
   ]
  },
  {
   "cell_type": "code",
   "execution_count": null,
   "id": "65f034ef",
   "metadata": {},
   "outputs": [],
   "source": [
    "str1=\"hello World\"\n",
    "for i in str1:\n",
    "    print(i)\n",
    "    "
   ]
  },
  {
   "cell_type": "code",
   "execution_count": null,
   "id": "f8a2f8ac",
   "metadata": {},
   "outputs": [],
   "source": [
    "# range([start,]stop[,step])\n",
    "# by default starts from 0\n",
    "# by deafult step is 1\n",
    "n=int(input(\"Enter A Number: \"))\n",
    "for i in range(1,10):\n",
    "    print(f\"{i} X {n} = {i*n}\")"
   ]
  },
  {
   "cell_type": "code",
   "execution_count": null,
   "id": "243d4083",
   "metadata": {},
   "outputs": [],
   "source": [
    "print(range(1,20,2))\n",
    "for i in range(1,20,5):\n",
    "    print(i)"
   ]
  },
  {
   "cell_type": "code",
   "execution_count": null,
   "id": "eeba82ca",
   "metadata": {},
   "outputs": [],
   "source": [
    "# -8 -7 -6 -5 -4 -3 -2 -1 0 1 2 3 4 5 6 7 8 9\n",
    "for i in range(5,-4,-1):\n",
    "    print(i)"
   ]
  },
  {
   "cell_type": "code",
   "execution_count": null,
   "id": "1dcd3ec9",
   "metadata": {},
   "outputs": [],
   "source": [
    "for i in range(2,26,2):\n",
    "    print(i)"
   ]
  },
  {
   "cell_type": "code",
   "execution_count": null,
   "id": "8668092a",
   "metadata": {},
   "outputs": [],
   "source": [
    "9=9*8*7*6*5*4*3*2*1=\n",
    "5="
   ]
  },
  {
   "cell_type": "code",
   "execution_count": null,
   "id": "1e60d274",
   "metadata": {},
   "outputs": [],
   "source": [
    "num=int(input(\"ENter Number: \"))\n",
    "fact=1\n",
    "for i in range(1,num+1):\n",
    "    fact=fact*i\n",
    "print(fact)\n",
    "    "
   ]
  },
  {
   "cell_type": "code",
   "execution_count": null,
   "id": "777c612a",
   "metadata": {},
   "outputs": [],
   "source": [
    "# while loop\n",
    "while condition:\n",
    "    body of the loop"
   ]
  },
  {
   "cell_type": "code",
   "execution_count": null,
   "id": "e2abfd23",
   "metadata": {},
   "outputs": [],
   "source": [
    "i=1\n",
    "while i<10:\n",
    "    print(\"hello\")\n",
    "    i=i+1"
   ]
  },
  {
   "cell_type": "code",
   "execution_count": null,
   "id": "dcbe36d6",
   "metadata": {},
   "outputs": [],
   "source": [
    "num=int(input(\"ENter Number: \"))\n",
    "fact=0\n",
    "for i in range(1,num+1):\n",
    "    fact=fact+i\n",
    "print(fact)"
   ]
  },
  {
   "cell_type": "code",
   "execution_count": 2,
   "id": "4ff50cd1",
   "metadata": {},
   "outputs": [],
   "source": [
    "# Control Statments\n",
    "# break --it terminates the loop permannetly\n",
    "# continue\n",
    "# pass"
   ]
  },
  {
   "cell_type": "code",
   "execution_count": 3,
   "id": "5749bdde",
   "metadata": {},
   "outputs": [
    {
     "name": "stdout",
     "output_type": "stream",
     "text": [
      "1\n",
      "2\n",
      "3\n",
      "4\n",
      "5\n",
      "6\n",
      "8\n",
      "9\n",
      "10\n",
      "11\n",
      "12\n",
      "13\n",
      "14\n",
      "15\n",
      "16\n",
      "17\n",
      "18\n",
      "19\n"
     ]
    }
   ],
   "source": [
    "for i in range(1,20):\n",
    "    if i==7:\n",
    "        continue \n",
    "    print(i)"
   ]
  },
  {
   "cell_type": "code",
   "execution_count": 4,
   "id": "36b62726",
   "metadata": {},
   "outputs": [
    {
     "name": "stdout",
     "output_type": "stream",
     "text": [
      "hello\n"
     ]
    }
   ],
   "source": [
    "i=10\n",
    "if i<5:\n",
    "    pass\n",
    "else:\n",
    "    print(\"hello\")"
   ]
  },
  {
   "cell_type": "code",
   "execution_count": 5,
   "id": "09a0648b",
   "metadata": {},
   "outputs": [
    {
     "name": "stdout",
     "output_type": "stream",
     "text": [
      "Hello I am LEarning python\n"
     ]
    }
   ],
   "source": [
    "# # string\n",
    "# string is a collection which is defined in\n",
    "# ' '\n",
    "# \" \"\n",
    "# ''' '''\n",
    "# \"\"\" \"\"\"\n",
    "str1=\"Hello I am LEarning python\"\n",
    "print(str1)"
   ]
  },
  {
   "cell_type": "code",
   "execution_count": 6,
   "id": "e47fa489",
   "metadata": {},
   "outputs": [],
   "source": [
    "# string is immutable \n",
    "# immutable means changes not allowed\n"
   ]
  },
  {
   "cell_type": "code",
   "execution_count": 7,
   "id": "748e7be8",
   "metadata": {},
   "outputs": [
    {
     "ename": "TypeError",
     "evalue": "'str' object does not support item assignment",
     "output_type": "error",
     "traceback": [
      "\u001b[1;31m---------------------------------------------------------------------------\u001b[0m",
      "\u001b[1;31mTypeError\u001b[0m                                 Traceback (most recent call last)",
      "Input \u001b[1;32mIn [7]\u001b[0m, in \u001b[0;36m<cell line: 2>\u001b[1;34m()\u001b[0m\n\u001b[0;32m      1\u001b[0m str1\u001b[38;5;241m=\u001b[39m\u001b[38;5;124m\"\u001b[39m\u001b[38;5;124mhello\u001b[39m\u001b[38;5;124m\"\u001b[39m\n\u001b[1;32m----> 2\u001b[0m str1[\u001b[38;5;241m1\u001b[39m]\u001b[38;5;241m=\u001b[39m\u001b[38;5;124m\"\u001b[39m\u001b[38;5;124mk\u001b[39m\u001b[38;5;124m\"\u001b[39m\n\u001b[0;32m      3\u001b[0m \u001b[38;5;28mprint\u001b[39m(str1[\u001b[38;5;241m1\u001b[39m])\n",
      "\u001b[1;31mTypeError\u001b[0m: 'str' object does not support item assignment"
     ]
    }
   ],
   "source": [
    "str1=\"hello\"\n",
    "str1[1]=\"k\"\n",
    "print(str1[1])"
   ]
  }
 ],
 "metadata": {
  "kernelspec": {
   "display_name": "Python 3 (ipykernel)",
   "language": "python",
   "name": "python3"
  },
  "language_info": {
   "codemirror_mode": {
    "name": "ipython",
    "version": 3
   },
   "file_extension": ".py",
   "mimetype": "text/x-python",
   "name": "python",
   "nbconvert_exporter": "python",
   "pygments_lexer": "ipython3",
   "version": "3.9.12"
  }
 },
 "nbformat": 4,
 "nbformat_minor": 5
}
