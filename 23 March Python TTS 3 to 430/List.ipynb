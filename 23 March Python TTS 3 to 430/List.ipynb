{
 "cells": [
  {
   "cell_type": "code",
   "execution_count": null,
   "id": "65517a73",
   "metadata": {},
   "outputs": [],
   "source": [
    "# list\n",
    "# list is a collection of elements of different as well as same datatype\n",
    "# list is mutable ----changes allowed\n",
    "# list is ordered collection\n",
    "# list is defined in []"
   ]
  },
  {
   "cell_type": "code",
   "execution_count": 2,
   "id": "b265b770",
   "metadata": {},
   "outputs": [
    {
     "name": "stdout",
     "output_type": "stream",
     "text": [
      "[254, 56.32, True, 'String', [45, 25, 12], (14, 15), {1, 2, 3}, {1: 'hello', 2: 'Oput'}]\n",
      "String\n",
      "25\n"
     ]
    }
   ],
   "source": [
    "list1=[254,56.32,True,\"String\",[45,25,12],(14,15),{1,2,3},{1:\"hello\",2:\"Oput\"}]\n",
    "print(list1)\n",
    "print(list1[3])\n",
    "print(list1[4][1])"
   ]
  },
  {
   "cell_type": "code",
   "execution_count": 5,
   "id": "38876a17",
   "metadata": {},
   "outputs": [
    {
     "name": "stdout",
     "output_type": "stream",
     "text": [
      "[14, 56, 89, 'hello', 58, 45]\n"
     ]
    }
   ],
   "source": [
    "list1=[14,56,89,74,58,45]\n",
    "list1[3]=\"hello\"\n",
    "print(list1)"
   ]
  },
  {
   "cell_type": "code",
   "execution_count": null,
   "id": "e99b8f21",
   "metadata": {},
   "outputs": [],
   "source": [
    "str1=\"Fern jkbrtkjb mngbjhrtb fmnb jhvrtbj jhgfbrt\""
   ]
  },
  {
   "cell_type": "code",
   "execution_count": 12,
   "id": "ce12fecf",
   "metadata": {},
   "outputs": [
    {
     "name": "stdout",
     "output_type": "stream",
     "text": [
      "[8, 96, 5, 48, 6]\n",
      "[1, 5, 4, 87, 100, 152, 204, 256, 308, 360, 412, 464, 21, 6, 56, 74]\n"
     ]
    }
   ],
   "source": [
    "list1=[1,5,4,87,8,96,5,48,6,21,6,56,74]\n",
    "print(list1[4:9])\n",
    "list1[4:9]=range(100,500,52)\n",
    "print(list1)"
   ]
  },
  {
   "cell_type": "code",
   "execution_count": null,
   "id": "354ae625",
   "metadata": {},
   "outputs": [],
   "source": [
    "# list functions\n",
    "# functionname(listname)\n",
    "len()---gives lenght of list\n",
    "min() ---gives minimum value from list\n",
    "max()----gives maximum value from list\n",
    "list()---chnages other iterable into list\n",
    "\n",
    "iterable---collection\n",
    "\n",
    "range()\n",
    "string\n",
    "list\n",
    "tuple\n",
    "set \n",
    "dictionary"
   ]
  },
  {
   "cell_type": "code",
   "execution_count": 5,
   "id": "cd3c87bd",
   "metadata": {},
   "outputs": [
    {
     "name": "stdout",
     "output_type": "stream",
     "text": [
      "Lenght of list is 10\n"
     ]
    }
   ],
   "source": [
    "# len()\n",
    "list1=[45,89,65,21,45,78,96,32,56,96]\n",
    "x=len(list1)\n",
    "print(f\"Lenght of list is {x}\")"
   ]
  },
  {
   "cell_type": "code",
   "execution_count": 6,
   "id": "53a2375e",
   "metadata": {},
   "outputs": [
    {
     "data": {
      "text/plain": [
       "21"
      ]
     },
     "execution_count": 6,
     "metadata": {},
     "output_type": "execute_result"
    }
   ],
   "source": [
    "# min()\n",
    "list1=[45,89,65,21,45,78,96,32,56,96] #baisi of maths rule\n",
    "min(list1)"
   ]
  },
  {
   "cell_type": "code",
   "execution_count": 7,
   "id": "8bedff08",
   "metadata": {},
   "outputs": [
    {
     "data": {
      "text/plain": [
       "'Apple'"
      ]
     },
     "execution_count": 7,
     "metadata": {},
     "output_type": "execute_result"
    }
   ],
   "source": [
    "list1=[\"Apple\",\"banana\",\"Watermelon\"] #basis of ascii value\n",
    "min(list1)"
   ]
  },
  {
   "cell_type": "code",
   "execution_count": 8,
   "id": "7430b690",
   "metadata": {},
   "outputs": [
    {
     "ename": "TypeError",
     "evalue": "'<' not supported between instances of 'str' and 'int'",
     "output_type": "error",
     "traceback": [
      "\u001b[1;31m---------------------------------------------------------------------------\u001b[0m",
      "\u001b[1;31mTypeError\u001b[0m                                 Traceback (most recent call last)",
      "Input \u001b[1;32mIn [8]\u001b[0m, in \u001b[0;36m<cell line: 2>\u001b[1;34m()\u001b[0m\n\u001b[0;32m      1\u001b[0m list1\u001b[38;5;241m=\u001b[39m[\u001b[38;5;241m45\u001b[39m,\u001b[38;5;241m36\u001b[39m,\u001b[38;5;241m56\u001b[39m,\u001b[38;5;124m\"\u001b[39m\u001b[38;5;124mhello\u001b[39m\u001b[38;5;124m\"\u001b[39m,\u001b[38;5;241m45\u001b[39m,\u001b[38;5;124m\"\u001b[39m\u001b[38;5;124mdemo\u001b[39m\u001b[38;5;124m\"\u001b[39m,\u001b[38;5;124m\"\u001b[39m\u001b[38;5;124mGREAT HERITAGe\u001b[39m\u001b[38;5;124m\"\u001b[39m]\n\u001b[1;32m----> 2\u001b[0m \u001b[38;5;28;43mmin\u001b[39;49m\u001b[43m(\u001b[49m\u001b[43mlist1\u001b[49m\u001b[43m)\u001b[49m\n",
      "\u001b[1;31mTypeError\u001b[0m: '<' not supported between instances of 'str' and 'int'"
     ]
    }
   ],
   "source": [
    "list1=[45,36,56,\"hello\",45,\"demo\",\"GREAT HERITAGe\"]\n",
    "min(list1)"
   ]
  },
  {
   "cell_type": "code",
   "execution_count": 9,
   "id": "fbd89438",
   "metadata": {},
   "outputs": [
    {
     "data": {
      "text/plain": [
       "96"
      ]
     },
     "execution_count": 9,
     "metadata": {},
     "output_type": "execute_result"
    }
   ],
   "source": [
    "# max()\n",
    "list1=[45,89,65,21,45,78,96,32,56,96] #baisi of maths rule\n",
    "max(list1)"
   ]
  },
  {
   "cell_type": "code",
   "execution_count": 10,
   "id": "ff031e8b",
   "metadata": {},
   "outputs": [
    {
     "data": {
      "text/plain": [
       "'banana'"
      ]
     },
     "execution_count": 10,
     "metadata": {},
     "output_type": "execute_result"
    }
   ],
   "source": [
    "list1=[\"Apple\",\"banana\",\"Watermelon\"] #basis of ascii value\n",
    "max(list1)"
   ]
  },
  {
   "cell_type": "code",
   "execution_count": 11,
   "id": "c0d4da47",
   "metadata": {},
   "outputs": [
    {
     "ename": "TypeError",
     "evalue": "'>' not supported between instances of 'str' and 'int'",
     "output_type": "error",
     "traceback": [
      "\u001b[1;31m---------------------------------------------------------------------------\u001b[0m",
      "\u001b[1;31mTypeError\u001b[0m                                 Traceback (most recent call last)",
      "Input \u001b[1;32mIn [11]\u001b[0m, in \u001b[0;36m<cell line: 2>\u001b[1;34m()\u001b[0m\n\u001b[0;32m      1\u001b[0m list1\u001b[38;5;241m=\u001b[39m[\u001b[38;5;241m45\u001b[39m,\u001b[38;5;241m36\u001b[39m,\u001b[38;5;241m56\u001b[39m,\u001b[38;5;124m\"\u001b[39m\u001b[38;5;124mhello\u001b[39m\u001b[38;5;124m\"\u001b[39m,\u001b[38;5;241m45\u001b[39m,\u001b[38;5;124m\"\u001b[39m\u001b[38;5;124mdemo\u001b[39m\u001b[38;5;124m\"\u001b[39m,\u001b[38;5;124m\"\u001b[39m\u001b[38;5;124mGREAT HERITAGe\u001b[39m\u001b[38;5;124m\"\u001b[39m]\n\u001b[1;32m----> 2\u001b[0m \u001b[38;5;28;43mmax\u001b[39;49m\u001b[43m(\u001b[49m\u001b[43mlist1\u001b[49m\u001b[43m)\u001b[49m\n",
      "\u001b[1;31mTypeError\u001b[0m: '>' not supported between instances of 'str' and 'int'"
     ]
    }
   ],
   "source": [
    "list1=[45,36,56,\"hello\",45,\"demo\",\"GREAT HERITAGe\"]\n",
    "max(list1)"
   ]
  },
  {
   "cell_type": "code",
   "execution_count": 16,
   "id": "c108e76a",
   "metadata": {},
   "outputs": [
    {
     "data": {
      "text/plain": [
       "[45, 23, 'hello', 'wow']"
      ]
     },
     "execution_count": 16,
     "metadata": {},
     "output_type": "execute_result"
    }
   ],
   "source": [
    "list((45,23,\"hello\",\"wow\"))"
   ]
  },
  {
   "cell_type": "code",
   "execution_count": null,
   "id": "b7200106",
   "metadata": {},
   "outputs": [],
   "source": [
    "# list methods\n",
    "listname.methodname(parameters)\n"
   ]
  },
  {
   "cell_type": "code",
   "execution_count": null,
   "id": "b99344d6",
   "metadata": {},
   "outputs": [],
   "source": [
    "list methods\n",
    "append()\n",
    "extend()\n",
    "insert()\n",
    "pop()\n",
    "remove()\n",
    "index()\n",
    "count()\n",
    "sort()\n",
    "clear()\n",
    "copy()\n",
    "reverse()"
   ]
  },
  {
   "cell_type": "code",
   "execution_count": 27,
   "id": "e0b64065",
   "metadata": {},
   "outputs": [
    {
     "name": "stdout",
     "output_type": "stream",
     "text": [
      "[45, 69, 87, 42, 23, 54, 6, [45, 63, 25]]\n"
     ]
    }
   ],
   "source": [
    "# append(element) --add element at last of list\n",
    "list1=[45,69,87,42,23,54,6]\n",
    "list1.append([45,63,25])\n",
    "print(list1)"
   ]
  },
  {
   "cell_type": "code",
   "execution_count": 26,
   "id": "96484bbf",
   "metadata": {},
   "outputs": [
    {
     "name": "stdout",
     "output_type": "stream",
     "text": [
      "[45, 96, 35, 21, 45, 87, 9, 45, 63, 25]\n"
     ]
    }
   ],
   "source": [
    "# extend(iterable)---add iterable at last of list as an individual element\n",
    "list1=[45,96,35,21,45,87,9]\n",
    "list1.extend([45,63,25])\n",
    "print(list1)"
   ]
  },
  {
   "cell_type": "code",
   "execution_count": 31,
   "id": "9345b7e5",
   "metadata": {},
   "outputs": [
    {
     "name": "stdout",
     "output_type": "stream",
     "text": [
      "[45, 96, 35, 21, 45, 'hello', 87, 9]\n"
     ]
    }
   ],
   "source": [
    "# insert(index,element)--add element at particular index\n",
    "list1=[45,96,35,21,45,87,9]\n",
    "list1.insert(5,\"hello\")\n",
    "print(list1)"
   ]
  },
  {
   "cell_type": "code",
   "execution_count": 32,
   "id": "ab2d0523",
   "metadata": {},
   "outputs": [
    {
     "name": "stdout",
     "output_type": "stream",
     "text": [
      "Enter number: 5\n",
      "Enter Value: hello\n",
      "Enter Value: i \n",
      "Enter Value: am\n",
      "Enter Value: good\n",
      "Enter Value: about\n",
      "['hello', 'i ', 'am', 'good', 'about']\n"
     ]
    }
   ],
   "source": [
    "num=int(input(\"Enter number: \"))\n",
    "list1=[]\n",
    "for i in range(num):\n",
    "    value=input(\"Enter Value: \")\n",
    "    list1.append(value)\n",
    "    \n",
    "print(list1)"
   ]
  },
  {
   "cell_type": "code",
   "execution_count": 36,
   "id": "9a554b5c",
   "metadata": {},
   "outputs": [
    {
     "name": "stdout",
     "output_type": "stream",
     "text": [
      "[45, 69, 87, 21, 45, 63, 25, 89, 68]\n"
     ]
    }
   ],
   "source": [
    "# pop([index])---removes element from particular index if index is not\n",
    "# given then it removes last lement\n",
    "\n",
    "list1=[45,69,87,145,21,45,63,25,89,68]\n",
    "list1.pop(3)\n",
    "print(list1)\n",
    "# list1.pop()\n",
    "# print(list1)\n",
    "# list1.pop(30) --gives index error\n",
    "# print(list1)"
   ]
  },
  {
   "cell_type": "code",
   "execution_count": 40,
   "id": "29339205",
   "metadata": {},
   "outputs": [
    {
     "ename": "ValueError",
     "evalue": "list.remove(x): x not in list",
     "output_type": "error",
     "traceback": [
      "\u001b[1;31m---------------------------------------------------------------------------\u001b[0m",
      "\u001b[1;31mValueError\u001b[0m                                Traceback (most recent call last)",
      "Input \u001b[1;32mIn [40]\u001b[0m, in \u001b[0;36m<cell line: 5>\u001b[1;34m()\u001b[0m\n\u001b[0;32m      2\u001b[0m list1\u001b[38;5;241m=\u001b[39m[\u001b[38;5;241m45\u001b[39m,\u001b[38;5;241m36\u001b[39m,\u001b[38;5;241m58\u001b[39m,\u001b[38;5;241m96\u001b[39m,\u001b[38;5;241m45\u001b[39m,\u001b[38;5;241m12\u001b[39m,\u001b[38;5;241m36\u001b[39m,\u001b[38;5;241m54\u001b[39m,\u001b[38;5;241m56\u001b[39m,\u001b[38;5;241m89\u001b[39m,\u001b[38;5;241m89\u001b[39m,\u001b[38;5;241m865\u001b[39m,\u001b[38;5;241m86\u001b[39m]\n\u001b[0;32m      3\u001b[0m \u001b[38;5;66;03m# list1.remove(45)\u001b[39;00m\n\u001b[0;32m      4\u001b[0m \u001b[38;5;66;03m# print(list1)\u001b[39;00m\n\u001b[1;32m----> 5\u001b[0m \u001b[43mlist1\u001b[49m\u001b[38;5;241;43m.\u001b[39;49m\u001b[43mremove\u001b[49m\u001b[43m(\u001b[49m\u001b[38;5;241;43m4558\u001b[39;49m\u001b[43m)\u001b[49m\n\u001b[0;32m      6\u001b[0m \u001b[38;5;28mprint\u001b[39m(list1)\n",
      "\u001b[1;31mValueError\u001b[0m: list.remove(x): x not in list"
     ]
    }
   ],
   "source": [
    "# remove(element)----removes first occurence of element in list\n",
    "list1=[45,36,58,96,45,12,36,54,56,89,89,865,86]\n",
    "list1.remove(45)\n",
    "print(list1)\n",
    "# list1.remove(4558) --valueError\n",
    "# print(list1)"
   ]
  }
 ],
 "metadata": {
  "kernelspec": {
   "display_name": "Python 3 (ipykernel)",
   "language": "python",
   "name": "python3"
  },
  "language_info": {
   "codemirror_mode": {
    "name": "ipython",
    "version": 3
   },
   "file_extension": ".py",
   "mimetype": "text/x-python",
   "name": "python",
   "nbconvert_exporter": "python",
   "pygments_lexer": "ipython3",
   "version": "3.9.12"
  }
 },
 "nbformat": 4,
 "nbformat_minor": 5
}
