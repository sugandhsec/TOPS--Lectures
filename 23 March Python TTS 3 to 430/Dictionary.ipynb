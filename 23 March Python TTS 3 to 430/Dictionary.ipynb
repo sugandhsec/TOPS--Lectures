{
 "cells": [
  {
   "cell_type": "code",
   "execution_count": null,
   "id": "60e5413a",
   "metadata": {},
   "outputs": [],
   "source": [
    "# Dictionary is acollection of elements having key and value pair\n",
    "# dictionary is unordered datatype\n",
    "# dictionary is defined in Curly braces {}\n"
   ]
  },
  {
   "cell_type": "code",
   "execution_count": null,
   "id": "ae1d0928",
   "metadata": {},
   "outputs": [],
   "source": [
    "# dict1={key :value,key :value,key:value.........}"
   ]
  },
  {
   "cell_type": "code",
   "execution_count": 8,
   "id": "faa972be",
   "metadata": {},
   "outputs": [
    {
     "name": "stdout",
     "output_type": "stream",
     "text": [
      "958475\n"
     ]
    }
   ],
   "source": [
    "user={\"name\":\"Sugandh\",\"age\":38,\"email\":\"usganhdsec1122gmail.com\",\"mobile\":958475}\n",
    "print(user[\"mobile\"])"
   ]
  },
  {
   "cell_type": "code",
   "execution_count": null,
   "id": "9f8b42a2",
   "metadata": {},
   "outputs": [],
   "source": [
    "in value all datatypes is allowed\n",
    "in key only immutable datatypes are allowed"
   ]
  },
  {
   "cell_type": "code",
   "execution_count": 12,
   "id": "176eeef4",
   "metadata": {},
   "outputs": [
    {
     "name": "stdout",
     "output_type": "stream",
     "text": [
      "{45: 69, 453.2: 489.36, True: False, 'string': 'hello', 'list': [45, 6, 9], (4, 5): (4, 5), 'set': {8, 9}, 'dict': {4: 59}}\n"
     ]
    }
   ],
   "source": [
    "dict1={45:69,453.2:489.36,True:False,\"string\":\"hello\",\"list\":[45,6,9],(4,5):(4,5),\"set\":{8,9},\"dict\":{4:59}}\n",
    "print(dict1)"
   ]
  },
  {
   "cell_type": "code",
   "execution_count": 13,
   "id": "0b32b679",
   "metadata": {},
   "outputs": [
    {
     "name": "stdout",
     "output_type": "stream",
     "text": [
      "{1: 'WOW', 2: 'Demo', 3: 'great'}\n"
     ]
    }
   ],
   "source": [
    "dict1={1:\"hello\",2:\"Demo\",3:\"great\",1:\"WOW\"}\n",
    "print(dict1)"
   ]
  },
  {
   "cell_type": "code",
   "execution_count": 15,
   "id": "a3ef63f3",
   "metadata": {},
   "outputs": [
    {
     "name": "stdout",
     "output_type": "stream",
     "text": [
      "{1: 'great', 2: 'wow', 0: 'Change'}\n"
     ]
    }
   ],
   "source": [
    "dict1={1:\"HEYy\",2:\"wow\",True:\"great\",0:\"some\",False:\"Change\"}\n",
    "print(dict1)"
   ]
  },
  {
   "cell_type": "code",
   "execution_count": 18,
   "id": "5de0a30a",
   "metadata": {},
   "outputs": [
    {
     "data": {
      "text/plain": [
       "['clear',\n",
       " 'copy',\n",
       " 'fromkeys',\n",
       " 'get',\n",
       " 'items',\n",
       " 'keys',\n",
       " 'pop',\n",
       " 'popitem',\n",
       " 'setdefault',\n",
       " 'update',\n",
       " 'values']"
      ]
     },
     "execution_count": 18,
     "metadata": {},
     "output_type": "execute_result"
    }
   ],
   "source": [
    "['clear',\n",
    " 'copy',\n",
    " 'fromkeys',\n",
    " 'get',\n",
    " 'items',\n",
    " 'keys',\n",
    " 'pop',\n",
    " 'popitem',\n",
    " 'setdefault',\n",
    " 'update',\n",
    " 'values']"
   ]
  },
  {
   "cell_type": "code",
   "execution_count": 19,
   "id": "5acbbc63",
   "metadata": {},
   "outputs": [
    {
     "data": {
      "text/plain": [
       "dict_keys([1, 29, 43, 58])"
      ]
     },
     "execution_count": 19,
     "metadata": {},
     "output_type": "execute_result"
    }
   ],
   "source": [
    "# dictionary methods\n",
    "\n",
    "# keys()---gives all key in a list\n",
    "dict1={1:45,29:89,43:48,58:963}\n",
    "dict1.keys()"
   ]
  },
  {
   "cell_type": "code",
   "execution_count": 20,
   "id": "354d667d",
   "metadata": {},
   "outputs": [
    {
     "data": {
      "text/plain": [
       "dict_values([45, 89, 48, 963])"
      ]
     },
     "execution_count": 20,
     "metadata": {},
     "output_type": "execute_result"
    }
   ],
   "source": [
    "# values()---gives list of all values\n",
    "dict1={1:45,29:89,43:48,58:963}\n",
    "dict1.values()"
   ]
  },
  {
   "cell_type": "code",
   "execution_count": 21,
   "id": "36a9ac7c",
   "metadata": {},
   "outputs": [
    {
     "data": {
      "text/plain": [
       "dict_items([(1, 45), (29, 89), (43, 48), (58, 963)])"
      ]
     },
     "execution_count": 21,
     "metadata": {},
     "output_type": "execute_result"
    }
   ],
   "source": [
    "# items()--gives list of tuples and one tuple have 2 elements one is key and other is value\n",
    "dict1={1:45,29:89,43:48,58:963}\n",
    "dict1.items()"
   ]
  },
  {
   "cell_type": "code",
   "execution_count": 26,
   "id": "556089d3",
   "metadata": {},
   "outputs": [
    {
     "name": "stdout",
     "output_type": "stream",
     "text": [
      "{1: 45, 43: 48, 58: 963}\n"
     ]
    }
   ],
   "source": [
    "# pop()--removes element from given key\n",
    "dict1={1:45,29:89,43:48,58:963}\n",
    "dict1.pop(29)\n",
    "# dict1.pop(458) --gives key error\n",
    "print(dict1)"
   ]
  },
  {
   "cell_type": "code",
   "execution_count": 29,
   "id": "7407ca67",
   "metadata": {},
   "outputs": [
    {
     "name": "stdout",
     "output_type": "stream",
     "text": [
      "{1: 45, 29: 89, 43: 48}\n"
     ]
    }
   ],
   "source": [
    "# popitem()--removes element of last inserted\n",
    "dict1={1:45,29:89,43:48,58:963}\n",
    "dict1.popitem()\n",
    "print(dict1)"
   ]
  },
  {
   "cell_type": "code",
   "execution_count": 44,
   "id": "e8a77753",
   "metadata": {},
   "outputs": [
    {
     "name": "stdout",
     "output_type": "stream",
     "text": [
      "ELEMENT NOT NAHI MILA\n",
      "{1: 45, 29: 89, 43: 48, 58: 963}\n"
     ]
    }
   ],
   "source": [
    "dict1={1:45,29:89,43:48,58:963}\n",
    "# print(dict1[458])\n",
    "print(dict1.get(458,\"ELEMENT NOT NAHI MILA\"))\n",
    "print(dict1)"
   ]
  },
  {
   "cell_type": "code",
   "execution_count": 53,
   "id": "73c87c82",
   "metadata": {},
   "outputs": [
    {
     "name": "stdout",
     "output_type": "stream",
     "text": [
      "58\n",
      "{1: 45, 29: 89, 43: 48, 58: 963, 458: 58}\n"
     ]
    }
   ],
   "source": [
    "dict1={1:45,29:89,43:48,58:963}\n",
    "# print(dict1[458])\n",
    "print(dict1.setdefault(458,58))\n",
    "print(dict1)"
   ]
  },
  {
   "cell_type": "code",
   "execution_count": 51,
   "id": "4980d540",
   "metadata": {},
   "outputs": [
    {
     "name": "stdout",
     "output_type": "stream",
     "text": [
      "{'w': 'hello', 'e': 'hello', 'q': 'hello', 'f': 'hello', 'r': 'hello', 'b': 'hello', ' ': 'hello', 'k': 'hello', 'j': 'hello', 'h': 'hello'}\n"
     ]
    }
   ],
   "source": [
    "list1=\"weqferb kjhbfker\"\n",
    "value=\"hello\"\n",
    "dict1=dict.fromkeys(list1,value) #converts iterable and values into dictionary\n",
    "print(dict1)"
   ]
  },
  {
   "cell_type": "code",
   "execution_count": 52,
   "id": "b7f78ec3",
   "metadata": {},
   "outputs": [
    {
     "name": "stdout",
     "output_type": "stream",
     "text": [
      "{45: 56, 25: 89, 145: 'Hello', 254: 'Wolrd'}\n"
     ]
    }
   ],
   "source": [
    "dict1={45:56,25:89}\n",
    "dict1.update({145:\"Hello\",254:\"Wolrd\"})\n",
    "print(dict1)"
   ]
  }
 ],
 "metadata": {
  "kernelspec": {
   "display_name": "Python 3 (ipykernel)",
   "language": "python",
   "name": "python3"
  },
  "language_info": {
   "codemirror_mode": {
    "name": "ipython",
    "version": 3
   },
   "file_extension": ".py",
   "mimetype": "text/x-python",
   "name": "python",
   "nbconvert_exporter": "python",
   "pygments_lexer": "ipython3",
   "version": "3.9.12"
  }
 },
 "nbformat": 4,
 "nbformat_minor": 5
}
