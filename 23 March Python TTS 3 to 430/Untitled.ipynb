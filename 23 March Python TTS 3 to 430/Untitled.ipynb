{
 "cells": [
  {
   "cell_type": "code",
   "execution_count": 1,
   "id": "007325c7",
   "metadata": {},
   "outputs": [
    {
     "name": "stdout",
     "output_type": "stream",
     "text": [
      "Enter Subjectname: rger\n",
      "Enter Marks: 45\n",
      "Enter Fees8965\n",
      "Enter Subjectname: ferhr\n",
      "Enter Marks: 25\n",
      "Enter Fees5896\n",
      "ferhr 25 5896\n"
     ]
    }
   ],
   "source": [
    "for i in range(2):\n",
    "        subjectname=input(\"Enter Subjectname: \")\n",
    "        marks=int(input(\"Enter Marks: \"))\n",
    "        fees=int(input(\"Enter Fees\"))\n",
    "        \n",
    "print(subjectname,marks,fees)"
   ]
  },
  {
   "cell_type": "code",
   "execution_count": 4,
   "id": "8e3f7284",
   "metadata": {},
   "outputs": [
    {
     "name": "stdout",
     "output_type": "stream",
     "text": [
      "Enter Subjectname: wergerg\n",
      "Enter Marks: 745\n",
      "Enter Fees78954\n",
      "Enter Subjectname: rgrgr\n",
      "Enter Marks: 458\n",
      "Enter Fees125\n",
      "{1: {'subject': {'wergerg': {'marks': 745, 'fees': 78954}, 'rgrgr': {'marks': 458, 'fees': 125}}}}\n"
     ]
    }
   ],
   "source": [
    "all_record={1:{\"subject\":{}}}\n",
    "for i in range(2):\n",
    "        subjectname=input(\"Enter Subjectname: \")\n",
    "        marks=int(input(\"Enter Marks: \"))\n",
    "        fees=int(input(\"Enter Fees\"))\n",
    "        all_record[1][\"subject\"].update({subjectname:{\"marks\":marks,\"fees\":fees}})\n",
    "print(all_record)"
   ]
  }
 ],
 "metadata": {
  "kernelspec": {
   "display_name": "Python 3 (ipykernel)",
   "language": "python",
   "name": "python3"
  },
  "language_info": {
   "codemirror_mode": {
    "name": "ipython",
    "version": 3
   },
   "file_extension": ".py",
   "mimetype": "text/x-python",
   "name": "python",
   "nbconvert_exporter": "python",
   "pygments_lexer": "ipython3",
   "version": "3.9.12"
  }
 },
 "nbformat": 4,
 "nbformat_minor": 5
}
