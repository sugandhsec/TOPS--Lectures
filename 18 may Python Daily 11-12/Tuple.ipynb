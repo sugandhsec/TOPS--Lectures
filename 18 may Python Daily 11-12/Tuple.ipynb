{
 "cells": [
  {
   "cell_type": "code",
   "execution_count": null,
   "id": "705aa89a",
   "metadata": {},
   "outputs": [],
   "source": [
    "# Tuple is a collection of elements of similar or different datatype\n",
    "# tuple is ordered datatype beacuse of index number\n",
    "# tuple is immutable changes not allowed\n",
    "# tuples allows duplicates beacuse of index number identifies uniquely\n",
    "# tuple is defined in ()\n",
    "# elements are separated by comma(,)"
   ]
  },
  {
   "cell_type": "code",
   "execution_count": 1,
   "id": "20b4e39f",
   "metadata": {},
   "outputs": [
    {
     "name": "stdout",
     "output_type": "stream",
     "text": [
      "(154, 56.32, True, 'Hello', [45, 36], (45, 26), {32, 45}, {1: 'hello'})\n"
     ]
    }
   ],
   "source": [
    "tuple1=(154,56.32,True,\"Hello\",[45,36],(45,26),{45,32},{1:\"hello\"})\n",
    "print(tuple1)"
   ]
  },
  {
   "cell_type": "code",
   "execution_count": 32,
   "id": "9c54c774",
   "metadata": {},
   "outputs": [
    {
     "data": {
      "text/plain": [
       "('Hello', [45, 36], (45, 26), {32, 45})"
      ]
     },
     "execution_count": 32,
     "metadata": {},
     "output_type": "execute_result"
    }
   ],
   "source": [
    "# tuple1[1]=\"WOW\"\n",
    "tuple1[3:7]"
   ]
  },
  {
   "cell_type": "code",
   "execution_count": 4,
   "id": "3f52f853",
   "metadata": {},
   "outputs": [
    {
     "name": "stdout",
     "output_type": "stream",
     "text": [
      "8\n"
     ]
    }
   ],
   "source": [
    "# tuple function\n",
    "# len()---give lenght of tuple\n",
    "tup1=(45,36,58,74,59,85,65,412)\n",
    "a=len(tup1)\n",
    "print(a)"
   ]
  },
  {
   "cell_type": "code",
   "execution_count": 5,
   "id": "8be397d5",
   "metadata": {},
   "outputs": [
    {
     "data": {
      "text/plain": [
       "36"
      ]
     },
     "execution_count": 5,
     "metadata": {},
     "output_type": "execute_result"
    }
   ],
   "source": [
    "# min\n",
    "tup1=(45,36,58,74,59,85,65,412)\n",
    "min(tup1)"
   ]
  },
  {
   "cell_type": "code",
   "execution_count": 6,
   "id": "e4836424",
   "metadata": {},
   "outputs": [
    {
     "data": {
      "text/plain": [
       "'Hello'"
      ]
     },
     "execution_count": 6,
     "metadata": {},
     "output_type": "execute_result"
    }
   ],
   "source": [
    "tup1=(\"Hello\",\"demo\",\"great\")\n",
    "min(tup1)"
   ]
  },
  {
   "cell_type": "code",
   "execution_count": 7,
   "id": "4de35c4b",
   "metadata": {},
   "outputs": [
    {
     "ename": "TypeError",
     "evalue": "'<' not supported between instances of 'int' and 'str'",
     "output_type": "error",
     "traceback": [
      "\u001b[1;31m---------------------------------------------------------------------------\u001b[0m",
      "\u001b[1;31mTypeError\u001b[0m                                 Traceback (most recent call last)",
      "Input \u001b[1;32mIn [7]\u001b[0m, in \u001b[0;36m<cell line: 2>\u001b[1;34m()\u001b[0m\n\u001b[0;32m      1\u001b[0m tup1\u001b[38;5;241m=\u001b[39m(\u001b[38;5;124m\"\u001b[39m\u001b[38;5;124mHello\u001b[39m\u001b[38;5;124m\"\u001b[39m,\u001b[38;5;124m\"\u001b[39m\u001b[38;5;124mdemo\u001b[39m\u001b[38;5;124m\"\u001b[39m,\u001b[38;5;124m\"\u001b[39m\u001b[38;5;124mgreat\u001b[39m\u001b[38;5;124m\"\u001b[39m,\u001b[38;5;241m45\u001b[39m,\u001b[38;5;241m69\u001b[39m,\u001b[38;5;241m87\u001b[39m)\n\u001b[1;32m----> 2\u001b[0m \u001b[38;5;28;43mmin\u001b[39;49m\u001b[43m(\u001b[49m\u001b[43mtup1\u001b[49m\u001b[43m)\u001b[49m\n",
      "\u001b[1;31mTypeError\u001b[0m: '<' not supported between instances of 'int' and 'str'"
     ]
    }
   ],
   "source": [
    "tup1=(\"Hello\",\"demo\",\"great\",45,69,87)\n",
    "min(tup1)"
   ]
  },
  {
   "cell_type": "code",
   "execution_count": 8,
   "id": "51881e74",
   "metadata": {},
   "outputs": [
    {
     "data": {
      "text/plain": [
       "412"
      ]
     },
     "execution_count": 8,
     "metadata": {},
     "output_type": "execute_result"
    }
   ],
   "source": [
    "# max()---gives maximum value\n",
    "tup1=(45,36,58,74,59,85,65,412)\n",
    "max(tup1)"
   ]
  },
  {
   "cell_type": "code",
   "execution_count": 9,
   "id": "0e4178a6",
   "metadata": {},
   "outputs": [
    {
     "data": {
      "text/plain": [
       "'great'"
      ]
     },
     "execution_count": 9,
     "metadata": {},
     "output_type": "execute_result"
    }
   ],
   "source": [
    "tup1=(\"Hello\",\"demo\",\"great\")\n",
    "max(tup1)"
   ]
  },
  {
   "cell_type": "code",
   "execution_count": 13,
   "id": "8060825a",
   "metadata": {},
   "outputs": [
    {
     "name": "stdout",
     "output_type": "stream",
     "text": [
      "('h', 'e', 'l', 'l', 'o', ' ', 'W', 'o', 'r', 'l', 'd')\n"
     ]
    }
   ],
   "source": [
    "# tuple()----converts any iterable into tuple\n",
    "# a=tuple(range(45,123))\n",
    "# a=tuple([45,32,65,48])\n",
    "# a=tuple(\"hello World\")\n",
    "print(a)"
   ]
  },
  {
   "cell_type": "code",
   "execution_count": 16,
   "id": "8d2b02b7",
   "metadata": {},
   "outputs": [
    {
     "ename": "ValueError",
     "evalue": "tuple.index(x): x not in tuple",
     "output_type": "error",
     "traceback": [
      "\u001b[1;31m---------------------------------------------------------------------------\u001b[0m",
      "\u001b[1;31mValueError\u001b[0m                                Traceback (most recent call last)",
      "Input \u001b[1;32mIn [16]\u001b[0m, in \u001b[0;36m<cell line: 4>\u001b[1;34m()\u001b[0m\n\u001b[0;32m      1\u001b[0m \u001b[38;5;66;03m# methods of tuple\u001b[39;00m\n\u001b[0;32m      2\u001b[0m \u001b[38;5;66;03m# index(element) ---gives index of element \u001b[39;00m\n\u001b[0;32m      3\u001b[0m tup1\u001b[38;5;241m=\u001b[39m(\u001b[38;5;241m45\u001b[39m,\u001b[38;5;241m36\u001b[39m,\u001b[38;5;241m58\u001b[39m,\u001b[38;5;241m74\u001b[39m,\u001b[38;5;241m59\u001b[39m,\u001b[38;5;241m85\u001b[39m,\u001b[38;5;241m65\u001b[39m,\u001b[38;5;241m412\u001b[39m)\n\u001b[1;32m----> 4\u001b[0m \u001b[43mtup1\u001b[49m\u001b[38;5;241;43m.\u001b[39;49m\u001b[43mindex\u001b[49m\u001b[43m(\u001b[49m\u001b[38;5;241;43m4589\u001b[39;49m\u001b[43m)\u001b[49m\n",
      "\u001b[1;31mValueError\u001b[0m: tuple.index(x): x not in tuple"
     ]
    }
   ],
   "source": [
    "# methods of tuple\n",
    "# index(element) ---gives index of element \n",
    "tup1=(45,36,58,74,59,85,65,412)\n",
    "tup1.index(4589)"
   ]
  },
  {
   "cell_type": "code",
   "execution_count": 20,
   "id": "73bc6cde",
   "metadata": {},
   "outputs": [
    {
     "data": {
      "text/plain": [
       "1"
      ]
     },
     "execution_count": 20,
     "metadata": {},
     "output_type": "execute_result"
    }
   ],
   "source": [
    "# count(element)---gives number of oocurences\n",
    "tup1=(45,36,58,74,59,85,65,412,36,58,56,98,569,23,36,38)\n",
    "tup1.count(59)"
   ]
  },
  {
   "cell_type": "code",
   "execution_count": 22,
   "id": "1483a632",
   "metadata": {},
   "outputs": [
    {
     "name": "stdout",
     "output_type": "stream",
     "text": [
      "<class 'list'>\n",
      "<class 'list'>\n"
     ]
    }
   ],
   "source": [
    "l1=[45,36]\n",
    "print(type(l1))\n",
    "l1=[45]\n",
    "print(type(l1))"
   ]
  },
  {
   "cell_type": "code",
   "execution_count": 30,
   "id": "863ab431",
   "metadata": {},
   "outputs": [
    {
     "name": "stdout",
     "output_type": "stream",
     "text": [
      "<class 'tuple'>\n",
      "<class 'tuple'>\n"
     ]
    }
   ],
   "source": [
    "t1=(45,36)\n",
    "print(type(t1))\n",
    "t1=(78,)\n",
    "print(type(t1))"
   ]
  },
  {
   "cell_type": "code",
   "execution_count": null,
   "id": "598d7d53",
   "metadata": {},
   "outputs": [],
   "source": [
    "# set()\n",
    "# set is a collection of elelements of similar or different datatype\n",
    "# set is mutable but using their functions\n",
    "# set is defined in {}\n",
    "# set is unordered collection\n",
    "# set not allows duplicates values"
   ]
  },
  {
   "cell_type": "code",
   "execution_count": 38,
   "id": "c06b44fd",
   "metadata": {},
   "outputs": [
    {
     "name": "stdout",
     "output_type": "stream",
     "text": [
      "{65, 3.25, 869635, 36, 89, 45}\n"
     ]
    }
   ],
   "source": [
    "set1={45,3.25,65,89,65,869635,36,45,45,45}\n",
    "print(set1)"
   ]
  },
  {
   "cell_type": "code",
   "execution_count": 90,
   "id": "d93de6cf",
   "metadata": {},
   "outputs": [],
   "source": [
    "# dir(set)"
   ]
  },
  {
   "cell_type": "code",
   "execution_count": 42,
   "id": "09729be1",
   "metadata": {},
   "outputs": [
    {
     "data": {
      "text/plain": [
       "{32, 45, 487, 56, 'hello'}"
      ]
     },
     "execution_count": 42,
     "metadata": {},
     "output_type": "execute_result"
    }
   ],
   "source": [
    "set1={45,32,56}\n",
    "set1.add(\"hello\")\n",
    "set1.add(487)\n",
    "set1"
   ]
  },
  {
   "cell_type": "code",
   "execution_count": 44,
   "id": "5f21a1b9",
   "metadata": {},
   "outputs": [
    {
     "data": {
      "text/plain": [
       "{7, 36, 45, 58, 68, 89, 98, 99, 698}"
      ]
     },
     "execution_count": 44,
     "metadata": {},
     "output_type": "execute_result"
    }
   ],
   "source": [
    "set1={45,36,58,98,7}\n",
    "set2={45,68,99,89,698}\n",
    "set1.union(set2)"
   ]
  },
  {
   "cell_type": "code",
   "execution_count": 92,
   "id": "cf30af81",
   "metadata": {},
   "outputs": [
    {
     "data": {
      "text/plain": [
       "{45}"
      ]
     },
     "execution_count": 92,
     "metadata": {},
     "output_type": "execute_result"
    }
   ],
   "source": [
    "set1={45,36,58,98,7}\n",
    "set2={45,68,99,89,698}\n",
    "set1.intersection(set2)\n",
    "# print(set1)\n",
    "# print(set2)"
   ]
  },
  {
   "cell_type": "code",
   "execution_count": 48,
   "id": "7a19784c",
   "metadata": {},
   "outputs": [
    {
     "name": "stdout",
     "output_type": "stream",
     "text": [
      "{45}\n",
      "{99, 68, 89, 698, 45}\n"
     ]
    }
   ],
   "source": [
    "set1={45,36,58,98,7}\n",
    "set2={45,68,99,89,698}\n",
    "set1.intersection_update(set2)\n",
    "print(set1)\n",
    "print(set2)"
   ]
  },
  {
   "cell_type": "code",
   "execution_count": 52,
   "id": "d122208e",
   "metadata": {},
   "outputs": [
    {
     "name": "stdout",
     "output_type": "stream",
     "text": [
      "{'g', 36, 45, 79, 'r', 58}\n"
     ]
    }
   ],
   "source": [
    "set1={45,36,58,79,45}\n",
    "set1.update(\"grgr\")\n",
    "print(set1)"
   ]
  },
  {
   "cell_type": "code",
   "execution_count": 54,
   "id": "eb4616c5",
   "metadata": {},
   "outputs": [
    {
     "data": {
      "text/plain": [
       "{7, 8, 9}"
      ]
     },
     "execution_count": 54,
     "metadata": {},
     "output_type": "execute_result"
    }
   ],
   "source": [
    "set1={1,2,3,4,5,6}\n",
    "set2={4,5,6,7,8,9}\n",
    "set2.difference(set1)"
   ]
  },
  {
   "cell_type": "code",
   "execution_count": 56,
   "id": "a23ea9fd",
   "metadata": {},
   "outputs": [
    {
     "name": "stdout",
     "output_type": "stream",
     "text": [
      "{1, 2, 3, 4, 5, 6}\n",
      "{7, 8, 9}\n"
     ]
    }
   ],
   "source": [
    "set1={1,2,3,4,5,6}\n",
    "set2={4,5,6,7,8,9}\n",
    "set2.difference_update(set1)\n",
    "print(set1)\n",
    "print(set2)"
   ]
  },
  {
   "cell_type": "code",
   "execution_count": 66,
   "id": "7b7401cc",
   "metadata": {},
   "outputs": [
    {
     "name": "stdout",
     "output_type": "stream",
     "text": [
      "{58, 36, 45}\n"
     ]
    }
   ],
   "source": [
    "set1={45,36,58,968,45}\n",
    "set1.pop()\n",
    "print(set1)"
   ]
  },
  {
   "cell_type": "code",
   "execution_count": 75,
   "id": "0b2ef5f0",
   "metadata": {},
   "outputs": [
    {
     "name": "stdout",
     "output_type": "stream",
     "text": [
      "{968, 36, 45}\n"
     ]
    }
   ],
   "source": [
    "set1={45,36,58,968,45}\n",
    "set1.remove(58)\n",
    "# set1.remove(4588) 3keyerror\n",
    "\n",
    "print(set1)"
   ]
  },
  {
   "cell_type": "code",
   "execution_count": 76,
   "id": "d414422e",
   "metadata": {},
   "outputs": [
    {
     "name": "stdout",
     "output_type": "stream",
     "text": [
      "{968, 58, 36, 45}\n"
     ]
    }
   ],
   "source": [
    "set1={45,36,58,968,45}\n",
    "set1.discard(4587)\n",
    "print(set1)"
   ]
  },
  {
   "cell_type": "code",
   "execution_count": 93,
   "id": "84c17baf",
   "metadata": {},
   "outputs": [
    {
     "data": {
      "text/plain": [
       "False"
      ]
     },
     "execution_count": 93,
     "metadata": {},
     "output_type": "execute_result"
    }
   ],
   "source": [
    "set1={4,5,6,8}\n",
    "set2={1,2,3,8}\n",
    "set1.isdisjoint(set2)"
   ]
  },
  {
   "cell_type": "code",
   "execution_count": null,
   "id": "0bdd894e",
   "metadata": {},
   "outputs": [],
   "source": [
    "{1,2,3}\n",
    "\n",
    "{1},{2},{3},{1,2},{2,3},{1,3},{1,2,3}"
   ]
  },
  {
   "cell_type": "code",
   "execution_count": 94,
   "id": "72269ccc",
   "metadata": {},
   "outputs": [
    {
     "data": {
      "text/plain": [
       "True"
      ]
     },
     "execution_count": 94,
     "metadata": {},
     "output_type": "execute_result"
    }
   ],
   "source": [
    "set1={1,2,3}\n",
    "set2={1}\n",
    "set2.issubset(set1)"
   ]
  },
  {
   "cell_type": "code",
   "execution_count": 86,
   "id": "4c8e3685",
   "metadata": {},
   "outputs": [
    {
     "data": {
      "text/plain": [
       "False"
      ]
     },
     "execution_count": 86,
     "metadata": {},
     "output_type": "execute_result"
    }
   ],
   "source": [
    "set1={1,2,3}\n",
    "set2={5}\n",
    "set1.issuperset(set2)"
   ]
  },
  {
   "cell_type": "code",
   "execution_count": 87,
   "id": "6f57b1ba",
   "metadata": {},
   "outputs": [
    {
     "data": {
      "text/plain": [
       "{1, 2, 3, 4, 5, 6}"
      ]
     },
     "execution_count": 87,
     "metadata": {},
     "output_type": "execute_result"
    }
   ],
   "source": [
    "set1={4,5,6,8}\n",
    "set2={1,2,3,8}\n",
    "set1.symmetric_difference(set2)"
   ]
  },
  {
   "cell_type": "code",
   "execution_count": 89,
   "id": "39cf1536",
   "metadata": {},
   "outputs": [
    {
     "name": "stdout",
     "output_type": "stream",
     "text": [
      "{1, 2, 3, 4, 5, 6}\n"
     ]
    }
   ],
   "source": [
    "set1={4,5,6,8}\n",
    "set2={1,2,3,8}\n",
    "set1.symmetric_difference_update(set2)\n",
    "print(set1)"
   ]
  }
 ],
 "metadata": {
  "kernelspec": {
   "display_name": "Python 3 (ipykernel)",
   "language": "python",
   "name": "python3"
  },
  "language_info": {
   "codemirror_mode": {
    "name": "ipython",
    "version": 3
   },
   "file_extension": ".py",
   "mimetype": "text/x-python",
   "name": "python",
   "nbconvert_exporter": "python",
   "pygments_lexer": "ipython3",
   "version": "3.9.12"
  }
 },
 "nbformat": 4,
 "nbformat_minor": 5
}
