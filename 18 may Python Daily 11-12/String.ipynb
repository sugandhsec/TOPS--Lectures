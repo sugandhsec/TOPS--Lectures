{
 "cells": [
  {
   "cell_type": "code",
   "execution_count": null,
   "id": "93fb1e5a",
   "metadata": {},
   "outputs": [],
   "source": [
    "# string\n",
    "# string is a collection of characters or also a single \n",
    "# character or also a empty string\n",
    "# string is ordered datatype or collection\n",
    "# string is immutable--changes not allowed\n",
    "# string is defined in '' \"\" ''' ''' \"\"\" \"\"\""
   ]
  },
  {
   "cell_type": "code",
   "execution_count": 4,
   "id": "cf2d5d1f",
   "metadata": {},
   "outputs": [
    {
     "name": "stdout",
     "output_type": "stream",
     "text": [
      "hello Wolerd\n",
      "r\n"
     ]
    },
    {
     "ename": "TypeError",
     "evalue": "'str' object does not support item assignment",
     "output_type": "error",
     "traceback": [
      "\u001b[1;31m---------------------------------------------------------------------------\u001b[0m",
      "\u001b[1;31mTypeError\u001b[0m                                 Traceback (most recent call last)",
      "Input \u001b[1;32mIn [4]\u001b[0m, in \u001b[0;36m<cell line: 5>\u001b[1;34m()\u001b[0m\n\u001b[0;32m      3\u001b[0m str1\u001b[38;5;241m=\u001b[39m\u001b[38;5;124m\"\u001b[39m\u001b[38;5;124mgreat\u001b[39m\u001b[38;5;124m\"\u001b[39m\n\u001b[0;32m      4\u001b[0m \u001b[38;5;28mprint\u001b[39m(str1[\u001b[38;5;241m1\u001b[39m])\n\u001b[1;32m----> 5\u001b[0m str1[\u001b[38;5;241m1\u001b[39m]\u001b[38;5;241m=\u001b[39m\u001b[38;5;124m\"\u001b[39m\u001b[38;5;124mp\u001b[39m\u001b[38;5;124m\"\u001b[39m\n",
      "\u001b[1;31mTypeError\u001b[0m: 'str' object does not support item assignment"
     ]
    }
   ],
   "source": [
    "str1=\"hello Wolerd\"\n",
    "print(str1)\n",
    "str1=\"great\"\n",
    "print(str1[1])\n",
    "str1[1]=\"p\""
   ]
  },
  {
   "cell_type": "code",
   "execution_count": 17,
   "id": "6840a2a0",
   "metadata": {},
   "outputs": [
    {
     "name": "stdout",
     "output_type": "stream",
     "text": [
      "this is my learning of python in tops TECHNOLOGIES\n",
      "m\n",
      "m erig\n",
      "tops\n",
      "my learning of python in tops TECHNOLOGIES\n",
      "HCET spot ni nohtyp fo gninrael ym si siht\n"
     ]
    }
   ],
   "source": [
    "# string accessing or slicing\n",
    "str1=\"this is my learning of python in tops TECHNOLOGIES\"\n",
    "print(str1)\n",
    "print(str1[8])\n",
    "print(str1[8:19:2])\n",
    "print(str1[-17:-13])\n",
    "print(str1[8:])\n",
    "print(str1[-9::-1])"
   ]
  },
  {
   "cell_type": "code",
   "execution_count": 18,
   "id": "48e54ce7",
   "metadata": {},
   "outputs": [
    {
     "name": "stdout",
     "output_type": "stream",
     "text": [
      "helloworld\n"
     ]
    }
   ],
   "source": [
    "str1=\"hello\"\n",
    "str2=\"world\"\n",
    "print(str1+str2) #concatenation"
   ]
  },
  {
   "cell_type": "code",
   "execution_count": 19,
   "id": "02a19283",
   "metadata": {},
   "outputs": [
    {
     "name": "stdout",
     "output_type": "stream",
     "text": [
      "ramramramramramramramramramramramramramramramramramramramramramramramramramramramramramramramramramramramramramramramramramramramramramramramramramramramramramramramramramramramramramramramramramramramramramramramramramramramramramramramramramramramramramramramramramramramramramramramramramramramramramramramramramramramram\n"
     ]
    }
   ],
   "source": [
    "str1=\"ram\"\n",
    "print(str1*108)"
   ]
  },
  {
   "cell_type": "code",
   "execution_count": 21,
   "id": "4fb3e130",
   "metadata": {},
   "outputs": [
    {
     "name": "stdout",
     "output_type": "stream",
     "text": [
      "31\n"
     ]
    }
   ],
   "source": [
    "# string functions\n",
    "# len min max str\n",
    "functionname(string)\n",
    "str1=\"erfjnhgjkrthvm erjkhtb f vjervb\"\n",
    "a=len(str1)\n",
    "print(a)"
   ]
  },
  {
   "cell_type": "code",
   "execution_count": 35,
   "id": "237290c1",
   "metadata": {},
   "outputs": [
    {
     "name": "stdout",
     "output_type": "stream",
     "text": [
      "0\n",
      "t\n"
     ]
    }
   ],
   "source": [
    "str1=\"ergeargrhrthrthrth78548021455HJAHEDKH\"\n",
    "b=min(str1)\n",
    "c=max(str1)\n",
    "print(b)\n",
    "print(c)"
   ]
  },
  {
   "cell_type": "code",
   "execution_count": 40,
   "id": "65d46372",
   "metadata": {},
   "outputs": [
    {
     "name": "stdout",
     "output_type": "stream",
     "text": [
      " your coverted value is range(1, 20)\n",
      "<class 'str'>\n"
     ]
    }
   ],
   "source": [
    "a=range(1,20)\n",
    "str1=str(a)\n",
    "print(f\" your coverted value is {str1}\")\n",
    "print(type(str1))"
   ]
  },
  {
   "cell_type": "code",
   "execution_count": 67,
   "id": "0c32c6c8",
   "metadata": {},
   "outputs": [],
   "source": [
    "# String methods\n",
    "# string.methodname([parameters])\n",
    "# string methods never change the string all changes applied to copy of string\n",
    "# dir(str)"
   ]
  },
  {
   "cell_type": "code",
   "execution_count": 45,
   "id": "91cbde25",
   "metadata": {},
   "outputs": [
    {
     "name": "stdout",
     "output_type": "stream",
     "text": [
      "Eirjhjkehkjgub erhget jhekgubhfujherg jkutghtj\n",
      "eirjhjkehkjgub erhget jhekgubHFUJHERg jkutghtj\n"
     ]
    }
   ],
   "source": [
    "# capitalize()---uppercase the first letter of string and \n",
    "# lowercase remaining letters\n",
    "str1=\"eirjhjkehkjgub erhget jhekgubHFUJHERg jkutghtj\"\n",
    "a=str1.capitalize() \n",
    "print(a)\n",
    "print(str1)"
   ]
  },
  {
   "cell_type": "code",
   "execution_count": 48,
   "id": "c71c42e8",
   "metadata": {},
   "outputs": [
    {
     "name": "stdout",
     "output_type": "stream",
     "text": [
      "erjgir jkthgjkrt HIFUEHGF rhbrt LGFkbjt kJKLgjhlrtf\n",
      "Erjgir Jkthgjkrt Hifuehgf Rhbrt Lgfkbjt Kjklgjhlrtf\n"
     ]
    }
   ],
   "source": [
    "# title()---uppercase the first letter of every word of string and remianing\n",
    "# letters of words in lowercase\n",
    "str2=\"erjgir jkthgjkrt HIFUEHGF rhbrt LGFkbjt kJKLgjhlrtf\"\n",
    "print(str2)\n",
    "a=str2.title()\n",
    "print(a)"
   ]
  },
  {
   "cell_type": "code",
   "execution_count": 51,
   "id": "d6691adb",
   "metadata": {},
   "outputs": [
    {
     "data": {
      "text/plain": [
       "'jhfjks jfvjk  jhsjkrf ß dkvrf jklfrvbhnfkjkdkgvfjr'"
      ]
     },
     "execution_count": 51,
     "metadata": {},
     "output_type": "execute_result"
    }
   ],
   "source": [
    "# lower()--converts all characters in lowercase\n",
    "str1=\"JHFJKS JFVJK  JHSJKRF ß dkvrf jklfrvbhnfkjKDKGVFJR\"\n",
    "str1.lower()"
   ]
  },
  {
   "cell_type": "code",
   "execution_count": 52,
   "id": "bb4242fb",
   "metadata": {},
   "outputs": [
    {
     "data": {
      "text/plain": [
       "'jhfjks jfvjk  jhsjkrfd ss kvrf jklfrvbhnfkjkdkgvfjr'"
      ]
     },
     "execution_count": 52,
     "metadata": {},
     "output_type": "execute_result"
    }
   ],
   "source": [
    "# casefold()---converts all characters in lowercase\n",
    "str1=\"JHFJKS JFVJK  JHSJKRFd ß kvrf jklfrvbhnfkjKDKGVFJR\"\n",
    "str1.casefold()"
   ]
  },
  {
   "cell_type": "code",
   "execution_count": 61,
   "id": "7d34fb3f",
   "metadata": {},
   "outputs": [
    {
     "name": "stdout",
     "output_type": "stream",
     "text": [
      "                    hello Moto                    \n",
      "++++++++++++++++++++hello Moto++++++++++++++++++++\n"
     ]
    }
   ],
   "source": [
    "# center(width[,character])--center the string at given width with\n",
    "# character fills both side\n",
    "str1=\"hello Moto\"\n",
    "print(str1.center(50))\n",
    "print(str1.center(50,\"+\"))"
   ]
  },
  {
   "cell_type": "code",
   "execution_count": 65,
   "id": "52be75a9",
   "metadata": {},
   "outputs": [
    {
     "name": "stdout",
     "output_type": "stream",
     "text": [
      "hello Moto                    \n",
      "hello Moto********************\n"
     ]
    }
   ],
   "source": [
    "# ljust(width,character)----left justified the string at given width with\n",
    "# character fills side\n",
    "str1=\"hello Moto\"\n",
    "print(str1.ljust(30))\n",
    "print(str1.ljust(30,\"*\"))"
   ]
  },
  {
   "cell_type": "code",
   "execution_count": 66,
   "id": "05fcefac",
   "metadata": {},
   "outputs": [
    {
     "name": "stdout",
     "output_type": "stream",
     "text": [
      "                    hello Moto\n",
      "********************hello Moto\n"
     ]
    }
   ],
   "source": [
    "# rjust(width,character)----right justified the string at given width with\n",
    "# character fills side\n",
    "str1=\"hello Moto\"\n",
    "print(str1.rjust(30))\n",
    "print(str1.rjust(30,\"*\"))"
   ]
  },
  {
   "cell_type": "code",
   "execution_count": 6,
   "id": "72ffa399",
   "metadata": {},
   "outputs": [
    {
     "data": {
      "text/plain": [
       "1"
      ]
     },
     "execution_count": 6,
     "metadata": {},
     "output_type": "execute_result"
    }
   ],
   "source": [
    "str1=\"Rgfergertg wef vgwerb ejhgvferjh jhvbje\"\n",
    "str1.count(\"er\")\n",
    "# str1.count(\"x\") ---0\n",
    "str1.count(\"er\",15)\n",
    "str1.count(\"er\",15,25)"
   ]
  },
  {
   "cell_type": "code",
   "execution_count": 17,
   "id": "31fe24b7",
   "metadata": {},
   "outputs": [
    {
     "ename": "ValueError",
     "evalue": "substring not found",
     "output_type": "error",
     "traceback": [
      "\u001b[1;31m---------------------------------------------------------------------------\u001b[0m",
      "\u001b[1;31mValueError\u001b[0m                                Traceback (most recent call last)",
      "Input \u001b[1;32mIn [17]\u001b[0m, in \u001b[0;36m<cell line: 5>\u001b[1;34m()\u001b[0m\n\u001b[0;32m      3\u001b[0m str1\u001b[38;5;241m.\u001b[39mindex(\u001b[38;5;124m\"\u001b[39m\u001b[38;5;124me\u001b[39m\u001b[38;5;124m\"\u001b[39m,\u001b[38;5;241m25\u001b[39m)\n\u001b[0;32m      4\u001b[0m str1\u001b[38;5;241m.\u001b[39mindex(\u001b[38;5;124m\"\u001b[39m\u001b[38;5;124me\u001b[39m\u001b[38;5;124m\"\u001b[39m,\u001b[38;5;241m25\u001b[39m,\u001b[38;5;241m35\u001b[39m)\n\u001b[1;32m----> 5\u001b[0m \u001b[43mstr1\u001b[49m\u001b[38;5;241;43m.\u001b[39;49m\u001b[43mindex\u001b[49m\u001b[43m(\u001b[49m\u001b[38;5;124;43m\"\u001b[39;49m\u001b[38;5;124;43mxom\u001b[39;49m\u001b[38;5;124;43m\"\u001b[39;49m\u001b[43m)\u001b[49m\n",
      "\u001b[1;31mValueError\u001b[0m: substring not found"
     ]
    }
   ],
   "source": [
    "str1=\"Rgfergertg wef vgwerb ejhgvferjh jhvbje\"\n",
    "str1.index(\"e\")\n",
    "str1.index(\"e\",25)\n",
    "str1.index(\"e\",25,35)\n",
    "str1.index(\"xom\")"
   ]
  },
  {
   "cell_type": "code",
   "execution_count": 18,
   "id": "7fe1e323",
   "metadata": {},
   "outputs": [
    {
     "data": {
      "text/plain": [
       "-1"
      ]
     },
     "execution_count": 18,
     "metadata": {},
     "output_type": "execute_result"
    }
   ],
   "source": [
    "str1=\"Rgfergertg wef vgwerb ejhgvferjh jhvbje\"\n",
    "str1.find(\"e\")\n",
    "str1.find(\"e\",25)\n",
    "str1.find(\"e\",25,35)\n",
    "str1.find(\"xom\")"
   ]
  },
  {
   "cell_type": "code",
   "execution_count": 24,
   "id": "dba35154",
   "metadata": {},
   "outputs": [
    {
     "name": "stdout",
     "output_type": "stream",
     "text": [
      "Enter String   ufrhgfiuer ervher\n",
      "Enter String to finde\n",
      "8\n"
     ]
    }
   ],
   "source": [
    "str1=input(\"Enter String   \")\n",
    "ini=input(\"Enter String to find\")\n",
    "a=str1.find(ini)\n",
    "if a==-1:\n",
    "    print(\"not in string\")\n",
    "else:\n",
    "    print(a)"
   ]
  },
  {
   "cell_type": "code",
   "execution_count": 28,
   "id": "d15a0c1e",
   "metadata": {},
   "outputs": [
    {
     "data": {
      "text/plain": [
       "True"
      ]
     },
     "execution_count": 28,
     "metadata": {},
     "output_type": "execute_result"
    }
   ],
   "source": [
    "# str1=\"erjhgfkr jerhvbk ehrvb\"\n",
    "# \"z\" in str1\n",
    "18 in range(10,22)"
   ]
  },
  {
   "cell_type": "code",
   "execution_count": 32,
   "id": "0090aff7",
   "metadata": {},
   "outputs": [
    {
     "data": {
      "text/plain": [
       "False"
      ]
     },
     "execution_count": 32,
     "metadata": {},
     "output_type": "execute_result"
    }
   ],
   "source": [
    "str1=\"ergergerg rgbt\"\n",
    "str1.endswith(\"kbt\")"
   ]
  },
  {
   "cell_type": "code",
   "execution_count": 34,
   "id": "12575c48",
   "metadata": {},
   "outputs": [
    {
     "data": {
      "text/plain": [
       "'Tgrt rthellortdemog'"
      ]
     },
     "execution_count": 34,
     "metadata": {},
     "output_type": "execute_result"
    }
   ],
   "source": [
    "str1=\"Tgrt rt{0}rt{1}g\"\n",
    "str1.format(\"hello\",\"demo\")"
   ]
  },
  {
   "cell_type": "code",
   "execution_count": 37,
   "id": "4eb80230",
   "metadata": {},
   "outputs": [
    {
     "data": {
      "text/plain": [
       "'                       ERfrg vfrtbg'"
      ]
     },
     "execution_count": 37,
     "metadata": {},
     "output_type": "execute_result"
    }
   ],
   "source": [
    "str1=\"                       ERfrg vfrtbg          \"\n",
    "str1.rstrip()"
   ]
  },
  {
   "cell_type": "code",
   "execution_count": 38,
   "id": "6643b776",
   "metadata": {},
   "outputs": [
    {
     "data": {
      "text/plain": [
       "'ERfrg vfrtbg          '"
      ]
     },
     "execution_count": 38,
     "metadata": {},
     "output_type": "execute_result"
    }
   ],
   "source": [
    "str1=\"                       ERfrg vfrtbg          \"\n",
    "str1.lstrip()"
   ]
  },
  {
   "cell_type": "code",
   "execution_count": 39,
   "id": "8237653e",
   "metadata": {},
   "outputs": [
    {
     "data": {
      "text/plain": [
       "'ERfrg vfrtbg'"
      ]
     },
     "execution_count": 39,
     "metadata": {},
     "output_type": "execute_result"
    }
   ],
   "source": [
    "str1=\"                       ERfrg vfrtbg          \"\n",
    "str1.strip()"
   ]
  },
  {
   "cell_type": "code",
   "execution_count": 44,
   "id": "321ef0f7",
   "metadata": {},
   "outputs": [
    {
     "name": "stdout",
     "output_type": "stream",
     "text": [
      "egrtyourtyrt\n"
     ]
    }
   ],
   "source": [
    "# join(iterable)\n",
    "l1=[\"egrt\",\"you\",\"rtyrt\"]\n",
    "str1=\"\".join(l1)\n",
    "print(str1)"
   ]
  },
  {
   "cell_type": "code",
   "execution_count": 45,
   "id": "557f62bd",
   "metadata": {},
   "outputs": [
    {
     "ename": "TypeError",
     "evalue": "sequence item 0: expected str instance, int found",
     "output_type": "error",
     "traceback": [
      "\u001b[1;31m---------------------------------------------------------------------------\u001b[0m",
      "\u001b[1;31mTypeError\u001b[0m                                 Traceback (most recent call last)",
      "Input \u001b[1;32mIn [45]\u001b[0m, in \u001b[0;36m<cell line: 2>\u001b[1;34m()\u001b[0m\n\u001b[0;32m      1\u001b[0m list1\u001b[38;5;241m=\u001b[39m[\u001b[38;5;241m45\u001b[39m,\u001b[38;5;241m63\u001b[39m,\u001b[38;5;241m25\u001b[39m,\u001b[38;5;241m48\u001b[39m,\u001b[38;5;241m75\u001b[39m]\n\u001b[1;32m----> 2\u001b[0m str1\u001b[38;5;241m=\u001b[39m\u001b[38;5;124;43m\"\u001b[39;49m\u001b[38;5;124;43m-\u001b[39;49m\u001b[38;5;124;43m\"\u001b[39;49m\u001b[38;5;241;43m.\u001b[39;49m\u001b[43mjoin\u001b[49m\u001b[43m(\u001b[49m\u001b[43mlist1\u001b[49m\u001b[43m)\u001b[49m\n\u001b[0;32m      3\u001b[0m \u001b[38;5;28mprint\u001b[39m(str1)\n",
      "\u001b[1;31mTypeError\u001b[0m: sequence item 0: expected str instance, int found"
     ]
    }
   ],
   "source": [
    "list1=[45,63,25,48,75]\n",
    "str1=\"-\".join(list1)\n",
    "print(str1)"
   ]
  },
  {
   "cell_type": "code",
   "execution_count": 53,
   "id": "74ee4a92",
   "metadata": {},
   "outputs": [
    {
     "data": {
      "text/plain": [
       "False"
      ]
     },
     "execution_count": 53,
     "metadata": {},
     "output_type": "execute_result"
    }
   ],
   "source": [
    "str1=\"8Rtgtrgetgrthrtrthg\"\n",
    "# str1.isalnum()\n",
    "# str1.isalpha()\n",
    "str1.isidentifier()"
   ]
  },
  {
   "cell_type": "code",
   "execution_count": 55,
   "id": "750fe250",
   "metadata": {},
   "outputs": [
    {
     "data": {
      "text/plain": [
       "False"
      ]
     },
     "execution_count": 55,
     "metadata": {},
     "output_type": "execute_result"
    }
   ],
   "source": [
    "str1=\"ergergr g gb ß\"\n",
    "str1.isascii()"
   ]
  },
  {
   "cell_type": "code",
   "execution_count": 59,
   "id": "15d3c5c5",
   "metadata": {},
   "outputs": [
    {
     "name": "stdout",
     "output_type": "stream",
     "text": [
      "False\n",
      "False\n",
      "False\n"
     ]
    }
   ],
   "source": [
    "str1=\"654654.12\"\n",
    "print(str1.isdecimal())\n",
    "print(str1.isdigit())\n",
    "print(str1.isnumeric())"
   ]
  },
  {
   "cell_type": "code",
   "execution_count": 63,
   "id": "e0144831",
   "metadata": {},
   "outputs": [
    {
     "data": {
      "text/plain": [
       "('hello i am learning am python', '', '')"
      ]
     },
     "execution_count": 63,
     "metadata": {},
     "output_type": "execute_result"
    }
   ],
   "source": [
    "str1=\"hello i am learning am python\"\n",
    "str1.partition(\"demo\")"
   ]
  },
  {
   "cell_type": "code",
   "execution_count": 65,
   "id": "43facfd7",
   "metadata": {},
   "outputs": [
    {
     "data": {
      "text/plain": [
       "'hello i am learning am python'"
      ]
     },
     "execution_count": 65,
     "metadata": {},
     "output_type": "execute_result"
    }
   ],
   "source": [
    "str1.replace(\"demo\",\"PHP\")"
   ]
  },
  {
   "cell_type": "code",
   "execution_count": 68,
   "id": "60ac6fce",
   "metadata": {},
   "outputs": [
    {
     "data": {
      "text/plain": [
       "['hello i am learning am python']"
      ]
     },
     "execution_count": 68,
     "metadata": {},
     "output_type": "execute_result"
    }
   ],
   "source": [
    "str1.split(\"opi\")"
   ]
  },
  {
   "cell_type": "code",
   "execution_count": 3,
   "id": "1e37f75d",
   "metadata": {},
   "outputs": [
    {
     "name": "stdout",
     "output_type": "stream",
     "text": [
      "[1]\n"
     ]
    }
   ],
   "source": [
    "list1=[1,2]\n",
    "item2=list((list1[0],))\n",
    "print(item2)"
   ]
  }
 ],
 "metadata": {
  "kernelspec": {
   "display_name": "Python 3 (ipykernel)",
   "language": "python",
   "name": "python3"
  },
  "language_info": {
   "codemirror_mode": {
    "name": "ipython",
    "version": 3
   },
   "file_extension": ".py",
   "mimetype": "text/x-python",
   "name": "python",
   "nbconvert_exporter": "python",
   "pygments_lexer": "ipython3",
   "version": "3.9.12"
  }
 },
 "nbformat": 4,
 "nbformat_minor": 5
}
