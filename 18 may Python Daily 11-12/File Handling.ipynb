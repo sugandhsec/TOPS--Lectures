{
 "cells": [
  {
   "cell_type": "code",
   "execution_count": null,
   "id": "5a08e3f2",
   "metadata": {},
   "outputs": [],
   "source": [
    "# file Handling\n",
    "\n"
   ]
  },
  {
   "cell_type": "code",
   "execution_count": null,
   "id": "9fa0cfa5",
   "metadata": {},
   "outputs": [],
   "source": [
    "# file open\n",
    "# filevariablename=open(\"filename\",\"mode\")\n",
    "# fp=open(\"demo.txt\",\"x,r,w,a\")\n",
    "# modes---\n",
    "# create---x---if file exist then it gives error and if not exist then create a file\n",
    "#                 FileExistsError \n",
    "\n",
    "# read---r----if file exist then open for rading purpose and if file is not exist then it gives error\n",
    "#             FileNotFoundError\n",
    "\n",
    "# write---w----if file exist then it open for writing purpose and all old content will be deleted \n",
    "# and if file not prsent then a new file will be created but it will not give error\n",
    "\n",
    "# append---a---if file exist then it open for append purpose and all old content will not be deleted \n",
    "# and if file not prsent then a new file will be created but it will not give error"
   ]
  },
  {
   "cell_type": "code",
   "execution_count": null,
   "id": "68de609c",
   "metadata": {},
   "outputs": [],
   "source": [
    "# File task"
   ]
  },
  {
   "cell_type": "code",
   "execution_count": null,
   "id": "3b34ced8",
   "metadata": {},
   "outputs": [],
   "source": [
    "# file close\n",
    "# filepointername.close()\n",
    "# fp.close()"
   ]
  },
  {
   "cell_type": "code",
   "execution_count": 7,
   "id": "3af531f9",
   "metadata": {},
   "outputs": [],
   "source": [
    "fp=open(\"demo3.txt\",\"x\")\n",
    "fp.close()"
   ]
  },
  {
   "cell_type": "code",
   "execution_count": 10,
   "id": "395620f9",
   "metadata": {},
   "outputs": [],
   "source": [
    "fp=open(\"demo.txt\",\"w\")\n",
    "a=58\n",
    "fp.write('''efdmnklgbnknvklerbr \n",
    "wergrtngberhrty\n",
    "ngwerhyrtm grehytmnberhgryt\n",
    "mergerthtegerger''')\n",
    "fp.close()"
   ]
  },
  {
   "cell_type": "code",
   "execution_count": null,
   "id": "fe05024d",
   "metadata": {},
   "outputs": [],
   "source": [
    "fp=open(\"demo.txt\",\"a\")\n",
    "a=58\n",
    "fp.write('''*****************\n",
    "*****************weifhweo weuhfeiughgh''')\n",
    "fp.close()"
   ]
  },
  {
   "cell_type": "code",
   "execution_count": 18,
   "id": "ce4c6495",
   "metadata": {},
   "outputs": [
    {
     "name": "stdout",
     "output_type": "stream",
     "text": [
      "efdmnklgbnknvklerbr \n",
      "\n",
      "wergrtngberhrty\n",
      "\n",
      "ngwerhyrtm grehytmnberhgryt\n",
      "\n"
     ]
    }
   ],
   "source": [
    "fp=open(\"demo.txt\",\"r\")\n",
    "# print(fp.read())\n",
    "# print(fp.read(32))\n",
    "print(fp.readline())\n",
    "print(fp.readline())\n",
    "print(fp.readline())\n",
    "\n",
    "fp.close()"
   ]
  }
 ],
 "metadata": {
  "kernelspec": {
   "display_name": "Python 3 (ipykernel)",
   "language": "python",
   "name": "python3"
  },
  "language_info": {
   "codemirror_mode": {
    "name": "ipython",
    "version": 3
   },
   "file_extension": ".py",
   "mimetype": "text/x-python",
   "name": "python",
   "nbconvert_exporter": "python",
   "pygments_lexer": "ipython3",
   "version": "3.9.12"
  }
 },
 "nbformat": 4,
 "nbformat_minor": 5
}
