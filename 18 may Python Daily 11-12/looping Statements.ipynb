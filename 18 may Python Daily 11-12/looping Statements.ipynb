{
 "cells": [
  {
   "cell_type": "code",
   "execution_count": null,
   "id": "46577d69",
   "metadata": {},
   "outputs": [],
   "source": [
    "# For Loop--collections or itearbles\n",
    "\n",
    "    string= 'hello' \"ergergerger\"  '''wedgterhyrtjhnrthr''' \"\"\"grthytjrt thrtgr\"\"\"\n",
    "    range=(1,100)\n",
    "    list=[45,14,54,89]\n",
    "    tuple=(47,89,65,87)\n",
    "    set={48,87,45,98,56}\n",
    "    dictionary={1:\"hello\",48:56}\n",
    "    \n",
    "# While Loop\n",
    "\n"
   ]
  },
  {
   "cell_type": "code",
   "execution_count": null,
   "id": "b0d04b67",
   "metadata": {},
   "outputs": [],
   "source": [
    "# for Loop\n",
    "\n",
    "for itearting_variable in iterable:\n",
    "    body of for loop"
   ]
  },
  {
   "cell_type": "code",
   "execution_count": 1,
   "id": "7996a152",
   "metadata": {},
   "outputs": [
    {
     "name": "stdout",
     "output_type": "stream",
     "text": [
      "good Mrning\n",
      "wow\n",
      "\n",
      "good Mrning\n",
      "wow\n",
      "\n",
      "good Mrning\n",
      "wow\n",
      "\n",
      "good Mrning\n",
      "wow\n",
      "\n",
      "good Mrning\n",
      "wow\n",
      "\n"
     ]
    }
   ],
   "source": [
    "for i in \"hello\":\n",
    "    print(\"good Mrning\")\n",
    "    print(\"wow\\n\")\n",
    "    "
   ]
  },
  {
   "cell_type": "code",
   "execution_count": 5,
   "id": "9153d5e2",
   "metadata": {},
   "outputs": [
    {
     "name": "stdout",
     "output_type": "stream",
     "text": [
      "Enter number: 48\n",
      "Enter number: 54\n",
      "Enter number: 21\n",
      "54 is Greater\n",
      "Enter number: 69\n",
      "Enter number: 25\n",
      "Enter number: 48\n",
      "69 is greater\n"
     ]
    }
   ],
   "source": [
    "for i in \"48\":\n",
    "    a=int(input(\"Enter number: \"))\n",
    "    b=int(input(\"Enter number: \"))\n",
    "    c=int(input(\"Enter number: \"))\n",
    "    if a>b:\n",
    "        if a>c:\n",
    "            print(f\"{a} is greater\")\n",
    "        else:\n",
    "            print(f\"{b} is greater\")\n",
    "    else:\n",
    "        if b>c:\n",
    "            print(f\"{b} is Greater\")\n",
    "        else:\n",
    "            print(f\"{c} is greater\")"
   ]
  },
  {
   "cell_type": "code",
   "execution_count": 11,
   "id": "a174d696",
   "metadata": {},
   "outputs": [
    {
     "name": "stdout",
     "output_type": "stream",
     "text": [
      "10\n",
      "13\n",
      "16\n",
      "19\n",
      "22\n"
     ]
    }
   ],
   "source": [
    "# range([start],stop,[step])\n",
    "# # by default start point 0\n",
    "# for i in range(10,25,3):\n",
    "#     print(i)\n"
   ]
  },
  {
   "cell_type": "code",
   "execution_count": 13,
   "id": "0560c91f",
   "metadata": {},
   "outputs": [
    {
     "name": "stdout",
     "output_type": "stream",
     "text": [
      "Enter Number58\n",
      "58 x 1 = 58\n",
      "58 x 2 = 116\n",
      "58 x 3 = 174\n",
      "58 x 4 = 232\n",
      "58 x 5 = 290\n",
      "58 x 6 = 348\n",
      "58 x 7 = 406\n",
      "58 x 8 = 464\n",
      "58 x 9 = 522\n",
      "58 x 10 = 580\n"
     ]
    }
   ],
   "source": [
    "num=int(input(\"Enter Number\"))\n",
    "for i in range(1,11):\n",
    "    print(f\"{num} x {i} = {num*i}\") #formatted string"
   ]
  },
  {
   "cell_type": "code",
   "execution_count": 16,
   "id": "e6f1a75c",
   "metadata": {},
   "outputs": [
    {
     "name": "stdout",
     "output_type": "stream",
     "text": [
      "9 x 1 = 9\n",
      "9 x 2 = 18\n",
      "9 x 3 = 27\n",
      "9 x 4 = 36\n",
      "9 x 5 = 45\n",
      "9 x 6 = 54\n",
      "9 x 7 = 63\n",
      "9 x 8 = 72\n",
      "9 x 9 = 81\n",
      "9 x 10 = 90\n"
     ]
    }
   ],
   "source": [
    "k=1\n",
    "for i in range(100,110):\n",
    "        print(f\"{9} x {k} = {9*k}\") \n",
    "        k+=1\n",
    "   "
   ]
  },
  {
   "cell_type": "code",
   "execution_count": null,
   "id": "58bad8c1",
   "metadata": {},
   "outputs": [],
   "source": [
    "# range in negative value\n",
    "\n",
    "\n",
    "-9 -8 -7 -6 -5 -4 -3 -2 -1 0 1 2 3 4 5 6 7 8 9\n",
    "step positive---left to right\n",
    "step negative ---right to left\n",
    "range(4,9,2)"
   ]
  },
  {
   "cell_type": "code",
   "execution_count": 7,
   "id": "be3757de",
   "metadata": {},
   "outputs": [
    {
     "name": "stdout",
     "output_type": "stream",
     "text": [
      "-8\n",
      "-7\n",
      "-6\n",
      "-5\n",
      "-4\n",
      "-3\n"
     ]
    }
   ],
   "source": [
    "for i in range(-8,-2):\n",
    "    print(i)"
   ]
  },
  {
   "cell_type": "code",
   "execution_count": 9,
   "id": "46747a52",
   "metadata": {},
   "outputs": [
    {
     "name": "stdout",
     "output_type": "stream",
     "text": [
      "enter number: 1\n",
      "enter number: 2\n",
      "enter number: 3\n",
      "enter number: 4\n",
      "enter number: 1\n",
      "enter number: 2\n",
      "enter number: 5\n",
      "enter number: 6\n",
      "enter number: 9\n",
      "enter number: 8\n",
      "enter number: 7\n",
      "enter number: 5\n",
      "enter number: 6\n",
      "enter number: 4\n",
      "enter number: 65\n"
     ]
    }
   ],
   "source": [
    "# while loop\n",
    "a=0\n",
    "while a<10:\n",
    "    a=int(input(\"enter number: \"))"
   ]
  },
  {
   "cell_type": "code",
   "execution_count": null,
   "id": "2a97d0dc",
   "metadata": {},
   "outputs": [],
   "source": [
    "# break"
   ]
  },
  {
   "cell_type": "code",
   "execution_count": 5,
   "id": "eac879a2",
   "metadata": {},
   "outputs": [
    {
     "name": "stdout",
     "output_type": "stream",
     "text": [
      "1\n",
      "2\n",
      "3\n",
      "4\n"
     ]
    }
   ],
   "source": [
    "for i in range(1,11):\n",
    "    if i==5:\n",
    "        break\n",
    "    print(i)"
   ]
  },
  {
   "cell_type": "code",
   "execution_count": null,
   "id": "8b63417c",
   "metadata": {},
   "outputs": [],
   "source": [
    "continue"
   ]
  },
  {
   "cell_type": "code",
   "execution_count": 6,
   "id": "0160d072",
   "metadata": {},
   "outputs": [
    {
     "name": "stdout",
     "output_type": "stream",
     "text": [
      "1\n",
      "2\n",
      "3\n",
      "4\n",
      "6\n",
      "7\n",
      "8\n",
      "9\n",
      "10\n"
     ]
    }
   ],
   "source": [
    "for i in range(1,11):\n",
    "    if i==5:\n",
    "        continue\n",
    "    print(i)"
   ]
  },
  {
   "cell_type": "code",
   "execution_count": 11,
   "id": "dd5462a0",
   "metadata": {},
   "outputs": [],
   "source": [
    "for i in range(1,11):\n",
    "    pass"
   ]
  },
  {
   "cell_type": "code",
   "execution_count": null,
   "id": "94f3c71c",
   "metadata": {},
   "outputs": [],
   "source": [
    "pass\n"
   ]
  },
  {
   "cell_type": "code",
   "execution_count": 9,
   "id": "73f8ae21",
   "metadata": {},
   "outputs": [],
   "source": [
    "a=25\n",
    "if a>10:\n",
    "    pass \n",
    "else:\n",
    "    print(\"Wrong\")"
   ]
  },
  {
   "cell_type": "code",
   "execution_count": null,
   "id": "6f427ca4",
   "metadata": {},
   "outputs": [],
   "source": []
  }
 ],
 "metadata": {
  "kernelspec": {
   "display_name": "Python 3 (ipykernel)",
   "language": "python",
   "name": "python3"
  },
  "language_info": {
   "codemirror_mode": {
    "name": "ipython",
    "version": 3
   },
   "file_extension": ".py",
   "mimetype": "text/x-python",
   "name": "python",
   "nbconvert_exporter": "python",
   "pygments_lexer": "ipython3",
   "version": "3.9.12"
  }
 },
 "nbformat": 4,
 "nbformat_minor": 5
}
