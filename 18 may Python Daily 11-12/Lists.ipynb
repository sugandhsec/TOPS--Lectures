{
 "cells": [
  {
   "cell_type": "code",
   "execution_count": null,
   "id": "f716fb03",
   "metadata": {},
   "outputs": [],
   "source": [
    "# list is a collection of elements of similar or different datatype\n",
    "# list is ordered datatype beacuse of index number\n",
    "# list is mutable changes allowed\n",
    "# list allows duplicates beacuse of index number identifies uniquely\n",
    "list is defined in [ ]\n",
    "# elements are separated by comma(,)"
   ]
  },
  {
   "cell_type": "code",
   "execution_count": 3,
   "id": "c838098a",
   "metadata": {},
   "outputs": [
    {
     "name": "stdout",
     "output_type": "stream",
     "text": [
      "[2569, 45.23, True, 'Hello World', [45, 36, 52], (47, 85), {36, 45}, {1: 'value', 56: 'your'}]\n",
      "Hello World\n",
      "[[45, 36, 52], (47, 85), {36, 45}]\n"
     ]
    }
   ],
   "source": [
    "list1=[2569,45.23,True,\"Hello World\",[45,36,52],(47,85),{45,36},{1:\"value\",56:\"your\"}]\n",
    "print(list1)\n",
    "print(list1[3])\n",
    "print(list1[4:7])"
   ]
  },
  {
   "cell_type": "code",
   "execution_count": 4,
   "id": "0745bac6",
   "metadata": {},
   "outputs": [
    {
     "ename": "TypeError",
     "evalue": "'str' object does not support item assignment",
     "output_type": "error",
     "traceback": [
      "\u001b[1;31m---------------------------------------------------------------------------\u001b[0m",
      "\u001b[1;31mTypeError\u001b[0m                                 Traceback (most recent call last)",
      "Input \u001b[1;32mIn [4]\u001b[0m, in \u001b[0;36m<cell line: 2>\u001b[1;34m()\u001b[0m\n\u001b[0;32m      1\u001b[0m str1\u001b[38;5;241m=\u001b[39m\u001b[38;5;124m\"\u001b[39m\u001b[38;5;124mhello\u001b[39m\u001b[38;5;124m\"\u001b[39m\n\u001b[1;32m----> 2\u001b[0m str1[\u001b[38;5;241m3\u001b[39m]\u001b[38;5;241m=\u001b[39m\u001b[38;5;124m\"\u001b[39m\u001b[38;5;124mp\u001b[39m\u001b[38;5;124m\"\u001b[39m\n",
      "\u001b[1;31mTypeError\u001b[0m: 'str' object does not support item assignment"
     ]
    }
   ],
   "source": [
    "str1=\"hello\"\n",
    "str1[3]=\"p\""
   ]
  },
  {
   "cell_type": "code",
   "execution_count": 5,
   "id": "81533bd2",
   "metadata": {},
   "outputs": [
    {
     "name": "stdout",
     "output_type": "stream",
     "text": [
      "[45, 36, 52, 145, 'python ki dunia', 75]\n"
     ]
    }
   ],
   "source": [
    "list1=[45,36,52,145,8,75]\n",
    "list1[4]=\"python ki dunia\"\n",
    "print(list1)"
   ]
  },
  {
   "cell_type": "code",
   "execution_count": 6,
   "id": "c2711ec8",
   "metadata": {},
   "outputs": [
    {
     "name": "stdout",
     "output_type": "stream",
     "text": [
      "[45, 36, 45, 36, 75]\n"
     ]
    }
   ],
   "source": [
    "list1=[45,36,52,145,8,75]\n",
    "list1[2:5]=[45,36]\n",
    "print(list1)"
   ]
  },
  {
   "cell_type": "code",
   "execution_count": null,
   "id": "c237aa20",
   "metadata": {},
   "outputs": [],
   "source": [
    "# list functions\n",
    "len\n",
    "min\n",
    "max\n",
    "list"
   ]
  },
  {
   "cell_type": "code",
   "execution_count": 7,
   "id": "0d562d98",
   "metadata": {},
   "outputs": [
    {
     "name": "stdout",
     "output_type": "stream",
     "text": [
      "11\n"
     ]
    }
   ],
   "source": [
    "# len\n",
    "list1=[45,65,87,45,21,21,24,54,5469,89,56]\n",
    "a=len(list1)\n",
    "print(a)"
   ]
  },
  {
   "cell_type": "code",
   "execution_count": 10,
   "id": "8eefac2d",
   "metadata": {},
   "outputs": [
    {
     "name": "stdout",
     "output_type": "stream",
     "text": [
      "2\n",
      "Great\n"
     ]
    }
   ],
   "source": [
    "# min\n",
    "list1=[45,36,2,14,58,79,65,84,569]\n",
    "print(min(list1))\n",
    "list2=[\"hello\",\"Wow\",\"Great\",\"apple\",\"Zebra\"]\n",
    "print(min(list2))"
   ]
  },
  {
   "cell_type": "code",
   "execution_count": 11,
   "id": "936ba0ac",
   "metadata": {},
   "outputs": [
    {
     "name": "stdout",
     "output_type": "stream",
     "text": [
      "569\n",
      "hello\n"
     ]
    }
   ],
   "source": [
    "# max\n",
    "list1=[45,36,2,14,58,79,65,84,569]\n",
    "print(max(list1))\n",
    "list2=[\"hello\",\"Wow\",\"Great\",\"apple\",\"Zebra\"]\n",
    "print(max(list2))"
   ]
  },
  {
   "cell_type": "code",
   "execution_count": 13,
   "id": "04c68686",
   "metadata": {},
   "outputs": [
    {
     "ename": "TypeError",
     "evalue": "'>' not supported between instances of 'str' and 'int'",
     "output_type": "error",
     "traceback": [
      "\u001b[1;31m---------------------------------------------------------------------------\u001b[0m",
      "\u001b[1;31mTypeError\u001b[0m                                 Traceback (most recent call last)",
      "Input \u001b[1;32mIn [13]\u001b[0m, in \u001b[0;36m<cell line: 3>\u001b[1;34m()\u001b[0m\n\u001b[0;32m      1\u001b[0m list1\u001b[38;5;241m=\u001b[39m[\u001b[38;5;241m45\u001b[39m,\u001b[38;5;241m65\u001b[39m,\u001b[38;5;241m23\u001b[39m,\u001b[38;5;124m\"\u001b[39m\u001b[38;5;124mHello\u001b[39m\u001b[38;5;124m\"\u001b[39m,\u001b[38;5;124m\"\u001b[39m\u001b[38;5;124mdemo\u001b[39m\u001b[38;5;124m\"\u001b[39m,\u001b[38;5;124m\"\u001b[39m\u001b[38;5;124mGreat\u001b[39m\u001b[38;5;124m\"\u001b[39m,\u001b[38;5;241m45\u001b[39m,\u001b[38;5;241m89\u001b[39m]\n\u001b[0;32m      2\u001b[0m \u001b[38;5;66;03m# print(min(list1))\u001b[39;00m\n\u001b[1;32m----> 3\u001b[0m \u001b[38;5;28mprint\u001b[39m(\u001b[38;5;28;43mmax\u001b[39;49m\u001b[43m(\u001b[49m\u001b[43mlist1\u001b[49m\u001b[43m)\u001b[49m)\n",
      "\u001b[1;31mTypeError\u001b[0m: '>' not supported between instances of 'str' and 'int'"
     ]
    }
   ],
   "source": [
    "list1=[45,65,23,\"Hello\",\"demo\",\"Great\",45,89]\n",
    "# print(min(list1))\n",
    "# print(max(list1))"
   ]
  },
  {
   "cell_type": "code",
   "execution_count": 19,
   "id": "f3fa2d25",
   "metadata": {},
   "outputs": [
    {
     "name": "stdout",
     "output_type": "stream",
     "text": [
      "['h', 'e', 'l', 'l', 'o', ' ', 'w', 'o', 'l', 'r', 'd']\n",
      "[45, 51, 57, 63]\n",
      "[45, 69, 85, 47, 85, 4]\n",
      "[65, 8, 89, 45, 47]\n",
      "[1, 'python']\n"
     ]
    }
   ],
   "source": [
    "# list\n",
    "list1=list(\"hello wolrd\")\n",
    "print(list1)\n",
    "list1=list(range(45,69,6))\n",
    "print(list1)\n",
    "list1=list((45,69,85,47,85,4))\n",
    "print(list1)\n",
    "list1=list({45,65,89,65,47,8})\n",
    "print(list1)\n",
    "list1=list({1:\"great\",\"python\":45})\n",
    "print(list1)"
   ]
  },
  {
   "cell_type": "code",
   "execution_count": null,
   "id": "ec8bc97c",
   "metadata": {},
   "outputs": [],
   "source": [
    "# list methods\n",
    "\n",
    "# add values\n",
    "append()\n",
    "extend()\n",
    "insert()\n",
    "\n",
    "# remove values\n",
    "pop()\n",
    "remove()\n",
    "\n",
    "# list additional task\n",
    "index()\n",
    "count()\n",
    "\n",
    "# other methods\n",
    "sort()\n",
    "reverse()\n",
    "copy()\n",
    "clear()"
   ]
  },
  {
   "cell_type": "code",
   "execution_count": 1,
   "id": "722bb2d2",
   "metadata": {},
   "outputs": [],
   "source": [
    "# dir(list)"
   ]
  },
  {
   "cell_type": "code",
   "execution_count": 4,
   "id": "e207108f",
   "metadata": {},
   "outputs": [
    {
     "name": "stdout",
     "output_type": "stream",
     "text": [
      "[45, 23, 54, 'hello', True]\n",
      "[45, 23, 54, 'hello', True, 98]\n"
     ]
    }
   ],
   "source": [
    "# List Methods\n",
    "# 1---Append(element) ----add element at last of the list\n",
    "list1=[45,23,54,\"hello\",True]\n",
    "print(list1)\n",
    "list1.append(98)\n",
    "# len(list1)\n",
    "print(list1)"
   ]
  },
  {
   "cell_type": "code",
   "execution_count": 6,
   "id": "ca67c3fc",
   "metadata": {},
   "outputs": [
    {
     "name": "stdout",
     "output_type": "stream",
     "text": [
      "[45, 23, 54, 'hello', True]\n",
      "[45, 23, 54, 'hello', True, 48, 56, 98, 54]\n"
     ]
    }
   ],
   "source": [
    "# 2--- extend(iterable)--add element at last of the list\n",
    "# as an individula from iterable\n",
    "list1=[45,23,54,\"hello\",True]\n",
    "print(list1)\n",
    "list1.extend([48,56,98,54])\n",
    "print(list1)"
   ]
  },
  {
   "cell_type": "code",
   "execution_count": 9,
   "id": "2b4b22c2",
   "metadata": {},
   "outputs": [
    {
     "name": "stdout",
     "output_type": "stream",
     "text": [
      "[45, 23, 54, 'hello', True]\n",
      "[45, 23, 'This is funny', 54, 'hello', True]\n"
     ]
    }
   ],
   "source": [
    "# 3---insert(index,element) --add element at given index\n",
    "list1=[45,23,54,\"hello\",True]\n",
    "print(list1)\n",
    "list1.insert(2,\"This is funny\")\n",
    "print(list1)"
   ]
  },
  {
   "cell_type": "code",
   "execution_count": 13,
   "id": "00633ba5",
   "metadata": {},
   "outputs": [
    {
     "name": "stdout",
     "output_type": "stream",
     "text": [
      "[45, 65, 89, 87, 45, 63, 25, 45, 86, 96, 58, 7]\n",
      "[45, 65, 89, 45, 63, 25, 45, 86, 96, 58, 7]\n"
     ]
    }
   ],
   "source": [
    "# 4---pop([index])-- removes element at given index but if index is not given \n",
    "# then it removes last element\n",
    "list1=[45,65,89,87,45,63,25,45,86,96,58,7]\n",
    "print(list1)\n",
    "# list1.pop(548)  ---IndexError Pop index out of range\n",
    "list1.pop(3)\n",
    "print(list1)"
   ]
  },
  {
   "cell_type": "code",
   "execution_count": 17,
   "id": "7a039d3f",
   "metadata": {},
   "outputs": [
    {
     "name": "stdout",
     "output_type": "stream",
     "text": [
      "[45, 65, 89, 87, 45, 63, 25, 89, 45, 86, 96, 58, 7, 89]\n",
      "[45, 65, 87, 45, 63, 25, 89, 45, 86, 96, 58, 7, 89]\n"
     ]
    }
   ],
   "source": [
    "# 5--- remove(element) ---removes given element at first occurence\n",
    "list1=[45,65,89,87,45,63,25,89,45,86,96,58,7,89]\n",
    "print(list1)\n",
    "list1.remove(89)\n",
    "# list1.remove(4587) ValueError --- x not in list\n",
    "print(list1)"
   ]
  },
  {
   "cell_type": "code",
   "execution_count": 19,
   "id": "ce7eb3c8",
   "metadata": {},
   "outputs": [
    {
     "name": "stdout",
     "output_type": "stream",
     "text": [
      "[45, 65, 89, 87, 45, 63, 25, 89, 45, 86, 96, 58, 7, 89]\n"
     ]
    },
    {
     "ename": "ValueError",
     "evalue": "4589 is not in list",
     "output_type": "error",
     "traceback": [
      "\u001b[1;31m---------------------------------------------------------------------------\u001b[0m",
      "\u001b[1;31mValueError\u001b[0m                                Traceback (most recent call last)",
      "Input \u001b[1;32mIn [19]\u001b[0m, in \u001b[0;36m<cell line: 4>\u001b[1;34m()\u001b[0m\n\u001b[0;32m      2\u001b[0m list1\u001b[38;5;241m=\u001b[39m[\u001b[38;5;241m45\u001b[39m,\u001b[38;5;241m65\u001b[39m,\u001b[38;5;241m89\u001b[39m,\u001b[38;5;241m87\u001b[39m,\u001b[38;5;241m45\u001b[39m,\u001b[38;5;241m63\u001b[39m,\u001b[38;5;241m25\u001b[39m,\u001b[38;5;241m89\u001b[39m,\u001b[38;5;241m45\u001b[39m,\u001b[38;5;241m86\u001b[39m,\u001b[38;5;241m96\u001b[39m,\u001b[38;5;241m58\u001b[39m,\u001b[38;5;241m7\u001b[39m,\u001b[38;5;241m89\u001b[39m]\n\u001b[0;32m      3\u001b[0m \u001b[38;5;28mprint\u001b[39m(list1)\n\u001b[1;32m----> 4\u001b[0m \u001b[43mlist1\u001b[49m\u001b[38;5;241;43m.\u001b[39;49m\u001b[43mindex\u001b[49m\u001b[43m(\u001b[49m\u001b[38;5;241;43m4589\u001b[39;49m\u001b[43m)\u001b[49m\n",
      "\u001b[1;31mValueError\u001b[0m: 4589 is not in list"
     ]
    }
   ],
   "source": [
    "# index(element) --gievs index of element at its first occurence\n",
    "list1=[45,65,89,87,45,63,25,89,45,86,96,58,7,89]\n",
    "print(list1)\n",
    "list1.index(89)\n",
    "# list1.index(4589) --ValueError 4589 not in list"
   ]
  },
  {
   "cell_type": "code",
   "execution_count": 22,
   "id": "d68a533c",
   "metadata": {},
   "outputs": [
    {
     "name": "stdout",
     "output_type": "stream",
     "text": [
      "[45, 65, 89, 87, 45, 63, 25, 89, 45, 86, 96, 58, 7, 89]\n"
     ]
    },
    {
     "data": {
      "text/plain": [
       "3"
      ]
     },
     "execution_count": 22,
     "metadata": {},
     "output_type": "execute_result"
    }
   ],
   "source": [
    "# count(element) ---give total occurence of element if element is not in list\n",
    "# then it gives 0\n",
    "list1=[45,65,89,87,45,63,25,89,45,86,96,58,7,89]\n",
    "print(list1)\n",
    "list1.count(89)"
   ]
  },
  {
   "cell_type": "code",
   "execution_count": 23,
   "id": "31e0d71b",
   "metadata": {},
   "outputs": [
    {
     "name": "stdout",
     "output_type": "stream",
     "text": [
      "[45, 65, 89, 87, 45, 63, 25, 45, 86, 96, 58, 7]\n",
      "[]\n"
     ]
    }
   ],
   "source": [
    "# clear()---clear whole list and makes list empty\n",
    "list1=[45,65,89,87,45,63,25,45,86,96,58,7]\n",
    "print(list1)\n",
    "list1.clear()\n",
    "print(list1)"
   ]
  },
  {
   "cell_type": "code",
   "execution_count": 25,
   "id": "11e5055f",
   "metadata": {},
   "outputs": [
    {
     "name": "stdout",
     "output_type": "stream",
     "text": [
      "[45, 65, 89, 87, 45, 63, 25, 45, 86, 96, 58, 7]\n",
      "[96, 89, 87, 86, 65, 63, 58, 45, 45, 45, 25, 7]\n"
     ]
    }
   ],
   "source": [
    "# sort([reverse=True])---arrange element in ascending or descending order\n",
    "list1=[45,65,89,87,45,63,25,45,86,96,58,7]\n",
    "print(list1)\n",
    "list1.sort()  #ascending\n",
    "list1.sort(reverse=True) #descending\n",
    "print(list1)"
   ]
  },
  {
   "cell_type": "code",
   "execution_count": 28,
   "id": "181ffb19",
   "metadata": {},
   "outputs": [
    {
     "name": "stdout",
     "output_type": "stream",
     "text": [
      "['hello', 'I', 'am', 'Living', 'in', 'Korea', 'help']\n",
      "['I', 'Korea', 'Living', 'am', 'hello', 'help', 'in']\n"
     ]
    }
   ],
   "source": [
    "list1=[\"hello\",\"I\",\"am\",\"Living\",\"in\",\"Korea\",\"help\"]\n",
    "print(list1)\n",
    "list1.sort()  #ascending\n",
    "# list1.sort(reverse=True) #descending\n",
    "print(list1)"
   ]
  },
  {
   "cell_type": "code",
   "execution_count": 29,
   "id": "e87b11de",
   "metadata": {},
   "outputs": [
    {
     "name": "stdout",
     "output_type": "stream",
     "text": [
      "['hello', 'I', 58, 98, 65, 21, 'am', 'Living', 'in', 'Korea', 'help']\n"
     ]
    },
    {
     "ename": "TypeError",
     "evalue": "'<' not supported between instances of 'int' and 'str'",
     "output_type": "error",
     "traceback": [
      "\u001b[1;31m---------------------------------------------------------------------------\u001b[0m",
      "\u001b[1;31mTypeError\u001b[0m                                 Traceback (most recent call last)",
      "Input \u001b[1;32mIn [29]\u001b[0m, in \u001b[0;36m<cell line: 3>\u001b[1;34m()\u001b[0m\n\u001b[0;32m      1\u001b[0m list1\u001b[38;5;241m=\u001b[39m[\u001b[38;5;124m\"\u001b[39m\u001b[38;5;124mhello\u001b[39m\u001b[38;5;124m\"\u001b[39m,\u001b[38;5;124m\"\u001b[39m\u001b[38;5;124mI\u001b[39m\u001b[38;5;124m\"\u001b[39m,\u001b[38;5;241m58\u001b[39m,\u001b[38;5;241m98\u001b[39m,\u001b[38;5;241m65\u001b[39m,\u001b[38;5;241m21\u001b[39m,\u001b[38;5;124m\"\u001b[39m\u001b[38;5;124mam\u001b[39m\u001b[38;5;124m\"\u001b[39m,\u001b[38;5;124m\"\u001b[39m\u001b[38;5;124mLiving\u001b[39m\u001b[38;5;124m\"\u001b[39m,\u001b[38;5;124m\"\u001b[39m\u001b[38;5;124min\u001b[39m\u001b[38;5;124m\"\u001b[39m,\u001b[38;5;124m\"\u001b[39m\u001b[38;5;124mKorea\u001b[39m\u001b[38;5;124m\"\u001b[39m,\u001b[38;5;124m\"\u001b[39m\u001b[38;5;124mhelp\u001b[39m\u001b[38;5;124m\"\u001b[39m]\n\u001b[0;32m      2\u001b[0m \u001b[38;5;28mprint\u001b[39m(list1)\n\u001b[1;32m----> 3\u001b[0m \u001b[43mlist1\u001b[49m\u001b[38;5;241;43m.\u001b[39;49m\u001b[43msort\u001b[49m\u001b[43m(\u001b[49m\u001b[43m)\u001b[49m  \u001b[38;5;66;03m#ascending\u001b[39;00m\n\u001b[0;32m      4\u001b[0m \u001b[38;5;66;03m# list1.sort(reverse=True) #descending\u001b[39;00m\n\u001b[0;32m      5\u001b[0m \u001b[38;5;28mprint\u001b[39m(list1)\n",
      "\u001b[1;31mTypeError\u001b[0m: '<' not supported between instances of 'int' and 'str'"
     ]
    }
   ],
   "source": [
    "list1=[\"hello\",\"I\",58,98,65,21,\"am\",\"Living\",\"in\",\"Korea\",\"help\"]\n",
    "print(list1)\n",
    "list1.sort()  #ascending\n",
    "# list1.sort(reverse=True) #descending\n",
    "print(list1)"
   ]
  },
  {
   "cell_type": "code",
   "execution_count": 31,
   "id": "37b51cc6",
   "metadata": {},
   "outputs": [
    {
     "name": "stdout",
     "output_type": "stream",
     "text": [
      "[36, 58, 74, 85, 96, 45]\n",
      "[45, 96, 85, 74, 58, 36]\n"
     ]
    }
   ],
   "source": [
    "list1=[36,58,74,85,96,45]\n",
    "print(list1)\n",
    "list1.reverse()\n",
    "print(list1)"
   ]
  },
  {
   "cell_type": "code",
   "execution_count": 34,
   "id": "43366a4c",
   "metadata": {},
   "outputs": [
    {
     "name": "stdout",
     "output_type": "stream",
     "text": [
      "[45, 63, 25, 48]\n",
      "[45, 63, 25, 48]\n",
      "[45, 63, 25, 'hello']\n",
      "[45, 63, 25, 48]\n"
     ]
    }
   ],
   "source": [
    "# copy()---copy one list into another varible\n",
    "list1=[45,63,25,48]\n",
    "list2=list1.copy()\n",
    "print(list1)\n",
    "print(list2)\n",
    "list1[3]=\"hello\"\n",
    "print(list1)\n",
    "print(list2)"
   ]
  },
  {
   "cell_type": "code",
   "execution_count": 35,
   "id": "0d976000",
   "metadata": {},
   "outputs": [
    {
     "name": "stdout",
     "output_type": "stream",
     "text": [
      "[45, 'hello', 'all', 98]\n",
      "[45, 'hello', 'all', 98]\n",
      "[45, 'hello', 'all', 'hello']\n",
      "[45, 'hello', 'all', 'hello']\n"
     ]
    }
   ],
   "source": [
    "list1=[45,\"hello\",\"all\",98]\n",
    "list2=list1\n",
    "print(list1)\n",
    "print(list2)\n",
    "list1[3]=\"hello\"\n",
    "print(list1)\n",
    "print(list2)"
   ]
  }
 ],
 "metadata": {
  "kernelspec": {
   "display_name": "Python 3 (ipykernel)",
   "language": "python",
   "name": "python3"
  },
  "language_info": {
   "codemirror_mode": {
    "name": "ipython",
    "version": 3
   },
   "file_extension": ".py",
   "mimetype": "text/x-python",
   "name": "python",
   "nbconvert_exporter": "python",
   "pygments_lexer": "ipython3",
   "version": "3.9.12"
  }
 },
 "nbformat": 4,
 "nbformat_minor": 5
}
