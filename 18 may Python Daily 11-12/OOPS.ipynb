{
 "cells": [
  {
   "cell_type": "code",
   "execution_count": null,
   "id": "5deb1e09",
   "metadata": {},
   "outputs": [],
   "source": [
    "OOPS--object orinted programming\n",
    "1--Class\n",
    "2--Object\n",
    "3--Constructor\n",
    "4--Destructor\n",
    "5--Inheritance\n",
    "6--Polymorphism\n",
    "7--Encapsulation\n",
    "8--Abstraction"
   ]
  },
  {
   "cell_type": "code",
   "execution_count": null,
   "id": "00987a69",
   "metadata": {},
   "outputs": [],
   "source": [
    "# Class\n",
    "class is a blueprint for object that how object looks like and what is inside object"
   ]
  },
  {
   "cell_type": "code",
   "execution_count": null,
   "id": "5c8e78d5",
   "metadata": {},
   "outputs": [],
   "source": [
    "class variables---data members\n",
    "class functions---method---member function"
   ]
  },
  {
   "cell_type": "code",
   "execution_count": null,
   "id": "eb3fcab2",
   "metadata": {},
   "outputs": [],
   "source": [
    "class classname:\n",
    "    data members\n",
    "    member function--methods"
   ]
  },
  {
   "cell_type": "code",
   "execution_count": 53,
   "id": "210c0d93",
   "metadata": {},
   "outputs": [],
   "source": [
    "class student:  #class\n",
    "    def getdata(self):  #method\n",
    "        self.name=input(\"Enter Name: \")\n",
    "        self.age=int(input(\"Enter Age: \"))\n",
    "        self.rollno=int(input(\"Enter Rollno: \"))\n",
    "        \n",
    "    def __init__(self):  #constructor\n",
    "        print(\"I am constrcutor\")\n",
    "        self.name=\"\"\n",
    "        self.age=\"\"\n",
    "        self.rollno=\"\"\n",
    "#         self.getdata()\n",
    "        \n",
    "    def showdata(self):\n",
    "#         print(id(self))\n",
    "        print(f\"Your name is {self.name}\\nYour age is {self.age}\\n Your Rollno is {self.rollno}\")\n",
    "    \n",
    "    def __del__(self):\n",
    "        print(\"I am Desturctor\")"
   ]
  },
  {
   "cell_type": "code",
   "execution_count": 54,
   "id": "4a66e2f9",
   "metadata": {},
   "outputs": [
    {
     "name": "stdout",
     "output_type": "stream",
     "text": [
      "I am constrcutor\n",
      "I am constrcutor\n"
     ]
    }
   ],
   "source": [
    "# objectname=classname()\n",
    "st1=student()\n",
    "st2=student() #object\n",
    "# print(id(st1))\n",
    "# st1.getdata()\n",
    "# st1.showdata()\n",
    "# st2.showdata()"
   ]
  },
  {
   "cell_type": "code",
   "execution_count": 4,
   "id": "4c4366a2",
   "metadata": {},
   "outputs": [
    {
     "name": "stdout",
     "output_type": "stream",
     "text": [
      "45\n",
      "I am zero parametr\n"
     ]
    }
   ],
   "source": [
    "a=10\n",
    "a=45\n",
    "print(a)\n",
    "def fun1(a):\n",
    "    print(\"i am one parameter\")\n",
    "\n",
    "\n",
    "def fun1():\n",
    "    print(\"I am zero parametr\")\n",
    "    \n",
    "\n",
    "fun1()"
   ]
  },
  {
   "cell_type": "code",
   "execution_count": 6,
   "id": "88ecc6bd",
   "metadata": {},
   "outputs": [
    {
     "data": {
      "text/plain": [
       "61"
      ]
     },
     "execution_count": 6,
     "metadata": {},
     "output_type": "execute_result"
    }
   ],
   "source": [
    "# polymorphism\n",
    "# operator overloading\n",
    "45+32\n",
    "25+36\n",
    "# = * f"
   ]
  },
  {
   "cell_type": "code",
   "execution_count": 16,
   "id": "27c4595a",
   "metadata": {},
   "outputs": [
    {
     "name": "stdout",
     "output_type": "stream",
     "text": [
      "134\n",
      "134\n",
      "None\n",
      "great work\n",
      "None\n",
      "Value of a is 89 and B is None\n",
      "Value of a is None and B is 45\n"
     ]
    }
   ],
   "source": [
    "class demo:\n",
    "    def __init__(self):\n",
    "        self.a=None\n",
    "        self.b=None\n",
    "    def getdata(self):\n",
    "        self.a=int(input(\"Enter Number A: \"))\n",
    "        self.b=int(input(\"Enter Number B: \"))\n",
    "    def showdata(self):\n",
    "        print(f\"Value of a is {self.a} and B is {self.b}\")\n",
    "        \n",
    "    def __add__(self,other):\n",
    "        print(self.a+other.b)\n",
    "        \n",
    "    def __sub__(self,other):\n",
    "        print(\"great work\")\n",
    "        \n",
    "d1=demo()\n",
    "d2=demo()\n",
    "d1.a=89\n",
    "d2.b=45\n",
    "print(d1.a+d2.b)\n",
    "print(d1+d2)\n",
    "print(d1-d2)\n",
    "# d1.__Add__(d2)\n",
    "d1.showdata()\n",
    "d2.showdata()"
   ]
  },
  {
   "cell_type": "code",
   "execution_count": 17,
   "id": "7998325d",
   "metadata": {},
   "outputs": [
    {
     "ename": "TypeError",
     "evalue": "fun1() missing 2 required positional arguments: 'a' and 'b'",
     "output_type": "error",
     "traceback": [
      "\u001b[1;31m---------------------------------------------------------------------------\u001b[0m",
      "\u001b[1;31mTypeError\u001b[0m                                 Traceback (most recent call last)",
      "Input \u001b[1;32mIn [17]\u001b[0m, in \u001b[0;36m<cell line: 10>\u001b[1;34m()\u001b[0m\n\u001b[0;32m      7\u001b[0m         \u001b[38;5;28mprint\u001b[39m(\u001b[38;5;124m\"\u001b[39m\u001b[38;5;124m2 parameter\u001b[39m\u001b[38;5;124m\"\u001b[39m)\n\u001b[0;32m      9\u001b[0m d1\u001b[38;5;241m=\u001b[39mdemo()\n\u001b[1;32m---> 10\u001b[0m \u001b[43md1\u001b[49m\u001b[38;5;241;43m.\u001b[39;49m\u001b[43mfun1\u001b[49m\u001b[43m(\u001b[49m\u001b[43m)\u001b[49m\n",
      "\u001b[1;31mTypeError\u001b[0m: fun1() missing 2 required positional arguments: 'a' and 'b'"
     ]
    }
   ],
   "source": [
    "class demo:\n",
    "    def fun1(self):\n",
    "        print(\"No parameter\")\n",
    "    def fun1(self,a):\n",
    "        print(\"1 paramater\")\n",
    "    def fun1(self,a,b):\n",
    "        print(\"2 parameter\")\n",
    "        \n",
    "d1=demo()\n",
    "d1.fun1()"
   ]
  },
  {
   "cell_type": "code",
   "execution_count": null,
   "id": "15e81f86",
   "metadata": {},
   "outputs": [],
   "source": [
    "# Inheritance\n",
    "base class---super class---parent class\n",
    "derived class---sub class---child class\n",
    "\n",
    "1--Single Inheritance\n",
    "2--Multilevel Inheritance\n",
    "3--Multiple Inheritance\n",
    "4--Hierarchical Inheritance\n",
    "5--Hybrid Inheritance"
   ]
  },
  {
   "cell_type": "code",
   "execution_count": 24,
   "id": "b1148d0c",
   "metadata": {},
   "outputs": [
    {
     "name": "stdout",
     "output_type": "stream",
     "text": [
      "A=101\n",
      "B=895\n",
      "A=101\n"
     ]
    }
   ],
   "source": [
    "# 1--Single Inheritance\n",
    "class base:\n",
    "    def __init__(self):\n",
    "        self.a=101\n",
    "    def showvalue(self):\n",
    "        print(f\"A={self.a}\")\n",
    "        \n",
    "class derived(base):\n",
    "    def __init__(self):\n",
    "        self.b=895\n",
    "        super().__init__()\n",
    "    def showdata(self):\n",
    "        print(f\"B={self.b}\")\n",
    "        \n",
    "b1=base()\n",
    "d1=derived()\n",
    "b1.showvalue()\n",
    "# b1.showdata()\n",
    "d1.showdata()\n",
    "d1.showvalue()"
   ]
  }
 ],
 "metadata": {
  "kernelspec": {
   "display_name": "Python 3 (ipykernel)",
   "language": "python",
   "name": "python3"
  },
  "language_info": {
   "codemirror_mode": {
    "name": "ipython",
    "version": 3
   },
   "file_extension": ".py",
   "mimetype": "text/x-python",
   "name": "python",
   "nbconvert_exporter": "python",
   "pygments_lexer": "ipython3",
   "version": "3.9.12"
  }
 },
 "nbformat": 4,
 "nbformat_minor": 5
}
