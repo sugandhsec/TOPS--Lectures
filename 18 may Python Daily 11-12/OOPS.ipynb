{
 "cells": [
  {
   "cell_type": "code",
   "execution_count": null,
   "id": "5deb1e09",
   "metadata": {},
   "outputs": [],
   "source": [
    "OOPS--object orinted programming\n",
    "1--Class\n",
    "2--Object\n",
    "3--Constructor\n",
    "4--Destructor\n",
    "5--Inheritance\n",
    "6--Polymorphism\n",
    "7--Encapsulation\n",
    "8--Abstraction"
   ]
  },
  {
   "cell_type": "code",
   "execution_count": null,
   "id": "00987a69",
   "metadata": {},
   "outputs": [],
   "source": [
    "# Class\n",
    "class is a blueprint for object that how object looks like and what is inside object"
   ]
  },
  {
   "cell_type": "code",
   "execution_count": null,
   "id": "5c8e78d5",
   "metadata": {},
   "outputs": [],
   "source": [
    "class variables---data members\n",
    "class functions---method---member function"
   ]
  },
  {
   "cell_type": "code",
   "execution_count": null,
   "id": "eb3fcab2",
   "metadata": {},
   "outputs": [],
   "source": [
    "class classname:\n",
    "    data members\n",
    "    member function--methods"
   ]
  },
  {
   "cell_type": "code",
   "execution_count": 53,
   "id": "210c0d93",
   "metadata": {},
   "outputs": [],
   "source": [
    "class student:  #class\n",
    "    def getdata(self):  #method\n",
    "        self.name=input(\"Enter Name: \")\n",
    "        self.age=int(input(\"Enter Age: \"))\n",
    "        self.rollno=int(input(\"Enter Rollno: \"))\n",
    "        \n",
    "    def __init__(self):  #constructor\n",
    "        print(\"I am constrcutor\")\n",
    "        self.name=\"\"\n",
    "        self.age=\"\"\n",
    "        self.rollno=\"\"\n",
    "#         self.getdata()\n",
    "        \n",
    "    def showdata(self):\n",
    "#         print(id(self))\n",
    "        print(f\"Your name is {self.name}\\nYour age is {self.age}\\n Your Rollno is {self.rollno}\")\n",
    "    \n",
    "    def __del__(self):\n",
    "        print(\"I am Desturctor\")"
   ]
  },
  {
   "cell_type": "code",
   "execution_count": 54,
   "id": "4a66e2f9",
   "metadata": {},
   "outputs": [
    {
     "name": "stdout",
     "output_type": "stream",
     "text": [
      "I am constrcutor\n",
      "I am constrcutor\n"
     ]
    }
   ],
   "source": [
    "# objectname=classname()\n",
    "st1=student()\n",
    "st2=student() #object\n",
    "# print(id(st1))\n",
    "# st1.getdata()\n",
    "# st1.showdata()\n",
    "# st2.showdata()"
   ]
  },
  {
   "cell_type": "code",
   "execution_count": 4,
   "id": "4c4366a2",
   "metadata": {},
   "outputs": [
    {
     "name": "stdout",
     "output_type": "stream",
     "text": [
      "45\n",
      "I am zero parametr\n"
     ]
    }
   ],
   "source": [
    "a=10\n",
    "a=45\n",
    "print(a)\n",
    "def fun1(a):\n",
    "    print(\"i am one parameter\")\n",
    "\n",
    "\n",
    "def fun1():\n",
    "    print(\"I am zero parametr\")\n",
    "    \n",
    "\n",
    "fun1()"
   ]
  },
  {
   "cell_type": "code",
   "execution_count": 6,
   "id": "88ecc6bd",
   "metadata": {},
   "outputs": [
    {
     "data": {
      "text/plain": [
       "61"
      ]
     },
     "execution_count": 6,
     "metadata": {},
     "output_type": "execute_result"
    }
   ],
   "source": [
    "# polymorphism\n",
    "# operator overloading\n",
    "45+32\n",
    "25+36\n",
    "# = * f"
   ]
  },
  {
   "cell_type": "code",
   "execution_count": 16,
   "id": "27c4595a",
   "metadata": {},
   "outputs": [
    {
     "name": "stdout",
     "output_type": "stream",
     "text": [
      "134\n",
      "134\n",
      "None\n",
      "great work\n",
      "None\n",
      "Value of a is 89 and B is None\n",
      "Value of a is None and B is 45\n"
     ]
    }
   ],
   "source": [
    "class demo:\n",
    "    def __init__(self):\n",
    "        self.a=None\n",
    "        self.b=None\n",
    "    def getdata(self):\n",
    "        self.a=int(input(\"Enter Number A: \"))\n",
    "        self.b=int(input(\"Enter Number B: \"))\n",
    "    def showdata(self):\n",
    "        print(f\"Value of a is {self.a} and B is {self.b}\")\n",
    "        \n",
    "    def __add__(self,other):\n",
    "        print(self.a+other.b)\n",
    "        \n",
    "    def __sub__(self,other):\n",
    "        print(\"great work\")\n",
    "        \n",
    "d1=demo()\n",
    "d2=demo()\n",
    "d1.a=89\n",
    "d2.b=45\n",
    "print(d1.a+d2.b)\n",
    "print(d1+d2)\n",
    "print(d1-d2)\n",
    "# d1.__Add__(d2)\n",
    "d1.showdata()\n",
    "d2.showdata()"
   ]
  },
  {
   "cell_type": "code",
   "execution_count": 17,
   "id": "7998325d",
   "metadata": {},
   "outputs": [
    {
     "ename": "TypeError",
     "evalue": "fun1() missing 2 required positional arguments: 'a' and 'b'",
     "output_type": "error",
     "traceback": [
      "\u001b[1;31m---------------------------------------------------------------------------\u001b[0m",
      "\u001b[1;31mTypeError\u001b[0m                                 Traceback (most recent call last)",
      "Input \u001b[1;32mIn [17]\u001b[0m, in \u001b[0;36m<cell line: 10>\u001b[1;34m()\u001b[0m\n\u001b[0;32m      7\u001b[0m         \u001b[38;5;28mprint\u001b[39m(\u001b[38;5;124m\"\u001b[39m\u001b[38;5;124m2 parameter\u001b[39m\u001b[38;5;124m\"\u001b[39m)\n\u001b[0;32m      9\u001b[0m d1\u001b[38;5;241m=\u001b[39mdemo()\n\u001b[1;32m---> 10\u001b[0m \u001b[43md1\u001b[49m\u001b[38;5;241;43m.\u001b[39;49m\u001b[43mfun1\u001b[49m\u001b[43m(\u001b[49m\u001b[43m)\u001b[49m\n",
      "\u001b[1;31mTypeError\u001b[0m: fun1() missing 2 required positional arguments: 'a' and 'b'"
     ]
    }
   ],
   "source": [
    "class demo:\n",
    "    def fun1(self):\n",
    "        print(\"No parameter\")\n",
    "    def fun1(self,a):\n",
    "        print(\"1 paramater\")\n",
    "    def fun1(self,a,b):\n",
    "        print(\"2 parameter\")\n",
    "        \n",
    "d1=demo()\n",
    "d1.fun1()"
   ]
  },
  {
   "cell_type": "code",
   "execution_count": null,
   "id": "15e81f86",
   "metadata": {},
   "outputs": [],
   "source": [
    "# Inheritance\n",
    "base class---super class---parent class\n",
    "derived class---sub class---child class\n",
    "\n",
    "1--Single Inheritance\n",
    "2--Multilevel Inheritance\n",
    "3--Multiple Inheritance\n",
    "4--Hierarchical Inheritance\n",
    "5--Hybrid Inheritance"
   ]
  },
  {
   "cell_type": "code",
   "execution_count": 24,
   "id": "b1148d0c",
   "metadata": {},
   "outputs": [
    {
     "name": "stdout",
     "output_type": "stream",
     "text": [
      "A=101\n",
      "B=895\n",
      "A=101\n"
     ]
    }
   ],
   "source": [
    "# 1--Single Inheritance\n",
    "class base:\n",
    "    def __init__(self):\n",
    "        self.a=101\n",
    "    def showvalue(self):\n",
    "        print(f\"A={self.a}\")\n",
    "        \n",
    "class derived(base):\n",
    "    def __init__(self):\n",
    "        self.b=895\n",
    "        super().__init__()\n",
    "    def showdata(self):\n",
    "        print(f\"B={self.b}\")\n",
    "        \n",
    "b1=base()\n",
    "d1=derived()\n",
    "b1.showvalue()\n",
    "# b1.showdata()\n",
    "d1.showdata()\n",
    "d1.showvalue()"
   ]
  },
  {
   "cell_type": "code",
   "execution_count": 4,
   "id": "aff3b6e4",
   "metadata": {},
   "outputs": [
    {
     "name": "stdout",
     "output_type": "stream",
     "text": [
      "Enter Name: ytjyt\n"
     ]
    }
   ],
   "source": [
    "# Multilevel Inheritance\n",
    "class A:\n",
    "    def __init__(self):\n",
    "        self.name=None\n",
    "    def getname(self):\n",
    "        self.name=input(\"Enter Name: \")\n",
    "        \n",
    "class B(A):\n",
    "    def __init__(self):\n",
    "        self.age=None\n",
    "        super().__init__()\n",
    "    def getage(self):\n",
    "        self.age=int(input(\"Enter AGe: \"))\n",
    "        \n",
    "class C(B):\n",
    "    def __init__(self):\n",
    "        self.email=None\n",
    "        super().__init__()\n",
    "    def getemail(self):\n",
    "        self.email=input(\"Enter Email: \")\n",
    "        \n",
    "a1=A()\n",
    "b1=B()\n",
    "c1=C()\n",
    "c1.getname()"
   ]
  },
  {
   "cell_type": "code",
   "execution_count": 32,
   "id": "ded1d910",
   "metadata": {},
   "outputs": [
    {
     "name": "stdout",
     "output_type": "stream",
     "text": [
      "Hello\n",
      "Demo\n",
      "Enter AGe: rg\n"
     ]
    },
    {
     "ename": "ValueError",
     "evalue": "invalid literal for int() with base 10: 'rg'",
     "output_type": "error",
     "traceback": [
      "\u001b[1;31m---------------------------------------------------------------------------\u001b[0m",
      "\u001b[1;31mValueError\u001b[0m                                Traceback (most recent call last)",
      "Input \u001b[1;32mIn [32]\u001b[0m, in \u001b[0;36m<cell line: 27>\u001b[1;34m()\u001b[0m\n\u001b[0;32m     24\u001b[0m \u001b[38;5;66;03m# a1=A()\u001b[39;00m\n\u001b[0;32m     25\u001b[0m \u001b[38;5;66;03m# b1=B()\u001b[39;00m\n\u001b[0;32m     26\u001b[0m c1\u001b[38;5;241m=\u001b[39mC()\n\u001b[1;32m---> 27\u001b[0m \u001b[43mc1\u001b[49m\u001b[38;5;241;43m.\u001b[39;49m\u001b[43mgetage\u001b[49m\u001b[43m(\u001b[49m\u001b[43m)\u001b[49m\n\u001b[0;32m     28\u001b[0m c1\u001b[38;5;241m.\u001b[39mgetname()\n\u001b[0;32m     29\u001b[0m c1\u001b[38;5;241m.\u001b[39mgetemail()\n",
      "Input \u001b[1;32mIn [32]\u001b[0m, in \u001b[0;36mB.getage\u001b[1;34m(self)\u001b[0m\n\u001b[0;32m     13\u001b[0m \u001b[38;5;28;01mdef\u001b[39;00m \u001b[38;5;21mgetage\u001b[39m(\u001b[38;5;28mself\u001b[39m):\n\u001b[1;32m---> 14\u001b[0m     \u001b[38;5;28mself\u001b[39m\u001b[38;5;241m.\u001b[39mage\u001b[38;5;241m=\u001b[39m\u001b[38;5;28;43mint\u001b[39;49m\u001b[43m(\u001b[49m\u001b[38;5;28;43minput\u001b[39;49m\u001b[43m(\u001b[49m\u001b[38;5;124;43m\"\u001b[39;49m\u001b[38;5;124;43mEnter AGe: \u001b[39;49m\u001b[38;5;124;43m\"\u001b[39;49m\u001b[43m)\u001b[49m\u001b[43m)\u001b[49m\n",
      "\u001b[1;31mValueError\u001b[0m: invalid literal for int() with base 10: 'rg'"
     ]
    }
   ],
   "source": [
    "# Multiple Inheritance\n",
    "class A:\n",
    "    def __init__(self):\n",
    "        self.name=None\n",
    "        print(\"Hello\")\n",
    "    def getname(self):\n",
    "        self.name=input(\"Enter Name: \")\n",
    "        \n",
    "class B:\n",
    "    def __init__(self):\n",
    "        self.age=None\n",
    "        print(\"Demo\")\n",
    "    def getage(self):\n",
    "        self.age=int(input(\"Enter AGe: \"))\n",
    "        \n",
    "class C(B,A):\n",
    "    def __init__(self):\n",
    "        self.email=None\n",
    "        A.__init__(self)\n",
    "        B.__init__(self)   \n",
    "    def getemail(self):\n",
    "        self.email=input(\"Enter Email: \")\n",
    "        \n",
    "# a1=A()\n",
    "# b1=B()\n",
    "c1=C()\n",
    "c1.getage()\n",
    "c1.getname()\n",
    "c1.getemail()"
   ]
  },
  {
   "cell_type": "code",
   "execution_count": 26,
   "id": "3d9e9f76",
   "metadata": {},
   "outputs": [
    {
     "name": "stdout",
     "output_type": "stream",
     "text": [
      "Child1\n",
      "Parent\n",
      "Child2\n",
      "Parent\n",
      "Enter Email: ytuytk\n"
     ]
    },
    {
     "ename": "AttributeError",
     "evalue": "'C' object has no attribute '_A_name'",
     "output_type": "error",
     "traceback": [
      "\u001b[1;31m---------------------------------------------------------------------------\u001b[0m",
      "\u001b[1;31mAttributeError\u001b[0m                            Traceback (most recent call last)",
      "Input \u001b[1;32mIn [26]\u001b[0m, in \u001b[0;36m<cell line: 29>\u001b[1;34m()\u001b[0m\n\u001b[0;32m     27\u001b[0m c1\u001b[38;5;241m=\u001b[39mC()\n\u001b[0;32m     28\u001b[0m c1\u001b[38;5;241m.\u001b[39mgetemail()\n\u001b[1;32m---> 29\u001b[0m \u001b[38;5;28mprint\u001b[39m(\u001b[43mc1\u001b[49m\u001b[38;5;241;43m.\u001b[39;49m\u001b[43m_A_name\u001b[49m)\n",
      "\u001b[1;31mAttributeError\u001b[0m: 'C' object has no attribute '_A_name'"
     ]
    }
   ],
   "source": [
    "# hierarchical Inheritance\n",
    "class A:\n",
    "    def __init__(self):\n",
    "        self._name=None\n",
    "        print(\"Parent\")\n",
    "    def getname(self):\n",
    "        self.name=input(\"Enter Name: \")\n",
    "        \n",
    "class B(A):\n",
    "    def __init__(self):\n",
    "        self.age=None\n",
    "        print(\"Child1\")\n",
    "        super().__init__()\n",
    "    def getage(self):\n",
    "        self.age=int(input(\"Enter AGe: \"))\n",
    "        \n",
    "class C(A):\n",
    "    def __init__(self):\n",
    "        self.email=None\n",
    "        print(\"Child2\")\n",
    "        super().__init__()\n",
    "    def getemail(self):\n",
    "#         print(self.name)\n",
    "        self.email=input(\"Enter Email: \")\n",
    "\n",
    "b1=B()\n",
    "c1=C()\n",
    "c1.getemail()\n",
    "print(c1._A_name)"
   ]
  },
  {
   "cell_type": "code",
   "execution_count": 31,
   "id": "6799f40e",
   "metadata": {},
   "outputs": [
    {
     "ename": "TypeError",
     "evalue": "Can't instantiate abstract class A with abstract method getname",
     "output_type": "error",
     "traceback": [
      "\u001b[1;31m---------------------------------------------------------------------------\u001b[0m",
      "\u001b[1;31mTypeError\u001b[0m                                 Traceback (most recent call last)",
      "Input \u001b[1;32mIn [31]\u001b[0m, in \u001b[0;36m<cell line: 17>\u001b[1;34m()\u001b[0m\n\u001b[0;32m     15\u001b[0m     \u001b[38;5;28;01mdef\u001b[39;00m \u001b[38;5;21mgetage\u001b[39m(\u001b[38;5;28mself\u001b[39m):\n\u001b[0;32m     16\u001b[0m         \u001b[38;5;28mself\u001b[39m\u001b[38;5;241m.\u001b[39mage\u001b[38;5;241m=\u001b[39m\u001b[38;5;28mint\u001b[39m(\u001b[38;5;28minput\u001b[39m(\u001b[38;5;124m\"\u001b[39m\u001b[38;5;124mEnter AGe: \u001b[39m\u001b[38;5;124m\"\u001b[39m))\n\u001b[1;32m---> 17\u001b[0m a1\u001b[38;5;241m=\u001b[39m\u001b[43mA\u001b[49m\u001b[43m(\u001b[49m\u001b[43m)\u001b[49m\n\u001b[0;32m     18\u001b[0m a1\u001b[38;5;241m.\u001b[39mgetname()\n",
      "\u001b[1;31mTypeError\u001b[0m: Can't instantiate abstract class A with abstract method getname"
     ]
    }
   ],
   "source": [
    "from abc import ABC,abstractmethod #abstract class\n",
    "class A(ABC):\n",
    "    def __init__(self):\n",
    "        self._name=None\n",
    "        print(\"Parent\")\n",
    "    @abstractmethod  #decorator\n",
    "    def getname(self):\n",
    "        self.name=input(\"Enter Name: \")\n",
    "        \n",
    "class B(A):\n",
    "    def __init__(self):\n",
    "        self.age=None\n",
    "        print(\"Child1\")\n",
    "        super().__init__()\n",
    "    def getage(self):\n",
    "        self.age=int(input(\"Enter AGe: \"))\n",
    "a1=A()\n",
    "a1.getname()"
   ]
  },
  {
   "cell_type": "code",
   "execution_count": null,
   "id": "7162d8ee",
   "metadata": {},
   "outputs": [],
   "source": [
    "wefwe weger grtfdc werg \n",
    "ergev vcwege \n"
   ]
  },
  {
   "cell_type": "code",
   "execution_count": 15,
   "id": "ac66b9d5",
   "metadata": {},
   "outputs": [
    {
     "name": "stdout",
     "output_type": "stream",
     "text": [
      "30\n",
      "98\n"
     ]
    }
   ],
   "source": [
    "class demo:\n",
    "    def __init__(self):\n",
    "        self.__a=10\n",
    "        self.__b=20\n",
    "        \n",
    "    def addition(self):\n",
    "        print(self.__a+self.__b)\n",
    "        \n",
    "    def getter(self):\n",
    "        print(__a)\n",
    "        \n",
    "    def setter(self,value):\n",
    "        if type(value)!=int:\n",
    "            print(\"Not wallowed only integers allowed\")\n",
    "        else:\n",
    "            self.__a=value\n",
    "        \n",
    "d1=demo()\n",
    "d1.addition()\n",
    "# d1._demo__a=\"hello\"\n",
    "d1.setter(78)\n",
    "d1.addition()"
   ]
  },
  {
   "cell_type": "code",
   "execution_count": 19,
   "id": "b7aa8e2c",
   "metadata": {},
   "outputs": [
    {
     "name": "stdout",
     "output_type": "stream",
     "text": [
      "615.44\n",
      "210\n"
     ]
    }
   ],
   "source": [
    "class claculation:\n",
    "    \n",
    "#     def area(self,radius):\n",
    "#         return 3.14*radius*radius\n",
    "    \n",
    "    def area(self,lenth,width=0):\n",
    "        if width==0:\n",
    "            return 3.14*lenth*lenth\n",
    "        else:\n",
    "            return lenth*width\n",
    "    \n",
    "c1=claculation()\n",
    "print(c1.area(14))\n",
    "print(c1.area(15,14))"
   ]
  }
 ],
 "metadata": {
  "kernelspec": {
   "display_name": "Python 3 (ipykernel)",
   "language": "python",
   "name": "python3"
  },
  "language_info": {
   "codemirror_mode": {
    "name": "ipython",
    "version": 3
   },
   "file_extension": ".py",
   "mimetype": "text/x-python",
   "name": "python",
   "nbconvert_exporter": "python",
   "pygments_lexer": "ipython3",
   "version": "3.9.12"
  }
 },
 "nbformat": 4,
 "nbformat_minor": 5
}
