{
 "cells": [
  {
   "cell_type": "code",
   "execution_count": 3,
   "id": "293d9d69",
   "metadata": {},
   "outputs": [],
   "source": [
    "# operators\n",
    "a=10\n",
    "b=20"
   ]
  },
  {
   "cell_type": "code",
   "execution_count": 11,
   "id": "ebd6c8f1",
   "metadata": {},
   "outputs": [
    {
     "name": "stdout",
     "output_type": "stream",
     "text": [
      "30\n",
      "-10\n",
      "200\n",
      "0.5\n",
      "2\n",
      "9.5\n",
      "5.833333333333333\n"
     ]
    }
   ],
   "source": [
    "# Arithmetic Operator\n",
    "print(a+b)\n",
    "print(a-b)\n",
    "print(a*b)\n",
    "print(a/b)\n",
    "\n",
    "# %----modulus\n",
    "print(38%4)\n",
    "print(38/4)\n"
   ]
  },
  {
   "cell_type": "code",
   "execution_count": 13,
   "id": "c522d981",
   "metadata": {},
   "outputs": [
    {
     "name": "stdout",
     "output_type": "stream",
     "text": [
      "5.833333333333333\n",
      "5\n"
     ]
    }
   ],
   "source": [
    "# floor division //\n",
    "print(35/6)\n",
    "print(35//6)"
   ]
  },
  {
   "cell_type": "code",
   "execution_count": 14,
   "id": "fa67f72b",
   "metadata": {},
   "outputs": [
    {
     "name": "stdout",
     "output_type": "stream",
     "text": [
      "81\n"
     ]
    }
   ],
   "source": [
    "# power operator **\n",
    "print(3**4)\n"
   ]
  },
  {
   "cell_type": "code",
   "execution_count": 15,
   "id": "e7d98152",
   "metadata": {},
   "outputs": [
    {
     "name": "stdout",
     "output_type": "stream",
     "text": [
      "Enter Number1: 48\n",
      "Enter number2: 25\n",
      "Addition=73\n",
      "Subtraction=23\n",
      "Multi=1200\n"
     ]
    }
   ],
   "source": [
    "a=int(input(\"Enter Number1: \"))\n",
    "b=int(input(\"Enter number2: \"))\n",
    "print(f\"Addition={a+b}\\nSubtraction={a-b}\\nMulti={a*b}\")"
   ]
  },
  {
   "cell_type": "code",
   "execution_count": 21,
   "id": "ae171b0b",
   "metadata": {},
   "outputs": [
    {
     "name": "stdout",
     "output_type": "stream",
     "text": [
      "True\n",
      "True\n",
      "False\n",
      "False\n",
      "False\n",
      "True\n"
     ]
    }
   ],
   "source": [
    "# relational Operator\n",
    "# > < >= <= == !=\n",
    "print(88>45)\n",
    "print(87<112)\n",
    "print(45<=12)\n",
    "print(87>=115)\n",
    "print(45==89)\n",
    "print(45!=87)\n",
    "# Conditions"
   ]
  },
  {
   "cell_type": "code",
   "execution_count": 22,
   "id": "d8bb64ff",
   "metadata": {},
   "outputs": [
    {
     "name": "stdout",
     "output_type": "stream",
     "text": [
      "False\n",
      "True\n",
      "False\n"
     ]
    }
   ],
   "source": [
    "# logical Operator\n",
    "print(45<22)\n",
    "print(89>21)\n",
    "print(43==56)\n",
    "\n"
   ]
  },
  {
   "cell_type": "code",
   "execution_count": 26,
   "id": "3e7fc5f3",
   "metadata": {},
   "outputs": [
    {
     "name": "stdout",
     "output_type": "stream",
     "text": [
      "False\n"
     ]
    }
   ],
   "source": [
    "# Logical AND and\n",
    "If All condition is true then final result is true if atleast one is false\n",
    "the final result is false\n",
    "\n",
    "print(45<22 and 89>21 and 43==56)"
   ]
  },
  {
   "cell_type": "code",
   "execution_count": 25,
   "id": "bb1f5a02",
   "metadata": {},
   "outputs": [
    {
     "name": "stdout",
     "output_type": "stream",
     "text": [
      "True\n"
     ]
    }
   ],
   "source": [
    "# Logical OR or\n",
    "if all condition is flase the final result is false \n",
    "if atleast one condition is treu then fianl result is true\n",
    "print(45<22 or 89>21 or 43==56)"
   ]
  },
  {
   "cell_type": "code",
   "execution_count": 28,
   "id": "92bb16c0",
   "metadata": {},
   "outputs": [
    {
     "name": "stdout",
     "output_type": "stream",
     "text": [
      "True\n"
     ]
    }
   ],
   "source": [
    "# Logical NOT not\n",
    "print(not(45<21))"
   ]
  },
  {
   "cell_type": "code",
   "execution_count": null,
   "id": "cab0e55d",
   "metadata": {},
   "outputs": [],
   "source": [
    "# assignement operator\n",
    "a=45 \n",
    "# = \n",
    "# +=\n",
    "# -=\n",
    "# *=\n",
    "# /="
   ]
  },
  {
   "cell_type": "code",
   "execution_count": 29,
   "id": "3229d8bd",
   "metadata": {},
   "outputs": [
    {
     "name": "stdout",
     "output_type": "stream",
     "text": [
      "51\n"
     ]
    }
   ],
   "source": [
    "a=45\n",
    "a=a+6\n",
    "# a+=6\n",
    "print(a)"
   ]
  },
  {
   "cell_type": "code",
   "execution_count": null,
   "id": "6e33d1c2",
   "metadata": {},
   "outputs": [],
   "source": [
    "a=45\n",
    "b=a+6\n",
    "print(b)"
   ]
  },
  {
   "cell_type": "code",
   "execution_count": null,
   "id": "c2bd9d49",
   "metadata": {},
   "outputs": [],
   "source": [
    "c*=4\n",
    "c=c*4\n",
    "\n",
    "d=d>5\n",
    "d>=5"
   ]
  },
  {
   "cell_type": "code",
   "execution_count": null,
   "id": "f9e5f48d",
   "metadata": {},
   "outputs": [],
   "source": [
    "m=m-3\n",
    "m-=3\n",
    "\n",
    "k=b+5"
   ]
  },
  {
   "cell_type": "code",
   "execution_count": null,
   "id": "ceb254da",
   "metadata": {},
   "outputs": [],
   "source": [
    "z/=4\n",
    "z=z/4\n",
    "\n",
    "\n",
    "\n",
    "\n",
    "\n",
    "\n",
    "m=m+8 long hand notation\n",
    "m+=8 short hand notation\n",
    "m=8+m\n",
    "l=o+8"
   ]
  },
  {
   "cell_type": "code",
   "execution_count": 5,
   "id": "ca14b0a1",
   "metadata": {},
   "outputs": [
    {
     "name": "stdout",
     "output_type": "stream",
     "text": [
      "16\n",
      "125\n"
     ]
    }
   ],
   "source": [
    "# bitwise Operators\n",
    "# bitwise and &\n",
    "# bitwise or |\n",
    "# print(124&86)\n",
    "# print(89&62)\n",
    "# print(89|62)\n",
    "\n",
    "\n",
    "print(56&87)\n",
    "print(112|45)"
   ]
  },
  {
   "cell_type": "code",
   "execution_count": 6,
   "id": "36023203",
   "metadata": {},
   "outputs": [
    {
     "name": "stdout",
     "output_type": "stream",
     "text": [
      "10\n"
     ]
    }
   ],
   "source": [
    "# Bitwsie Right shift(>>)\n",
    "# Bitwise Left Shift(<<)\n",
    "print(87>>3)"
   ]
  },
  {
   "cell_type": "code",
   "execution_count": 7,
   "id": "82bc5916",
   "metadata": {},
   "outputs": [
    {
     "name": "stdout",
     "output_type": "stream",
     "text": [
      "460\n"
     ]
    }
   ],
   "source": [
    "print(115<<2)"
   ]
  },
  {
   "cell_type": "code",
   "execution_count": 10,
   "id": "30b8a187",
   "metadata": {},
   "outputs": [
    {
     "name": "stdout",
     "output_type": "stream",
     "text": [
      "104\n"
     ]
    }
   ],
   "source": [
    "# bitwise exculisve or XOR(^)\n",
    "print(45^69)"
   ]
  },
  {
   "cell_type": "code",
   "execution_count": null,
   "id": "0e365c40",
   "metadata": {},
   "outputs": [],
   "source": [
    "collections---iterables\n",
    "\n",
    "string\n",
    "range\n",
    "list\n",
    "tuple\n",
    "set\n",
    "dictionary"
   ]
  },
  {
   "cell_type": "code",
   "execution_count": null,
   "id": "c5fc0107",
   "metadata": {},
   "outputs": [],
   "source": []
  }
 ],
 "metadata": {
  "kernelspec": {
   "display_name": "Python 3 (ipykernel)",
   "language": "python",
   "name": "python3"
  },
  "language_info": {
   "codemirror_mode": {
    "name": "ipython",
    "version": 3
   },
   "file_extension": ".py",
   "mimetype": "text/x-python",
   "name": "python",
   "nbconvert_exporter": "python",
   "pygments_lexer": "ipython3",
   "version": "3.9.12"
  }
 },
 "nbformat": 4,
 "nbformat_minor": 5
}
