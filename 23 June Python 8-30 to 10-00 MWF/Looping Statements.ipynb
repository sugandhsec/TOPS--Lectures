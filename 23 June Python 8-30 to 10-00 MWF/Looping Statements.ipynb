{
 "cells": [
  {
   "cell_type": "code",
   "execution_count": 2,
   "id": "588bd6be",
   "metadata": {},
   "outputs": [
    {
     "name": "stdout",
     "output_type": "stream",
     "text": [
      "Good Morning\n",
      "Good Morning\n",
      "Good Morning\n",
      "Good Morning\n"
     ]
    }
   ],
   "source": [
    "print(\"Good Morning\")\n",
    "print(\"Good Morning\")\n",
    "print(\"Good Morning\")\n",
    "print(\"Good Morning\")"
   ]
  },
  {
   "cell_type": "code",
   "execution_count": null,
   "id": "237bfb5c",
   "metadata": {},
   "outputs": [],
   "source": [
    "# looping Statements\n",
    "for loop ---iterables---collection --range,str,list,tuple,set,dict\n",
    "while loop ---condition "
   ]
  },
  {
   "cell_type": "code",
   "execution_count": null,
   "id": "564c55b9",
   "metadata": {},
   "outputs": [],
   "source": [
    "for iterating_variable in iterable:\n",
    "    body of the loop"
   ]
  },
  {
   "cell_type": "code",
   "execution_count": 5,
   "id": "898f1e01",
   "metadata": {},
   "outputs": [
    {
     "name": "stdout",
     "output_type": "stream",
     "text": [
      "h\n",
      "e\n",
      "l\n",
      "l\n",
      "o\n"
     ]
    }
   ],
   "source": [
    "for i in \"hello\":\n",
    "    print(i)"
   ]
  },
  {
   "cell_type": "code",
   "execution_count": 7,
   "id": "ac9711e6",
   "metadata": {},
   "outputs": [
    {
     "name": "stdout",
     "output_type": "stream",
     "text": [
      "0\n",
      "1\n",
      "2\n",
      "3\n",
      "4\n"
     ]
    }
   ],
   "source": [
    "# range\n",
    "# range([start,]stop[,step])\n",
    "# if start is not mention then by default staert point is 0\n",
    "# if step is not mention then by default step is 1\n",
    "# print(range(1,10))\n",
    "for i in range(5):\n",
    "    print(i)"
   ]
  },
  {
   "cell_type": "code",
   "execution_count": 10,
   "id": "0149d17a",
   "metadata": {},
   "outputs": [
    {
     "name": "stdout",
     "output_type": "stream",
     "text": [
      "45\n",
      "46\n",
      "47\n",
      "48\n",
      "49\n",
      "50\n",
      "51\n",
      "52\n",
      "53\n",
      "54\n",
      "55\n"
     ]
    }
   ],
   "source": [
    "for i in range(45,56):\n",
    "    print(i)"
   ]
  },
  {
   "cell_type": "code",
   "execution_count": 12,
   "id": "a59eb6e4",
   "metadata": {},
   "outputs": [
    {
     "name": "stdout",
     "output_type": "stream",
     "text": [
      "1\n",
      "4\n",
      "7\n"
     ]
    }
   ],
   "source": [
    "for i in range(1,10,3):\n",
    "    print(i)\n",
    "    "
   ]
  },
  {
   "cell_type": "code",
   "execution_count": 14,
   "id": "0e8e84bd",
   "metadata": {},
   "outputs": [
    {
     "name": "stdout",
     "output_type": "stream",
     "text": [
      "-6\n",
      "-5\n",
      "-4\n",
      "-3\n"
     ]
    }
   ],
   "source": [
    "# negative values\n",
    "for i in range(-1,-8):\n",
    "    print(i)\n",
    "# +6 3 2 1 5 step is positive and dirctiobn is left---> right\n",
    "# -8 -5 -2 -1 when step is negative then direction is  left<--------right\n",
    "# -8 -7 -6 -5 -4 -3 -2 -1 0 1 2 3 4 5 6 7 8 9 "
   ]
  },
  {
   "cell_type": "code",
   "execution_count": 18,
   "id": "c566bda8",
   "metadata": {},
   "outputs": [],
   "source": [
    "for i in range(-6):\n",
    "    print(i)"
   ]
  },
  {
   "cell_type": "code",
   "execution_count": 21,
   "id": "e73107fe",
   "metadata": {},
   "outputs": [
    {
     "name": "stdout",
     "output_type": "stream",
     "text": [
      "Enter Number: 58\n",
      "58 X 1= 58\n",
      "58 X 2= 116\n",
      "58 X 3= 174\n",
      "58 X 4= 232\n",
      "58 X 5= 290\n",
      "58 X 6= 348\n",
      "58 X 7= 406\n",
      "58 X 8= 464\n",
      "58 X 9= 522\n",
      "58 X 10= 580\n"
     ]
    }
   ],
   "source": [
    "num=int(input(\"Enter Number: \"))\n",
    "for i in range(1,11):\n",
    "    print(f\"{num} X {i}= {num*i}\")"
   ]
  },
  {
   "cell_type": "code",
   "execution_count": null,
   "id": "96b732ad",
   "metadata": {},
   "outputs": [],
   "source": [
    "while condition:\n",
    "    body of the loop"
   ]
  },
  {
   "cell_type": "code",
   "execution_count": 1,
   "id": "bbd75241",
   "metadata": {},
   "outputs": [
    {
     "name": "stdout",
     "output_type": "stream",
     "text": [
      "wow\n",
      "wow\n",
      "wow\n",
      "wow\n",
      "wow\n",
      "wow\n",
      "wow\n",
      "wow\n",
      "wow\n",
      "wow\n",
      "wow\n",
      "wow\n",
      "wow\n",
      "wow\n",
      "wow\n"
     ]
    }
   ],
   "source": [
    "a=10\n",
    "while a<25:\n",
    "    print(\"wow\")\n",
    "    a+=1"
   ]
  },
  {
   "cell_type": "code",
   "execution_count": 2,
   "id": "27f08f22",
   "metadata": {},
   "outputs": [
    {
     "name": "stdout",
     "output_type": "stream",
     "text": [
      "9 x 1 = 9\n",
      "9 x 2 = 18\n",
      "9 x 3 = 27\n",
      "9 x 4 = 36\n",
      "9 x 5 = 45\n",
      "9 x 6 = 54\n",
      "9 x 7 = 63\n",
      "9 x 8 = 72\n",
      "9 x 9 = 81\n",
      "9 x 10 = 90\n"
     ]
    }
   ],
   "source": [
    "a=1\n",
    "while a<11:\n",
    "    print(f\"9 x {a} = {9*a}\")\n",
    "    a+=1"
   ]
  },
  {
   "cell_type": "code",
   "execution_count": null,
   "id": "7b953bd3",
   "metadata": {},
   "outputs": [],
   "source": [
    "break continue"
   ]
  },
  {
   "cell_type": "code",
   "execution_count": null,
   "id": "f049ef5b",
   "metadata": {},
   "outputs": [],
   "source": [
    "pass"
   ]
  },
  {
   "cell_type": "code",
   "execution_count": 9,
   "id": "e9837cc6",
   "metadata": {},
   "outputs": [
    {
     "name": "stdout",
     "output_type": "stream",
     "text": [
      "1\n",
      "2\n",
      "3\n",
      "4\n",
      "5\n",
      "7\n",
      "8\n",
      "9\n",
      "10\n"
     ]
    }
   ],
   "source": [
    "for i in range(1,11):\n",
    "    \n",
    "    if i==6:\n",
    "        continue\n",
    "    print(i)\n",
    "    if i==6:\n",
    "        break"
   ]
  },
  {
   "cell_type": "code",
   "execution_count": 6,
   "id": "8e262227",
   "metadata": {},
   "outputs": [
    {
     "name": "stdout",
     "output_type": "stream",
     "text": [
      "1\n",
      "2\n",
      "3\n",
      "4\n",
      "5\n",
      "7\n",
      "8\n",
      "10\n"
     ]
    }
   ],
   "source": [
    "for i in range(1,11):\n",
    "    print(\"hello Wolrd\")\n",
    "    if i==6 or i==9 :\n",
    "        continue\n",
    "    print(i)\n",
    "    "
   ]
  },
  {
   "cell_type": "code",
   "execution_count": 13,
   "id": "19fd5cb0",
   "metadata": {},
   "outputs": [
    {
     "name": "stdout",
     "output_type": "stream",
     "text": [
      "Enter Age58\n"
     ]
    }
   ],
   "source": [
    "age=int(input(\"Enter Age\"))\n",
    "if age>18:\n",
    "    pass\n",
    "else:\n",
    "    print(\"Not accepted\")"
   ]
  },
  {
   "cell_type": "code",
   "execution_count": null,
   "id": "3f5d2385",
   "metadata": {},
   "outputs": [],
   "source": []
  }
 ],
 "metadata": {
  "kernelspec": {
   "display_name": "Python 3 (ipykernel)",
   "language": "python",
   "name": "python3"
  },
  "language_info": {
   "codemirror_mode": {
    "name": "ipython",
    "version": 3
   },
   "file_extension": ".py",
   "mimetype": "text/x-python",
   "name": "python",
   "nbconvert_exporter": "python",
   "pygments_lexer": "ipython3",
   "version": "3.9.12"
  }
 },
 "nbformat": 4,
 "nbformat_minor": 5
}
