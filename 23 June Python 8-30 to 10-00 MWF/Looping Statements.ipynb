{
 "cells": [
  {
   "cell_type": "code",
   "execution_count": 2,
   "id": "588bd6be",
   "metadata": {},
   "outputs": [
    {
     "name": "stdout",
     "output_type": "stream",
     "text": [
      "Good Morning\n",
      "Good Morning\n",
      "Good Morning\n",
      "Good Morning\n"
     ]
    }
   ],
   "source": [
    "print(\"Good Morning\")\n",
    "print(\"Good Morning\")\n",
    "print(\"Good Morning\")\n",
    "print(\"Good Morning\")"
   ]
  },
  {
   "cell_type": "code",
   "execution_count": null,
   "id": "237bfb5c",
   "metadata": {},
   "outputs": [],
   "source": [
    "# looping Statements\n",
    "for loop ---iterables---collection --range,str,list,tuple,set,dict\n",
    "while loop ---condition "
   ]
  },
  {
   "cell_type": "code",
   "execution_count": null,
   "id": "564c55b9",
   "metadata": {},
   "outputs": [],
   "source": []
  }
 ],
 "metadata": {
  "kernelspec": {
   "display_name": "Python 3 (ipykernel)",
   "language": "python",
   "name": "python3"
  },
  "language_info": {
   "codemirror_mode": {
    "name": "ipython",
    "version": 3
   },
   "file_extension": ".py",
   "mimetype": "text/x-python",
   "name": "python",
   "nbconvert_exporter": "python",
   "pygments_lexer": "ipython3",
   "version": "3.9.12"
  }
 },
 "nbformat": 4,
 "nbformat_minor": 5
}
