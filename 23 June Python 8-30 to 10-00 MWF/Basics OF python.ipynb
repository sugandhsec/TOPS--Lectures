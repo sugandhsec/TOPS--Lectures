{
 "cells": [
  {
   "cell_type": "code",
   "execution_count": 4,
   "id": "5e988e1b",
   "metadata": {
    "scrolled": true
   },
   "outputs": [
    {
     "ename": "SyntaxError",
     "evalue": "invalid syntax (3795581258.py, line 4)",
     "output_type": "error",
     "traceback": [
      "\u001b[1;36m  Input \u001b[1;32mIn [4]\u001b[1;36m\u001b[0m\n\u001b[1;33m    for creating a cell above Enter A\u001b[0m\n\u001b[1;37m                 ^\u001b[0m\n\u001b[1;31mSyntaxError\u001b[0m\u001b[1;31m:\u001b[0m invalid syntax\n"
     ]
    }
   ],
   "source": [
    "# Developer screen\n",
    "# User Screen\n",
    "# New cell first press ESC---or click outside\n",
    "# for creating a cell above Enter A\n",
    "# for creating a cell below ENter B"
   ]
  },
  {
   "cell_type": "code",
   "execution_count": 8,
   "id": "4cc6160c",
   "metadata": {},
   "outputs": [
    {
     "name": "stdout",
     "output_type": "stream",
     "text": [
      "eigve vnej jerbnert\n",
      "erlije iorhgvbrfj\n",
      "etbrf 45tbhutkmiu,ioluki7\n",
      "thbjrtiocrntrug rtgurthgiuortg ert\n"
     ]
    }
   ],
   "source": [
    "print(\"eigve vnej jerbnert\")  \n",
    "print('erlije iorhgvbrfj')\n",
    "print('''etbrf 45tbhutkmiu,ioluki7''')\n",
    "print(\"\"\"thbjrtiocrntrug rtgurthgiuortg ert\"\"\")\n",
    "# String -- \" \"           ' '       ''' '''     \"\"\"   \"\"\""
   ]
  },
  {
   "cell_type": "code",
   "execution_count": 11,
   "id": "ccbed0b9",
   "metadata": {},
   "outputs": [
    {
     "name": "stdout",
     "output_type": "stream",
     "text": [
      "nnnnnnntttttbbbbb\n"
     ]
    }
   ],
   "source": [
    "print(\"nnnnnnntttttbbbbb\")"
   ]
  },
  {
   "cell_type": "code",
   "execution_count": 26,
   "id": "79ceff42",
   "metadata": {},
   "outputs": [
    {
     "ename": "SyntaxError",
     "evalue": "unexpected character after line continuation character (741519930.py, line 2)",
     "output_type": "error",
     "traceback": [
      "\u001b[1;36m  Input \u001b[1;32mIn [26]\u001b[1;36m\u001b[0m\n\u001b[1;33m    \\n---new line character\u001b[0m\n\u001b[1;37m     ^\u001b[0m\n\u001b[1;31mSyntaxError\u001b[0m\u001b[1;31m:\u001b[0m unexpected character after line continuation character\n"
     ]
    }
   ],
   "source": [
    "# Escape Sequence--- \\--backslash\n",
    "\\n---new line character\n",
    "\\t---tab space\n",
    "\\b---backspace\n",
    "\\'--single quote\n",
    "\\\"---double quote\n",
    "\n"
   ]
  },
  {
   "cell_type": "code",
   "execution_count": 48,
   "id": "07ff57be",
   "metadata": {},
   "outputs": [
    {
     "name": "stdout",
     "output_type": "stream",
     "text": [
      "vrbt\bgjkt jkegjkrt \n",
      "jkrbb\thgk\n",
      "jrt vjkhthg\n",
      "bkr\b\bt\n",
      "Hell\"o i'm Coming\n",
      "ir erjk\"uv'he r\n"
     ]
    }
   ],
   "source": [
    "print(\"vrbt\\bgjkt jkegjkrt \\njkrbb\\thgk\\njrt vjkhthg\\nbkr\\b\\bt\")\n",
    "# Hello i'm Coming\n",
    "print('Hell\"o i\\'m Coming') # demonstrate the use of single quote escape sequence\n",
    "print(\"ir erjk\\\"uv'he r\")"
   ]
  },
  {
   "cell_type": "code",
   "execution_count": 46,
   "id": "19d5cb72",
   "metadata": {},
   "outputs": [],
   "source": [
    "#comment---text which ignore by the python\n",
    "#single line comment\n",
    "# multiline comment\n",
    "\n",
    "# \"\"\"\n",
    "# grtbrtbvrtbrtbrtb\n",
    "# brtbrtbrtbrt\n",
    "# bgrbrbr\n",
    "\n",
    "# \"\"\""
   ]
  },
  {
   "cell_type": "code",
   "execution_count": null,
   "id": "58abd972",
   "metadata": {},
   "outputs": [],
   "source": [
    "Variables"
   ]
  }
 ],
 "metadata": {
  "kernelspec": {
   "display_name": "Python 3 (ipykernel)",
   "language": "python",
   "name": "python3"
  },
  "language_info": {
   "codemirror_mode": {
    "name": "ipython",
    "version": 3
   },
   "file_extension": ".py",
   "mimetype": "text/x-python",
   "name": "python",
   "nbconvert_exporter": "python",
   "pygments_lexer": "ipython3",
   "version": "3.9.12"
  }
 },
 "nbformat": 4,
 "nbformat_minor": 5
}
