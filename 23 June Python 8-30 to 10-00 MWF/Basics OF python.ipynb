{
 "cells": [
  {
   "cell_type": "code",
   "execution_count": 4,
   "id": "5e988e1b",
   "metadata": {
    "scrolled": true
   },
   "outputs": [
    {
     "ename": "SyntaxError",
     "evalue": "invalid syntax (3795581258.py, line 4)",
     "output_type": "error",
     "traceback": [
      "\u001b[1;36m  Input \u001b[1;32mIn [4]\u001b[1;36m\u001b[0m\n\u001b[1;33m    for creating a cell above Enter A\u001b[0m\n\u001b[1;37m                 ^\u001b[0m\n\u001b[1;31mSyntaxError\u001b[0m\u001b[1;31m:\u001b[0m invalid syntax\n"
     ]
    }
   ],
   "source": [
    "# Developer screen\n",
    "# User Screen\n",
    "# New cell first press ESC---or click outside\n",
    "# for creating a cell above Enter A\n",
    "# for creating a cell below ENter B"
   ]
  },
  {
   "cell_type": "code",
   "execution_count": 8,
   "id": "4cc6160c",
   "metadata": {},
   "outputs": [
    {
     "name": "stdout",
     "output_type": "stream",
     "text": [
      "eigve vnej jerbnert\n",
      "erlije iorhgvbrfj\n",
      "etbrf 45tbhutkmiu,ioluki7\n",
      "thbjrtiocrntrug rtgurthgiuortg ert\n"
     ]
    }
   ],
   "source": [
    "print(\"eigve vnej jerbnert\")  \n",
    "print('erlije iorhgvbrfj')\n",
    "print('''etbrf 45tbhutkmiu,ioluki7''')\n",
    "print(\"\"\"thbjrtiocrntrug rtgurthgiuortg ert\"\"\")\n",
    "# String -- \" \"           ' '       ''' '''     \"\"\"   \"\"\""
   ]
  },
  {
   "cell_type": "code",
   "execution_count": 11,
   "id": "ccbed0b9",
   "metadata": {},
   "outputs": [
    {
     "name": "stdout",
     "output_type": "stream",
     "text": [
      "nnnnnnntttttbbbbb\n"
     ]
    }
   ],
   "source": [
    "print(\"nnnnnnntttttbbbbb\")"
   ]
  },
  {
   "cell_type": "code",
   "execution_count": 26,
   "id": "79ceff42",
   "metadata": {},
   "outputs": [
    {
     "ename": "SyntaxError",
     "evalue": "unexpected character after line continuation character (741519930.py, line 2)",
     "output_type": "error",
     "traceback": [
      "\u001b[1;36m  Input \u001b[1;32mIn [26]\u001b[1;36m\u001b[0m\n\u001b[1;33m    \\n---new line character\u001b[0m\n\u001b[1;37m     ^\u001b[0m\n\u001b[1;31mSyntaxError\u001b[0m\u001b[1;31m:\u001b[0m unexpected character after line continuation character\n"
     ]
    }
   ],
   "source": [
    "# Escape Sequence--- \\--backslash\n",
    "\\n---new line character\n",
    "\\t---tab space\n",
    "\\b---backspace\n",
    "\\'--single quote\n",
    "\\\"---double quote\n",
    "\n"
   ]
  },
  {
   "cell_type": "code",
   "execution_count": 48,
   "id": "07ff57be",
   "metadata": {},
   "outputs": [
    {
     "name": "stdout",
     "output_type": "stream",
     "text": [
      "vrbt\bgjkt jkegjkrt \n",
      "jkrbb\thgk\n",
      "jrt vjkhthg\n",
      "bkr\b\bt\n",
      "Hell\"o i'm Coming\n",
      "ir erjk\"uv'he r\n"
     ]
    }
   ],
   "source": [
    "print(\"vrbt\\bgjkt jkegjkrt \\njkrbb\\thgk\\njrt vjkhthg\\nbkr\\b\\bt\")\n",
    "# Hello i'm Coming\n",
    "print('Hell\"o i\\'m Coming') # demonstrate the use of single quote escape sequence\n",
    "print(\"ir erjk\\\"uv'he r\")"
   ]
  },
  {
   "cell_type": "code",
   "execution_count": 46,
   "id": "19d5cb72",
   "metadata": {},
   "outputs": [],
   "source": [
    "#comment---text which ignore by the python\n",
    "#single line comment\n",
    "# multiline comment\n",
    "\n",
    "# \"\"\"\n",
    "# grtbrtbvrtbrtbrtb\n",
    "# brtbrtbrtbrt\n",
    "# bgrbrbr\n",
    "\n",
    "# \"\"\""
   ]
  },
  {
   "cell_type": "code",
   "execution_count": null,
   "id": "faedbd8a",
   "metadata": {},
   "outputs": [],
   "source": [
    "# Variables\n",
    "# variablename=value\n",
    "# variablename ---- \n",
    "name _i798thrth yuiy8i6y8_8i687\n",
    "Rule---\n",
    "1--first character should be either alphabet or underscore(_) lowercase letters uppercase letters\n",
    "2--other character should be either alphabet or underscore(_) or numbers lowercase letters\n",
    "uppercase letters\n",
    "\n",
    "Suggestions---\n",
    "1---never use space between them \n",
    "2---choose a logical name \n",
    "3----variables name cannot be a keyword\n",
    "4----length never exceed 255 character\n",
    "\n",
    "dynamically types language----loosely type language\n",
    "\n",
    "Value----\n",
    "45---integer---int\n",
    "52.32---float---\n",
    "True or False Boolean--bool\n",
    "\"jruhgvj jruv\""
   ]
  },
  {
   "cell_type": "code",
   "execution_count": 2,
   "id": "16d62339",
   "metadata": {},
   "outputs": [
    {
     "name": "stdout",
     "output_type": "stream",
     "text": [
      "<class 'int'>\n",
      "<class 'float'>\n"
     ]
    }
   ],
   "source": [
    "age=45\n",
    "print(type(age))\n",
    "age=47.23\n",
    "print(type(age))\n"
   ]
  },
  {
   "cell_type": "code",
   "execution_count": 17,
   "id": "78c2fd4c",
   "metadata": {},
   "outputs": [
    {
     "name": "stdout",
     "output_type": "stream",
     "text": [
      "Name is Sugandh age is45 wight is12.36 and result isTrue\n"
     ]
    }
   ],
   "source": [
    "name=\"Sugandh\"  #string\n",
    "age=45 #int\n",
    "weight=12.36 #floatb\n",
    "Result=True #boolean\n",
    "# name is -------- age is ----------- wight is ---------- result is ------------\n",
    "print(f\"Name is {name} age is{age} wight is{weight} and result is{Result}\") #formatted string"
   ]
  },
  {
   "cell_type": "code",
   "execution_count": 26,
   "id": "951fd08a",
   "metadata": {},
   "outputs": [
    {
     "name": "stdout",
     "output_type": "stream",
     "text": [
      "Enter Value of A: True\n",
      "value is True <class 'str'>\n"
     ]
    }
   ],
   "source": [
    "# input([message])\n",
    "a=input(\"Enter Value of A: \")\n",
    "print(f\"value is {a} {type(a)}\")\n",
    "# print(\"value of a is \",a)"
   ]
  },
  {
   "cell_type": "code",
   "execution_count": 61,
   "id": "05c0990e",
   "metadata": {},
   "outputs": [
    {
     "name": "stdout",
     "output_type": "stream",
     "text": [
      "45.23 45\n"
     ]
    }
   ],
   "source": [
    "# Type Conversion\n",
    "# type to be converted(variablename)\n",
    "a=45.23\n",
    "# b=float(a)\n",
    "b=int(a)\n",
    "print(a,b)"
   ]
  },
  {
   "cell_type": "code",
   "execution_count": 36,
   "id": "8f873c3c",
   "metadata": {},
   "outputs": [
    {
     "name": "stdout",
     "output_type": "stream",
     "text": [
      "True True\n"
     ]
    }
   ],
   "source": [
    "a=-0.000000001\n",
    "b=-12.36\n",
    "c=bool(a)\n",
    "d=bool(b)\n",
    "\n",
    "print(c,d)"
   ]
  },
  {
   "cell_type": "code",
   "execution_count": 41,
   "id": "21afc2cc",
   "metadata": {},
   "outputs": [
    {
     "name": "stdout",
     "output_type": "stream",
     "text": [
      "45 45\n",
      "48.36 48.36\n",
      "True True\n"
     ]
    },
    {
     "data": {
      "text/plain": [
       "'True'"
      ]
     },
     "execution_count": 41,
     "metadata": {},
     "output_type": "execute_result"
    }
   ],
   "source": [
    "a=45\n",
    "b=str(a)\n",
    "print(a,b)\n",
    "c=48.36\n",
    "d=str(c)\n",
    "print(c,d)\n",
    "e=True\n",
    "f=str(e)\n",
    "print(e,f)\n",
    "f"
   ]
  },
  {
   "cell_type": "code",
   "execution_count": 58,
   "id": "b1d20d2b",
   "metadata": {},
   "outputs": [
    {
     "name": "stdout",
     "output_type": "stream",
     "text": [
      "True    \n"
     ]
    },
    {
     "data": {
      "text/plain": [
       "True"
      ]
     },
     "execution_count": 58,
     "metadata": {},
     "output_type": "execute_result"
    }
   ],
   "source": [
    "str1=\"   \"\n",
    "a=bool(str1)\n",
    "print(a,str1)\n",
    "a"
   ]
  },
  {
   "cell_type": "code",
   "execution_count": null,
   "id": "8764b6f8",
   "metadata": {},
   "outputs": [],
   "source": [
    "age=int(input(\"Enter Age: \"))\n",
    "print(age)\n",
    "type(age)"
   ]
  },
  {
   "cell_type": "code",
   "execution_count": null,
   "id": "0f033d54",
   "metadata": {},
   "outputs": [],
   "source": []
  }
 ],
 "metadata": {
  "kernelspec": {
   "display_name": "Python 3 (ipykernel)",
   "language": "python",
   "name": "python3"
  },
  "language_info": {
   "codemirror_mode": {
    "name": "ipython",
    "version": 3
   },
   "file_extension": ".py",
   "mimetype": "text/x-python",
   "name": "python",
   "nbconvert_exporter": "python",
   "pygments_lexer": "ipython3",
   "version": "3.9.12"
  }
 },
 "nbformat": 4,
 "nbformat_minor": 5
}
