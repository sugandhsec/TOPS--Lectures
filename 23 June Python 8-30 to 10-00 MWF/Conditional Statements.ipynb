{
 "cells": [
  {
   "cell_type": "code",
   "execution_count": null,
   "id": "2f469847",
   "metadata": {},
   "outputs": [],
   "source": [
    "# conditional Statements\n",
    "1---Simple if\n",
    "2---if else\n",
    "3--if elif..elif...elif......else  (ladder if else)\n",
    "4--nested if else"
   ]
  },
  {
   "cell_type": "code",
   "execution_count": null,
   "id": "74c2be03",
   "metadata": {},
   "outputs": [],
   "source": [
    "# Simnple if\n",
    "if condition:\n",
    "    body of the condition "
   ]
  },
  {
   "cell_type": "code",
   "execution_count": 13,
   "id": "c0265af6",
   "metadata": {},
   "outputs": [
    {
     "name": "stdout",
     "output_type": "stream",
     "text": [
      "1\n",
      "2\n",
      "3\n",
      "7\n"
     ]
    }
   ],
   "source": [
    "# Simple if \n",
    "print(\"1\")\n",
    "print(\"2\")\n",
    "print(\"3\")\n",
    "a=5\n",
    "if a>5:\n",
    "    print(\"4\")\n",
    "    print(\"5\")\n",
    "    print(\"6\")\n",
    "print(\"7\")"
   ]
  },
  {
   "cell_type": "code",
   "execution_count": 16,
   "id": "9e445a3e",
   "metadata": {},
   "outputs": [
    {
     "name": "stdout",
     "output_type": "stream",
     "text": [
      "Enter Age: 10\n"
     ]
    }
   ],
   "source": [
    "age=int(input(\"Enter Age: \"))\n",
    "if age>18:\n",
    "    print(\"Eligible for voting\")"
   ]
  },
  {
   "cell_type": "code",
   "execution_count": null,
   "id": "8ad4cfc7",
   "metadata": {},
   "outputs": [],
   "source": [
    "# if ...else\n",
    "if condition:\n",
    "    body of if statement\n",
    "else:\n",
    "    body of else"
   ]
  },
  {
   "cell_type": "code",
   "execution_count": 18,
   "id": "a5b244c2",
   "metadata": {},
   "outputs": [
    {
     "name": "stdout",
     "output_type": "stream",
     "text": [
      "Enter Age: 10\n",
      "Not Eligible\n"
     ]
    }
   ],
   "source": [
    "age=int(input(\"Enter Age: \"))\n",
    "if age>18:\n",
    "    print(\"Eligible for voting\")\n",
    "    print(\"hello\")\n",
    "else:\n",
    "    print(\"Not Eligible\")\n",
    "    print(\"Great\")"
   ]
  },
  {
   "cell_type": "code",
   "execution_count": null,
   "id": "9351c2c3",
   "metadata": {},
   "outputs": [],
   "source": [
    "# ladder if else\n",
    "if condition1:\n",
    "    body when condition 1 is True\n",
    "elif condition2:\n",
    "    body when condition 2 is True\n",
    "elif condition3:\n",
    "    body when condition3 is True\n",
    ".\n",
    ".\n",
    ".\n",
    ".\n",
    ".\n",
    ".\n",
    "else:\n",
    "    body when not a single condition is True\n",
    "    "
   ]
  },
  {
   "cell_type": "code",
   "execution_count": 22,
   "id": "1400c614",
   "metadata": {},
   "outputs": [
    {
     "name": "stdout",
     "output_type": "stream",
     "text": [
      "Enter Percentage: 4587\n",
      "Enter Percenateg Between 1-100\n"
     ]
    }
   ],
   "source": [
    "percent=float(input(\"Enter Percentage: \"))\n",
    "if percent >90 and percent<=100:\n",
    "    print(\"A+\")\n",
    "elif percent >80 and percent<=90:\n",
    "    print(\"A\")\n",
    "elif percent >70 and percent<=80:\n",
    "    print(\"B\")\n",
    "elif percent >60 and percent<=70:\n",
    "    print(\"C\")\n",
    "elif percent >50 and percent<=60:\n",
    "    print(\"D\")\n",
    "elif percent >33 and percent<=50:\n",
    "    print(\"E\")\n",
    "elif percent >0 and percent<=33:\n",
    "    print(\"Fail\")\n",
    "else:\n",
    "    print(\"Enter Percenateg Between 1-100\")"
   ]
  },
  {
   "cell_type": "code",
   "execution_count": null,
   "id": "4ac3d69c",
   "metadata": {},
   "outputs": [],
   "source": [
    "# Nested If else\n",
    "# Greater Of Three Numbers\n",
    "a b c"
   ]
  },
  {
   "cell_type": "code",
   "execution_count": 25,
   "id": "f3bc028e",
   "metadata": {},
   "outputs": [
    {
     "name": "stdout",
     "output_type": "stream",
     "text": [
      "Not Eligible\n",
      "Great\n",
      "Enter Number1: 54\n",
      "Enter Number2: 45\n",
      "Enter Number3: 69\n",
      "69\n"
     ]
    }
   ],
   "source": [
    "print(\"Not Eligible\")\n",
    "print(\"Great\")\n",
    "a=int(input(\"Enter Number1: \"))\n",
    "b=int(input(\"Enter Number2: \"))\n",
    "c=int(input(\"Enter Number3: \"))\n",
    "if a>b:\n",
    "    if a>c:\n",
    "        print(f\"{a}\")\n",
    "    else:\n",
    "        print(f\"{c}\")\n",
    "else:\n",
    "    if b>c:\n",
    "        print(f\"{b}\")\n",
    "    else:\n",
    "        print(f\"{c}\")"
   ]
  }
 ],
 "metadata": {
  "kernelspec": {
   "display_name": "Python 3 (ipykernel)",
   "language": "python",
   "name": "python3"
  },
  "language_info": {
   "codemirror_mode": {
    "name": "ipython",
    "version": 3
   },
   "file_extension": ".py",
   "mimetype": "text/x-python",
   "name": "python",
   "nbconvert_exporter": "python",
   "pygments_lexer": "ipython3",
   "version": "3.9.12"
  }
 },
 "nbformat": 4,
 "nbformat_minor": 5
}
