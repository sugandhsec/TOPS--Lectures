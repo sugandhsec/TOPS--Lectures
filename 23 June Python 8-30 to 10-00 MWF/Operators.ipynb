{
 "cells": [
  {
   "cell_type": "code",
   "execution_count": null,
   "id": "30239f69",
   "metadata": {},
   "outputs": [],
   "source": [
    "a=10\n",
    "b=int(input(\"Enter Number\"))"
   ]
  },
  {
   "cell_type": "code",
   "execution_count": null,
   "id": "a160d554",
   "metadata": {},
   "outputs": [],
   "source": [
    "20 30 45 23.36"
   ]
  },
  {
   "cell_type": "code",
   "execution_count": 1,
   "id": "17881004",
   "metadata": {},
   "outputs": [
    {
     "data": {
      "text/plain": [
       "81"
      ]
     },
     "execution_count": 1,
     "metadata": {},
     "output_type": "execute_result"
    }
   ],
   "source": [
    "# operator\n",
    "45+36  expression\n",
    "a+b\n",
    "45 36 operands\n",
    "+ operator"
   ]
  },
  {
   "cell_type": "markdown",
   "id": "acdd8ae4",
   "metadata": {},
   "source": [
    "<h3>\n",
    "types Of operators\n",
    "\n",
    "Arithmetic Operator + - * / //(floor division) %(Modulus) **(power)\n",
    "relational Operator > < >= <= == !=\n",
    "Logical Operator and or not\n",
    "assignment operator = += -= *= /= **= \n",
    "membership operator in    not in\n",
    "identity operator is    is not\n",
    "\n",
    "<h3>\n",
    "    "
   ]
  }
 ],
 "metadata": {
  "kernelspec": {
   "display_name": "Python 3 (ipykernel)",
   "language": "python",
   "name": "python3"
  },
  "language_info": {
   "codemirror_mode": {
    "name": "ipython",
    "version": 3
   },
   "file_extension": ".py",
   "mimetype": "text/x-python",
   "name": "python",
   "nbconvert_exporter": "python",
   "pygments_lexer": "ipython3",
   "version": "3.9.12"
  }
 },
 "nbformat": 4,
 "nbformat_minor": 5
}
