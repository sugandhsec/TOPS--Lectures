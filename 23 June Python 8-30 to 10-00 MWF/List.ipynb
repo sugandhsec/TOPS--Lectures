{
 "cells": [
  {
   "cell_type": "code",
   "execution_count": null,
   "id": "e0cb8ada",
   "metadata": {},
   "outputs": [],
   "source": [
    "# list\n",
    "# list is a collection of elements of similar or different datatype\n",
    "# list is mutable so changes is possible\n",
    "# list is ordered datatype and all elements have their own index number\n",
    "# list allows duplicates\n",
    "# list is defined in []\n",
    "\n",
    "iterable----range,string,list,tuple,set,dictionary\n"
   ]
  },
  {
   "cell_type": "code",
   "execution_count": 3,
   "id": "bf082302",
   "metadata": {},
   "outputs": [
    {
     "name": "stdout",
     "output_type": "stream",
     "text": [
      "<class 'list'>\n",
      "<class 'str'>\n"
     ]
    }
   ],
   "source": [
    "list1=[125,45.36,True,\"Hello\",[45,32],(45,32),{78,58},{1:\"hello\",2:\"World\"}]\n",
    "print(type(list1))\n",
    "print(type(list1[3]))"
   ]
  },
  {
   "cell_type": "code",
   "execution_count": 5,
   "id": "df52c87e",
   "metadata": {},
   "outputs": [
    {
     "name": "stdout",
     "output_type": "stream",
     "text": [
      "[45, 65, 29, 74, 58, 96]\n"
     ]
    }
   ],
   "source": [
    "list1=[45,65,85,74,58,96]\n",
    "list1[2]=29\n",
    "print(list1)"
   ]
  },
  {
   "cell_type": "code",
   "execution_count": 11,
   "id": "4c7954af",
   "metadata": {},
   "outputs": [
    {
     "name": "stdout",
     "output_type": "stream",
     "text": [
      "[45, 65, 45, 46, 47, 48, 49, 50, 51, 52, 53, 54, 55, 96]\n"
     ]
    }
   ],
   "source": [
    "list1=[45,65,85,74,58,96]\n",
    "list1[2:5]=range(45,56)\n",
    "print(list1)"
   ]
  },
  {
   "cell_type": "code",
   "execution_count": 16,
   "id": "6b87cdc4",
   "metadata": {},
   "outputs": [
    {
     "data": {
      "text/plain": [
       "[45, 46, 47, 48, 49, 50, 51, 52, 53, 54, 55, 96]"
      ]
     },
     "execution_count": 16,
     "metadata": {},
     "output_type": "execute_result"
    }
   ],
   "source": [
    "# list slicing\n",
    "list1[2:25]"
   ]
  },
  {
   "cell_type": "code",
   "execution_count": null,
   "id": "189bdedb",
   "metadata": {},
   "outputs": [],
   "source": [
    "# list functions\n",
    "len\n",
    "min\n",
    "max\n",
    "list"
   ]
  },
  {
   "cell_type": "code",
   "execution_count": 17,
   "id": "e0801a3b",
   "metadata": {},
   "outputs": [
    {
     "name": "stdout",
     "output_type": "stream",
     "text": [
      "5\n"
     ]
    }
   ],
   "source": [
    "# len()----lenght of list\n",
    "list1=[45,25,47,85,48]\n",
    "a=len(list1)\n",
    "print(a)"
   ]
  },
  {
   "cell_type": "code",
   "execution_count": 19,
   "id": "377ed800",
   "metadata": {},
   "outputs": [
    {
     "name": "stdout",
     "output_type": "stream",
     "text": [
      "14\n"
     ]
    }
   ],
   "source": [
    "# min()minimum value from list\n",
    "list1=[45,25,32.32,45.23,14,58,96]\n",
    "a=min(list1)\n",
    "print(a)"
   ]
  },
  {
   "cell_type": "code",
   "execution_count": 23,
   "id": "a3f87747",
   "metadata": {},
   "outputs": [
    {
     "name": "stdout",
     "output_type": "stream",
     "text": [
      "96\n"
     ]
    }
   ],
   "source": [
    "list1=[45,25,32.32,45.23,14,58,96]\n",
    "a=max(list1)\n",
    "print(a)"
   ]
  },
  {
   "cell_type": "code",
   "execution_count": 20,
   "id": "d524b3f2",
   "metadata": {},
   "outputs": [
    {
     "name": "stdout",
     "output_type": "stream",
     "text": [
      "&6bdjh\n"
     ]
    }
   ],
   "source": [
    "list1=[\"hello\",\"wow\",\"&6bdjh\",\"learn\",\"wonder\"]\n",
    "print(min(list1))"
   ]
  },
  {
   "cell_type": "code",
   "execution_count": 24,
   "id": "ad4a29b3",
   "metadata": {},
   "outputs": [
    {
     "name": "stdout",
     "output_type": "stream",
     "text": [
      "wow\n"
     ]
    }
   ],
   "source": [
    "list1=[\"hello\",\"wow\",\"&6bdjh\",\"learn\",\"wonder\"]\n",
    "print(max(list1))"
   ]
  },
  {
   "cell_type": "code",
   "execution_count": 22,
   "id": "466e68c2",
   "metadata": {},
   "outputs": [
    {
     "ename": "TypeError",
     "evalue": "'<' not supported between instances of 'str' and 'int'",
     "output_type": "error",
     "traceback": [
      "\u001b[1;31m---------------------------------------------------------------------------\u001b[0m",
      "\u001b[1;31mTypeError\u001b[0m                                 Traceback (most recent call last)",
      "Input \u001b[1;32mIn [22]\u001b[0m, in \u001b[0;36m<cell line: 2>\u001b[1;34m()\u001b[0m\n\u001b[0;32m      1\u001b[0m list1\u001b[38;5;241m=\u001b[39m[\u001b[38;5;241m45\u001b[39m,\u001b[38;5;241m25\u001b[39m,\u001b[38;5;241m65\u001b[39m,\u001b[38;5;124m\"\u001b[39m\u001b[38;5;124mhello\u001b[39m\u001b[38;5;124m\"\u001b[39m,\u001b[38;5;124m\"\u001b[39m\u001b[38;5;124mworld\u001b[39m\u001b[38;5;124m\"\u001b[39m,\u001b[38;5;241m128.36\u001b[39m]\n\u001b[1;32m----> 2\u001b[0m \u001b[38;5;28mprint\u001b[39m(\u001b[38;5;28;43mmin\u001b[39;49m\u001b[43m(\u001b[49m\u001b[43mlist1\u001b[49m\u001b[43m)\u001b[49m)\n",
      "\u001b[1;31mTypeError\u001b[0m: '<' not supported between instances of 'str' and 'int'"
     ]
    }
   ],
   "source": [
    "list1=[45,25,65,\"hello\",\"world\",128.36]\n",
    "print(min(list1))"
   ]
  },
  {
   "cell_type": "code",
   "execution_count": 25,
   "id": "10c141f6",
   "metadata": {},
   "outputs": [
    {
     "ename": "TypeError",
     "evalue": "'>' not supported between instances of 'str' and 'int'",
     "output_type": "error",
     "traceback": [
      "\u001b[1;31m---------------------------------------------------------------------------\u001b[0m",
      "\u001b[1;31mTypeError\u001b[0m                                 Traceback (most recent call last)",
      "Input \u001b[1;32mIn [25]\u001b[0m, in \u001b[0;36m<cell line: 2>\u001b[1;34m()\u001b[0m\n\u001b[0;32m      1\u001b[0m list1\u001b[38;5;241m=\u001b[39m[\u001b[38;5;241m45\u001b[39m,\u001b[38;5;241m25\u001b[39m,\u001b[38;5;241m65\u001b[39m,\u001b[38;5;124m\"\u001b[39m\u001b[38;5;124mhello\u001b[39m\u001b[38;5;124m\"\u001b[39m,\u001b[38;5;124m\"\u001b[39m\u001b[38;5;124mworld\u001b[39m\u001b[38;5;124m\"\u001b[39m,\u001b[38;5;241m128.36\u001b[39m]\n\u001b[1;32m----> 2\u001b[0m \u001b[38;5;28mprint\u001b[39m(\u001b[38;5;28;43mmax\u001b[39;49m\u001b[43m(\u001b[49m\u001b[43mlist1\u001b[49m\u001b[43m)\u001b[49m)\n",
      "\u001b[1;31mTypeError\u001b[0m: '>' not supported between instances of 'str' and 'int'"
     ]
    }
   ],
   "source": [
    "list1=[45,25,65,\"hello\",\"world\",128.36]\n",
    "print(max(list1))"
   ]
  },
  {
   "cell_type": "code",
   "execution_count": 28,
   "id": "de0b62ba",
   "metadata": {},
   "outputs": [
    {
     "name": "stdout",
     "output_type": "stream",
     "text": [
      "[45, 50, 55, 60, 65]\n"
     ]
    }
   ],
   "source": [
    "list1=list(range(45,69,5))\n",
    "print(list1)"
   ]
  },
  {
   "cell_type": "code",
   "execution_count": 29,
   "id": "6560c6b6",
   "metadata": {},
   "outputs": [
    {
     "name": "stdout",
     "output_type": "stream",
     "text": [
      "['H', 'e', 'l', 'l', 'o', ' ', 'W', 'o', 'r', 'l', 'd']\n"
     ]
    }
   ],
   "source": [
    "list1=list(\"Hello World\")\n",
    "print(list1)"
   ]
  },
  {
   "cell_type": "code",
   "execution_count": 30,
   "id": "af4f424e",
   "metadata": {},
   "outputs": [
    {
     "name": "stdout",
     "output_type": "stream",
     "text": [
      "[45, 25, 47, 895]\n"
     ]
    }
   ],
   "source": [
    "list1=list((45,25,47,895))\n",
    "print(list1)"
   ]
  },
  {
   "cell_type": "code",
   "execution_count": 32,
   "id": "cb5b2dc0",
   "metadata": {},
   "outputs": [
    {
     "name": "stdout",
     "output_type": "stream",
     "text": [
      "[96, 545, 896, 48, 5865, 58, 45]\n"
     ]
    }
   ],
   "source": [
    "list1=list({48,58,96,5865,896,545,45})\n",
    "print(list1)"
   ]
  },
  {
   "cell_type": "code",
   "execution_count": 34,
   "id": "466f78e4",
   "metadata": {},
   "outputs": [],
   "source": [
    "# list methods\n",
    "# dir(list)\n",
    "list element add\n",
    "\n",
    "append\n",
    "extend\n",
    "insert\n",
    "\n",
    "list element remove \n",
    "\n",
    "pop\n",
    "remove\n",
    "\n",
    "about list  element\n",
    "\n",
    "index\n",
    "count\n",
    "\n",
    "list formatting\n",
    "\n",
    "sort\n",
    "reverse\n",
    "copy\n",
    "clear"
   ]
  },
  {
   "cell_type": "code",
   "execution_count": 36,
   "id": "884b8777",
   "metadata": {},
   "outputs": [],
   "source": [
    "#  dir(list)"
   ]
  },
  {
   "cell_type": "code",
   "execution_count": null,
   "id": "3b27b8bc",
   "metadata": {},
   "outputs": [],
   "source": [
    "list methods\n",
    "\n"
   ]
  },
  {
   "cell_type": "code",
   "execution_count": 39,
   "id": "182cb216",
   "metadata": {},
   "outputs": [
    {
     "name": "stdout",
     "output_type": "stream",
     "text": [
      "[45, 25, 698, 58, 96]\n"
     ]
    }
   ],
   "source": [
    "# append(element)----add element at last of list\n",
    "list1=[45,25,698,58]\n",
    "list1.append(96)\n",
    "print(list1)"
   ]
  },
  {
   "cell_type": "code",
   "execution_count": 43,
   "id": "74950262",
   "metadata": {},
   "outputs": [
    {
     "name": "stdout",
     "output_type": "stream",
     "text": [
      "[45, 25, 698, 58, 25, 45]\n"
     ]
    }
   ],
   "source": [
    "# extend(iterable)---add element at last of list\n",
    "list1=[45,25,698,58]\n",
    "list1.extend({45,25,45})\n",
    "print(list1)\n",
    "# list1=[4,4,4,4,4,4]"
   ]
  },
  {
   "cell_type": "code",
   "execution_count": 44,
   "id": "a82eb0f4",
   "metadata": {},
   "outputs": [
    {
     "name": "stdout",
     "output_type": "stream",
     "text": [
      "[48, 58, 'Hello', 74, 52, 14, 5]\n"
     ]
    }
   ],
   "source": [
    "# insert(index,element)---add element at given index\n",
    "list1=[48,58,74,52,14,5]\n",
    "list1.insert(2,\"Hello\")\n",
    "print(list1)"
   ]
  },
  {
   "cell_type": "code",
   "execution_count": null,
   "id": "df914995",
   "metadata": {},
   "outputs": [],
   "source": []
  }
 ],
 "metadata": {
  "kernelspec": {
   "display_name": "Python 3 (ipykernel)",
   "language": "python",
   "name": "python3"
  },
  "language_info": {
   "codemirror_mode": {
    "name": "ipython",
    "version": 3
   },
   "file_extension": ".py",
   "mimetype": "text/x-python",
   "name": "python",
   "nbconvert_exporter": "python",
   "pygments_lexer": "ipython3",
   "version": "3.9.12"
  }
 },
 "nbformat": 4,
 "nbformat_minor": 5
}
