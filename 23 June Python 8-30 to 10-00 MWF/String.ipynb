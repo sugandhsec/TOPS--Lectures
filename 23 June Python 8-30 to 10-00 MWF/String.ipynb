{
 "cells": [
  {
   "cell_type": "code",
   "execution_count": null,
   "id": "0a7802b6",
   "metadata": {},
   "outputs": [],
   "source": [
    "String is an immutable datatype\n",
    "immutable means unchangeable\n",
    "string is defined in '' \"\" ''' ''' \"\"\" \"\"\"\n",
    "string have both single line string and multiline string\n",
    "string allows duplicated\n",
    "every element in string has its index value for reference\n"
   ]
  },
  {
   "cell_type": "code",
   "execution_count": null,
   "id": "af2365fa",
   "metadata": {},
   "outputs": [],
   "source": [
    "\n",
    "varachaa                                       katargam                             Railway station"
   ]
  },
  {
   "cell_type": "code",
   "execution_count": 5,
   "id": "d3bbf87b",
   "metadata": {},
   "outputs": [
    {
     "data": {
      "text/plain": [
       "str"
      ]
     },
     "execution_count": 5,
     "metadata": {},
     "output_type": "execute_result"
    }
   ],
   "source": [
    "str1=\"Hello World\"\n",
    "str1=\"WOW Great\"\n",
    "type(str1)"
   ]
  },
  {
   "cell_type": "code",
   "execution_count": null,
   "id": "0a857c7b",
   "metadata": {},
   "outputs": [],
   "source": [
    "# string accessing"
   ]
  },
  {
   "cell_type": "code",
   "execution_count": 15,
   "id": "a0d15ea6",
   "metadata": {},
   "outputs": [
    {
     "name": "stdout",
     "output_type": "stream",
     "text": [
      "this is fun\n",
      "nuf si siht\n",
      "this is fun\n",
      " nuf si sih\n"
     ]
    }
   ],
   "source": [
    "str1=\"Hello this is fun to learn python\"\n",
    "print(str1[6:17])\n",
    "print(str1[16:5:-1])\n",
    "print(str1[-27:-16])\n",
    "print(str1[-16:-27:-1])"
   ]
  },
  {
   "cell_type": "code",
   "execution_count": null,
   "id": "131d6e7f",
   "metadata": {},
   "outputs": [],
   "source": [
    "# String Function\n",
    "len\n",
    "min\n",
    "max\n",
    "str"
   ]
  },
  {
   "cell_type": "code",
   "execution_count": 16,
   "id": "9509f914",
   "metadata": {},
   "outputs": [
    {
     "name": "stdout",
     "output_type": "stream",
     "text": [
      "14\n"
     ]
    }
   ],
   "source": [
    "# len()--calculate lenght of string\n",
    "str1=\"jrufdgj vherfb\"\n",
    "l=len(str1)\n",
    "print(l)"
   ]
  },
  {
   "cell_type": "code",
   "execution_count": 28,
   "id": "95513dae",
   "metadata": {},
   "outputs": [
    {
     "name": "stdout",
     "output_type": "stream",
     "text": [
      "*\n"
     ]
    }
   ],
   "source": [
    "# min()--minimum from string based on ASCII value\n",
    "str1=\"*456328795498s--fjkngvfj\"\n",
    "k=min(str1)\n",
    "print(k)"
   ]
  },
  {
   "cell_type": "code",
   "execution_count": 30,
   "id": "f9fa49c6",
   "metadata": {},
   "outputs": [
    {
     "name": "stdout",
     "output_type": "stream",
     "text": [
      "{\n"
     ]
    }
   ],
   "source": [
    "# max()---maximum from string based on ASCII value\n",
    "str1=\"*456328795498s--{fjkngvfj\"\n",
    "k=max(str1)\n",
    "print(k)"
   ]
  },
  {
   "cell_type": "code",
   "execution_count": 36,
   "id": "94afafeb",
   "metadata": {},
   "outputs": [
    {
     "data": {
      "text/plain": [
       "'[1, 2, 3, 4]'"
      ]
     },
     "execution_count": 36,
     "metadata": {},
     "output_type": "execute_result"
    }
   ],
   "source": [
    "str1=str([1,2,3,4])\n",
    "str1\n",
    "'1234'\n",
    "'12345678910111213141516'\n"
   ]
  },
  {
   "cell_type": "code",
   "execution_count": 40,
   "id": "c0c06722",
   "metadata": {},
   "outputs": [
    {
     "data": {
      "text/plain": [
       "'1234'"
      ]
     },
     "execution_count": 40,
     "metadata": {},
     "output_type": "execute_result"
    }
   ],
   "source": [
    "# str1=\"\".join([\"hello\",\"world\"])\n",
    "# str1=\"\".join(range(1,20))\n",
    "str1=\"\".join(['1','2','3','4'])\n",
    "str1"
   ]
  },
  {
   "cell_type": "code",
   "execution_count": 8,
   "id": "221efdd3",
   "metadata": {},
   "outputs": [
    {
     "name": "stdout",
     "output_type": "stream",
     "text": [
      "range(1, 20)\n"
     ]
    }
   ],
   "source": [
    "range(1,20)\n",
    "print(range(1,20))"
   ]
  },
  {
   "cell_type": "code",
   "execution_count": 44,
   "id": "d2aced7b",
   "metadata": {},
   "outputs": [
    {
     "ename": "IndentationError",
     "evalue": "unexpected indent (2466657791.py, line 3)",
     "output_type": "error",
     "traceback": [
      "\u001b[1;36m  Input \u001b[1;32mIn [44]\u001b[1;36m\u001b[0m\n\u001b[1;33m    ['capitalize',\u001b[0m\n\u001b[1;37m    ^\u001b[0m\n\u001b[1;31mIndentationError\u001b[0m\u001b[1;31m:\u001b[0m unexpected indent\n"
     ]
    }
   ],
   "source": [
    "# string methods\n",
    "# dir(str1)\n",
    " ['capitalize',\n",
    " 'casefold',\n",
    " 'center',\n",
    " 'count',\n",
    " 'encode',\n",
    " 'endswith',\n",
    " 'expandtabs',\n",
    " 'find',\n",
    " 'format',\n",
    " 'format_map',\n",
    " 'index',\n",
    " 'isalnum',\n",
    " 'isalpha',\n",
    " 'isascii',\n",
    " 'isdecimal',\n",
    " 'isdigit',\n",
    " 'isidentifier',\n",
    " 'islower',\n",
    " 'isnumeric',\n",
    " 'isprintable',\n",
    " 'isspace',\n",
    " 'istitle',\n",
    " 'isupper',\n",
    " 'join',\n",
    " 'ljust',\n",
    " 'lower',\n",
    " 'lstrip',\n",
    " 'maketrans',\n",
    " 'partition',\n",
    " 'removeprefix',\n",
    " 'removesuffix',\n",
    " 'replace',\n",
    " 'rfind',\n",
    " 'rindex',\n",
    " 'rjust',\n",
    " 'rpartition',\n",
    " 'rsplit',\n",
    " 'rstrip',\n",
    " 'split',\n",
    " 'splitlines',\n",
    " 'startswith',\n",
    " 'strip',\n",
    " 'swapcase',\n",
    " 'title',\n",
    " 'translate',\n",
    " 'upper',\n",
    " 'zfill']"
   ]
  },
  {
   "cell_type": "code",
   "execution_count": null,
   "id": "52416927",
   "metadata": {},
   "outputs": [],
   "source": [
    "# when we apply string methods all changes id effected in a copy of stri ng\n",
    "# but original string will never effect or change bcz its immutable"
   ]
  },
  {
   "cell_type": "code",
   "execution_count": null,
   "id": "b9a8552d",
   "metadata": {},
   "outputs": [],
   "source": [
    "len(str)\n",
    "str."
   ]
  },
  {
   "cell_type": "code",
   "execution_count": 47,
   "id": "acd52ba2",
   "metadata": {},
   "outputs": [
    {
     "name": "stdout",
     "output_type": "stream",
     "text": [
      "Hfdj jhfdbvk jsfnjk zhdnf zkwsfc mkhbfk\n",
      "hfdj jhfdbvk JSFNJK zhdnf zKWSFc mkhbfk\n"
     ]
    }
   ],
   "source": [
    "str1=\"hfdj jhfdbvk JSFNJK zhdnf zKWSFc mkhbfk\"\n",
    "print(str1.capitalize()) #uppercase first letter and remaining will be lowercase\n",
    "print(str1)"
   ]
  },
  {
   "cell_type": "code",
   "execution_count": 48,
   "id": "52bad985",
   "metadata": {},
   "outputs": [
    {
     "name": "stdout",
     "output_type": "stream",
     "text": [
      "Hfdj Jhfdbvk Jsfnjk Zhdnf Zkwsfc Mkhbfk\n"
     ]
    }
   ],
   "source": [
    "str1=\"hfdj jhfdbvk JSFNJK zhdnf zKWSFc mkhbfk\"\n",
    "print(str1.title()) #uppercase every word of string and lowercase the remaining letters of word "
   ]
  },
  {
   "cell_type": "code",
   "execution_count": 50,
   "id": "e275d296",
   "metadata": {},
   "outputs": [
    {
     "name": "stdout",
     "output_type": "stream",
     "text": [
      "Enter Yourr FUllname: SugaNDH GuPTa\n",
      "Sugandh Gupta\n"
     ]
    }
   ],
   "source": [
    "name=input(\"Enter Yourr FUllname: \")\n",
    "print(name.title())"
   ]
  },
  {
   "cell_type": "code",
   "execution_count": 58,
   "id": "8dc73f47",
   "metadata": {},
   "outputs": [
    {
     "data": {
      "text/plain": [
       "'-----------------------------------Hello hello hello how are your-----------------------------------'"
      ]
     },
     "execution_count": 58,
     "metadata": {},
     "output_type": "execute_result"
    }
   ],
   "source": [
    "str1=\"Hello hello hello how are your\"\n",
    "# str1.center(width,[\"fillchar\"])--center the whole string with given width and also we can \n",
    "# fill character in remaining spaces\n",
    "str1.center(80)\n",
    "str1.center(100,\"-\")\n",
    "# '=====================================Hello======================================'"
   ]
  },
  {
   "cell_type": "code",
   "execution_count": 60,
   "id": "21c58c02",
   "metadata": {},
   "outputs": [
    {
     "data": {
      "text/plain": [
       "'Hello hello hello how are your**************************************************'"
      ]
     },
     "execution_count": 60,
     "metadata": {},
     "output_type": "execute_result"
    }
   ],
   "source": [
    "str1=\"Hello hello hello how are your\"\n",
    "# str1.ljust(width,[\"fillchar\"])--left justify the whole string with given width and also we can \n",
    "# fill character in remaining spaces\n",
    "str1.ljust(80,\"*\")"
   ]
  },
  {
   "cell_type": "code",
   "execution_count": 61,
   "id": "a464ed51",
   "metadata": {},
   "outputs": [
    {
     "data": {
      "text/plain": [
       "'**************************************************Hello hello hello how are your'"
      ]
     },
     "execution_count": 61,
     "metadata": {},
     "output_type": "execute_result"
    }
   ],
   "source": [
    "str1=\"Hello hello hello how are your\"\n",
    "# str1.rjust(width,[\"fillchar\"])--right justify the whole string with given width and also we can \n",
    "# fill character in remaining spaces\n",
    "str1.rjust(80,\"*\")"
   ]
  },
  {
   "cell_type": "code",
   "execution_count": null,
   "id": "86bcab38",
   "metadata": {},
   "outputs": [],
   "source": [
    "str1.count(\"o\")\n",
    "str1.count(\"o\",6)\n",
    "str1.count(\"o\",6,20)\n",
    "str1.count(\"o\",96,800)"
   ]
  },
  {
   "cell_type": "code",
   "execution_count": 71,
   "id": "9ee438d6",
   "metadata": {},
   "outputs": [
    {
     "data": {
      "text/plain": [
       "4"
      ]
     },
     "execution_count": 71,
     "metadata": {},
     "output_type": "execute_result"
    }
   ],
   "source": [
    "str1=\"Hello hello hello how are your\"\n",
    "# str1.count(substring,[start],[stop])\n",
    "str1.count(\"o\")\n",
    "str1.count(\"o\",6)\n",
    "str1.count(\"o\",6,20)\n",
    "str1.count(\"o\",5,800)"
   ]
  },
  {
   "cell_type": "code",
   "execution_count": 83,
   "id": "15bbc0e3",
   "metadata": {},
   "outputs": [
    {
     "data": {
      "text/plain": [
       "13"
      ]
     },
     "execution_count": 83,
     "metadata": {},
     "output_type": "execute_result"
    }
   ],
   "source": [
    "str1=\"Hello hello hello how are your\"\n",
    "# str1.index(substring,[start],[stop]) return index of first occurence of element\n",
    "str1.index(\"e\")\n",
    "str1.index(\"e\",9)\n",
    "str1.index(\"e\",9,25)\n",
    "# str1.index(\"ex\") #---ValueError: substring not found"
   ]
  },
  {
   "cell_type": "code",
   "execution_count": 88,
   "id": "47d03a3f",
   "metadata": {},
   "outputs": [
    {
     "data": {
      "text/plain": [
       "-1"
      ]
     },
     "execution_count": 88,
     "metadata": {},
     "output_type": "execute_result"
    }
   ],
   "source": [
    "# find(substring,[strat],[stop])\n",
    "str1=\"Hello hello hello how are your\"\n",
    "str1.find(\"e\")\n",
    "str1.find(\"e\",9)\n",
    "str1.find(\"e\",9,25)\n",
    "str1.find(\"ex\")"
   ]
  },
  {
   "cell_type": "code",
   "execution_count": 93,
   "id": "5e3e9e8d",
   "metadata": {},
   "outputs": [
    {
     "name": "stdout",
     "output_type": "stream",
     "text": [
      "Enter Your string: Hello hello hello how are your\n",
      "Enter String to find: ex\n",
      "Not found\n"
     ]
    }
   ],
   "source": [
    "str1=input(\"Enter Your string: \")\n",
    "str2=input(\"Enter String to find: \")\n",
    "ans=str1.find(str2)\n",
    "if ans==-1:\n",
    "    print(\"Not found\")\n",
    "else:\n",
    "    print(ans)"
   ]
  },
  {
   "cell_type": "code",
   "execution_count": 94,
   "id": "adf4fdb6",
   "metadata": {},
   "outputs": [
    {
     "name": "stdout",
     "output_type": "stream",
     "text": [
      "hellohellohellohellohello\n"
     ]
    }
   ],
   "source": [
    "str1=\"hello\"\n",
    "print(str1*5)"
   ]
  },
  {
   "cell_type": "code",
   "execution_count": 99,
   "id": "7b619b0a",
   "metadata": {},
   "outputs": [
    {
     "name": "stdout",
     "output_type": "stream",
     "text": [
      "Enter Number: 6\n",
      "* \n",
      "* * \n",
      "* * * \n",
      "* * * * \n",
      "* * * * * \n",
      "* * * * * * \n"
     ]
    }
   ],
   "source": [
    "num=int(input(\"Enter Number: \"))\n",
    "for i in range(1,num+1):\n",
    "    str1=\"* \"*i\n",
    "    print(str1)"
   ]
  },
  {
   "cell_type": "code",
   "execution_count": 3,
   "id": "dbb5e721",
   "metadata": {},
   "outputs": [
    {
     "data": {
      "text/plain": [
       "'efne jjdnjk jbnfj ss jbdnjksndkjskefne  ke'"
      ]
     },
     "execution_count": 3,
     "metadata": {},
     "output_type": "execute_result"
    }
   ],
   "source": [
    "str1=\"efne jJDNJK jbnfj ß JBDNJKSNDKJSkefne  ke\"\n",
    "str1.casefold()#converts whole string in lowercase"
   ]
  },
  {
   "cell_type": "code",
   "execution_count": 4,
   "id": "8ad33f3a",
   "metadata": {},
   "outputs": [
    {
     "data": {
      "text/plain": [
       "'efne jjdnjk jbnfj ß jbdnjksndkjskefne  ke'"
      ]
     },
     "execution_count": 4,
     "metadata": {},
     "output_type": "execute_result"
    }
   ],
   "source": [
    "str1=\"efne jJDNJK jbnfj ß JBDNJKSNDKJSkefne  ke\"\n",
    "str1.lower()#converts whole string in lowercase"
   ]
  },
  {
   "cell_type": "code",
   "execution_count": 8,
   "id": "edc67ad1",
   "metadata": {},
   "outputs": [
    {
     "data": {
      "text/plain": [
       "False"
      ]
     },
     "execution_count": 8,
     "metadata": {},
     "output_type": "execute_result"
    }
   ],
   "source": [
    "# endswith(\"substring\",[start],[stop])\n",
    "str1=\"jkdvnjk jbnjkfbk jnjKIJNDWKIOD\"\n",
    "# str1.endswith(\"KIOD\")\n",
    "str1.endswith(\"KIOD\",12,25)"
   ]
  },
  {
   "cell_type": "code",
   "execution_count": 11,
   "id": "8c3c4dab",
   "metadata": {},
   "outputs": [
    {
     "data": {
      "text/plain": [
       "False"
      ]
     },
     "execution_count": 11,
     "metadata": {},
     "output_type": "execute_result"
    }
   ],
   "source": [
    "str1=\"JNEJF kndjkn\"\n",
    "str1.startswith(\"JNE\",5,8)"
   ]
  },
  {
   "cell_type": "code",
   "execution_count": 12,
   "id": "b22f0be9",
   "metadata": {},
   "outputs": [
    {
     "data": {
      "text/plain": [
       "'kdnkl klfdnklgvfn       '"
      ]
     },
     "execution_count": 12,
     "metadata": {},
     "output_type": "execute_result"
    }
   ],
   "source": [
    "str1=\"    kdnkl klfdnklgvfn       \"\n",
    "str1.lstrip()"
   ]
  },
  {
   "cell_type": "code",
   "execution_count": 13,
   "id": "6f00ea80",
   "metadata": {},
   "outputs": [
    {
     "data": {
      "text/plain": [
       "'    kdnkl klfdnklgvfn'"
      ]
     },
     "execution_count": 13,
     "metadata": {},
     "output_type": "execute_result"
    }
   ],
   "source": [
    "str1=\"    kdnkl klfdnklgvfn       \"\n",
    "str1.rstrip()"
   ]
  },
  {
   "cell_type": "code",
   "execution_count": 14,
   "id": "1fcbc9b9",
   "metadata": {},
   "outputs": [
    {
     "data": {
      "text/plain": [
       "'kdnkl klfdnklgvfn'"
      ]
     },
     "execution_count": 14,
     "metadata": {},
     "output_type": "execute_result"
    }
   ],
   "source": [
    "str1=\"    kdnkl klfdnklgvfn       \"\n",
    "str1.strip()"
   ]
  },
  {
   "cell_type": "code",
   "execution_count": 18,
   "id": "9af306a6",
   "metadata": {},
   "outputs": [
    {
     "name": "stdout",
     "output_type": "stream",
     "text": [
      "JDHWJ jhb\tjkhg\tvf\n"
     ]
    },
    {
     "data": {
      "text/plain": [
       "'JDHWJ jhb                jkhg                     vf'"
      ]
     },
     "execution_count": 18,
     "metadata": {},
     "output_type": "execute_result"
    }
   ],
   "source": [
    "str1=\"JDHWJ jhb\\tjkhg\\tvf\"\n",
    "print(str1)\n",
    "str1.expandtabs(25)"
   ]
  },
  {
   "cell_type": "code",
   "execution_count": 19,
   "id": "4e0ae399",
   "metadata": {},
   "outputs": [
    {
     "data": {
      "text/plain": [
       "'djhnjn Hello jnJNWorldFDJN'"
      ]
     },
     "execution_count": 19,
     "metadata": {},
     "output_type": "execute_result"
    }
   ],
   "source": [
    "str1=\"djhnjn {} jnJN{}FDJN\"\n",
    "str1.format(\"Hello\",\"World\")"
   ]
  },
  {
   "cell_type": "code",
   "execution_count": 22,
   "id": "87d04d6d",
   "metadata": {},
   "outputs": [
    {
     "data": {
      "text/plain": [
       "('JDWEIO juhfjnf ', 'JKD', 'HA jbhjkbvkhd khb')"
      ]
     },
     "execution_count": 22,
     "metadata": {},
     "output_type": "execute_result"
    }
   ],
   "source": [
    "# partition(substring)\n",
    "str1=\"JDWEIO juhfjnf JKDHA jbhjkbvkhd khb\"\n",
    "str1.partition(\"JKD\")\n",
    "# str1.partition(\"jhjkujkukio\")"
   ]
  },
  {
   "cell_type": "code",
   "execution_count": 23,
   "id": "6350eefa",
   "metadata": {},
   "outputs": [
    {
     "data": {
      "text/plain": [
       "'DJIUSDJJ JNjhnsjfn'"
      ]
     },
     "execution_count": 23,
     "metadata": {},
     "output_type": "execute_result"
    }
   ],
   "source": [
    "str1=\"djiusdjj jnJHNSJFN\"\n",
    "str1.swapcase()"
   ]
  },
  {
   "cell_type": "code",
   "execution_count": 24,
   "id": "52bc5504",
   "metadata": {},
   "outputs": [
    {
     "data": {
      "text/plain": [
       "'BCJKD JBNJKSBDNS'"
      ]
     },
     "execution_count": 24,
     "metadata": {},
     "output_type": "execute_result"
    }
   ],
   "source": [
    "str1=\"bcjkd jBNJKSBDNS\"\n",
    "str1.upper()"
   ]
  },
  {
   "cell_type": "code",
   "execution_count": 27,
   "id": "5b873936",
   "metadata": {},
   "outputs": [
    {
     "data": {
      "text/plain": [
       "'JKF jO89bvkjdnbn'"
      ]
     },
     "execution_count": 27,
     "metadata": {},
     "output_type": "execute_result"
    }
   ],
   "source": [
    "str1=\"JKF jkdbvkjdnbn\"\n",
    "str1.replace(\"kd\",\"O89\")"
   ]
  },
  {
   "cell_type": "code",
   "execution_count": 29,
   "id": "2e4c6c2c",
   "metadata": {},
   "outputs": [
    {
     "data": {
      "text/plain": [
       "True"
      ]
     },
     "execution_count": 29,
     "metadata": {},
     "output_type": "execute_result"
    }
   ],
   "source": [
    "str1=\"hjfjkgvJKBFKJBSjkfb88545\"\n",
    "str1.isalnum()"
   ]
  },
  {
   "cell_type": "code",
   "execution_count": 33,
   "id": "3c541ce6",
   "metadata": {},
   "outputs": [
    {
     "data": {
      "text/plain": [
       "False"
      ]
     },
     "execution_count": 33,
     "metadata": {},
     "output_type": "execute_result"
    }
   ],
   "source": [
    "str1=\"jhjfhbnfkvk\"\n",
    "str1.isalpha()"
   ]
  },
  {
   "cell_type": "code",
   "execution_count": 38,
   "id": "06cb0ccd",
   "metadata": {},
   "outputs": [
    {
     "name": "stdout",
     "output_type": "stream",
     "text": [
      "False\n",
      "False\n",
      "False\n"
     ]
    }
   ],
   "source": [
    "str1=\"6854684/58\" expression\n",
    "print(str1.isdecimal())\n",
    "print(str1.isdigit())\n",
    "print(str1.isnumeric())"
   ]
  },
  {
   "cell_type": "code",
   "execution_count": 40,
   "id": "68aa3955",
   "metadata": {},
   "outputs": [
    {
     "data": {
      "text/plain": [
       "False"
      ]
     },
     "execution_count": 40,
     "metadata": {},
     "output_type": "execute_result"
    }
   ],
   "source": [
    "str1=\"djkvfdn ß jdnvjkd\"\n",
    "str1.isascii()"
   ]
  },
  {
   "cell_type": "code",
   "execution_count": 42,
   "id": "e0e37757",
   "metadata": {},
   "outputs": [
    {
     "name": "stdout",
     "output_type": "stream",
     "text": [
      "djkf jk\n",
      "hfdvbk\n"
     ]
    },
    {
     "data": {
      "text/plain": [
       "False"
      ]
     },
     "execution_count": 42,
     "metadata": {},
     "output_type": "execute_result"
    }
   ],
   "source": [
    "str1=\"djkf jk\\nhfdvbk\"\n",
    "print(str1)\n",
    "str1.isprintable()"
   ]
  },
  {
   "cell_type": "code",
   "execution_count": 47,
   "id": "74399b55",
   "metadata": {},
   "outputs": [
    {
     "data": {
      "text/plain": [
       "True"
      ]
     },
     "execution_count": 47,
     "metadata": {},
     "output_type": "execute_result"
    }
   ],
   "source": [
    "str1=\"True\"\n",
    "str1.isidentifier()"
   ]
  },
  {
   "cell_type": "code",
   "execution_count": 52,
   "id": "946a4472",
   "metadata": {},
   "outputs": [
    {
     "name": "stdout",
     "output_type": "stream",
     "text": [
      "hello*world*demo\n"
     ]
    }
   ],
   "source": [
    "l1=[\"hello\",\"world\",\"demo\"]\n",
    "str1=\"*\".join(l1)\n",
    "print(str1)"
   ]
  },
  {
   "cell_type": "code",
   "execution_count": null,
   "id": "78d0b873",
   "metadata": {},
   "outputs": [],
   "source": [
    "str1.translate"
   ]
  },
  {
   "cell_type": "code",
   "execution_count": 53,
   "id": "407129f9",
   "metadata": {},
   "outputs": [
    {
     "data": {
      "text/plain": [
       "'88+32'"
      ]
     },
     "execution_count": 53,
     "metadata": {},
     "output_type": "execute_result"
    }
   ],
   "source": [
    "\"88+32\""
   ]
  },
  {
   "cell_type": "code",
   "execution_count": 54,
   "id": "47c7ba34",
   "metadata": {},
   "outputs": [
    {
     "data": {
      "text/plain": [
       "125"
      ]
     },
     "execution_count": 54,
     "metadata": {},
     "output_type": "execute_result"
    }
   ],
   "source": [
    "eval(\"89+36\")"
   ]
  },
  {
   "cell_type": "code",
   "execution_count": 55,
   "id": "c3e0ad2b",
   "metadata": {},
   "outputs": [
    {
     "data": {
      "text/plain": [
       "124"
      ]
     },
     "execution_count": 55,
     "metadata": {},
     "output_type": "execute_result"
    }
   ],
   "source": [
    "88+36"
   ]
  },
  {
   "cell_type": "code",
   "execution_count": 56,
   "id": "c6b1b782",
   "metadata": {},
   "outputs": [
    {
     "name": "stdout",
     "output_type": "stream",
     "text": [
      "Enter Your task: 88+36-89*4\n",
      "-232\n"
     ]
    }
   ],
   "source": [
    "que=input(\"Enter Your task: \")\n",
    "print(eval(que))"
   ]
  },
  {
   "cell_type": "code",
   "execution_count": 58,
   "id": "bdeb3438",
   "metadata": {},
   "outputs": [
    {
     "name": "stdout",
     "output_type": "stream",
     "text": [
      "Enter Your task: 45+\n"
     ]
    },
    {
     "ename": "ValueError",
     "evalue": "invalid literal for int() with base 10: '45+'",
     "output_type": "error",
     "traceback": [
      "\u001b[1;31m---------------------------------------------------------------------------\u001b[0m",
      "\u001b[1;31mValueError\u001b[0m                                Traceback (most recent call last)",
      "Input \u001b[1;32mIn [58]\u001b[0m, in \u001b[0;36m<cell line: 1>\u001b[1;34m()\u001b[0m\n\u001b[1;32m----> 1\u001b[0m que\u001b[38;5;241m=\u001b[39m\u001b[38;5;28;43mint\u001b[39;49m\u001b[43m(\u001b[49m\u001b[38;5;28;43minput\u001b[39;49m\u001b[43m(\u001b[49m\u001b[38;5;124;43m\"\u001b[39;49m\u001b[38;5;124;43mEnter Your task: \u001b[39;49m\u001b[38;5;124;43m\"\u001b[39;49m\u001b[43m)\u001b[49m\u001b[43m)\u001b[49m\n",
      "\u001b[1;31mValueError\u001b[0m: invalid literal for int() with base 10: '45+'"
     ]
    }
   ],
   "source": [
    "que=int(input(\"Enter Your task: \"))"
   ]
  },
  {
   "cell_type": "code",
   "execution_count": null,
   "id": "c6c7a94f",
   "metadata": {},
   "outputs": [],
   "source": []
  }
 ],
 "metadata": {
  "kernelspec": {
   "display_name": "Python 3 (ipykernel)",
   "language": "python",
   "name": "python3"
  },
  "language_info": {
   "codemirror_mode": {
    "name": "ipython",
    "version": 3
   },
   "file_extension": ".py",
   "mimetype": "text/x-python",
   "name": "python",
   "nbconvert_exporter": "python",
   "pygments_lexer": "ipython3",
   "version": "3.9.12"
  }
 },
 "nbformat": 4,
 "nbformat_minor": 5
}
