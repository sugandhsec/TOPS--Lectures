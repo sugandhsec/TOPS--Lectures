{
 "cells": [
  {
   "cell_type": "code",
   "execution_count": null,
   "id": "0a7802b6",
   "metadata": {},
   "outputs": [],
   "source": [
    "String is an immutable datatype\n",
    "immutable means unchangeable\n",
    "string is defined in '' \"\" ''' ''' \"\"\" \"\"\"\n",
    "string have both single line string and multiline string\n",
    "string allows duplicated\n",
    "every element in string has its index value for reference\n"
   ]
  },
  {
   "cell_type": "code",
   "execution_count": null,
   "id": "af2365fa",
   "metadata": {},
   "outputs": [],
   "source": [
    "\n",
    "varachaa                                       katargam                             Railway station"
   ]
  },
  {
   "cell_type": "code",
   "execution_count": 5,
   "id": "d3bbf87b",
   "metadata": {},
   "outputs": [
    {
     "data": {
      "text/plain": [
       "str"
      ]
     },
     "execution_count": 5,
     "metadata": {},
     "output_type": "execute_result"
    }
   ],
   "source": [
    "str1=\"Hello World\"\n",
    "str1=\"WOW Great\"\n",
    "type(str1)"
   ]
  },
  {
   "cell_type": "code",
   "execution_count": null,
   "id": "0a857c7b",
   "metadata": {},
   "outputs": [],
   "source": [
    "# string accessing"
   ]
  },
  {
   "cell_type": "code",
   "execution_count": 15,
   "id": "a0d15ea6",
   "metadata": {},
   "outputs": [
    {
     "name": "stdout",
     "output_type": "stream",
     "text": [
      "this is fun\n",
      "nuf si siht\n",
      "this is fun\n",
      " nuf si sih\n"
     ]
    }
   ],
   "source": [
    "str1=\"Hello this is fun to learn python\"\n",
    "print(str1[6:17])\n",
    "print(str1[16:5:-1])\n",
    "print(str1[-27:-16])\n",
    "print(str1[-16:-27:-1])"
   ]
  },
  {
   "cell_type": "code",
   "execution_count": null,
   "id": "131d6e7f",
   "metadata": {},
   "outputs": [],
   "source": [
    "# String Function\n",
    "len\n",
    "min\n",
    "max\n",
    "str"
   ]
  },
  {
   "cell_type": "code",
   "execution_count": 16,
   "id": "9509f914",
   "metadata": {},
   "outputs": [
    {
     "name": "stdout",
     "output_type": "stream",
     "text": [
      "14\n"
     ]
    }
   ],
   "source": [
    "# len()--calculate lenght of string\n",
    "str1=\"jrufdgj vherfb\"\n",
    "l=len(str1)\n",
    "print(l)"
   ]
  },
  {
   "cell_type": "code",
   "execution_count": 28,
   "id": "95513dae",
   "metadata": {},
   "outputs": [
    {
     "name": "stdout",
     "output_type": "stream",
     "text": [
      "*\n"
     ]
    }
   ],
   "source": [
    "# min()--minimum from string based on ASCII value\n",
    "str1=\"*456328795498s--fjkngvfj\"\n",
    "k=min(str1)\n",
    "print(k)"
   ]
  },
  {
   "cell_type": "code",
   "execution_count": 30,
   "id": "f9fa49c6",
   "metadata": {},
   "outputs": [
    {
     "name": "stdout",
     "output_type": "stream",
     "text": [
      "{\n"
     ]
    }
   ],
   "source": [
    "# max()---maximum from string based on ASCII value\n",
    "str1=\"*456328795498s--{fjkngvfj\"\n",
    "k=max(str1)\n",
    "print(k)"
   ]
  },
  {
   "cell_type": "code",
   "execution_count": 36,
   "id": "94afafeb",
   "metadata": {},
   "outputs": [
    {
     "data": {
      "text/plain": [
       "'[1, 2, 3, 4]'"
      ]
     },
     "execution_count": 36,
     "metadata": {},
     "output_type": "execute_result"
    }
   ],
   "source": [
    "str1=str([1,2,3,4])\n",
    "str1\n",
    "'1234'\n",
    "'12345678910111213141516'\n"
   ]
  },
  {
   "cell_type": "code",
   "execution_count": 40,
   "id": "c0c06722",
   "metadata": {},
   "outputs": [
    {
     "data": {
      "text/plain": [
       "'1234'"
      ]
     },
     "execution_count": 40,
     "metadata": {},
     "output_type": "execute_result"
    }
   ],
   "source": [
    "# str1=\"\".join([\"hello\",\"world\"])\n",
    "# str1=\"\".join(range(1,20))\n",
    "str1=\"\".join(['1','2','3','4'])\n",
    "str1"
   ]
  },
  {
   "cell_type": "code",
   "execution_count": 8,
   "id": "221efdd3",
   "metadata": {},
   "outputs": [
    {
     "name": "stdout",
     "output_type": "stream",
     "text": [
      "range(1, 20)\n"
     ]
    }
   ],
   "source": [
    "range(1,20)\n",
    "print(range(1,20))"
   ]
  },
  {
   "cell_type": "code",
   "execution_count": 44,
   "id": "d2aced7b",
   "metadata": {},
   "outputs": [
    {
     "ename": "IndentationError",
     "evalue": "unexpected indent (2466657791.py, line 3)",
     "output_type": "error",
     "traceback": [
      "\u001b[1;36m  Input \u001b[1;32mIn [44]\u001b[1;36m\u001b[0m\n\u001b[1;33m    ['capitalize',\u001b[0m\n\u001b[1;37m    ^\u001b[0m\n\u001b[1;31mIndentationError\u001b[0m\u001b[1;31m:\u001b[0m unexpected indent\n"
     ]
    }
   ],
   "source": [
    "# string methods\n",
    "# dir(str1)\n",
    " ['capitalize',\n",
    " 'casefold',\n",
    " 'center',\n",
    " 'count',\n",
    " 'encode',\n",
    " 'endswith',\n",
    " 'expandtabs',\n",
    " 'find',\n",
    " 'format',\n",
    " 'format_map',\n",
    " 'index',\n",
    " 'isalnum',\n",
    " 'isalpha',\n",
    " 'isascii',\n",
    " 'isdecimal',\n",
    " 'isdigit',\n",
    " 'isidentifier',\n",
    " 'islower',\n",
    " 'isnumeric',\n",
    " 'isprintable',\n",
    " 'isspace',\n",
    " 'istitle',\n",
    " 'isupper',\n",
    " 'join',\n",
    " 'ljust',\n",
    " 'lower',\n",
    " 'lstrip',\n",
    " 'maketrans',\n",
    " 'partition',\n",
    " 'removeprefix',\n",
    " 'removesuffix',\n",
    " 'replace',\n",
    " 'rfind',\n",
    " 'rindex',\n",
    " 'rjust',\n",
    " 'rpartition',\n",
    " 'rsplit',\n",
    " 'rstrip',\n",
    " 'split',\n",
    " 'splitlines',\n",
    " 'startswith',\n",
    " 'strip',\n",
    " 'swapcase',\n",
    " 'title',\n",
    " 'translate',\n",
    " 'upper',\n",
    " 'zfill']"
   ]
  },
  {
   "cell_type": "code",
   "execution_count": null,
   "id": "52416927",
   "metadata": {},
   "outputs": [],
   "source": [
    "# when we apply string methods all changes id effected in a copy of stri ng\n",
    "# but original string will never effect or change bcz its immutable"
   ]
  },
  {
   "cell_type": "code",
   "execution_count": null,
   "id": "b9a8552d",
   "metadata": {},
   "outputs": [],
   "source": [
    "len(str)\n",
    "str."
   ]
  },
  {
   "cell_type": "code",
   "execution_count": 47,
   "id": "acd52ba2",
   "metadata": {},
   "outputs": [
    {
     "name": "stdout",
     "output_type": "stream",
     "text": [
      "Hfdj jhfdbvk jsfnjk zhdnf zkwsfc mkhbfk\n",
      "hfdj jhfdbvk JSFNJK zhdnf zKWSFc mkhbfk\n"
     ]
    }
   ],
   "source": [
    "str1=\"hfdj jhfdbvk JSFNJK zhdnf zKWSFc mkhbfk\"\n",
    "print(str1.capitalize()) #uppercase first letter and remaining will be lowercase\n",
    "print(str1)"
   ]
  },
  {
   "cell_type": "code",
   "execution_count": 48,
   "id": "52bad985",
   "metadata": {},
   "outputs": [
    {
     "name": "stdout",
     "output_type": "stream",
     "text": [
      "Hfdj Jhfdbvk Jsfnjk Zhdnf Zkwsfc Mkhbfk\n"
     ]
    }
   ],
   "source": [
    "str1=\"hfdj jhfdbvk JSFNJK zhdnf zKWSFc mkhbfk\"\n",
    "print(str1.title()) #uppercase every word of string and lowercase the remaining letters of word "
   ]
  },
  {
   "cell_type": "code",
   "execution_count": 50,
   "id": "e275d296",
   "metadata": {},
   "outputs": [
    {
     "name": "stdout",
     "output_type": "stream",
     "text": [
      "Enter Yourr FUllname: SugaNDH GuPTa\n",
      "Sugandh Gupta\n"
     ]
    }
   ],
   "source": [
    "name=input(\"Enter Yourr FUllname: \")\n",
    "print(name.title())"
   ]
  },
  {
   "cell_type": "code",
   "execution_count": 58,
   "id": "8dc73f47",
   "metadata": {},
   "outputs": [
    {
     "data": {
      "text/plain": [
       "'-----------------------------------Hello hello hello how are your-----------------------------------'"
      ]
     },
     "execution_count": 58,
     "metadata": {},
     "output_type": "execute_result"
    }
   ],
   "source": [
    "str1=\"Hello hello hello how are your\"\n",
    "# str1.center(width,[\"fillchar\"])--center the whole string with given width and also we can \n",
    "# fill character in remaining spaces\n",
    "str1.center(80)\n",
    "str1.center(100,\"-\")\n",
    "# '=====================================Hello======================================'"
   ]
  },
  {
   "cell_type": "code",
   "execution_count": 60,
   "id": "21c58c02",
   "metadata": {},
   "outputs": [
    {
     "data": {
      "text/plain": [
       "'Hello hello hello how are your**************************************************'"
      ]
     },
     "execution_count": 60,
     "metadata": {},
     "output_type": "execute_result"
    }
   ],
   "source": [
    "str1=\"Hello hello hello how are your\"\n",
    "# str1.ljust(width,[\"fillchar\"])--left justify the whole string with given width and also we can \n",
    "# fill character in remaining spaces\n",
    "str1.ljust(80,\"*\")"
   ]
  },
  {
   "cell_type": "code",
   "execution_count": 61,
   "id": "a464ed51",
   "metadata": {},
   "outputs": [
    {
     "data": {
      "text/plain": [
       "'**************************************************Hello hello hello how are your'"
      ]
     },
     "execution_count": 61,
     "metadata": {},
     "output_type": "execute_result"
    }
   ],
   "source": [
    "str1=\"Hello hello hello how are your\"\n",
    "# str1.rjust(width,[\"fillchar\"])--right justify the whole string with given width and also we can \n",
    "# fill character in remaining spaces\n",
    "str1.rjust(80,\"*\")"
   ]
  },
  {
   "cell_type": "code",
   "execution_count": null,
   "id": "86bcab38",
   "metadata": {},
   "outputs": [],
   "source": [
    "str1.count(\"o\")\n",
    "str1.count(\"o\",6)\n",
    "str1.count(\"o\",6,20)\n",
    "str1.count(\"o\",96,800)"
   ]
  },
  {
   "cell_type": "code",
   "execution_count": 71,
   "id": "9ee438d6",
   "metadata": {},
   "outputs": [
    {
     "data": {
      "text/plain": [
       "4"
      ]
     },
     "execution_count": 71,
     "metadata": {},
     "output_type": "execute_result"
    }
   ],
   "source": [
    "str1=\"Hello hello hello how are your\"\n",
    "# str1.count(substring,[start],[stop])\n",
    "str1.count(\"o\")\n",
    "str1.count(\"o\",6)\n",
    "str1.count(\"o\",6,20)\n",
    "str1.count(\"o\",5,800)"
   ]
  },
  {
   "cell_type": "code",
   "execution_count": 83,
   "id": "15bbc0e3",
   "metadata": {},
   "outputs": [
    {
     "data": {
      "text/plain": [
       "13"
      ]
     },
     "execution_count": 83,
     "metadata": {},
     "output_type": "execute_result"
    }
   ],
   "source": [
    "str1=\"Hello hello hello how are your\"\n",
    "# str1.index(substring,[start],[stop]) return index of first occurence of element\n",
    "str1.index(\"e\")\n",
    "str1.index(\"e\",9)\n",
    "str1.index(\"e\",9,25)\n",
    "# str1.index(\"ex\") #---ValueError: substring not found"
   ]
  },
  {
   "cell_type": "code",
   "execution_count": 88,
   "id": "47d03a3f",
   "metadata": {},
   "outputs": [
    {
     "data": {
      "text/plain": [
       "-1"
      ]
     },
     "execution_count": 88,
     "metadata": {},
     "output_type": "execute_result"
    }
   ],
   "source": [
    "# find(substring,[strat],[stop])\n",
    "str1=\"Hello hello hello how are your\"\n",
    "str1.find(\"e\")\n",
    "str1.find(\"e\",9)\n",
    "str1.find(\"e\",9,25)\n",
    "str1.find(\"ex\")"
   ]
  },
  {
   "cell_type": "code",
   "execution_count": 93,
   "id": "5e3e9e8d",
   "metadata": {},
   "outputs": [
    {
     "name": "stdout",
     "output_type": "stream",
     "text": [
      "Enter Your string: Hello hello hello how are your\n",
      "Enter String to find: ex\n",
      "Not found\n"
     ]
    }
   ],
   "source": [
    "str1=input(\"Enter Your string: \")\n",
    "str2=input(\"Enter String to find: \")\n",
    "ans=str1.find(str2)\n",
    "if ans==-1:\n",
    "    print(\"Not found\")\n",
    "else:\n",
    "    print(ans)"
   ]
  },
  {
   "cell_type": "code",
   "execution_count": 94,
   "id": "adf4fdb6",
   "metadata": {},
   "outputs": [
    {
     "name": "stdout",
     "output_type": "stream",
     "text": [
      "hellohellohellohellohello\n"
     ]
    }
   ],
   "source": [
    "str1=\"hello\"\n",
    "print(str1*5)"
   ]
  },
  {
   "cell_type": "code",
   "execution_count": 99,
   "id": "7b619b0a",
   "metadata": {},
   "outputs": [
    {
     "name": "stdout",
     "output_type": "stream",
     "text": [
      "Enter Number: 6\n",
      "* \n",
      "* * \n",
      "* * * \n",
      "* * * * \n",
      "* * * * * \n",
      "* * * * * * \n"
     ]
    }
   ],
   "source": [
    "num=int(input(\"Enter Number: \"))\n",
    "for i in range(1,num+1):\n",
    "    str1=\"* \"*i\n",
    "    print(str1)"
   ]
  },
  {
   "cell_type": "code",
   "execution_count": null,
   "id": "8ad33f3a",
   "metadata": {},
   "outputs": [],
   "source": []
  }
 ],
 "metadata": {
  "kernelspec": {
   "display_name": "Python 3 (ipykernel)",
   "language": "python",
   "name": "python3"
  },
  "language_info": {
   "codemirror_mode": {
    "name": "ipython",
    "version": 3
   },
   "file_extension": ".py",
   "mimetype": "text/x-python",
   "name": "python",
   "nbconvert_exporter": "python",
   "pygments_lexer": "ipython3",
   "version": "3.9.12"
  }
 },
 "nbformat": 4,
 "nbformat_minor": 5
}
