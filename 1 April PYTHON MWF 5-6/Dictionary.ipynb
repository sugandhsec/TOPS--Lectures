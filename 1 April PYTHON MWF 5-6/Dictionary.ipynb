{
 "cells": [
  {
   "cell_type": "code",
   "execution_count": null,
   "id": "a2595dd3",
   "metadata": {},
   "outputs": [],
   "source": [
    "# dictionary\n",
    "# dictionary is an unordered datatype\n",
    "# dictionary is also defined in {}\n",
    "# dictionary allows duplicates values\n",
    "# dictionary is a collection having key and value pairs"
   ]
  },
  {
   "cell_type": "code",
   "execution_count": 4,
   "id": "14a960db",
   "metadata": {},
   "outputs": [
    {
     "name": "stdout",
     "output_type": "stream",
     "text": [
      "{1: 12, 45.32: 89.36, False: True, 'String': 'Hello', 'list': [78, 96, 54], (45, 36): (78, 32), 'set': {56, 98}, 'dict': {2: 'dot'}}\n"
     ]
    }
   ],
   "source": [
    "dict1={1:12,45.32:89.36,False:True,\"String\":\"Hello\",\"list\":[78,96,54],(45,36):(78,32),\"set\":{56,98},\"dict\":{2:\"dot\"}}\n",
    "print(dict1)"
   ]
  },
  {
   "cell_type": "code",
   "execution_count": null,
   "id": "783b2e65",
   "metadata": {},
   "outputs": [],
   "source": [
    "# every immutable element is allowed in key\n",
    "# every immutable or mutable both allow in values"
   ]
  },
  {
   "cell_type": "code",
   "execution_count": 5,
   "id": "e5e5078f",
   "metadata": {},
   "outputs": [
    {
     "data": {
      "text/plain": [
       "['__class__',\n",
       " '__class_getitem__',\n",
       " '__contains__',\n",
       " '__delattr__',\n",
       " '__delitem__',\n",
       " '__dir__',\n",
       " '__doc__',\n",
       " '__eq__',\n",
       " '__format__',\n",
       " '__ge__',\n",
       " '__getattribute__',\n",
       " '__getitem__',\n",
       " '__gt__',\n",
       " '__hash__',\n",
       " '__init__',\n",
       " '__init_subclass__',\n",
       " '__ior__',\n",
       " '__iter__',\n",
       " '__le__',\n",
       " '__len__',\n",
       " '__lt__',\n",
       " '__ne__',\n",
       " '__new__',\n",
       " '__or__',\n",
       " '__reduce__',\n",
       " '__reduce_ex__',\n",
       " '__repr__',\n",
       " '__reversed__',\n",
       " '__ror__',\n",
       " '__setattr__',\n",
       " '__setitem__',\n",
       " '__sizeof__',\n",
       " '__str__',\n",
       " '__subclasshook__',\n",
       " 'clear',\n",
       " 'copy',\n",
       " 'fromkeys',\n",
       " 'get',\n",
       " 'items',\n",
       " 'keys',\n",
       " 'pop',\n",
       " 'popitem',\n",
       " 'setdefault',\n",
       " 'update',\n",
       " 'values']"
      ]
     },
     "execution_count": 5,
     "metadata": {},
     "output_type": "execute_result"
    }
   ],
   "source": [
    "list(dir(dict))"
   ]
  },
  {
   "cell_type": "code",
   "execution_count": 10,
   "id": "f1883abe",
   "metadata": {},
   "outputs": [
    {
     "name": "stdout",
     "output_type": "stream",
     "text": [
      "{1: 45, 56: 'Hello', 23: 45, 45: 987}\n",
      "dict_keys([1, 56, 23, 45])\n",
      "dict_values([45, 'Hello', 45, 987])\n",
      "dict_items([(1, 45), (56, 'Hello'), (23, 45), (45, 987)])\n"
     ]
    }
   ],
   "source": [
    "dict1={1:45,56:89,23:45,56:78,45:23,45:987,56:\"Hello\"}\n",
    "print(dict1)\n",
    "print(dict1.keys())\n",
    "print(dict1.values())\n",
    "print(dict1.items())"
   ]
  },
  {
   "cell_type": "code",
   "execution_count": 31,
   "id": "1638b59b",
   "metadata": {},
   "outputs": [
    {
     "name": "stdout",
     "output_type": "stream",
     "text": [
      "{1: 45, 56: 'Hello', 23: 45, 45: 987}\n",
      "not found\n"
     ]
    }
   ],
   "source": [
    "dict1={1:45,56:89,23:45,56:78,45:23,45:987,56:\"Hello\"}\n",
    "ans=dict1.get(568,\"not found\")#give value from key\n",
    "print(dict1)\n",
    "print(ans)"
   ]
  },
  {
   "cell_type": "code",
   "execution_count": 29,
   "id": "7432bd69",
   "metadata": {},
   "outputs": [
    {
     "name": "stdout",
     "output_type": "stream",
     "text": [
      "{1: 45, 56: 'Hello', 23: 45, 45: 987}\n",
      "Hello\n"
     ]
    }
   ],
   "source": [
    "dict1={1:45,56:89,23:45,56:78,45:23,45:987,56:\"Hello\"}\n",
    "ans=dict1.setdefault(56,\"wow\")#give value from key\n",
    "print(dict1)\n",
    "print(ans)"
   ]
  },
  {
   "cell_type": "code",
   "execution_count": 34,
   "id": "82b33fc5",
   "metadata": {},
   "outputs": [
    {
     "name": "stdout",
     "output_type": "stream",
     "text": [
      "{1: 'hello', 2: 'hello', 3: 'hello', 4: 'hello', 5: 'hello', 6: 'hello', 7: 'hello', 8: 'hello', 9: 'hello'}\n"
     ]
    }
   ],
   "source": [
    "list1=range(1,10)\n",
    "x=\"hello\"\n",
    "dict1=dict.fromkeys(list1,x)\n",
    "print(dict1)"
   ]
  },
  {
   "cell_type": "code",
   "execution_count": 37,
   "id": "fee68a89",
   "metadata": {},
   "outputs": [
    {
     "name": "stdout",
     "output_type": "stream",
     "text": [
      "{1: 45, 23: 45, 45: 23, 56: 'Hello', 569: 'Great'}\n"
     ]
    }
   ],
   "source": [
    "dict1={1:45,23:45,45:23,56:\"Hello\"}\n",
    "dict1.update({569:\"Great\"})\n",
    "print(dict1)"
   ]
  },
  {
   "cell_type": "code",
   "execution_count": 43,
   "id": "c1451862",
   "metadata": {},
   "outputs": [
    {
     "name": "stdout",
     "output_type": "stream",
     "text": [
      "{1: 45, 23: 45, 45: 23}\n"
     ]
    }
   ],
   "source": [
    "dict1={1:45,23:45,45:23,56:\"Hello\"}\n",
    "dict1.pop(56)\n",
    "print(dict1)"
   ]
  },
  {
   "cell_type": "code",
   "execution_count": 45,
   "id": "d8affa3f",
   "metadata": {},
   "outputs": [
    {
     "name": "stdout",
     "output_type": "stream",
     "text": [
      "{1: 45, 23: 45, 45: 23}\n"
     ]
    }
   ],
   "source": [
    "dict1={1:45,23:45,45:23,56:\"Hello\"}\n",
    "dict1.popitem()\n",
    "print(dict1)"
   ]
  },
  {
   "cell_type": "code",
   "execution_count": 52,
   "id": "a2a7b452",
   "metadata": {},
   "outputs": [
    {
     "name": "stdout",
     "output_type": "stream",
     "text": [
      "[98, 84, 14, 889, 896, 56]\n"
     ]
    }
   ],
   "source": [
    "list1=[45,98,74,59,84,52,14,59,889,695,48,896,54,869,545,659,56,65]\n",
    "# list2=[]\n",
    "# for i in list1:\n",
    "#     if i%7==0:\n",
    "#         list2.append(i)\n",
    "list2=[i for i in list1 if i%7==0]\n",
    "print(list2)"
   ]
  },
  {
   "cell_type": "code",
   "execution_count": null,
   "id": "3289dedf",
   "metadata": {},
   "outputs": [],
   "source": [
    "# listname=[value for i in list if condition\n",
    "]"
   ]
  },
  {
   "cell_type": "code",
   "execution_count": 56,
   "id": "3e39ef15",
   "metadata": {},
   "outputs": [
    {
     "name": "stdout",
     "output_type": "stream",
     "text": [
      "Enter String: grthrthht\n",
      "['r', 'h', 'g', 't']\n"
     ]
    }
   ],
   "source": [
    "str1=input(\"Enter String: \")\n",
    "list1=[i for i in str1 if i not in \"aeiou\"]\n",
    "print(list(set(list1)))"
   ]
  }
 ],
 "metadata": {
  "kernelspec": {
   "display_name": "Python 3 (ipykernel)",
   "language": "python",
   "name": "python3"
  },
  "language_info": {
   "codemirror_mode": {
    "name": "ipython",
    "version": 3
   },
   "file_extension": ".py",
   "mimetype": "text/x-python",
   "name": "python",
   "nbconvert_exporter": "python",
   "pygments_lexer": "ipython3",
   "version": "3.9.12"
  }
 },
 "nbformat": 4,
 "nbformat_minor": 5
}
