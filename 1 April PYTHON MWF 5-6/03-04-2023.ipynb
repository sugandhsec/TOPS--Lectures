{
 "cells": [
  {
   "cell_type": "code",
   "execution_count": null,
   "id": "05ba91df",
   "metadata": {},
   "outputs": [],
   "source": [
    "# Python"
   ]
  },
  {
   "cell_type": "code",
   "execution_count": null,
   "id": "b4d17846",
   "metadata": {},
   "outputs": [],
   "source": [
    "# print(String)\n",
    "# string\n",
    "\n",
    "' ' single line\n",
    "\" \" single\n",
    "'''  ''' multiline\n",
    "\"\"\"   \"\"\"  multiline"
   ]
  },
  {
   "cell_type": "code",
   "execution_count": 8,
   "id": "ab95269b",
   "metadata": {},
   "outputs": [
    {
     "name": "stdout",
     "output_type": "stream",
     "text": [
      "Hello World\n",
      "HEllo World\n",
      "Hello \n",
      "Wolrd\n",
      "Hello\n",
      "Wolrd\n"
     ]
    }
   ],
   "source": [
    "print('Hello World')\n",
    "print(\"HEllo World\")\n",
    "print('''Hello \n",
    "Wolrd''')\n",
    "print(\"\"\"Hello\n",
    "Wolrd\"\"\")"
   ]
  },
  {
   "cell_type": "code",
   "execution_count": null,
   "id": "6274d534",
   "metadata": {},
   "outputs": [],
   "source": [
    "# Escape Sequence\n",
    "# Escape sequecen are normal character hidden behing backslash \\\n",
    "# \\n -- newline character\n",
    "# \\t -- tab sapce\n",
    "# \\b -- backspace\n",
    "# \\\" -- double quote\n",
    "# \\'  --single quote"
   ]
  },
  {
   "cell_type": "code",
   "execution_count": 17,
   "id": "021435a0",
   "metadata": {},
   "outputs": [
    {
     "name": "stdout",
     "output_type": "stream",
     "text": [
      "ggerg\n",
      " tr\thrt erger\n",
      "rgter\b\ber\n"
     ]
    }
   ],
   "source": [
    "print(\"ggerg\\n tr\\thrt erger\\nrgter\\b\\ber\")"
   ]
  },
  {
   "cell_type": "code",
   "execution_count": 23,
   "id": "f7fc00ab",
   "metadata": {},
   "outputs": [
    {
     "name": "stdout",
     "output_type": "stream",
     "text": [
      "Hello' \"World\n"
     ]
    }
   ],
   "source": [
    "print('Hello\\' \"World')"
   ]
  },
  {
   "cell_type": "code",
   "execution_count": 22,
   "id": "06ed4913",
   "metadata": {},
   "outputs": [
    {
     "name": "stdout",
     "output_type": "stream",
     "text": [
      "HelloW \" 'orld\n"
     ]
    }
   ],
   "source": [
    "print(\"HelloW \\\" 'orld\")"
   ]
  },
  {
   "cell_type": "code",
   "execution_count": 24,
   "id": "73bc6ba8",
   "metadata": {},
   "outputs": [
    {
     "ename": "SyntaxError",
     "evalue": "EOL while scanning string literal (3872958411.py, line 1)",
     "output_type": "error",
     "traceback": [
      "\u001b[1;36m  Input \u001b[1;32mIn [24]\u001b[1;36m\u001b[0m\n\u001b[1;33m    print('HellooW ' \"orld')\u001b[0m\n\u001b[1;37m                            ^\u001b[0m\n\u001b[1;31mSyntaxError\u001b[0m\u001b[1;31m:\u001b[0m EOL while scanning string literal\n"
     ]
    }
   ],
   "source": [
    "print('HellooW ' \"orld')"
   ]
  },
  {
   "cell_type": "code",
   "execution_count": 25,
   "id": "1c17b036",
   "metadata": {},
   "outputs": [
    {
     "ename": "SyntaxError",
     "evalue": "invalid syntax (1137943879.py, line 1)",
     "output_type": "error",
     "traceback": [
      "\u001b[1;36m  Input \u001b[1;32mIn [25]\u001b[1;36m\u001b[0m\n\u001b[1;33m    print(\" udjweh ' er\"gerg \")\u001b[0m\n\u001b[1;37m                        ^\u001b[0m\n\u001b[1;31mSyntaxError\u001b[0m\u001b[1;31m:\u001b[0m invalid syntax\n"
     ]
    }
   ],
   "source": [
    "print(\" udjweh ' er\"gerg \")"
   ]
  },
  {
   "cell_type": "code",
   "execution_count": 26,
   "id": "ab7d69bc",
   "metadata": {},
   "outputs": [
    {
     "name": "stdout",
     "output_type": "stream",
     "text": [
      "gferth jbrt 'erggerg\"er \n"
     ]
    }
   ],
   "source": [
    "print(\"\"\"gferth jbrt 'erggerg\"er \"\"\")"
   ]
  },
  {
   "cell_type": "code",
   "execution_count": null,
   "id": "1c3276f1",
   "metadata": {},
   "outputs": [],
   "source": [
    "# Variable is a container that holds some value inside it\n",
    "# variablename=value;\n",
    "# lossely typed language"
   ]
  },
  {
   "cell_type": "code",
   "execution_count": null,
   "id": "4e5b20f9",
   "metadata": {},
   "outputs": [],
   "source": [
    "# Identifier Rule\n",
    "# 1)First character of variable a-z A-Z _\n",
    "# 2)Remaining Character of variable a-z A-Z _ 0-9\n",
    "\n",
    "# Suggestion\n",
    "# 1)never use space bcz it is not allowed instead use underscore\n",
    "# 2)Give Identifiers a logical name\n",
    "# 3)Never Exceed lenght greater than 255 characters"
   ]
  },
  {
   "cell_type": "code",
   "execution_count": 33,
   "id": "4074714e",
   "metadata": {},
   "outputs": [
    {
     "name": "stdout",
     "output_type": "stream",
     "text": [
      "Sugandh Umar 18 saal hai 18\n",
      "Sugandh Umar 18 saal hai\n"
     ]
    }
   ],
   "source": [
    "age=18\n",
    "name=\"Sugandh\"\n",
    "print(f\"{name} Umar {age} saal hai {age}\") #formatted String\n",
    "print(\"{} Umar {} saal hai\".format(name,age))\n",
    "print(\"{a} Umar {b} saal hai\".format(a=name,b=age))"
   ]
  },
  {
   "cell_type": "code",
   "execution_count": null,
   "id": "07b3312a",
   "metadata": {},
   "outputs": [],
   "source": [
    "name\n",
    "age\n",
    "email\n",
    "mobile\n",
    "\n",
    "single print\n",
    "\n",
    "Name    :    Value\n",
    "Age     :    value\n",
    "email   :    value\n",
    "mobile  :    value"
   ]
  },
  {
   "cell_type": "code",
   "execution_count": 34,
   "id": "4d1e06dd",
   "metadata": {},
   "outputs": [
    {
     "name": "stdout",
     "output_type": "stream",
     "text": [
      "Sugandh\n"
     ]
    }
   ],
   "source": [
    "name=\"Sugandh\"\n",
    "print(name)"
   ]
  },
  {
   "cell_type": "code",
   "execution_count": null,
   "id": "9a87ae20",
   "metadata": {},
   "outputs": [],
   "source": [
    "# Datatypes In Python\n",
    "int --- 58 96 54 12 54 8 -98 -544 -548 \n",
    "float --- 45 .32 -98.66 56.23\n",
    "Boolean --True Or False\n",
    "String --- \"jergfn \"\n",
    "\n",
    "# Collections\n",
    "String\n",
    "List =[1,2,3]\n",
    "tuple=(1,2,3)\n",
    "set={1,2,3}\n",
    "dictionary={1:\"Hekllo\",2:True}"
   ]
  },
  {
   "cell_type": "code",
   "execution_count": 39,
   "id": "338ad9c1",
   "metadata": {},
   "outputs": [
    {
     "name": "stdout",
     "output_type": "stream",
     "text": [
      "<class 'str'>\n"
     ]
    }
   ],
   "source": [
    "# type() ---gives datatytpe of value or variable\n",
    "a=\"hello\"\n",
    "print(type(a))"
   ]
  },
  {
   "cell_type": "code",
   "execution_count": 55,
   "id": "e9e5cf98",
   "metadata": {},
   "outputs": [
    {
     "name": "stdout",
     "output_type": "stream",
     "text": [
      "1795937757776\n",
      "1795937758096\n",
      "1796020463472\n"
     ]
    }
   ],
   "source": [
    "# id() ---gives id of the varibale\n",
    "a=10\n",
    "b=20\n",
    "c=\"hello\"\n",
    "print(id(a))\n",
    "print(id(b))\n",
    "print(id(c))"
   ]
  },
  {
   "cell_type": "code",
   "execution_count": 72,
   "id": "8c2714a4",
   "metadata": {},
   "outputs": [
    {
     "name": "stdout",
     "output_type": "stream",
     "text": [
      "ENter Somethingrthgrth\n"
     ]
    },
    {
     "ename": "ValueError",
     "evalue": "could not convert string to float: 'rthgrth'",
     "output_type": "error",
     "traceback": [
      "\u001b[1;31m---------------------------------------------------------------------------\u001b[0m",
      "\u001b[1;31mValueError\u001b[0m                                Traceback (most recent call last)",
      "Input \u001b[1;32mIn [72]\u001b[0m, in \u001b[0;36m<cell line: 4>\u001b[1;34m()\u001b[0m\n\u001b[0;32m      1\u001b[0m \u001b[38;5;66;03m# user value Input\u001b[39;00m\n\u001b[0;32m      2\u001b[0m \u001b[38;5;66;03m# input()\u001b[39;00m\n\u001b[0;32m      3\u001b[0m \u001b[38;5;66;03m# variablename=input([string form message]) #by default datatype is string\u001b[39;00m\n\u001b[1;32m----> 4\u001b[0m a\u001b[38;5;241m=\u001b[39m\u001b[38;5;28;43mfloat\u001b[39;49m\u001b[43m(\u001b[49m\u001b[38;5;28;43minput\u001b[39;49m\u001b[43m(\u001b[49m\u001b[38;5;124;43m\"\u001b[39;49m\u001b[38;5;124;43mENter Something\u001b[39;49m\u001b[38;5;124;43m\"\u001b[39;49m\u001b[43m)\u001b[49m\u001b[43m)\u001b[49m\n\u001b[0;32m      5\u001b[0m \u001b[38;5;28mprint\u001b[39m(a)\n\u001b[0;32m      6\u001b[0m \u001b[38;5;28mprint\u001b[39m(\u001b[38;5;28mtype\u001b[39m(a))\n",
      "\u001b[1;31mValueError\u001b[0m: could not convert string to float: 'rthgrth'"
     ]
    }
   ],
   "source": [
    "# user value Input\n",
    "# input()\n",
    "# variablename=input([string form message]) #by default datatype is string\n",
    "a=float(input(\"ENter Something\"))\n",
    "print(a)\n",
    "print(type(a))"
   ]
  },
  {
   "cell_type": "code",
   "execution_count": null,
   "id": "c5930e3a",
   "metadata": {},
   "outputs": [],
   "source": []
  },
  {
   "cell_type": "code",
   "execution_count": null,
   "id": "32d45911",
   "metadata": {},
   "outputs": [],
   "source": [
    "# Typecasting\n",
    "# changing one datatype to another\n",
    "# datatype(value/variable)"
   ]
  },
  {
   "cell_type": "code",
   "execution_count": null,
   "id": "a521a04f",
   "metadata": {},
   "outputs": [],
   "source": []
  }
 ],
 "metadata": {
  "kernelspec": {
   "display_name": "Python 3 (ipykernel)",
   "language": "python",
   "name": "python3"
  },
  "language_info": {
   "codemirror_mode": {
    "name": "ipython",
    "version": 3
   },
   "file_extension": ".py",
   "mimetype": "text/x-python",
   "name": "python",
   "nbconvert_exporter": "python",
   "pygments_lexer": "ipython3",
   "version": "3.9.12"
  }
 },
 "nbformat": 4,
 "nbformat_minor": 5
}
