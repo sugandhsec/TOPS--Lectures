{
 "cells": [
  {
   "cell_type": "code",
   "execution_count": null,
   "id": "a6218c6c",
   "metadata": {},
   "outputs": [],
   "source": [
    "# tuple is a collection of lemenets of similar or different datatype\n",
    "# Tuple is immutable---no chnages allowed\n",
    "# tuple is ordered--every element in list has its own index number\n",
    "# Tuple is defined in () brackets\n",
    "# Tuple  allows duplicates values beacuse they all have different index numbers"
   ]
  },
  {
   "cell_type": "code",
   "execution_count": 5,
   "id": "bbc35357",
   "metadata": {},
   "outputs": [
    {
     "name": "stdout",
     "output_type": "stream",
     "text": [
      "hello\n",
      "36\n",
      "(True, 'hello', [45, 36, 54], (45, 63), {1, 2})\n"
     ]
    }
   ],
   "source": [
    "tup1=(45,56.32,True,\"hello\",[45,36,54],(45,63),{1,2},{1:\"hello\",2:\"wow\"})\n",
    "print(tup1[3])\n",
    "print(tup1[4][1])\n",
    "# tup1[2]=\"Great\"\n",
    "# tup1[4][1]=\"wow\"\n",
    "# print(tup1)\n",
    "print(tup1[2:7])"
   ]
  },
  {
   "cell_type": "code",
   "execution_count": null,
   "id": "004231ea",
   "metadata": {},
   "outputs": [],
   "source": [
    "# tupl1 functions\n",
    "# len min max tuple"
   ]
  },
  {
   "cell_type": "code",
   "execution_count": 8,
   "id": "427019ed",
   "metadata": {},
   "outputs": [
    {
     "data": {
      "text/plain": [
       "89"
      ]
     },
     "execution_count": 8,
     "metadata": {},
     "output_type": "execute_result"
    }
   ],
   "source": [
    "tup1=(45,63,25,47,89,65,41,25,4)\n",
    "len(tup1)\n",
    "min(tup1)\n",
    "max(tup1)"
   ]
  },
  {
   "cell_type": "code",
   "execution_count": 28,
   "id": "aafba174",
   "metadata": {},
   "outputs": [
    {
     "data": {
      "text/plain": [
       "('H', 'e', 'l', 'l', 'o', ' ', 'w', 'o', 'r', 'l', 'd')"
      ]
     },
     "execution_count": 28,
     "metadata": {},
     "output_type": "execute_result"
    }
   ],
   "source": [
    "tuple(range(1,20))\n",
    "tuple(\"Hello world\")\n",
    "tuple([14,56,32,5])\n",
    "tuple({45,63,25})\n",
    "tuple({1:\"OW\",2:\"great\"})"
   ]
  },
  {
   "cell_type": "code",
   "execution_count": 21,
   "id": "01febf8e",
   "metadata": {},
   "outputs": [
    {
     "name": "stdout",
     "output_type": "stream",
     "text": [
      "<class 'tuple'>\n"
     ]
    }
   ],
   "source": [
    "a=(45,)\n",
    "print(type(a))"
   ]
  },
  {
   "cell_type": "code",
   "execution_count": 23,
   "id": "caccc1fb",
   "metadata": {},
   "outputs": [
    {
     "data": {
      "text/plain": [
       "['__add__',\n",
       " '__class__',\n",
       " '__class_getitem__',\n",
       " '__contains__',\n",
       " '__delattr__',\n",
       " '__dir__',\n",
       " '__doc__',\n",
       " '__eq__',\n",
       " '__format__',\n",
       " '__ge__',\n",
       " '__getattribute__',\n",
       " '__getitem__',\n",
       " '__getnewargs__',\n",
       " '__gt__',\n",
       " '__hash__',\n",
       " '__init__',\n",
       " '__init_subclass__',\n",
       " '__iter__',\n",
       " '__le__',\n",
       " '__len__',\n",
       " '__lt__',\n",
       " '__mul__',\n",
       " '__ne__',\n",
       " '__new__',\n",
       " '__reduce__',\n",
       " '__reduce_ex__',\n",
       " '__repr__',\n",
       " '__rmul__',\n",
       " '__setattr__',\n",
       " '__sizeof__',\n",
       " '__str__',\n",
       " '__subclasshook__',\n",
       " 'count',\n",
       " 'index']"
      ]
     },
     "execution_count": 23,
     "metadata": {},
     "output_type": "execute_result"
    }
   ],
   "source": [
    "dir(tuple)"
   ]
  },
  {
   "cell_type": "code",
   "execution_count": 25,
   "id": "4b5d9719",
   "metadata": {},
   "outputs": [
    {
     "data": {
      "text/plain": [
       "0"
      ]
     },
     "execution_count": 25,
     "metadata": {},
     "output_type": "execute_result"
    }
   ],
   "source": [
    "tup1=(45,63,58,78,96,54,12,56,58,74,5,45,21,45,45)\n",
    "tup1.count(58965)"
   ]
  },
  {
   "cell_type": "code",
   "execution_count": 27,
   "id": "b138d1bd",
   "metadata": {},
   "outputs": [
    {
     "ename": "ValueError",
     "evalue": "tuple.index(x): x not in tuple",
     "output_type": "error",
     "traceback": [
      "\u001b[1;31m---------------------------------------------------------------------------\u001b[0m",
      "\u001b[1;31mValueError\u001b[0m                                Traceback (most recent call last)",
      "Input \u001b[1;32mIn [27]\u001b[0m, in \u001b[0;36m<cell line: 2>\u001b[1;34m()\u001b[0m\n\u001b[0;32m      1\u001b[0m tup1\u001b[38;5;241m=\u001b[39m(\u001b[38;5;241m45\u001b[39m,\u001b[38;5;241m63\u001b[39m,\u001b[38;5;241m58\u001b[39m,\u001b[38;5;241m78\u001b[39m,\u001b[38;5;241m96\u001b[39m,\u001b[38;5;241m54\u001b[39m,\u001b[38;5;241m12\u001b[39m,\u001b[38;5;241m56\u001b[39m,\u001b[38;5;241m58\u001b[39m,\u001b[38;5;241m74\u001b[39m,\u001b[38;5;241m5\u001b[39m,\u001b[38;5;241m45\u001b[39m,\u001b[38;5;241m21\u001b[39m,\u001b[38;5;241m45\u001b[39m,\u001b[38;5;241m45\u001b[39m)\n\u001b[1;32m----> 2\u001b[0m \u001b[43mtup1\u001b[49m\u001b[38;5;241;43m.\u001b[39;49m\u001b[43mindex\u001b[49m\u001b[43m(\u001b[49m\u001b[38;5;241;43m63789\u001b[39;49m\u001b[43m)\u001b[49m\n",
      "\u001b[1;31mValueError\u001b[0m: tuple.index(x): x not in tuple"
     ]
    }
   ],
   "source": [
    "tup1=(45,63,58,78,96,54,12,56,58,74,5,45,21,45,45)\n",
    "tup1.index(63789)"
   ]
  }
 ],
 "metadata": {
  "kernelspec": {
   "display_name": "Python 3 (ipykernel)",
   "language": "python",
   "name": "python3"
  },
  "language_info": {
   "codemirror_mode": {
    "name": "ipython",
    "version": 3
   },
   "file_extension": ".py",
   "mimetype": "text/x-python",
   "name": "python",
   "nbconvert_exporter": "python",
   "pygments_lexer": "ipython3",
   "version": "3.9.12"
  }
 },
 "nbformat": 4,
 "nbformat_minor": 5
}
