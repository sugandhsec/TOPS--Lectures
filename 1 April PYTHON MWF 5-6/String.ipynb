{
 "cells": [
  {
   "cell_type": "code",
   "execution_count": null,
   "id": "b24aa21c",
   "metadata": {},
   "outputs": [],
   "source": [
    "# string is an immutable datatype in python\n",
    "# string is defined in '' \"\" ''' ''' \"\"\" \"\"\"\n",
    "# string defined in  '' \" \" are single line string\n",
    "# string defined in ''' ''' \"\"\" \"\"\" are multiline string\n",
    "# string is ordered datatype\n",
    "# every element in string is identified by their index\n",
    "# index means location of every element or character inside string and its \n",
    "# starts from 0"
   ]
  },
  {
   "cell_type": "code",
   "execution_count": 5,
   "id": "23e405a3",
   "metadata": {},
   "outputs": [
    {
     "name": "stdout",
     "output_type": "stream",
     "text": [
      "Hello I am learning string in Python\n",
      "I\n",
      "I am learning\n",
      "nohtyP\n"
     ]
    }
   ],
   "source": [
    "str1=\"Hello I am learning string in Python\"\n",
    "print(str1)\n",
    "print(str1[6])\n",
    "print(str1[6:19])\n",
    "print(str1[-1:-7:-1])"
   ]
  },
  {
   "cell_type": "code",
   "execution_count": 7,
   "id": "2747915c",
   "metadata": {},
   "outputs": [
    {
     "name": "stdout",
     "output_type": "stream",
     "text": [
      "46\n"
     ]
    }
   ],
   "source": [
    "# String functions\n",
    "# len()\n",
    "str1=\"jkrgn jkfvn jkerbnk hfvbrjbrfhnkyt;nlmnjkldjhf\"\n",
    "print(len(str1))"
   ]
  },
  {
   "cell_type": "code",
   "execution_count": 13,
   "id": "19fba05a",
   "metadata": {},
   "outputs": [
    {
     "name": "stdout",
     "output_type": "stream",
     "text": [
      "[1, 2, 3]\n",
      "<class 'str'>\n"
     ]
    }
   ],
   "source": [
    "# str()\n",
    "a=[1,2,3]\n",
    "str1=str(a)\n",
    "print(str1)\n",
    "print(type(str1))"
   ]
  },
  {
   "cell_type": "code",
   "execution_count": 15,
   "id": "e0330b99",
   "metadata": {},
   "outputs": [
    {
     "name": "stdout",
     "output_type": "stream",
     "text": [
      "Enter Your name: sngfje ejgvbjvb\n",
      "Sngfje Ejgvbjvb\n",
      "sngfje ejgvbjvb\n"
     ]
    }
   ],
   "source": [
    "# String Methods\n",
    "# it will put some effects on the copy of the string\n",
    "# original string will never change because string is immutable changes not allowed\n",
    "fullname=input(\"Enter Your name: \")\n",
    "print(fullname.title())\n",
    "print(fullname)"
   ]
  },
  {
   "cell_type": "code",
   "execution_count": 16,
   "id": "5f03453d",
   "metadata": {},
   "outputs": [
    {
     "data": {
      "text/plain": [
       "list[['__add__', '__class__', '__contains__', '__delattr__', '__dir__', '__doc__', '__eq__', '__format__', '__ge__', '__getattribute__', '__getitem__', '__getnewargs__', '__gt__', '__hash__', '__init__', '__init_subclass__', '__iter__', '__le__', '__len__', '__lt__', '__mod__', '__mul__', '__ne__', '__new__', '__reduce__', '__reduce_ex__', '__repr__', '__rmod__', '__rmul__', '__setattr__', '__sizeof__', '__str__', '__subclasshook__', 'capitalize', 'casefold', 'center', 'count', 'encode', 'endswith', 'expandtabs', 'find', 'format', 'format_map', 'index', 'isalnum', 'isalpha', 'isascii', 'isdecimal', 'isdigit', 'isidentifier', 'islower', 'isnumeric', 'isprintable', 'isspace', 'istitle', 'isupper', 'join', 'ljust', 'lower', 'lstrip', 'maketrans', 'partition', 'removeprefix', 'removesuffix', 'replace', 'rfind', 'rindex', 'rjust', 'rpartition', 'rsplit', 'rstrip', 'split', 'splitlines', 'startswith', 'strip', 'swapcase', 'title', 'translate', 'upper', 'zfill']]"
      ]
     },
     "execution_count": 16,
     "metadata": {},
     "output_type": "execute_result"
    }
   ],
   "source": [
    "list[dir(str)]"
   ]
  },
  {
   "cell_type": "markdown",
   "id": "1b82d00b",
   "metadata": {},
   "source": [
    "'capitalize', 'casefold', 'center', 'count', 'encode', 'endswith',\n",
    "'expandtabs', 'find', 'format', 'format_map', 'index', 'isalnum', \n",
    "'isalpha', 'isascii', 'isdecimal', 'isdigit', 'isidentifier', 'islower',\n",
    "'isnumeric', 'isprintable', 'isspace', 'istitle', 'isupper', 'join', \n",
    "'ljust', 'lower', 'lstrip', 'maketrans', 'partition', 'removeprefix', \n",
    "'removesuffix', 'replace', 'rfind', 'rindex', 'rjust', 'rpartition', \n",
    "'rsplit', 'rstrip', 'split', 'splitlines', 'startswith', 'strip', \n",
    "'swapcase', 'title', 'translate', 'upper', 'zfill'"
   ]
  },
  {
   "cell_type": "code",
   "execution_count": 18,
   "id": "21098d00",
   "metadata": {},
   "outputs": [
    {
     "name": "stdout",
     "output_type": "stream",
     "text": [
      "hello world JKHBFDKJW fdhjknbjkf vndbvjk KJBVFJK xzcjkn bsdv m ckhbfdk\n"
     ]
    }
   ],
   "source": [
    "# capitalize()---first letter capital remaing small\n",
    "str1=\"hello world JKHBFDKJW fdhjknbjkf vndbvjk KJBVFJK xzcjkn bsdv m ckhbfdk\"\n",
    "str1.capitalize() \n",
    "print(str1)"
   ]
  },
  {
   "cell_type": "code",
   "execution_count": 19,
   "id": "d44b1f1c",
   "metadata": {},
   "outputs": [
    {
     "name": "stdout",
     "output_type": "stream",
     "text": [
      "Hello World Jkhbfdkjw Fdhjknbjkf Vndbvjk Kjbvfjk Xzcjkn Bsdv M Ckhbfdk\n"
     ]
    }
   ],
   "source": [
    "# title()--string everyword first letter uppercase and remaing letter\n",
    "# of word in lowercase\n",
    "str1=\"hello world JKHBFDKJW fdhjknbjkf vndbvjk KJBVFJK xzcjkn bsdv m ckhbfdk\"\n",
    "print(str1.title())"
   ]
  },
  {
   "cell_type": "code",
   "execution_count": 22,
   "id": "0f477659",
   "metadata": {},
   "outputs": [
    {
     "data": {
      "text/plain": [
       "'hello world jkhbfdkjw fdhjknbjkf vndbvjk ß kjbvfjk xzcjkn bsdv m ckhbfdk'"
      ]
     },
     "execution_count": 22,
     "metadata": {},
     "output_type": "execute_result"
    }
   ],
   "source": [
    "# lower()---converts whole string in lowercase\n",
    "str1=\"hello world JKHBFDKJW fdhjknbjkf vndbvjk ß KJBVFJK xzcjkn bsdv m ckhbfdk\"\n",
    "str1.lower()"
   ]
  },
  {
   "cell_type": "code",
   "execution_count": 23,
   "id": "85dfe6f5",
   "metadata": {},
   "outputs": [
    {
     "data": {
      "text/plain": [
       "'hello world jkhbfdkjw fdhjknbjkf vndbvjk ss kjbvfjk xzcjkn bsdv m ckhbfdk'"
      ]
     },
     "execution_count": 23,
     "metadata": {},
     "output_type": "execute_result"
    }
   ],
   "source": [
    "# casefold()---converts whole string in lowercase\n",
    "# it is more powerful than lower()\n",
    "str1=\"hello world JKHBFDKJW fdhjknbjkf vndbvjk ß KJBVFJK xzcjkn bsdv m ckhbfdk\"\n",
    "str1.casefold()"
   ]
  },
  {
   "cell_type": "code",
   "execution_count": 31,
   "id": "d9cec127",
   "metadata": {},
   "outputs": [
    {
     "name": "stdout",
     "output_type": "stream",
     "text": [
      "                      hello                       \n",
      "**********************hello***********************\n"
     ]
    }
   ],
   "source": [
    "# center(width,[char])\n",
    "str1=\"hello\"\n",
    "print(str1.center(50))\n",
    "print(str1.center(50,\"*\"))"
   ]
  },
  {
   "cell_type": "code",
   "execution_count": 34,
   "id": "6d74f510",
   "metadata": {},
   "outputs": [
    {
     "name": "stdout",
     "output_type": "stream",
     "text": [
      "    *     \n",
      "   * *    \n",
      "  * * *   \n",
      " * * * *  \n"
     ]
    }
   ],
   "source": [
    "\n",
    "for i in range(1,5):\n",
    "    str1=\"* \"*i\n",
    "    print(str1.center(10))"
   ]
  },
  {
   "cell_type": "code",
   "execution_count": 42,
   "id": "46cc5019",
   "metadata": {},
   "outputs": [
    {
     "name": "stdout",
     "output_type": "stream",
     "text": [
      "3\n",
      "2\n",
      "0\n"
     ]
    }
   ],
   "source": [
    "# count(substring[,start,stop])--count the occurence of substring\n",
    "str1=\"wfer eer ihvberv klgjrtvnjw jngrnjklfvw\"\n",
    "print(str1.count(\"w\"))\n",
    "print(str1.count(\"w\",6))\n",
    "print(str1.count(\"w\",6,19))"
   ]
  },
  {
   "cell_type": "code",
   "execution_count": 51,
   "id": "5cc2899d",
   "metadata": {},
   "outputs": [
    {
     "name": "stdout",
     "output_type": "stream",
     "text": [
      "True\n",
      "True\n",
      "False\n"
     ]
    }
   ],
   "source": [
    "# endswith(substring[,start,stop])--checks string ends with the substring or not\n",
    "str1=\"erhgf hbvreb\"\n",
    "print(str1.endswith(\"reb\"))\n",
    "print(str1.endswith(\"reb\",6))\n",
    "print(str1.endswith(\"reb\",6,9))"
   ]
  },
  {
   "cell_type": "code",
   "execution_count": 57,
   "id": "adbb8555",
   "metadata": {},
   "outputs": [
    {
     "name": "stdout",
     "output_type": "stream",
     "text": [
      "gerger   ergbth   ergb     rtg      \n"
     ]
    }
   ],
   "source": [
    "# expandtabs(size)---increase the tab size\n",
    "str1=\"gerger\\tergbth\\tergb\\trtg\\t\"\n",
    "print(str1.expandtabs(9))"
   ]
  },
  {
   "cell_type": "code",
   "execution_count": 62,
   "id": "a655e4af",
   "metadata": {},
   "outputs": [
    {
     "name": "stdout",
     "output_type": "stream",
     "text": [
      "10\n",
      "43\n",
      "-1\n"
     ]
    }
   ],
   "source": [
    "# find(substring[,start,stop])---gives index of subastring\n",
    "str1=\"hello How are you i are am learning python are with hello world as first statement\"\n",
    "print(str1.find(\"are\"))\n",
    "print(str1.find(\"are\",23))\n",
    "print(str1.find(\"are\",23,36)) #not found -1"
   ]
  },
  {
   "cell_type": "code",
   "execution_count": 65,
   "id": "70408f2c",
   "metadata": {},
   "outputs": [
    {
     "name": "stdout",
     "output_type": "stream",
     "text": [
      "10\n",
      "43\n"
     ]
    },
    {
     "ename": "ValueError",
     "evalue": "substring not found",
     "output_type": "error",
     "traceback": [
      "\u001b[1;31m---------------------------------------------------------------------------\u001b[0m",
      "\u001b[1;31mValueError\u001b[0m                                Traceback (most recent call last)",
      "Input \u001b[1;32mIn [65]\u001b[0m, in \u001b[0;36m<cell line: 5>\u001b[1;34m()\u001b[0m\n\u001b[0;32m      3\u001b[0m \u001b[38;5;28mprint\u001b[39m(str1\u001b[38;5;241m.\u001b[39mindex(\u001b[38;5;124m\"\u001b[39m\u001b[38;5;124mare\u001b[39m\u001b[38;5;124m\"\u001b[39m))\n\u001b[0;32m      4\u001b[0m \u001b[38;5;28mprint\u001b[39m(str1\u001b[38;5;241m.\u001b[39mindex(\u001b[38;5;124m\"\u001b[39m\u001b[38;5;124mare\u001b[39m\u001b[38;5;124m\"\u001b[39m,\u001b[38;5;241m23\u001b[39m))\n\u001b[1;32m----> 5\u001b[0m \u001b[38;5;28mprint\u001b[39m(\u001b[43mstr1\u001b[49m\u001b[38;5;241;43m.\u001b[39;49m\u001b[43mindex\u001b[49m\u001b[43m(\u001b[49m\u001b[38;5;124;43m\"\u001b[39;49m\u001b[38;5;124;43mare\u001b[39;49m\u001b[38;5;124;43m\"\u001b[39;49m\u001b[43m,\u001b[49m\u001b[38;5;241;43m23\u001b[39;49m\u001b[43m,\u001b[49m\u001b[38;5;241;43m36\u001b[39;49m\u001b[43m)\u001b[49m)\n",
      "\u001b[1;31mValueError\u001b[0m: substring not found"
     ]
    }
   ],
   "source": [
    "# index(substring[,start,stop])--gives index of substring\n",
    "str1=\"hello How are you i are am learning python are with hello world as first statement\"\n",
    "print(str1.index(\"are\"))\n",
    "print(str1.index(\"are\",23))\n",
    "print(str1.index(\"are\",23,36))#gives valueerror Substring not found"
   ]
  },
  {
   "cell_type": "code",
   "execution_count": 66,
   "id": "f81ab362",
   "metadata": {},
   "outputs": [
    {
     "name": "stdout",
     "output_type": "stream",
     "text": [
      "herkke45 jervje jkvbek 89hhv\n"
     ]
    }
   ],
   "source": [
    "str1=\"herkke{k} jervje jkvbek {m}hhv\"\n",
    "print(str1.format(k=45,m=89))"
   ]
  },
  {
   "cell_type": "code",
   "execution_count": 70,
   "id": "16463a65",
   "metadata": {},
   "outputs": [
    {
     "name": "stdout",
     "output_type": "stream",
     "text": [
      "fjehr jvb fvb                                     \n",
      "fjehr jvb fvb ************************************\n"
     ]
    }
   ],
   "source": [
    "# ljust(wdith,character)--it will put string in left of given length \n",
    "str1=\"fjehr jvb fvb \"\n",
    "print(str1.ljust(50))\n",
    "print(str1.ljust(50,\"*\"))"
   ]
  },
  {
   "cell_type": "code",
   "execution_count": 71,
   "id": "206cc832",
   "metadata": {},
   "outputs": [
    {
     "name": "stdout",
     "output_type": "stream",
     "text": [
      "                                    fjehr jvb fvb \n",
      "************************************fjehr jvb fvb \n"
     ]
    }
   ],
   "source": [
    "# rjust(wdith,character)--it will put string in right of given length \n",
    "str1=\"fjehr jvb fvb \"\n",
    "print(str1.rjust(50))\n",
    "print(str1.rjust(50,\"*\"))"
   ]
  },
  {
   "cell_type": "code",
   "execution_count": 73,
   "id": "4ae39f7d",
   "metadata": {},
   "outputs": [
    {
     "name": "stdout",
     "output_type": "stream",
     "text": [
      "hello     \n"
     ]
    }
   ],
   "source": [
    "# lstrip()--removes the spaces from left side of string\n",
    "str1=\"       hello     \"\n",
    "print(str1.lstrip())"
   ]
  },
  {
   "cell_type": "code",
   "execution_count": 74,
   "id": "e7c79ea3",
   "metadata": {},
   "outputs": [
    {
     "name": "stdout",
     "output_type": "stream",
     "text": [
      "       hello\n"
     ]
    }
   ],
   "source": [
    "# rstrip()--removes the spaces from right side of string\n",
    "str1=\"       hello     \"\n",
    "print(str1.rstrip())"
   ]
  },
  {
   "cell_type": "code",
   "execution_count": 75,
   "id": "2ee770c3",
   "metadata": {},
   "outputs": [
    {
     "name": "stdout",
     "output_type": "stream",
     "text": [
      "hello\n"
     ]
    }
   ],
   "source": [
    "# strip()--removes the spaces from left and right both side of string\n",
    "str1=\"       hello     \"\n",
    "print(str1.strip())"
   ]
  },
  {
   "cell_type": "code",
   "execution_count": 80,
   "id": "dd90ee41",
   "metadata": {},
   "outputs": [
    {
     "name": "stdout",
     "output_type": "stream",
     "text": [
      "('hello i ', 'am', ' good in python')\n",
      "('hello i am good in python', '', '')\n"
     ]
    }
   ],
   "source": [
    "# partition(substring)---divides string in exactly three parts\n",
    "# 1st part left of string\n",
    "# 2nd part substring itself\n",
    "# 3rd part right of string\n",
    "str1=\"hello i am good in python\"\n",
    "print(str1.partition(\"am\"))\n",
    "print(str1.partition(\"erhgerg\"))"
   ]
  },
  {
   "cell_type": "code",
   "execution_count": 83,
   "id": "21343fca",
   "metadata": {},
   "outputs": [
    {
     "name": "stdout",
     "output_type": "stream",
     "text": [
      "d-+g-+tn hello jksdghbjkg x.xkwehbnkglf;k \n",
      "drgrtn -+ jksdghbjkg x.xkwehbnkglf;k \n"
     ]
    }
   ],
   "source": [
    "str1=\"drgrtn hello jksdghbjkg x.xkwehbnkglf;k \"\n",
    "print(str1.replace(\"r\",\"-+\"))\n",
    "print(str1.replace(\"hello\",\"-+\"))"
   ]
  },
  {
   "cell_type": "code",
   "execution_count": 85,
   "id": "4942ea5d",
   "metadata": {},
   "outputs": [
    {
     "name": "stdout",
     "output_type": "stream",
     "text": [
      "NJGNRV JRFNGVJKJGEKLGJnjklfdhnsjkfdnD DNKVBJKRBFDKB N HDVBJKHVB\n"
     ]
    }
   ],
   "source": [
    "str1=\"njgnrv jrfngvjkjgeklgjNJKLFDHNSJKFDNd dnkvbjkrbfdkb n hdvbjkhvb\"\n",
    "print(str1.swapcase())#swap the case means upper becomes lower and vice versa"
   ]
  },
  {
   "cell_type": "code",
   "execution_count": 89,
   "id": "6fc467d9",
   "metadata": {},
   "outputs": [
    {
     "name": "stdout",
     "output_type": "stream",
     "text": [
      "hello i am good\n"
     ]
    }
   ],
   "source": [
    "# join(iterable)\n",
    "list1=[\"hello\",\"i\",\"am\",\"good\"]\n",
    "str1=\" \".join(list1)\n",
    "print(str1)"
   ]
  },
  {
   "cell_type": "code",
   "execution_count": 100,
   "id": "0b324f5f",
   "metadata": {},
   "outputs": [
    {
     "name": "stdout",
     "output_type": "stream",
     "text": [
      "['fergre egvberb fnjlgvfd fjkvb', 'hd', '', '', 'j', 'fvbjk', '']\n",
      "['fergre', 'egvberb', 'fnjlgvfd', 'fjkvb', 'hd', '', ' j fvbjk ']\n",
      "['fergre', 'egvberb', 'fnjlgvfd', 'fjkvb', 'hd', '', '', 'j', 'fvbjk', '']\n"
     ]
    }
   ],
   "source": [
    "str1=\"fergre egvberb fnjlgvfd fjkvb hd   j fvbjk \"\n",
    "print(str1.rsplit(\" \",6))\n",
    "print(str1.split(\" \",6))\n",
    "print(str1.rsplit(\" \"))"
   ]
  },
  {
   "cell_type": "code",
   "execution_count": 102,
   "id": "81c214e6",
   "metadata": {},
   "outputs": [
    {
     "name": "stdout",
     "output_type": "stream",
     "text": [
      "['WERf ergfver erv', 'jfrengn', 'rgtfrg']\n"
     ]
    }
   ],
   "source": [
    "str1=\"WERf ergfver erv\\njfrengn\\nrgtfrg\"\n",
    "print(str1.splitlines())"
   ]
  },
  {
   "cell_type": "code",
   "execution_count": 104,
   "id": "68ab4a29",
   "metadata": {},
   "outputs": [
    {
     "name": "stdout",
     "output_type": "stream",
     "text": [
      "True\n"
     ]
    }
   ],
   "source": [
    "str1=\"ERgererregv4554\"\n",
    "print(str1.isalnum()) #alphbets and numbers only no space"
   ]
  },
  {
   "cell_type": "code",
   "execution_count": 116,
   "id": "ac350ec6",
   "metadata": {},
   "outputs": [
    {
     "name": "stdout",
     "output_type": "stream",
     "text": [
      "False\n",
      "True\n",
      "False\n"
     ]
    }
   ],
   "source": [
    "str1=\"Rgerger hg\"\n",
    "print(str1.isalpha())#alphbets only no space\n",
    "print(str1.isascii()) #true when all have ascii values otherwise false\n",
    "print(str1.isidentifier()) #it will become identifiers or not"
   ]
  },
  {
   "cell_type": "code",
   "execution_count": 119,
   "id": "daca8c4d",
   "metadata": {},
   "outputs": [
    {
     "name": "stdout",
     "output_type": "stream",
     "text": [
      ":erger\n",
      "erfgber\n"
     ]
    },
    {
     "data": {
      "text/plain": [
       "False"
      ]
     },
     "execution_count": 119,
     "metadata": {},
     "output_type": "execute_result"
    }
   ],
   "source": [
    "str1=\":erger\\nerfgber\"\n",
    "print(str1)\n",
    "str1.isprintable()"
   ]
  },
  {
   "cell_type": "code",
   "execution_count": 122,
   "id": "bbb4fd81",
   "metadata": {},
   "outputs": [
    {
     "name": "stdout",
     "output_type": "stream",
     "text": [
      "False\n",
      "False\n",
      "False\n"
     ]
    }
   ],
   "source": [
    "str1=\"65446235\"\n",
    "print(str1.isdigit())\n",
    "print(str1.isnumeric())\n",
    "print(str1.isdecimal())"
   ]
  }
 ],
 "metadata": {
  "kernelspec": {
   "display_name": "Python 3 (ipykernel)",
   "language": "python",
   "name": "python3"
  },
  "language_info": {
   "codemirror_mode": {
    "name": "ipython",
    "version": 3
   },
   "file_extension": ".py",
   "mimetype": "text/x-python",
   "name": "python",
   "nbconvert_exporter": "python",
   "pygments_lexer": "ipython3",
   "version": "3.9.12"
  }
 },
 "nbformat": 4,
 "nbformat_minor": 5
}
