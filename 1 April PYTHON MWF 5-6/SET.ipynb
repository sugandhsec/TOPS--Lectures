{
 "cells": [
  {
   "cell_type": "code",
   "execution_count": null,
   "id": "7dbaddbf",
   "metadata": {},
   "outputs": [],
   "source": [
    "# set is a collection of element of similar or different datatype\n",
    "# set is also mutable means changes allowed\n",
    "# set is unordered means there is no way to access any element\n",
    "# set doesn't have index numbers\n",
    "# set is defines in curly braces {}\n",
    "# sets does not allow duplicates because they don't have index numbers\n"
   ]
  },
  {
   "cell_type": "code",
   "execution_count": 2,
   "id": "44fe25df",
   "metadata": {},
   "outputs": [
    {
     "name": "stdout",
     "output_type": "stream",
     "text": [
      "{65, 36, 6, 12, 45, 21, 23, 25}\n"
     ]
    }
   ],
   "source": [
    "set1={45,65,45,12,36,45,65,21,23,25,6}\n",
    "print(set1)"
   ]
  },
  {
   "cell_type": "code",
   "execution_count": 3,
   "id": "9ffcbbe8",
   "metadata": {},
   "outputs": [
    {
     "data": {
      "text/plain": [
       "8"
      ]
     },
     "execution_count": 3,
     "metadata": {},
     "output_type": "execute_result"
    }
   ],
   "source": [
    "set1={45,65,45,12,36,45,65,21,23,25,6}\n",
    "len(set1)"
   ]
  },
  {
   "cell_type": "code",
   "execution_count": 4,
   "id": "ea476c67",
   "metadata": {},
   "outputs": [
    {
     "data": {
      "text/plain": [
       "6"
      ]
     },
     "execution_count": 4,
     "metadata": {},
     "output_type": "execute_result"
    }
   ],
   "source": [
    "set1={45,65,45,12,36,45,65,21,23,25,6}\n",
    "min(set1)"
   ]
  },
  {
   "cell_type": "code",
   "execution_count": 5,
   "id": "3b60a913",
   "metadata": {},
   "outputs": [
    {
     "data": {
      "text/plain": [
       "65"
      ]
     },
     "execution_count": 5,
     "metadata": {},
     "output_type": "execute_result"
    }
   ],
   "source": [
    "set1={45,65,45,12,36,45,65,21,23,25,6}\n",
    "max(set1)"
   ]
  },
  {
   "cell_type": "code",
   "execution_count": 10,
   "id": "46905b30",
   "metadata": {},
   "outputs": [
    {
     "data": {
      "text/plain": [
       "{25, 45, 63}"
      ]
     },
     "execution_count": 10,
     "metadata": {},
     "output_type": "execute_result"
    }
   ],
   "source": [
    "set(\"Hello\")\n",
    "set(range(1,100,6))\n",
    "set([45,63,54,789,78,96,858,95,7889,])\n",
    "set({45,63,25})\n",
    "set({1:\"OW\",2:\"great\"})"
   ]
  },
  {
   "cell_type": "code",
   "execution_count": 11,
   "id": "3f853020",
   "metadata": {},
   "outputs": [
    {
     "data": {
      "text/plain": [
       "list[['__and__', '__class__', '__class_getitem__', '__contains__', '__delattr__', '__dir__', '__doc__', '__eq__', '__format__', '__ge__', '__getattribute__', '__gt__', '__hash__', '__iand__', '__init__', '__init_subclass__', '__ior__', '__isub__', '__iter__', '__ixor__', '__le__', '__len__', '__lt__', '__ne__', '__new__', '__or__', '__rand__', '__reduce__', '__reduce_ex__', '__repr__', '__ror__', '__rsub__', '__rxor__', '__setattr__', '__sizeof__', '__str__', '__sub__', '__subclasshook__', '__xor__', 'add', 'clear', 'copy', 'difference', 'difference_update', 'discard', 'intersection', 'intersection_update', 'isdisjoint', 'issubset', 'issuperset', 'pop', 'remove', 'symmetric_difference', 'symmetric_difference_update', 'union', 'update']]"
      ]
     },
     "execution_count": 11,
     "metadata": {},
     "output_type": "execute_result"
    }
   ],
   "source": [
    "list[dir(set)]"
   ]
  },
  {
   "cell_type": "code",
   "execution_count": 13,
   "id": "39d3a9b6",
   "metadata": {},
   "outputs": [
    {
     "name": "stdout",
     "output_type": "stream",
     "text": [
      "{'hello', 36, 69, 87, 42, 12, 45}\n"
     ]
    }
   ],
   "source": [
    "set1={45,69,87,42,12,36}\n",
    "set1.add(\"hello\")\n",
    "print(set1)"
   ]
  },
  {
   "cell_type": "code",
   "execution_count": 1,
   "id": "0bd2fff3",
   "metadata": {},
   "outputs": [
    {
     "name": "stdout",
     "output_type": "stream",
     "text": [
      "{69, 42, 12, 45, 87, 'great', 'wow'}\n"
     ]
    }
   ],
   "source": [
    "set1={45,69,87,42,12,36,\"great\",\"wow\"}\n",
    "set1.pop()\n",
    "print(set1)"
   ]
  },
  {
   "cell_type": "code",
   "execution_count": 5,
   "id": "323b6e89",
   "metadata": {},
   "outputs": [
    {
     "name": "stdout",
     "output_type": "stream",
     "text": [
      "{36, 69, 42, 12, 45, 87, 'wow'}\n"
     ]
    }
   ],
   "source": [
    "set1={45,69,87,42,12,36,\"great\",\"wow\",\"great\"}\n",
    "set1.remove(\"great\")\n",
    "print(set1)"
   ]
  },
  {
   "cell_type": "code",
   "execution_count": 6,
   "id": "3e4342d8",
   "metadata": {},
   "outputs": [
    {
     "name": "stdout",
     "output_type": "stream",
     "text": [
      "{96, 36, 101, 23, 45, 78}\n"
     ]
    }
   ],
   "source": [
    "set1={45,36,23}\n",
    "set2={78,96,101}\n",
    "set3=set1.union(set2)\n",
    "print(set3)"
   ]
  },
  {
   "cell_type": "code",
   "execution_count": 8,
   "id": "88e84881",
   "metadata": {},
   "outputs": [
    {
     "name": "stdout",
     "output_type": "stream",
     "text": [
      "{96, 101}\n"
     ]
    }
   ],
   "source": [
    "set1={45,36,23,101,96}\n",
    "set2={78,96,101}\n",
    "set3=set1.intersection(set2)\n",
    "print(set3)"
   ]
  },
  {
   "cell_type": "code",
   "execution_count": 10,
   "id": "08cc9177",
   "metadata": {},
   "outputs": [
    {
     "name": "stdout",
     "output_type": "stream",
     "text": [
      "{96, 36, 101, 23, 45}\n",
      "{96, 101}\n"
     ]
    }
   ],
   "source": [
    "set1={45,36,23,101,96}\n",
    "set2={78,96,101}\n",
    "set2.intersection_update(set1)\n",
    "print(set1)\n",
    "print(set2)\n"
   ]
  },
  {
   "cell_type": "code",
   "execution_count": 15,
   "id": "50cda197",
   "metadata": {},
   "outputs": [
    {
     "name": "stdout",
     "output_type": "stream",
     "text": [
      "{'wow', 'great'}\n",
      "{96, 'great', 87, 'wow', 45}\n"
     ]
    }
   ],
   "source": [
    "set1={\"wow\",\"great\"}\n",
    "set2={45,96,87}\n",
    "set2.update(set1)\n",
    "print(set1)\n",
    "print(set2)"
   ]
  },
  {
   "cell_type": "code",
   "execution_count": 5,
   "id": "d96727bb",
   "metadata": {},
   "outputs": [
    {
     "name": "stdout",
     "output_type": "stream",
     "text": [
      "{69, 78}\n"
     ]
    }
   ],
   "source": [
    "set1={45,23,65}\n",
    "set2={78,69,45}\n",
    "set2.difference_update(set1)\n",
    "print(set2)"
   ]
  },
  {
   "cell_type": "code",
   "execution_count": 6,
   "id": "0c6c6c41",
   "metadata": {},
   "outputs": [
    {
     "data": {
      "text/plain": [
       "8"
      ]
     },
     "execution_count": 6,
     "metadata": {},
     "output_type": "execute_result"
    }
   ],
   "source": [
    "{4,5,8}\n",
    "2**3\n",
    "{},{4},{5},{8},{4,5},{5,8},{4,8},{4,5,8}"
   ]
  },
  {
   "cell_type": "code",
   "execution_count": 8,
   "id": "ed51faf8",
   "metadata": {},
   "outputs": [
    {
     "name": "stdout",
     "output_type": "stream",
     "text": [
      "True\n"
     ]
    }
   ],
   "source": [
    "set1={4,5,8}\n",
    "set2={5,8}\n",
    "ans=set2.issubset(set1)\n",
    "print(ans)"
   ]
  },
  {
   "cell_type": "code",
   "execution_count": 10,
   "id": "5de7ed7c",
   "metadata": {},
   "outputs": [
    {
     "name": "stdout",
     "output_type": "stream",
     "text": [
      "True\n"
     ]
    }
   ],
   "source": [
    "set1={8}\n",
    "set2={4,5,8}\n",
    "ans=set2.issuperset(set1)\n",
    "print(ans)"
   ]
  },
  {
   "cell_type": "code",
   "execution_count": 12,
   "id": "4bce59f3",
   "metadata": {},
   "outputs": [
    {
     "name": "stdout",
     "output_type": "stream",
     "text": [
      "False\n"
     ]
    }
   ],
   "source": [
    "set1={1,2,3}\n",
    "set2={4,5,6}\n",
    "ans=set1.isdisjoint(set2)\n",
    "# it gives true when no common element and gives false when at least one common element\n",
    "print(ans)"
   ]
  },
  {
   "cell_type": "code",
   "execution_count": 14,
   "id": "9299c71e",
   "metadata": {},
   "outputs": [
    {
     "name": "stdout",
     "output_type": "stream",
     "text": [
      "{1, 3, 4, 5}\n"
     ]
    }
   ],
   "source": [
    "set1={1,2,3}\n",
    "set2={4,5,2}\n",
    "ans=set1.symmetric_difference(set2)\n",
    "# symmetric_difference means union-difference\n",
    "print(ans)"
   ]
  },
  {
   "cell_type": "code",
   "execution_count": 16,
   "id": "cf4f7b04",
   "metadata": {},
   "outputs": [
    {
     "name": "stdout",
     "output_type": "stream",
     "text": [
      "{65, 58, 89, 74, 45}\n"
     ]
    }
   ],
   "source": [
    "set1={45,65,89,74,58}\n",
    "set1.discard(852)\n",
    "print(set1)"
   ]
  }
 ],
 "metadata": {
  "kernelspec": {
   "display_name": "Python 3 (ipykernel)",
   "language": "python",
   "name": "python3"
  },
  "language_info": {
   "codemirror_mode": {
    "name": "ipython",
    "version": 3
   },
   "file_extension": ".py",
   "mimetype": "text/x-python",
   "name": "python",
   "nbconvert_exporter": "python",
   "pygments_lexer": "ipython3",
   "version": "3.9.12"
  }
 },
 "nbformat": 4,
 "nbformat_minor": 5
}
