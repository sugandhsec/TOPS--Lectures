{
 "cells": [
  {
   "cell_type": "code",
   "execution_count": null,
   "id": "d938bd41",
   "metadata": {},
   "outputs": [],
   "source": [
    "# Functions in python\n",
    "\n",
    "# Function is block of code used to make code undertstanable and more readbale and also \n",
    "\n",
    "# enhance code reusability\n",
    "# DRY--don't Repeat Yourself\n",
    "\n",
    "# There are two types of function\n",
    "# Inbuilt functions\n",
    "# User defined Function"
   ]
  },
  {
   "cell_type": "code",
   "execution_count": null,
   "id": "ce42f281",
   "metadata": {},
   "outputs": [],
   "source": [
    "# function definition\n",
    "\n",
    "def functionname(parameters):\n",
    "    body of the function\n",
    "    \n",
    "    "
   ]
  },
  {
   "cell_type": "code",
   "execution_count": 50,
   "id": "2f721895",
   "metadata": {},
   "outputs": [
    {
     "name": "stdout",
     "output_type": "stream",
     "text": [
      "hello\n",
      "hello\n"
     ]
    }
   ],
   "source": [
    "def greet():\n",
    "    for i in range(1,3):\n",
    "        print(\"hello\")\n",
    "greet()"
   ]
  },
  {
   "cell_type": "code",
   "execution_count": 51,
   "id": "cc55fd3d",
   "metadata": {},
   "outputs": [
    {
     "name": "stdout",
     "output_type": "stream",
     "text": [
      "hello\n",
      "hello\n"
     ]
    }
   ],
   "source": [
    "greet()"
   ]
  },
  {
   "cell_type": "code",
   "execution_count": 33,
   "id": "a59c59f8",
   "metadata": {},
   "outputs": [],
   "source": [
    "def fun1():\n",
    "    a=\"herllo\""
   ]
  },
  {
   "cell_type": "code",
   "execution_count": 34,
   "id": "7e463c85",
   "metadata": {},
   "outputs": [
    {
     "ename": "NameError",
     "evalue": "name 'a' is not defined",
     "output_type": "error",
     "traceback": [
      "\u001b[1;31m---------------------------------------------------------------------------\u001b[0m",
      "\u001b[1;31mNameError\u001b[0m                                 Traceback (most recent call last)",
      "Input \u001b[1;32mIn [34]\u001b[0m, in \u001b[0;36m<cell line: 2>\u001b[1;34m()\u001b[0m\n\u001b[0;32m      1\u001b[0m fun1()\n\u001b[1;32m----> 2\u001b[0m \u001b[38;5;28mprint\u001b[39m(\u001b[43ma\u001b[49m)\n",
      "\u001b[1;31mNameError\u001b[0m: name 'a' is not defined"
     ]
    }
   ],
   "source": [
    "fun1()\n",
    "print(a)"
   ]
  },
  {
   "cell_type": "code",
   "execution_count": 90,
   "id": "4451243f",
   "metadata": {},
   "outputs": [],
   "source": [
    "def fun1(m):\n",
    "    print(m**2)\n",
    "    print(m**3)\n",
    "    if m%2==0:\n",
    "        print(\"Even\")\n",
    "    else:\n",
    "        print(\"odd\")\n",
    "    return \"hellpo\""
   ]
  },
  {
   "cell_type": "code",
   "execution_count": 91,
   "id": "0e2b5965",
   "metadata": {},
   "outputs": [
    {
     "name": "stdout",
     "output_type": "stream",
     "text": [
      "484\n",
      "10648\n",
      "Even\n"
     ]
    },
    {
     "data": {
      "text/plain": [
       "'hellpo'"
      ]
     },
     "execution_count": 91,
     "metadata": {},
     "output_type": "execute_result"
    }
   ],
   "source": [
    "fun1(22)"
   ]
  },
  {
   "cell_type": "code",
   "execution_count": 49,
   "id": "720b8721",
   "metadata": {},
   "outputs": [
    {
     "ename": "TypeError",
     "evalue": "unsupported operand type(s) for ** or pow(): 'str' and 'int'",
     "output_type": "error",
     "traceback": [
      "\u001b[1;31m---------------------------------------------------------------------------\u001b[0m",
      "\u001b[1;31mTypeError\u001b[0m                                 Traceback (most recent call last)",
      "Input \u001b[1;32mIn [49]\u001b[0m, in \u001b[0;36m<cell line: 1>\u001b[1;34m()\u001b[0m\n\u001b[1;32m----> 1\u001b[0m \u001b[43mfun1\u001b[49m\u001b[43m(\u001b[49m\u001b[38;5;124;43m\"\u001b[39;49m\u001b[38;5;124;43mhello\u001b[39;49m\u001b[38;5;124;43m\"\u001b[39;49m\u001b[43m)\u001b[49m\n\u001b[0;32m      2\u001b[0m \u001b[38;5;28mprint\u001b[39m(\u001b[38;5;124m\"\u001b[39m\u001b[38;5;124mjefgbj\u001b[39m\u001b[38;5;124m\"\u001b[39m)\n\u001b[0;32m      3\u001b[0m \u001b[38;5;28mtype\u001b[39m(a)\n",
      "Input \u001b[1;32mIn [43]\u001b[0m, in \u001b[0;36mfun1\u001b[1;34m(m)\u001b[0m\n\u001b[0;32m      1\u001b[0m \u001b[38;5;28;01mdef\u001b[39;00m \u001b[38;5;21mfun1\u001b[39m(m):\n\u001b[1;32m----> 2\u001b[0m     \u001b[38;5;28mprint\u001b[39m(\u001b[43mm\u001b[49m\u001b[38;5;241;43m*\u001b[39;49m\u001b[38;5;241;43m*\u001b[39;49m\u001b[38;5;241;43m2\u001b[39;49m)\n\u001b[0;32m      3\u001b[0m     \u001b[38;5;28mprint\u001b[39m(m\u001b[38;5;241m*\u001b[39m\u001b[38;5;241m*\u001b[39m\u001b[38;5;241m3\u001b[39m)\n\u001b[0;32m      4\u001b[0m     \u001b[38;5;28;01mif\u001b[39;00m m\u001b[38;5;241m%\u001b[39m\u001b[38;5;241m2\u001b[39m\u001b[38;5;241m==\u001b[39m\u001b[38;5;241m0\u001b[39m:\n",
      "\u001b[1;31mTypeError\u001b[0m: unsupported operand type(s) for ** or pow(): 'str' and 'int'"
     ]
    }
   ],
   "source": [
    "fun1(\"hello\")\n",
    "print(\"jefgbj\")\n",
    "type(a)"
   ]
  },
  {
   "cell_type": "code",
   "execution_count": 47,
   "id": "803ae04f",
   "metadata": {},
   "outputs": [
    {
     "name": "stdout",
     "output_type": "stream",
     "text": [
      "25\n",
      "125\n",
      "odd\n",
      "6084\n",
      "474552\n",
      "Even\n",
      "15625\n",
      "1953125\n",
      "odd\n"
     ]
    }
   ],
   "source": [
    "k=5\n",
    "fun1(k)\n",
    "fun1(78)\n",
    "fun1(125)"
   ]
  },
  {
   "cell_type": "code",
   "execution_count": 80,
   "id": "28e68cba",
   "metadata": {},
   "outputs": [],
   "source": [
    "def fun1(k): #k is parameter\n",
    "    return \"wow ye kya return kiya\""
   ]
  },
  {
   "cell_type": "code",
   "execution_count": 81,
   "id": "5d58539c",
   "metadata": {},
   "outputs": [
    {
     "name": "stdout",
     "output_type": "stream",
     "text": [
      "wow ye kya return kiya\n"
     ]
    }
   ],
   "source": [
    "a=fun1(48) #argument\n",
    "print(a)"
   ]
  },
  {
   "cell_type": "code",
   "execution_count": 93,
   "id": "33220e5a",
   "metadata": {},
   "outputs": [],
   "source": [
    "def fun1(n1,n2,n3):\n",
    "    print(n1,n2)\n",
    "    "
   ]
  },
  {
   "cell_type": "code",
   "execution_count": 95,
   "id": "84e178f1",
   "metadata": {},
   "outputs": [
    {
     "ename": "TypeError",
     "evalue": "fun1() takes 3 positional arguments but 4 were given",
     "output_type": "error",
     "traceback": [
      "\u001b[1;31m---------------------------------------------------------------------------\u001b[0m",
      "\u001b[1;31mTypeError\u001b[0m                                 Traceback (most recent call last)",
      "Input \u001b[1;32mIn [95]\u001b[0m, in \u001b[0;36m<cell line: 1>\u001b[1;34m()\u001b[0m\n\u001b[1;32m----> 1\u001b[0m \u001b[43mfun1\u001b[49m\u001b[43m(\u001b[49m\u001b[38;5;241;43m465\u001b[39;49m\u001b[43m,\u001b[49m\u001b[38;5;124;43m\"\u001b[39;49m\u001b[38;5;124;43mhello\u001b[39;49m\u001b[38;5;124;43m\"\u001b[39;49m\u001b[43m,\u001b[49m\u001b[38;5;241;43m89\u001b[39;49m\u001b[43m,\u001b[49m\u001b[38;5;241;43m65\u001b[39;49m\u001b[43m)\u001b[49m\n",
      "\u001b[1;31mTypeError\u001b[0m: fun1() takes 3 positional arguments but 4 were given"
     ]
    }
   ],
   "source": [
    "fun1(465,\"hello\",89,65)"
   ]
  },
  {
   "cell_type": "code",
   "execution_count": 103,
   "id": "bb4214e8",
   "metadata": {},
   "outputs": [],
   "source": [
    "def fun1(list1):\n",
    "    list2=[]\n",
    "    for i in list1:\n",
    "        list2.append(len(i))\n",
    "    print(list1[list2.index(max(list2))])"
   ]
  },
  {
   "cell_type": "code",
   "execution_count": 105,
   "id": "ef21561f",
   "metadata": {},
   "outputs": [
    {
     "name": "stdout",
     "output_type": "stream",
     "text": [
      "dhrthtrtrthrt\n"
     ]
    }
   ],
   "source": [
    "\n",
    "l1=[\"hello\",\"wonderful\",\"bye\",\"dhrthtrtrthrt\",\"rtyruryt\"]\n",
    "fun1(l1)\n"
   ]
  }
 ],
 "metadata": {
  "kernelspec": {
   "display_name": "Python 3 (ipykernel)",
   "language": "python",
   "name": "python3"
  },
  "language_info": {
   "codemirror_mode": {
    "name": "ipython",
    "version": 3
   },
   "file_extension": ".py",
   "mimetype": "text/x-python",
   "name": "python",
   "nbconvert_exporter": "python",
   "pygments_lexer": "ipython3",
   "version": "3.9.12"
  }
 },
 "nbformat": 4,
 "nbformat_minor": 5
}
