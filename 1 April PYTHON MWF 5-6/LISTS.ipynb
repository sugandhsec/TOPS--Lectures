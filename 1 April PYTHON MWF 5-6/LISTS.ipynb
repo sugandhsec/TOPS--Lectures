{
 "cells": [
  {
   "cell_type": "code",
   "execution_count": null,
   "id": "93cbb40e",
   "metadata": {},
   "outputs": [],
   "source": [
    "# LIST\n",
    "# list is a collection of element of similar or different datatypes\n",
    "# list is mutable--changes allowed\n",
    "# list is ordered--every element in list has its own index number\n",
    "# list is defined in [] brackets\n",
    "# list allows duplicates values beacuse they all have different index numbers"
   ]
  },
  {
   "cell_type": "code",
   "execution_count": 1,
   "id": "ee1adf68",
   "metadata": {},
   "outputs": [
    {
     "name": "stdout",
     "output_type": "stream",
     "text": [
      "[45, 23.36, True, 'Hello', [1, 2, 3], (4, 5, 6), {96, 45}, {1: 'hello', 2: 'World'}]\n"
     ]
    }
   ],
   "source": [
    "list1=[45,23.36,True,\"Hello\",[1,2,3],(4,5,6),{45,96},{1:\"hello\",2:\"World\"}]\n",
    "print(list1)"
   ]
  },
  {
   "cell_type": "code",
   "execution_count": 5,
   "id": "b55d0558",
   "metadata": {},
   "outputs": [
    {
     "name": "stdout",
     "output_type": "stream",
     "text": [
      "65\n",
      "[45, 21, 23, 25, 45, 21, 25]\n",
      "[87, 69, 25, 21, 45, 25]\n",
      "[5, 54, 87, 69, 25, 21, 45, 25, 23, 21, 45, 87, 65, 23, 45]\n"
     ]
    }
   ],
   "source": [
    "# How to Access values inside list\n",
    "list1=[45,23,65,87,45,21,23,25,45,21,25,69,87,54,5]\n",
    "print(list1[2])\n",
    "print(list1[4:11])\n",
    "print(list1[-3:-9:-1])\n",
    "print(list1[-1::-1])"
   ]
  },
  {
   "cell_type": "code",
   "execution_count": 16,
   "id": "9cf9e60d",
   "metadata": {},
   "outputs": [
    {
     "name": "stdout",
     "output_type": "stream",
     "text": [
      "[45, 23, [45, 36], 87, 45, 21, 23, 25, 45, 21, 25, 69, 87, 54, 5]\n"
     ]
    }
   ],
   "source": [
    "# how to change value inside list \n",
    "list2=[45,23,65,87,45,21,23,25,45,21,25,69,87,54,5]\n",
    "list2[2]=[45,36]\n",
    "print(list2)\n",
    "# when you have to change more than one value then your value should be in iterable\n",
    "# all values inside iterable will places inside list as an individual elements\n",
    "# list2[3:5]=[1,25,36]\n",
    "# print(list2)"
   ]
  },
  {
   "cell_type": "code",
   "execution_count": 2,
   "id": "679a7d0f",
   "metadata": {},
   "outputs": [
    {
     "name": "stdout",
     "output_type": "stream",
     "text": [
      "[65, 8, 45, 14, 46, 87, 25]\n",
      "{65, 8, 45, 14, 46, 87, 25}\n"
     ]
    }
   ],
   "source": [
    "list1=[14,25,65,87,45,14,25,14,25,25,46,8]\n",
    "set1=set(list1)\n",
    "list1=list(set1)\n",
    "print(list1)\n",
    "print(set1)"
   ]
  },
  {
   "cell_type": "code",
   "execution_count": null,
   "id": "14fbce92",
   "metadata": {},
   "outputs": [],
   "source": [
    "# list functions\n",
    "# len min max list\n",
    "# functionname(listname)\n"
   ]
  },
  {
   "cell_type": "code",
   "execution_count": 18,
   "id": "dde18017",
   "metadata": {},
   "outputs": [
    {
     "name": "stdout",
     "output_type": "stream",
     "text": [
      "15\n"
     ]
    }
   ],
   "source": [
    "list2=[45,23,65,87,45,21,23,25,45,21,25,69,87,54,5]\n",
    "a=len(list2) #gives lenght of the list\n",
    "print(a)"
   ]
  },
  {
   "cell_type": "code",
   "execution_count": 22,
   "id": "0cc92306",
   "metadata": {},
   "outputs": [
    {
     "name": "stdout",
     "output_type": "stream",
     "text": [
      "5\n"
     ]
    }
   ],
   "source": [
    "list2=[45,23,65,87,45,21,23,25,45,21,25,69,87,54,5] # --on numbers basis\n",
    "# list2=[\"Hello\",\"Wonderfull\",\"poiyu\"] --on ASCII value basis\n",
    "# list2=[\"Hello\",123,\"Wow\",5896] --gives error\n",
    "a=min(list2) #gives minimun value from the list\n",
    "print(a)"
   ]
  },
  {
   "cell_type": "code",
   "execution_count": 23,
   "id": "4a305b08",
   "metadata": {},
   "outputs": [
    {
     "name": "stdout",
     "output_type": "stream",
     "text": [
      "87\n"
     ]
    }
   ],
   "source": [
    "list2=[45,23,65,87,45,21,23,25,45,21,25,69,87,54,5] # --on numbers basis\n",
    "# list2=[\"Hello\",\"Wonderfull\",\"poiyu\"] --on ASCII value basis\n",
    "# list2=[\"Hello\",123,\"Wow\",5896] --gives error\n",
    "a=max(list2) #gives maximum value from the list\n",
    "print(a)"
   ]
  },
  {
   "cell_type": "code",
   "execution_count": 30,
   "id": "d4e57d3a",
   "metadata": {},
   "outputs": [
    {
     "name": "stdout",
     "output_type": "stream",
     "text": [
      "[1, 2, 45]\n"
     ]
    }
   ],
   "source": [
    "# list() converts only iterables into list\n",
    "a={1:\"hello\",2:45,45:\"great\"}\n",
    "list1=list(a)\n",
    "print(list1)"
   ]
  },
  {
   "cell_type": "code",
   "execution_count": 1,
   "id": "efafd843",
   "metadata": {},
   "outputs": [
    {
     "data": {
      "text/plain": [
       "['__add__',\n",
       " '__class__',\n",
       " '__class_getitem__',\n",
       " '__contains__',\n",
       " '__delattr__',\n",
       " '__delitem__',\n",
       " '__dir__',\n",
       " '__doc__',\n",
       " '__eq__',\n",
       " '__format__',\n",
       " '__ge__',\n",
       " '__getattribute__',\n",
       " '__getitem__',\n",
       " '__gt__',\n",
       " '__hash__',\n",
       " '__iadd__',\n",
       " '__imul__',\n",
       " '__init__',\n",
       " '__init_subclass__',\n",
       " '__iter__',\n",
       " '__le__',\n",
       " '__len__',\n",
       " '__lt__',\n",
       " '__mul__',\n",
       " '__ne__',\n",
       " '__new__',\n",
       " '__reduce__',\n",
       " '__reduce_ex__',\n",
       " '__repr__',\n",
       " '__reversed__',\n",
       " '__rmul__',\n",
       " '__setattr__',\n",
       " '__setitem__',\n",
       " '__sizeof__',\n",
       " '__str__',\n",
       " '__subclasshook__',\n",
       " 'append',\n",
       " 'clear',\n",
       " 'copy',\n",
       " 'count',\n",
       " 'extend',\n",
       " 'index',\n",
       " 'insert',\n",
       " 'pop',\n",
       " 'remove',\n",
       " 'reverse',\n",
       " 'sort']"
      ]
     },
     "execution_count": 1,
     "metadata": {},
     "output_type": "execute_result"
    }
   ],
   "source": [
    "# Methods oF list\n",
    "# listname.methodname([parameters])\n",
    "dir(list)"
   ]
  },
  {
   "cell_type": "code",
   "execution_count": 37,
   "id": "549d4634",
   "metadata": {},
   "outputs": [
    {
     "name": "stdout",
     "output_type": "stream",
     "text": [
      "[45, 689, 74, 64, 7, 45, 5]\n",
      "[45, 689, 74, 64, 7, 45, 5, 'hello']\n"
     ]
    }
   ],
   "source": [
    "# append(element)--add element at last of the list wheteher it is iterable or not\n",
    "list1=[45,689,74,64,7,45,5]\n",
    "print(list1)\n",
    "list1.append(\"hello\")\n",
    "print(list1)"
   ]
  },
  {
   "cell_type": "code",
   "execution_count": 38,
   "id": "178d249c",
   "metadata": {},
   "outputs": [
    {
     "name": "stdout",
     "output_type": "stream",
     "text": [
      "[45, 689, 74, 64, 7, 45, 5]\n",
      "[45, 689, 74, 64, 7, 45, 5, 'h', 'e', 'l', 'l', 'o']\n"
     ]
    }
   ],
   "source": [
    "# extend(iterable)--add iterable at last of the list as an individual elements\n",
    "list1=[45,689,74,64,7,45,5]\n",
    "print(list1)\n",
    "list1.extend(\"hello\")\n",
    "print(list1)"
   ]
  },
  {
   "cell_type": "code",
   "execution_count": 42,
   "id": "37bedf9a",
   "metadata": {},
   "outputs": [
    {
     "name": "stdout",
     "output_type": "stream",
     "text": [
      "[45, 689, 74, 64, 7, 45, 5]\n",
      "[45, 689, 74, 64, 'hello', 7, 45, 5]\n"
     ]
    }
   ],
   "source": [
    "# insert(index,element)--add element at given index bu iterable or simple element\n",
    "# both will add as asingle element\n",
    "list1=[45,689,74,64,7,45,5]\n",
    "print(list1)\n",
    "list1.insert(4,\"hello\")\n",
    "print(list1)"
   ]
  },
  {
   "cell_type": "code",
   "execution_count": 46,
   "id": "3d931958",
   "metadata": {},
   "outputs": [
    {
     "name": "stdout",
     "output_type": "stream",
     "text": [
      "[45, 689, 74, 64, 7, 45, 5]\n",
      "[45, 689, 74, 64, 7, 45]\n",
      "[45, 689, 74, 7, 45]\n"
     ]
    }
   ],
   "source": [
    "# pop([index])--removes element at given index from the list if index is not given \n",
    "# then it removes last element of the list\n",
    "list1=[45,689,74,64,7,45,5]\n",
    "print(list1)\n",
    "list1.pop()\n",
    "print(list1)\n",
    "list1.pop(3)\n",
    "print(list1)\n",
    "# list1.pop(30) #if we try to remove index which is not in list then indexerror comes\n",
    "# print(list1)\n"
   ]
  },
  {
   "cell_type": "code",
   "execution_count": 50,
   "id": "f8529965",
   "metadata": {},
   "outputs": [
    {
     "name": "stdout",
     "output_type": "stream",
     "text": [
      "[45, 689, 74, 64, 74, 45, 5, 54, 89, 65, 48, 74]\n",
      "[45, 689, 64, 74, 45, 5, 54, 89, 65, 48, 74]\n"
     ]
    }
   ],
   "source": [
    "# remove(element) --it removes first occurence of element from the list\n",
    "# if element is not in list then it gives ValueError\n",
    "\n",
    "list1=[45,689,74,64,74,45,5,54,89,65,48,74]\n",
    "print(list1)\n",
    "list1.remove(74)\n",
    "print(list1)\n",
    "# list1.remove(96587)\n",
    "# print(list1)"
   ]
  },
  {
   "cell_type": "code",
   "execution_count": 53,
   "id": "de09266c",
   "metadata": {},
   "outputs": [
    {
     "data": {
      "text/plain": [
       "0"
      ]
     },
     "execution_count": 53,
     "metadata": {},
     "output_type": "execute_result"
    }
   ],
   "source": [
    "# count(element)--gives total occurence of element in list\n",
    "list1=[45,689,74,64,74,45,5,54,89,65,48,74]\n",
    "list1.count(74)\n",
    "list1.count(6987)"
   ]
  },
  {
   "cell_type": "code",
   "execution_count": 60,
   "id": "2b6b3f37",
   "metadata": {},
   "outputs": [
    {
     "data": {
      "text/plain": [
       "2"
      ]
     },
     "execution_count": 60,
     "metadata": {},
     "output_type": "execute_result"
    }
   ],
   "source": [
    "# index(element)--gives first occurence index of element inside list\n",
    "# if element is not in list then it gives ValueError\n",
    "list1=[45,689,74,64,74,45,5,54,89,65,48,74]\n",
    "list1.index(74)\n",
    "# list1.index(6987)"
   ]
  },
  {
   "cell_type": "code",
   "execution_count": 62,
   "id": "c77c1ddd",
   "metadata": {},
   "outputs": [
    {
     "name": "stdout",
     "output_type": "stream",
     "text": [
      "[45, 69, 87, 45, 69]\n",
      "[]\n"
     ]
    }
   ],
   "source": [
    "# clear()--it will clear whole list and makes list empty\n",
    "list1=[45,69,87,45,69]\n",
    "print(list1)\n",
    "list1.clear()\n",
    "print(list1)"
   ]
  },
  {
   "cell_type": "code",
   "execution_count": 64,
   "id": "c90fcfc5",
   "metadata": {},
   "outputs": [
    {
     "name": "stdout",
     "output_type": "stream",
     "text": [
      "[689, 89, 74, 74, 74, 65, 64, 54, 48, 45, 45, 5]\n"
     ]
    }
   ],
   "source": [
    "# sort([reverse=True])--arrange the list in ascending order and is reverse=true \n",
    "# then arrange in descending order\n",
    "list1=[45,689,74,64,74,45,5,54,89,65,48,74]\n",
    "# list1.sort()\n",
    "# print(list1)\n",
    "list1.sort(reverse=True)\n",
    "print(list1)"
   ]
  },
  {
   "cell_type": "code",
   "execution_count": 65,
   "id": "460d8c1a",
   "metadata": {},
   "outputs": [
    {
     "name": "stdout",
     "output_type": "stream",
     "text": [
      "[45, 689, 74, 64, 74, 45, 5, 54, 89, 65, 48, 74]\n",
      "[74, 48, 65, 89, 54, 5, 45, 74, 64, 74, 689, 45]\n"
     ]
    }
   ],
   "source": [
    "# reverse()--it will just reverse the list\n",
    "list1=[45,689,74,64,74,45,5,54,89,65,48,74]\n",
    "print(list1)\n",
    "list1.reverse()\n",
    "print(list1)"
   ]
  },
  {
   "cell_type": "code",
   "execution_count": 67,
   "id": "4f53a8a0",
   "metadata": {},
   "outputs": [
    {
     "name": "stdout",
     "output_type": "stream",
     "text": [
      "[45, 63, 69, 87, 89, 6]\n",
      "[45, 63, 69, 87, 89, 6]\n",
      "[45, 63, 'hello', 87, 89, 6]\n",
      "[45, 63, 'hello', 87, 89, 6]\n"
     ]
    }
   ],
   "source": [
    "list1=[45,63,69,87,89,6]\n",
    "list2=list1\n",
    "print(list1)\n",
    "print(list2)\n",
    "list1[2]=\"hello\"\n",
    "print(list1)\n",
    "print(list2)"
   ]
  },
  {
   "cell_type": "code",
   "execution_count": 68,
   "id": "89981a17",
   "metadata": {},
   "outputs": [
    {
     "name": "stdout",
     "output_type": "stream",
     "text": [
      "[45, 63, 69, 87, 89, 6]\n",
      "[45, 63, 69, 87, 89, 6]\n",
      "[45, 63, 'hello', 87, 89, 6]\n",
      "[45, 63, 69, 87, 89, 6]\n"
     ]
    }
   ],
   "source": [
    "# copy()--copy one list to another\n",
    "list1=[45,63,69,87,89,6]\n",
    "list2=list1.copy()\n",
    "print(list1)\n",
    "print(list2)\n",
    "list1[2]=\"hello\"\n",
    "print(list1)\n",
    "print(list2)"
   ]
  }
 ],
 "metadata": {
  "kernelspec": {
   "display_name": "Python 3 (ipykernel)",
   "language": "python",
   "name": "python3"
  },
  "language_info": {
   "codemirror_mode": {
    "name": "ipython",
    "version": 3
   },
   "file_extension": ".py",
   "mimetype": "text/x-python",
   "name": "python",
   "nbconvert_exporter": "python",
   "pygments_lexer": "ipython3",
   "version": "3.9.12"
  }
 },
 "nbformat": 4,
 "nbformat_minor": 5
}
