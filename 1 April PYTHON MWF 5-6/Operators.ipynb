{
 "cells": [
  {
   "cell_type": "code",
   "execution_count": null,
   "id": "e806943a",
   "metadata": {},
   "outputs": [],
   "source": [
    "# Operators ---it is something which perform operations on operands\n",
    "87+32 --expression\n",
    "87,32 operands\n",
    "+ operator"
   ]
  },
  {
   "cell_type": "code",
   "execution_count": null,
   "id": "9e198b1a",
   "metadata": {},
   "outputs": [],
   "source": [
    "# Types of operators in python\n",
    "arithmetic operator + - * / %(modulus) //floor division **(power)\n",
    "relational operators > < >= <= == !=\n",
    "Logical operators and or not\n",
    "bitwise operators & | >> << ^Bitwise exclusice or(XOR)\n",
    "identity operator is is not\n",
    "membership operator in not in\n",
    "assignement operator = += -= *= /=....."
   ]
  },
  {
   "cell_type": "code",
   "execution_count": 10,
   "id": "3b3fb235",
   "metadata": {},
   "outputs": [
    {
     "name": "stdout",
     "output_type": "stream",
     "text": [
      "66.32\n",
      "-44\n",
      "2420\n",
      "0.5294117647058824\n",
      "8\n",
      "1.5\n",
      "11\n"
     ]
    }
   ],
   "source": [
    "# Arithmetic Operators\n",
    "# + - / * %(Modulus) //(floor division) **power\n",
    "print(10+56.32)\n",
    "print(45-89)\n",
    "print(44*55)\n",
    "print(45/85)\n",
    "print(2**3)\n",
    "print(10.5%3)\n",
    "print(45//4)"
   ]
  },
  {
   "cell_type": "code",
   "execution_count": 16,
   "id": "4d4651e8",
   "metadata": {},
   "outputs": [
    {
     "name": "stdout",
     "output_type": "stream",
     "text": [
      "False\n",
      "True\n",
      "True\n",
      "False\n",
      "True\n"
     ]
    }
   ],
   "source": [
    "# relational Operator > < >= <= == != Boolean True False\n",
    "print(10<5)\n",
    "print(95>=95)\n",
    "print(45>12)\n",
    "print(45==89)\n",
    "print(23!=458)"
   ]
  },
  {
   "cell_type": "code",
   "execution_count": 19,
   "id": "86d78390",
   "metadata": {},
   "outputs": [
    {
     "name": "stdout",
     "output_type": "stream",
     "text": [
      "True\n",
      "False\n"
     ]
    }
   ],
   "source": [
    "print(\"hello\"<\"wow\")#ASCII VALUE\n",
    "print(\"Hello\">\"hellotic\")"
   ]
  },
  {
   "cell_type": "code",
   "execution_count": null,
   "id": "a35ada91",
   "metadata": {},
   "outputs": [],
   "source": [
    "# LOGICAL OPERATOR and or not\n",
    "print(87>52) #True\n",
    "print(49==25) #False\n",
    "print(14!=25) #True\n",
    "print(102<21) #False\n",
    "# and---so if all conditions are True then Final Result True if atleast one \n",
    "# condition is false then final result is False\n",
    "\n",
    "# or---so if all condition is flase then false and if atleast\n",
    "# one true then true\n",
    "\n",
    "and---It will reverse your answer means True Becomes False And vice versa"
   ]
  },
  {
   "cell_type": "code",
   "execution_count": 42,
   "id": "fab451cf",
   "metadata": {},
   "outputs": [
    {
     "name": "stdout",
     "output_type": "stream",
     "text": [
      "True\n"
     ]
    }
   ],
   "source": [
    "\n",
    "print(not(48>52))"
   ]
  },
  {
   "cell_type": "code",
   "execution_count": 20,
   "id": "c79f26cc",
   "metadata": {},
   "outputs": [
    {
     "name": "stdout",
     "output_type": "stream",
     "text": [
      "False\n"
     ]
    }
   ],
   "source": [
    "print(87>52 and 49==25 or 14!=25 and 102<21)\n",
    "# it's decides on associativity of operator\n",
    "a=4>25<=48==25!=85\n",
    "a=0<=48==25!=85\n",
    "a=1==25!=85\n",
    "a=0!=85\n",
    "a=1--True"
   ]
  },
  {
   "cell_type": "code",
   "execution_count": null,
   "id": "1ef2b222",
   "metadata": {},
   "outputs": [],
   "source": [
    "85>=45\n",
    "85>45 or 85=45"
   ]
  },
  {
   "cell_type": "code",
   "execution_count": 21,
   "id": "5d79483b",
   "metadata": {},
   "outputs": [
    {
     "name": "stdout",
     "output_type": "stream",
     "text": [
      "False\n"
     ]
    }
   ],
   "source": [
    "print(4>25<=48==25!=85)"
   ]
  },
  {
   "cell_type": "code",
   "execution_count": 27,
   "id": "88d2233f",
   "metadata": {},
   "outputs": [
    {
     "data": {
      "text/plain": [
       "1"
      ]
     },
     "execution_count": 27,
     "metadata": {},
     "output_type": "execute_result"
    }
   ],
   "source": [
    "int(0!=85)"
   ]
  },
  {
   "cell_type": "code",
   "execution_count": 33,
   "id": "ae0f464e",
   "metadata": {},
   "outputs": [
    {
     "data": {
      "text/plain": [
       "15.0"
      ]
     },
     "execution_count": 33,
     "metadata": {},
     "output_type": "execute_result"
    }
   ],
   "source": [
    "14.9999999999999999"
   ]
  },
  {
   "cell_type": "code",
   "execution_count": null,
   "id": "28121432",
   "metadata": {},
   "outputs": [],
   "source": [
    "bit is the samllest unit of memory\n",
    "which has only two values 0 and 1"
   ]
  },
  {
   "cell_type": "code",
   "execution_count": null,
   "id": "04d7b938",
   "metadata": {},
   "outputs": [],
   "source": [
    "85&25 --binary format"
   ]
  },
  {
   "cell_type": "code",
   "execution_count": 34,
   "id": "4d0eec9d",
   "metadata": {},
   "outputs": [
    {
     "data": {
      "text/plain": [
       "9"
      ]
     },
     "execution_count": 34,
     "metadata": {},
     "output_type": "execute_result"
    }
   ],
   "source": [
    "89&45"
   ]
  },
  {
   "cell_type": "code",
   "execution_count": 35,
   "id": "fff1a96d",
   "metadata": {},
   "outputs": [
    {
     "data": {
      "text/plain": [
       "125"
      ]
     },
     "execution_count": 35,
     "metadata": {},
     "output_type": "execute_result"
    }
   ],
   "source": [
    "89|45"
   ]
  },
  {
   "cell_type": "code",
   "execution_count": 39,
   "id": "0364be0d",
   "metadata": {},
   "outputs": [
    {
     "data": {
      "text/plain": [
       "116"
      ]
     },
     "execution_count": 39,
     "metadata": {},
     "output_type": "execute_result"
    }
   ],
   "source": [
    "45>>3\n",
    "45<<3\n",
    "45^89\n",
    "Bitwise exclusive Or says \n",
    "same then False means 0 but when not same then TRue means 1"
   ]
  },
  {
   "cell_type": "code",
   "execution_count": 40,
   "id": "20ea3992",
   "metadata": {},
   "outputs": [
    {
     "name": "stdout",
     "output_type": "stream",
     "text": [
      "51\n"
     ]
    }
   ],
   "source": [
    "# Assignement Operatos\n",
    "\n",
    "a=45\n",
    "a=a+6\n",
    "a+=6\n",
    "a=b+6\n",
    "a=a+6\n",
    "a+=6\n",
    "a=a/9\n",
    "a/=9\n",
    "a=a>>2\n",
    "a>>=2\n",
    "print(a)"
   ]
  }
 ],
 "metadata": {
  "kernelspec": {
   "display_name": "Python 3 (ipykernel)",
   "language": "python",
   "name": "python3"
  },
  "language_info": {
   "codemirror_mode": {
    "name": "ipython",
    "version": 3
   },
   "file_extension": ".py",
   "mimetype": "text/x-python",
   "name": "python",
   "nbconvert_exporter": "python",
   "pygments_lexer": "ipython3",
   "version": "3.9.12"
  }
 },
 "nbformat": 4,
 "nbformat_minor": 5
}
