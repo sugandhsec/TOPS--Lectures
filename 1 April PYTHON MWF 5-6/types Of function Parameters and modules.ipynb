{
 "cells": [
  {
   "cell_type": "markdown",
   "id": "5d9c5d2f",
   "metadata": {},
   "source": [
    "# Types of arguments\n",
    "1)positional Arguments\n",
    "2)keyword argument\n",
    "3)default argument\n",
    "4)arbitrary positional argument\n",
    "5)arbitrary keyword argument\n",
    "\n",
    "positionaL,keywords,aribtrary positional,arbitrary keyword"
   ]
  },
  {
   "cell_type": "code",
   "execution_count": 20,
   "id": "137aed0a",
   "metadata": {},
   "outputs": [
    {
     "name": "stdout",
     "output_type": "stream",
     "text": [
      "hello 25\n"
     ]
    }
   ],
   "source": [
    "# positional argument\n",
    "def fun1(a,b):\n",
    "    print(a,b)\n",
    "    \n",
    "fun1(\"hello\",25)"
   ]
  },
  {
   "cell_type": "code",
   "execution_count": 8,
   "id": "dee3aac3",
   "metadata": {},
   "outputs": [
    {
     "ename": "TypeError",
     "evalue": "fun1() got an unexpected keyword argument 'd'",
     "output_type": "error",
     "traceback": [
      "\u001b[1;31m---------------------------------------------------------------------------\u001b[0m",
      "\u001b[1;31mTypeError\u001b[0m                                 Traceback (most recent call last)",
      "Input \u001b[1;32mIn [8]\u001b[0m, in \u001b[0;36m<cell line: 4>\u001b[1;34m()\u001b[0m\n\u001b[0;32m      1\u001b[0m \u001b[38;5;28;01mdef\u001b[39;00m \u001b[38;5;21mfun1\u001b[39m(a,b,c):\n\u001b[0;32m      2\u001b[0m     \u001b[38;5;28mprint\u001b[39m(a,b,c)\n\u001b[1;32m----> 4\u001b[0m \u001b[43mfun1\u001b[49m\u001b[43m(\u001b[49m\u001b[38;5;241;43m89\u001b[39;49m\u001b[43m,\u001b[49m\u001b[43mc\u001b[49m\u001b[38;5;241;43m=\u001b[39;49m\u001b[38;5;124;43m\"\u001b[39;49m\u001b[38;5;124;43mdemo\u001b[39;49m\u001b[38;5;124;43m\"\u001b[39;49m\u001b[43m,\u001b[49m\u001b[43mb\u001b[49m\u001b[38;5;241;43m=\u001b[39;49m\u001b[38;5;241;43m48\u001b[39;49m\u001b[43m,\u001b[49m\u001b[43md\u001b[49m\u001b[38;5;241;43m=\u001b[39;49m\u001b[38;5;241;43m89\u001b[39;49m\u001b[43m)\u001b[49m\n",
      "\u001b[1;31mTypeError\u001b[0m: fun1() got an unexpected keyword argument 'd'"
     ]
    }
   ],
   "source": [
    "# keyword argument\n",
    "def fun1(a,b,c):\n",
    "    print(a,b,c)\n",
    "    \n",
    "fun1(89,c=\"demo\",b=48)"
   ]
  },
  {
   "cell_type": "code",
   "execution_count": 10,
   "id": "b9bcb2e8",
   "metadata": {},
   "outputs": [
    {
     "name": "stdout",
     "output_type": "stream",
     "text": [
      "89 demo\n"
     ]
    }
   ],
   "source": [
    "# default argument\n",
    "def fun1(a,b=45):\n",
    "    print(a,b)\n",
    "    \n",
    "fun1(89,\"demo\")"
   ]
  },
  {
   "cell_type": "code",
   "execution_count": 14,
   "id": "358f62bf",
   "metadata": {},
   "outputs": [
    {
     "name": "stdout",
     "output_type": "stream",
     "text": [
      "78 96 (58, 45, 12, 56, 32, 54, 58)\n"
     ]
    }
   ],
   "source": [
    "# arbitrary positional argument --- *\n",
    "def demo1(a,b,*c):\n",
    "    print(a,b,c)\n",
    "    \n",
    "demo1(78,96,58,45,12,56,32,54,58)"
   ]
  },
  {
   "cell_type": "code",
   "execution_count": 19,
   "id": "5e759563",
   "metadata": {},
   "outputs": [
    {
     "name": "stdout",
     "output_type": "stream",
     "text": [
      "87 hello eliminate\n"
     ]
    }
   ],
   "source": [
    "# arbitrary keyword argument--**---dictionary\n",
    "def demo1(a,b,**c):\n",
    "    print(a,b,c['e'])\n",
    "    \n",
    "demo1(87,b=\"hello\",c=\"great\",d=\"define\",e=\"eliminate\")"
   ]
  },
  {
   "cell_type": "code",
   "execution_count": 270,
   "id": "fdaccc2e",
   "metadata": {},
   "outputs": [
    {
     "data": {
      "text/plain": [
       "650474"
      ]
     },
     "execution_count": 270,
     "metadata": {},
     "output_type": "execute_result"
    }
   ],
   "source": [
    "# modules\n",
    "# function----module----package----library\n",
    "import random\n",
    "random.choice([48,96,58,74,52,14,59,85])\n",
    "random.choices([48,96,58,74,52,14,56,325],k=15)\n",
    "random.randint(1,15)\n",
    "random.randrange(1,151,3)\n",
    "random.random()\n",
    "random.randint(100000,999999)\n",
    "\n"
   ]
  },
  {
   "cell_type": "code",
   "execution_count": 277,
   "id": "7dd476fa",
   "metadata": {},
   "outputs": [],
   "source": [
    "import smtplib\n",
    "import random\n",
    "otp=random.randint(100000,999999)\n",
    "content=f\"Hello World otp is {otp}\"\n",
    "mail=smtplib.SMTP('smtp.gmail.com', 587)\n",
    "mail.ehlo()\n",
    "mail.starttls()\n",
    "sender = 'sugandhgupta.tops@gmail.com'\n",
    "recipient='yutvilsavani@gmail.com'\n",
    "mail.login('sugandhgupta.tops@gmail.com','fkumhtjndgyjnnzu')\n",
    "header=f'''To:'+{recipient}+'\\n'+'From:' \\\n",
    "+{sender}+'\\n'+'subject:testmail\\n'''\n",
    "content=header+content\n",
    "mail.sendmail(sender, recipient, content)\n",
    "mail.close()"
   ]
  },
  {
   "cell_type": "code",
   "execution_count": 284,
   "id": "824226d4",
   "metadata": {},
   "outputs": [
    {
     "name": "stdout",
     "output_type": "stream",
     "text": [
      "hello MR. Gupta Sugandh\n"
     ]
    }
   ],
   "source": [
    "# Anonymous function\n",
    "# lambda function\n",
    "# lambda parameters:body\n",
    "a=lambda name:f\"hello MR. {name}\"\n",
    "# type(a)\n",
    "f=a(\"Gupta Sugandh\")\n",
    "print(f)"
   ]
  },
  {
   "cell_type": "code",
   "execution_count": 286,
   "id": "328e65aa",
   "metadata": {},
   "outputs": [
    {
     "name": "stdout",
     "output_type": "stream",
     "text": [
      "['hello', 'great', 'weriuerot']\n"
     ]
    }
   ],
   "source": [
    "# list comprehension\n",
    "list1=[\"hello\",\"great\",\"ergt\",\"weriuerot\"]\n",
    "list2=[]\n",
    "for i in list1:\n",
    "    if len(i)>4:\n",
    "        list2.append(i)\n",
    "print(list2)"
   ]
  },
  {
   "cell_type": "code",
   "execution_count": 289,
   "id": "36e1f457",
   "metadata": {},
   "outputs": [
    {
     "name": "stdout",
     "output_type": "stream",
     "text": [
      "['hello', 'great', 'weriuerot']\n"
     ]
    }
   ],
   "source": [
    "list1=[\"hello\",\"great\",\"ergt\",\"weriuerot\"]\n",
    "list2=[i for i in list1 if len(i)>4]\n",
    "print(list2)"
   ]
  },
  {
   "cell_type": "code",
   "execution_count": 290,
   "id": "ff53fc94",
   "metadata": {},
   "outputs": [
    {
     "name": "stdout",
     "output_type": "stream",
     "text": [
      "[3, 6, 9, 12, 15, 18, 21, 24, 27]\n"
     ]
    }
   ],
   "source": [
    "list3=[i for i in range(1,30) if i%3==0]\n",
    "print(list3)"
   ]
  },
  {
   "cell_type": "code",
   "execution_count": 306,
   "id": "4977197b",
   "metadata": {},
   "outputs": [
    {
     "name": "stdout",
     "output_type": "stream",
     "text": [
      "hello\n"
     ]
    }
   ],
   "source": [
    "aiu=\"\"\n",
    "def fun1():\n",
    "#     global aiu\n",
    "    aiu=\"hello\"\n",
    "fun1()\n",
    "print(aiu)"
   ]
  },
  {
   "cell_type": "code",
   "execution_count": 321,
   "id": "71e9c18b",
   "metadata": {},
   "outputs": [
    {
     "name": "stdout",
     "output_type": "stream",
     "text": [
      "146.8273678860024\n"
     ]
    }
   ],
   "source": [
    "# math\n",
    "import math\n",
    "math.ceil(4.23)\n",
    "math.floor(8.23)\n",
    "math.factorial(5)\n",
    "math.gcd(25,360)\n",
    "math.pow(5,3.1)\n",
    "print(5**3.1)"
   ]
  },
  {
   "cell_type": "code",
   "execution_count": null,
   "id": "a2427fef",
   "metadata": {},
   "outputs": [],
   "source": [
    "print()"
   ]
  }
 ],
 "metadata": {
  "kernelspec": {
   "display_name": "Python 3 (ipykernel)",
   "language": "python",
   "name": "python3"
  },
  "language_info": {
   "codemirror_mode": {
    "name": "ipython",
    "version": 3
   },
   "file_extension": ".py",
   "mimetype": "text/x-python",
   "name": "python",
   "nbconvert_exporter": "python",
   "pygments_lexer": "ipython3",
   "version": "3.9.12"
  }
 },
 "nbformat": 4,
 "nbformat_minor": 5
}
