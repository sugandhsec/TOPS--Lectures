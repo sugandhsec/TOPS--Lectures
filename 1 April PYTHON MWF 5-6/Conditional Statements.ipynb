{
 "cells": [
  {
   "cell_type": "code",
   "execution_count": null,
   "id": "c0d65c77",
   "metadata": {},
   "outputs": [],
   "source": [
    "# Conditional Statements\n",
    "1)simple if\n",
    "2)if ..else\n",
    "3)if...elif...elif...........[else] ----ladder if else\n",
    "4)nested if else"
   ]
  },
  {
   "cell_type": "code",
   "execution_count": null,
   "id": "8926d660",
   "metadata": {},
   "outputs": [],
   "source": [
    "# simple if\n",
    "syntax:\n",
    "    \n",
    "    \n",
    "if condition:\n",
    "    body of the if statement"
   ]
  },
  {
   "cell_type": "code",
   "execution_count": 5,
   "id": "57d9b62a",
   "metadata": {},
   "outputs": [
    {
     "name": "stdout",
     "output_type": "stream",
     "text": [
      "Enter number: 45\n",
      "Before IF\n",
      "Adult\n",
      "After if\n"
     ]
    }
   ],
   "source": [
    "age=int(input(\"Enter number: \"))\n",
    "print(\"Before IF\")\n",
    "if age>18:\n",
    "    print(\"Adult\")\n",
    "print(\"After if\")"
   ]
  },
  {
   "cell_type": "code",
   "execution_count": null,
   "id": "3c98baa1",
   "metadata": {},
   "outputs": [],
   "source": [
    "# if..else....\n",
    "\n",
    "if condition:\n",
    "    body of the if\n",
    "    erthgrt\n",
    "    th\n",
    "    rthr\n",
    "    h\n",
    "    rth\n",
    "else:\n",
    "    body of the if\n",
    "    and else has no condition"
   ]
  },
  {
   "cell_type": "code",
   "execution_count": 7,
   "id": "468cb389",
   "metadata": {},
   "outputs": [
    {
     "name": "stdout",
     "output_type": "stream",
     "text": [
      "Enter number: 12\n",
      "Before IF\n",
      "Not adult\n",
      "After if\n"
     ]
    }
   ],
   "source": [
    "age=int(input(\"Enter number: \"))\n",
    "print(\"Before IF\")\n",
    "if age>18:\n",
    "    print(\"Adult\")\n",
    "else:\n",
    "    print(\"Not adult\")\n",
    "print(\"After if\")"
   ]
  },
  {
   "cell_type": "code",
   "execution_count": null,
   "id": "009f3588",
   "metadata": {},
   "outputs": [],
   "source": [
    "# Ladder if else\n",
    "\n",
    "\n",
    "if condition1:\n",
    "    body\n",
    "    rge\n",
    "    g\n",
    "    gg\n",
    "elif condition2:\n",
    "    ertgt\n",
    "    gte\n",
    "    rg\n",
    "    erg\n",
    "    er\n",
    "elif condition3:\n",
    "    rthth\n",
    "    rth\n",
    "    rh\n",
    "    rt\n",
    "elif condition:h\n",
    "    rth\n",
    "    rth\n",
    "    rh\n",
    "    rt\n",
    "[\n",
    "else:\n",
    "    rgerree\n",
    "    rberbe\n",
    "    rb\n",
    "    \n",
    "]"
   ]
  },
  {
   "cell_type": "code",
   "execution_count": 17,
   "id": "c86227de",
   "metadata": {},
   "outputs": [
    {
     "name": "stdout",
     "output_type": "stream",
     "text": [
      "ENter Your Percentage: 23\n",
      "fail\n"
     ]
    }
   ],
   "source": [
    "perc=float(input(\"ENter Your Percentage: \"))\n",
    "if perc>90 and perc<100:\n",
    "    print(\"Grade A\")\n",
    "elif perc>80 and perc<=90:\n",
    "    print(\"Grade B\")\n",
    "elif perc>70 and perc<=80:\n",
    "    print(\"Grade C\")\n",
    "elif perc>60 and perc<=70:\n",
    "    print(\"Grade D\")\n",
    "elif perc>50 and perc<=60:\n",
    "    print(\"Grade E\")\n",
    "elif perc<=50 and perc>33:\n",
    "    print(\"Grade F\")\n",
    "elif perc<33 and perc>1:\n",
    "    print(\"fail\")\n",
    "else:\n",
    "    print(\"Enter PErcentage Between 1 to 100\")\n",
    "    \n",
    "    "
   ]
  },
  {
   "cell_type": "code",
   "execution_count": 18,
   "id": "4eaac19e",
   "metadata": {},
   "outputs": [
    {
     "name": "stdout",
     "output_type": "stream",
     "text": [
      "Enter Number: 458\n",
      "Wow\n"
     ]
    }
   ],
   "source": [
    "# Always Execute First True Condition\n",
    "n=int(input(\"Enter Number: \"))\n",
    "if n>100:\n",
    "    print(\"Wow\")\n",
    "elif n>100:\n",
    "    print(\"Some\")\n",
    "elif n>100:\n",
    "    print(\"greate\")"
   ]
  },
  {
   "cell_type": "code",
   "execution_count": 24,
   "id": "d794e350",
   "metadata": {},
   "outputs": [
    {
     "name": "stdout",
     "output_type": "stream",
     "text": [
      "Enter number1: 54\n",
      "Enter number2: 69\n",
      "Enter number3: 48\n",
      "69\n"
     ]
    }
   ],
   "source": [
    "# nested iF else\n",
    "a=int(input(\"Enter number1: \"))\n",
    "b=int(input(\"Enter number2: \"))\n",
    "c=int(input(\"Enter number3: \"))\n",
    "if a>b:\n",
    "    if a>c:\n",
    "        print(f\"{a}\")\n",
    "    else:\n",
    "        print(f\"{c}\")\n",
    "else:\n",
    "    if b>c:\n",
    "        print(f\"{b}\")\n",
    "    else:\n",
    "        print(f\"{c}\")\n",
    "       \n",
    "    "
   ]
  },
  {
   "cell_type": "code",
   "execution_count": null,
   "id": "87bfec4f",
   "metadata": {},
   "outputs": [],
   "source": [
    "# loop in python\n",
    "# for loop collections--iterables---range,string,list,tuple,set,dictionary\n",
    "# while loop  conditions"
   ]
  },
  {
   "cell_type": "code",
   "execution_count": null,
   "id": "47dc36e2",
   "metadata": {},
   "outputs": [],
   "source": [
    "# for loop\n",
    "for iterating_variable in collection:\n",
    "    body\n",
    "    \n"
   ]
  },
  {
   "cell_type": "code",
   "execution_count": 26,
   "id": "d4bbd3d0",
   "metadata": {},
   "outputs": [
    {
     "name": "stdout",
     "output_type": "stream",
     "text": [
      "h\n",
      "e\n",
      "l\n",
      "l\n",
      "o\n",
      " \n",
      "W\n",
      "o\n",
      "r\n",
      "l\n",
      "d\n"
     ]
    }
   ],
   "source": [
    "str1=\"hello World\"\n",
    "for i in str1:\n",
    "    print(f\"{i}\")"
   ]
  },
  {
   "cell_type": "code",
   "execution_count": null,
   "id": "24cc3729",
   "metadata": {},
   "outputs": [],
   "source": [
    "# collections\n",
    "string \"Heloo World\"\n",
    "range(1,56,3)--range(start,stop,step)\n",
    "list=[1,25,48,96,45]\n",
    "tuple=(48,96,58,74,5)\n",
    "set={45,32,4,7,8,9}\n",
    "dictionary={41:\"Hello\",23:\"worlld\"}"
   ]
  },
  {
   "cell_type": "code",
   "execution_count": null,
   "id": "84067fd1",
   "metadata": {},
   "outputs": [],
   "source": [
    "range([start,]stop[,step])\n",
    "range(20)\n",
    "starts has by default value 0\n",
    "step has by default value 1\n",
    "stop is compulsory but it stops before one value of stop"
   ]
  },
  {
   "cell_type": "code",
   "execution_count": 30,
   "id": "c2dda4fe",
   "metadata": {},
   "outputs": [
    {
     "name": "stdout",
     "output_type": "stream",
     "text": [
      "range(1, 9)\n",
      "1\n",
      "3\n",
      "5\n",
      "7\n"
     ]
    }
   ],
   "source": [
    "print(range(1,9))\n",
    "for i in range(1,9,2):\n",
    "    print(i)"
   ]
  },
  {
   "cell_type": "code",
   "execution_count": null,
   "id": "1b702cb6",
   "metadata": {},
   "outputs": [],
   "source": [
    "-9 -8 -7 -6 -5 -4 -3 -2 -1 0 1 2 3 4 5 6 7 8 9\n",
    "+positive direction left to right\n",
    "-negative direction right to left"
   ]
  },
  {
   "cell_type": "code",
   "execution_count": 35,
   "id": "89944ef1",
   "metadata": {},
   "outputs": [
    {
     "name": "stdout",
     "output_type": "stream",
     "text": [
      "-6\n",
      "-4\n",
      "-2\n"
     ]
    }
   ],
   "source": [
    "for i in range(-6,-1,2):\n",
    "    print(i)"
   ]
  },
  {
   "cell_type": "code",
   "execution_count": 36,
   "id": "b35caf03",
   "metadata": {},
   "outputs": [
    {
     "name": "stdout",
     "output_type": "stream",
     "text": [
      "10\n",
      "20\n",
      "30\n",
      "40\n",
      "50\n",
      "60\n",
      "70\n",
      "80\n",
      "90\n",
      "100\n"
     ]
    }
   ],
   "source": [
    "for i in range(10,101,10):\n",
    "    print(i)"
   ]
  },
  {
   "cell_type": "code",
   "execution_count": 37,
   "id": "f8fed2da",
   "metadata": {},
   "outputs": [
    {
     "name": "stdout",
     "output_type": "stream",
     "text": [
      "Enter Number: 45\n",
      "45 X 1 = 45\n",
      "45 X 2 = 90\n",
      "45 X 3 = 135\n",
      "45 X 4 = 180\n",
      "45 X 5 = 225\n",
      "45 X 6 = 270\n",
      "45 X 7 = 315\n",
      "45 X 8 = 360\n",
      "45 X 9 = 405\n",
      "45 X 10 = 450\n"
     ]
    }
   ],
   "source": [
    "n=int(input(\"Enter Number: \"))\n",
    "for i in range(1,11):\n",
    "    print(f\"{n} X {i} = {n*i}\")"
   ]
  },
  {
   "cell_type": "code",
   "execution_count": 38,
   "id": "246b3cba",
   "metadata": {},
   "outputs": [
    {
     "name": "stdout",
     "output_type": "stream",
     "text": [
      "Enter Number: 45\n",
      "Enter Number: 36\n",
      "Enter Number: 14\n",
      "Enter Number: 78\n",
      "Enter Number: 96\n",
      "Enter Number: 14\n",
      "Enter Number: 36\n",
      "Enter Number: 12\n",
      "Enter Number: 36\n",
      "Enter Number: 48\n",
      "Enter Number: 78\n",
      "Enter Number: 96\n",
      "Enter Number: 12\n",
      "Enter Number: 14\n",
      "Enter Number: 23\n",
      "Enter Number: 25\n"
     ]
    }
   ],
   "source": [
    "n=0\n",
    "while n!=25:\n",
    "    n=int(input(\"Enter Number: \"))"
   ]
  }
 ],
 "metadata": {
  "kernelspec": {
   "display_name": "Python 3 (ipykernel)",
   "language": "python",
   "name": "python3"
  },
  "language_info": {
   "codemirror_mode": {
    "name": "ipython",
    "version": 3
   },
   "file_extension": ".py",
   "mimetype": "text/x-python",
   "name": "python",
   "nbconvert_exporter": "python",
   "pygments_lexer": "ipython3",
   "version": "3.9.12"
  }
 },
 "nbformat": 4,
 "nbformat_minor": 5
}
