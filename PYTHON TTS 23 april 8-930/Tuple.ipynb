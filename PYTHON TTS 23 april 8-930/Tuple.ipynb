{
 "cells": [
  {
   "cell_type": "code",
   "execution_count": null,
   "id": "95c43d76",
   "metadata": {},
   "outputs": [],
   "source": [
    "# Tuple\n",
    "# tuple is a collection of elements of similar or different datatype\n",
    "# Tuple is immutable\n",
    "# Tuple is ordered datatype \n",
    "# Elements of tuple is accessed through index\n",
    "# Tuple is defined in ()"
   ]
  },
  {
   "cell_type": "code",
   "execution_count": 1,
   "id": "4d544e75",
   "metadata": {},
   "outputs": [
    {
     "name": "stdout",
     "output_type": "stream",
     "text": [
      "('Hello', 78, 56.32, True)\n"
     ]
    }
   ],
   "source": [
    "tup1=(\"Hello\",78,56.32,True)\n",
    "print(tup1)"
   ]
  },
  {
   "cell_type": "code",
   "execution_count": 4,
   "id": "e8e9b4bb",
   "metadata": {},
   "outputs": [
    {
     "name": "stdout",
     "output_type": "stream",
     "text": [
      "78\n",
      "(78, 56.32, True)\n"
     ]
    }
   ],
   "source": [
    "print(tup1[1])\n",
    "print(tup1[1:4])"
   ]
  },
  {
   "cell_type": "code",
   "execution_count": null,
   "id": "fe6382d9",
   "metadata": {},
   "outputs": [],
   "source": [
    "# Tuple methods\n",
    "index()\n",
    "count()"
   ]
  },
  {
   "cell_type": "code",
   "execution_count": 7,
   "id": "7ae8b806",
   "metadata": {},
   "outputs": [
    {
     "data": {
      "text/plain": [
       "3"
      ]
     },
     "execution_count": 7,
     "metadata": {},
     "output_type": "execute_result"
    }
   ],
   "source": [
    "tup2=(48,63,21,54,78,96,54,87,45)\n",
    "tup2.index(54)\n",
    "# tup2.index(4859)#value error"
   ]
  },
  {
   "cell_type": "code",
   "execution_count": 9,
   "id": "67257a58",
   "metadata": {},
   "outputs": [
    {
     "data": {
      "text/plain": [
       "0"
      ]
     },
     "execution_count": 9,
     "metadata": {},
     "output_type": "execute_result"
    }
   ],
   "source": [
    "# count()\n",
    "tup2.count(54)\n",
    "tup2.count(4875)"
   ]
  },
  {
   "cell_type": "code",
   "execution_count": null,
   "id": "67176476",
   "metadata": {},
   "outputs": [],
   "source": [
    "# tuple functions\n",
    "min\n",
    "max\n",
    "len\n",
    "tuple"
   ]
  },
  {
   "cell_type": "code",
   "execution_count": 14,
   "id": "7a2e30d0",
   "metadata": {},
   "outputs": [
    {
     "data": {
      "text/plain": [
       "98"
      ]
     },
     "execution_count": 14,
     "metadata": {},
     "output_type": "execute_result"
    }
   ],
   "source": [
    "tup1=(48,65,23,14,56,98,74,5)\n",
    "min(tup1)\n",
    "max(tup1)"
   ]
  },
  {
   "cell_type": "code",
   "execution_count": 15,
   "id": "c10fb59a",
   "metadata": {},
   "outputs": [
    {
     "data": {
      "text/plain": [
       "'weolkh'"
      ]
     },
     "execution_count": 15,
     "metadata": {},
     "output_type": "execute_result"
    }
   ],
   "source": [
    "tup1=(\"Hello\",\"eorkf\",\"weolkh\",\"poytrdy\")\n",
    "min(tup1)\n",
    "max(tup1)"
   ]
  },
  {
   "cell_type": "code",
   "execution_count": 16,
   "id": "cd624e20",
   "metadata": {},
   "outputs": [
    {
     "ename": "TypeError",
     "evalue": "'<' not supported between instances of 'int' and 'str'",
     "output_type": "error",
     "traceback": [
      "\u001b[1;31m---------------------------------------------------------------------------\u001b[0m",
      "\u001b[1;31mTypeError\u001b[0m                                 Traceback (most recent call last)",
      "Input \u001b[1;32mIn [16]\u001b[0m, in \u001b[0;36m<cell line: 2>\u001b[1;34m()\u001b[0m\n\u001b[0;32m      1\u001b[0m tup1\u001b[38;5;241m=\u001b[39m(\u001b[38;5;124m\"\u001b[39m\u001b[38;5;124merg\u001b[39m\u001b[38;5;124m\"\u001b[39m,\u001b[38;5;124m\"\u001b[39m\u001b[38;5;124mytu\u001b[39m\u001b[38;5;124m\"\u001b[39m,\u001b[38;5;124m\"\u001b[39m\u001b[38;5;124mRrgr\u001b[39m\u001b[38;5;124m\"\u001b[39m,\u001b[38;5;241m48\u001b[39m,\u001b[38;5;241m95\u001b[39m,\u001b[38;5;241m65\u001b[39m)\n\u001b[1;32m----> 2\u001b[0m \u001b[38;5;28;43mmin\u001b[39;49m\u001b[43m(\u001b[49m\u001b[43mtup1\u001b[49m\u001b[43m)\u001b[49m\n\u001b[0;32m      3\u001b[0m \u001b[38;5;28mmax\u001b[39m(tup1)\n",
      "\u001b[1;31mTypeError\u001b[0m: '<' not supported between instances of 'int' and 'str'"
     ]
    }
   ],
   "source": [
    "tup1=(\"erg\",\"ytu\",\"Rrgr\",48,95,65)\n",
    "min(tup1)\n",
    "max(tup1)"
   ]
  },
  {
   "cell_type": "code",
   "execution_count": 17,
   "id": "f389ba62",
   "metadata": {},
   "outputs": [
    {
     "data": {
      "text/plain": [
       "5"
      ]
     },
     "execution_count": 17,
     "metadata": {},
     "output_type": "execute_result"
    }
   ],
   "source": [
    "# len()\n",
    "tup1=(48,.96,54,12,56)\n",
    "len(tup1)"
   ]
  },
  {
   "cell_type": "code",
   "execution_count": 20,
   "id": "d762f053",
   "metadata": {},
   "outputs": [
    {
     "data": {
      "text/plain": [
       "('H', 'e', 'l', 'l', 'o', ' ', 'I', ' ', 'a', 'm')"
      ]
     },
     "execution_count": 20,
     "metadata": {},
     "output_type": "execute_result"
    }
   ],
   "source": [
    "# tuple(iterable)\n",
    "tuple(range(1,20))\n",
    "tuple([48,65,32,54])\n",
    "tuple(\"Hello I am\")"
   ]
  },
  {
   "cell_type": "code",
   "execution_count": null,
   "id": "5dd2f1f3",
   "metadata": {},
   "outputs": [],
   "source": [
    "# set\n",
    "# set is alos a collection of elements\n",
    "# set is unordered\n",
    "# set is defined in {}\n",
    "# set not allows duplicates"
   ]
  },
  {
   "cell_type": "code",
   "execution_count": 21,
   "id": "c15882fc",
   "metadata": {},
   "outputs": [
    {
     "name": "stdout",
     "output_type": "stream",
     "text": [
      "{98, 68, 74, 45, 48, 56, 58, 95}\n"
     ]
    }
   ],
   "source": [
    "set1={48,56,98,45,68,74,56,58,98,95,98}\n",
    "print(set1)"
   ]
  },
  {
   "cell_type": "code",
   "execution_count": 36,
   "id": "4b62bd37",
   "metadata": {},
   "outputs": [
    {
     "name": "stdout",
     "output_type": "stream",
     "text": [
      "Enter String: I am Leandwef jhgsdgfkhk\n",
      "['I', 'am', 'Leandwef', 'jhgsdgfkhk']\n",
      "i\n",
      "aM\n",
      "lEANDWEF\n",
      "jHGSDGFKHK\n"
     ]
    }
   ],
   "source": [
    "# dictionary\n",
    "\n",
    "str1=input(\"Enter String: \")\n",
    "\n",
    "# hELLO i aM lEARNINFN pYTHON\n",
    "list1=str1.split()\n",
    "for i in list1:\n",
    "    list2=list(i)\n",
    "    part1=str(list2[0]).lower()\n",
    "    list3=[]\n",
    "    for j in list2[1:]:\n",
    "        list3.append(j.upper())\n",
    "    part2=\"\".join(list3)\n",
    "    print(part1+part2)\n",
    "    \n",
    "    \n"
   ]
  },
  {
   "cell_type": "code",
   "execution_count": null,
   "id": "0ec3bc1a",
   "metadata": {},
   "outputs": [],
   "source": []
  }
 ],
 "metadata": {
  "kernelspec": {
   "display_name": "Python 3 (ipykernel)",
   "language": "python",
   "name": "python3"
  },
  "language_info": {
   "codemirror_mode": {
    "name": "ipython",
    "version": 3
   },
   "file_extension": ".py",
   "mimetype": "text/x-python",
   "name": "python",
   "nbconvert_exporter": "python",
   "pygments_lexer": "ipython3",
   "version": "3.9.12"
  }
 },
 "nbformat": 4,
 "nbformat_minor": 5
}
