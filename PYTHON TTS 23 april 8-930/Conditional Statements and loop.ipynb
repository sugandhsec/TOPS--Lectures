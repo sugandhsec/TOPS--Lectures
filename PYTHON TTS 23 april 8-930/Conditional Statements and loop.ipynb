{
 "cells": [
  {
   "cell_type": "code",
   "execution_count": 1,
   "id": "56a110a9",
   "metadata": {},
   "outputs": [
    {
     "name": "stdout",
     "output_type": "stream",
     "text": [
      "hello\n",
      "demo\n"
     ]
    }
   ],
   "source": [
    "print(\"hello\")\n",
    "print(\"demo\")"
   ]
  },
  {
   "cell_type": "code",
   "execution_count": null,
   "id": "95bea59c",
   "metadata": {},
   "outputs": [],
   "source": [
    "# conditional staements\n",
    "# simple if\n",
    "# if else\n",
    "# if ...elif..elif.........else (ladder if else)\n",
    "# nested if"
   ]
  },
  {
   "cell_type": "code",
   "execution_count": 4,
   "id": "e7148f9f",
   "metadata": {},
   "outputs": [
    {
     "name": "stdout",
     "output_type": "stream",
     "text": [
      "1\n",
      "2\n",
      "3\n",
      "4\n",
      "5\n",
      "6\n",
      "7\n"
     ]
    }
   ],
   "source": [
    "print(\"1\")\n",
    "print(\"2\")\n",
    "print(\"3\")\n",
    "print(\"4\")\n",
    "print(\"5\")\n",
    "print(\"6\")\n",
    "print(\"7\")"
   ]
  },
  {
   "cell_type": "code",
   "execution_count": null,
   "id": "a6f4e348",
   "metadata": {},
   "outputs": [],
   "source": [
    "# simple if\n",
    "if condition:\n",
    "    h4r5h\n",
    "    e4th45h\n",
    "    45h45h\n",
    "erg4th45\n",
    "th45h\n"
   ]
  },
  {
   "cell_type": "code",
   "execution_count": 2,
   "id": "cbdf0b43",
   "metadata": {},
   "outputs": [
    {
     "name": "stdout",
     "output_type": "stream",
     "text": [
      "2105527329040\n",
      "2105530334864\n"
     ]
    }
   ],
   "source": [
    "# id()\n",
    "a=89.23\n",
    "print(id(a))\n",
    "b=45.36\n",
    "print(id(b))"
   ]
  },
  {
   "cell_type": "code",
   "execution_count": 20,
   "id": "cff9eac9",
   "metadata": {},
   "outputs": [
    {
     "data": {
      "text/plain": [
       "True"
      ]
     },
     "execution_count": 20,
     "metadata": {},
     "output_type": "execute_result"
    }
   ],
   "source": [
    "# identity operator is is not\n",
    "\n",
    "a=89\n",
    "b=89\n",
    "a is b"
   ]
  },
  {
   "cell_type": "code",
   "execution_count": 25,
   "id": "ae0ea8b7",
   "metadata": {},
   "outputs": [
    {
     "data": {
      "text/plain": [
       "True"
      ]
     },
     "execution_count": 25,
     "metadata": {},
     "output_type": "execute_result"
    }
   ],
   "source": [
    "# membership operator\n",
    "\n",
    "str1=\"wow this is wonderful\"\n",
    "'wop' not in str1"
   ]
  },
  {
   "cell_type": "code",
   "execution_count": 27,
   "id": "de6643fd",
   "metadata": {},
   "outputs": [
    {
     "name": "stdout",
     "output_type": "stream",
     "text": [
      "-11\n",
      "7\n"
     ]
    }
   ],
   "source": [
    "# ~ tilde one's complement\n",
    "print(~10)\n",
    "print(~(-8))\n",
    "\n",
    "positive value turn into negative and  +1\n",
    "negative value turns into positive and -1"
   ]
  },
  {
   "cell_type": "code",
   "execution_count": null,
   "id": "77b1043f",
   "metadata": {},
   "outputs": [],
   "source": [
    "89  -90\n",
    "-36  35"
   ]
  },
  {
   "cell_type": "code",
   "execution_count": 29,
   "id": "61022d9e",
   "metadata": {},
   "outputs": [
    {
     "name": "stdout",
     "output_type": "stream",
     "text": [
      "Enter Age: 12\n"
     ]
    }
   ],
   "source": [
    "# Simple If\n",
    "age=int(input(\"Enter Age: \"))\n",
    "if age>18:\n",
    "    print(\"Adult\")"
   ]
  },
  {
   "cell_type": "code",
   "execution_count": null,
   "id": "e2959756",
   "metadata": {},
   "outputs": [],
   "source": [
    "# If...else\n",
    "if condition:\n",
    "    body of if\n",
    "else:\n",
    "    body of else\n",
    "    "
   ]
  },
  {
   "cell_type": "code",
   "execution_count": 61,
   "id": "136c92e2",
   "metadata": {},
   "outputs": [
    {
     "name": "stdout",
     "output_type": "stream",
     "text": [
      "Enter Age: 45\n",
      "Adult\n"
     ]
    }
   ],
   "source": [
    "age=int(input(\"Enter Age: \"))\n",
    "if age>0 and age<150:\n",
    "    if age>18:\n",
    "        print(\"Adult\")\n",
    "    else:\n",
    "        print(\"Not adult\")\n",
    "else:\n",
    "    print(\"Age is invalid\")"
   ]
  },
  {
   "cell_type": "code",
   "execution_count": null,
   "id": "4d75d7ec",
   "metadata": {},
   "outputs": [],
   "source": [
    "# ladder if else-----if elif...elif............else\n",
    "if condition1:\n",
    "    body of if\n",
    "elif condition2:\n",
    "    body of elif\n",
    "elif conditon3:\n",
    "    body of elif\n",
    "    \n",
    "    .\n",
    "    .\n",
    "    .\n",
    "    .\n",
    "    .\n",
    "[else:\n",
    "    body of else]"
   ]
  },
  {
   "cell_type": "code",
   "execution_count": 55,
   "id": "aca780d3",
   "metadata": {},
   "outputs": [
    {
     "name": "stdout",
     "output_type": "stream",
     "text": [
      "Enter Your NAme: -89\n",
      "Enter Percentage: -89\n"
     ]
    }
   ],
   "source": [
    "name=input(\"Enter Your NAme: \")\n",
    "# m1=20,m2=89,m3=45,m4=56,m5=57\n",
    "# m1,m2,m3,m4,m5=56,45,89,78,48\n",
    "# total=m1+m2+m3+m4+m5\n",
    "# percent=(total/500)*100\n",
    "percent=float(input(\"Enter Percentage: \"))\n",
    "if percent>90 and percent<100:\n",
    "    print('A1')\n",
    "elif percent>80 and percent<=90:\n",
    "    print(\"B1\")\n",
    "elif percent>70 and percent<=80:\n",
    "    print(\"C1\")\n",
    "elif percent>60 and percent<=70:\n",
    "    print(\"D1\")\n",
    "elif percent>33 and percent<=60:\n",
    "    print(\"D2\")\n",
    "elif percent<33 and percent>0:\n",
    "    print(\"Fail\")\n"
   ]
  },
  {
   "cell_type": "code",
   "execution_count": 47,
   "id": "da646c87",
   "metadata": {},
   "outputs": [
    {
     "name": "stdout",
     "output_type": "stream",
     "text": [
      "Enter Number: -78\n",
      "Negative\n"
     ]
    }
   ],
   "source": [
    "# if number is potive negative or zero\n",
    "num=int(input(\"Enter Number: \"))\n",
    "if num<0:\n",
    "    print(\"Negative\")\n",
    "elif num>0:\n",
    "    print(\"Positive\")\n",
    "elif num==0:\n",
    "    print(\"Zero\")"
   ]
  },
  {
   "cell_type": "code",
   "execution_count": 57,
   "id": "fa9b375f",
   "metadata": {},
   "outputs": [
    {
     "name": "stdout",
     "output_type": "stream",
     "text": [
      "Enter a number96\n",
      "hello\n"
     ]
    }
   ],
   "source": [
    "num=int(input(\"Enter a number\"))\n",
    "if num>89:\n",
    "    print(\"hello\")\n",
    "elif num>89:\n",
    "    print(\"Hello\")\n",
    "elif num>89:\n",
    "    print(\"Demo\")\n",
    "    \n"
   ]
  },
  {
   "cell_type": "code",
   "execution_count": null,
   "id": "6759516a",
   "metadata": {},
   "outputs": [],
   "source": [
    "nested if else:"
   ]
  },
  {
   "cell_type": "code",
   "execution_count": null,
   "id": "86639aed",
   "metadata": {},
   "outputs": [],
   "source": [
    "# loop\n",
    "# for loop  collections iterables range,list,string,tuple,set ,dictionary\n",
    "# while loop   condition"
   ]
  },
  {
   "cell_type": "code",
   "execution_count": null,
   "id": "0c996516",
   "metadata": {},
   "outputs": [],
   "source": [
    "# Syntax of for loop\n",
    "\n",
    "for iterating_variable in collection:\n",
    "    body\n",
    "    of\n",
    "    the\n",
    "    loop"
   ]
  },
  {
   "cell_type": "code",
   "execution_count": 65,
   "id": "f9b133e6",
   "metadata": {},
   "outputs": [
    {
     "name": "stdout",
     "output_type": "stream",
     "text": [
      "2025\n",
      "9216\n",
      "7921\n"
     ]
    }
   ],
   "source": [
    "for i in [45,96,89]:\n",
    "    print(i**2)"
   ]
  },
  {
   "cell_type": "code",
   "execution_count": null,
   "id": "c3bb2cc1",
   "metadata": {},
   "outputs": [],
   "source": [
    "# range([start],stop,[step])\n",
    "# range(9)--0 ----8 "
   ]
  },
  {
   "cell_type": "code",
   "execution_count": 66,
   "id": "336b5077",
   "metadata": {},
   "outputs": [
    {
     "name": "stdout",
     "output_type": "stream",
     "text": [
      "range(5, 15)\n"
     ]
    }
   ],
   "source": [
    "print(range(5,15))"
   ]
  },
  {
   "cell_type": "code",
   "execution_count": 70,
   "id": "fe8dee4d",
   "metadata": {},
   "outputs": [
    {
     "name": "stdout",
     "output_type": "stream",
     "text": [
      "9\n",
      "10\n",
      "11\n",
      "12\n",
      "13\n",
      "14\n"
     ]
    }
   ],
   "source": [
    "for i in range(9,15): #inclusive,exclusive\n",
    "    print(i)"
   ]
  },
  {
   "cell_type": "code",
   "execution_count": 71,
   "id": "78e2ee6a",
   "metadata": {},
   "outputs": [
    {
     "name": "stdout",
     "output_type": "stream",
     "text": [
      "5\n",
      "8\n",
      "11\n",
      "14\n",
      "17\n",
      "20\n",
      "23\n",
      "26\n",
      "29\n",
      "32\n",
      "35\n",
      "38\n",
      "41\n",
      "44\n"
     ]
    }
   ],
   "source": [
    "for i in range(5,45,3):\n",
    "    print(i)"
   ]
  },
  {
   "cell_type": "code",
   "execution_count": null,
   "id": "15b63d2b",
   "metadata": {},
   "outputs": [],
   "source": [
    "-9 -8 -7 -6 -5 -4 -3 -2 -1 0 1 2 3 4 5 6 7 8 9\n",
    "\n",
    "range(2,9,+1) ---left to right\n",
    "range(6,-5,-1)----right to left"
   ]
  },
  {
   "cell_type": "code",
   "execution_count": 4,
   "id": "e635cf29",
   "metadata": {},
   "outputs": [
    {
     "name": "stdout",
     "output_type": "stream",
     "text": [
      "6\n",
      "5\n",
      "4\n",
      "3\n",
      "2\n",
      "1\n",
      "0\n",
      "-1\n",
      "-2\n",
      "-3\n",
      "-4\n"
     ]
    }
   ],
   "source": [
    "for i in range(6,-5,-1):\n",
    "    print(i)"
   ]
  },
  {
   "cell_type": "code",
   "execution_count": null,
   "id": "667db0ea",
   "metadata": {},
   "outputs": [],
   "source": [
    "# while condition:\n",
    "body \n",
    "of\n",
    "the\n",
    "loop"
   ]
  },
  {
   "cell_type": "code",
   "execution_count": 1,
   "id": "ac68a74c",
   "metadata": {},
   "outputs": [
    {
     "name": "stdout",
     "output_type": "stream",
     "text": [
      "20\n",
      "21\n",
      "22\n",
      "23\n",
      "24\n",
      "25\n",
      "26\n",
      "27\n",
      "28\n",
      "29\n",
      "30\n",
      "31\n",
      "32\n",
      "33\n",
      "34\n",
      "35\n",
      "36\n",
      "37\n",
      "38\n",
      "39\n",
      "40\n",
      "41\n",
      "42\n",
      "43\n",
      "44\n",
      "45\n",
      "46\n",
      "47\n",
      "48\n",
      "49\n",
      "50\n",
      "51\n",
      "52\n",
      "53\n",
      "54\n",
      "55\n",
      "56\n",
      "57\n",
      "58\n",
      "59\n",
      "60\n",
      "61\n",
      "62\n",
      "63\n",
      "64\n",
      "65\n",
      "66\n",
      "67\n",
      "68\n",
      "69\n",
      "70\n",
      "71\n",
      "72\n",
      "73\n",
      "74\n",
      "75\n",
      "76\n",
      "77\n",
      "78\n",
      "79\n",
      "80\n",
      "81\n",
      "82\n",
      "83\n",
      "84\n",
      "85\n",
      "86\n",
      "87\n",
      "88\n",
      "89\n"
     ]
    }
   ],
   "source": [
    "a=20\n",
    "while a<90:\n",
    "    print(a)\n",
    "    a+=1"
   ]
  },
  {
   "cell_type": "code",
   "execution_count": 3,
   "id": "72396129",
   "metadata": {},
   "outputs": [
    {
     "name": "stdout",
     "output_type": "stream",
     "text": [
      "Enter number: 78\n",
      "78 x 1 = 78\n",
      "\n",
      "78 x 2 = 156\n",
      "\n",
      "78 x 3 = 234\n",
      "\n",
      "78 x 4 = 312\n",
      "\n",
      "78 x 5 = 390\n",
      "\n",
      "78 x 6 = 468\n",
      "\n",
      "78 x 7 = 546\n",
      "\n",
      "78 x 8 = 624\n",
      "\n",
      "78 x 9 = 702\n",
      "\n",
      "78 x 10 = 780\n",
      "\n"
     ]
    }
   ],
   "source": [
    "num=int(input(\"Enter number: \"))\n",
    "a=1\n",
    "while a<11:\n",
    "    print(f\"{num} x {a} = {num*a}\\n\")\n",
    "    a+=1\n"
   ]
  },
  {
   "cell_type": "code",
   "execution_count": 11,
   "id": "99630192",
   "metadata": {},
   "outputs": [
    {
     "name": "stdout",
     "output_type": "stream",
     "text": [
      "Enter a Number: 15\n",
      "56\n"
     ]
    }
   ],
   "source": [
    "num=int(input(\"Enter a Number: \"))\n",
    "total=0\n",
    "for i in range(0,num+1,2):\n",
    "    total=total+i\n",
    "print(total)"
   ]
  },
  {
   "cell_type": "code",
   "execution_count": 14,
   "id": "03db4bdc",
   "metadata": {},
   "outputs": [
    {
     "name": "stdout",
     "output_type": "stream",
     "text": [
      "Enter A year: 1997\n",
      "Not a leap year\n"
     ]
    }
   ],
   "source": [
    "year=int(input(\"Enter A year: \"))\n",
    "if year%4==0:\n",
    "    if year%100==0:\n",
    "        if year%400==0:\n",
    "            print(\"leap Year\")\n",
    "        else:\n",
    "            print(\"Not a leap year\")\n",
    "    else:\n",
    "        print(\"leap Year\")\n",
    "else:\n",
    "    print(\"Not a leap year\")"
   ]
  },
  {
   "cell_type": "code",
   "execution_count": null,
   "id": "c23a7a61",
   "metadata": {},
   "outputs": [],
   "source": []
  },
  {
   "cell_type": "code",
   "execution_count": 15,
   "id": "2c1c7c9a",
   "metadata": {},
   "outputs": [
    {
     "name": "stdout",
     "output_type": "stream",
     "text": [
      "Enter NUmber: 4859\n",
      "26\n"
     ]
    }
   ],
   "source": [
    "# 1847 1+8+4+7=20 \n",
    "num=int(input(\"Enter NUmber: \"))\n",
    "total=0\n",
    "while num!=0:\n",
    "    rem=num%10\n",
    "    total=total+rem\n",
    "    num=num//10\n",
    "\n",
    "print(total)\n",
    "\n",
    "# 121  121 plaindrome\n",
    "# 4589 9854 not palindrome\n",
    "\n"
   ]
  }
 ],
 "metadata": {
  "kernelspec": {
   "display_name": "Python 3 (ipykernel)",
   "language": "python",
   "name": "python3"
  },
  "language_info": {
   "codemirror_mode": {
    "name": "ipython",
    "version": 3
   },
   "file_extension": ".py",
   "mimetype": "text/x-python",
   "name": "python",
   "nbconvert_exporter": "python",
   "pygments_lexer": "ipython3",
   "version": "3.9.12"
  }
 },
 "nbformat": 4,
 "nbformat_minor": 5
}
