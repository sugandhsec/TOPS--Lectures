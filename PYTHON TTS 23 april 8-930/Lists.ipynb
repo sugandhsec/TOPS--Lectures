{
 "cells": [
  {
   "cell_type": "code",
   "execution_count": null,
   "id": "122b46a5",
   "metadata": {},
   "outputs": [],
   "source": [
    "# List\n",
    "\n",
    "int---8 9 6 5\n",
    "float-- 52.36 2.36\n",
    "# string----\"vrv\" ,\"efdwef\"\n",
    "boolean---True False\n",
    "\n",
    "# list"
   ]
  },
  {
   "cell_type": "code",
   "execution_count": null,
   "id": "ecfe485f",
   "metadata": {},
   "outputs": [],
   "source": [
    "# list is mutable datatype\n",
    "# list is ordered\n",
    "# list is defined in square braces [] separated by comma\n",
    "# list allows duplicates\n"
   ]
  },
  {
   "cell_type": "code",
   "execution_count": 4,
   "id": "1d58d6c4",
   "metadata": {},
   "outputs": [
    {
     "name": "stdout",
     "output_type": "stream",
     "text": [
      "[26, 56.36, True, 'Great', [25, 32], (48, 63), {36, 45}, {1: 'ehllo'}]\n",
      "[25, 32]\n"
     ]
    }
   ],
   "source": [
    "l1=[26,56.36,True,\"Great\",[25,32],(48,63),{45,36},{1:\"ehllo\"}]\n",
    "print(l1)\n",
    "print(l1[4])"
   ]
  },
  {
   "cell_type": "code",
   "execution_count": 8,
   "id": "617a89fa",
   "metadata": {},
   "outputs": [
    {
     "name": "stdout",
     "output_type": "stream",
     "text": [
      "[26, 56.36, True, 'Great', [25, 32], (48, 63), 879, {1: 'ehllo'}]\n",
      "['Great', [25, 32], (48, 63)]\n"
     ]
    }
   ],
   "source": [
    "l1[6]=879\n",
    "print(l1)\n",
    "print(l1[3:6])"
   ]
  },
  {
   "cell_type": "code",
   "execution_count": 9,
   "id": "f2138d52",
   "metadata": {},
   "outputs": [
    {
     "name": "stdout",
     "output_type": "stream",
     "text": [
      "[26, 'Great', 879]\n"
     ]
    }
   ],
   "source": [
    "print(l1[::3])"
   ]
  },
  {
   "cell_type": "code",
   "execution_count": 7,
   "id": "192d27d6",
   "metadata": {},
   "outputs": [
    {
     "name": "stdout",
     "output_type": "stream",
     "text": [
      "i am learn\n"
     ]
    }
   ],
   "source": [
    "str1=\"hello i am learning python\"\n",
    "print(str1[6:16])"
   ]
  },
  {
   "cell_type": "code",
   "execution_count": null,
   "id": "9037cba7",
   "metadata": {},
   "outputs": [],
   "source": [
    "range\n",
    "string\n",
    "list\n",
    "tuple\n",
    "set\n",
    "dictionary"
   ]
  },
  {
   "cell_type": "code",
   "execution_count": 13,
   "id": "874cd010",
   "metadata": {},
   "outputs": [
    {
     "name": "stdout",
     "output_type": "stream",
     "text": [
      "[45, 36, 45, 63, 25, 98, 74, 56, 52, 36, 54, 78, 96]\n"
     ]
    }
   ],
   "source": [
    "l1=[45,36,54,12,58,96,54,78,96]\n",
    "l1[2]=101\n",
    "# print(l1)\n",
    "# l1[2:6]=range(1,20)\n",
    "l1[2:6]=[45,63,25,98,74,56,52,36]\n",
    "\n",
    "print(l1)\n"
   ]
  },
  {
   "cell_type": "code",
   "execution_count": 16,
   "id": "2ee18fa4",
   "metadata": {},
   "outputs": [],
   "source": [
    "# list methods\n",
    "# 'append',\n",
    "#  'clear',\n",
    "#  'copy',\n",
    "#  'count',\n",
    "#  'extend',\n",
    "#  'index',\n",
    "#  'insert',\n",
    "#  'pop',\n",
    "#  'remove',\n",
    "#  'reverse',\n",
    "#  'sort'"
   ]
  },
  {
   "cell_type": "code",
   "execution_count": 20,
   "id": "8a709392",
   "metadata": {},
   "outputs": [
    {
     "name": "stdout",
     "output_type": "stream",
     "text": [
      "[45, 36, 58, 9, 89, 'great', [48, 36, 58, 9]]\n"
     ]
    }
   ],
   "source": [
    "# append(element)---add elemenent at last of list\n",
    "list1=[45,36,58,9]\n",
    "list1.append(89)\n",
    "list1.append(\"great\")\n",
    "list1.append([48,36,58,9])\n",
    "print(list1)"
   ]
  },
  {
   "cell_type": "code",
   "execution_count": 24,
   "id": "bef10d53",
   "metadata": {},
   "outputs": [
    {
     "name": "stdout",
     "output_type": "stream",
     "text": [
      "[45, 98, 74, 56, 32, 5, 48, 987, 56236]\n"
     ]
    }
   ],
   "source": [
    "# extend(iterable)---add iterable at last of list as an individual element\n",
    "list1=[45,98,74,56,32,5]\n",
    "list1.extend([48,987,56236])\n",
    "print(list1)"
   ]
  },
  {
   "cell_type": "code",
   "execution_count": 26,
   "id": "5a7a8095",
   "metadata": {},
   "outputs": [
    {
     "name": "stdout",
     "output_type": "stream",
     "text": [
      "[48, 58, 96, 54, 12, 'greart']\n"
     ]
    }
   ],
   "source": [
    "# insert(index,element)---add element at particular index\n",
    "l1=[48,58,96,54,12]\n",
    "# l1.insert(2,\"hello\")\n",
    "l1.insert(220,\"greart\")\n",
    "print(l1)"
   ]
  },
  {
   "cell_type": "code",
   "execution_count": 28,
   "id": "d4d9f7cb",
   "metadata": {},
   "outputs": [
    {
     "name": "stdout",
     "output_type": "stream",
     "text": [
      "[48, 36, 54, 96]\n",
      "[48, 36, 54, 78]\n"
     ]
    }
   ],
   "source": [
    "# pop([index])--removes element from particular index if index is not mentioned it removes last element\n",
    "l1=[48,36,54,78,96]\n",
    "l1.pop(3)\n",
    "print(l1)\n",
    "l1=[48,36,54,78,96]\n",
    "l1.pop()\n",
    "print(l1)"
   ]
  },
  {
   "cell_type": "code",
   "execution_count": 29,
   "id": "6f1cd63a",
   "metadata": {},
   "outputs": [
    {
     "ename": "IndexError",
     "evalue": "pop index out of range",
     "output_type": "error",
     "traceback": [
      "\u001b[1;31m---------------------------------------------------------------------------\u001b[0m",
      "\u001b[1;31mIndexError\u001b[0m                                Traceback (most recent call last)",
      "Input \u001b[1;32mIn [29]\u001b[0m, in \u001b[0;36m<cell line: 2>\u001b[1;34m()\u001b[0m\n\u001b[0;32m      1\u001b[0m l1\u001b[38;5;241m=\u001b[39m[\u001b[38;5;241m45\u001b[39m,\u001b[38;5;241m69\u001b[39m,\u001b[38;5;241m8\u001b[39m]\n\u001b[1;32m----> 2\u001b[0m \u001b[43ml1\u001b[49m\u001b[38;5;241;43m.\u001b[39;49m\u001b[43mpop\u001b[49m\u001b[43m(\u001b[49m\u001b[38;5;241;43m487\u001b[39;49m\u001b[43m)\u001b[49m\n\u001b[0;32m      3\u001b[0m \u001b[38;5;28mprint\u001b[39m(l1)\n",
      "\u001b[1;31mIndexError\u001b[0m: pop index out of range"
     ]
    }
   ],
   "source": [
    "l1=[45,69,8]\n",
    "l1.pop(487)\n",
    "print(l1)"
   ]
  },
  {
   "cell_type": "code",
   "execution_count": 30,
   "id": "6ef233d6",
   "metadata": {},
   "outputs": [
    {
     "name": "stdout",
     "output_type": "stream",
     "text": [
      "[98, 74, 56, 52, 36, 5, 45, 69, 874, 45]\n"
     ]
    }
   ],
   "source": [
    "# remove(element)---removes the particular element from its first occurence\n",
    "l1=[45,98,74,56,52,36,5,45,69,874,45]\n",
    "l1.remove(45)\n",
    "print(l1)"
   ]
  },
  {
   "cell_type": "code",
   "execution_count": 31,
   "id": "1d819b4c",
   "metadata": {},
   "outputs": [
    {
     "ename": "ValueError",
     "evalue": "list.remove(x): x not in list",
     "output_type": "error",
     "traceback": [
      "\u001b[1;31m---------------------------------------------------------------------------\u001b[0m",
      "\u001b[1;31mValueError\u001b[0m                                Traceback (most recent call last)",
      "Input \u001b[1;32mIn [31]\u001b[0m, in \u001b[0;36m<cell line: 2>\u001b[1;34m()\u001b[0m\n\u001b[0;32m      1\u001b[0m l1\u001b[38;5;241m=\u001b[39m[\u001b[38;5;241m48\u001b[39m,\u001b[38;5;241m96\u001b[39m,\u001b[38;5;241m36\u001b[39m,\u001b[38;5;241m548\u001b[39m]\n\u001b[1;32m----> 2\u001b[0m \u001b[43ml1\u001b[49m\u001b[38;5;241;43m.\u001b[39;49m\u001b[43mremove\u001b[49m\u001b[43m(\u001b[49m\u001b[38;5;241;43m4789\u001b[39;49m\u001b[43m)\u001b[49m\n\u001b[0;32m      3\u001b[0m \u001b[38;5;28mprint\u001b[39m(l1)\n",
      "\u001b[1;31mValueError\u001b[0m: list.remove(x): x not in list"
     ]
    }
   ],
   "source": [
    "l1=[48,96,36,548]\n",
    "l1.remove(4789)\n",
    "print(l1)"
   ]
  },
  {
   "cell_type": "code",
   "execution_count": 32,
   "id": "71c68158",
   "metadata": {},
   "outputs": [
    {
     "data": {
      "text/plain": [
       "1"
      ]
     },
     "execution_count": 32,
     "metadata": {},
     "output_type": "execute_result"
    }
   ],
   "source": [
    "# index(element)--gives index of element at its first occurence\n",
    "l1=[48,96,54,87,48,96,54,87,45,24]\n",
    "l1.index(96)\n"
   ]
  },
  {
   "cell_type": "code",
   "execution_count": 33,
   "id": "34745957",
   "metadata": {},
   "outputs": [
    {
     "ename": "ValueError",
     "evalue": "487 is not in list",
     "output_type": "error",
     "traceback": [
      "\u001b[1;31m---------------------------------------------------------------------------\u001b[0m",
      "\u001b[1;31mValueError\u001b[0m                                Traceback (most recent call last)",
      "Input \u001b[1;32mIn [33]\u001b[0m, in \u001b[0;36m<cell line: 2>\u001b[1;34m()\u001b[0m\n\u001b[0;32m      1\u001b[0m l1\u001b[38;5;241m=\u001b[39m[\u001b[38;5;241m45\u001b[39m,\u001b[38;5;241m36\u001b[39m,\u001b[38;5;241m52\u001b[39m]\n\u001b[1;32m----> 2\u001b[0m \u001b[43ml1\u001b[49m\u001b[38;5;241;43m.\u001b[39;49m\u001b[43mindex\u001b[49m\u001b[43m(\u001b[49m\u001b[38;5;241;43m487\u001b[39;49m\u001b[43m)\u001b[49m\n",
      "\u001b[1;31mValueError\u001b[0m: 487 is not in list"
     ]
    }
   ],
   "source": [
    "l1=[45,36,52]\n",
    "l1.index(487)"
   ]
  },
  {
   "cell_type": "code",
   "execution_count": 34,
   "id": "13885f80",
   "metadata": {},
   "outputs": [
    {
     "data": {
      "text/plain": [
       "3"
      ]
     },
     "execution_count": 34,
     "metadata": {},
     "output_type": "execute_result"
    }
   ],
   "source": [
    "# count(element)---gives number of times element in list\n",
    "l1=[78,96,54,12,65,45,63,21,78,54,78,96,54,12,36]\n",
    "l1.count(54)\n"
   ]
  },
  {
   "cell_type": "code",
   "execution_count": 35,
   "id": "c1894866",
   "metadata": {},
   "outputs": [
    {
     "data": {
      "text/plain": [
       "0"
      ]
     },
     "execution_count": 35,
     "metadata": {},
     "output_type": "execute_result"
    }
   ],
   "source": [
    "l1=[78,96,54,12,65,45,63,21,78,54,78,96,54,12,36]\n",
    "l1.count(789)"
   ]
  },
  {
   "cell_type": "code",
   "execution_count": 37,
   "id": "21cf58cc",
   "metadata": {},
   "outputs": [
    {
     "name": "stdout",
     "output_type": "stream",
     "text": [
      "[1, 2, 3, 6, 5]\n",
      "[1, 2, 3, 6, 5]\n",
      "[1, 2, 'hello', 6, 5]\n",
      "[1, 2, 'hello', 6, 5]\n"
     ]
    }
   ],
   "source": [
    "# copy()\n",
    "list1=[1,2,3,6,5]\n",
    "list2=list1\n",
    "print(list1)\n",
    "print(list2)\n",
    "list1[2]=\"hello\"\n",
    "print(list1)\n",
    "print(list2)"
   ]
  },
  {
   "cell_type": "code",
   "execution_count": 38,
   "id": "e81f9809",
   "metadata": {},
   "outputs": [
    {
     "name": "stdout",
     "output_type": "stream",
     "text": [
      "[1, 2, 3, 6, 5]\n",
      "[1, 2, 3, 6, 5]\n",
      "[1, 2, 'hello', 6, 5]\n",
      "[1, 2, 3, 6, 5]\n"
     ]
    }
   ],
   "source": [
    "# copy()\n",
    "list1=[1,2,3,6,5]\n",
    "list2=list1.copy()\n",
    "print(list1)\n",
    "print(list2)\n",
    "list1[2]=\"hello\"\n",
    "print(list1)\n",
    "print(list2)"
   ]
  },
  {
   "cell_type": "code",
   "execution_count": 40,
   "id": "1b3bd079",
   "metadata": {},
   "outputs": [
    {
     "name": "stdout",
     "output_type": "stream",
     "text": [
      "[89, 89, 65, 65, 57, 45, 41, 26]\n"
     ]
    }
   ],
   "source": [
    "# sort()\n",
    "list1=[45,89,65,41,26,57,89,65]\n",
    "list1.sort(reverse=True)\n",
    "print(list1)"
   ]
  },
  {
   "cell_type": "code",
   "execution_count": 43,
   "id": "a4f5373d",
   "metadata": {},
   "outputs": [
    {
     "name": "stdout",
     "output_type": "stream",
     "text": [
      "['Keyboard with no backspace', 'Monitoring the moniotr gfnmhgtn fdhgrtgf nfd', 'Python is great', 'hello']\n"
     ]
    }
   ],
   "source": [
    "list1=[\"hello\",\"Python is great\",\"Keyboard with no backspace\",\"Monitoring the moniotrfd\",\"Parrot\"]\n",
    "list1.sort()\n",
    "print(list1)"
   ]
  },
  {
   "cell_type": "code",
   "execution_count": 44,
   "id": "b8746424",
   "metadata": {},
   "outputs": [
    {
     "ename": "TypeError",
     "evalue": "'<' not supported between instances of 'str' and 'int'",
     "output_type": "error",
     "traceback": [
      "\u001b[1;31m---------------------------------------------------------------------------\u001b[0m",
      "\u001b[1;31mTypeError\u001b[0m                                 Traceback (most recent call last)",
      "Input \u001b[1;32mIn [44]\u001b[0m, in \u001b[0;36m<cell line: 2>\u001b[1;34m()\u001b[0m\n\u001b[0;32m      1\u001b[0m list1\u001b[38;5;241m=\u001b[39m[\u001b[38;5;241m78\u001b[39m,\u001b[38;5;241m96\u001b[39m,\u001b[38;5;241m58\u001b[39m,\u001b[38;5;124m\"\u001b[39m\u001b[38;5;124mpython\u001b[39m\u001b[38;5;124m\"\u001b[39m,\u001b[38;5;124m\"\u001b[39m\u001b[38;5;124mgreat\u001b[39m\u001b[38;5;124m\"\u001b[39m]\n\u001b[1;32m----> 2\u001b[0m \u001b[43mlist1\u001b[49m\u001b[38;5;241;43m.\u001b[39;49m\u001b[43msort\u001b[49m\u001b[43m(\u001b[49m\u001b[43m)\u001b[49m\n",
      "\u001b[1;31mTypeError\u001b[0m: '<' not supported between instances of 'str' and 'int'"
     ]
    }
   ],
   "source": [
    "list1=[78,96,58,\"python\",\"great\"]\n",
    "list1.sort()"
   ]
  },
  {
   "cell_type": "code",
   "execution_count": 45,
   "id": "d3a82029",
   "metadata": {},
   "outputs": [
    {
     "name": "stdout",
     "output_type": "stream",
     "text": [
      "[12, 54, 96, 78]\n"
     ]
    }
   ],
   "source": [
    "# reverse()\n",
    "list1=[78,96,54,12]\n",
    "list1.reverse()\n",
    "print(list1)"
   ]
  },
  {
   "cell_type": "code",
   "execution_count": null,
   "id": "f910e6d9",
   "metadata": {},
   "outputs": [],
   "source": [
    "\n",
    "[78,96,58,45,63,5,11,45,96]"
   ]
  },
  {
   "cell_type": "code",
   "execution_count": 49,
   "id": "952be78e",
   "metadata": {},
   "outputs": [
    {
     "name": "stdout",
     "output_type": "stream",
     "text": [
      "[48, 5, 9, 65, 87, 48, 11]\n"
     ]
    }
   ],
   "source": [
    "list1=[48,\"fgbrt\",\"wetryryut\",65,87,48,\"efwrwetthth\"]\n",
    "for i in range(len(list1)):\n",
    "    if type(list1[i])==str:\n",
    "        list1[i]=len(list1[i])\n",
    "print(list1)\n",
    "        "
   ]
  },
  {
   "cell_type": "code",
   "execution_count": 51,
   "id": "90b789d8",
   "metadata": {},
   "outputs": [
    {
     "name": "stdout",
     "output_type": "stream",
     "text": [
      "Enter listwefrr,48,59,87,weqgteh,wry\n",
      "['wefrr', '48', '59', '87', 'weqgteh', 'wry']\n"
     ]
    }
   ],
   "source": [
    "list1=input(\"Enter list\").split(\",\")\n",
    "print(list1)"
   ]
  }
 ],
 "metadata": {
  "kernelspec": {
   "display_name": "Python 3 (ipykernel)",
   "language": "python",
   "name": "python3"
  },
  "language_info": {
   "codemirror_mode": {
    "name": "ipython",
    "version": 3
   },
   "file_extension": ".py",
   "mimetype": "text/x-python",
   "name": "python",
   "nbconvert_exporter": "python",
   "pygments_lexer": "ipython3",
   "version": "3.9.12"
  }
 },
 "nbformat": 4,
 "nbformat_minor": 5
}
