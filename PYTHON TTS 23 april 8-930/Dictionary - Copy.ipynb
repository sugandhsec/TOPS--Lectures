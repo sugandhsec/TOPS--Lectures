{
 "cells": [
  {
   "cell_type": "code",
   "execution_count": null,
   "id": "3001aff1",
   "metadata": {},
   "outputs": [],
   "source": [
    "# Dictionary\n",
    "# dictionary is a collection of data with key and value pair\n",
    "# dictionary is unordered datatype\n",
    "# dictionary is mutable \n",
    "# dictionary is defined in {}\n"
   ]
  },
  {
   "cell_type": "code",
   "execution_count": null,
   "id": "4c9a5d4c",
   "metadata": {},
   "outputs": [],
   "source": [
    "dictionary={key:value,key:value}\n",
    "# key is of immutable datatype\n",
    "int\n",
    "float\n",
    "boolean\n",
    "string\n",
    "tuple\n",
    "# Value can be of any datatype"
   ]
  },
  {
   "cell_type": "code",
   "execution_count": 2,
   "id": "ec3005c0",
   "metadata": {},
   "outputs": [
    {
     "name": "stdout",
     "output_type": "stream",
     "text": [
      "Demo\n",
      "False\n"
     ]
    }
   ],
   "source": [
    "dict1={1:\"hello\",2:\"Demo\",45.23:False}\n",
    "print(dict1[2])\n",
    "print(dict1[45.23])"
   ]
  },
  {
   "cell_type": "code",
   "execution_count": 4,
   "id": "448683f2",
   "metadata": {},
   "outputs": [
    {
     "data": {
      "text/plain": [
       "['clear',\n",
       " 'copy',\n",
       " 'fromkeys',\n",
       " 'get',\n",
       " 'items',\n",
       " 'keys',\n",
       " 'pop',\n",
       " 'popitem',\n",
       " 'setdefault',\n",
       " 'update',\n",
       " 'values']"
      ]
     },
     "execution_count": 4,
     "metadata": {},
     "output_type": "execute_result"
    }
   ],
   "source": [
    "# dictionary methods\n",
    "# list(dir(dict))\n",
    "['clear',\n",
    " 'copy',\n",
    " 'fromkeys',\n",
    "#  'get',\n",
    "#  'items',\n",
    "#  'keys',\n",
    "#  'pop',\n",
    "#  'popitem',\n",
    "#  'setdefault',\n",
    "#  'update',\n",
    "#  'values']"
   ]
  },
  {
   "cell_type": "code",
   "execution_count": null,
   "id": "76809ed1",
   "metadata": {},
   "outputs": [],
   "source": []
  },
  {
   "cell_type": "code",
   "execution_count": 5,
   "id": "7b69bd3e",
   "metadata": {},
   "outputs": [
    {
     "name": "stdout",
     "output_type": "stream",
     "text": [
      "dict_keys([1, 45, 'Name', 96.32])\n"
     ]
    }
   ],
   "source": [
    "# keys() ---gives list of keys\n",
    "dict1={1:\"wow\",45:8965,\"Name\":\"Vaibhav\",96.32:\"This is float\"}\n",
    "print(dict1.keys())"
   ]
  },
  {
   "cell_type": "code",
   "execution_count": 6,
   "id": "1592f9ba",
   "metadata": {},
   "outputs": [
    {
     "name": "stdout",
     "output_type": "stream",
     "text": [
      "dict_values(['wow', 8965, 'Vaibhav', 'This is float'])\n"
     ]
    }
   ],
   "source": [
    "# values() ---gives list of values\n",
    "dict1={1:\"wow\",45:8965,\"Name\":\"Vaibhav\",96.32:\"This is float\"}\n",
    "print(dict1.values())"
   ]
  },
  {
   "cell_type": "code",
   "execution_count": 7,
   "id": "c2014649",
   "metadata": {},
   "outputs": [
    {
     "name": "stdout",
     "output_type": "stream",
     "text": [
      "dict_items([(1, 'wow'), (45, 8965), ('Name', 'Vaibhav'), (96.32, 'This is float')])\n"
     ]
    }
   ],
   "source": [
    "# items() ---gives list of tuples and every tuple contains two elements key \n",
    "# and value\n",
    "dict1={1:\"wow\",45:8965,\"Name\":\"Vaibhav\",96.32:\"This is float\"}\n",
    "print(dict1.items())"
   ]
  },
  {
   "cell_type": "code",
   "execution_count": 9,
   "id": "fe7733bc",
   "metadata": {},
   "outputs": [
    {
     "name": "stdout",
     "output_type": "stream",
     "text": [
      "{1: 'wow', 45: 8965, 'Name': 'Vaibhav', 96.32: 'This is float', 'Age': 48, 'Mobile': 478596}\n"
     ]
    }
   ],
   "source": [
    "# update(dictionary)\n",
    "dict1={1:\"wow\",45:8965,\"Name\":\"Vaibhav\",96.32:\"This is float\"}\n",
    "dict1.update({\"Age\":48,\"Mobile\":478596})\n",
    "print(dict1)"
   ]
  },
  {
   "cell_type": "code",
   "execution_count": 33,
   "id": "406ddad5",
   "metadata": {},
   "outputs": [
    {
     "data": {
      "text/plain": [
       "'Vaibhav'"
      ]
     },
     "execution_count": 33,
     "metadata": {},
     "output_type": "execute_result"
    }
   ],
   "source": [
    "# get(key)----return values from it keys\n",
    "dict1={1:\"wow\",45:8965,\"Name\":\"Vaibhav\",96.32:\"This is float\"}\n",
    "dict1.get(\"Name\",\"Key not found\")"
   ]
  },
  {
   "cell_type": "code",
   "execution_count": 12,
   "id": "6b34ad57",
   "metadata": {},
   "outputs": [
    {
     "ename": "KeyError",
     "evalue": "101",
     "output_type": "error",
     "traceback": [
      "\u001b[1;31m---------------------------------------------------------------------------\u001b[0m",
      "\u001b[1;31mKeyError\u001b[0m                                  Traceback (most recent call last)",
      "Input \u001b[1;32mIn [12]\u001b[0m, in \u001b[0;36m<cell line: 1>\u001b[1;34m()\u001b[0m\n\u001b[1;32m----> 1\u001b[0m \u001b[43mdict1\u001b[49m\u001b[43m[\u001b[49m\u001b[38;5;241;43m101\u001b[39;49m\u001b[43m]\u001b[49m\n",
      "\u001b[1;31mKeyError\u001b[0m: 101"
     ]
    }
   ],
   "source": [
    "dict1[101]"
   ]
  },
  {
   "cell_type": "code",
   "execution_count": 37,
   "id": "e4345404",
   "metadata": {},
   "outputs": [
    {
     "name": "stdout",
     "output_type": "stream",
     "text": [
      "Not fpound\n",
      "{1: 'wow', 45: 8965, 'Name': 'Vaibhav', 96.32: 'This is float', 105: 'Not fpound'}\n"
     ]
    }
   ],
   "source": [
    "# setdefault(key)\n",
    "dict1={1:\"wow\",45:8965,\"Name\":\"Vaibhav\",96.32:\"This is float\"}\n",
    "print(dict1.setdefault(105,\"Not fpound\"))\n",
    "print(dict1)"
   ]
  },
  {
   "cell_type": "code",
   "execution_count": 41,
   "id": "c06881b8",
   "metadata": {},
   "outputs": [
    {
     "name": "stdout",
     "output_type": "stream",
     "text": [
      "{1: 'wow', 'Name': 'Vaibhav', 96.32: 'This is float'}\n"
     ]
    }
   ],
   "source": [
    "# pop(key)--removes key element from dictionary\n",
    "dict1={1:\"wow\",45:8965,\"Name\":\"Vaibhav\",96.32:\"This is float\"}\n",
    "dict1.pop(45)\n",
    "print(dict1)"
   ]
  },
  {
   "cell_type": "code",
   "execution_count": 42,
   "id": "5a5f0a38",
   "metadata": {},
   "outputs": [
    {
     "name": "stdout",
     "output_type": "stream",
     "text": [
      "{1: 'wow', 45: 8965, 'Name': 'Vaibhav'}\n"
     ]
    }
   ],
   "source": [
    "# popitem()---removes last element\n",
    "dict1={1:\"wow\",45:8965,\"Name\":\"Vaibhav\",96.32:\"This is float\"}\n",
    "dict1.popitem()\n",
    "print(dict1)"
   ]
  },
  {
   "cell_type": "code",
   "execution_count": 43,
   "id": "ba961e3b",
   "metadata": {},
   "outputs": [
    {
     "name": "stdout",
     "output_type": "stream",
     "text": [
      "{}\n"
     ]
    }
   ],
   "source": [
    "dict1={1:\"wow\",45:8965,\"Name\":\"Vaibhav\",96.32:\"This is float\"}\n",
    "dict1.clear()\n",
    "print(dict1)"
   ]
  },
  {
   "cell_type": "code",
   "execution_count": 44,
   "id": "10117079",
   "metadata": {},
   "outputs": [
    {
     "name": "stdout",
     "output_type": "stream",
     "text": [
      "{1: 'wow', 45: 8965, 'Name': 'Vaibhav', 96.32: 'This is float'}\n",
      "{1: 'wow', 45: 8965, 'Name': 'Vaibhav', 96.32: 'This is float'}\n"
     ]
    }
   ],
   "source": [
    "dict1={1:\"wow\",45:8965,\"Name\":\"Vaibhav\",96.32:\"This is float\"}\n",
    "dict2=dict1.copy()\n",
    "print(dict1)\n",
    "print(dict2)"
   ]
  },
  {
   "cell_type": "code",
   "execution_count": 45,
   "id": "fba559d0",
   "metadata": {},
   "outputs": [
    {
     "name": "stdout",
     "output_type": "stream",
     "text": [
      "{78: 'hello', 96: 'hello', 54: 'hello', 12: 'hello', 56: 'hello', 325: 'hello'}\n"
     ]
    }
   ],
   "source": [
    "# fromkeys(iterable,value)\n",
    "x=[78,96,54,12,56,325]\n",
    "y=\"hello\"\n",
    "dict1=dict.fromkeys(x,y)\n",
    "print(dict1)"
   ]
  },
  {
   "cell_type": "code",
   "execution_count": 54,
   "id": "a167e8b5",
   "metadata": {},
   "outputs": [
    {
     "name": "stdout",
     "output_type": "stream",
     "text": [
      "{'item1': 1150, 'item2': 300}\n"
     ]
    }
   ],
   "source": [
    "list1=[{'item': 'item1', 'amount': 400}, {'item': 'item2', 'amount':\n",
    "300}, {'item': 'item1', 'amount': 750}]\n",
    "dict1={}\n",
    "for i in list1:\n",
    "    if i[\"item\"] in dict1.keys():\n",
    "        dict1[i[\"item\"]]+=i[\"amount\"]\n",
    "    else:\n",
    "        dict1.update({i[\"item\"]:i[\"amount\"]})\n",
    "print(dict1)"
   ]
  }
 ],
 "metadata": {
  "kernelspec": {
   "display_name": "Python 3 (ipykernel)",
   "language": "python",
   "name": "python3"
  },
  "language_info": {
   "codemirror_mode": {
    "name": "ipython",
    "version": 3
   },
   "file_extension": ".py",
   "mimetype": "text/x-python",
   "name": "python",
   "nbconvert_exporter": "python",
   "pygments_lexer": "ipython3",
   "version": "3.9.12"
  }
 },
 "nbformat": 4,
 "nbformat_minor": 5
}
