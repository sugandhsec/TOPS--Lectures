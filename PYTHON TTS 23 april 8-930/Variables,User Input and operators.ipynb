{
 "cells": [
  {
   "cell_type": "code",
   "execution_count": null,
   "id": "ea22c222",
   "metadata": {},
   "outputs": [],
   "source": [
    "# variables\n",
    "# variable means a storage location to store values\n",
    "\n",
    "# Syntax to create variable\n",
    "\n",
    "# variablename=value"
   ]
  },
  {
   "cell_type": "code",
   "execution_count": null,
   "id": "dee602c1",
   "metadata": {},
   "outputs": [],
   "source": [
    "# Variablename will be as your choice but by following some rules\n",
    "gjge=89\n",
    "# Rules of identifiers\n",
    "# 1- First character of Name should be Lowercase letters(a-z) ,Uppercase letters(A-Z) and undercore(_)\n",
    "# 2- other character of Name should be Lowercase letters(a-z) ,Uppercase letters(A-Z), undercore(_)\n",
    "# and digits(0-9)\n",
    "\n",
    "# Name should a logical word\n",
    "# space cannot allow FUll NAme  FUll_NAme\n",
    "# Name cannot be a keyword\n",
    "\n",
    "global=89\n",
    "age=89"
   ]
  },
  {
   "cell_type": "code",
   "execution_count": 1,
   "id": "0e6d89a4",
   "metadata": {},
   "outputs": [
    {
     "name": "stdout",
     "output_type": "stream",
     "text": [
      "45\n"
     ]
    }
   ],
   "source": [
    "age=45\n",
    "print(age)"
   ]
  },
  {
   "cell_type": "code",
   "execution_count": 4,
   "id": "15f7d418",
   "metadata": {},
   "outputs": [
    {
     "name": "stdout",
     "output_type": "stream",
     "text": [
      "hello How are you 45 \n"
     ]
    }
   ],
   "source": [
    "# Formatted String\n",
    "print(f\"hello How are you {age} \")"
   ]
  },
  {
   "cell_type": "code",
   "execution_count": 5,
   "id": "d64da4e4",
   "metadata": {},
   "outputs": [
    {
     "name": "stdout",
     "output_type": "stream",
     "text": [
      "Your Name is wow and your email is wow@gmail.com and number is 87459621\n"
     ]
    }
   ],
   "source": [
    "# User Input\n",
    "name=\"wow\"\n",
    "email=\"wow@gmail.com\"\n",
    "number=87459621\n",
    "print(f\"Your Name is {name} and your email is {email} and number is {number}\")"
   ]
  },
  {
   "cell_type": "code",
   "execution_count": 7,
   "id": "0f6e6d40",
   "metadata": {},
   "outputs": [
    {
     "name": "stdout",
     "output_type": "stream",
     "text": [
      "Enter Your NAme: jdk jkerbvjer\n",
      "Your name is jdk jkerbvjer\n"
     ]
    }
   ],
   "source": [
    "# variablename=input([\"message\"])\n",
    "# name=input()\n",
    "name =input(\"Enter Your NAme: \")\n",
    "print(f\"Your name is {name}\")"
   ]
  },
  {
   "cell_type": "code",
   "execution_count": null,
   "id": "2065283d",
   "metadata": {},
   "outputs": [],
   "source": [
    "# Datatype\n",
    "\n",
    "integer--int-- 59 87 45 635 1- 89 -565 -231\n",
    "float---float--- 78.36 -0.12 56.47\n",
    "Boolean---True ,False\n",
    "String--'' \"\" \"\"\" \"\"\"  '''  ''' \"True\"\n",
    "\n",
    "collections\n",
    "list=[45,98]\n",
    "tuple=(78,96)\n",
    "set={78,36}\n",
    "dictionary={1:\"value\"}"
   ]
  },
  {
   "cell_type": "code",
   "execution_count": 11,
   "id": "170f68c7",
   "metadata": {},
   "outputs": [
    {
     "data": {
      "text/plain": [
       "bool"
      ]
     },
     "execution_count": 11,
     "metadata": {},
     "output_type": "execute_result"
    }
   ],
   "source": [
    "a=True\n",
    "# type(variable)\n",
    "type(a)"
   ]
  },
  {
   "cell_type": "code",
   "execution_count": 14,
   "id": "c43303f6",
   "metadata": {},
   "outputs": [
    {
     "name": "stdout",
     "output_type": "stream",
     "text": [
      "Enter SomethingTrue\n",
      "True\n",
      "<class 'str'>\n"
     ]
    }
   ],
   "source": [
    "demo=input(\"Enter Something\")\n",
    "print(demo)\n",
    "print(type(demo))"
   ]
  },
  {
   "cell_type": "code",
   "execution_count": 1,
   "id": "b855233f",
   "metadata": {},
   "outputs": [
    {
     "data": {
      "text/plain": [
       "58"
      ]
     },
     "execution_count": 1,
     "metadata": {},
     "output_type": "execute_result"
    }
   ],
   "source": [
    "# Typecasting---Changing one datatype into another\n",
    "a=58.36\n",
    "# float(a)\n",
    "int(a)\n",
    "# str(a)\n",
    "# int(a)"
   ]
  },
  {
   "cell_type": "code",
   "execution_count": 2,
   "id": "c1c32161",
   "metadata": {},
   "outputs": [
    {
     "name": "stdout",
     "output_type": "stream",
     "text": [
      "Enter Age: 58.36\n"
     ]
    },
    {
     "ename": "ValueError",
     "evalue": "invalid literal for int() with base 10: '58.36'",
     "output_type": "error",
     "traceback": [
      "\u001b[1;31m---------------------------------------------------------------------------\u001b[0m",
      "\u001b[1;31mValueError\u001b[0m                                Traceback (most recent call last)",
      "Input \u001b[1;32mIn [2]\u001b[0m, in \u001b[0;36m<cell line: 1>\u001b[1;34m()\u001b[0m\n\u001b[1;32m----> 1\u001b[0m age\u001b[38;5;241m=\u001b[39m\u001b[38;5;28;43mint\u001b[39;49m\u001b[43m(\u001b[49m\u001b[38;5;28;43minput\u001b[39;49m\u001b[43m(\u001b[49m\u001b[38;5;124;43m\"\u001b[39;49m\u001b[38;5;124;43mEnter Age: \u001b[39;49m\u001b[38;5;124;43m\"\u001b[39;49m\u001b[43m)\u001b[49m\u001b[43m)\u001b[49m\n",
      "\u001b[1;31mValueError\u001b[0m: invalid literal for int() with base 10: '58.36'"
     ]
    }
   ],
   "source": [
    "age=int(input(\"Enter Age: \"))"
   ]
  },
  {
   "cell_type": "code",
   "execution_count": null,
   "id": "63dc2061",
   "metadata": {},
   "outputs": [],
   "source": [
    "# Operators\n",
    "\n",
    "arithmetic Operators  + - * / ** // %\n",
    "relational Operators > < >= <= == !=\n",
    "assignement operators = >= <= += -= *=......\n",
    "Logical operators and or not\n",
    "bitwise operators bitwise or ,bitwise and, bitwise not, bitwise exclisve or (XOR)\n",
    "identity operator is is not\n",
    "membership operator in not in\n"
   ]
  },
  {
   "cell_type": "code",
   "execution_count": 14,
   "id": "1cab15d8",
   "metadata": {},
   "outputs": [
    {
     "name": "stdout",
     "output_type": "stream",
     "text": [
      "hellodemo\n"
     ]
    }
   ],
   "source": [
    "# Arithmetic operators\n",
    "# print(45+65)\n",
    "# print(89-23)\n",
    "# print(78*63)\n",
    "# print(44/23)\n",
    "# print(25%4)\n",
    "# print(3**4)\n",
    "# print(26//9)\n",
    "a=\"hello\"\n",
    "b=\"demo\"\n",
    "print(a+b)"
   ]
  },
  {
   "cell_type": "code",
   "execution_count": 15,
   "id": "b29bc814",
   "metadata": {},
   "outputs": [
    {
     "name": "stdout",
     "output_type": "stream",
     "text": [
      "46\n"
     ]
    }
   ],
   "source": [
    "a=45\n",
    "b=True\n",
    "print(a+b)"
   ]
  },
  {
   "cell_type": "code",
   "execution_count": 18,
   "id": "0fc9acdf",
   "metadata": {},
   "outputs": [
    {
     "data": {
      "text/plain": [
       "89"
      ]
     },
     "execution_count": 18,
     "metadata": {},
     "output_type": "execute_result"
    }
   ],
   "source": [
    "a=\"89\"\n",
    "int(a)"
   ]
  },
  {
   "cell_type": "code",
   "execution_count": 24,
   "id": "19a1a2d5",
   "metadata": {},
   "outputs": [
    {
     "name": "stdout",
     "output_type": "stream",
     "text": [
      "True\n",
      "1\n",
      "True\n",
      "False\n",
      "False\n"
     ]
    }
   ],
   "source": [
    "# relational Operator\n",
    "a=45\n",
    "b=29\n",
    "print(45>29)\n",
    "print(int(29<45))\n",
    "print(45<=45)\n",
    "print(89>=101)\n",
    "print(48==84)"
   ]
  },
  {
   "cell_type": "code",
   "execution_count": 29,
   "id": "aebf0dea",
   "metadata": {},
   "outputs": [
    {
     "name": "stdout",
     "output_type": "stream",
     "text": [
      "False\n"
     ]
    },
    {
     "data": {
      "text/plain": [
       "False"
      ]
     },
     "execution_count": 29,
     "metadata": {},
     "output_type": "execute_result"
    }
   ],
   "source": [
    "print(\"Hel\">\"Helli\")\n",
    "0>108\n",
    "# 111>105"
   ]
  },
  {
   "cell_type": "code",
   "execution_count": null,
   "id": "83813520",
   "metadata": {},
   "outputs": [],
   "source": [
    "# Logical Operators\n",
    "\n",
    "# and --if all condition is true then true if any one ore more than one is false then false\n",
    "# or--if anyone one condition is true then answer is true but if all condition is flase then false \n",
    "# not ---it will reverse your answer from Ture to false and vice versa"
   ]
  },
  {
   "cell_type": "code",
   "execution_count": null,
   "id": "207f5990",
   "metadata": {},
   "outputs": [],
   "source": [
    "84>98 --False\n",
    "\n",
    "16>5 ---True\n",
    "\n",
    "\n",
    "True False True True True"
   ]
  },
  {
   "cell_type": "code",
   "execution_count": 5,
   "id": "6623ba62",
   "metadata": {},
   "outputs": [
    {
     "data": {
      "text/plain": [
       "False"
      ]
     },
     "execution_count": 5,
     "metadata": {},
     "output_type": "execute_result"
    }
   ],
   "source": [
    "89<56 or 45<21 or 11<5"
   ]
  },
  {
   "cell_type": "code",
   "execution_count": 7,
   "id": "17de2e77",
   "metadata": {},
   "outputs": [
    {
     "data": {
      "text/plain": [
       "False"
      ]
     },
     "execution_count": 7,
     "metadata": {},
     "output_type": "execute_result"
    }
   ],
   "source": [
    "not(89>45)"
   ]
  },
  {
   "cell_type": "code",
   "execution_count": 8,
   "id": "21c6562a",
   "metadata": {},
   "outputs": [
    {
     "name": "stdout",
     "output_type": "stream",
     "text": [
      "94\n"
     ]
    }
   ],
   "source": [
    "# assignement Operator\n",
    "# =\n",
    "# var=\"hello\"\n",
    "a=89\n",
    "# a=a*5\n",
    "a*=5 --short hand notation\n",
    "a+=5\n",
    "a=a+5\n",
    "print(a)\n",
    "b=b+8"
   ]
  },
  {
   "cell_type": "code",
   "execution_count": null,
   "id": "fdf63d2a",
   "metadata": {},
   "outputs": [],
   "source": [
    "# Bitwise operator\n",
    "# bitwise and---&\n",
    "# bitwise or---|\n",
    "# bitwise exclusive or--XOR--- ^ ---same then false --different then true\n",
    "#bitwise right shift >>\n",
    "# bitwise left shift  <<"
   ]
  },
  {
   "cell_type": "code",
   "execution_count": 13,
   "id": "7de714b6",
   "metadata": {},
   "outputs": [
    {
     "data": {
      "text/plain": [
       "97"
      ]
     },
     "execution_count": 13,
     "metadata": {},
     "output_type": "execute_result"
    }
   ],
   "source": [
    "89&56\n",
    "89|56\n",
    "89>>3\n",
    "89<<3\n",
    "89^56\n",
    "\n"
   ]
  },
  {
   "cell_type": "code",
   "execution_count": 14,
   "id": "3e3a7c49",
   "metadata": {},
   "outputs": [
    {
     "name": "stdout",
     "output_type": "stream",
     "text": [
      "81\n",
      "127\n",
      "46\n",
      "7\n",
      "500\n"
     ]
    }
   ],
   "source": [
    "print(125&83)\n",
    "print(125|83)\n",
    "print(125^83)\n",
    "print(125>>4)\n",
    "print(125<<2)"
   ]
  },
  {
   "cell_type": "code",
   "execution_count": null,
   "id": "0ac65d31",
   "metadata": {},
   "outputs": [],
   "source": []
  }
 ],
 "metadata": {
  "kernelspec": {
   "display_name": "Python 3 (ipykernel)",
   "language": "python",
   "name": "python3"
  },
  "language_info": {
   "codemirror_mode": {
    "name": "ipython",
    "version": 3
   },
   "file_extension": ".py",
   "mimetype": "text/x-python",
   "name": "python",
   "nbconvert_exporter": "python",
   "pygments_lexer": "ipython3",
   "version": "3.9.12"
  }
 },
 "nbformat": 4,
 "nbformat_minor": 5
}
