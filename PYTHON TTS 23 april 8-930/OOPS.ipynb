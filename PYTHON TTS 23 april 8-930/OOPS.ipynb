{
 "cells": [
  {
   "cell_type": "code",
   "execution_count": null,
   "id": "c9e898ce",
   "metadata": {},
   "outputs": [],
   "source": [
    "# Class\n",
    "# Object\n",
    "# Constructor\n",
    "# Polymorphism\n",
    "# Encapsulation\n",
    "# inheritance"
   ]
  },
  {
   "cell_type": "code",
   "execution_count": null,
   "id": "ad9766bd",
   "metadata": {},
   "outputs": [],
   "source": [
    "class classname:\n",
    "    body of the class"
   ]
  },
  {
   "cell_type": "code",
   "execution_count": null,
   "id": "198d1756",
   "metadata": {},
   "outputs": [],
   "source": [
    "objectname=classname()"
   ]
  },
  {
   "cell_type": "code",
   "execution_count": null,
   "id": "2d19e7ae",
   "metadata": {},
   "outputs": [],
   "source": [
    "5 name age email\n"
   ]
  },
  {
   "cell_type": "code",
   "execution_count": null,
   "id": "3fa47d6c",
   "metadata": {},
   "outputs": [],
   "source": [
    "for i in range(5):\n",
    "    name=input(\"Enter NAme: \")\n",
    "    age=input(\"Enter Age: \")\n",
    "    email=input(\"Enter Email: \")"
   ]
  },
  {
   "cell_type": "code",
   "execution_count": 21,
   "id": "7fc66686",
   "metadata": {},
   "outputs": [],
   "source": [
    "class detail:\n",
    "    def __init__(self): #constructor _ _ init _ _\n",
    "        self.name=\"\"\n",
    "        self.email=\"\"\n",
    "        self.age=\"\"\n",
    "        \n",
    "    def getdata(self):\n",
    "            self.name=input(\"Enter NAme: \")\n",
    "            self.age=input(\"Enter Age: \")\n",
    "            self.email=input(\"Enter Email: \")\n",
    "# Encapsulation"
   ]
  },
  {
   "cell_type": "code",
   "execution_count": 24,
   "id": "a05e592b",
   "metadata": {},
   "outputs": [
    {
     "name": "stdout",
     "output_type": "stream",
     "text": [
      "<class 'str'>\n"
     ]
    }
   ],
   "source": [
    "str1=\"sfgkllk\"\n",
    "\n",
    "str1.upper()\n",
    "print(type(str1))"
   ]
  },
  {
   "cell_type": "raw",
   "id": "308690d2",
   "metadata": {},
   "source": [
    "d1=detail()\n",
    "d2=detail()\n",
    "d3=detail()\n",
    "d1.getdata()\n",
    "d2.getdata()\n",
    "d3.getdata()"
   ]
  }
 ],
 "metadata": {
  "kernelspec": {
   "display_name": "Python 3 (ipykernel)",
   "language": "python",
   "name": "python3"
  },
  "language_info": {
   "codemirror_mode": {
    "name": "ipython",
    "version": 3
   },
   "file_extension": ".py",
   "mimetype": "text/x-python",
   "name": "python",
   "nbconvert_exporter": "python",
   "pygments_lexer": "ipython3",
   "version": "3.9.12"
  }
 },
 "nbformat": 4,
 "nbformat_minor": 5
}
