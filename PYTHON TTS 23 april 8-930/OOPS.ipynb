{
 "cells": [
  {
   "cell_type": "code",
   "execution_count": null,
   "id": "c9e898ce",
   "metadata": {},
   "outputs": [],
   "source": [
    "# Class\n",
    "# Object\n",
    "# Constructor\n",
    "# Polymorphism\n",
    "# Encapsulation\n",
    "# inheritance"
   ]
  },
  {
   "cell_type": "code",
   "execution_count": null,
   "id": "ad9766bd",
   "metadata": {},
   "outputs": [],
   "source": [
    "class classname:\n",
    "    body of the class"
   ]
  },
  {
   "cell_type": "code",
   "execution_count": null,
   "id": "198d1756",
   "metadata": {},
   "outputs": [],
   "source": [
    "objectname=classname()"
   ]
  },
  {
   "cell_type": "code",
   "execution_count": null,
   "id": "2d19e7ae",
   "metadata": {},
   "outputs": [],
   "source": [
    "5 name age email\n"
   ]
  },
  {
   "cell_type": "code",
   "execution_count": null,
   "id": "3fa47d6c",
   "metadata": {},
   "outputs": [],
   "source": [
    "for i in range(5):\n",
    "    name=input(\"Enter NAme: \")\n",
    "    age=input(\"Enter Age: \")\n",
    "    email=input(\"Enter Email: \")"
   ]
  },
  {
   "cell_type": "code",
   "execution_count": 21,
   "id": "7fc66686",
   "metadata": {},
   "outputs": [],
   "source": [
    "class detail:\n",
    "    def __init__(self): #constructor _ _ init _ _\n",
    "        self.name=\"\"\n",
    "        self.email=\"\"\n",
    "        self.age=\"\"\n",
    "        \n",
    "    def getdata(self):\n",
    "            self.name=input(\"Enter NAme: \")\n",
    "            self.age=input(\"Enter Age: \")\n",
    "            self.email=input(\"Enter Email: \")\n",
    "# Encapsulation"
   ]
  },
  {
   "cell_type": "code",
   "execution_count": 24,
   "id": "a05e592b",
   "metadata": {},
   "outputs": [
    {
     "name": "stdout",
     "output_type": "stream",
     "text": [
      "<class 'str'>\n"
     ]
    }
   ],
   "source": [
    "str1=\"sfgkllk\"\n",
    "\n",
    "str1.upper()\n",
    "print(type(str1))"
   ]
  },
  {
   "cell_type": "raw",
   "id": "308690d2",
   "metadata": {},
   "source": [
    "d1=detail()\n",
    "d2=detail()\n",
    "d3=detail()\n",
    "d1.getdata()\n",
    "d2.getdata()\n",
    "d3.getdata()"
   ]
  },
  {
   "cell_type": "code",
   "execution_count": null,
   "id": "7f1c1e0b",
   "metadata": {},
   "outputs": [],
   "source": [
    "def functionname(self):\n",
    "    function body\n",
    "    \n",
    "def __init__(self):\n",
    "    initialization\n",
    "    \n",
    "#     constructor will be called automatically when object is defined"
   ]
  },
  {
   "cell_type": "code",
   "execution_count": null,
   "id": "03aae464",
   "metadata": {},
   "outputs": [],
   "source": [
    "# Inheritance\n",
    "# Single inheritance\n",
    "# Multilevel inheritance\n",
    "# multiple Inheritance\n",
    "# Hierarchical inheritance\n",
    "# Hybrid Inheritance\n"
   ]
  },
  {
   "cell_type": "code",
   "execution_count": 41,
   "id": "a0c82a34",
   "metadata": {},
   "outputs": [],
   "source": [
    "class person:\n",
    "    def __init__(self):\n",
    "        self.__name=\"\"\n",
    "        self.age=0\n",
    "    \n",
    "    def getperson(self):\n",
    "        self.name=input(\"Enter Name: \")\n",
    "        self.age=int(input(\"Enter Age: \"))\n",
    "        \n",
    "class student(person):\n",
    "    def __init__(self):\n",
    "        super().__init__(self)\n",
    "        self.percentage=0.0\n",
    "        \n",
    "    def getstudent(self):\n",
    "        self.percentage=float(input(\"Enter Percentage\"))\n",
    "        "
   ]
  },
  {
   "cell_type": "code",
   "execution_count": 6,
   "id": "71576111",
   "metadata": {},
   "outputs": [],
   "source": [
    "s1=student()\n",
    "s1.getperson()\n",
    "s1.getstudent()\n",
    "\n",
    "_person__name"
   ]
  },
  {
   "cell_type": "code",
   "execution_count": null,
   "id": "b4ca111e",
   "metadata": {},
   "outputs": [],
   "source": [
    "# Polymorphism\n",
    "\n",
    "poly ---- many\n",
    "morphism-- forms"
   ]
  },
  {
   "cell_type": "code",
   "execution_count": 40,
   "id": "bb7bb8eb",
   "metadata": {},
   "outputs": [
    {
     "ename": "TypeError",
     "evalue": "unsupported operand type(s) for +: 'class1' and 'class2'",
     "output_type": "error",
     "traceback": [
      "\u001b[1;31m---------------------------------------------------------------------------\u001b[0m",
      "\u001b[1;31mTypeError\u001b[0m                                 Traceback (most recent call last)",
      "Input \u001b[1;32mIn [40]\u001b[0m, in \u001b[0;36m<cell line: 17>\u001b[1;34m()\u001b[0m\n\u001b[0;32m     15\u001b[0m c2\u001b[38;5;241m=\u001b[39mclass2()\n\u001b[0;32m     16\u001b[0m \u001b[38;5;66;03m# c1.num1+c2.num2\u001b[39;00m\n\u001b[1;32m---> 17\u001b[0m \u001b[43mc1\u001b[49m\u001b[38;5;241;43m+\u001b[39;49m\u001b[43mc2\u001b[49m\n",
      "\u001b[1;31mTypeError\u001b[0m: unsupported operand type(s) for +: 'class1' and 'class2'"
     ]
    }
   ],
   "source": [
    "# operator overloading\n",
    "class class1:\n",
    "    def __init__(self):\n",
    "        self.num1=25\n",
    "        \n",
    "    def __add__(self,other):\n",
    "        print(self.num1+other.num2)\n",
    "        \n",
    "\n",
    "class class2:\n",
    "    def __init__(self):\n",
    "        self.num2=40\n",
    "        \n",
    "c1=class1()\n",
    "c2=class2()\n",
    "# c1.num1+c2.num2\n",
    "c1+c2\n",
    "# +(c1,c2)"
   ]
  },
  {
   "cell_type": "code",
   "execution_count": 9,
   "id": "4aca12a6",
   "metadata": {},
   "outputs": [
    {
     "data": {
      "text/plain": [
       "50"
      ]
     },
     "execution_count": 9,
     "metadata": {},
     "output_type": "execute_result"
    }
   ],
   "source": [
    "45 + 5"
   ]
  },
  {
   "cell_type": "code",
   "execution_count": 10,
   "id": "3e489f46",
   "metadata": {},
   "outputs": [
    {
     "data": {
      "text/plain": [
       "9.0"
      ]
     },
     "execution_count": 10,
     "metadata": {},
     "output_type": "execute_result"
    }
   ],
   "source": [
    "45/5"
   ]
  },
  {
   "cell_type": "code",
   "execution_count": 11,
   "id": "9e5c0838",
   "metadata": {},
   "outputs": [
    {
     "ename": "TypeError",
     "evalue": "unsupported operand type(s) for /: 'str' and 'str'",
     "output_type": "error",
     "traceback": [
      "\u001b[1;31m---------------------------------------------------------------------------\u001b[0m",
      "\u001b[1;31mTypeError\u001b[0m                                 Traceback (most recent call last)",
      "Input \u001b[1;32mIn [11]\u001b[0m, in \u001b[0;36m<cell line: 1>\u001b[1;34m()\u001b[0m\n\u001b[1;32m----> 1\u001b[0m \u001b[38;5;124;43m\"\u001b[39;49m\u001b[38;5;124;43mhello\u001b[39;49m\u001b[38;5;124;43m\"\u001b[39;49m\u001b[38;5;241;43m/\u001b[39;49m\u001b[38;5;124;43m\"\u001b[39;49m\u001b[38;5;124;43mworld\u001b[39;49m\u001b[38;5;124;43m\"\u001b[39;49m\n",
      "\u001b[1;31mTypeError\u001b[0m: unsupported operand type(s) for /: 'str' and 'str'"
     ]
    }
   ],
   "source": [
    "\"hello\"/\"world\""
   ]
  },
  {
   "cell_type": "code",
   "execution_count": 17,
   "id": "7905f3ac",
   "metadata": {},
   "outputs": [],
   "source": [
    "def demo(a,b):\n",
    "    print(a,b)"
   ]
  },
  {
   "cell_type": "code",
   "execution_count": 19,
   "id": "3f6d4625",
   "metadata": {},
   "outputs": [
    {
     "name": "stdout",
     "output_type": "stream",
     "text": [
      "56 98\n"
     ]
    }
   ],
   "source": [
    "x=56\n",
    "y=98\n",
    "demo(x,y)"
   ]
  }
 ],
 "metadata": {
  "kernelspec": {
   "display_name": "Python 3 (ipykernel)",
   "language": "python",
   "name": "python3"
  },
  "language_info": {
   "codemirror_mode": {
    "name": "ipython",
    "version": 3
   },
   "file_extension": ".py",
   "mimetype": "text/x-python",
   "name": "python",
   "nbconvert_exporter": "python",
   "pygments_lexer": "ipython3",
   "version": "3.9.12"
  }
 },
 "nbformat": 4,
 "nbformat_minor": 5
}
