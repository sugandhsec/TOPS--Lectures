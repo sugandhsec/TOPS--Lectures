{
 "cells": [
  {
   "cell_type": "code",
   "execution_count": null,
   "id": "ce81e99e",
   "metadata": {},
   "outputs": [],
   "source": [
    "# string is a collection of characters\n",
    "# string is immutable\n",
    "# string is defined in '' \"\" ''' ''' \"\"\" \"\"\"\n"
   ]
  },
  {
   "cell_type": "code",
   "execution_count": null,
   "id": "b63363c6",
   "metadata": {},
   "outputs": [],
   "source": [
    "str1='hello Python'\n",
    "str2=\"hello Python\"\n",
    "str3=\"\"\"thrth\n",
    "rthrthrthrt\n",
    "rthrthrthrth\n",
    "rthrt\"\"\"\n",
    "str4='''\n",
    "th5rhrtth5hth\n",
    "5th5h65h'''"
   ]
  },
  {
   "cell_type": "code",
   "execution_count": null,
   "id": "f922aa7d",
   "metadata": {},
   "outputs": [],
   "source": [
    "# string has some methods\n"
   ]
  },
  {
   "cell_type": "code",
   "execution_count": 6,
   "id": "3d9e9bc0",
   "metadata": {},
   "outputs": [
    {
     "name": "stdout",
     "output_type": "stream",
     "text": [
      "your String is hello Python\n",
      "o\n",
      "llo Py\n",
      " Python\n",
      "nohtyP\n"
     ]
    }
   ],
   "source": [
    "# string accessing or string slicing\n",
    "str1=\"hello Python\"\n",
    "print(f\"your String is {str1}\")\n",
    "print(str1[4])\n",
    "print(str1[2:8])\n",
    "print(str1[-7:])\n",
    "print(str1[-1:-7:-1])"
   ]
  },
  {
   "cell_type": "code",
   "execution_count": 8,
   "id": "63024193",
   "metadata": {},
   "outputs": [],
   "source": [
    "# string methods\n",
    "# apply some formatting on string copy\n",
    "# dir(str)"
   ]
  },
  {
   "cell_type": "code",
   "execution_count": 11,
   "id": "587d3995",
   "metadata": {},
   "outputs": [
    {
     "name": "stdout",
     "output_type": "stream",
     "text": [
      "hello i am rjhgb HFBJHEB bhbg HJKHF\n",
      "Hello i am rjhgb hfbjheb bhbg hjkhf\n",
      "hello i am rjhgb HFBJHEB bhbg HJKHF\n"
     ]
    }
   ],
   "source": [
    "# capitalize()---Uppercase First Character and rermaining will be Lowercase\n",
    "str1=\"hello i am rjhgb HFBJHEB bhbg HJKHF\"\n",
    "print(str1)\n",
    "print(str1.capitalize())\n",
    "print(str1)"
   ]
  },
  {
   "cell_type": "code",
   "execution_count": 12,
   "id": "5c35f584",
   "metadata": {},
   "outputs": [
    {
     "data": {
      "text/plain": [
       "'Hello I Am Rjhgb Hfbjheb Bhbg Hjkhf'"
      ]
     },
     "execution_count": 12,
     "metadata": {},
     "output_type": "execute_result"
    }
   ],
   "source": [
    "str1=\"hello i am rjhgb HFBJHEB bhbg HJKHF\"\n",
    "str1.title() #Uppercase first letter of every word"
   ]
  },
  {
   "cell_type": "code",
   "execution_count": 20,
   "id": "01be2214",
   "metadata": {},
   "outputs": [
    {
     "data": {
      "text/plain": [
       "0"
      ]
     },
     "execution_count": 20,
     "metadata": {},
     "output_type": "execute_result"
    }
   ],
   "source": [
    "# count(\"substring\"[,strats,ends])--gives oocurence of substring inside string\n",
    "str1=\"hello i am learning python\"\n",
    "str1.count(\"a\")\n",
    "str1.count(\"a\",15)\n",
    "str1.count(\"kop\",6,15)"
   ]
  },
  {
   "cell_type": "code",
   "execution_count": 27,
   "id": "3039c553",
   "metadata": {},
   "outputs": [
    {
     "data": {
      "text/plain": [
       "-1"
      ]
     },
     "execution_count": 27,
     "metadata": {},
     "output_type": "execute_result"
    }
   ],
   "source": [
    "# find(\"substring\"[,strats,ends])---gives index position of substring\n",
    "str1=\"Hello i am learning python\"\n",
    "str1.find(\"am\")\n",
    "str1.find(\"am\",12) # -1\n",
    "str1.find(\"i\",5,14)\n",
    "str1.find(\"porat\")"
   ]
  },
  {
   "cell_type": "code",
   "execution_count": 29,
   "id": "6b143979",
   "metadata": {},
   "outputs": [
    {
     "ename": "ValueError",
     "evalue": "substring not found",
     "output_type": "error",
     "traceback": [
      "\u001b[1;31m---------------------------------------------------------------------------\u001b[0m",
      "\u001b[1;31mValueError\u001b[0m                                Traceback (most recent call last)",
      "Input \u001b[1;32mIn [29]\u001b[0m, in \u001b[0;36m<cell line: 4>\u001b[1;34m()\u001b[0m\n\u001b[0;32m      2\u001b[0m str1\u001b[38;5;241m=\u001b[39m\u001b[38;5;124m\"\u001b[39m\u001b[38;5;124mHello i am learning python\u001b[39m\u001b[38;5;124m\"\u001b[39m\n\u001b[0;32m      3\u001b[0m str1\u001b[38;5;241m.\u001b[39mindex(\u001b[38;5;124m\"\u001b[39m\u001b[38;5;124mam\u001b[39m\u001b[38;5;124m\"\u001b[39m)\n\u001b[1;32m----> 4\u001b[0m \u001b[43mstr1\u001b[49m\u001b[38;5;241;43m.\u001b[39;49m\u001b[43mindex\u001b[49m\u001b[43m(\u001b[49m\u001b[38;5;124;43m\"\u001b[39;49m\u001b[38;5;124;43mporat\u001b[39;49m\u001b[38;5;124;43m\"\u001b[39;49m\u001b[43m)\u001b[49m\n",
      "\u001b[1;31mValueError\u001b[0m: substring not found"
     ]
    }
   ],
   "source": [
    "# index(\"substring\"[,strats,ends])---gives index position of substring\n",
    "str1=\"Hello i am learning python\"\n",
    "str1.index(\"am\")\n",
    "str1.index(\"porat\")"
   ]
  },
  {
   "cell_type": "code",
   "execution_count": 35,
   "id": "3e1a405b",
   "metadata": {},
   "outputs": [
    {
     "data": {
      "text/plain": [
       "'++++++++++++++++++++++hello+++++++++++++++++++++++'"
      ]
     },
     "execution_count": 35,
     "metadata": {},
     "output_type": "execute_result"
    }
   ],
   "source": [
    "# center(width,[fillchar])\n",
    "str1=\"hello\"\n",
    "str1.center(50)\n",
    "str1.center(50,\"+\")"
   ]
  },
  {
   "cell_type": "code",
   "execution_count": 52,
   "id": "42dc3daf",
   "metadata": {
    "scrolled": true
   },
   "outputs": [
    {
     "name": "stdout",
     "output_type": "stream",
     "text": [
      "ENter Number: 8\n",
      "        1 \n",
      "       2 3 \n",
      "      3 4 5 \n",
      "     4 5 6 7 \n",
      "    5 6 7 8 9 \n",
      "   6 7 8 9 10 11 \n",
      "  7 8 9 10 11 12 13 \n",
      " 8 9 10 11 12 13 14 15 \n"
     ]
    }
   ],
   "source": [
    "n=int(input(\"ENter Number: \"))\n",
    "for i in range(1,n+1):\n",
    "    for k in range(n-i,-1,-1):\n",
    "        print(\" \",end=\"\")\n",
    "    for j in range(0,i):\n",
    "        print(f\"{i+j} \",end=\"\")\n",
    "    print(\"\")\n",
    "    "
   ]
  },
  {
   "cell_type": "code",
   "execution_count": 50,
   "id": "ed460a41",
   "metadata": {},
   "outputs": [
    {
     "name": "stdout",
     "output_type": "stream",
     "text": [
      "5\n",
      "4\n",
      "3\n",
      "2\n",
      "1\n",
      "0\n"
     ]
    }
   ],
   "source": [
    "for i in range(5,-1,-1):\n",
    "    print(i)"
   ]
  },
  {
   "cell_type": "code",
   "execution_count": 6,
   "id": "73f089a3",
   "metadata": {},
   "outputs": [
    {
     "data": {
      "text/plain": [
       "'*********************************************hello'"
      ]
     },
     "execution_count": 6,
     "metadata": {},
     "output_type": "execute_result"
    }
   ],
   "source": [
    "# ljust(width,fillchar)\n",
    "str1=\"hello\"\n",
    "# str1.center(50,\"-\")\n",
    "# str1.ljust(50,'-') #left justified\n",
    "str1.rjust(50,\"*\") #right justified"
   ]
  },
  {
   "cell_type": "code",
   "execution_count": 7,
   "id": "66fc3351",
   "metadata": {},
   "outputs": [
    {
     "data": {
      "text/plain": [
       "('this is ', 'my', ' first python program')"
      ]
     },
     "execution_count": 7,
     "metadata": {},
     "output_type": "execute_result"
    }
   ],
   "source": [
    "str1=\"this is my first python program\"\n",
    "str1.partition(\"my\")"
   ]
  },
  {
   "cell_type": "code",
   "execution_count": 12,
   "id": "c2ef0222",
   "metadata": {},
   "outputs": [
    {
     "name": "stdout",
     "output_type": "stream",
     "text": [
      "['this is my fi', 'st python p', 'og', 'am']\n"
     ]
    }
   ],
   "source": [
    "str1=\"this is my first python program\"\n",
    "# split()\n",
    "list1=str1.split(\"r\")\n",
    "print(list1)"
   ]
  },
  {
   "cell_type": "code",
   "execution_count": 15,
   "id": "52815c11",
   "metadata": {},
   "outputs": [
    {
     "data": {
      "text/plain": [
       "False"
      ]
     },
     "execution_count": 15,
     "metadata": {},
     "output_type": "execute_result"
    }
   ],
   "source": [
    "str1=\"this is my program\"\n",
    "# str1.endswith(\"program\")\n",
    "str1.endswith(\"program\",9)\n",
    "str1.endswith(\"program\",9,11)"
   ]
  },
  {
   "cell_type": "code",
   "execution_count": 16,
   "id": "a908ddaf",
   "metadata": {},
   "outputs": [
    {
     "data": {
      "text/plain": [
       "'tHIS is MY pythON pROGRAM'"
      ]
     },
     "execution_count": 16,
     "metadata": {},
     "output_type": "execute_result"
    }
   ],
   "source": [
    "str1=\"This IS my PYTHon Program\"\n",
    "str1.swapcase()"
   ]
  },
  {
   "cell_type": "code",
   "execution_count": 22,
   "id": "bcc2f968",
   "metadata": {},
   "outputs": [
    {
     "data": {
      "text/plain": [
       "'demo'"
      ]
     },
     "execution_count": 22,
     "metadata": {},
     "output_type": "execute_result"
    }
   ],
   "source": [
    "# str1=input(\"Enter Name: \")\n",
    "# print(str1)\n",
    "str1=\"               demo                     \"\n",
    "# str1.lstrip()\n",
    "# str1.rstrip()\n",
    "str1.strip()"
   ]
  },
  {
   "cell_type": "code",
   "execution_count": 23,
   "id": "49346e32",
   "metadata": {},
   "outputs": [
    {
     "data": {
      "text/plain": [
       "['hello', 'i', 'am', 'leanring', 'python']"
      ]
     },
     "execution_count": 23,
     "metadata": {},
     "output_type": "execute_result"
    }
   ],
   "source": [
    "str1=\"hello i am leanring python\"\n",
    "str1.split()"
   ]
  },
  {
   "cell_type": "code",
   "execution_count": 26,
   "id": "cacb5289",
   "metadata": {},
   "outputs": [
    {
     "name": "stdout",
     "output_type": "stream",
     "text": [
      "hello this is fun\n"
     ]
    }
   ],
   "source": [
    "list1=[\"hello\",\"this\",\"is\",\"fun\"]\n",
    "# join()\n",
    "str1=\" \".join(list1)\n",
    "print(str1)"
   ]
  },
  {
   "cell_type": "code",
   "execution_count": 30,
   "id": "ce027198",
   "metadata": {},
   "outputs": [
    {
     "name": "stdout",
     "output_type": "stream",
     "text": [
      "hello                                    this is great       and python         m\n"
     ]
    }
   ],
   "source": [
    "str1=\"hello\\t\\t this is great\\t and python \\tm\"\n",
    "print(str1.expandtabs(20))"
   ]
  },
  {
   "cell_type": "code",
   "execution_count": 33,
   "id": "be456fe8",
   "metadata": {},
   "outputs": [
    {
     "data": {
      "text/plain": [
       "True"
      ]
     },
     "execution_count": 33,
     "metadata": {},
     "output_type": "execute_result"
    }
   ],
   "source": [
    "str1=\"gfrgrvr6578\"\n",
    "str1.isalnum() #aplhpaNumeric"
   ]
  },
  {
   "cell_type": "code",
   "execution_count": 36,
   "id": "30a95293",
   "metadata": {},
   "outputs": [
    {
     "data": {
      "text/plain": [
       "True"
      ]
     },
     "execution_count": 36,
     "metadata": {},
     "output_type": "execute_result"
    }
   ],
   "source": [
    "str1=\"wefwergertertger\"\n",
    "str1.isalpha()"
   ]
  },
  {
   "cell_type": "code",
   "execution_count": 37,
   "id": "c6640fed",
   "metadata": {},
   "outputs": [
    {
     "data": {
      "text/plain": [
       "True"
      ]
     },
     "execution_count": 37,
     "metadata": {},
     "output_type": "execute_result"
    }
   ],
   "source": [
    "str1=\"wefwe\"\n",
    "str1.isascii()"
   ]
  },
  {
   "cell_type": "code",
   "execution_count": 40,
   "id": "94acd311",
   "metadata": {},
   "outputs": [
    {
     "data": {
      "text/plain": [
       "True"
      ]
     },
     "execution_count": 40,
     "metadata": {},
     "output_type": "execute_result"
    }
   ],
   "source": [
    "str1=\"This Is My Program\"\n",
    "str1.istitle()"
   ]
  },
  {
   "cell_type": "code",
   "execution_count": 46,
   "id": "59e7a32b",
   "metadata": {},
   "outputs": [
    {
     "data": {
      "text/plain": [
       "False"
      ]
     },
     "execution_count": 46,
     "metadata": {},
     "output_type": "execute_result"
    }
   ],
   "source": [
    "str1=\"89Pythonispro654gramminglanguage\"\n",
    "str1.isidentifier()"
   ]
  },
  {
   "cell_type": "code",
   "execution_count": 48,
   "id": "3dea53cb",
   "metadata": {},
   "outputs": [
    {
     "name": "stdout",
     "output_type": "stream",
     "text": [
      "False\n",
      "False\n",
      "False\n"
     ]
    }
   ],
   "source": [
    "str1=\"89787\"\n",
    "print(str1.isnumeric())\n",
    "print(str1.isdigit())\n",
    "print(str1.isdecimal())"
   ]
  },
  {
   "cell_type": "code",
   "execution_count": 52,
   "id": "bc45a6ec",
   "metadata": {},
   "outputs": [
    {
     "name": "stdout",
     "output_type": "stream",
     "text": [
      "this is  python\n"
     ]
    },
    {
     "data": {
      "text/plain": [
       "True"
      ]
     },
     "execution_count": 52,
     "metadata": {},
     "output_type": "execute_result"
    }
   ],
   "source": [
    "str1=\"this is  python\"\n",
    "print(str1)\n",
    "str1.isprintable()"
   ]
  },
  {
   "cell_type": "code",
   "execution_count": 53,
   "id": "2d129fe9",
   "metadata": {},
   "outputs": [
    {
     "data": {
      "text/plain": [
       "7"
      ]
     },
     "execution_count": 53,
     "metadata": {},
     "output_type": "execute_result"
    }
   ],
   "source": [
    "str1=\"jhiuohl\"\n",
    "len(str1)"
   ]
  },
  {
   "cell_type": "code",
   "execution_count": 54,
   "id": "d8bb1ddd",
   "metadata": {},
   "outputs": [
    {
     "name": "stdout",
     "output_type": "stream",
     "text": [
      "Enter String1: dedora\n",
      "Enter String2: hello\n",
      "dedhelloora\n"
     ]
    }
   ],
   "source": [
    "str1=input(\"Enter String1: \")\n",
    "str2=input(\"Enter String2: \")\n",
    "mid=len(str1)//2\n",
    "str3=str1[:mid]+str2+str1[mid:]\n",
    "print(str3)"
   ]
  },
  {
   "cell_type": "code",
   "execution_count": 56,
   "id": "57e1d398",
   "metadata": {},
   "outputs": [
    {
     "data": {
      "text/plain": [
       "'h***llo i am l***arniung python'"
      ]
     },
     "execution_count": 56,
     "metadata": {},
     "output_type": "execute_result"
    }
   ],
   "source": [
    "str1=\"hello i am learniung python\"\n",
    "# str1.replace(\"hello\",\"great\")\n",
    "str1.replace(\"e\",\"***\")"
   ]
  }
 ],
 "metadata": {
  "kernelspec": {
   "display_name": "Python 3 (ipykernel)",
   "language": "python",
   "name": "python3"
  },
  "language_info": {
   "codemirror_mode": {
    "name": "ipython",
    "version": 3
   },
   "file_extension": ".py",
   "mimetype": "text/x-python",
   "name": "python",
   "nbconvert_exporter": "python",
   "pygments_lexer": "ipython3",
   "version": "3.9.12"
  }
 },
 "nbformat": 4,
 "nbformat_minor": 5
}
