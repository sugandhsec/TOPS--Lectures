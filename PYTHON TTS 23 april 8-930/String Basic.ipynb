{
 "cells": [
  {
   "cell_type": "code",
   "execution_count": null,
   "id": "632c593d",
   "metadata": {},
   "outputs": [],
   "source": [
    "# String\n",
    "\n",
    "# string is defined in      ''               \"\"             ''' '''          \"\"\" \"\"\"\n",
    "# string is immutable ---changes not allowed\n",
    "# string is ordered means every element in string has its own index\n",
    "# single or double quotes are for single line string\n",
    "# triple quotes are for multiline string"
   ]
  },
  {
   "cell_type": "code",
   "execution_count": 3,
   "id": "ea76850b",
   "metadata": {},
   "outputs": [],
   "source": [
    "str1='Hello Wolrdrhgerergrgrgwergergergergerg'\n",
    "str2=\" Demo Data  bgfhrthrthrthr\"\n",
    "str3=\"\"\"ghhhthterhrthth\n",
    "thrthrthrthrth\n",
    "rthrthrth\"\"\""
   ]
  },
  {
   "cell_type": "code",
   "execution_count": 7,
   "id": "5474440e",
   "metadata": {},
   "outputs": [
    {
     "name": "stdout",
     "output_type": "stream",
     "text": [
      "h\n",
      "e\n",
      "l\n"
     ]
    }
   ],
   "source": [
    "str1=\"hello\" #index starts from 0\n",
    "print(str1[0])\n",
    "print(str1[1])\n",
    "print(str1[2])"
   ]
  },
  {
   "cell_type": "code",
   "execution_count": 12,
   "id": "fed87360",
   "metadata": {},
   "outputs": [
    {
     "name": "stdout",
     "output_type": "stream",
     "text": [
      "demo\n"
     ]
    }
   ],
   "source": [
    "# str1[1]=\"k\" --typerror\n",
    "str1=\"demo\"\n",
    "print(str1)"
   ]
  },
  {
   "cell_type": "code",
   "execution_count": 19,
   "id": "e205f4fe",
   "metadata": {},
   "outputs": [
    {
     "name": "stdout",
     "output_type": "stream",
     "text": [
      "y\n",
      "my world\n",
      "nohtyp\n"
     ]
    }
   ],
   "source": [
    "str2=\"this is my world of python\"\n",
    "# string slicing\n",
    "print(str2[9])\n",
    "print(str2[8:16])\n",
    "print(str2[-1:-7:-1])"
   ]
  },
  {
   "cell_type": "code",
   "execution_count": null,
   "id": "e02ebd59",
   "metadata": {},
   "outputs": [],
   "source": [
    "# name    :     Rahul Sharma\n",
    "# age     :     78\n",
    "# mobile  :     789654123\n",
    "# email   :     rs@gmail.com"
   ]
  },
  {
   "cell_type": "code",
   "execution_count": 20,
   "id": "9d59c65d",
   "metadata": {},
   "outputs": [
    {
     "name": "stdout",
     "output_type": "stream",
     "text": [
      "Enter Your Name: ger\n",
      "Enter Age: 48\n",
      "Enter mobile: 748\n",
      "Enter Email: erger\n",
      "name\t:\tger\n",
      "age\t:\t48\n",
      "mobile\t:\t748\n",
      "Email\t:\terger\n"
     ]
    }
   ],
   "source": [
    "# string methods\n",
    "name=input(\"Enter Your Name: \")\n",
    "age=int(input(\"Enter Age: \"))\n",
    "mobile=input(\"Enter mobile: \")\n",
    "email=input(\"Enter Email: \")\n",
    "print(f\"name\\t:\\t{name}\\nage\\t:\\t{age}\\nmobile\\t:\\t{mobile}\\nEmail\\t:\\t{email}\")"
   ]
  },
  {
   "cell_type": "code",
   "execution_count": null,
   "id": "07e91eb5",
   "metadata": {},
   "outputs": [],
   "source": [
    "# string methods\n",
    "# In string methods we never modify original string\n",
    "# when we use string methods all changes is ssen in copy of the string\n",
    "# original string will remain unchanged\n",
    "\n",
    "# stringvraiablename.methodname([parameters])"
   ]
  },
  {
   "cell_type": "code",
   "execution_count": 22,
   "id": "866b322c",
   "metadata": {},
   "outputs": [],
   "source": [
    "# dir(str)"
   ]
  },
  {
   "cell_type": "code",
   "execution_count": 25,
   "id": "03945ded",
   "metadata": {},
   "outputs": [
    {
     "name": "stdout",
     "output_type": "stream",
     "text": [
      "Hello you are great\n",
      "hello You ARE great\n"
     ]
    }
   ],
   "source": [
    "# Capitalize()----it will capital the first letter and remaing will be small\n",
    "str1=\"hello You ARE great\"\n",
    "print(str1.capitalize())\n",
    "print(str1)"
   ]
  },
  {
   "cell_type": "code",
   "execution_count": 26,
   "id": "9860de1b",
   "metadata": {},
   "outputs": [
    {
     "data": {
      "text/plain": [
       "'Helloo Kbjkufhbdk Huh Hvfjkhrdgvjk Chjebhv'"
      ]
     },
     "execution_count": 26,
     "metadata": {},
     "output_type": "execute_result"
    }
   ],
   "source": [
    "# title()--converts first letter of every word in uppercase and other in lowercase\n",
    "str1=\"HElloo kBJKUFhbdk huh HVFjkhrdgvjk chjebhv\"\n",
    "str1.title()"
   ]
  }
 ],
 "metadata": {
  "kernelspec": {
   "display_name": "Python 3 (ipykernel)",
   "language": "python",
   "name": "python3"
  },
  "language_info": {
   "codemirror_mode": {
    "name": "ipython",
    "version": 3
   },
   "file_extension": ".py",
   "mimetype": "text/x-python",
   "name": "python",
   "nbconvert_exporter": "python",
   "pygments_lexer": "ipython3",
   "version": "3.9.12"
  }
 },
 "nbformat": 4,
 "nbformat_minor": 5
}
