{
 "cells": [
  {
   "cell_type": "code",
   "execution_count": 4,
   "id": "c5f41efe",
   "metadata": {},
   "outputs": [
    {
     "name": "stdout",
     "output_type": "stream",
     "text": [
      "Hello WORld\n",
      "erjhj jkbv\n"
     ]
    }
   ],
   "source": [
    "# Python Programming Language\n",
    "# String\n",
    "''   \"\"   ''' ''' \"\"\"  \"\"\"\n",
    "print(\"Hello WORld\")\n",
    "print(\"erjhj jkbv\")"
   ]
  },
  {
   "cell_type": "code",
   "execution_count": 8,
   "id": "f971fff6",
   "metadata": {},
   "outputs": [
    {
     "name": "stdout",
     "output_type": "stream",
     "text": [
      "This is\tline 1 \n",
      "  this\t\tis line2\n"
     ]
    }
   ],
   "source": [
    "# Escape Sequence --fromatting\n",
    "# \\n---break line new line\n",
    "# \\t--tab space--\n",
    "# \\'--single quote\n",
    "# \\\"--double quote\n",
    "# \\b--backsapce\n",
    "print(\"This is\\tline 1 \\n  this\\t\\tis line2\")"
   ]
  },
  {
   "cell_type": "code",
   "execution_count": 13,
   "id": "9f26d4d0",
   "metadata": {},
   "outputs": [
    {
     "name": "stdout",
     "output_type": "stream",
     "text": [
      "jkrje \"jhb\n",
      "gverg j'htbju\n",
      "wow\b\b great\n"
     ]
    }
   ],
   "source": [
    "print(\"jkrje \\\"jhb\")\n",
    "print('gverg j\\'htbju')\n",
    "print(\"wow\\b\\b great\")"
   ]
  }
 ],
 "metadata": {
  "kernelspec": {
   "display_name": "Python 3 (ipykernel)",
   "language": "python",
   "name": "python3"
  },
  "language_info": {
   "codemirror_mode": {
    "name": "ipython",
    "version": 3
   },
   "file_extension": ".py",
   "mimetype": "text/x-python",
   "name": "python",
   "nbconvert_exporter": "python",
   "pygments_lexer": "ipython3",
   "version": "3.9.12"
  }
 },
 "nbformat": 4,
 "nbformat_minor": 5
}
