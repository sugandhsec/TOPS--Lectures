{
 "cells": [
  {
   "cell_type": "code",
   "execution_count": null,
   "id": "ceb68ab1",
   "metadata": {},
   "outputs": [],
   "source": [
    "# File handling\n",
    "# File Open\n",
    "# task perform\n",
    "    read\n",
    "    write\n",
    "    append\n",
    "# file close"
   ]
  },
  {
   "cell_type": "code",
   "execution_count": null,
   "id": "f8da6db2",
   "metadata": {},
   "outputs": [],
   "source": [
    "# File Open\n",
    "# File Pointer\n",
    "# filepointername=open(\"filename\",\"mode\")\n",
    "\n",
    "\n",
    "# read-----r-----if file is present then open for reading purpose but if file is not\n",
    "# present then it gives error\n",
    "\n",
    "# write-----w-----if file is presnt then it open for writing purpose and all old content is deleted\n",
    "# but if file is not prsent then a new file is created\n",
    "\n",
    "# append----a-----if file is presnt then it open for append purpose and all old content is not deleted\n",
    "# but if file is not prsent then a new file is created\n",
    "\n",
    "# fp=open(\"demo.txt\",\"r\")"
   ]
  },
  {
   "cell_type": "code",
   "execution_count": null,
   "id": "322b376e",
   "metadata": {},
   "outputs": [],
   "source": [
    "# file closing syntax\n",
    "# filepointername.close()\n",
    "# fp.close()"
   ]
  },
  {
   "cell_type": "code",
   "execution_count": 2,
   "id": "9cf2b223",
   "metadata": {},
   "outputs": [],
   "source": [
    "# Write\n",
    "fp=open(\"demo.txt\",\"w\")\n",
    "a=\"hello wolrd\"\n",
    "fp.write(f\"jeirv ejkvberfkj jvber djkhvb {a}\")\n",
    "\n",
    "fp.close()"
   ]
  },
  {
   "cell_type": "code",
   "execution_count": 13,
   "id": "df3b33a8",
   "metadata": {},
   "outputs": [],
   "source": [
    "# Write\n",
    "fp=open(\"demo2.txt\",\"w\")\n",
    "a=\"hello wolrd\"\n",
    "fp.write(\"\"\"\n",
    "wefwegfergherg4g34e4r5h\n",
    "r5hge4rthe4rthththt\n",
    "3yh45y45y45y45y45\n",
    "\"\"\")\n",
    "\n",
    "fp.close()"
   ]
  },
  {
   "cell_type": "code",
   "execution_count": 20,
   "id": "7d39bbc8",
   "metadata": {},
   "outputs": [
    {
     "ename": "AttributeError",
     "evalue": "'_io.TextIOWrapper' object has no attribute 'append'",
     "output_type": "error",
     "traceback": [
      "\u001b[1;31m---------------------------------------------------------------------------\u001b[0m",
      "\u001b[1;31mAttributeError\u001b[0m                            Traceback (most recent call last)",
      "Input \u001b[1;32mIn [20]\u001b[0m, in \u001b[0;36m<cell line: 4>\u001b[1;34m()\u001b[0m\n\u001b[0;32m      2\u001b[0m fp\u001b[38;5;241m=\u001b[39m\u001b[38;5;28mopen\u001b[39m(\u001b[38;5;124m\"\u001b[39m\u001b[38;5;124mdemo.txt\u001b[39m\u001b[38;5;124m\"\u001b[39m,\u001b[38;5;124m\"\u001b[39m\u001b[38;5;124ma\u001b[39m\u001b[38;5;124m\"\u001b[39m)\n\u001b[0;32m      3\u001b[0m a\u001b[38;5;241m=\u001b[39m\u001b[38;5;124m\"\u001b[39m\u001b[38;5;124mhello wolrd\u001b[39m\u001b[38;5;124m\"\u001b[39m\n\u001b[1;32m----> 4\u001b[0m \u001b[43mfp\u001b[49m\u001b[38;5;241;43m.\u001b[39;49m\u001b[43mappend\u001b[49m(\u001b[38;5;124mf\u001b[39m\u001b[38;5;124m\"\u001b[39m\u001b[38;5;124mjeirv ejkvberfkj jvber djkhvb \u001b[39m\u001b[38;5;132;01m{\u001b[39;00ma\u001b[38;5;132;01m}\u001b[39;00m\u001b[38;5;124m\"\u001b[39m)\n\u001b[0;32m      6\u001b[0m fp\u001b[38;5;241m.\u001b[39mclose()\n",
      "\u001b[1;31mAttributeError\u001b[0m: '_io.TextIOWrapper' object has no attribute 'append'"
     ]
    }
   ],
   "source": [
    "# append\n",
    "fp=open(\"demo.txt\",\"a\")\n",
    "a=\"hello wolrd\"\n",
    "fp.write(f\"jeirv ejkvberfkj jvber djkhvb {a}\")\n",
    "\n",
    "fp.close()"
   ]
  },
  {
   "cell_type": "code",
   "execution_count": 17,
   "id": "05775c31",
   "metadata": {},
   "outputs": [
    {
     "name": "stdout",
     "output_type": "stream",
     "text": [
      "jeirv ejkvberfkj jvber djkhvb hello wolrdjeirv ejkvberfkj jvber djkhvb hello wolrdjeirv ejkvberfkj jvber djkhvb hello wolrdjeirv ejkvberfkj jvber djkhvb hello wolrdjeirv ejkvberfkj jvber djkhvb hello wolrdjeirv ejkvberfkj jvber djkhvb hello wolrdjeirv ejkvberfkj jvber djkhvb hello wolrdjeirv ejkvberfkj jvber djkhvb hello wolrd\n"
     ]
    }
   ],
   "source": [
    "# Read\n",
    "fp=open(\"demo.txt\",\"r\")\n",
    "print(fp.read())\n",
    "fp.close()"
   ]
  },
  {
   "cell_type": "code",
   "execution_count": 19,
   "id": "2ac2844f",
   "metadata": {},
   "outputs": [
    {
     "name": "stdout",
     "output_type": "stream",
     "text": [
      "jeirv ejkvberfkj jvb\n"
     ]
    }
   ],
   "source": [
    "fp=open(\"demo.txt\",\"r\")\n",
    "print(fp.read(20))\n",
    "fp.close()"
   ]
  },
  {
   "cell_type": "code",
   "execution_count": 16,
   "id": "cf037221",
   "metadata": {},
   "outputs": [
    {
     "name": "stdout",
     "output_type": "stream",
     "text": [
      "\n",
      "\n",
      "wefwegfergherg4g34e4r5h\n",
      "\n",
      "r5hge4rthe4rthththt\n",
      "\n"
     ]
    }
   ],
   "source": [
    "fp=open(\"demo2.txt\",\"r\")\n",
    "print(fp.readline())\n",
    "print(fp.readline())\n",
    "print(fp.readline())\n",
    "fp.close()"
   ]
  }
 ],
 "metadata": {
  "kernelspec": {
   "display_name": "Python 3 (ipykernel)",
   "language": "python",
   "name": "python3"
  },
  "language_info": {
   "codemirror_mode": {
    "name": "ipython",
    "version": 3
   },
   "file_extension": ".py",
   "mimetype": "text/x-python",
   "name": "python",
   "nbconvert_exporter": "python",
   "pygments_lexer": "ipython3",
   "version": "3.9.12"
  }
 },
 "nbformat": 4,
 "nbformat_minor": 5
}
