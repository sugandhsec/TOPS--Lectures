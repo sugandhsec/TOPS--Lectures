{
 "cells": [
  {
   "cell_type": "code",
   "execution_count": null,
   "id": "bae684b5",
   "metadata": {},
   "outputs": [],
   "source": [
    "# function is a block of code which run whenever we called that\n",
    "# function is used to make modular programming\n"
   ]
  },
  {
   "cell_type": "code",
   "execution_count": null,
   "id": "d46a2ec0",
   "metadata": {},
   "outputs": [],
   "source": [
    "# function definition\n",
    "\n",
    "def functionname([parameters]):\n",
    "    body of the function\n",
    "    [return ]"
   ]
  },
  {
   "cell_type": "code",
   "execution_count": null,
   "id": "832fc0f3",
   "metadata": {},
   "outputs": [],
   "source": [
    "# function calling\n",
    "\n",
    "functioname([parameters])"
   ]
  },
  {
   "cell_type": "code",
   "execution_count": 22,
   "id": "ba83486b",
   "metadata": {},
   "outputs": [],
   "source": [
    "def demo():\n",
    "    print(\"hello\")\n",
    "    print(\"This Is python\")"
   ]
  },
  {
   "cell_type": "code",
   "execution_count": 31,
   "id": "899a1cdb",
   "metadata": {},
   "outputs": [
    {
     "name": "stdout",
     "output_type": "stream",
     "text": [
      "hello\n",
      "This Is python\n"
     ]
    }
   ],
   "source": [
    "a=10\n",
    "demo()"
   ]
  },
  {
   "cell_type": "code",
   "execution_count": 24,
   "id": "2221010d",
   "metadata": {},
   "outputs": [
    {
     "name": "stdout",
     "output_type": "stream",
     "text": [
      "hello\n",
      "This Is python\n"
     ]
    }
   ],
   "source": [
    "demo()"
   ]
  },
  {
   "cell_type": "code",
   "execution_count": 20,
   "id": "84409148",
   "metadata": {},
   "outputs": [
    {
     "name": "stdout",
     "output_type": "stream",
     "text": [
      "93\n"
     ]
    }
   ],
   "source": [
    "def demo(a,b):\n",
    "    print(a+b)\n",
    "    \n",
    "    \n",
    "demo(45,48)  #positional argument"
   ]
  },
  {
   "cell_type": "code",
   "execution_count": null,
   "id": "e0cef7be",
   "metadata": {},
   "outputs": [],
   "source": [
    "# positional arguments\n",
    "# keywords arguments\n",
    "# default argument/parameter\n",
    "# arbitrary positional argument ---arbitrary arguments\n",
    "# arbitrary keywords argument"
   ]
  },
  {
   "cell_type": "code",
   "execution_count": 7,
   "id": "c6d3b850",
   "metadata": {},
   "outputs": [
    {
     "name": "stdout",
     "output_type": "stream",
     "text": [
      "101\n",
      "14\n"
     ]
    }
   ],
   "source": [
    "def demo(a,b):\n",
    "    print(a+b)\n",
    "    print(a)\n",
    "    \n",
    "demo(b=87,a=14)   #keyword argument"
   ]
  },
  {
   "cell_type": "code",
   "execution_count": 15,
   "id": "78d2a523",
   "metadata": {},
   "outputs": [
    {
     "name": "stdout",
     "output_type": "stream",
     "text": [
      "a=48 ,b=45,c=29,d=48\n"
     ]
    }
   ],
   "source": [
    "def demo(a,b,c,d):\n",
    "    print(f\"a={a} ,b={b},c={c},d={d}\")\n",
    "    \n",
    "# demo(45,98,d=45,c=29)\n",
    "demo(48,45,c=29,d=48)"
   ]
  },
  {
   "cell_type": "code",
   "execution_count": 19,
   "id": "9a08ecd7",
   "metadata": {},
   "outputs": [
    {
     "name": "stdout",
     "output_type": "stream",
     "text": [
      "a=45 ,b=36,c=89\n"
     ]
    }
   ],
   "source": [
    "def demo(a,b,c=89):  #deafult parameter /argument\n",
    "    print(f\"a={a} ,b={b},c={c}\")\n",
    "    \n",
    "demo(45,36)"
   ]
  },
  {
   "cell_type": "code",
   "execution_count": 29,
   "id": "aa9d33e2",
   "metadata": {},
   "outputs": [
    {
     "name": "stdout",
     "output_type": "stream",
     "text": [
      "a=48 ,b=58,c=(48, 74, 58, 96, 58)\n"
     ]
    }
   ],
   "source": [
    "# arbitrary positional argument--- * \n",
    "def demo(a,b,*c): #arbirary positional argument\n",
    "    print(f\"a={a} ,b={b},c={c}\")\n",
    "    \n",
    "demo(48,58,48,74,58,96,58)"
   ]
  },
  {
   "cell_type": "code",
   "execution_count": 28,
   "id": "29537b5d",
   "metadata": {},
   "outputs": [
    {
     "name": "stdout",
     "output_type": "stream",
     "text": [
      "a=48 ,b=101,c={'c': 59, 'd': 48, 'e': 78, 'f': 89}\n"
     ]
    }
   ],
   "source": [
    "# arbitrary keyword argument--- **\n",
    "def demo(a,b,**c):\n",
    "    print(f\"a={a} ,b={b},c={c}\")\n",
    "    \n",
    "demo(48,c=59,d=48,b=101,e=78,f=89)"
   ]
  },
  {
   "cell_type": "code",
   "execution_count": null,
   "id": "a701d9d8",
   "metadata": {},
   "outputs": [],
   "source": [
    "# function----module----package----library\n"
   ]
  },
  {
   "cell_type": "code",
   "execution_count": 303,
   "id": "d3d55d33",
   "metadata": {},
   "outputs": [
    {
     "name": "stdout",
     "output_type": "stream",
     "text": [
      "9677466\n"
     ]
    }
   ],
   "source": [
    "# modules \n",
    "\n",
    "# random\n",
    "\n",
    "import random\n",
    "# random.randint(450,2025)\n",
    "# a=random.randrange(1000000,9999999)\n",
    "# a=random.random()\n",
    "# itr=[\"hello\",48,96,54,78,45,21,45,63,6]\n",
    "# a=random.choice(itr) #one random value from iterable\n",
    "# a=random.choices(itr,k=40)\n",
    "print(a)\n",
    "\n"
   ]
  },
  {
   "cell_type": "code",
   "execution_count": 318,
   "id": "14f8224d",
   "metadata": {},
   "outputs": [
    {
     "name": "stdout",
     "output_type": "stream",
     "text": [
      "117.29730800599916\n",
      "117.29730800599916\n"
     ]
    }
   ],
   "source": [
    "import math\n",
    "# a=math.factorial(5)\n",
    "# a=math.ceil(45.32)\n",
    "# a=math.floor(45.32)\n",
    "a=math.pow(2.5,5.2)\n",
    "print(a)\n",
    "a=2.5**5.2\n",
    "print(a)"
   ]
  }
 ],
 "metadata": {
  "kernelspec": {
   "display_name": "Python 3 (ipykernel)",
   "language": "python",
   "name": "python3"
  },
  "language_info": {
   "codemirror_mode": {
    "name": "ipython",
    "version": 3
   },
   "file_extension": ".py",
   "mimetype": "text/x-python",
   "name": "python",
   "nbconvert_exporter": "python",
   "pygments_lexer": "ipython3",
   "version": "3.9.12"
  }
 },
 "nbformat": 4,
 "nbformat_minor": 5
}
