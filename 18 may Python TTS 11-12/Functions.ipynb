{
 "cells": [
  {
   "cell_type": "code",
   "execution_count": null,
   "id": "bae684b5",
   "metadata": {},
   "outputs": [],
   "source": [
    "# function is a block of code which run whenever we called that\n",
    "# function is used to make modular programming\n"
   ]
  },
  {
   "cell_type": "code",
   "execution_count": null,
   "id": "d46a2ec0",
   "metadata": {},
   "outputs": [],
   "source": [
    "# function definition\n",
    "\n",
    "def functionname([parameters]):\n",
    "    body of the function\n",
    "    [return ]"
   ]
  },
  {
   "cell_type": "code",
   "execution_count": null,
   "id": "832fc0f3",
   "metadata": {},
   "outputs": [],
   "source": [
    "# function calling\n",
    "\n",
    "functioname([parameters])"
   ]
  },
  {
   "cell_type": "code",
   "execution_count": 22,
   "id": "ba83486b",
   "metadata": {},
   "outputs": [],
   "source": [
    "def demo():\n",
    "    print(\"hello\")\n",
    "    print(\"This Is python\")"
   ]
  },
  {
   "cell_type": "code",
   "execution_count": 31,
   "id": "899a1cdb",
   "metadata": {},
   "outputs": [
    {
     "name": "stdout",
     "output_type": "stream",
     "text": [
      "hello\n",
      "This Is python\n"
     ]
    }
   ],
   "source": [
    "a=10\n",
    "demo()"
   ]
  },
  {
   "cell_type": "code",
   "execution_count": 24,
   "id": "2221010d",
   "metadata": {},
   "outputs": [
    {
     "name": "stdout",
     "output_type": "stream",
     "text": [
      "hello\n",
      "This Is python\n"
     ]
    }
   ],
   "source": [
    "demo()"
   ]
  }
 ],
 "metadata": {
  "kernelspec": {
   "display_name": "Python 3 (ipykernel)",
   "language": "python",
   "name": "python3"
  },
  "language_info": {
   "codemirror_mode": {
    "name": "ipython",
    "version": 3
   },
   "file_extension": ".py",
   "mimetype": "text/x-python",
   "name": "python",
   "nbconvert_exporter": "python",
   "pygments_lexer": "ipython3",
   "version": "3.9.12"
  }
 },
 "nbformat": 4,
 "nbformat_minor": 5
}
