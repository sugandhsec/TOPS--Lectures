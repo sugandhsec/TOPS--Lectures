{
 "cells": [
  {
   "cell_type": "code",
   "execution_count": null,
   "id": "bae684b5",
   "metadata": {},
   "outputs": [],
   "source": [
    "# function is a block of code which run whenever we called that\n",
    "# function is used to make modular programming\n"
   ]
  },
  {
   "cell_type": "code",
   "execution_count": null,
   "id": "d46a2ec0",
   "metadata": {},
   "outputs": [],
   "source": [
    "# function definition\n",
    "\n",
    "def functionname([parameters]):\n",
    "    body of the function\n",
    "    [return ]"
   ]
  },
  {
   "cell_type": "code",
   "execution_count": null,
   "id": "832fc0f3",
   "metadata": {},
   "outputs": [],
   "source": [
    "# function calling\n",
    "\n",
    "functioname([parameters])"
   ]
  },
  {
   "cell_type": "code",
   "execution_count": 22,
   "id": "ba83486b",
   "metadata": {},
   "outputs": [],
   "source": [
    "def demo():\n",
    "    print(\"hello\")\n",
    "    print(\"This Is python\")"
   ]
  },
  {
   "cell_type": "code",
   "execution_count": 31,
   "id": "899a1cdb",
   "metadata": {},
   "outputs": [
    {
     "name": "stdout",
     "output_type": "stream",
     "text": [
      "hello\n",
      "This Is python\n"
     ]
    }
   ],
   "source": [
    "a=10\n",
    "demo()"
   ]
  },
  {
   "cell_type": "code",
   "execution_count": 24,
   "id": "2221010d",
   "metadata": {},
   "outputs": [
    {
     "name": "stdout",
     "output_type": "stream",
     "text": [
      "hello\n",
      "This Is python\n"
     ]
    }
   ],
   "source": [
    "demo()"
   ]
  },
  {
   "cell_type": "code",
   "execution_count": 20,
   "id": "84409148",
   "metadata": {},
   "outputs": [
    {
     "name": "stdout",
     "output_type": "stream",
     "text": [
      "93\n"
     ]
    }
   ],
   "source": [
    "def demo(a,b):\n",
    "    print(a+b)\n",
    "    \n",
    "    \n",
    "demo(45,48)  #positional argument"
   ]
  },
  {
   "cell_type": "code",
   "execution_count": null,
   "id": "e0cef7be",
   "metadata": {},
   "outputs": [],
   "source": [
    "# positional arguments\n",
    "# keywords arguments\n",
    "# default argument/parameter\n",
    "# arbitrary positional argument ---arbitrary arguments\n",
    "# arbitrary keywords argument"
   ]
  },
  {
   "cell_type": "code",
   "execution_count": 7,
   "id": "c6d3b850",
   "metadata": {},
   "outputs": [
    {
     "name": "stdout",
     "output_type": "stream",
     "text": [
      "101\n",
      "14\n"
     ]
    }
   ],
   "source": [
    "def demo(a,b):\n",
    "    print(a+b)\n",
    "    print(a)\n",
    "    \n",
    "demo(b=87,a=14)   #keyword argument"
   ]
  },
  {
   "cell_type": "code",
   "execution_count": 15,
   "id": "78d2a523",
   "metadata": {},
   "outputs": [
    {
     "name": "stdout",
     "output_type": "stream",
     "text": [
      "a=48 ,b=45,c=29,d=48\n"
     ]
    }
   ],
   "source": [
    "def demo(a,b,c,d):\n",
    "    print(f\"a={a} ,b={b},c={c},d={d}\")\n",
    "    \n",
    "# demo(45,98,d=45,c=29)\n",
    "demo(48,45,c=29,d=48)"
   ]
  },
  {
   "cell_type": "code",
   "execution_count": 19,
   "id": "9a08ecd7",
   "metadata": {},
   "outputs": [
    {
     "name": "stdout",
     "output_type": "stream",
     "text": [
      "a=45 ,b=36,c=89\n"
     ]
    }
   ],
   "source": [
    "def demo(a,b,c=89):  #deafult parameter /argument\n",
    "    print(f\"a={a} ,b={b},c={c}\")\n",
    "    \n",
    "demo(45,36)"
   ]
  },
  {
   "cell_type": "code",
   "execution_count": 29,
   "id": "aa9d33e2",
   "metadata": {},
   "outputs": [
    {
     "name": "stdout",
     "output_type": "stream",
     "text": [
      "a=48 ,b=58,c=(48, 74, 58, 96, 58)\n"
     ]
    }
   ],
   "source": [
    "# arbitrary positional argument--- * \n",
    "def demo(a,b,*c): #arbirary positional argument\n",
    "    print(f\"a={a} ,b={b},c={c}\")\n",
    "    \n",
    "demo(48,58,48,74,58,96,58)"
   ]
  },
  {
   "cell_type": "code",
   "execution_count": 28,
   "id": "29537b5d",
   "metadata": {},
   "outputs": [
    {
     "name": "stdout",
     "output_type": "stream",
     "text": [
      "a=48 ,b=101,c={'c': 59, 'd': 48, 'e': 78, 'f': 89}\n"
     ]
    }
   ],
   "source": [
    "# arbitrary keyword argument--- **\n",
    "def demo(a,b,**c):\n",
    "    print(f\"a={a} ,b={b},c={c}\")\n",
    "    \n",
    "demo(48,c=59,d=48,b=101,e=78,f=89)"
   ]
  },
  {
   "cell_type": "code",
   "execution_count": null,
   "id": "a701d9d8",
   "metadata": {},
   "outputs": [],
   "source": [
    "# function----module----package----library\n"
   ]
  },
  {
   "cell_type": "code",
   "execution_count": 303,
   "id": "d3d55d33",
   "metadata": {},
   "outputs": [
    {
     "name": "stdout",
     "output_type": "stream",
     "text": [
      "9677466\n"
     ]
    }
   ],
   "source": [
    "# modules \n",
    "\n",
    "# random\n",
    "\n",
    "import random\n",
    "# random.randint(450,2025)\n",
    "# a=random.randrange(1000000,9999999)\n",
    "# a=random.random()\n",
    "# itr=[\"hello\",48,96,54,78,45,21,45,63,6]\n",
    "# a=random.choice(itr) #one random value from iterable\n",
    "# a=random.choices(itr,k=40)\n",
    "print(a)\n",
    "\n"
   ]
  },
  {
   "cell_type": "code",
   "execution_count": 318,
   "id": "14f8224d",
   "metadata": {},
   "outputs": [
    {
     "name": "stdout",
     "output_type": "stream",
     "text": [
      "117.29730800599916\n",
      "117.29730800599916\n"
     ]
    }
   ],
   "source": [
    "import math\n",
    "# a=math.factorial(5)\n",
    "# a=math.ceil(45.32)\n",
    "# a=math.floor(45.32)\n",
    "a=math.pow(2.5,5.2)\n",
    "print(a)\n",
    "a=2.5**5.2\n",
    "print(a)"
   ]
  },
  {
   "cell_type": "code",
   "execution_count": 7,
   "id": "f4c89959",
   "metadata": {},
   "outputs": [
    {
     "name": "stdout",
     "output_type": "stream",
     "text": [
      "2023-06-29\n",
      "2023\n"
     ]
    },
    {
     "ename": "ValueError",
     "evalue": "hour must be in 0..23",
     "output_type": "error",
     "traceback": [
      "\u001b[1;31m---------------------------------------------------------------------------\u001b[0m",
      "\u001b[1;31mValueError\u001b[0m                                Traceback (most recent call last)",
      "Input \u001b[1;32mIn [7]\u001b[0m, in \u001b[0;36m<cell line: 11>\u001b[1;34m()\u001b[0m\n\u001b[0;32m      9\u001b[0m \u001b[38;5;28mprint\u001b[39m(date\u001b[38;5;241m.\u001b[39mtoday())\n\u001b[0;32m     10\u001b[0m \u001b[38;5;28mprint\u001b[39m(date\u001b[38;5;241m.\u001b[39mtoday()\u001b[38;5;241m.\u001b[39myear)\n\u001b[1;32m---> 11\u001b[0m \u001b[38;5;28mprint\u001b[39m(\u001b[43mtime\u001b[49m\u001b[43m(\u001b[49m\u001b[38;5;241;43m56\u001b[39;49m\u001b[43m,\u001b[49m\u001b[38;5;241;43m15\u001b[39;49m\u001b[43m,\u001b[49m\u001b[38;5;241;43m23\u001b[39;49m\u001b[43m)\u001b[49m)\n",
      "\u001b[1;31mValueError\u001b[0m: hour must be in 0..23"
     ]
    }
   ],
   "source": [
    "# import the date class\n",
    "from datetime import date,time\n",
    "# import datetime\n",
    " \n",
    "# initializing constructor\n",
    "# and passing arguments in the\n",
    "# format year, month, date\n",
    "# my_date = date(2020, 12, 11)\n",
    "print(date.today())\n",
    "print(date.today().year)\n",
    "print(time(56,15,23)) #24 hour format\n",
    " \n",
    "# print(\"Date passed as argument is\", my_date)"
   ]
  },
  {
   "cell_type": "code",
   "execution_count": 11,
   "id": "20201fc0",
   "metadata": {},
   "outputs": [
    {
     "name": "stdout",
     "output_type": "stream",
     "text": [
      "June-----29*****2023\n"
     ]
    }
   ],
   "source": [
    "from datetime import date,time\n",
    "data=date.today()\n",
    "print(data.strftime(\"%B-----%d*****%Y\"))"
   ]
  },
  {
   "cell_type": "code",
   "execution_count": 14,
   "id": "fce7ced4",
   "metadata": {},
   "outputs": [
    {
     "name": "stdout",
     "output_type": "stream",
     "text": [
      "Difference in dates: 60 days, 0:00:00\n"
     ]
    }
   ],
   "source": [
    "from datetime import datetime\n",
    "date1 = datetime(2020, 1, 3)\n",
    "date2 = datetime(2020, 3, 3)\n",
    " \n",
    "# difference between dates\n",
    "diff = date2 - date1\n",
    "print(\"Difference in dates:\", diff)"
   ]
  },
  {
   "cell_type": "code",
   "execution_count": 15,
   "id": "4a91746e",
   "metadata": {},
   "outputs": [
    {
     "data": {
      "text/plain": [
       "18"
      ]
     },
     "execution_count": 15,
     "metadata": {},
     "output_type": "execute_result"
    }
   ],
   "source": [
    "import math\n",
    "math.gcd(36,54)"
   ]
  },
  {
   "cell_type": "code",
   "execution_count": 17,
   "id": "46eb1334",
   "metadata": {},
   "outputs": [
    {
     "data": {
      "text/plain": [
       "Timestamp('2012-01-01 00:00:00')"
      ]
     },
     "execution_count": 17,
     "metadata": {},
     "output_type": "execute_result"
    }
   ],
   "source": [
    "import pandas\n",
    "pandas.Timestamp(\"2012\")"
   ]
  }
 ],
 "metadata": {
  "kernelspec": {
   "display_name": "Python 3 (ipykernel)",
   "language": "python",
   "name": "python3"
  },
  "language_info": {
   "codemirror_mode": {
    "name": "ipython",
    "version": 3
   },
   "file_extension": ".py",
   "mimetype": "text/x-python",
   "name": "python",
   "nbconvert_exporter": "python",
   "pygments_lexer": "ipython3",
   "version": "3.9.12"
  }
 },
 "nbformat": 4,
 "nbformat_minor": 5
}
