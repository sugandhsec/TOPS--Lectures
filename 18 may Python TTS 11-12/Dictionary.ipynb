{
 "cells": [
  {
   "cell_type": "code",
   "execution_count": null,
   "id": "94707063",
   "metadata": {},
   "outputs": [],
   "source": [
    "# dictionary is acollection of element having key and value pair\n",
    "# dictionary is mutable\n",
    "# dictionary is unordered datatype\n",
    "# dictionary is defined in {}\n",
    "# key caN BE OF immutable datatype only ---- int float string tuple boolean\n",
    "# values can be of any type"
   ]
  },
  {
   "cell_type": "code",
   "execution_count": 2,
   "id": "0a08e4df",
   "metadata": {},
   "outputs": [
    {
     "data": {
      "text/plain": [
       "'Hello'"
      ]
     },
     "execution_count": 2,
     "metadata": {},
     "output_type": "execute_result"
    }
   ],
   "source": [
    "dict1={1:\"Hello\",\"wow\":\"This is python\"}\n",
    "dict1[1]"
   ]
  },
  {
   "cell_type": "code",
   "execution_count": 4,
   "id": "f36b0627",
   "metadata": {},
   "outputs": [],
   "source": [
    "# dictionary methods\n",
    "# dir(dict)"
   ]
  },
  {
   "cell_type": "code",
   "execution_count": 5,
   "id": "a6e26cbd",
   "metadata": {},
   "outputs": [
    {
     "data": {
      "text/plain": [
       "dict_values(['hello', 'This is America', 100])"
      ]
     },
     "execution_count": 5,
     "metadata": {},
     "output_type": "execute_result"
    }
   ],
   "source": [
    "dict1={1:\"hello\",False:\"This is America\",\"learn\":100}\n",
    "# values()----gives all values of dictionary as a list\n",
    "dict1.values()"
   ]
  },
  {
   "cell_type": "code",
   "execution_count": 6,
   "id": "c8b3e468",
   "metadata": {},
   "outputs": [
    {
     "data": {
      "text/plain": [
       "dict_keys([1, False, 'learn'])"
      ]
     },
     "execution_count": 6,
     "metadata": {},
     "output_type": "execute_result"
    }
   ],
   "source": [
    "dict1={1:\"hello\",False:\"This is America\",\"learn\":100}\n",
    "# keys()---it gives all keys as alist\n",
    "dict1.keys()"
   ]
  },
  {
   "cell_type": "code",
   "execution_count": 7,
   "id": "2cf01542",
   "metadata": {},
   "outputs": [
    {
     "data": {
      "text/plain": [
       "dict_items([(1, 'hello'), (False, 'This is America'), ('learn', 100)])"
      ]
     },
     "execution_count": 7,
     "metadata": {},
     "output_type": "execute_result"
    }
   ],
   "source": [
    "# items()----gives list of tuple and every tuple has 2 \n",
    "# eleemnts 1 is key and another is values\n",
    "dict1={1:\"hello\",False:\"This is America\",\"learn\":100}\n",
    "dict1.items()"
   ]
  },
  {
   "cell_type": "code",
   "execution_count": 10,
   "id": "111e8898",
   "metadata": {},
   "outputs": [
    {
     "name": "stdout",
     "output_type": "stream",
     "text": [
      "{1: 'hello', False: 'This is America'}\n"
     ]
    }
   ],
   "source": [
    "# pop(key)---remove particular value of key\n",
    "dict1={1:\"hello\",False:\"This is America\",\"learn\":100}\n",
    "dict1.pop(\"learn\")\n",
    "# dict1.pop()---gives typerror of argument atleast 1\n",
    "print(dict1)"
   ]
  },
  {
   "cell_type": "code",
   "execution_count": 12,
   "id": "8172fd84",
   "metadata": {},
   "outputs": [
    {
     "name": "stdout",
     "output_type": "stream",
     "text": [
      "{1: 'hello', False: 'This is America', 'learn': 100}\n"
     ]
    }
   ],
   "source": [
    "# pop()---remove last key value pair\n",
    "dict1={1:\"hello\",False:\"This is America\",\"learn\":100,56:\"happy birthday\"}\n",
    "dict1.popitem()\n",
    "print(dict1)"
   ]
  },
  {
   "cell_type": "code",
   "execution_count": 19,
   "id": "d229bcc0",
   "metadata": {},
   "outputs": [
    {
     "name": "stdout",
     "output_type": "stream",
     "text": [
      "None\n",
      "{1: 'hello', False: 'This is America', 'learn': 100, 56: 'happy birthday'}\n"
     ]
    }
   ],
   "source": [
    "\n",
    "dict1={1:\"hello\",False:\"This is America\",\"learn\":100,56:\"happy birthday\"}\n",
    "# print(dict1.get(\"learn\"))\n",
    "print(dict1.get(\"rgrggrg\")) #---gives None\n",
    "print(dict1)\n"
   ]
  },
  {
   "cell_type": "code",
   "execution_count": 23,
   "id": "10f4a9cb",
   "metadata": {},
   "outputs": [
    {
     "name": "stdout",
     "output_type": "stream",
     "text": [
      "This is what\n",
      "{1: 'hello', False: 'This is America', 'learn': 100, 56: 'happy birthday', 'ergereg': 'This is what'}\n"
     ]
    }
   ],
   "source": [
    "dict1={1:\"hello\",False:\"This is America\",\"learn\":100,56:\"happy birthday\"}\n",
    "print(dict1.setdefault(\"ergereg\",\"This is what\"))\n",
    "print(dict1)"
   ]
  },
  {
   "cell_type": "code",
   "execution_count": 24,
   "id": "4ee1482c",
   "metadata": {},
   "outputs": [
    {
     "name": "stdout",
     "output_type": "stream",
     "text": [
      "{1: 'hello', False: 'This is America', 'learn': 100, 56: 'hdjkfher', 29: 'wfwefw'}\n"
     ]
    }
   ],
   "source": [
    "# update(dictionary)--update dictionary\n",
    "dict1={1:\"hello\",False:\"This is America\",\"learn\":100,56:\"happy birthday\"}\n",
    "dict1.update({56:\"hdjkfher\",29:\"wfwefw\"})\n",
    "print(dict1)"
   ]
  },
  {
   "cell_type": "code",
   "execution_count": 26,
   "id": "59612e3d",
   "metadata": {},
   "outputs": [
    {
     "name": "stdout",
     "output_type": "stream",
     "text": [
      "{1: [78, 85, 96, 54, 7], 2: [78, 85, 96, 54, 7], 3: [78, 85, 96, 54, 7], 5: [78, 85, 96, 54, 7], 8: [78, 85, 96, 54, 7], 9: [78, 85, 96, 54, 7]}\n"
     ]
    }
   ],
   "source": [
    "# formkeys()\n",
    "x=[1,2,3,5,8,9]\n",
    "y=[78,85,96,54,7]\n",
    "dict1=dict.fromkeys(x,y)\n",
    "print(dict1)"
   ]
  },
  {
   "cell_type": "code",
   "execution_count": 27,
   "id": "d3e3b981",
   "metadata": {},
   "outputs": [
    {
     "name": "stdout",
     "output_type": "stream",
     "text": [
      "{1: 'parrot', 2: 'World'}\n"
     ]
    }
   ],
   "source": [
    "dict1={1:\"Hello\",2:\"World\",1:\"parrot\"}\n",
    "print(dict1)"
   ]
  },
  {
   "cell_type": "code",
   "execution_count": null,
   "id": "f2497929",
   "metadata": {},
   "outputs": [],
   "source": [
    "{101:{\"Name\":\"Sugandh gupta\",\"age\":89,\"marks\":(45,63,25,48).\"total\"},\n",
    " 102:{\"Name\":\"Sugandh gupta\",\"age\":89,\"marks\":(45,63,25,48)}}"
   ]
  }
 ],
 "metadata": {
  "kernelspec": {
   "display_name": "Python 3 (ipykernel)",
   "language": "python",
   "name": "python3"
  },
  "language_info": {
   "codemirror_mode": {
    "name": "ipython",
    "version": 3
   },
   "file_extension": ".py",
   "mimetype": "text/x-python",
   "name": "python",
   "nbconvert_exporter": "python",
   "pygments_lexer": "ipython3",
   "version": "3.9.12"
  }
 },
 "nbformat": 4,
 "nbformat_minor": 5
}
