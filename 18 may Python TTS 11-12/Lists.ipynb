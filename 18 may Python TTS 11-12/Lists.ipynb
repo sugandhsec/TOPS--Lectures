{
 "cells": [
  {
   "cell_type": "code",
   "execution_count": null,
   "id": "f716fb03",
   "metadata": {},
   "outputs": [],
   "source": [
    "# list is a collection of elements of similar or different datatype\n",
    "# list is ordered datatype beacuse of index number\n",
    "# list is mutable changes allowed\n",
    "# list allows duplicates beacuse of index number identifies uniquely\n",
    "list is defined in [ ]\n",
    "# elements are separated bt comma(,)"
   ]
  },
  {
   "cell_type": "code",
   "execution_count": 3,
   "id": "c838098a",
   "metadata": {},
   "outputs": [
    {
     "name": "stdout",
     "output_type": "stream",
     "text": [
      "[2569, 45.23, True, 'Hello World', [45, 36, 52], (47, 85), {36, 45}, {1: 'value', 56: 'your'}]\n",
      "Hello World\n",
      "[[45, 36, 52], (47, 85), {36, 45}]\n"
     ]
    }
   ],
   "source": [
    "list1=[2569,45.23,True,\"Hello World\",[45,36,52],(47,85),{45,36},{1:\"value\",56:\"your\"}]\n",
    "print(list1)\n",
    "print(list1[3])\n",
    "print(list1[4:7])"
   ]
  },
  {
   "cell_type": "code",
   "execution_count": 4,
   "id": "0745bac6",
   "metadata": {},
   "outputs": [
    {
     "ename": "TypeError",
     "evalue": "'str' object does not support item assignment",
     "output_type": "error",
     "traceback": [
      "\u001b[1;31m---------------------------------------------------------------------------\u001b[0m",
      "\u001b[1;31mTypeError\u001b[0m                                 Traceback (most recent call last)",
      "Input \u001b[1;32mIn [4]\u001b[0m, in \u001b[0;36m<cell line: 2>\u001b[1;34m()\u001b[0m\n\u001b[0;32m      1\u001b[0m str1\u001b[38;5;241m=\u001b[39m\u001b[38;5;124m\"\u001b[39m\u001b[38;5;124mhello\u001b[39m\u001b[38;5;124m\"\u001b[39m\n\u001b[1;32m----> 2\u001b[0m str1[\u001b[38;5;241m3\u001b[39m]\u001b[38;5;241m=\u001b[39m\u001b[38;5;124m\"\u001b[39m\u001b[38;5;124mp\u001b[39m\u001b[38;5;124m\"\u001b[39m\n",
      "\u001b[1;31mTypeError\u001b[0m: 'str' object does not support item assignment"
     ]
    }
   ],
   "source": [
    "str1=\"hello\"\n",
    "str1[3]=\"p\""
   ]
  },
  {
   "cell_type": "code",
   "execution_count": 5,
   "id": "81533bd2",
   "metadata": {},
   "outputs": [
    {
     "name": "stdout",
     "output_type": "stream",
     "text": [
      "[45, 36, 52, 145, 'python ki dunia', 75]\n"
     ]
    }
   ],
   "source": [
    "list1=[45,36,52,145,8,75]\n",
    "list1[4]=\"python ki dunia\"\n",
    "print(list1)"
   ]
  },
  {
   "cell_type": "code",
   "execution_count": 6,
   "id": "c2711ec8",
   "metadata": {},
   "outputs": [
    {
     "name": "stdout",
     "output_type": "stream",
     "text": [
      "[45, 36, 45, 36, 75]\n"
     ]
    }
   ],
   "source": [
    "list1=[45,36,52,145,8,75]\n",
    "list1[2:5]=[45,36]\n",
    "print(list1)"
   ]
  },
  {
   "cell_type": "code",
   "execution_count": null,
   "id": "c237aa20",
   "metadata": {},
   "outputs": [],
   "source": [
    "# list functions\n",
    "len\n",
    "min\n",
    "max\n",
    "list"
   ]
  },
  {
   "cell_type": "code",
   "execution_count": 7,
   "id": "0d562d98",
   "metadata": {},
   "outputs": [
    {
     "name": "stdout",
     "output_type": "stream",
     "text": [
      "11\n"
     ]
    }
   ],
   "source": [
    "# len\n",
    "list1=[45,65,87,45,21,21,24,54,5469,89,56]\n",
    "a=len(list1)\n",
    "print(a)"
   ]
  },
  {
   "cell_type": "code",
   "execution_count": 10,
   "id": "8eefac2d",
   "metadata": {},
   "outputs": [
    {
     "name": "stdout",
     "output_type": "stream",
     "text": [
      "2\n",
      "Great\n"
     ]
    }
   ],
   "source": [
    "# min\n",
    "list1=[45,36,2,14,58,79,65,84,569]\n",
    "print(min(list1))\n",
    "list2=[\"hello\",\"Wow\",\"Great\",\"apple\",\"Zebra\"]\n",
    "print(min(list2))"
   ]
  },
  {
   "cell_type": "code",
   "execution_count": 11,
   "id": "936ba0ac",
   "metadata": {},
   "outputs": [
    {
     "name": "stdout",
     "output_type": "stream",
     "text": [
      "569\n",
      "hello\n"
     ]
    }
   ],
   "source": [
    "# max\n",
    "list1=[45,36,2,14,58,79,65,84,569]\n",
    "print(max(list1))\n",
    "list2=[\"hello\",\"Wow\",\"Great\",\"apple\",\"Zebra\"]\n",
    "print(max(list2))"
   ]
  },
  {
   "cell_type": "code",
   "execution_count": 13,
   "id": "04c68686",
   "metadata": {},
   "outputs": [
    {
     "ename": "TypeError",
     "evalue": "'>' not supported between instances of 'str' and 'int'",
     "output_type": "error",
     "traceback": [
      "\u001b[1;31m---------------------------------------------------------------------------\u001b[0m",
      "\u001b[1;31mTypeError\u001b[0m                                 Traceback (most recent call last)",
      "Input \u001b[1;32mIn [13]\u001b[0m, in \u001b[0;36m<cell line: 3>\u001b[1;34m()\u001b[0m\n\u001b[0;32m      1\u001b[0m list1\u001b[38;5;241m=\u001b[39m[\u001b[38;5;241m45\u001b[39m,\u001b[38;5;241m65\u001b[39m,\u001b[38;5;241m23\u001b[39m,\u001b[38;5;124m\"\u001b[39m\u001b[38;5;124mHello\u001b[39m\u001b[38;5;124m\"\u001b[39m,\u001b[38;5;124m\"\u001b[39m\u001b[38;5;124mdemo\u001b[39m\u001b[38;5;124m\"\u001b[39m,\u001b[38;5;124m\"\u001b[39m\u001b[38;5;124mGreat\u001b[39m\u001b[38;5;124m\"\u001b[39m,\u001b[38;5;241m45\u001b[39m,\u001b[38;5;241m89\u001b[39m]\n\u001b[0;32m      2\u001b[0m \u001b[38;5;66;03m# print(min(list1))\u001b[39;00m\n\u001b[1;32m----> 3\u001b[0m \u001b[38;5;28mprint\u001b[39m(\u001b[38;5;28;43mmax\u001b[39;49m\u001b[43m(\u001b[49m\u001b[43mlist1\u001b[49m\u001b[43m)\u001b[49m)\n",
      "\u001b[1;31mTypeError\u001b[0m: '>' not supported between instances of 'str' and 'int'"
     ]
    }
   ],
   "source": [
    "list1=[45,65,23,\"Hello\",\"demo\",\"Great\",45,89]\n",
    "# print(min(list1))\n",
    "# print(max(list1))"
   ]
  },
  {
   "cell_type": "code",
   "execution_count": 19,
   "id": "f3fa2d25",
   "metadata": {},
   "outputs": [
    {
     "name": "stdout",
     "output_type": "stream",
     "text": [
      "['h', 'e', 'l', 'l', 'o', ' ', 'w', 'o', 'l', 'r', 'd']\n",
      "[45, 51, 57, 63]\n",
      "[45, 69, 85, 47, 85, 4]\n",
      "[65, 8, 89, 45, 47]\n",
      "[1, 'python']\n"
     ]
    }
   ],
   "source": [
    "# list\n",
    "list1=list(\"hello wolrd\")\n",
    "print(list1)\n",
    "list1=list(range(45,69,6))\n",
    "print(list1)\n",
    "list1=list((45,69,85,47,85,4))\n",
    "print(list1)\n",
    "list1=list({45,65,89,65,47,8})\n",
    "print(list1)\n",
    "list1=list({1:\"great\",\"python\":45})\n",
    "print(list1)"
   ]
  },
  {
   "cell_type": "code",
   "execution_count": null,
   "id": "ec8bc97c",
   "metadata": {},
   "outputs": [],
   "source": [
    "# list methods\n",
    "\n",
    "# add values\n",
    "append()\n",
    "extend()\n",
    "insert()\n",
    "\n",
    "# remove values\n",
    "pop()\n",
    "remove()\n",
    "\n",
    "# list additional task\n",
    "index()\n",
    "count()\n",
    "\n",
    "# other methods\n",
    "sort()\n",
    "reverse()\n",
    "copy()\n",
    "clear()"
   ]
  },
  {
   "cell_type": "code",
   "execution_count": 20,
   "id": "722bb2d2",
   "metadata": {},
   "outputs": [
    {
     "data": {
      "text/plain": [
       "['__add__',\n",
       " '__class__',\n",
       " '__class_getitem__',\n",
       " '__contains__',\n",
       " '__delattr__',\n",
       " '__delitem__',\n",
       " '__dir__',\n",
       " '__doc__',\n",
       " '__eq__',\n",
       " '__format__',\n",
       " '__ge__',\n",
       " '__getattribute__',\n",
       " '__getitem__',\n",
       " '__gt__',\n",
       " '__hash__',\n",
       " '__iadd__',\n",
       " '__imul__',\n",
       " '__init__',\n",
       " '__init_subclass__',\n",
       " '__iter__',\n",
       " '__le__',\n",
       " '__len__',\n",
       " '__lt__',\n",
       " '__mul__',\n",
       " '__ne__',\n",
       " '__new__',\n",
       " '__reduce__',\n",
       " '__reduce_ex__',\n",
       " '__repr__',\n",
       " '__reversed__',\n",
       " '__rmul__',\n",
       " '__setattr__',\n",
       " '__setitem__',\n",
       " '__sizeof__',\n",
       " '__str__',\n",
       " '__subclasshook__',\n",
       " 'append',\n",
       " 'clear',\n",
       " 'copy',\n",
       " 'count',\n",
       " 'extend',\n",
       " 'index',\n",
       " 'insert',\n",
       " 'pop',\n",
       " 'remove',\n",
       " 'reverse',\n",
       " 'sort']"
      ]
     },
     "execution_count": 20,
     "metadata": {},
     "output_type": "execute_result"
    }
   ],
   "source": [
    "dir(list)"
   ]
  }
 ],
 "metadata": {
  "kernelspec": {
   "display_name": "Python 3 (ipykernel)",
   "language": "python",
   "name": "python3"
  },
  "language_info": {
   "codemirror_mode": {
    "name": "ipython",
    "version": 3
   },
   "file_extension": ".py",
   "mimetype": "text/x-python",
   "name": "python",
   "nbconvert_exporter": "python",
   "pygments_lexer": "ipython3",
   "version": "3.9.12"
  }
 },
 "nbformat": 4,
 "nbformat_minor": 5
}
