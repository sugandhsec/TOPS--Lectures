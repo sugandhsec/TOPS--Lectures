{
 "cells": [
  {
   "cell_type": "code",
   "execution_count": 8,
   "id": "b76e14c0",
   "metadata": {},
   "outputs": [
    {
     "name": "stdout",
     "output_type": "stream",
     "text": [
      "good morning Ravi\n",
      "good morning Ravi\n",
      "good morning Ravi\n",
      "good morning Ravi\n",
      "good morning Ravi\n",
      "good morning Ravi\n"
     ]
    }
   ],
   "source": [
    "# Variable is a memory storage in which we store values\n",
    "print(\"good morning Ravi\")\n",
    "print(\"good morning Ravi\")\n",
    "print(\"good morning Ravi\")\n",
    "print(\"good morning Ravi\")\n",
    "print(\"good morning Ravi\")\n",
    "print(\"good morning Ravi\")"
   ]
  },
  {
   "cell_type": "code",
   "execution_count": null,
   "id": "f74dc455",
   "metadata": {},
   "outputs": [],
   "source": [
    "# variables declaration\n",
    "variablename=value\n",
    "# rules for variablename  age\n",
    "1- a-z A-Z _ first character sdhould be\n",
    "2--remaining character a-z A-Z _ 0-9\n",
    "full_name\n",
    "\n",
    "# suggestion\n",
    "create a logical variablename\n",
    "never use sapce as it is not allowed\n",
    "not exceed length greater than 255 character"
   ]
  },
  {
   "cell_type": "code",
   "execution_count": 15,
   "id": "fa0efee7",
   "metadata": {},
   "outputs": [
    {
     "name": "stdout",
     "output_type": "stream",
     "text": [
      "print your age is 986 and your age is 986\n",
      "print your age is 986 and your age is 986\n",
      "print your age is 986 and your age is 986\n",
      "print your age is 986 and your age is 986\n",
      "print your age is 986 and your age is 986\n"
     ]
    }
   ],
   "source": [
    "age=986\n",
    "print(f\"print your age is {age} and your age is {age}\")\n",
    "print(f\"print your age is {age} and your age is {age}\") #formatted string\n",
    "print(f\"print your age is {age} and your age is {age}\") #formatted string\n",
    "print(f\"print your age is {age} and your age is {age}\") #formatted string\n",
    "print(f\"print your age is {age} and your age is {age}\") #formatted string#formatted string"
   ]
  },
  {
   "cell_type": "code",
   "execution_count": 18,
   "id": "ba0b5f5d",
   "metadata": {},
   "outputs": [
    {
     "data": {
      "text/plain": [
       "str"
      ]
     },
     "execution_count": 18,
     "metadata": {},
     "output_type": "execute_result"
    }
   ],
   "source": [
    "name=\"egrhg\"\n",
    "# print(f\"good Morning {name}\")\n",
    "# type()\n",
    "type(name)"
   ]
  },
  {
   "cell_type": "code",
   "execution_count": null,
   "id": "5ff89e07",
   "metadata": {},
   "outputs": [],
   "source": [
    "int  89 65 23 21 45 -89 -8 4 -65\n",
    "float 89.32 65 32.25 .36 -89.32 -89.01\n",
    "boolean bool True False \"True\"\n",
    "string str '' \" \" ''' ''' \"\"\"  \"\"\"\n",
    "list=[45,23.36,\"Ergrt\"]\n",
    "tuple=(45,23.36,\"Ergrt\")\n",
    "set={45,36,58,789}\n",
    "dictionary dict={1:\"hweruf\",54:\"werfhbwrjf\",\"Egert\":485}"
   ]
  },
  {
   "cell_type": "code",
   "execution_count": 21,
   "id": "e050c49f",
   "metadata": {},
   "outputs": [
    {
     "name": "stdout",
     "output_type": "stream",
     "text": [
      "Enter Something 8965\n",
      "Value of a is 8965\n"
     ]
    }
   ],
   "source": [
    "# input()\n",
    "a=input(\"Enter Something \")\n",
    "print(f\"Value of a is {a}\")"
   ]
  },
  {
   "cell_type": "code",
   "execution_count": 29,
   "id": "39134968",
   "metadata": {},
   "outputs": [
    {
     "name": "stdout",
     "output_type": "stream",
     "text": [
      "<class 'str'>\n"
     ]
    }
   ],
   "source": [
    "a=89\n",
    "b=str(a)\n",
    "print(type(b))\n",
    "\n",
    "datatypename(variable)\n",
    "float(c)"
   ]
  },
  {
   "cell_type": "code",
   "execution_count": 42,
   "id": "461a9e71",
   "metadata": {},
   "outputs": [
    {
     "name": "stdout",
     "output_type": "stream",
     "text": [
      "Enter Something0\n",
      "<class 'bool'>\n",
      "True\n"
     ]
    }
   ],
   "source": [
    "a=bool(input(\"Enter Something\"))\n",
    "print(type(a))\n",
    "print(a)"
   ]
  },
  {
   "cell_type": "code",
   "execution_count": 44,
   "id": "4b168645",
   "metadata": {},
   "outputs": [
    {
     "name": "stdout",
     "output_type": "stream",
     "text": [
      "False\n"
     ]
    }
   ],
   "source": [
    "a=0\n",
    "b=bool(a)\n",
    "print(b)"
   ]
  },
  {
   "cell_type": "code",
   "execution_count": 46,
   "id": "6f6d5c4e",
   "metadata": {},
   "outputs": [
    {
     "name": "stdout",
     "output_type": "stream",
     "text": [
      "Enter Name: Sachin\n",
      "Enter Age: 48\n",
      "Enter Mobile Number: 78964\n",
      "Name\t:\tSachin\n",
      "age\t:\t48\n",
      "Mobile\t:\t78964\n"
     ]
    }
   ],
   "source": [
    "name=input(\"Enter Name: \")\n",
    "age=int(input(\"Enter Age: \"))\n",
    "Mobile=input(\"Enter Mobile Number: \")\n",
    "print(f\"Name\\t:\\t{name}\\nage\\t:\\t{age}\\nMobile\\t:\\t{Mobile}\")"
   ]
  },
  {
   "cell_type": "code",
   "execution_count": null,
   "id": "13c5a788",
   "metadata": {},
   "outputs": [],
   "source": [
    "# Operator\n",
    "variable or value \n",
    "89+36  \n",
    "+ is operator\n",
    "operands"
   ]
  },
  {
   "cell_type": "code",
   "execution_count": 47,
   "id": "88ba727a",
   "metadata": {},
   "outputs": [
    {
     "data": {
      "text/plain": [
       "125"
      ]
     },
     "execution_count": 47,
     "metadata": {},
     "output_type": "execute_result"
    }
   ],
   "source": [
    "a=89\n",
    "b=36\n",
    "a+b\n"
   ]
  },
  {
   "cell_type": "code",
   "execution_count": null,
   "id": "175b5720",
   "metadata": {},
   "outputs": [],
   "source": [
    "89>25  25==45\n",
    "Arithmetic operator + - * / %(Modulus) **(power) //(floor division)\n",
    "Relational operator > < >= <= == !=\n",
    "Logical Operator logical and (and) Logicla OR(or) Logical Not(not)\n",
    "assignement operator = += -= *= /= **= //.......\n",
    "bitwise operator bitwise and(&) bitwise or(|) bitwise left shift(<<) \n",
    "bitwise right shift(>>) bitwise exclusive Or XOR(^)\n",
    "Membership Operator  in  ,not in\n",
    "Identity Operator is ,is not"
   ]
  }
 ],
 "metadata": {
  "kernelspec": {
   "display_name": "Python 3 (ipykernel)",
   "language": "python",
   "name": "python3"
  },
  "language_info": {
   "codemirror_mode": {
    "name": "ipython",
    "version": 3
   },
   "file_extension": ".py",
   "mimetype": "text/x-python",
   "name": "python",
   "nbconvert_exporter": "python",
   "pygments_lexer": "ipython3",
   "version": "3.9.12"
  }
 },
 "nbformat": 4,
 "nbformat_minor": 5
}
