{
 "cells": [
  {
   "cell_type": "code",
   "execution_count": 1,
   "id": "725e4900",
   "metadata": {},
   "outputs": [
    {
     "name": "stdout",
     "output_type": "stream",
     "text": [
      "1\n",
      "2\n",
      "3\n",
      "4\n",
      "5\n",
      "6\n",
      "7\n",
      "8\n",
      "9\n",
      "10\n"
     ]
    }
   ],
   "source": [
    "print(\"1\")\n",
    "print(\"2\")\n",
    "print(\"3\")\n",
    "print(\"4\")\n",
    "print(\"5\")\n",
    "\n",
    "print(\"6\")\n",
    "print(\"7\")\n",
    "print(\"8\")\n",
    "print(\"9\")\n",
    "print(\"10\")"
   ]
  },
  {
   "cell_type": "code",
   "execution_count": null,
   "id": "3b29ba76",
   "metadata": {},
   "outputs": [],
   "source": [
    "# simple if \n",
    "# if --else\n",
    "# if...elif...elif...elif..........else   ladder if else\n",
    "# Nested If else"
   ]
  },
  {
   "cell_type": "code",
   "execution_count": null,
   "id": "20acc24f",
   "metadata": {},
   "outputs": [],
   "source": [
    "if condition:\n",
    "    rthrth\n",
    "    rthrthrt\n",
    "    rthrthrth\n",
    "    rthrth\n",
    "yjhytjtyj\n",
    "ytjytj\n"
   ]
  },
  {
   "cell_type": "code",
   "execution_count": 7,
   "id": "896bc4e7",
   "metadata": {},
   "outputs": [
    {
     "name": "stdout",
     "output_type": "stream",
     "text": [
      "Enter Age: 12\n",
      "this is Compulsory\n"
     ]
    }
   ],
   "source": [
    "age=int(input(\"Enter Age: \"))\n",
    "if age>18:\n",
    "    print(\"Adult\")\n",
    "    print(\"rthrth\")\n",
    "    print(\"rthrth\")    \n",
    "    print(\"rthrth\")    \n",
    "    print(\"rthrth\")    \n",
    "    print(\"rthrth\")   \n",
    "print(\"this is Compulsory\")"
   ]
  },
  {
   "cell_type": "code",
   "execution_count": 9,
   "id": "690b6084",
   "metadata": {},
   "outputs": [
    {
     "name": "stdout",
     "output_type": "stream",
     "text": [
      "Enter Gae: 10\n",
      "Not Adult\n"
     ]
    }
   ],
   "source": [
    "age=int(input(\"Enter Gae: \"))\n",
    "if age>18:\n",
    "    print(\"Adult\")\n",
    "else:\n",
    "    print(\"Not Adult\")"
   ]
  },
  {
   "cell_type": "code",
   "execution_count": null,
   "id": "c7cb6905",
   "metadata": {},
   "outputs": [],
   "source": [
    "# ladder if else\n",
    "if condition:\n",
    "    ye wla apart run hoga\n",
    "elif condition2:\n",
    "    ye condition2 wale part hai\n",
    "elif condition3:\n",
    "    ye wala condition3 ka hai\n",
    "else:\n",
    "    this run when not a single condition is true"
   ]
  },
  {
   "cell_type": "code",
   "execution_count": 13,
   "id": "7b04c484",
   "metadata": {},
   "outputs": [
    {
     "name": "stdout",
     "output_type": "stream",
     "text": [
      "Enter Marks1: 478\n",
      "Enter Marks2: 652\n",
      "Enter Marks3: 325\n",
      "Enter Marks4: 6543\n",
      "7998\n",
      "1999.5\n",
      "Wrong marks enetered\n"
     ]
    }
   ],
   "source": [
    "maths=int(input(\"Enter Marks1: \"))\n",
    "science=int(input(\"Enter Marks2: \"))\n",
    "social=int(input(\"Enter Marks3: \"))\n",
    "physics=int(input(\"Enter Marks4: \"))\n",
    "total=maths+science+social+physics\n",
    "print(total)\n",
    "percent=(total/4)\n",
    "print(percent)\n",
    "if percent>0 and percent<33:\n",
    "    print(\"fail\")\n",
    "elif percent>=33 and percent<50:\n",
    "    print(\"D\")\n",
    "elif percent>=50 and percent<70:\n",
    "    print(\"C\")\n",
    "elif percent>=70 and percent<90:\n",
    "    print(\"grade B\")\n",
    "elif percent>=90 and percent<100:\n",
    "    print(\"Grade A\" )\n",
    "else:\n",
    "    print(\"Wrong marks enetered\")"
   ]
  },
  {
   "cell_type": "code",
   "execution_count": 14,
   "id": "5cf87c0a",
   "metadata": {},
   "outputs": [
    {
     "name": "stdout",
     "output_type": "stream",
     "text": [
      "wow\n"
     ]
    }
   ],
   "source": [
    "a=10\n",
    "if a>5:\n",
    "    print(\"wow\")\n",
    "elif a>5:\n",
    "    print(\"great\")\n",
    "elif a>5:\n",
    "    print(\"hello\")\n",
    "else:\n",
    "    print(\"Not good\")\n",
    "    \n",
    "    \n",
    "    "
   ]
  },
  {
   "cell_type": "code",
   "execution_count": 8,
   "id": "d184a5e8",
   "metadata": {},
   "outputs": [
    {
     "name": "stdout",
     "output_type": "stream",
     "text": [
      "Enter number: 0\n",
      "Enter number: 0\n",
      "Enter number: 1\n",
      "1 is greater\n"
     ]
    }
   ],
   "source": [
    "a=int(input(\"Enter number: \"))\n",
    "b=int(input(\"Enter number: \"))\n",
    "c=int(input(\"Enter number: \"))\n",
    "if a>b:\n",
    "    if a>c:\n",
    "        print(f\"{a} is greater\")\n",
    "    else:\n",
    "        print(f\"{b} is greater\")\n",
    "else:\n",
    "    if b>c:\n",
    "        print(f\"{b} is Greater\")\n",
    "    else:\n",
    "        print(f\"{c} is greater\")"
   ]
  }
 ],
 "metadata": {
  "kernelspec": {
   "display_name": "Python 3 (ipykernel)",
   "language": "python",
   "name": "python3"
  },
  "language_info": {
   "codemirror_mode": {
    "name": "ipython",
    "version": 3
   },
   "file_extension": ".py",
   "mimetype": "text/x-python",
   "name": "python",
   "nbconvert_exporter": "python",
   "pygments_lexer": "ipython3",
   "version": "3.9.12"
  }
 },
 "nbformat": 4,
 "nbformat_minor": 5
}
