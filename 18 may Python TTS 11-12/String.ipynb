{
 "cells": [
  {
   "cell_type": "code",
   "execution_count": null,
   "id": "93fb1e5a",
   "metadata": {},
   "outputs": [],
   "source": [
    "# string\n",
    "# string is a collection of characters or also a single character or also a empty string\n",
    "# string is ordered datatype or collection\n",
    "# string is immutable--changes not allowed\n",
    "# string is defined in '' \"\" ''' ''' \"\"\" \"\"\""
   ]
  },
  {
   "cell_type": "code",
   "execution_count": 4,
   "id": "cf2d5d1f",
   "metadata": {},
   "outputs": [
    {
     "name": "stdout",
     "output_type": "stream",
     "text": [
      "hello Wolerd\n",
      "r\n"
     ]
    },
    {
     "ename": "TypeError",
     "evalue": "'str' object does not support item assignment",
     "output_type": "error",
     "traceback": [
      "\u001b[1;31m---------------------------------------------------------------------------\u001b[0m",
      "\u001b[1;31mTypeError\u001b[0m                                 Traceback (most recent call last)",
      "Input \u001b[1;32mIn [4]\u001b[0m, in \u001b[0;36m<cell line: 5>\u001b[1;34m()\u001b[0m\n\u001b[0;32m      3\u001b[0m str1\u001b[38;5;241m=\u001b[39m\u001b[38;5;124m\"\u001b[39m\u001b[38;5;124mgreat\u001b[39m\u001b[38;5;124m\"\u001b[39m\n\u001b[0;32m      4\u001b[0m \u001b[38;5;28mprint\u001b[39m(str1[\u001b[38;5;241m1\u001b[39m])\n\u001b[1;32m----> 5\u001b[0m str1[\u001b[38;5;241m1\u001b[39m]\u001b[38;5;241m=\u001b[39m\u001b[38;5;124m\"\u001b[39m\u001b[38;5;124mp\u001b[39m\u001b[38;5;124m\"\u001b[39m\n",
      "\u001b[1;31mTypeError\u001b[0m: 'str' object does not support item assignment"
     ]
    }
   ],
   "source": [
    "str1=\"hello Wolerd\"\n",
    "print(str1)\n",
    "str1=\"great\"\n",
    "print(str1[1])\n",
    "str1[1]=\"p\""
   ]
  },
  {
   "cell_type": "code",
   "execution_count": 17,
   "id": "6840a2a0",
   "metadata": {},
   "outputs": [
    {
     "name": "stdout",
     "output_type": "stream",
     "text": [
      "this is my learning of python in tops TECHNOLOGIES\n",
      "m\n",
      "m erig\n",
      "tops\n",
      "my learning of python in tops TECHNOLOGIES\n",
      "HCET spot ni nohtyp fo gninrael ym si siht\n"
     ]
    }
   ],
   "source": [
    "# string accessing or slicing\n",
    "str1=\"this is my learning of python in tops TECHNOLOGIES\"\n",
    "print(str1)\n",
    "print(str1[8])\n",
    "print(str1[8:19:2])\n",
    "print(str1[-17:-13])\n",
    "print(str1[8:])\n",
    "print(str1[-9::-1])"
   ]
  },
  {
   "cell_type": "code",
   "execution_count": 18,
   "id": "48e54ce7",
   "metadata": {},
   "outputs": [
    {
     "name": "stdout",
     "output_type": "stream",
     "text": [
      "helloworld\n"
     ]
    }
   ],
   "source": [
    "str1=\"hello\"\n",
    "str2=\"world\"\n",
    "print(str1+str2) #concatenation"
   ]
  },
  {
   "cell_type": "code",
   "execution_count": 19,
   "id": "02a19283",
   "metadata": {},
   "outputs": [
    {
     "name": "stdout",
     "output_type": "stream",
     "text": [
      "ramramramramramramramramramramramramramramramramramramramramramramramramramramramramramramramramramramramramramramramramramramramramramramramramramramramramramramramramramramramramramramramramramramramramramramramramramramramramramramramramramramramramramramramramramramramramramramramramramramramramramramramramramramramram\n"
     ]
    }
   ],
   "source": [
    "str1=\"ram\"\n",
    "print(str1*108)"
   ]
  },
  {
   "cell_type": "code",
   "execution_count": 21,
   "id": "4fb3e130",
   "metadata": {},
   "outputs": [
    {
     "name": "stdout",
     "output_type": "stream",
     "text": [
      "31\n"
     ]
    }
   ],
   "source": [
    "# string functions\n",
    "# len min max str\n",
    "functionname(string)\n",
    "str1=\"erfjnhgjkrthvm erjkhtb f vjervb\"\n",
    "a=len(str1)\n",
    "print(a)"
   ]
  },
  {
   "cell_type": "code",
   "execution_count": 35,
   "id": "237290c1",
   "metadata": {},
   "outputs": [
    {
     "name": "stdout",
     "output_type": "stream",
     "text": [
      "0\n",
      "t\n"
     ]
    }
   ],
   "source": [
    "str1=\"ergeargrhrthrthrth78548021455HJAHEDKH\"\n",
    "b=min(str1)\n",
    "c=max(str1)\n",
    "print(b)\n",
    "print(c)"
   ]
  },
  {
   "cell_type": "code",
   "execution_count": 40,
   "id": "65d46372",
   "metadata": {},
   "outputs": [
    {
     "name": "stdout",
     "output_type": "stream",
     "text": [
      " your coverted value is range(1, 20)\n",
      "<class 'str'>\n"
     ]
    }
   ],
   "source": [
    "a=range(1,20)\n",
    "str1=str(a)\n",
    "print(f\" your coverted value is {str1}\")\n",
    "print(type(str1))"
   ]
  },
  {
   "cell_type": "code",
   "execution_count": 67,
   "id": "0c32c6c8",
   "metadata": {},
   "outputs": [],
   "source": [
    "# String methods\n",
    "# string.methodname([parameters])\n",
    "# string methods never change the string all changes applied to copy of string\n",
    "# dir(str)"
   ]
  },
  {
   "cell_type": "code",
   "execution_count": 45,
   "id": "91cbde25",
   "metadata": {},
   "outputs": [
    {
     "name": "stdout",
     "output_type": "stream",
     "text": [
      "Eirjhjkehkjgub erhget jhekgubhfujherg jkutghtj\n",
      "eirjhjkehkjgub erhget jhekgubHFUJHERg jkutghtj\n"
     ]
    }
   ],
   "source": [
    "# capitalize()---uppercase the first letter of string and \n",
    "# lowercase remaining letters\n",
    "str1=\"eirjhjkehkjgub erhget jhekgubHFUJHERg jkutghtj\"\n",
    "a=str1.capitalize() \n",
    "print(a)\n",
    "print(str1)"
   ]
  },
  {
   "cell_type": "code",
   "execution_count": 48,
   "id": "c71c42e8",
   "metadata": {},
   "outputs": [
    {
     "name": "stdout",
     "output_type": "stream",
     "text": [
      "erjgir jkthgjkrt HIFUEHGF rhbrt LGFkbjt kJKLgjhlrtf\n",
      "Erjgir Jkthgjkrt Hifuehgf Rhbrt Lgfkbjt Kjklgjhlrtf\n"
     ]
    }
   ],
   "source": [
    "# title()---uppercase the first letter of every word of string and remianing\n",
    "# letters of words in lowercase\n",
    "str2=\"erjgir jkthgjkrt HIFUEHGF rhbrt LGFkbjt kJKLgjhlrtf\"\n",
    "print(str2)\n",
    "a=str2.title()\n",
    "print(a)"
   ]
  },
  {
   "cell_type": "code",
   "execution_count": 51,
   "id": "d6691adb",
   "metadata": {},
   "outputs": [
    {
     "data": {
      "text/plain": [
       "'jhfjks jfvjk  jhsjkrf ß dkvrf jklfrvbhnfkjkdkgvfjr'"
      ]
     },
     "execution_count": 51,
     "metadata": {},
     "output_type": "execute_result"
    }
   ],
   "source": [
    "# lower()--converts all characters in lowercase\n",
    "str1=\"JHFJKS JFVJK  JHSJKRF ß dkvrf jklfrvbhnfkjKDKGVFJR\"\n",
    "str1.lower()"
   ]
  },
  {
   "cell_type": "code",
   "execution_count": 52,
   "id": "bb4242fb",
   "metadata": {},
   "outputs": [
    {
     "data": {
      "text/plain": [
       "'jhfjks jfvjk  jhsjkrfd ss kvrf jklfrvbhnfkjkdkgvfjr'"
      ]
     },
     "execution_count": 52,
     "metadata": {},
     "output_type": "execute_result"
    }
   ],
   "source": [
    "# casefold()---converts all characters in lowercase\n",
    "str1=\"JHFJKS JFVJK  JHSJKRFd ß kvrf jklfrvbhnfkjKDKGVFJR\"\n",
    "str1.casefold()"
   ]
  },
  {
   "cell_type": "code",
   "execution_count": 61,
   "id": "7d34fb3f",
   "metadata": {},
   "outputs": [
    {
     "name": "stdout",
     "output_type": "stream",
     "text": [
      "                    hello Moto                    \n",
      "++++++++++++++++++++hello Moto++++++++++++++++++++\n"
     ]
    }
   ],
   "source": [
    "# center(width[,character])--center the string at given width with\n",
    "# character fills both side\n",
    "str1=\"hello Moto\"\n",
    "print(str1.center(50))\n",
    "print(str1.center(50,\"+\"))"
   ]
  },
  {
   "cell_type": "code",
   "execution_count": 65,
   "id": "52be75a9",
   "metadata": {},
   "outputs": [
    {
     "name": "stdout",
     "output_type": "stream",
     "text": [
      "hello Moto                    \n",
      "hello Moto********************\n"
     ]
    }
   ],
   "source": [
    "# ljust(width,character)----left justified the string at given width with\n",
    "# character fills side\n",
    "str1=\"hello Moto\"\n",
    "print(str1.ljust(30))\n",
    "print(str1.ljust(30,\"*\"))"
   ]
  },
  {
   "cell_type": "code",
   "execution_count": 66,
   "id": "05fcefac",
   "metadata": {},
   "outputs": [
    {
     "name": "stdout",
     "output_type": "stream",
     "text": [
      "                    hello Moto\n",
      "********************hello Moto\n"
     ]
    }
   ],
   "source": [
    "# rjust(width,character)----right justified the string at given width with\n",
    "# character fills side\n",
    "str1=\"hello Moto\"\n",
    "print(str1.rjust(30))\n",
    "print(str1.rjust(30,\"*\"))"
   ]
  }
 ],
 "metadata": {
  "kernelspec": {
   "display_name": "Python 3 (ipykernel)",
   "language": "python",
   "name": "python3"
  },
  "language_info": {
   "codemirror_mode": {
    "name": "ipython",
    "version": 3
   },
   "file_extension": ".py",
   "mimetype": "text/x-python",
   "name": "python",
   "nbconvert_exporter": "python",
   "pygments_lexer": "ipython3",
   "version": "3.9.12"
  }
 },
 "nbformat": 4,
 "nbformat_minor": 5
}
